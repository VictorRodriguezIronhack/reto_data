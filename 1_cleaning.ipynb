{
 "cells": [
  {
   "cell_type": "markdown",
   "metadata": {},
   "source": [
    "# Exploring data"
   ]
  },
  {
   "cell_type": "code",
   "execution_count": 1,
   "metadata": {},
   "outputs": [],
   "source": [
    "import pandas as pd"
   ]
  },
  {
   "cell_type": "code",
   "execution_count": 2,
   "metadata": {},
   "outputs": [
    {
     "data": {
      "text/html": [
       "<div>\n",
       "<style scoped>\n",
       "    .dataframe tbody tr th:only-of-type {\n",
       "        vertical-align: middle;\n",
       "    }\n",
       "\n",
       "    .dataframe tbody tr th {\n",
       "        vertical-align: top;\n",
       "    }\n",
       "\n",
       "    .dataframe thead th {\n",
       "        text-align: right;\n",
       "    }\n",
       "</style>\n",
       "<table border=\"1\" class=\"dataframe\">\n",
       "  <thead>\n",
       "    <tr style=\"text-align: right;\">\n",
       "      <th></th>\n",
       "      <th>distance</th>\n",
       "      <th>consume</th>\n",
       "      <th>speed</th>\n",
       "      <th>temp_inside</th>\n",
       "      <th>temp_outside</th>\n",
       "      <th>specials</th>\n",
       "      <th>gas_type</th>\n",
       "      <th>AC</th>\n",
       "      <th>rain</th>\n",
       "      <th>sun</th>\n",
       "      <th>refill liters</th>\n",
       "      <th>refill gas</th>\n",
       "    </tr>\n",
       "  </thead>\n",
       "  <tbody>\n",
       "    <tr>\n",
       "      <th>0</th>\n",
       "      <td>28</td>\n",
       "      <td>5</td>\n",
       "      <td>26</td>\n",
       "      <td>21,5</td>\n",
       "      <td>12</td>\n",
       "      <td>NaN</td>\n",
       "      <td>E10</td>\n",
       "      <td>0</td>\n",
       "      <td>0</td>\n",
       "      <td>0</td>\n",
       "      <td>45</td>\n",
       "      <td>E10</td>\n",
       "    </tr>\n",
       "    <tr>\n",
       "      <th>1</th>\n",
       "      <td>12</td>\n",
       "      <td>4,2</td>\n",
       "      <td>30</td>\n",
       "      <td>21,5</td>\n",
       "      <td>13</td>\n",
       "      <td>NaN</td>\n",
       "      <td>E10</td>\n",
       "      <td>0</td>\n",
       "      <td>0</td>\n",
       "      <td>0</td>\n",
       "      <td>NaN</td>\n",
       "      <td>NaN</td>\n",
       "    </tr>\n",
       "    <tr>\n",
       "      <th>2</th>\n",
       "      <td>11,2</td>\n",
       "      <td>5,5</td>\n",
       "      <td>38</td>\n",
       "      <td>21,5</td>\n",
       "      <td>15</td>\n",
       "      <td>NaN</td>\n",
       "      <td>E10</td>\n",
       "      <td>0</td>\n",
       "      <td>0</td>\n",
       "      <td>0</td>\n",
       "      <td>NaN</td>\n",
       "      <td>NaN</td>\n",
       "    </tr>\n",
       "    <tr>\n",
       "      <th>3</th>\n",
       "      <td>12,9</td>\n",
       "      <td>3,9</td>\n",
       "      <td>36</td>\n",
       "      <td>21,5</td>\n",
       "      <td>14</td>\n",
       "      <td>NaN</td>\n",
       "      <td>E10</td>\n",
       "      <td>0</td>\n",
       "      <td>0</td>\n",
       "      <td>0</td>\n",
       "      <td>NaN</td>\n",
       "      <td>NaN</td>\n",
       "    </tr>\n",
       "    <tr>\n",
       "      <th>4</th>\n",
       "      <td>18,5</td>\n",
       "      <td>4,5</td>\n",
       "      <td>46</td>\n",
       "      <td>21,5</td>\n",
       "      <td>15</td>\n",
       "      <td>NaN</td>\n",
       "      <td>E10</td>\n",
       "      <td>0</td>\n",
       "      <td>0</td>\n",
       "      <td>0</td>\n",
       "      <td>NaN</td>\n",
       "      <td>NaN</td>\n",
       "    </tr>\n",
       "  </tbody>\n",
       "</table>\n",
       "</div>"
      ],
      "text/plain": [
       "  distance consume  speed temp_inside  temp_outside specials gas_type  AC  \\\n",
       "0       28       5     26        21,5            12      NaN      E10   0   \n",
       "1       12     4,2     30        21,5            13      NaN      E10   0   \n",
       "2     11,2     5,5     38        21,5            15      NaN      E10   0   \n",
       "3     12,9     3,9     36        21,5            14      NaN      E10   0   \n",
       "4     18,5     4,5     46        21,5            15      NaN      E10   0   \n",
       "\n",
       "   rain  sun refill liters refill gas  \n",
       "0     0    0            45        E10  \n",
       "1     0    0           NaN        NaN  \n",
       "2     0    0           NaN        NaN  \n",
       "3     0    0           NaN        NaN  \n",
       "4     0    0           NaN        NaN  "
      ]
     },
     "execution_count": 2,
     "metadata": {},
     "output_type": "execute_result"
    }
   ],
   "source": [
    "data1 = pd.read_csv(\"input/measurements.csv\")\n",
    "data1.head()"
   ]
  },
  {
   "cell_type": "code",
   "execution_count": 3,
   "metadata": {},
   "outputs": [
    {
     "data": {
      "text/html": [
       "<div>\n",
       "<style scoped>\n",
       "    .dataframe tbody tr th:only-of-type {\n",
       "        vertical-align: middle;\n",
       "    }\n",
       "\n",
       "    .dataframe tbody tr th {\n",
       "        vertical-align: top;\n",
       "    }\n",
       "\n",
       "    .dataframe thead th {\n",
       "        text-align: right;\n",
       "    }\n",
       "</style>\n",
       "<table border=\"1\" class=\"dataframe\">\n",
       "  <thead>\n",
       "    <tr style=\"text-align: right;\">\n",
       "      <th></th>\n",
       "      <th>distance</th>\n",
       "      <th>consume</th>\n",
       "      <th>speed</th>\n",
       "      <th>temp_inside</th>\n",
       "      <th>temp_outside</th>\n",
       "      <th>specials</th>\n",
       "      <th>gas_type</th>\n",
       "      <th>AC</th>\n",
       "      <th>rain</th>\n",
       "      <th>sun</th>\n",
       "      <th>refill liters</th>\n",
       "      <th>refill gas</th>\n",
       "    </tr>\n",
       "  </thead>\n",
       "  <tbody>\n",
       "    <tr>\n",
       "      <th>0</th>\n",
       "      <td>28.0</td>\n",
       "      <td>5.0</td>\n",
       "      <td>26</td>\n",
       "      <td>21.5</td>\n",
       "      <td>12</td>\n",
       "      <td>NaN</td>\n",
       "      <td>E10</td>\n",
       "      <td>0</td>\n",
       "      <td>0</td>\n",
       "      <td>0</td>\n",
       "      <td>45.0</td>\n",
       "      <td>E10</td>\n",
       "    </tr>\n",
       "    <tr>\n",
       "      <th>1</th>\n",
       "      <td>12.0</td>\n",
       "      <td>4.2</td>\n",
       "      <td>30</td>\n",
       "      <td>21.5</td>\n",
       "      <td>13</td>\n",
       "      <td>NaN</td>\n",
       "      <td>E10</td>\n",
       "      <td>0</td>\n",
       "      <td>0</td>\n",
       "      <td>0</td>\n",
       "      <td>NaN</td>\n",
       "      <td>NaN</td>\n",
       "    </tr>\n",
       "    <tr>\n",
       "      <th>2</th>\n",
       "      <td>11.2</td>\n",
       "      <td>5.5</td>\n",
       "      <td>38</td>\n",
       "      <td>21.5</td>\n",
       "      <td>15</td>\n",
       "      <td>NaN</td>\n",
       "      <td>E10</td>\n",
       "      <td>0</td>\n",
       "      <td>0</td>\n",
       "      <td>0</td>\n",
       "      <td>NaN</td>\n",
       "      <td>NaN</td>\n",
       "    </tr>\n",
       "    <tr>\n",
       "      <th>3</th>\n",
       "      <td>12.9</td>\n",
       "      <td>3.9</td>\n",
       "      <td>36</td>\n",
       "      <td>21.5</td>\n",
       "      <td>14</td>\n",
       "      <td>NaN</td>\n",
       "      <td>E10</td>\n",
       "      <td>0</td>\n",
       "      <td>0</td>\n",
       "      <td>0</td>\n",
       "      <td>NaN</td>\n",
       "      <td>NaN</td>\n",
       "    </tr>\n",
       "    <tr>\n",
       "      <th>4</th>\n",
       "      <td>18.5</td>\n",
       "      <td>4.5</td>\n",
       "      <td>46</td>\n",
       "      <td>21.5</td>\n",
       "      <td>15</td>\n",
       "      <td>NaN</td>\n",
       "      <td>E10</td>\n",
       "      <td>0</td>\n",
       "      <td>0</td>\n",
       "      <td>0</td>\n",
       "      <td>NaN</td>\n",
       "      <td>NaN</td>\n",
       "    </tr>\n",
       "  </tbody>\n",
       "</table>\n",
       "</div>"
      ],
      "text/plain": [
       "   distance  consume  speed  temp_inside  temp_outside specials gas_type  AC  \\\n",
       "0      28.0      5.0     26         21.5            12      NaN      E10   0   \n",
       "1      12.0      4.2     30         21.5            13      NaN      E10   0   \n",
       "2      11.2      5.5     38         21.5            15      NaN      E10   0   \n",
       "3      12.9      3.9     36         21.5            14      NaN      E10   0   \n",
       "4      18.5      4.5     46         21.5            15      NaN      E10   0   \n",
       "\n",
       "   rain  sun  refill liters refill gas  \n",
       "0     0    0           45.0        E10  \n",
       "1     0    0            NaN        NaN  \n",
       "2     0    0            NaN        NaN  \n",
       "3     0    0            NaN        NaN  \n",
       "4     0    0            NaN        NaN  "
      ]
     },
     "execution_count": 3,
     "metadata": {},
     "output_type": "execute_result"
    }
   ],
   "source": [
    "data2 = pd.read_csv(\"input/measurements2.csv\", sep = \";\")\n",
    "data2.head()"
   ]
  },
  {
   "cell_type": "code",
   "execution_count": 4,
   "metadata": {},
   "outputs": [
    {
     "name": "stdout",
     "output_type": "stream",
     "text": [
      "<class 'pandas.core.frame.DataFrame'>\n",
      "RangeIndex: 388 entries, 0 to 387\n",
      "Data columns (total 12 columns):\n",
      " #   Column         Non-Null Count  Dtype \n",
      "---  ------         --------------  ----- \n",
      " 0   distance       388 non-null    object\n",
      " 1   consume        388 non-null    object\n",
      " 2   speed          388 non-null    int64 \n",
      " 3   temp_inside    376 non-null    object\n",
      " 4   temp_outside   388 non-null    int64 \n",
      " 5   specials       93 non-null     object\n",
      " 6   gas_type       388 non-null    object\n",
      " 7   AC             388 non-null    int64 \n",
      " 8   rain           388 non-null    int64 \n",
      " 9   sun            388 non-null    int64 \n",
      " 10  refill liters  13 non-null     object\n",
      " 11  refill gas     13 non-null     object\n",
      "dtypes: int64(5), object(7)\n",
      "memory usage: 25.8+ KB\n",
      "<class 'pandas.core.frame.DataFrame'>\n",
      "RangeIndex: 388 entries, 0 to 387\n",
      "Data columns (total 12 columns):\n",
      " #   Column         Non-Null Count  Dtype  \n",
      "---  ------         --------------  -----  \n",
      " 0   distance       388 non-null    float64\n",
      " 1   consume        388 non-null    float64\n",
      " 2   speed          388 non-null    int64  \n",
      " 3   temp_inside    376 non-null    float64\n",
      " 4   temp_outside   388 non-null    int64  \n",
      " 5   specials       93 non-null     object \n",
      " 6   gas_type       388 non-null    object \n",
      " 7   AC             388 non-null    int64  \n",
      " 8   rain           388 non-null    int64  \n",
      " 9   sun            388 non-null    int64  \n",
      " 10  refill liters  13 non-null     float64\n",
      " 11  refill gas     13 non-null     object \n",
      "dtypes: float64(4), int64(5), object(3)\n",
      "memory usage: 31.9+ KB\n"
     ]
    },
    {
     "data": {
      "text/plain": [
       "(None, None)"
      ]
     },
     "execution_count": 4,
     "metadata": {},
     "output_type": "execute_result"
    }
   ],
   "source": [
    "data1.info(), data2.info()"
   ]
  },
  {
   "cell_type": "markdown",
   "metadata": {},
   "source": [
    "Data 1 and data 2 are the same, however data 2 types are more convenient since they are converted to float and it is easier to operate with them."
   ]
  },
  {
   "cell_type": "code",
   "execution_count": 29,
   "metadata": {},
   "outputs": [],
   "source": [
    "df = pd.read_csv(\"input/measurements2.csv\", sep = \";\")"
   ]
  },
  {
   "cell_type": "markdown",
   "metadata": {},
   "source": [
    " "
   ]
  },
  {
   "cell_type": "markdown",
   "metadata": {},
   "source": [
    " "
   ]
  },
  {
   "cell_type": "markdown",
   "metadata": {},
   "source": [
    " "
   ]
  },
  {
   "cell_type": "markdown",
   "metadata": {},
   "source": [
    "## Null Values"
   ]
  },
  {
   "cell_type": "code",
   "execution_count": 30,
   "metadata": {},
   "outputs": [
    {
     "data": {
      "text/plain": [
       "temp_inside       12\n",
       "specials         295\n",
       "refill liters    375\n",
       "refill gas       375\n",
       "dtype: int64"
      ]
     },
     "execution_count": 30,
     "metadata": {},
     "output_type": "execute_result"
    }
   ],
   "source": [
    "null_cols = df.isnull().sum()\n",
    "null_cols[null_cols > 0]"
   ]
  },
  {
   "cell_type": "markdown",
   "metadata": {},
   "source": [
    "- Refill liters column seems useless but we might add them when enriching the data so, let's set it aside at the moment.\n",
    "- Refill gas column is duplicated since gas_type column contain more detailed information. We can delete it."
   ]
  },
  {
   "cell_type": "code",
   "execution_count": 31,
   "metadata": {},
   "outputs": [],
   "source": [
    "df.drop(columns=['refill gas'], inplace=True)"
   ]
  },
  {
   "cell_type": "markdown",
   "metadata": {},
   "source": [
    " "
   ]
  },
  {
   "cell_type": "markdown",
   "metadata": {},
   "source": [
    " "
   ]
  },
  {
   "cell_type": "markdown",
   "metadata": {},
   "source": [
    " "
   ]
  },
  {
   "cell_type": "markdown",
   "metadata": {},
   "source": [
    "## Standardize data"
   ]
  },
  {
   "cell_type": "markdown",
   "metadata": {},
   "source": [
    "### Specials"
   ]
  },
  {
   "cell_type": "code",
   "execution_count": 33,
   "metadata": {},
   "outputs": [
    {
     "data": {
      "text/plain": [
       "rain                  32\n",
       "sun                   27\n",
       "AC rain                9\n",
       "ac                     8\n",
       "AC                     6\n",
       "snow                   3\n",
       "sun ac                 3\n",
       "ac rain                1\n",
       "AC sun                 1\n",
       "AC snow                1\n",
       "half rain half sun     1\n",
       "AC Sun                 1\n",
       "Name: specials, dtype: int64"
      ]
     },
     "execution_count": 33,
     "metadata": {},
     "output_type": "execute_result"
    }
   ],
   "source": [
    "df.specials.value_counts()"
   ]
  },
  {
   "cell_type": "markdown",
   "metadata": {},
   "source": [
    "**Since there is a speficic column for AC, sun or rain we don't really need to have that data duplicated, however, we will leave it there at the moment**"
   ]
  },
  {
   "cell_type": "code",
   "execution_count": 34,
   "metadata": {},
   "outputs": [],
   "source": [
    "df.specials = df.specials.replace([\"half rain half sun\", \"sun\" ], \"sun\")\n",
    "df.specials = df.specials.replace([\"rain\", \"snow\" ], \"rain\")\n",
    "df.specials = df.specials.replace([\"ac\", \"AC\" ], \"AC\")\n",
    "df.specials = df.specials.replace([\"AC rain\", \"AC snow\",\"ac rain\" ], \"AC and rain\")\n",
    "df.specials = df.specials.replace([\"sun ac\", \"AC sun\",\"AC Sun\" ], \"AC and sun\")"
   ]
  },
  {
   "cell_type": "code",
   "execution_count": 35,
   "metadata": {},
   "outputs": [
    {
     "data": {
      "text/plain": [
       "rain           35\n",
       "sun            28\n",
       "AC             14\n",
       "AC and rain    11\n",
       "AC and sun      5\n",
       "Name: specials, dtype: int64"
      ]
     },
     "execution_count": 35,
     "metadata": {},
     "output_type": "execute_result"
    }
   ],
   "source": [
    "df.specials.value_counts()"
   ]
  },
  {
   "cell_type": "code",
   "execution_count": 37,
   "metadata": {},
   "outputs": [
    {
     "data": {
      "text/html": [
       "<div>\n",
       "<style scoped>\n",
       "    .dataframe tbody tr th:only-of-type {\n",
       "        vertical-align: middle;\n",
       "    }\n",
       "\n",
       "    .dataframe tbody tr th {\n",
       "        vertical-align: top;\n",
       "    }\n",
       "\n",
       "    .dataframe thead th {\n",
       "        text-align: right;\n",
       "    }\n",
       "</style>\n",
       "<table border=\"1\" class=\"dataframe\">\n",
       "  <thead>\n",
       "    <tr style=\"text-align: right;\">\n",
       "      <th></th>\n",
       "      <th>distance</th>\n",
       "      <th>consume</th>\n",
       "      <th>speed</th>\n",
       "      <th>temp_inside</th>\n",
       "      <th>temp_outside</th>\n",
       "      <th>specials</th>\n",
       "      <th>gas_type</th>\n",
       "      <th>AC</th>\n",
       "      <th>rain</th>\n",
       "      <th>sun</th>\n",
       "      <th>refill liters</th>\n",
       "    </tr>\n",
       "  </thead>\n",
       "  <tbody>\n",
       "    <tr>\n",
       "      <th>0</th>\n",
       "      <td>28.0</td>\n",
       "      <td>5.0</td>\n",
       "      <td>26</td>\n",
       "      <td>21.5</td>\n",
       "      <td>12</td>\n",
       "      <td>NaN</td>\n",
       "      <td>E10</td>\n",
       "      <td>0</td>\n",
       "      <td>0</td>\n",
       "      <td>0</td>\n",
       "      <td>45.0</td>\n",
       "    </tr>\n",
       "    <tr>\n",
       "      <th>1</th>\n",
       "      <td>12.0</td>\n",
       "      <td>4.2</td>\n",
       "      <td>30</td>\n",
       "      <td>21.5</td>\n",
       "      <td>13</td>\n",
       "      <td>NaN</td>\n",
       "      <td>E10</td>\n",
       "      <td>0</td>\n",
       "      <td>0</td>\n",
       "      <td>0</td>\n",
       "      <td>NaN</td>\n",
       "    </tr>\n",
       "    <tr>\n",
       "      <th>2</th>\n",
       "      <td>11.2</td>\n",
       "      <td>5.5</td>\n",
       "      <td>38</td>\n",
       "      <td>21.5</td>\n",
       "      <td>15</td>\n",
       "      <td>NaN</td>\n",
       "      <td>E10</td>\n",
       "      <td>0</td>\n",
       "      <td>0</td>\n",
       "      <td>0</td>\n",
       "      <td>NaN</td>\n",
       "    </tr>\n",
       "    <tr>\n",
       "      <th>3</th>\n",
       "      <td>12.9</td>\n",
       "      <td>3.9</td>\n",
       "      <td>36</td>\n",
       "      <td>21.5</td>\n",
       "      <td>14</td>\n",
       "      <td>NaN</td>\n",
       "      <td>E10</td>\n",
       "      <td>0</td>\n",
       "      <td>0</td>\n",
       "      <td>0</td>\n",
       "      <td>NaN</td>\n",
       "    </tr>\n",
       "    <tr>\n",
       "      <th>4</th>\n",
       "      <td>18.5</td>\n",
       "      <td>4.5</td>\n",
       "      <td>46</td>\n",
       "      <td>21.5</td>\n",
       "      <td>15</td>\n",
       "      <td>NaN</td>\n",
       "      <td>E10</td>\n",
       "      <td>0</td>\n",
       "      <td>0</td>\n",
       "      <td>0</td>\n",
       "      <td>NaN</td>\n",
       "    </tr>\n",
       "  </tbody>\n",
       "</table>\n",
       "</div>"
      ],
      "text/plain": [
       "   distance  consume  speed  temp_inside  temp_outside specials gas_type  AC  \\\n",
       "0      28.0      5.0     26         21.5            12      NaN      E10   0   \n",
       "1      12.0      4.2     30         21.5            13      NaN      E10   0   \n",
       "2      11.2      5.5     38         21.5            15      NaN      E10   0   \n",
       "3      12.9      3.9     36         21.5            14      NaN      E10   0   \n",
       "4      18.5      4.5     46         21.5            15      NaN      E10   0   \n",
       "\n",
       "   rain  sun  refill liters  \n",
       "0     0    0           45.0  \n",
       "1     0    0            NaN  \n",
       "2     0    0            NaN  \n",
       "3     0    0            NaN  \n",
       "4     0    0            NaN  "
      ]
     },
     "execution_count": 37,
     "metadata": {},
     "output_type": "execute_result"
    }
   ],
   "source": [
    "df.head()"
   ]
  },
  {
   "cell_type": "markdown",
   "metadata": {},
   "source": [
    "# Exterior Temperature\n",
    "I consider important to know if it is cold or not. The criteria is that it is cold if is the temperature is cooler outside than inside."
   ]
  },
  {
   "cell_type": "code",
   "execution_count": 46,
   "metadata": {},
   "outputs": [],
   "source": [
    "ext = []\n",
    "'''for o,i in df.temp_outside, df.temp_inside:\n",
    "    if o>i:\n",
    "        ext.append('HOT')\n",
    "    else:\n",
    "        ext.append('COLD')'''\n",
    "df[\"external_temp\"] = df.temp_outside - df.temp_inside"
   ]
  },
  {
   "cell_type": "code",
   "execution_count": 48,
   "metadata": {},
   "outputs": [],
   "source": [
    "for value in df[\"external_temp\"]:\n",
    "    if value <= 0:\n",
    "        df[\"external_temp\"] = df[\"external_temp\"].replace(value, \"COLD\")\n",
    "    else:\n",
    "        df[\"external_temp\"] = df[\"external_temp\"].replace(value, \"HOT\")"
   ]
  },
  {
   "cell_type": "markdown",
   "metadata": {},
   "source": [
    "## This dataset is ready for its first plots"
   ]
  },
  {
   "cell_type": "code",
   "execution_count": 49,
   "metadata": {},
   "outputs": [
    {
     "data": {
      "text/html": [
       "<div>\n",
       "<style scoped>\n",
       "    .dataframe tbody tr th:only-of-type {\n",
       "        vertical-align: middle;\n",
       "    }\n",
       "\n",
       "    .dataframe tbody tr th {\n",
       "        vertical-align: top;\n",
       "    }\n",
       "\n",
       "    .dataframe thead th {\n",
       "        text-align: right;\n",
       "    }\n",
       "</style>\n",
       "<table border=\"1\" class=\"dataframe\">\n",
       "  <thead>\n",
       "    <tr style=\"text-align: right;\">\n",
       "      <th></th>\n",
       "      <th>distance</th>\n",
       "      <th>consume</th>\n",
       "      <th>speed</th>\n",
       "      <th>temp_inside</th>\n",
       "      <th>temp_outside</th>\n",
       "      <th>specials</th>\n",
       "      <th>gas_type</th>\n",
       "      <th>AC</th>\n",
       "      <th>rain</th>\n",
       "      <th>sun</th>\n",
       "      <th>refill liters</th>\n",
       "      <th>external_temp</th>\n",
       "    </tr>\n",
       "  </thead>\n",
       "  <tbody>\n",
       "    <tr>\n",
       "      <th>0</th>\n",
       "      <td>28.0</td>\n",
       "      <td>5.0</td>\n",
       "      <td>26</td>\n",
       "      <td>21.5</td>\n",
       "      <td>12</td>\n",
       "      <td>NaN</td>\n",
       "      <td>E10</td>\n",
       "      <td>0</td>\n",
       "      <td>0</td>\n",
       "      <td>0</td>\n",
       "      <td>45.0</td>\n",
       "      <td>COLD</td>\n",
       "    </tr>\n",
       "    <tr>\n",
       "      <th>1</th>\n",
       "      <td>12.0</td>\n",
       "      <td>4.2</td>\n",
       "      <td>30</td>\n",
       "      <td>21.5</td>\n",
       "      <td>13</td>\n",
       "      <td>NaN</td>\n",
       "      <td>E10</td>\n",
       "      <td>0</td>\n",
       "      <td>0</td>\n",
       "      <td>0</td>\n",
       "      <td>NaN</td>\n",
       "      <td>COLD</td>\n",
       "    </tr>\n",
       "    <tr>\n",
       "      <th>2</th>\n",
       "      <td>11.2</td>\n",
       "      <td>5.5</td>\n",
       "      <td>38</td>\n",
       "      <td>21.5</td>\n",
       "      <td>15</td>\n",
       "      <td>NaN</td>\n",
       "      <td>E10</td>\n",
       "      <td>0</td>\n",
       "      <td>0</td>\n",
       "      <td>0</td>\n",
       "      <td>NaN</td>\n",
       "      <td>COLD</td>\n",
       "    </tr>\n",
       "    <tr>\n",
       "      <th>3</th>\n",
       "      <td>12.9</td>\n",
       "      <td>3.9</td>\n",
       "      <td>36</td>\n",
       "      <td>21.5</td>\n",
       "      <td>14</td>\n",
       "      <td>NaN</td>\n",
       "      <td>E10</td>\n",
       "      <td>0</td>\n",
       "      <td>0</td>\n",
       "      <td>0</td>\n",
       "      <td>NaN</td>\n",
       "      <td>COLD</td>\n",
       "    </tr>\n",
       "    <tr>\n",
       "      <th>4</th>\n",
       "      <td>18.5</td>\n",
       "      <td>4.5</td>\n",
       "      <td>46</td>\n",
       "      <td>21.5</td>\n",
       "      <td>15</td>\n",
       "      <td>NaN</td>\n",
       "      <td>E10</td>\n",
       "      <td>0</td>\n",
       "      <td>0</td>\n",
       "      <td>0</td>\n",
       "      <td>NaN</td>\n",
       "      <td>COLD</td>\n",
       "    </tr>\n",
       "    <tr>\n",
       "      <th>...</th>\n",
       "      <td>...</td>\n",
       "      <td>...</td>\n",
       "      <td>...</td>\n",
       "      <td>...</td>\n",
       "      <td>...</td>\n",
       "      <td>...</td>\n",
       "      <td>...</td>\n",
       "      <td>...</td>\n",
       "      <td>...</td>\n",
       "      <td>...</td>\n",
       "      <td>...</td>\n",
       "      <td>...</td>\n",
       "    </tr>\n",
       "    <tr>\n",
       "      <th>383</th>\n",
       "      <td>16.0</td>\n",
       "      <td>3.7</td>\n",
       "      <td>39</td>\n",
       "      <td>24.5</td>\n",
       "      <td>18</td>\n",
       "      <td>NaN</td>\n",
       "      <td>SP98</td>\n",
       "      <td>0</td>\n",
       "      <td>0</td>\n",
       "      <td>0</td>\n",
       "      <td>NaN</td>\n",
       "      <td>COLD</td>\n",
       "    </tr>\n",
       "    <tr>\n",
       "      <th>384</th>\n",
       "      <td>16.1</td>\n",
       "      <td>4.3</td>\n",
       "      <td>38</td>\n",
       "      <td>25.0</td>\n",
       "      <td>31</td>\n",
       "      <td>AC</td>\n",
       "      <td>SP98</td>\n",
       "      <td>1</td>\n",
       "      <td>0</td>\n",
       "      <td>0</td>\n",
       "      <td>NaN</td>\n",
       "      <td>HOT</td>\n",
       "    </tr>\n",
       "    <tr>\n",
       "      <th>385</th>\n",
       "      <td>16.0</td>\n",
       "      <td>3.8</td>\n",
       "      <td>45</td>\n",
       "      <td>25.0</td>\n",
       "      <td>19</td>\n",
       "      <td>NaN</td>\n",
       "      <td>SP98</td>\n",
       "      <td>0</td>\n",
       "      <td>0</td>\n",
       "      <td>0</td>\n",
       "      <td>NaN</td>\n",
       "      <td>COLD</td>\n",
       "    </tr>\n",
       "    <tr>\n",
       "      <th>386</th>\n",
       "      <td>15.4</td>\n",
       "      <td>4.6</td>\n",
       "      <td>42</td>\n",
       "      <td>25.0</td>\n",
       "      <td>31</td>\n",
       "      <td>AC</td>\n",
       "      <td>SP98</td>\n",
       "      <td>1</td>\n",
       "      <td>0</td>\n",
       "      <td>0</td>\n",
       "      <td>NaN</td>\n",
       "      <td>HOT</td>\n",
       "    </tr>\n",
       "    <tr>\n",
       "      <th>387</th>\n",
       "      <td>14.7</td>\n",
       "      <td>5.0</td>\n",
       "      <td>25</td>\n",
       "      <td>25.0</td>\n",
       "      <td>30</td>\n",
       "      <td>AC</td>\n",
       "      <td>SP98</td>\n",
       "      <td>1</td>\n",
       "      <td>0</td>\n",
       "      <td>0</td>\n",
       "      <td>NaN</td>\n",
       "      <td>HOT</td>\n",
       "    </tr>\n",
       "  </tbody>\n",
       "</table>\n",
       "<p>388 rows × 12 columns</p>\n",
       "</div>"
      ],
      "text/plain": [
       "     distance  consume  speed  temp_inside  temp_outside specials gas_type  \\\n",
       "0        28.0      5.0     26         21.5            12      NaN      E10   \n",
       "1        12.0      4.2     30         21.5            13      NaN      E10   \n",
       "2        11.2      5.5     38         21.5            15      NaN      E10   \n",
       "3        12.9      3.9     36         21.5            14      NaN      E10   \n",
       "4        18.5      4.5     46         21.5            15      NaN      E10   \n",
       "..        ...      ...    ...          ...           ...      ...      ...   \n",
       "383      16.0      3.7     39         24.5            18      NaN     SP98   \n",
       "384      16.1      4.3     38         25.0            31       AC     SP98   \n",
       "385      16.0      3.8     45         25.0            19      NaN     SP98   \n",
       "386      15.4      4.6     42         25.0            31       AC     SP98   \n",
       "387      14.7      5.0     25         25.0            30       AC     SP98   \n",
       "\n",
       "     AC  rain  sun  refill liters external_temp  \n",
       "0     0     0    0           45.0          COLD  \n",
       "1     0     0    0            NaN          COLD  \n",
       "2     0     0    0            NaN          COLD  \n",
       "3     0     0    0            NaN          COLD  \n",
       "4     0     0    0            NaN          COLD  \n",
       "..   ..   ...  ...            ...           ...  \n",
       "383   0     0    0            NaN          COLD  \n",
       "384   1     0    0            NaN           HOT  \n",
       "385   0     0    0            NaN          COLD  \n",
       "386   1     0    0            NaN           HOT  \n",
       "387   1     0    0            NaN           HOT  \n",
       "\n",
       "[388 rows x 12 columns]"
      ]
     },
     "execution_count": 49,
     "metadata": {},
     "output_type": "execute_result"
    }
   ],
   "source": [
    "df"
   ]
  },
  {
   "cell_type": "code",
   "execution_count": 51,
   "metadata": {},
   "outputs": [],
   "source": [
    "df.to_csv(\"input/clean_measures.csv\")"
   ]
  },
  {
   "cell_type": "code",
   "execution_count": null,
   "metadata": {},
   "outputs": [],
   "source": []
  },
  {
   "cell_type": "code",
   "execution_count": null,
   "metadata": {},
   "outputs": [],
   "source": []
  }
 ],
 "metadata": {
  "kernelspec": {
   "display_name": "Python 3",
   "language": "python",
   "name": "python3"
  },
  "language_info": {
   "codemirror_mode": {
    "name": "ipython",
    "version": 3
   },
   "file_extension": ".py",
   "mimetype": "text/x-python",
   "name": "python",
   "nbconvert_exporter": "python",
   "pygments_lexer": "ipython3",
   "version": "3.8.6"
  }
 },
 "nbformat": 4,
 "nbformat_minor": 4
}
