{
 "cells": [
  {
   "cell_type": "markdown",
   "metadata": {},
   "source": [
    "# Reto Cobify - PART 2"
   ]
  },
  {
   "cell_type": "code",
   "execution_count": 1,
   "metadata": {},
   "outputs": [],
   "source": [
    "import pandas as pd\n",
    "import numpy as np\n",
    "\n",
    "import h2o\n",
    "from h2o.automl import H2OAutoML\n",
    "from sklearn import preprocessing\n",
    "\n",
    "from sklearn.model_selection import train_test_split"
   ]
  },
  {
   "cell_type": "markdown",
   "metadata": {},
   "source": [
    "# 4. Regression models"
   ]
  },
  {
   "cell_type": "markdown",
   "metadata": {},
   "source": [
    "Let's use h2o since it is a tool that automatically finds the most optimal model for the dataset given"
   ]
  },
  {
   "cell_type": "markdown",
   "metadata": {},
   "source": [
    "### Initializing h2o"
   ]
  },
  {
   "cell_type": "code",
   "execution_count": 2,
   "metadata": {},
   "outputs": [
    {
     "name": "stdout",
     "output_type": "stream",
     "text": [
      "Checking whether there is an H2O instance running at http://localhost:54321 ..... not found.\n",
      "Attempting to start a local H2O server...\n",
      "  Java Version: java version \"1.8.0_271\"; Java(TM) SE Runtime Environment (build 1.8.0_271-b09); Java HotSpot(TM) 64-Bit Server VM (build 25.271-b09, mixed mode)\n",
      "  Starting server from /Library/Frameworks/Python.framework/Versions/3.8/lib/python3.8/site-packages/h2o/backend/bin/h2o.jar\n",
      "  Ice root: /var/folders/25/3rfj5zyn0cx18kcqkgd4nn4m0000gn/T/tmplglm_ecy\n",
      "  JVM stdout: /var/folders/25/3rfj5zyn0cx18kcqkgd4nn4m0000gn/T/tmplglm_ecy/h2o_Angela_started_from_python.out\n",
      "  JVM stderr: /var/folders/25/3rfj5zyn0cx18kcqkgd4nn4m0000gn/T/tmplglm_ecy/h2o_Angela_started_from_python.err\n",
      "  Server is running at http://127.0.0.1:54321\n",
      "Connecting to H2O server at http://127.0.0.1:54321 ... successful.\n"
     ]
    },
    {
     "data": {
      "text/html": [
       "<div style=\"overflow:auto\"><table style=\"width:50%\"><tr><td>H2O_cluster_uptime:</td>\n",
       "<td>02 secs</td></tr>\n",
       "<tr><td>H2O_cluster_timezone:</td>\n",
       "<td>Europe/Madrid</td></tr>\n",
       "<tr><td>H2O_data_parsing_timezone:</td>\n",
       "<td>UTC</td></tr>\n",
       "<tr><td>H2O_cluster_version:</td>\n",
       "<td>3.32.0.2</td></tr>\n",
       "<tr><td>H2O_cluster_version_age:</td>\n",
       "<td>1 month and 30 days </td></tr>\n",
       "<tr><td>H2O_cluster_name:</td>\n",
       "<td>H2O_from_python_Angela_w18axj</td></tr>\n",
       "<tr><td>H2O_cluster_total_nodes:</td>\n",
       "<td>1</td></tr>\n",
       "<tr><td>H2O_cluster_free_memory:</td>\n",
       "<td>3.556 Gb</td></tr>\n",
       "<tr><td>H2O_cluster_total_cores:</td>\n",
       "<td>8</td></tr>\n",
       "<tr><td>H2O_cluster_allowed_cores:</td>\n",
       "<td>8</td></tr>\n",
       "<tr><td>H2O_cluster_status:</td>\n",
       "<td>accepting new members, healthy</td></tr>\n",
       "<tr><td>H2O_connection_url:</td>\n",
       "<td>http://127.0.0.1:54321</td></tr>\n",
       "<tr><td>H2O_connection_proxy:</td>\n",
       "<td>{\"http\": null, \"https\": null}</td></tr>\n",
       "<tr><td>H2O_internal_security:</td>\n",
       "<td>False</td></tr>\n",
       "<tr><td>H2O_API_Extensions:</td>\n",
       "<td>Amazon S3, XGBoost, Algos, AutoML, Core V3, TargetEncoder, Core V4</td></tr>\n",
       "<tr><td>Python_version:</td>\n",
       "<td>3.8.5 final</td></tr></table></div>"
      ],
      "text/plain": [
       "--------------------------  ------------------------------------------------------------------\n",
       "H2O_cluster_uptime:         02 secs\n",
       "H2O_cluster_timezone:       Europe/Madrid\n",
       "H2O_data_parsing_timezone:  UTC\n",
       "H2O_cluster_version:        3.32.0.2\n",
       "H2O_cluster_version_age:    1 month and 30 days\n",
       "H2O_cluster_name:           H2O_from_python_Angela_w18axj\n",
       "H2O_cluster_total_nodes:    1\n",
       "H2O_cluster_free_memory:    3.556 Gb\n",
       "H2O_cluster_total_cores:    8\n",
       "H2O_cluster_allowed_cores:  8\n",
       "H2O_cluster_status:         accepting new members, healthy\n",
       "H2O_connection_url:         http://127.0.0.1:54321\n",
       "H2O_connection_proxy:       {\"http\": null, \"https\": null}\n",
       "H2O_internal_security:      False\n",
       "H2O_API_Extensions:         Amazon S3, XGBoost, Algos, AutoML, Core V3, TargetEncoder, Core V4\n",
       "Python_version:             3.8.5 final\n",
       "--------------------------  ------------------------------------------------------------------"
      ]
     },
     "metadata": {},
     "output_type": "display_data"
    }
   ],
   "source": [
    "h2o.init()"
   ]
  },
  {
   "cell_type": "markdown",
   "metadata": {},
   "source": [
    "### Loading dataset"
   ]
  },
  {
   "cell_type": "code",
   "execution_count": 3,
   "metadata": {},
   "outputs": [
    {
     "name": "stdout",
     "output_type": "stream",
     "text": [
      "Loading dataset...\n",
      "Parse progress: |█████████████████████████████████████████████████████████| 100%\n",
      "Parse progress: |█████████████████████████████████████████████████████████| 100%\n"
     ]
    }
   ],
   "source": [
    "print('Loading dataset...')\n",
    "train = h2o.import_file(\"../data/train_dummy.csv\")\n",
    "test = h2o.import_file(\"../data/test_dummy.csv\")"
   ]
  },
  {
   "cell_type": "code",
   "execution_count": 5,
   "metadata": {},
   "outputs": [],
   "source": [
    "x = train.columns # X contains the list of columns used for training\n",
    "y = \"consume\" # Specifies the name of the column we want to predict\n",
    "x.remove(y) # We delete the column \"consume\" from x"
   ]
  },
  {
   "cell_type": "markdown",
   "metadata": {},
   "source": [
    "### Looking for the best algorithms..."
   ]
  },
  {
   "cell_type": "code",
   "execution_count": 6,
   "metadata": {},
   "outputs": [
    {
     "name": "stdout",
     "output_type": "stream",
     "text": [
      "AutoML progress: |████████████████████████████████████████████████████████| 100%\n"
     ]
    }
   ],
   "source": [
    "automl = H2OAutoML(max_runtime_secs=1200)\n",
    "automl.train(x=x, y=y, training_frame=train)"
   ]
  },
  {
   "cell_type": "code",
   "execution_count": 7,
   "metadata": {},
   "outputs": [
    {
     "name": "stdout",
     "output_type": "stream",
     "text": [
      "stackedensemble prediction progress: |████████████████████████████████████| 100%\n"
     ]
    }
   ],
   "source": [
    "predictions = automl.predict(test)\n"
   ]
  },
  {
   "cell_type": "code",
   "execution_count": 8,
   "metadata": {},
   "outputs": [],
   "source": [
    "model = predictions.as_data_frame()\n",
    "columns = ['Consume_Predicted']\n",
    "model.columns = columns"
   ]
  },
  {
   "cell_type": "code",
   "execution_count": 9,
   "metadata": {},
   "outputs": [
    {
     "data": {
      "text/html": [
       "<div>\n",
       "<style scoped>\n",
       "    .dataframe tbody tr th:only-of-type {\n",
       "        vertical-align: middle;\n",
       "    }\n",
       "\n",
       "    .dataframe tbody tr th {\n",
       "        vertical-align: top;\n",
       "    }\n",
       "\n",
       "    .dataframe thead th {\n",
       "        text-align: right;\n",
       "    }\n",
       "</style>\n",
       "<table border=\"1\" class=\"dataframe\">\n",
       "  <thead>\n",
       "    <tr style=\"text-align: right;\">\n",
       "      <th></th>\n",
       "      <th>Consume_Predicted</th>\n",
       "    </tr>\n",
       "  </thead>\n",
       "  <tbody>\n",
       "    <tr>\n",
       "      <th>0</th>\n",
       "      <td>5.05</td>\n",
       "    </tr>\n",
       "    <tr>\n",
       "      <th>1</th>\n",
       "      <td>4.57</td>\n",
       "    </tr>\n",
       "    <tr>\n",
       "      <th>2</th>\n",
       "      <td>4.91</td>\n",
       "    </tr>\n",
       "    <tr>\n",
       "      <th>3</th>\n",
       "      <td>5.07</td>\n",
       "    </tr>\n",
       "    <tr>\n",
       "      <th>4</th>\n",
       "      <td>4.53</td>\n",
       "    </tr>\n",
       "    <tr>\n",
       "      <th>...</th>\n",
       "      <td>...</td>\n",
       "    </tr>\n",
       "    <tr>\n",
       "      <th>70</th>\n",
       "      <td>4.92</td>\n",
       "    </tr>\n",
       "    <tr>\n",
       "      <th>71</th>\n",
       "      <td>6.66</td>\n",
       "    </tr>\n",
       "    <tr>\n",
       "      <th>72</th>\n",
       "      <td>4.61</td>\n",
       "    </tr>\n",
       "    <tr>\n",
       "      <th>73</th>\n",
       "      <td>4.85</td>\n",
       "    </tr>\n",
       "    <tr>\n",
       "      <th>74</th>\n",
       "      <td>4.26</td>\n",
       "    </tr>\n",
       "  </tbody>\n",
       "</table>\n",
       "<p>75 rows × 1 columns</p>\n",
       "</div>"
      ],
      "text/plain": [
       "    Consume_Predicted\n",
       "0                5.05\n",
       "1                4.57\n",
       "2                4.91\n",
       "3                5.07\n",
       "4                4.53\n",
       "..                ...\n",
       "70               4.92\n",
       "71               6.66\n",
       "72               4.61\n",
       "73               4.85\n",
       "74               4.26\n",
       "\n",
       "[75 rows x 1 columns]"
      ]
     },
     "execution_count": 9,
     "metadata": {},
     "output_type": "execute_result"
    }
   ],
   "source": [
    "model = model.round(2)\n",
    "model"
   ]
  },
  {
   "cell_type": "markdown",
   "metadata": {},
   "source": [
    "# 5. Metrics"
   ]
  },
  {
   "cell_type": "markdown",
   "metadata": {},
   "source": [
    "### Checking for the model performance"
   ]
  },
  {
   "cell_type": "code",
   "execution_count": 10,
   "metadata": {},
   "outputs": [
    {
     "data": {
      "text/html": [
       "<table>\n",
       "<thead>\n",
       "<tr><th>model_id                                           </th><th style=\"text-align: right;\">  mean_residual_deviance</th><th style=\"text-align: right;\">    rmse</th><th style=\"text-align: right;\">     mse</th><th style=\"text-align: right;\">     mae</th><th style=\"text-align: right;\">   rmsle</th></tr>\n",
       "</thead>\n",
       "<tbody>\n",
       "<tr><td>StackedEnsemble_BestOfFamily_AutoML_20210117_142714</td><td style=\"text-align: right;\">                0.412078</td><td style=\"text-align: right;\">0.641933</td><td style=\"text-align: right;\">0.412078</td><td style=\"text-align: right;\">0.460037</td><td style=\"text-align: right;\">0.100263</td></tr>\n",
       "<tr><td>GBM_grid__1_AutoML_20210117_142714_model_6         </td><td style=\"text-align: right;\">                0.419198</td><td style=\"text-align: right;\">0.647455</td><td style=\"text-align: right;\">0.419198</td><td style=\"text-align: right;\">0.464038</td><td style=\"text-align: right;\">0.100675</td></tr>\n",
       "<tr><td>DeepLearning_grid__1_AutoML_20210117_142714_model_3</td><td style=\"text-align: right;\">                0.423319</td><td style=\"text-align: right;\">0.650629</td><td style=\"text-align: right;\">0.423319</td><td style=\"text-align: right;\">0.477901</td><td style=\"text-align: right;\">0.103334</td></tr>\n",
       "<tr><td>DeepLearning_grid__1_AutoML_20210117_142714_model_1</td><td style=\"text-align: right;\">                0.436978</td><td style=\"text-align: right;\">0.661043</td><td style=\"text-align: right;\">0.436978</td><td style=\"text-align: right;\">0.49985 </td><td style=\"text-align: right;\">0.105633</td></tr>\n",
       "<tr><td>StackedEnsemble_AllModels_AutoML_20210117_142714   </td><td style=\"text-align: right;\">                0.437584</td><td style=\"text-align: right;\">0.661501</td><td style=\"text-align: right;\">0.437584</td><td style=\"text-align: right;\">0.462293</td><td style=\"text-align: right;\">0.100911</td></tr>\n",
       "<tr><td>DeepLearning_grid__1_AutoML_20210117_142714_model_6</td><td style=\"text-align: right;\">                0.445218</td><td style=\"text-align: right;\">0.667247</td><td style=\"text-align: right;\">0.445218</td><td style=\"text-align: right;\">0.482374</td><td style=\"text-align: right;\">0.104834</td></tr>\n",
       "<tr><td>DeepLearning_grid__2_AutoML_20210117_142714_model_4</td><td style=\"text-align: right;\">                0.45551 </td><td style=\"text-align: right;\">0.674915</td><td style=\"text-align: right;\">0.45551 </td><td style=\"text-align: right;\">0.502199</td><td style=\"text-align: right;\">0.105489</td></tr>\n",
       "<tr><td>XGBoost_3_AutoML_20210117_142714                   </td><td style=\"text-align: right;\">                0.455836</td><td style=\"text-align: right;\">0.675156</td><td style=\"text-align: right;\">0.455836</td><td style=\"text-align: right;\">0.468394</td><td style=\"text-align: right;\">0.104724</td></tr>\n",
       "<tr><td>GBM_grid__1_AutoML_20210117_142714_model_14        </td><td style=\"text-align: right;\">                0.463474</td><td style=\"text-align: right;\">0.680789</td><td style=\"text-align: right;\">0.463474</td><td style=\"text-align: right;\">0.483587</td><td style=\"text-align: right;\">0.104308</td></tr>\n",
       "<tr><td>GBM_grid__1_AutoML_20210117_142714_model_15        </td><td style=\"text-align: right;\">                0.464119</td><td style=\"text-align: right;\">0.681263</td><td style=\"text-align: right;\">0.464119</td><td style=\"text-align: right;\">0.463053</td><td style=\"text-align: right;\">0.104144</td></tr>\n",
       "</tbody>\n",
       "</table>"
      ]
     },
     "metadata": {},
     "output_type": "display_data"
    },
    {
     "data": {
      "text/plain": []
     },
     "execution_count": 10,
     "metadata": {},
     "output_type": "execute_result"
    }
   ],
   "source": [
    "lb = automl.leaderboard\n",
    "lb"
   ]
  },
  {
   "cell_type": "code",
   "execution_count": 14,
   "metadata": {},
   "outputs": [],
   "source": [
    "ld = automl.leader"
   ]
  },
  {
   "cell_type": "code",
   "execution_count": 15,
   "metadata": {},
   "outputs": [
    {
     "name": "stdout",
     "output_type": "stream",
     "text": [
      "Model Details\n",
      "=============\n",
      "H2OStackedEnsembleEstimator :  Stacked Ensemble\n",
      "Model Key:  StackedEnsemble_BestOfFamily_AutoML_20210117_142714\n",
      "\n",
      "No model summary for this model\n",
      "\n",
      "ModelMetricsRegressionGLM: stackedensemble\n",
      "** Reported on train data. **\n",
      "\n",
      "MSE: 0.16718461572845397\n",
      "RMSE: 0.4088821538395311\n",
      "MAE: 0.31092996975764525\n",
      "RMSLE: 0.06823636986167171\n",
      "R^2: 0.8006564329953476\n",
      "Mean Residual Deviance: 0.16718461572845397\n",
      "Null degrees of freedom: 300\n",
      "Residual degrees of freedom: 297\n",
      "Null deviance: 252.44140099636846\n",
      "Residual deviance: 50.32256933426465\n",
      "AIC: 325.81536226797\n",
      "\n",
      "ModelMetricsRegressionGLM: stackedensemble\n",
      "** Reported on cross-validation data. **\n",
      "\n",
      "MSE: 0.41207774001366776\n",
      "RMSE: 0.6419328158099318\n",
      "MAE: 0.460036544851541\n",
      "RMSLE: 0.10026256678240221\n",
      "R^2: 0.5086566654496644\n",
      "Mean Residual Deviance: 0.41207774001366776\n",
      "Null degrees of freedom: 300\n",
      "Residual degrees of freedom: 297\n",
      "Null deviance: 258.29561534722313\n",
      "Residual deviance: 124.03539974411399\n",
      "AIC: 597.3514763075408\n",
      "Model Details\n",
      "=============\n",
      "H2OStackedEnsembleEstimator :  Stacked Ensemble\n",
      "Model Key:  StackedEnsemble_BestOfFamily_AutoML_20210117_142714\n",
      "\n",
      "No model summary for this model\n",
      "\n",
      "ModelMetricsRegressionGLM: stackedensemble\n",
      "** Reported on train data. **\n",
      "\n",
      "MSE: 0.16718461572845397\n",
      "RMSE: 0.4088821538395311\n",
      "MAE: 0.31092996975764525\n",
      "RMSLE: 0.06823636986167171\n",
      "R^2: 0.8006564329953476\n",
      "Mean Residual Deviance: 0.16718461572845397\n",
      "Null degrees of freedom: 300\n",
      "Residual degrees of freedom: 297\n",
      "Null deviance: 252.44140099636846\n",
      "Residual deviance: 50.32256933426465\n",
      "AIC: 325.81536226797\n",
      "\n",
      "ModelMetricsRegressionGLM: stackedensemble\n",
      "** Reported on cross-validation data. **\n",
      "\n",
      "MSE: 0.41207774001366776\n",
      "RMSE: 0.6419328158099318\n",
      "MAE: 0.460036544851541\n",
      "RMSLE: 0.10026256678240221\n",
      "R^2: 0.5086566654496644\n",
      "Mean Residual Deviance: 0.41207774001366776\n",
      "Null degrees of freedom: 300\n",
      "Residual degrees of freedom: 297\n",
      "Null deviance: 258.29561534722313\n",
      "Residual deviance: 124.03539974411399\n",
      "AIC: 597.3514763075408\n"
     ]
    },
    {
     "ename": "H2OTypeError",
     "evalue": "Argument `model_id` should be a string, got H2OStackedEnsembleEstimator ",
     "output_type": "error",
     "traceback": [
      "\u001b[0;31m---------------------------------------------------------------------------\u001b[0m",
      "\u001b[0;31mH2OTypeError\u001b[0m                              Traceback (most recent call last)",
      "\u001b[0;32m<ipython-input-15-6cd1389c426a>\u001b[0m in \u001b[0;36m<module>\u001b[0;34m\u001b[0m\n\u001b[0;32m----> 1\u001b[0;31m \u001b[0mm\u001b[0m \u001b[0;34m=\u001b[0m \u001b[0mh2o\u001b[0m\u001b[0;34m.\u001b[0m\u001b[0mget_model\u001b[0m\u001b[0;34m(\u001b[0m\u001b[0mld\u001b[0m\u001b[0;34m)\u001b[0m\u001b[0;34m\u001b[0m\u001b[0;34m\u001b[0m\u001b[0m\n\u001b[0m",
      "\u001b[0;32m/Library/Frameworks/Python.framework/Versions/3.8/lib/python3.8/site-packages/h2o/h2o.py\u001b[0m in \u001b[0;36mget_model\u001b[0;34m(model_id)\u001b[0m\n\u001b[1;32m   1018\u001b[0m     \u001b[0;34m>>\u001b[0m\u001b[0;34m>\u001b[0m \u001b[0mmodel2\u001b[0m \u001b[0;34m=\u001b[0m \u001b[0mh2o\u001b[0m\u001b[0;34m.\u001b[0m\u001b[0mget_model\u001b[0m\u001b[0;34m(\u001b[0m\u001b[0mmodel\u001b[0m\u001b[0;34m.\u001b[0m\u001b[0mmodel_id\u001b[0m\u001b[0;34m)\u001b[0m\u001b[0;34m\u001b[0m\u001b[0;34m\u001b[0m\u001b[0m\n\u001b[1;32m   1019\u001b[0m     \"\"\"\n\u001b[0;32m-> 1020\u001b[0;31m     \u001b[0massert_is_type\u001b[0m\u001b[0;34m(\u001b[0m\u001b[0mmodel_id\u001b[0m\u001b[0;34m,\u001b[0m \u001b[0mstr\u001b[0m\u001b[0;34m)\u001b[0m\u001b[0;34m\u001b[0m\u001b[0;34m\u001b[0m\u001b[0m\n\u001b[0m\u001b[1;32m   1021\u001b[0m     \u001b[0mmodel_json\u001b[0m \u001b[0;34m=\u001b[0m \u001b[0mapi\u001b[0m\u001b[0;34m(\u001b[0m\u001b[0;34m\"GET /3/Models/%s\"\u001b[0m \u001b[0;34m%\u001b[0m \u001b[0mmodel_id\u001b[0m\u001b[0;34m)\u001b[0m\u001b[0;34m[\u001b[0m\u001b[0;34m\"models\"\u001b[0m\u001b[0;34m]\u001b[0m\u001b[0;34m[\u001b[0m\u001b[0;36m0\u001b[0m\u001b[0;34m]\u001b[0m\u001b[0;34m\u001b[0m\u001b[0;34m\u001b[0m\u001b[0m\n\u001b[1;32m   1022\u001b[0m     \u001b[0malgo\u001b[0m \u001b[0;34m=\u001b[0m \u001b[0mmodel_json\u001b[0m\u001b[0;34m[\u001b[0m\u001b[0;34m\"algo\"\u001b[0m\u001b[0;34m]\u001b[0m\u001b[0;34m\u001b[0m\u001b[0;34m\u001b[0m\u001b[0m\n",
      "\u001b[0;32m/Library/Frameworks/Python.framework/Versions/3.8/lib/python3.8/site-packages/h2o/utils/typechecks.py\u001b[0m in \u001b[0;36massert_is_type\u001b[0;34m(var, *types, **kwargs)\u001b[0m\n\u001b[1;32m    453\u001b[0m     \u001b[0metn\u001b[0m \u001b[0;34m=\u001b[0m \u001b[0m_get_type_name\u001b[0m\u001b[0;34m(\u001b[0m\u001b[0mexpected_type\u001b[0m\u001b[0;34m,\u001b[0m \u001b[0mdump\u001b[0m\u001b[0;34m=\u001b[0m\u001b[0;34m\", \"\u001b[0m\u001b[0;34m.\u001b[0m\u001b[0mjoin\u001b[0m\u001b[0;34m(\u001b[0m\u001b[0margs\u001b[0m\u001b[0;34m[\u001b[0m\u001b[0;36m1\u001b[0m\u001b[0;34m:\u001b[0m\u001b[0;34m]\u001b[0m\u001b[0;34m)\u001b[0m\u001b[0;34m)\u001b[0m\u001b[0;34m\u001b[0m\u001b[0;34m\u001b[0m\u001b[0m\n\u001b[1;32m    454\u001b[0m     \u001b[0mvtn\u001b[0m \u001b[0;34m=\u001b[0m \u001b[0m_get_type_name\u001b[0m\u001b[0;34m(\u001b[0m\u001b[0mtype\u001b[0m\u001b[0;34m(\u001b[0m\u001b[0mvar\u001b[0m\u001b[0;34m)\u001b[0m\u001b[0;34m)\u001b[0m\u001b[0;34m\u001b[0m\u001b[0;34m\u001b[0m\u001b[0m\n\u001b[0;32m--> 455\u001b[0;31m     raise H2OTypeError(var_name=vname, var_value=var, var_type_name=vtn, exp_type_name=etn, message=message,\n\u001b[0m\u001b[1;32m    456\u001b[0m                        skip_frames=skip_frames)\n\u001b[1;32m    457\u001b[0m \u001b[0;34m\u001b[0m\u001b[0m\n",
      "\u001b[0;31mH2OTypeError\u001b[0m: Argument `model_id` should be a string, got H2OStackedEnsembleEstimator "
     ]
    },
    {
     "name": "stdout",
     "output_type": "stream",
     "text": [
      "Model Details\n",
      "=============\n",
      "H2OStackedEnsembleEstimator :  Stacked Ensemble\n",
      "Model Key:  StackedEnsemble_BestOfFamily_AutoML_20210117_142714\n",
      "\n",
      "No model summary for this model\n",
      "\n",
      "ModelMetricsRegressionGLM: stackedensemble\n",
      "** Reported on train data. **\n",
      "\n",
      "MSE: 0.16718461572845397\n",
      "RMSE: 0.4088821538395311\n",
      "MAE: 0.31092996975764525\n",
      "RMSLE: 0.06823636986167171\n",
      "R^2: 0.8006564329953476\n",
      "Mean Residual Deviance: 0.16718461572845397\n",
      "Null degrees of freedom: 300\n",
      "Residual degrees of freedom: 297\n",
      "Null deviance: 252.44140099636846\n",
      "Residual deviance: 50.32256933426465\n",
      "AIC: 325.81536226797\n",
      "\n",
      "ModelMetricsRegressionGLM: stackedensemble\n",
      "** Reported on cross-validation data. **\n",
      "\n",
      "MSE: 0.41207774001366776\n",
      "RMSE: 0.6419328158099318\n",
      "MAE: 0.460036544851541\n",
      "RMSLE: 0.10026256678240221\n",
      "R^2: 0.5086566654496644\n",
      "Mean Residual Deviance: 0.41207774001366776\n",
      "Null degrees of freedom: 300\n",
      "Residual degrees of freedom: 297\n",
      "Null deviance: 258.29561534722313\n",
      "Residual deviance: 124.03539974411399\n",
      "AIC: 597.3514763075408\n"
     ]
    }
   ],
   "source": [
    "m = h2o.get_model(ld)\n"
   ]
  },
  {
   "cell_type": "markdown",
   "metadata": {},
   "source": [
    "# 6. Conclusions"
   ]
  },
  {
   "cell_type": "markdown",
   "metadata": {},
   "source": [
    "- H2O has chosen **Stacked Ensemble** has the best and most optimal model for the measurements dataset. Nevertheless, there are a few things worth mentioning:\n",
    "    - We know that the smaller the RMSE, better the fit. However, it is also important to take into account the size of the dataset. In this case, our dataset has around 300 rows and 10 columns, so we cannot consider it a \"big\" dataset. Which is why, in this case, an RMSE of 0.40 is not bad at all.\n",
    "    - Moreover, we have an R2 of 80% which indicates that the model explains accurately 80% of the dataset, which is a good metric.\n",
    "    - It is also important to mention that the cross-validation metrics are quite different from the original ones (RMSE=0.40 vs. RMSE_cv=0.64 // R2=0.80 vs R2_cv=0.50). This indicates that even though the metrics found at first from the model are not random, they could be even more accurate.\n",
    "- Going back to the analysis of the graphs from `1_wrangling`, we've seen than the gas type **SP98** allows **longer distances** and is **faster** than E10, however it **consumes more**. So if the company is looking to cut costs and spend less resources into fuel, E10 can be a good option to invest in when journeys are shorter and time is not a constraint"
   ]
  },
  {
   "cell_type": "markdown",
   "metadata": {},
   "source": [
    "# Future Improvement"
   ]
  },
  {
   "cell_type": "markdown",
   "metadata": {},
   "source": [
    "1. Enrich dataset either through web scraping or an API (ie: https://developer.nrel.gov/docs/transportation/alt-fuel-stations-v1/all/)\n",
    "2. Import dataset to a database such as SQL or MongoDB\n",
    "3. Create an API to make the information in the dataset more accessible to others"
   ]
  },
  {
   "cell_type": "code",
   "execution_count": null,
   "metadata": {},
   "outputs": [],
   "source": []
  }
 ],
 "metadata": {
  "kernelspec": {
   "display_name": "Python 3",
   "language": "python",
   "name": "python3"
  },
  "language_info": {
   "codemirror_mode": {
    "name": "ipython",
    "version": 3
   },
   "file_extension": ".py",
   "mimetype": "text/x-python",
   "name": "python",
   "nbconvert_exporter": "python",
   "pygments_lexer": "ipython3",
   "version": "3.8.5"
  }
 },
 "nbformat": 4,
 "nbformat_minor": 4
}
