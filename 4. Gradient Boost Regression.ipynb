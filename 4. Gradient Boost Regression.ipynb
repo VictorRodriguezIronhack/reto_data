{
 "cells": [
  {
   "cell_type": "code",
   "execution_count": 16,
   "metadata": {},
   "outputs": [],
   "source": [
    "import pandas as pd\n",
    "import numpy as np\n",
    "from sklearn.model_selection import RandomizedSearchCV, train_test_split, GridSearchCV\n",
    "from sklearn.ensemble import GradientBoostingRegressor\n",
    "from sklearn.preprocessing import quantile_transform\n",
    "from modeling import *\n",
    "from sklearn.model_selection import cross_val_score\n",
    "from sklearn.metrics import mean_squared_log_error,mean_squared_error, r2_score,mean_absolute_error \n",
    "import pickle\n",
    "\n",
    "\n",
    "\n",
    "\n"
   ]
  },
  {
   "cell_type": "code",
   "execution_count": 17,
   "metadata": {},
   "outputs": [],
   "source": [
    "df_E10 = pd.read_csv('./output/E10.csv')\n",
    "df_SP98 = pd.read_csv('./output/SP98.csv')\n"
   ]
  },
  {
   "cell_type": "markdown",
   "metadata": {},
   "source": [
    "## E10:"
   ]
  },
  {
   "cell_type": "code",
   "execution_count": 18,
   "metadata": {},
   "outputs": [],
   "source": [
    "X_train_E10, X_test_E10, y_train_E10, y_test_E10 = tr_test_split(df_E10)"
   ]
  },
  {
   "cell_type": "code",
   "execution_count": 19,
   "metadata": {
    "scrolled": true
   },
   "outputs": [
    {
     "name": "stdout",
     "output_type": "stream",
     "text": [
      "Fitting 8 folds for each of 180 candidates, totalling 1440 fits\n"
     ]
    },
    {
     "name": "stderr",
     "output_type": "stream",
     "text": [
      "[Parallel(n_jobs=-1)]: Using backend LokyBackend with 8 concurrent workers.\n",
      "[Parallel(n_jobs=-1)]: Done  25 tasks      | elapsed:    3.7s\n",
      "[Parallel(n_jobs=-1)]: Done 146 tasks      | elapsed:   10.1s\n",
      "[Parallel(n_jobs=-1)]: Done 349 tasks      | elapsed:   20.0s\n",
      "[Parallel(n_jobs=-1)]: Done 632 tasks      | elapsed:   34.0s\n",
      "[Parallel(n_jobs=-1)]: Done 997 tasks      | elapsed:   52.1s\n",
      "[Parallel(n_jobs=-1)]: Done 1440 out of 1440 | elapsed:  1.2min finished\n"
     ]
    }
   ],
   "source": [
    "model = GradientBoostingRegressor()\n",
    "\n",
    "param_grid = {\n",
    "    'max_depth': [20, 30, 40, 50, 60],\n",
    "    'min_samples_split': [4,5,6,7,8,9],\n",
    "    'n_estimators': [600, 700, 750, 760, 800, 1000],\n",
    "    'max_features': ['sqrt']\n",
    "}\n",
    "\n",
    "\n",
    "grid_search_E10 = GridSearchCV(estimator = model, param_grid = param_grid, cv = 8, n_jobs = -1, verbose = 2)\n",
    "\n",
    "model_grid = grid_search_E10.fit(X_train_E10, y_train_E10)"
   ]
  },
  {
   "cell_type": "code",
   "execution_count": 26,
   "metadata": {},
   "outputs": [
    {
     "data": {
      "text/plain": [
       "{'max_depth': 20,\n",
       " 'max_features': 'sqrt',\n",
       " 'min_samples_split': 9,\n",
       " 'n_estimators': 760}"
      ]
     },
     "execution_count": 26,
     "metadata": {},
     "output_type": "execute_result"
    }
   ],
   "source": [
    "best_model_E10 = model_grid.best_params_\n",
    "best_model_E10"
   ]
  },
  {
   "cell_type": "code",
   "execution_count": 21,
   "metadata": {},
   "outputs": [
    {
     "name": "stdout",
     "output_type": "stream",
     "text": [
      "MSE 0.0 2\n"
     ]
    }
   ],
   "source": [
    "y_pred_E10 = model_grid.predict(X_test_E10)\n",
    "print(\"MSE\", round(mean_squared_error(y_test_E10,y_pred_E10)),2)\n"
   ]
  },
  {
   "cell_type": "code",
   "execution_count": 22,
   "metadata": {},
   "outputs": [],
   "source": [
    "filename = './models/E10_model.pkl'\n",
    "with open(filename, 'wb') as file:\n",
    "    pickle.dump(best_model_E10, file)"
   ]
  },
  {
   "cell_type": "markdown",
   "metadata": {},
   "source": [
    "## SP98:"
   ]
  },
  {
   "cell_type": "code",
   "execution_count": 23,
   "metadata": {},
   "outputs": [],
   "source": [
    "X_train_SP98, X_test_SP98, y_train_SP98, y_test_SP98 = tr_test_split(df_SP98)"
   ]
  },
  {
   "cell_type": "code",
   "execution_count": 24,
   "metadata": {},
   "outputs": [
    {
     "name": "stdout",
     "output_type": "stream",
     "text": [
      "Fitting 8 folds for each of 180 candidates, totalling 1440 fits\n"
     ]
    },
    {
     "name": "stderr",
     "output_type": "stream",
     "text": [
      "[Parallel(n_jobs=-1)]: Using backend LokyBackend with 8 concurrent workers.\n",
      "[Parallel(n_jobs=-1)]: Done  25 tasks      | elapsed:    1.7s\n",
      "[Parallel(n_jobs=-1)]: Done 146 tasks      | elapsed:    9.0s\n",
      "[Parallel(n_jobs=-1)]: Done 349 tasks      | elapsed:   20.8s\n",
      "[Parallel(n_jobs=-1)]: Done 632 tasks      | elapsed:   36.9s\n",
      "[Parallel(n_jobs=-1)]: Done 997 tasks      | elapsed:   57.3s\n",
      "[Parallel(n_jobs=-1)]: Done 1440 out of 1440 | elapsed:  1.4min finished\n"
     ]
    }
   ],
   "source": [
    "model = GradientBoostingRegressor()\n",
    "\n",
    "param_grid = {\n",
    "    'max_depth': [20, 30, 40, 50, 60],\n",
    "    'min_samples_split': [4,5,6,7,8,9],\n",
    "    'n_estimators': [600, 700, 750, 760, 800, 1000],\n",
    "    'max_features': ['sqrt']\n",
    "}\n",
    "\n",
    "\n",
    "grid_search_SP98 = GridSearchCV(estimator = model, param_grid = param_grid, cv = 8, n_jobs = -1, verbose = 2)\n",
    "\n",
    "model_grid = grid_search_SP98.fit(X_train_SP98, y_train_SP98)"
   ]
  },
  {
   "cell_type": "code",
   "execution_count": 25,
   "metadata": {},
   "outputs": [
    {
     "data": {
      "text/plain": [
       "{'max_depth': 20,\n",
       " 'max_features': 'sqrt',\n",
       " 'min_samples_split': 9,\n",
       " 'n_estimators': 760}"
      ]
     },
     "execution_count": 25,
     "metadata": {},
     "output_type": "execute_result"
    }
   ],
   "source": [
    "best_model_SP98 = model_grid.best_params_\n",
    "best_model_SP98"
   ]
  },
  {
   "cell_type": "code",
   "execution_count": 10,
   "metadata": {},
   "outputs": [
    {
     "name": "stdout",
     "output_type": "stream",
     "text": [
      "MSE 0.0 2\n"
     ]
    }
   ],
   "source": [
    "y_pred_SP98 = model_grid.predict(X_test_SP98)\n",
    "print(\"MSE\", round(mean_squared_error(y_test_SP98,y_pred_SP98)),2)\n",
    "\n"
   ]
  },
  {
   "cell_type": "code",
   "execution_count": 15,
   "metadata": {},
   "outputs": [],
   "source": [
    "filename = './models/SP98_model.pkl'\n",
    "with open(filename, 'wb') as file:\n",
    "    pickle.dump(best_model_SP98, file)"
   ]
  },
  {
   "cell_type": "markdown",
   "metadata": {},
   "source": [
    "#### We save the models with the best params in order to use them for the prediction"
   ]
  },
  {
   "cell_type": "code",
   "execution_count": 28,
   "metadata": {},
   "outputs": [],
   "source": [
    "#filename = './models/E10_model.pkl'\n",
    "#with open(filename, 'rb') as file:  \n",
    " #   E10_model = pickle.load(file)"
   ]
  },
  {
   "cell_type": "markdown",
   "metadata": {},
   "source": [
    "### E10 prediction:"
   ]
  },
  {
   "cell_type": "code",
   "execution_count": 36,
   "metadata": {},
   "outputs": [],
   "source": [
    "model_predict = GradientBoostingRegressor(max_depth=20,\n",
    " max_features='sqrt',\n",
    " min_samples_split=9,\n",
    " n_estimators=760) \n",
    "model_predict = model_predict.fit(X_train_E10, y_train_E10)\n",
    "y_pred = model_predict.predict(X_test_E10)\n",
    "\n",
    "y_test_E10['consume'] = y_pred\n",
    "#sub = predict[['id','price']]\n",
    "#sub.to_csv('subm_.csv', index=False, header=True)"
   ]
  },
  {
   "cell_type": "code",
   "execution_count": 37,
   "metadata": {},
   "outputs": [
    {
     "data": {
      "text/plain": [
       "array([5.30057923, 4.92650416, 4.50699638, 4.3270897 , 5.14236764,\n",
       "       5.47659444, 4.2269705 , 4.55306345, 4.92291412, 4.25141756,\n",
       "       5.1121963 , 5.19937972, 5.42054901, 4.86942359, 5.84915296,\n",
       "       5.08719628, 4.42451097, 4.04382378, 4.87221601, 5.00261942,\n",
       "       4.65742433, 4.92494097, 5.59166205, 4.80207511, 4.62014879,\n",
       "       3.79953873, 5.60437236, 4.72519006, 4.09676133, 4.77162672,\n",
       "       3.97247058, 4.5461982 ])"
      ]
     },
     "execution_count": 37,
     "metadata": {},
     "output_type": "execute_result"
    }
   ],
   "source": [
    "y_test_E10['consume']"
   ]
  },
  {
   "cell_type": "code",
   "execution_count": 48,
   "metadata": {},
   "outputs": [
    {
     "data": {
      "text/plain": [
       "4.800874202715468"
      ]
     },
     "execution_count": 48,
     "metadata": {},
     "output_type": "execute_result"
    }
   ],
   "source": [
    "y_test_E10['consume'].mean()"
   ]
  },
  {
   "cell_type": "code",
   "execution_count": 44,
   "metadata": {},
   "outputs": [],
   "source": [
    "pr_E10 = y_test_E10[['consume']]\n",
    "pr_E10.to_csv('./output/consume_prediction_E10.csv', index=False, header=True)"
   ]
  },
  {
   "cell_type": "markdown",
   "metadata": {},
   "source": [
    "### SP98 prediction:"
   ]
  },
  {
   "cell_type": "code",
   "execution_count": 40,
   "metadata": {},
   "outputs": [],
   "source": [
    "model_predict = GradientBoostingRegressor(max_depth=20,\n",
    " max_features='sqrt',\n",
    " min_samples_split=9,\n",
    " n_estimators=760) \n",
    "model_predict = model_predict.fit(X_train_SP98, y_train_SP98)\n",
    "y_pred = model_predict.predict(X_test_SP98)\n",
    "\n",
    "y_test_SP98['consume'] = y_pred\n",
    "#sub = predict[['id','price']]\n",
    "#sub.to_csv('subm_.csv', index=False, header=True)"
   ]
  },
  {
   "cell_type": "code",
   "execution_count": 41,
   "metadata": {},
   "outputs": [
    {
     "data": {
      "text/plain": [
       "array([4.73033728, 5.03738541, 4.65037619, 5.47124293, 5.29255253,\n",
       "       5.25280918, 4.55849099, 4.08929633, 4.41631015, 5.28279613,\n",
       "       4.21469447, 5.11937726, 5.55811743, 4.47273541, 4.77781213,\n",
       "       4.2354028 , 4.37310262, 4.92908122, 4.00667748, 3.76641921,\n",
       "       4.90971144, 4.1949122 , 4.29412465, 4.31708964, 5.52157228,\n",
       "       4.91146141, 4.3667349 , 4.606166  , 4.3813723 , 5.26972757,\n",
       "       6.10464969, 5.04680708, 4.35291083, 6.65051021, 8.99298606,\n",
       "       4.58135871, 3.85025751, 5.68602804, 5.21711466, 4.54538085,\n",
       "       4.81236989, 4.35452116, 4.76988342, 4.99805729, 4.11501941,\n",
       "       4.25233096])"
      ]
     },
     "execution_count": 41,
     "metadata": {},
     "output_type": "execute_result"
    }
   ],
   "source": [
    "y_test_SP98['consume']"
   ]
  },
  {
   "cell_type": "code",
   "execution_count": 49,
   "metadata": {},
   "outputs": [
    {
     "data": {
      "text/plain": [
       "4.855175550633847"
      ]
     },
     "execution_count": 49,
     "metadata": {},
     "output_type": "execute_result"
    }
   ],
   "source": [
    "y_test_SP98['consume'].mean()"
   ]
  },
  {
   "cell_type": "code",
   "execution_count": 46,
   "metadata": {},
   "outputs": [],
   "source": [
    "pr_SP98 = y_test_SP98[['consume']]\n",
    "pr_SP98.to_csv('./output/consume_prediction_E10.csv', index=False, header=True)"
   ]
  },
  {
   "cell_type": "markdown",
   "metadata": {},
   "source": [
    "As we can see, the mean of the consume predicted is a little bit smaller in the E10 gas type. If we refresh our memory, we can remember that this gas type was also 0,34 cents per liter cheaper"
   ]
  },
  {
   "cell_type": "code",
   "execution_count": null,
   "metadata": {},
   "outputs": [],
   "source": []
  },
  {
   "cell_type": "code",
   "execution_count": null,
   "metadata": {},
   "outputs": [],
   "source": []
  },
  {
   "cell_type": "code",
   "execution_count": null,
   "metadata": {},
   "outputs": [],
   "source": []
  },
  {
   "cell_type": "code",
   "execution_count": null,
   "metadata": {},
   "outputs": [],
   "source": []
  }
 ],
 "metadata": {
  "kernelspec": {
   "display_name": "Python 3",
   "language": "python",
   "name": "python3"
  },
  "language_info": {
   "codemirror_mode": {
    "name": "ipython",
    "version": 3
   },
   "file_extension": ".py",
   "mimetype": "text/x-python",
   "name": "python",
   "nbconvert_exporter": "python",
   "pygments_lexer": "ipython3",
   "version": "3.8.5"
  }
 },
 "nbformat": 4,
 "nbformat_minor": 4
}
