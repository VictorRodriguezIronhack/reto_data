{
 "cells": [
  {
   "cell_type": "code",
   "execution_count": 204,
   "id": "c71cf89b",
   "metadata": {},
   "outputs": [],
   "source": [
    "#importamos librerías\n",
    "import numpy as np\n",
    "import pandas as pd\n",
    "import seaborn as sns\n",
    "import matplotlib.pyplot as plt\n",
    "\n",
    "# Matplotlib inline para visualizar los gráficos de Matplotlib\n",
    "%matplotlib inline\n",
    "%config Inlinebackend.figure_format= 'retina'\n",
    "# Configuración para setear y que todas las fig de Seaborn salgan por defecto con este tamaño\n",
    "# Se puede especificar el tamaño de cada figura\n",
    "sns.set_context(\"poster\")\n",
    "sns.set(rc={\"figure.figsize\": (12.,6.)})\n",
    "sns.set_style(\"whitegrid\")\n"
   ]
  },
  {
   "cell_type": "code",
   "execution_count": 205,
   "id": "dd3c725a",
   "metadata": {},
   "outputs": [],
   "source": [
    "from sklearn.model_selection import train_test_split as tts"
   ]
  },
  {
   "cell_type": "code",
   "execution_count": 206,
   "id": "eac05b39",
   "metadata": {},
   "outputs": [
    {
     "name": "stdout",
     "output_type": "stream",
     "text": [
      "Requirement already satisfied: openpyxl in /home/mariadelas/anaconda3/envs/ironhack/lib/python3.8/site-packages (3.0.9)\r\n",
      "Requirement already satisfied: et-xmlfile in /home/mariadelas/anaconda3/envs/ironhack/lib/python3.8/site-packages (from openpyxl) (1.1.0)\r\n"
     ]
    }
   ],
   "source": [
    "!pip install openpyxl"
   ]
  },
  {
   "cell_type": "markdown",
   "id": "d2ffa347",
   "metadata": {},
   "source": [
    "Importamos CSV"
   ]
  },
  {
   "cell_type": "code",
   "execution_count": 207,
   "id": "6a4b1a6f",
   "metadata": {},
   "outputs": [],
   "source": [
    "a = pd.read_csv(\"measurements.csv\")"
   ]
  },
  {
   "cell_type": "code",
   "execution_count": 208,
   "id": "1c1b4239",
   "metadata": {},
   "outputs": [
    {
     "data": {
      "text/plain": [
       "(388, 12)"
      ]
     },
     "execution_count": 208,
     "metadata": {},
     "output_type": "execute_result"
    }
   ],
   "source": [
    "a.shape"
   ]
  },
  {
   "cell_type": "code",
   "execution_count": 209,
   "id": "dc4e7700",
   "metadata": {},
   "outputs": [],
   "source": [
    "B = pd.read_excel(\"measurements2.xlsx\")"
   ]
  },
  {
   "cell_type": "code",
   "execution_count": 210,
   "id": "79a5b949",
   "metadata": {},
   "outputs": [
    {
     "data": {
      "text/plain": [
       "(388, 12)"
      ]
     },
     "execution_count": 210,
     "metadata": {},
     "output_type": "execute_result"
    }
   ],
   "source": [
    "B.shape"
   ]
  },
  {
   "cell_type": "code",
   "execution_count": 211,
   "id": "bd086bde",
   "metadata": {},
   "outputs": [],
   "source": [
    "# vemos q los dos datasets tienen la misma info, nos quedamos con a"
   ]
  },
  {
   "cell_type": "code",
   "execution_count": 212,
   "id": "39726fd1",
   "metadata": {},
   "outputs": [
    {
     "name": "stdout",
     "output_type": "stream",
     "text": [
      "<class 'pandas.core.frame.DataFrame'>\n",
      "RangeIndex: 388 entries, 0 to 387\n",
      "Data columns (total 12 columns):\n",
      " #   Column         Non-Null Count  Dtype \n",
      "---  ------         --------------  ----- \n",
      " 0   distance       388 non-null    object\n",
      " 1   consume        388 non-null    object\n",
      " 2   speed          388 non-null    int64 \n",
      " 3   temp_inside    376 non-null    object\n",
      " 4   temp_outside   388 non-null    int64 \n",
      " 5   specials       93 non-null     object\n",
      " 6   gas_type       388 non-null    object\n",
      " 7   AC             388 non-null    int64 \n",
      " 8   rain           388 non-null    int64 \n",
      " 9   sun            388 non-null    int64 \n",
      " 10  refill liters  13 non-null     object\n",
      " 11  refill gas     13 non-null     object\n",
      "dtypes: int64(5), object(7)\n",
      "memory usage: 36.5+ KB\n"
     ]
    }
   ],
   "source": [
    "a.info()"
   ]
  },
  {
   "cell_type": "code",
   "execution_count": 213,
   "id": "39c46f8c",
   "metadata": {},
   "outputs": [],
   "source": [
    "c = a.drop([\"specials\",\"refill liters\",\"refill gas\"], axis=1 )"
   ]
  },
  {
   "cell_type": "code",
   "execution_count": 214,
   "id": "d24827a9",
   "metadata": {},
   "outputs": [
    {
     "name": "stdout",
     "output_type": "stream",
     "text": [
      "<class 'pandas.core.frame.DataFrame'>\n",
      "RangeIndex: 388 entries, 0 to 387\n",
      "Data columns (total 9 columns):\n",
      " #   Column        Non-Null Count  Dtype \n",
      "---  ------        --------------  ----- \n",
      " 0   distance      388 non-null    object\n",
      " 1   consume       388 non-null    object\n",
      " 2   speed         388 non-null    int64 \n",
      " 3   temp_inside   376 non-null    object\n",
      " 4   temp_outside  388 non-null    int64 \n",
      " 5   gas_type      388 non-null    object\n",
      " 6   AC            388 non-null    int64 \n",
      " 7   rain          388 non-null    int64 \n",
      " 8   sun           388 non-null    int64 \n",
      "dtypes: int64(5), object(4)\n",
      "memory usage: 27.4+ KB\n"
     ]
    }
   ],
   "source": [
    "c.info()"
   ]
  },
  {
   "cell_type": "code",
   "execution_count": 215,
   "id": "144d590a",
   "metadata": {},
   "outputs": [
    {
     "data": {
      "text/html": [
       "<div>\n",
       "<style scoped>\n",
       "    .dataframe tbody tr th:only-of-type {\n",
       "        vertical-align: middle;\n",
       "    }\n",
       "\n",
       "    .dataframe tbody tr th {\n",
       "        vertical-align: top;\n",
       "    }\n",
       "\n",
       "    .dataframe thead th {\n",
       "        text-align: right;\n",
       "    }\n",
       "</style>\n",
       "<table border=\"1\" class=\"dataframe\">\n",
       "  <thead>\n",
       "    <tr style=\"text-align: right;\">\n",
       "      <th></th>\n",
       "      <th>distance</th>\n",
       "      <th>consume</th>\n",
       "      <th>speed</th>\n",
       "      <th>temp_inside</th>\n",
       "      <th>temp_outside</th>\n",
       "      <th>gas_type</th>\n",
       "      <th>AC</th>\n",
       "      <th>rain</th>\n",
       "      <th>sun</th>\n",
       "    </tr>\n",
       "  </thead>\n",
       "  <tbody>\n",
       "    <tr>\n",
       "      <th>0</th>\n",
       "      <td>28</td>\n",
       "      <td>5</td>\n",
       "      <td>26</td>\n",
       "      <td>21,5</td>\n",
       "      <td>12</td>\n",
       "      <td>E10</td>\n",
       "      <td>0</td>\n",
       "      <td>0</td>\n",
       "      <td>0</td>\n",
       "    </tr>\n",
       "    <tr>\n",
       "      <th>1</th>\n",
       "      <td>12</td>\n",
       "      <td>4,2</td>\n",
       "      <td>30</td>\n",
       "      <td>21,5</td>\n",
       "      <td>13</td>\n",
       "      <td>E10</td>\n",
       "      <td>0</td>\n",
       "      <td>0</td>\n",
       "      <td>0</td>\n",
       "    </tr>\n",
       "  </tbody>\n",
       "</table>\n",
       "</div>"
      ],
      "text/plain": [
       "  distance consume  speed temp_inside  temp_outside gas_type  AC  rain  sun\n",
       "0       28       5     26        21,5            12      E10   0     0    0\n",
       "1       12     4,2     30        21,5            13      E10   0     0    0"
      ]
     },
     "execution_count": 215,
     "metadata": {},
     "output_type": "execute_result"
    }
   ],
   "source": [
    "c.head(2)"
   ]
  },
  {
   "cell_type": "code",
   "execution_count": 216,
   "id": "29d6d59d",
   "metadata": {},
   "outputs": [
    {
     "data": {
      "text/plain": [
       "array(['E10', 'SP98'], dtype=object)"
      ]
     },
     "execution_count": 216,
     "metadata": {},
     "output_type": "execute_result"
    }
   ],
   "source": [
    "c.gas_type.unique()"
   ]
  },
  {
   "cell_type": "code",
   "execution_count": 217,
   "id": "b03cad26",
   "metadata": {
    "scrolled": true
   },
   "outputs": [
    {
     "data": {
      "text/plain": [
       "array(['28', '12', '11,2', '12,9', '18,5', '8,3', '7,8', '12,3', '4,9',\n",
       "       '11,9', '12,4', '11,8', '24,7', '17,3', '33,4', '25,9', '25,3',\n",
       "       '14,2', '17,9', '18,4', '18,3', '32,6', '19', '12,1', '20', '4,5',\n",
       "       '11,7', '10,2', '5,4', '2', '16', '27,3', '10,6', '11,6', '13,1',\n",
       "       '6,1', '153,5', '2,9', '2,1', '9,8', '6,8', '14', '13,9', '9,7',\n",
       "       '24,8', '34,8', '5,2', '10,5', '13,2', '13', '12,2', '12,5',\n",
       "       '15,7', '6,4', '5,3', '26,2', '18,8', '22,9', '162,7', '16,6',\n",
       "       '15,9', '5,1', '22,4', '31,1', '16,1', '4,2', '17,4', '23,5', '7',\n",
       "       '20,1', '20,8', '1,7', '35,9', '36,9', '16,8', '9,9', '36,6',\n",
       "       '44,9', '21,6', '39,4', '26,6', '53,2', '18,9', '43,5', '16,4',\n",
       "       '21,1', '22,7', '44,4', '35,8', '40,6', '14,1', '58,7', '16,2',\n",
       "       '31,8', '51,6', '38,6', '81,2', '130,3', '67,2', '43,7', '56,1',\n",
       "       '39', '38,5', '28,2', '19,6', '22,2', '13,6', '12,6', '8,7', '7,9',\n",
       "       '2,4', '18,1', '1,3', '13,4', '12,8', '29', '31,4', '27,1', '25,2',\n",
       "       '14,3', '16,9', '9,2', '31,5', '24,9', '17', '7,4', '25,7', '24,5',\n",
       "       '4,1', '15,4', '101,9', '93,9', '32,1', '48,6', '37,2', '28,8',\n",
       "       '6,7', '6,6', '13,3', '12,7', '16,5', '20,6', '16,3', '18,7',\n",
       "       '36,5', '29,9', '10,1', '31,9', '10,8', '19,8', '11,3', '11,5',\n",
       "       '21,4', '32', '41,9', '211', '216,1', '25,5', '22,1', '39,5',\n",
       "       '21,5', '4,8', '100,9', '129,7', '21', '17,2', '6', '20,9', '15,3',\n",
       "       '28,5', '14,5', '16,7', '5,5', '14,7'], dtype=object)"
      ]
     },
     "execution_count": 217,
     "metadata": {},
     "output_type": "execute_result"
    }
   ],
   "source": [
    "c.distance.unique()"
   ]
  },
  {
   "cell_type": "code",
   "execution_count": 218,
   "id": "d12edf39",
   "metadata": {},
   "outputs": [],
   "source": [
    "def numer(x):\n",
    "    x = x.replace(\",\", \".\")\n",
    "    return x"
   ]
  },
  {
   "cell_type": "code",
   "execution_count": 219,
   "id": "485db86d",
   "metadata": {},
   "outputs": [],
   "source": [
    "c.distance = c.distance.apply(numer)"
   ]
  },
  {
   "cell_type": "code",
   "execution_count": 220,
   "id": "d4856517",
   "metadata": {},
   "outputs": [
    {
     "data": {
      "text/html": [
       "<div>\n",
       "<style scoped>\n",
       "    .dataframe tbody tr th:only-of-type {\n",
       "        vertical-align: middle;\n",
       "    }\n",
       "\n",
       "    .dataframe tbody tr th {\n",
       "        vertical-align: top;\n",
       "    }\n",
       "\n",
       "    .dataframe thead th {\n",
       "        text-align: right;\n",
       "    }\n",
       "</style>\n",
       "<table border=\"1\" class=\"dataframe\">\n",
       "  <thead>\n",
       "    <tr style=\"text-align: right;\">\n",
       "      <th></th>\n",
       "      <th>distance</th>\n",
       "      <th>consume</th>\n",
       "      <th>speed</th>\n",
       "      <th>temp_inside</th>\n",
       "      <th>temp_outside</th>\n",
       "      <th>gas_type</th>\n",
       "      <th>AC</th>\n",
       "      <th>rain</th>\n",
       "      <th>sun</th>\n",
       "    </tr>\n",
       "  </thead>\n",
       "  <tbody>\n",
       "    <tr>\n",
       "      <th>0</th>\n",
       "      <td>28</td>\n",
       "      <td>5</td>\n",
       "      <td>26</td>\n",
       "      <td>21,5</td>\n",
       "      <td>12</td>\n",
       "      <td>E10</td>\n",
       "      <td>0</td>\n",
       "      <td>0</td>\n",
       "      <td>0</td>\n",
       "    </tr>\n",
       "    <tr>\n",
       "      <th>1</th>\n",
       "      <td>12</td>\n",
       "      <td>4,2</td>\n",
       "      <td>30</td>\n",
       "      <td>21,5</td>\n",
       "      <td>13</td>\n",
       "      <td>E10</td>\n",
       "      <td>0</td>\n",
       "      <td>0</td>\n",
       "      <td>0</td>\n",
       "    </tr>\n",
       "    <tr>\n",
       "      <th>2</th>\n",
       "      <td>11.2</td>\n",
       "      <td>5,5</td>\n",
       "      <td>38</td>\n",
       "      <td>21,5</td>\n",
       "      <td>15</td>\n",
       "      <td>E10</td>\n",
       "      <td>0</td>\n",
       "      <td>0</td>\n",
       "      <td>0</td>\n",
       "    </tr>\n",
       "    <tr>\n",
       "      <th>3</th>\n",
       "      <td>12.9</td>\n",
       "      <td>3,9</td>\n",
       "      <td>36</td>\n",
       "      <td>21,5</td>\n",
       "      <td>14</td>\n",
       "      <td>E10</td>\n",
       "      <td>0</td>\n",
       "      <td>0</td>\n",
       "      <td>0</td>\n",
       "    </tr>\n",
       "    <tr>\n",
       "      <th>4</th>\n",
       "      <td>18.5</td>\n",
       "      <td>4,5</td>\n",
       "      <td>46</td>\n",
       "      <td>21,5</td>\n",
       "      <td>15</td>\n",
       "      <td>E10</td>\n",
       "      <td>0</td>\n",
       "      <td>0</td>\n",
       "      <td>0</td>\n",
       "    </tr>\n",
       "  </tbody>\n",
       "</table>\n",
       "</div>"
      ],
      "text/plain": [
       "  distance consume  speed temp_inside  temp_outside gas_type  AC  rain  sun\n",
       "0       28       5     26        21,5            12      E10   0     0    0\n",
       "1       12     4,2     30        21,5            13      E10   0     0    0\n",
       "2     11.2     5,5     38        21,5            15      E10   0     0    0\n",
       "3     12.9     3,9     36        21,5            14      E10   0     0    0\n",
       "4     18.5     4,5     46        21,5            15      E10   0     0    0"
      ]
     },
     "execution_count": 220,
     "metadata": {},
     "output_type": "execute_result"
    }
   ],
   "source": [
    "c.head()"
   ]
  },
  {
   "cell_type": "code",
   "execution_count": 221,
   "id": "9de4f816",
   "metadata": {},
   "outputs": [
    {
     "data": {
      "text/plain": [
       "array(['5', '4,2', '5,5', '3,9', '4,5', '6,4', '4,4', '5,3', '5,6', '4,6',\n",
       "       '5,9', '5,1', '4,7', '4,9', '5,7', '4,1', '5,8', '4,8', '4,3',\n",
       "       '5,2', '7,4', '6,5', '4', '3,3', '9,9', '6,1', '6,2', '7,9',\n",
       "       '12,2', '5,4', '3,6', '6,9', '8,7', '6,3', '6', '10,8', '8,1',\n",
       "       '7,1', '3,8', '9', '3,7', '11,5', '6,6'], dtype=object)"
      ]
     },
     "execution_count": 221,
     "metadata": {},
     "output_type": "execute_result"
    }
   ],
   "source": [
    "c.consume.unique()"
   ]
  },
  {
   "cell_type": "code",
   "execution_count": 222,
   "id": "f0834221",
   "metadata": {},
   "outputs": [],
   "source": [
    "c.consume = c.consume.apply(numer)"
   ]
  },
  {
   "cell_type": "code",
   "execution_count": 223,
   "id": "f8202d27",
   "metadata": {},
   "outputs": [
    {
     "data": {
      "text/plain": [
       "array([26, 30, 38, 36, 46, 50, 43, 40, 42, 59, 58, 24, 32, 39, 37, 62, 57,\n",
       "       21, 28, 29, 35, 51, 23, 55, 44, 25, 63, 61, 82, 52, 18, 41, 20, 56,\n",
       "       45, 22, 60, 33, 34, 71, 75, 66, 27, 49, 14, 80, 53, 47, 73, 69, 85,\n",
       "       67, 54, 31, 48, 16, 88, 65, 90, 87])"
      ]
     },
     "execution_count": 223,
     "metadata": {},
     "output_type": "execute_result"
    }
   ],
   "source": [
    "c.speed.unique()"
   ]
  },
  {
   "cell_type": "code",
   "execution_count": 224,
   "id": "aa388c3a",
   "metadata": {},
   "outputs": [
    {
     "data": {
      "text/plain": [
       "array(['21,5', '22,5', '20', nan, '21', '20,5', '23', '23,5', '25', '24',\n",
       "       '22', '19', '24,5', '25,5'], dtype=object)"
      ]
     },
     "execution_count": 224,
     "metadata": {},
     "output_type": "execute_result"
    }
   ],
   "source": [
    "c.temp_inside.unique()"
   ]
  },
  {
   "cell_type": "code",
   "execution_count": 225,
   "id": "d4741b6f",
   "metadata": {},
   "outputs": [],
   "source": [
    "c.temp_inside.fillna(\"0,0\", inplace = True)"
   ]
  },
  {
   "cell_type": "code",
   "execution_count": 226,
   "id": "bff4db04",
   "metadata": {},
   "outputs": [],
   "source": [
    "c.temp_inside = c.temp_inside.apply(numer)"
   ]
  },
  {
   "cell_type": "code",
   "execution_count": 227,
   "id": "43d690dd",
   "metadata": {},
   "outputs": [
    {
     "name": "stdout",
     "output_type": "stream",
     "text": [
      "<class 'pandas.core.frame.DataFrame'>\n",
      "RangeIndex: 388 entries, 0 to 387\n",
      "Data columns (total 9 columns):\n",
      " #   Column        Non-Null Count  Dtype \n",
      "---  ------        --------------  ----- \n",
      " 0   distance      388 non-null    object\n",
      " 1   consume       388 non-null    object\n",
      " 2   speed         388 non-null    int64 \n",
      " 3   temp_inside   388 non-null    object\n",
      " 4   temp_outside  388 non-null    int64 \n",
      " 5   gas_type      388 non-null    object\n",
      " 6   AC            388 non-null    int64 \n",
      " 7   rain          388 non-null    int64 \n",
      " 8   sun           388 non-null    int64 \n",
      "dtypes: int64(5), object(4)\n",
      "memory usage: 27.4+ KB\n"
     ]
    }
   ],
   "source": [
    "c.info()"
   ]
  },
  {
   "cell_type": "code",
   "execution_count": 228,
   "id": "6c4cb535",
   "metadata": {},
   "outputs": [
    {
     "data": {
      "text/plain": [
       "array([12, 13, 15, 14, 10, 11,  6,  4,  9,  0,  5,  3,  8,  1,  2,  7, -3,\n",
       "       17, 18, -5, 16, 19, 21, 20, 25, 23, 27, 24, 26, 22, 30, 31, 28])"
      ]
     },
     "execution_count": 228,
     "metadata": {},
     "output_type": "execute_result"
    }
   ],
   "source": [
    "c.temp_outside.unique()"
   ]
  },
  {
   "cell_type": "code",
   "execution_count": 229,
   "id": "1f796652",
   "metadata": {},
   "outputs": [
    {
     "data": {
      "text/plain": [
       "array([0, 1])"
      ]
     },
     "execution_count": 229,
     "metadata": {},
     "output_type": "execute_result"
    }
   ],
   "source": [
    "c.AC.unique()"
   ]
  },
  {
   "cell_type": "code",
   "execution_count": 230,
   "id": "ace06fcf",
   "metadata": {},
   "outputs": [
    {
     "data": {
      "text/plain": [
       "array([0, 1])"
      ]
     },
     "execution_count": 230,
     "metadata": {},
     "output_type": "execute_result"
    }
   ],
   "source": [
    "c.sun.unique()"
   ]
  },
  {
   "cell_type": "code",
   "execution_count": 231,
   "id": "a27bab1c",
   "metadata": {},
   "outputs": [
    {
     "data": {
      "text/plain": [
       "array([0, 1])"
      ]
     },
     "execution_count": 231,
     "metadata": {},
     "output_type": "execute_result"
    }
   ],
   "source": [
    "c.rain.unique()"
   ]
  },
  {
   "cell_type": "code",
   "execution_count": 232,
   "id": "50abec87",
   "metadata": {},
   "outputs": [
    {
     "data": {
      "text/plain": [
       "0    358\n",
       "1     30\n",
       "Name: AC, dtype: int64"
      ]
     },
     "execution_count": 232,
     "metadata": {},
     "output_type": "execute_result"
    }
   ],
   "source": [
    "c.AC.value_counts()"
   ]
  },
  {
   "cell_type": "code",
   "execution_count": 233,
   "id": "3d638c60",
   "metadata": {},
   "outputs": [
    {
     "data": {
      "text/plain": [
       "0    356\n",
       "1     32\n",
       "Name: sun, dtype: int64"
      ]
     },
     "execution_count": 233,
     "metadata": {},
     "output_type": "execute_result"
    }
   ],
   "source": [
    "c.sun.value_counts()"
   ]
  },
  {
   "cell_type": "code",
   "execution_count": 234,
   "id": "1fcd7992",
   "metadata": {},
   "outputs": [
    {
     "data": {
      "text/plain": [
       "0    340\n",
       "1     48\n",
       "Name: rain, dtype: int64"
      ]
     },
     "execution_count": 234,
     "metadata": {},
     "output_type": "execute_result"
    }
   ],
   "source": [
    "c.rain.value_counts()"
   ]
  },
  {
   "cell_type": "code",
   "execution_count": 235,
   "id": "c61b65b8",
   "metadata": {},
   "outputs": [],
   "source": [
    "def flooat(x):\n",
    "    x = float(x)\n",
    "    return x"
   ]
  },
  {
   "cell_type": "code",
   "execution_count": 236,
   "id": "082a55fd",
   "metadata": {},
   "outputs": [],
   "source": [
    "c.distance = c.distance.apply(flooat)"
   ]
  },
  {
   "cell_type": "code",
   "execution_count": 237,
   "id": "f5fa045e",
   "metadata": {},
   "outputs": [
    {
     "name": "stdout",
     "output_type": "stream",
     "text": [
      "<class 'pandas.core.frame.DataFrame'>\n",
      "RangeIndex: 388 entries, 0 to 387\n",
      "Data columns (total 9 columns):\n",
      " #   Column        Non-Null Count  Dtype  \n",
      "---  ------        --------------  -----  \n",
      " 0   distance      388 non-null    float64\n",
      " 1   consume       388 non-null    object \n",
      " 2   speed         388 non-null    int64  \n",
      " 3   temp_inside   388 non-null    object \n",
      " 4   temp_outside  388 non-null    int64  \n",
      " 5   gas_type      388 non-null    object \n",
      " 6   AC            388 non-null    int64  \n",
      " 7   rain          388 non-null    int64  \n",
      " 8   sun           388 non-null    int64  \n",
      "dtypes: float64(1), int64(5), object(3)\n",
      "memory usage: 27.4+ KB\n"
     ]
    }
   ],
   "source": [
    "c.info()"
   ]
  },
  {
   "cell_type": "code",
   "execution_count": 238,
   "id": "d3f48f66",
   "metadata": {},
   "outputs": [],
   "source": [
    "c.consume = c.distance.apply(flooat)\n",
    "c.temp_inside = c.temp_inside.apply(flooat)"
   ]
  },
  {
   "cell_type": "code",
   "execution_count": 239,
   "id": "002ec68f",
   "metadata": {},
   "outputs": [
    {
     "name": "stdout",
     "output_type": "stream",
     "text": [
      "<class 'pandas.core.frame.DataFrame'>\n",
      "RangeIndex: 388 entries, 0 to 387\n",
      "Data columns (total 9 columns):\n",
      " #   Column        Non-Null Count  Dtype  \n",
      "---  ------        --------------  -----  \n",
      " 0   distance      388 non-null    float64\n",
      " 1   consume       388 non-null    float64\n",
      " 2   speed         388 non-null    int64  \n",
      " 3   temp_inside   388 non-null    float64\n",
      " 4   temp_outside  388 non-null    int64  \n",
      " 5   gas_type      388 non-null    object \n",
      " 6   AC            388 non-null    int64  \n",
      " 7   rain          388 non-null    int64  \n",
      " 8   sun           388 non-null    int64  \n",
      "dtypes: float64(3), int64(5), object(1)\n",
      "memory usage: 27.4+ KB\n"
     ]
    }
   ],
   "source": [
    "c.info()"
   ]
  },
  {
   "cell_type": "code",
   "execution_count": 240,
   "id": "9f7b3ca3",
   "metadata": {},
   "outputs": [],
   "source": [
    "c.to_csv(\"limpio.csv\", index=False)"
   ]
  },
  {
   "cell_type": "code",
   "execution_count": 241,
   "id": "79c82e18",
   "metadata": {},
   "outputs": [
    {
     "data": {
      "text/html": [
       "<div>\n",
       "<style scoped>\n",
       "    .dataframe tbody tr th:only-of-type {\n",
       "        vertical-align: middle;\n",
       "    }\n",
       "\n",
       "    .dataframe tbody tr th {\n",
       "        vertical-align: top;\n",
       "    }\n",
       "\n",
       "    .dataframe thead th {\n",
       "        text-align: right;\n",
       "    }\n",
       "</style>\n",
       "<table border=\"1\" class=\"dataframe\">\n",
       "  <thead>\n",
       "    <tr style=\"text-align: right;\">\n",
       "      <th></th>\n",
       "      <th>distance</th>\n",
       "      <th>consume</th>\n",
       "      <th>speed</th>\n",
       "      <th>temp_inside</th>\n",
       "      <th>temp_outside</th>\n",
       "      <th>AC</th>\n",
       "      <th>rain</th>\n",
       "      <th>sun</th>\n",
       "    </tr>\n",
       "  </thead>\n",
       "  <tbody>\n",
       "    <tr>\n",
       "      <th>distance</th>\n",
       "      <td>1.000000</td>\n",
       "      <td>1.000000</td>\n",
       "      <td>0.562299</td>\n",
       "      <td>0.053597</td>\n",
       "      <td>0.088175</td>\n",
       "      <td>-0.025738</td>\n",
       "      <td>-0.019791</td>\n",
       "      <td>0.081120</td>\n",
       "    </tr>\n",
       "    <tr>\n",
       "      <th>consume</th>\n",
       "      <td>1.000000</td>\n",
       "      <td>1.000000</td>\n",
       "      <td>0.562299</td>\n",
       "      <td>0.053597</td>\n",
       "      <td>0.088175</td>\n",
       "      <td>-0.025738</td>\n",
       "      <td>-0.019791</td>\n",
       "      <td>0.081120</td>\n",
       "    </tr>\n",
       "    <tr>\n",
       "      <th>speed</th>\n",
       "      <td>0.562299</td>\n",
       "      <td>0.562299</td>\n",
       "      <td>1.000000</td>\n",
       "      <td>0.026817</td>\n",
       "      <td>0.015411</td>\n",
       "      <td>-0.035408</td>\n",
       "      <td>0.009489</td>\n",
       "      <td>0.081618</td>\n",
       "    </tr>\n",
       "    <tr>\n",
       "      <th>temp_inside</th>\n",
       "      <td>0.053597</td>\n",
       "      <td>0.053597</td>\n",
       "      <td>0.026817</td>\n",
       "      <td>1.000000</td>\n",
       "      <td>0.077181</td>\n",
       "      <td>0.125307</td>\n",
       "      <td>0.011845</td>\n",
       "      <td>0.060782</td>\n",
       "    </tr>\n",
       "    <tr>\n",
       "      <th>temp_outside</th>\n",
       "      <td>0.088175</td>\n",
       "      <td>0.088175</td>\n",
       "      <td>0.015411</td>\n",
       "      <td>0.077181</td>\n",
       "      <td>1.000000</td>\n",
       "      <td>0.167562</td>\n",
       "      <td>-0.186315</td>\n",
       "      <td>0.346903</td>\n",
       "    </tr>\n",
       "    <tr>\n",
       "      <th>AC</th>\n",
       "      <td>-0.025738</td>\n",
       "      <td>-0.025738</td>\n",
       "      <td>-0.035408</td>\n",
       "      <td>0.125307</td>\n",
       "      <td>0.167562</td>\n",
       "      <td>1.000000</td>\n",
       "      <td>0.242915</td>\n",
       "      <td>0.088598</td>\n",
       "    </tr>\n",
       "    <tr>\n",
       "      <th>rain</th>\n",
       "      <td>-0.019791</td>\n",
       "      <td>-0.019791</td>\n",
       "      <td>0.009489</td>\n",
       "      <td>0.011845</td>\n",
       "      <td>-0.186315</td>\n",
       "      <td>0.242915</td>\n",
       "      <td>1.000000</td>\n",
       "      <td>-0.112650</td>\n",
       "    </tr>\n",
       "    <tr>\n",
       "      <th>sun</th>\n",
       "      <td>0.081120</td>\n",
       "      <td>0.081120</td>\n",
       "      <td>0.081618</td>\n",
       "      <td>0.060782</td>\n",
       "      <td>0.346903</td>\n",
       "      <td>0.088598</td>\n",
       "      <td>-0.112650</td>\n",
       "      <td>1.000000</td>\n",
       "    </tr>\n",
       "  </tbody>\n",
       "</table>\n",
       "</div>"
      ],
      "text/plain": [
       "              distance   consume     speed  temp_inside  temp_outside  \\\n",
       "distance      1.000000  1.000000  0.562299     0.053597      0.088175   \n",
       "consume       1.000000  1.000000  0.562299     0.053597      0.088175   \n",
       "speed         0.562299  0.562299  1.000000     0.026817      0.015411   \n",
       "temp_inside   0.053597  0.053597  0.026817     1.000000      0.077181   \n",
       "temp_outside  0.088175  0.088175  0.015411     0.077181      1.000000   \n",
       "AC           -0.025738 -0.025738 -0.035408     0.125307      0.167562   \n",
       "rain         -0.019791 -0.019791  0.009489     0.011845     -0.186315   \n",
       "sun           0.081120  0.081120  0.081618     0.060782      0.346903   \n",
       "\n",
       "                    AC      rain       sun  \n",
       "distance     -0.025738 -0.019791  0.081120  \n",
       "consume      -0.025738 -0.019791  0.081120  \n",
       "speed        -0.035408  0.009489  0.081618  \n",
       "temp_inside   0.125307  0.011845  0.060782  \n",
       "temp_outside  0.167562 -0.186315  0.346903  \n",
       "AC            1.000000  0.242915  0.088598  \n",
       "rain          0.242915  1.000000 -0.112650  \n",
       "sun           0.088598 -0.112650  1.000000  "
      ]
     },
     "execution_count": 241,
     "metadata": {},
     "output_type": "execute_result"
    }
   ],
   "source": [
    "corr = c.corr()\n",
    "corr"
   ]
  },
  {
   "cell_type": "code",
   "execution_count": 242,
   "id": "a826617f",
   "metadata": {},
   "outputs": [
    {
     "data": {
      "image/png": "[encoded data removed]",
      "text/plain": [
       "<Figure size 864x432 with 2 Axes>"
      ]
     },
     "metadata": {},
     "output_type": "display_data"
    }
   ],
   "source": [
    "mascara = np.triu(np.ones_like(corr, dtype=bool)) # generamos la máscara para la triangular superior\n",
    "color_map = sns.diverging_palette(0, 10, as_cmap=True) # paleta de colores\n",
    "sns.heatmap(corr,  \n",
    "            mask = mascara,\n",
    "            cmap=color_map,\n",
    "            square=True, #que los datos se vean como cuadrados\n",
    "            linewidth=0.5, #ancho de línea\n",
    "            vmax=1,\n",
    "            cbar_kws={\"shrink\": .5} #barra lateral\n",
    ");"
   ]
  },
  {
   "cell_type": "code",
   "execution_count": 243,
   "id": "7d156c4f",
   "metadata": {
    "scrolled": true
   },
   "outputs": [
    {
     "data": {
      "image/png": "[encoded data removed]",
      "text/plain": [
       "<Figure size 360x360 with 1 Axes>"
      ]
     },
     "metadata": {},
     "output_type": "display_data"
    }
   ],
   "source": [
    "sns.catplot(data=c, x=\"consume\", y=\"gas_type\");"
   ]
  },
  {
   "cell_type": "code",
   "execution_count": 244,
   "id": "7891dd41",
   "metadata": {},
   "outputs": [],
   "source": [
    "e = c.copy() "
   ]
  },
  {
   "cell_type": "code",
   "execution_count": 245,
   "id": "b14f60b1",
   "metadata": {},
   "outputs": [],
   "source": [
    "dic_para_gas = {'E10':0,\n",
    "                  'SP98':1}\n"
   ]
  },
  {
   "cell_type": "code",
   "execution_count": 246,
   "id": "0aad7910",
   "metadata": {},
   "outputs": [],
   "source": [
    "e.gas_type = e.gas_type.map(dic_para_gas)"
   ]
  },
  {
   "cell_type": "code",
   "execution_count": 247,
   "id": "6959c021",
   "metadata": {},
   "outputs": [
    {
     "data": {
      "text/plain": [
       "array([0, 1])"
      ]
     },
     "execution_count": 247,
     "metadata": {},
     "output_type": "execute_result"
    }
   ],
   "source": [
    "e.gas_type.unique()"
   ]
  },
  {
   "cell_type": "code",
   "execution_count": 248,
   "id": "cd796685",
   "metadata": {},
   "outputs": [
    {
     "data": {
      "text/plain": [
       "Index(['distance', 'consume', 'speed', 'temp_inside', 'temp_outside',\n",
       "       'gas_type', 'AC', 'rain', 'sun'],\n",
       "      dtype='object')"
      ]
     },
     "execution_count": 248,
     "metadata": {},
     "output_type": "execute_result"
    }
   ],
   "source": [
    "e.columns"
   ]
  },
  {
   "cell_type": "code",
   "execution_count": 249,
   "id": "6e8a33c9",
   "metadata": {},
   "outputs": [],
   "source": [
    "consumo = e.copy()"
   ]
  },
  {
   "cell_type": "code",
   "execution_count": 250,
   "id": "5ad2dc4a",
   "metadata": {},
   "outputs": [],
   "source": [
    "consumo.drop(['distance', 'speed', 'temp_inside', 'temp_outside',\n",
    "       'gas_type', 'AC', 'rain', 'sun'], axis = 1, inplace= True)"
   ]
  },
  {
   "cell_type": "code",
   "execution_count": 251,
   "id": "fe557e41",
   "metadata": {},
   "outputs": [],
   "source": [
    "y = consumo"
   ]
  },
  {
   "cell_type": "code",
   "execution_count": 252,
   "id": "9b8369c2",
   "metadata": {},
   "outputs": [
    {
     "data": {
      "text/html": [
       "<div>\n",
       "<style scoped>\n",
       "    .dataframe tbody tr th:only-of-type {\n",
       "        vertical-align: middle;\n",
       "    }\n",
       "\n",
       "    .dataframe tbody tr th {\n",
       "        vertical-align: top;\n",
       "    }\n",
       "\n",
       "    .dataframe thead th {\n",
       "        text-align: right;\n",
       "    }\n",
       "</style>\n",
       "<table border=\"1\" class=\"dataframe\">\n",
       "  <thead>\n",
       "    <tr style=\"text-align: right;\">\n",
       "      <th></th>\n",
       "      <th>consume</th>\n",
       "    </tr>\n",
       "  </thead>\n",
       "  <tbody>\n",
       "    <tr>\n",
       "      <th>0</th>\n",
       "      <td>28.0</td>\n",
       "    </tr>\n",
       "    <tr>\n",
       "      <th>1</th>\n",
       "      <td>12.0</td>\n",
       "    </tr>\n",
       "    <tr>\n",
       "      <th>2</th>\n",
       "      <td>11.2</td>\n",
       "    </tr>\n",
       "    <tr>\n",
       "      <th>3</th>\n",
       "      <td>12.9</td>\n",
       "    </tr>\n",
       "    <tr>\n",
       "      <th>4</th>\n",
       "      <td>18.5</td>\n",
       "    </tr>\n",
       "    <tr>\n",
       "      <th>...</th>\n",
       "      <td>...</td>\n",
       "    </tr>\n",
       "    <tr>\n",
       "      <th>383</th>\n",
       "      <td>16.0</td>\n",
       "    </tr>\n",
       "    <tr>\n",
       "      <th>384</th>\n",
       "      <td>16.1</td>\n",
       "    </tr>\n",
       "    <tr>\n",
       "      <th>385</th>\n",
       "      <td>16.0</td>\n",
       "    </tr>\n",
       "    <tr>\n",
       "      <th>386</th>\n",
       "      <td>15.4</td>\n",
       "    </tr>\n",
       "    <tr>\n",
       "      <th>387</th>\n",
       "      <td>14.7</td>\n",
       "    </tr>\n",
       "  </tbody>\n",
       "</table>\n",
       "<p>388 rows × 1 columns</p>\n",
       "</div>"
      ],
      "text/plain": [
       "     consume\n",
       "0       28.0\n",
       "1       12.0\n",
       "2       11.2\n",
       "3       12.9\n",
       "4       18.5\n",
       "..       ...\n",
       "383     16.0\n",
       "384     16.1\n",
       "385     16.0\n",
       "386     15.4\n",
       "387     14.7\n",
       "\n",
       "[388 rows x 1 columns]"
      ]
     },
     "execution_count": 252,
     "metadata": {},
     "output_type": "execute_result"
    }
   ],
   "source": [
    "y"
   ]
  },
  {
   "cell_type": "code",
   "execution_count": 253,
   "id": "230e42c0",
   "metadata": {},
   "outputs": [],
   "source": [
    "X = e.copy()"
   ]
  },
  {
   "cell_type": "code",
   "execution_count": 254,
   "id": "d49c2ba5",
   "metadata": {},
   "outputs": [],
   "source": [
    "X.drop('consume', axis = 1, inplace = True)"
   ]
  },
  {
   "cell_type": "code",
   "execution_count": 255,
   "id": "259f0a0a",
   "metadata": {},
   "outputs": [],
   "source": [
    "X_train, X_test, y_train, y_test = tts(X,y, test_size=0.2)"
   ]
  },
  {
   "cell_type": "code",
   "execution_count": 264,
   "id": "26e4d7cc",
   "metadata": {},
   "outputs": [],
   "source": [
    "from sklearn.linear_model import Ridge, Lasso\n",
    "\n",
    "from sklearn.linear_model import SGDRegressor\n",
    "\n",
    "from sklearn.neighbors import KNeighborsRegressor\n",
    "\n",
    "from sklearn.ensemble import GradientBoostingRegressor\n",
    "\n",
    "from sklearn.svm import SVR\n",
    "\n",
    "from sklearn import metrics\n",
    "import numpy as np"
   ]
  },
  {
   "cell_type": "code",
   "execution_count": 261,
   "id": "75258310",
   "metadata": {},
   "outputs": [],
   "source": [
    "models={\n",
    "    'ridge': Ridge(),\n",
    "    'lasso': Lasso(),\n",
    "    'sgd': SGDRegressor(),\n",
    "    'knn': KNeighborsRegressor(),\n",
    "    'grad': GradientBoostingRegressor(),\n",
    "}"
   ]
  },
  {
   "cell_type": "code",
   "execution_count": 262,
   "id": "8a103917",
   "metadata": {},
   "outputs": [
    {
     "name": "stdout",
     "output_type": "stream",
     "text": [
      "ENTRENANDO:  ridge\n",
      "ENTRENANDO:  lasso\n",
      "ENTRENANDO:  sgd\n",
      "ENTRENANDO:  knn\n",
      "ENTRENANDO:  grad\n"
     ]
    },
    {
     "name": "stderr",
     "output_type": "stream",
     "text": [
      "/home/mariadelas/anaconda3/envs/ironhack/lib/python3.8/site-packages/sklearn/utils/validation.py:985: DataConversionWarning: A column-vector y was passed when a 1d array was expected. Please change the shape of y to (n_samples, ), for example using ravel().\n",
      "  y = column_or_1d(y, warn=True)\n",
      "/home/mariadelas/anaconda3/envs/ironhack/lib/python3.8/site-packages/sklearn/ensemble/_gb.py:494: DataConversionWarning: A column-vector y was passed when a 1d array was expected. Please change the shape of y to (n_samples, ), for example using ravel().\n",
      "  y = column_or_1d(y, warn=True)\n"
     ]
    }
   ],
   "source": [
    "for name, model in models.items():\n",
    "    print(\"ENTRENANDO: \", name)\n",
    "    model.fit(X_train, y_train)"
   ]
  },
  {
   "cell_type": "code",
   "execution_count": 265,
   "id": "82a45e7a",
   "metadata": {},
   "outputs": [
    {
     "name": "stdout",
     "output_type": "stream",
     "text": [
      "------ridge------\n",
      "MAE -  0.00011603846226233162\n",
      "MSE -  4.354098456616113e-08\n",
      "RMSE -  0.0002086647659911973\n",
      "R2 -  0.9999999999239537\n",
      "------lasso------\n",
      "MAE -  0.019422382064645957\n",
      "MSE -  0.0023160609414599785\n",
      "RMSE -  0.04812547081806035\n",
      "R2 -  0.9999959548931695\n",
      "------sgd------\n",
      "MAE -  1527683060848.7036\n",
      "MSE -  3.620144746048999e+24\n",
      "RMSE -  1902667797080.9827\n",
      "R2 -  -6.322749102739901e+21\n",
      "------knn------\n",
      "MAE -  2.288205128205129\n",
      "MSE -  48.865517948717944\n",
      "RMSE -  6.990387539236859\n",
      "R2 -  0.9146541280973977\n",
      "------grad------\n",
      "MAE -  0.22351108948729673\n",
      "MSE -  0.46454585304117485\n",
      "RMSE -  0.6815760067968758\n",
      "R2 -  0.9991886493271566\n"
     ]
    }
   ],
   "source": [
    "#Podemos seguir el mismo proceso para realizar predicciones de cada algoritmo y sacar métricas\n",
    "for name, model in models.items():\n",
    "    y_pred = model.predict(X_test)\n",
    "    print(f\"------{name}------\")\n",
    "    print('MAE - ', metrics.mean_absolute_error(y_test, y_pred))\n",
    "    print('MSE - ', metrics.mean_squared_error(y_test, y_pred))\n",
    "    print('RMSE - ', np.sqrt(metrics.mean_squared_error(y_test, y_pred)))\n",
    "    print('R2 - ', metrics.r2_score(y_test, y_pred))"
   ]
  },
  {
   "cell_type": "code",
   "execution_count": null,
   "id": "45208664",
   "metadata": {},
   "outputs": [],
   "source": []
  },
  {
   "cell_type": "code",
   "execution_count": null,
   "id": "66b33e2f",
   "metadata": {},
   "outputs": [],
   "source": []
  }
 ],
 "metadata": {
  "kernelspec": {
   "display_name": "ironhack",
   "language": "python",
   "name": "ironhack"
  },
  "language_info": {
   "codemirror_mode": {
    "name": "ipython",
    "version": 3
   },
   "file_extension": ".py",
   "mimetype": "text/x-python",
   "name": "python",
   "nbconvert_exporter": "python",
   "pygments_lexer": "ipython3",
   "version": "3.8.5"
  }
 },
 "nbformat": 4,
 "nbformat_minor": 5
}
