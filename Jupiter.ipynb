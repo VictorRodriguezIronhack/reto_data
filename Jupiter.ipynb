{
 "cells": [
  {
   "cell_type": "markdown",
   "id": "34909183",
   "metadata": {
    "toc": true
   },
   "source": [
    "<h1>Table of Contents<span class=\"tocSkip\"></span></h1>\n",
    "<div class=\"toc\"><ul class=\"toc-item\"><li><span><a href=\"#Imports\" data-toc-modified-id=\"Imports-1\"><span class=\"toc-item-num\">1&nbsp;&nbsp;</span>Imports</a></span></li><li><span><a href=\"#ETL\" data-toc-modified-id=\"ETL-2\"><span class=\"toc-item-num\">2&nbsp;&nbsp;</span>ETL</a></span><ul class=\"toc-item\"><li><span><a href=\"#Revisando-los-dos-DataFrames\" data-toc-modified-id=\"Revisando-los-dos-DataFrames-2.1\"><span class=\"toc-item-num\">2.1&nbsp;&nbsp;</span>Revisando los dos DataFrames</a></span></li><li><span><a href=\"#Segundo-DataFrame\" data-toc-modified-id=\"Segundo-DataFrame-2.2\"><span class=\"toc-item-num\">2.2&nbsp;&nbsp;</span>Segundo DataFrame</a></span><ul class=\"toc-item\"><li><span><a href=\"#Exploración-de-columnas-AC-RAIN-SUN\" data-toc-modified-id=\"Exploración-de-columnas-AC-RAIN-SUN-2.2.1\"><span class=\"toc-item-num\">2.2.1&nbsp;&nbsp;</span>Exploración de columnas AC RAIN SUN</a></span></li><li><span><a href=\"#Explorar-columnas-gas-type-y-temps\" data-toc-modified-id=\"Explorar-columnas-gas-type-y-temps-2.2.2\"><span class=\"toc-item-num\">2.2.2&nbsp;&nbsp;</span>Explorar columnas gas type y temps</a></span></li></ul></li></ul></li><li><span><a href=\"#Sql\" data-toc-modified-id=\"Sql-3\"><span class=\"toc-item-num\">3&nbsp;&nbsp;</span>Sql</a></span></li></ul></div>"
   ]
  },
  {
   "cell_type": "markdown",
   "id": "00b5d589",
   "metadata": {},
   "source": [
    "# Imports"
   ]
  },
  {
   "cell_type": "code",
   "execution_count": 109,
   "id": "e86792ab",
   "metadata": {},
   "outputs": [],
   "source": [
    "import pandas as pd\n",
    "import numpy as np\n",
    "import seaborn as sns\n",
    "\n",
    "import matplotlib.pyplot as plt  \n",
    "\n",
    "import sys                                                          #My Own Functions\n",
    "sys.path.append('../')\n",
    "from src.functions import * \n",
    "import mysql.connector as conn"
   ]
  },
  {
   "cell_type": "markdown",
   "id": "8095d0da",
   "metadata": {},
   "source": [
    "# ETL"
   ]
  },
  {
   "cell_type": "code",
   "execution_count": 2,
   "id": "efed043a",
   "metadata": {},
   "outputs": [],
   "source": [
    "df = pd.read_csv('measurements.csv')"
   ]
  },
  {
   "cell_type": "code",
   "execution_count": 4,
   "id": "84fd9ba2",
   "metadata": {},
   "outputs": [],
   "source": [
    "df2= pd.read_excel('measurements2.xlsx')"
   ]
  },
  {
   "cell_type": "markdown",
   "id": "c8569797",
   "metadata": {},
   "source": [
    "## Revisando los dos DataFrames"
   ]
  },
  {
   "cell_type": "code",
   "execution_count": 7,
   "id": "f9edbef6",
   "metadata": {},
   "outputs": [
    {
     "data": {
      "text/plain": [
       "(388, 12)"
      ]
     },
     "execution_count": 7,
     "metadata": {},
     "output_type": "execute_result"
    }
   ],
   "source": [
    "dim_original=df.shape\n",
    "\n",
    "df.shape"
   ]
  },
  {
   "cell_type": "code",
   "execution_count": 15,
   "id": "64d3069b",
   "metadata": {},
   "outputs": [
    {
     "data": {
      "text/plain": [
       "(388, 12)"
      ]
     },
     "execution_count": 15,
     "metadata": {},
     "output_type": "execute_result"
    }
   ],
   "source": [
    "df2.shape"
   ]
  },
  {
   "cell_type": "code",
   "execution_count": 11,
   "id": "71f558f9",
   "metadata": {},
   "outputs": [
    {
     "data": {
      "text/html": [
       "<div>\n",
       "<style scoped>\n",
       "    .dataframe tbody tr th:only-of-type {\n",
       "        vertical-align: middle;\n",
       "    }\n",
       "\n",
       "    .dataframe tbody tr th {\n",
       "        vertical-align: top;\n",
       "    }\n",
       "\n",
       "    .dataframe thead th {\n",
       "        text-align: right;\n",
       "    }\n",
       "</style>\n",
       "<table border=\"1\" class=\"dataframe\">\n",
       "  <thead>\n",
       "    <tr style=\"text-align: right;\">\n",
       "      <th></th>\n",
       "      <th>distance</th>\n",
       "      <th>consume</th>\n",
       "      <th>speed</th>\n",
       "      <th>temp_inside</th>\n",
       "      <th>temp_outside</th>\n",
       "      <th>specials</th>\n",
       "      <th>gas_type</th>\n",
       "      <th>AC</th>\n",
       "      <th>rain</th>\n",
       "      <th>sun</th>\n",
       "      <th>refill liters</th>\n",
       "      <th>refill gas</th>\n",
       "    </tr>\n",
       "  </thead>\n",
       "  <tbody>\n",
       "    <tr>\n",
       "      <th>0</th>\n",
       "      <td>28</td>\n",
       "      <td>5</td>\n",
       "      <td>26</td>\n",
       "      <td>21,5</td>\n",
       "      <td>12</td>\n",
       "      <td>NaN</td>\n",
       "      <td>E10</td>\n",
       "      <td>0</td>\n",
       "      <td>0</td>\n",
       "      <td>0</td>\n",
       "      <td>45</td>\n",
       "      <td>E10</td>\n",
       "    </tr>\n",
       "    <tr>\n",
       "      <th>1</th>\n",
       "      <td>12</td>\n",
       "      <td>4,2</td>\n",
       "      <td>30</td>\n",
       "      <td>21,5</td>\n",
       "      <td>13</td>\n",
       "      <td>NaN</td>\n",
       "      <td>E10</td>\n",
       "      <td>0</td>\n",
       "      <td>0</td>\n",
       "      <td>0</td>\n",
       "      <td>NaN</td>\n",
       "      <td>NaN</td>\n",
       "    </tr>\n",
       "    <tr>\n",
       "      <th>2</th>\n",
       "      <td>11,2</td>\n",
       "      <td>5,5</td>\n",
       "      <td>38</td>\n",
       "      <td>21,5</td>\n",
       "      <td>15</td>\n",
       "      <td>NaN</td>\n",
       "      <td>E10</td>\n",
       "      <td>0</td>\n",
       "      <td>0</td>\n",
       "      <td>0</td>\n",
       "      <td>NaN</td>\n",
       "      <td>NaN</td>\n",
       "    </tr>\n",
       "    <tr>\n",
       "      <th>3</th>\n",
       "      <td>12,9</td>\n",
       "      <td>3,9</td>\n",
       "      <td>36</td>\n",
       "      <td>21,5</td>\n",
       "      <td>14</td>\n",
       "      <td>NaN</td>\n",
       "      <td>E10</td>\n",
       "      <td>0</td>\n",
       "      <td>0</td>\n",
       "      <td>0</td>\n",
       "      <td>NaN</td>\n",
       "      <td>NaN</td>\n",
       "    </tr>\n",
       "    <tr>\n",
       "      <th>4</th>\n",
       "      <td>18,5</td>\n",
       "      <td>4,5</td>\n",
       "      <td>46</td>\n",
       "      <td>21,5</td>\n",
       "      <td>15</td>\n",
       "      <td>NaN</td>\n",
       "      <td>E10</td>\n",
       "      <td>0</td>\n",
       "      <td>0</td>\n",
       "      <td>0</td>\n",
       "      <td>NaN</td>\n",
       "      <td>NaN</td>\n",
       "    </tr>\n",
       "  </tbody>\n",
       "</table>\n",
       "</div>"
      ],
      "text/plain": [
       "  distance consume  speed temp_inside  temp_outside specials gas_type  AC  \\\n",
       "0       28       5     26        21,5            12      NaN      E10   0   \n",
       "1       12     4,2     30        21,5            13      NaN      E10   0   \n",
       "2     11,2     5,5     38        21,5            15      NaN      E10   0   \n",
       "3     12,9     3,9     36        21,5            14      NaN      E10   0   \n",
       "4     18,5     4,5     46        21,5            15      NaN      E10   0   \n",
       "\n",
       "   rain  sun refill liters refill gas  \n",
       "0     0    0            45        E10  \n",
       "1     0    0           NaN        NaN  \n",
       "2     0    0           NaN        NaN  \n",
       "3     0    0           NaN        NaN  \n",
       "4     0    0           NaN        NaN  "
      ]
     },
     "execution_count": 11,
     "metadata": {},
     "output_type": "execute_result"
    }
   ],
   "source": [
    "df.head()"
   ]
  },
  {
   "cell_type": "code",
   "execution_count": 14,
   "id": "0475cef2",
   "metadata": {},
   "outputs": [
    {
     "data": {
      "text/html": [
       "<div>\n",
       "<style scoped>\n",
       "    .dataframe tbody tr th:only-of-type {\n",
       "        vertical-align: middle;\n",
       "    }\n",
       "\n",
       "    .dataframe tbody tr th {\n",
       "        vertical-align: top;\n",
       "    }\n",
       "\n",
       "    .dataframe thead th {\n",
       "        text-align: right;\n",
       "    }\n",
       "</style>\n",
       "<table border=\"1\" class=\"dataframe\">\n",
       "  <thead>\n",
       "    <tr style=\"text-align: right;\">\n",
       "      <th></th>\n",
       "      <th>distance</th>\n",
       "      <th>consume</th>\n",
       "      <th>speed</th>\n",
       "      <th>temp_inside</th>\n",
       "      <th>temp_outside</th>\n",
       "      <th>specials</th>\n",
       "      <th>gas_type</th>\n",
       "      <th>AC</th>\n",
       "      <th>rain</th>\n",
       "      <th>sun</th>\n",
       "      <th>refill liters</th>\n",
       "      <th>refill gas</th>\n",
       "    </tr>\n",
       "  </thead>\n",
       "  <tbody>\n",
       "    <tr>\n",
       "      <th>0</th>\n",
       "      <td>28.0</td>\n",
       "      <td>5.0</td>\n",
       "      <td>26</td>\n",
       "      <td>21.5</td>\n",
       "      <td>12</td>\n",
       "      <td>NaN</td>\n",
       "      <td>E10</td>\n",
       "      <td>0</td>\n",
       "      <td>0</td>\n",
       "      <td>0</td>\n",
       "      <td>45.0</td>\n",
       "      <td>E10</td>\n",
       "    </tr>\n",
       "    <tr>\n",
       "      <th>1</th>\n",
       "      <td>12.0</td>\n",
       "      <td>4.2</td>\n",
       "      <td>30</td>\n",
       "      <td>21.5</td>\n",
       "      <td>13</td>\n",
       "      <td>NaN</td>\n",
       "      <td>E10</td>\n",
       "      <td>0</td>\n",
       "      <td>0</td>\n",
       "      <td>0</td>\n",
       "      <td>NaN</td>\n",
       "      <td>NaN</td>\n",
       "    </tr>\n",
       "    <tr>\n",
       "      <th>2</th>\n",
       "      <td>11.2</td>\n",
       "      <td>5.5</td>\n",
       "      <td>38</td>\n",
       "      <td>21.5</td>\n",
       "      <td>15</td>\n",
       "      <td>NaN</td>\n",
       "      <td>E10</td>\n",
       "      <td>0</td>\n",
       "      <td>0</td>\n",
       "      <td>0</td>\n",
       "      <td>NaN</td>\n",
       "      <td>NaN</td>\n",
       "    </tr>\n",
       "    <tr>\n",
       "      <th>3</th>\n",
       "      <td>12.9</td>\n",
       "      <td>3.9</td>\n",
       "      <td>36</td>\n",
       "      <td>21.5</td>\n",
       "      <td>14</td>\n",
       "      <td>NaN</td>\n",
       "      <td>E10</td>\n",
       "      <td>0</td>\n",
       "      <td>0</td>\n",
       "      <td>0</td>\n",
       "      <td>NaN</td>\n",
       "      <td>NaN</td>\n",
       "    </tr>\n",
       "    <tr>\n",
       "      <th>4</th>\n",
       "      <td>18.5</td>\n",
       "      <td>4.5</td>\n",
       "      <td>46</td>\n",
       "      <td>21.5</td>\n",
       "      <td>15</td>\n",
       "      <td>NaN</td>\n",
       "      <td>E10</td>\n",
       "      <td>0</td>\n",
       "      <td>0</td>\n",
       "      <td>0</td>\n",
       "      <td>NaN</td>\n",
       "      <td>NaN</td>\n",
       "    </tr>\n",
       "  </tbody>\n",
       "</table>\n",
       "</div>"
      ],
      "text/plain": [
       "   distance  consume  speed  temp_inside  temp_outside specials gas_type  AC  \\\n",
       "0      28.0      5.0     26         21.5            12      NaN      E10   0   \n",
       "1      12.0      4.2     30         21.5            13      NaN      E10   0   \n",
       "2      11.2      5.5     38         21.5            15      NaN      E10   0   \n",
       "3      12.9      3.9     36         21.5            14      NaN      E10   0   \n",
       "4      18.5      4.5     46         21.5            15      NaN      E10   0   \n",
       "\n",
       "   rain  sun  refill liters refill gas  \n",
       "0     0    0           45.0        E10  \n",
       "1     0    0            NaN        NaN  \n",
       "2     0    0            NaN        NaN  \n",
       "3     0    0            NaN        NaN  \n",
       "4     0    0            NaN        NaN  "
      ]
     },
     "execution_count": 14,
     "metadata": {},
     "output_type": "execute_result"
    }
   ],
   "source": [
    "df2.head()"
   ]
  },
  {
   "cell_type": "code",
   "execution_count": 6,
   "id": "7c276d48",
   "metadata": {},
   "outputs": [
    {
     "data": {
      "text/plain": [
       "distance           0\n",
       "consume            0\n",
       "speed              0\n",
       "temp_inside       12\n",
       "temp_outside       0\n",
       "specials         295\n",
       "gas_type           0\n",
       "AC                 0\n",
       "rain               0\n",
       "sun                0\n",
       "refill liters    375\n",
       "refill gas       375\n",
       "dtype: int64"
      ]
     },
     "execution_count": 6,
     "metadata": {},
     "output_type": "execute_result"
    }
   ],
   "source": [
    "df.isna().sum()"
   ]
  },
  {
   "cell_type": "code",
   "execution_count": 16,
   "id": "3638672b",
   "metadata": {},
   "outputs": [
    {
     "data": {
      "text/plain": [
       "distance           0\n",
       "consume            0\n",
       "speed              0\n",
       "temp_inside       12\n",
       "temp_outside       0\n",
       "specials         295\n",
       "gas_type           0\n",
       "AC                 0\n",
       "rain               0\n",
       "sun                0\n",
       "refill liters    375\n",
       "refill gas       375\n",
       "dtype: int64"
      ]
     },
     "execution_count": 16,
     "metadata": {},
     "output_type": "execute_result"
    }
   ],
   "source": [
    "df2.isna().sum()"
   ]
  },
  {
   "cell_type": "code",
   "execution_count": 17,
   "id": "9db2a635",
   "metadata": {},
   "outputs": [
    {
     "name": "stdout",
     "output_type": "stream",
     "text": [
      "<class 'pandas.core.frame.DataFrame'>\n",
      "RangeIndex: 388 entries, 0 to 387\n",
      "Data columns (total 12 columns):\n",
      " #   Column         Non-Null Count  Dtype  \n",
      "---  ------         --------------  -----  \n",
      " 0   distance       388 non-null    float64\n",
      " 1   consume        388 non-null    float64\n",
      " 2   speed          388 non-null    int64  \n",
      " 3   temp_inside    376 non-null    float64\n",
      " 4   temp_outside   388 non-null    int64  \n",
      " 5   specials       93 non-null     object \n",
      " 6   gas_type       388 non-null    object \n",
      " 7   AC             388 non-null    int64  \n",
      " 8   rain           388 non-null    int64  \n",
      " 9   sun            388 non-null    int64  \n",
      " 10  refill liters  13 non-null     float64\n",
      " 11  refill gas     13 non-null     object \n",
      "dtypes: float64(4), int64(5), object(3)\n",
      "memory usage: 36.5+ KB\n"
     ]
    }
   ],
   "source": [
    "df2.info()"
   ]
  },
  {
   "cell_type": "code",
   "execution_count": 10,
   "id": "cd32f150",
   "metadata": {},
   "outputs": [
    {
     "name": "stdout",
     "output_type": "stream",
     "text": [
      "<class 'pandas.core.frame.DataFrame'>\n",
      "RangeIndex: 388 entries, 0 to 387\n",
      "Data columns (total 12 columns):\n",
      " #   Column         Non-Null Count  Dtype \n",
      "---  ------         --------------  ----- \n",
      " 0   distance       388 non-null    object\n",
      " 1   consume        388 non-null    object\n",
      " 2   speed          388 non-null    int64 \n",
      " 3   temp_inside    376 non-null    object\n",
      " 4   temp_outside   388 non-null    int64 \n",
      " 5   specials       93 non-null     object\n",
      " 6   gas_type       388 non-null    object\n",
      " 7   AC             388 non-null    int64 \n",
      " 8   rain           388 non-null    int64 \n",
      " 9   sun            388 non-null    int64 \n",
      " 10  refill liters  13 non-null     object\n",
      " 11  refill gas     13 non-null     object\n",
      "dtypes: int64(5), object(7)\n",
      "memory usage: 36.5+ KB\n"
     ]
    }
   ],
   "source": [
    "df.info()"
   ]
  },
  {
   "cell_type": "code",
   "execution_count": 9,
   "id": "5ef5c876",
   "metadata": {},
   "outputs": [
    {
     "data": {
      "text/plain": [
       "Index(['distance', 'consume', 'speed', 'temp_inside', 'temp_outside',\n",
       "       'specials', 'gas_type', 'AC', 'rain', 'sun', 'refill liters',\n",
       "       'refill gas'],\n",
       "      dtype='object')"
      ]
     },
     "execution_count": 9,
     "metadata": {},
     "output_type": "execute_result"
    }
   ],
   "source": [
    "df.columns"
   ]
  },
  {
   "cell_type": "markdown",
   "id": "03c69f7c",
   "metadata": {},
   "source": [
    "En primer lugar, vemos que los datasets son iguales. Por lo tanto, nos vamos a quedar con el df2 ya que los datos estan mejor formateados"
   ]
  },
  {
   "cell_type": "markdown",
   "id": "3778537c",
   "metadata": {},
   "source": [
    "## Segundo DataFrame"
   ]
  },
  {
   "cell_type": "markdown",
   "id": "8b53cc2b",
   "metadata": {},
   "source": [
    "drop duplicates"
   ]
  },
  {
   "cell_type": "code",
   "execution_count": 48,
   "id": "4ded5ea9",
   "metadata": {},
   "outputs": [
    {
     "data": {
      "text/plain": [
       "True"
      ]
     },
     "execution_count": 48,
     "metadata": {},
     "output_type": "execute_result"
    }
   ],
   "source": [
    "len(df.drop_duplicates())==len(df)"
   ]
  },
  {
   "cell_type": "code",
   "execution_count": 49,
   "id": "567c4e8b",
   "metadata": {},
   "outputs": [],
   "source": [
    "df=df.drop_duplicates()"
   ]
  },
  {
   "cell_type": "markdown",
   "id": "ec40df48",
   "metadata": {},
   "source": [
    "Hacemos drop de las columnas con practicamente todo valores NaN"
   ]
  },
  {
   "cell_type": "code",
   "execution_count": 20,
   "id": "2b70c019",
   "metadata": {},
   "outputs": [],
   "source": [
    "df = df2 #Sustituimos para escribir menos\n"
   ]
  },
  {
   "cell_type": "code",
   "execution_count": 21,
   "id": "7a0bff69",
   "metadata": {},
   "outputs": [
    {
     "data": {
      "text/plain": [
       "temp_inside       12\n",
       "specials         295\n",
       "refill liters    375\n",
       "refill gas       375\n",
       "dtype: int64"
      ]
     },
     "execution_count": 21,
     "metadata": {},
     "output_type": "execute_result"
    }
   ],
   "source": [
    "nan_cols=df.isna().sum()\n",
    "\n",
    "nan_cols[nan_cols>0]"
   ]
  },
  {
   "cell_type": "code",
   "execution_count": 23,
   "id": "2cf27049",
   "metadata": {},
   "outputs": [
    {
     "data": {
      "text/plain": [
       "Index(['specials', 'refill liters', 'refill gas'], dtype='object')"
      ]
     },
     "execution_count": 23,
     "metadata": {},
     "output_type": "execute_result"
    }
   ],
   "source": [
    "nan_cols[nan_cols>1e2].index"
   ]
  },
  {
   "cell_type": "code",
   "execution_count": 24,
   "id": "6c676a96",
   "metadata": {},
   "outputs": [],
   "source": [
    "df=df.drop(columns=nan_cols[nan_cols>1e2].index)  # Eliminamos las columnas con mas de 200 registros nulos de 388"
   ]
  },
  {
   "cell_type": "code",
   "execution_count": 27,
   "id": "eb963464",
   "metadata": {},
   "outputs": [
    {
     "data": {
      "text/plain": [
       "temp_inside    12\n",
       "dtype: int64"
      ]
     },
     "execution_count": 27,
     "metadata": {},
     "output_type": "execute_result"
    }
   ],
   "source": [
    "nan_cols=df.isna().sum() # Solo tenemos una columna con nulos :  12 nulos\n",
    "nan_cols[nan_cols>0]"
   ]
  },
  {
   "cell_type": "code",
   "execution_count": 44,
   "id": "b9884963",
   "metadata": {},
   "outputs": [
    {
     "data": {
      "text/plain": [
       "21.929521276595743"
      ]
     },
     "execution_count": 44,
     "metadata": {},
     "output_type": "execute_result"
    }
   ],
   "source": [
    "mean_temp = df.temp_inside.mean()\n",
    "mean_temp"
   ]
  },
  {
   "cell_type": "code",
   "execution_count": 45,
   "id": "5ebe379d",
   "metadata": {},
   "outputs": [],
   "source": [
    "df['temp_inside']=df['temp_inside'].fillna(mean_temp)"
   ]
  },
  {
   "cell_type": "markdown",
   "id": "3aa5c127",
   "metadata": {},
   "source": [
    "### Exploración de columnas AC RAIN SUN"
   ]
  },
  {
   "cell_type": "code",
   "execution_count": 30,
   "id": "4a0ba3a7",
   "metadata": {},
   "outputs": [
    {
     "data": {
      "text/plain": [
       "0    358\n",
       "1     30\n",
       "Name: AC, dtype: int64"
      ]
     },
     "execution_count": 30,
     "metadata": {},
     "output_type": "execute_result"
    }
   ],
   "source": [
    "df.AC.value_counts() # Creo que AC es Air Conditioner y 0 y 1 es un binary encoding donde 0 es no, 1 es sí"
   ]
  },
  {
   "cell_type": "code",
   "execution_count": 31,
   "id": "d449283b",
   "metadata": {},
   "outputs": [
    {
     "data": {
      "text/plain": [
       "0    340\n",
       "1     48\n",
       "Name: rain, dtype: int64"
      ]
     },
     "execution_count": 31,
     "metadata": {},
     "output_type": "execute_result"
    }
   ],
   "source": [
    "df.rain.value_counts() #binary encoding"
   ]
  },
  {
   "cell_type": "code",
   "execution_count": 32,
   "id": "cdf68456",
   "metadata": {},
   "outputs": [
    {
     "data": {
      "text/plain": [
       "0    356\n",
       "1     32\n",
       "Name: sun, dtype: int64"
      ]
     },
     "execution_count": 32,
     "metadata": {},
     "output_type": "execute_result"
    }
   ],
   "source": [
    "df.sun.value_counts() #binary encoding"
   ]
  },
  {
   "cell_type": "code",
   "execution_count": 33,
   "id": "3a8a0520",
   "metadata": {},
   "outputs": [
    {
     "name": "stdout",
     "output_type": "stream",
     "text": [
      "<class 'pandas.core.frame.DataFrame'>\n",
      "RangeIndex: 388 entries, 0 to 387\n",
      "Data columns (total 9 columns):\n",
      " #   Column        Non-Null Count  Dtype  \n",
      "---  ------        --------------  -----  \n",
      " 0   distance      388 non-null    float64\n",
      " 1   consume       388 non-null    float64\n",
      " 2   speed         388 non-null    int64  \n",
      " 3   temp_inside   376 non-null    float64\n",
      " 4   temp_outside  388 non-null    int64  \n",
      " 5   gas_type      388 non-null    object \n",
      " 6   AC            388 non-null    int64  \n",
      " 7   rain          388 non-null    int64  \n",
      " 8   sun           388 non-null    int64  \n",
      "dtypes: float64(3), int64(5), object(1)\n",
      "memory usage: 27.4+ KB\n"
     ]
    }
   ],
   "source": [
    "df.info()"
   ]
  },
  {
   "cell_type": "markdown",
   "id": "e3c0f828",
   "metadata": {},
   "source": [
    "### Explorar columnas gas type y temps"
   ]
  },
  {
   "cell_type": "code",
   "execution_count": 35,
   "id": "bcc826f1",
   "metadata": {},
   "outputs": [
    {
     "data": {
      "text/plain": [
       "SP98    228\n",
       "E10     160\n",
       "Name: gas_type, dtype: int64"
      ]
     },
     "execution_count": 35,
     "metadata": {},
     "output_type": "execute_result"
    }
   ],
   "source": [
    "df.gas_type.value_counts() # todo ok 2 tipos de gasolina. Vemos que se utiliza mas SP98"
   ]
  },
  {
   "cell_type": "code",
   "execution_count": 37,
   "id": "bff4ea08",
   "metadata": {},
   "outputs": [
    {
     "data": {
      "text/plain": [
       "21.5    133\n",
       "22.0    102\n",
       "22.5     59\n",
       "20.0     25\n",
       "21.0     13\n",
       "23.0     13\n",
       "25.0     12\n",
       "24.5      7\n",
       "20.5      4\n",
       "24.0      3\n",
       "25.5      2\n",
       "23.5      2\n",
       "19.0      1\n",
       "Name: temp_inside, dtype: int64"
      ]
     },
     "execution_count": 37,
     "metadata": {},
     "output_type": "execute_result"
    }
   ],
   "source": [
    "df.temp_inside.value_counts()"
   ]
  },
  {
   "cell_type": "code",
   "execution_count": 40,
   "id": "bcb61be4",
   "metadata": {},
   "outputs": [
    {
     "data": {
      "text/plain": [
       "21.929521276595743"
      ]
     },
     "execution_count": 40,
     "metadata": {},
     "output_type": "execute_result"
    }
   ],
   "source": [
    "df.temp_inside.mean()"
   ]
  },
  {
   "cell_type": "code",
   "execution_count": 38,
   "id": "b935edf6",
   "metadata": {},
   "outputs": [
    {
     "data": {
      "text/plain": [
       " 10    31\n",
       " 8     31\n",
       " 7     28\n",
       " 6     21\n",
       " 9     20\n",
       " 11    20\n",
       " 18    19\n",
       " 12    17\n",
       " 4     17\n",
       " 16    16\n",
       " 17    16\n",
       " 13    14\n",
       " 15    14\n",
       " 5     13\n",
       " 3     13\n",
       " 14    13\n",
       " 1     12\n",
       " 21     9\n",
       " 0      9\n",
       " 2      7\n",
       " 23     7\n",
       " 24     7\n",
       " 19     5\n",
       " 27     5\n",
       " 26     4\n",
       " 20     3\n",
       " 22     3\n",
       " 25     3\n",
       " 30     3\n",
       " 31     3\n",
       " 28     2\n",
       "-3      2\n",
       "-5      1\n",
       "Name: temp_outside, dtype: int64"
      ]
     },
     "execution_count": 38,
     "metadata": {},
     "output_type": "execute_result"
    }
   ],
   "source": [
    "df.temp_outside.value_counts()"
   ]
  },
  {
   "cell_type": "code",
   "execution_count": 41,
   "id": "8da530c0",
   "metadata": {},
   "outputs": [
    {
     "data": {
      "text/plain": [
       "11.358247422680412"
      ]
     },
     "execution_count": 41,
     "metadata": {},
     "output_type": "execute_result"
    }
   ],
   "source": [
    "df.temp_outside.mean()"
   ]
  },
  {
   "cell_type": "code",
   "execution_count": 46,
   "id": "29a1e712",
   "metadata": {},
   "outputs": [
    {
     "data": {
      "text/html": [
       "<div>\n",
       "<style scoped>\n",
       "    .dataframe tbody tr th:only-of-type {\n",
       "        vertical-align: middle;\n",
       "    }\n",
       "\n",
       "    .dataframe tbody tr th {\n",
       "        vertical-align: top;\n",
       "    }\n",
       "\n",
       "    .dataframe thead th {\n",
       "        text-align: right;\n",
       "    }\n",
       "</style>\n",
       "<table border=\"1\" class=\"dataframe\">\n",
       "  <thead>\n",
       "    <tr style=\"text-align: right;\">\n",
       "      <th></th>\n",
       "      <th>distance</th>\n",
       "      <th>consume</th>\n",
       "      <th>speed</th>\n",
       "      <th>temp_inside</th>\n",
       "      <th>temp_outside</th>\n",
       "      <th>gas_type</th>\n",
       "      <th>AC</th>\n",
       "      <th>rain</th>\n",
       "      <th>sun</th>\n",
       "    </tr>\n",
       "  </thead>\n",
       "  <tbody>\n",
       "    <tr>\n",
       "      <th>0</th>\n",
       "      <td>28.0</td>\n",
       "      <td>5.0</td>\n",
       "      <td>26</td>\n",
       "      <td>21.5</td>\n",
       "      <td>12</td>\n",
       "      <td>E10</td>\n",
       "      <td>0</td>\n",
       "      <td>0</td>\n",
       "      <td>0</td>\n",
       "    </tr>\n",
       "    <tr>\n",
       "      <th>1</th>\n",
       "      <td>12.0</td>\n",
       "      <td>4.2</td>\n",
       "      <td>30</td>\n",
       "      <td>21.5</td>\n",
       "      <td>13</td>\n",
       "      <td>E10</td>\n",
       "      <td>0</td>\n",
       "      <td>0</td>\n",
       "      <td>0</td>\n",
       "    </tr>\n",
       "    <tr>\n",
       "      <th>2</th>\n",
       "      <td>11.2</td>\n",
       "      <td>5.5</td>\n",
       "      <td>38</td>\n",
       "      <td>21.5</td>\n",
       "      <td>15</td>\n",
       "      <td>E10</td>\n",
       "      <td>0</td>\n",
       "      <td>0</td>\n",
       "      <td>0</td>\n",
       "    </tr>\n",
       "    <tr>\n",
       "      <th>3</th>\n",
       "      <td>12.9</td>\n",
       "      <td>3.9</td>\n",
       "      <td>36</td>\n",
       "      <td>21.5</td>\n",
       "      <td>14</td>\n",
       "      <td>E10</td>\n",
       "      <td>0</td>\n",
       "      <td>0</td>\n",
       "      <td>0</td>\n",
       "    </tr>\n",
       "    <tr>\n",
       "      <th>4</th>\n",
       "      <td>18.5</td>\n",
       "      <td>4.5</td>\n",
       "      <td>46</td>\n",
       "      <td>21.5</td>\n",
       "      <td>15</td>\n",
       "      <td>E10</td>\n",
       "      <td>0</td>\n",
       "      <td>0</td>\n",
       "      <td>0</td>\n",
       "    </tr>\n",
       "    <tr>\n",
       "      <th>...</th>\n",
       "      <td>...</td>\n",
       "      <td>...</td>\n",
       "      <td>...</td>\n",
       "      <td>...</td>\n",
       "      <td>...</td>\n",
       "      <td>...</td>\n",
       "      <td>...</td>\n",
       "      <td>...</td>\n",
       "      <td>...</td>\n",
       "    </tr>\n",
       "    <tr>\n",
       "      <th>383</th>\n",
       "      <td>16.0</td>\n",
       "      <td>3.7</td>\n",
       "      <td>39</td>\n",
       "      <td>24.5</td>\n",
       "      <td>18</td>\n",
       "      <td>SP98</td>\n",
       "      <td>0</td>\n",
       "      <td>0</td>\n",
       "      <td>0</td>\n",
       "    </tr>\n",
       "    <tr>\n",
       "      <th>384</th>\n",
       "      <td>16.1</td>\n",
       "      <td>4.3</td>\n",
       "      <td>38</td>\n",
       "      <td>25.0</td>\n",
       "      <td>31</td>\n",
       "      <td>SP98</td>\n",
       "      <td>1</td>\n",
       "      <td>0</td>\n",
       "      <td>0</td>\n",
       "    </tr>\n",
       "    <tr>\n",
       "      <th>385</th>\n",
       "      <td>16.0</td>\n",
       "      <td>3.8</td>\n",
       "      <td>45</td>\n",
       "      <td>25.0</td>\n",
       "      <td>19</td>\n",
       "      <td>SP98</td>\n",
       "      <td>0</td>\n",
       "      <td>0</td>\n",
       "      <td>0</td>\n",
       "    </tr>\n",
       "    <tr>\n",
       "      <th>386</th>\n",
       "      <td>15.4</td>\n",
       "      <td>4.6</td>\n",
       "      <td>42</td>\n",
       "      <td>25.0</td>\n",
       "      <td>31</td>\n",
       "      <td>SP98</td>\n",
       "      <td>1</td>\n",
       "      <td>0</td>\n",
       "      <td>0</td>\n",
       "    </tr>\n",
       "    <tr>\n",
       "      <th>387</th>\n",
       "      <td>14.7</td>\n",
       "      <td>5.0</td>\n",
       "      <td>25</td>\n",
       "      <td>25.0</td>\n",
       "      <td>30</td>\n",
       "      <td>SP98</td>\n",
       "      <td>1</td>\n",
       "      <td>0</td>\n",
       "      <td>0</td>\n",
       "    </tr>\n",
       "  </tbody>\n",
       "</table>\n",
       "<p>388 rows × 9 columns</p>\n",
       "</div>"
      ],
      "text/plain": [
       "     distance  consume  speed  temp_inside  temp_outside gas_type  AC  rain  \\\n",
       "0        28.0      5.0     26         21.5            12      E10   0     0   \n",
       "1        12.0      4.2     30         21.5            13      E10   0     0   \n",
       "2        11.2      5.5     38         21.5            15      E10   0     0   \n",
       "3        12.9      3.9     36         21.5            14      E10   0     0   \n",
       "4        18.5      4.5     46         21.5            15      E10   0     0   \n",
       "..        ...      ...    ...          ...           ...      ...  ..   ...   \n",
       "383      16.0      3.7     39         24.5            18     SP98   0     0   \n",
       "384      16.1      4.3     38         25.0            31     SP98   1     0   \n",
       "385      16.0      3.8     45         25.0            19     SP98   0     0   \n",
       "386      15.4      4.6     42         25.0            31     SP98   1     0   \n",
       "387      14.7      5.0     25         25.0            30     SP98   1     0   \n",
       "\n",
       "     sun  \n",
       "0      0  \n",
       "1      0  \n",
       "2      0  \n",
       "3      0  \n",
       "4      0  \n",
       "..   ...  \n",
       "383    0  \n",
       "384    0  \n",
       "385    0  \n",
       "386    0  \n",
       "387    0  \n",
       "\n",
       "[388 rows x 9 columns]"
      ]
     },
     "execution_count": 46,
     "metadata": {},
     "output_type": "execute_result"
    }
   ],
   "source": [
    "df"
   ]
  },
  {
   "cell_type": "code",
   "execution_count": 50,
   "id": "ef9aac95",
   "metadata": {},
   "outputs": [
    {
     "data": {
      "text/plain": [
       "(388, 9)"
      ]
     },
     "execution_count": 50,
     "metadata": {},
     "output_type": "execute_result"
    }
   ],
   "source": [
    "df.shape"
   ]
  },
  {
   "cell_type": "markdown",
   "id": "f380d5b4",
   "metadata": {},
   "source": [
    "columnas constantes"
   ]
  },
  {
   "cell_type": "code",
   "execution_count": 51,
   "id": "845efab2",
   "metadata": {},
   "outputs": [
    {
     "data": {
      "text/plain": [
       "[]"
      ]
     },
     "execution_count": 51,
     "metadata": {},
     "output_type": "execute_result"
    }
   ],
   "source": [
    "cte_cols=[]\n",
    "\n",
    "for c in df.select_dtypes(include=np.number):  # las columnas numericas\n",
    "    \n",
    "    if df[c].std()==0:\n",
    "        cte_cols.append(c)\n",
    "        \n",
    "cte_cols"
   ]
  },
  {
   "cell_type": "markdown",
   "id": "58a1d3ad",
   "metadata": {},
   "source": [
    "columnas de baja varianza"
   ]
  },
  {
   "cell_type": "code",
   "execution_count": 52,
   "id": "ae0c1fb2",
   "metadata": {},
   "outputs": [
    {
     "data": {
      "text/plain": [
       "['AC', 'sun']"
      ]
     },
     "execution_count": 52,
     "metadata": {},
     "output_type": "execute_result"
    }
   ],
   "source": [
    "lv_cols=[]\n",
    "\n",
    "for c in df.select_dtypes(include=np.number):  # las columnas numericas\n",
    "    \n",
    "    minimo=min(df[c])\n",
    "    \n",
    "    per_90=np.percentile(df[c], 90)  # percentil 90\n",
    "    \n",
    "    if per_90==minimo:\n",
    "        lv_cols.append(c)\n",
    "    \n",
    "    \n",
    "lv_cols "
   ]
  },
  {
   "cell_type": "code",
   "execution_count": 53,
   "id": "64700180",
   "metadata": {},
   "outputs": [],
   "source": [
    "df=df.drop(columns=lv_cols) #dropeamos las columnas AC y Sun"
   ]
  },
  {
   "cell_type": "code",
   "execution_count": 54,
   "id": "031495a8",
   "metadata": {},
   "outputs": [
    {
     "data": {
      "text/html": [
       "<div>\n",
       "<style scoped>\n",
       "    .dataframe tbody tr th:only-of-type {\n",
       "        vertical-align: middle;\n",
       "    }\n",
       "\n",
       "    .dataframe tbody tr th {\n",
       "        vertical-align: top;\n",
       "    }\n",
       "\n",
       "    .dataframe thead th {\n",
       "        text-align: right;\n",
       "    }\n",
       "</style>\n",
       "<table border=\"1\" class=\"dataframe\">\n",
       "  <thead>\n",
       "    <tr style=\"text-align: right;\">\n",
       "      <th></th>\n",
       "      <th>distance</th>\n",
       "      <th>consume</th>\n",
       "      <th>speed</th>\n",
       "      <th>temp_inside</th>\n",
       "      <th>temp_outside</th>\n",
       "      <th>gas_type</th>\n",
       "      <th>rain</th>\n",
       "    </tr>\n",
       "  </thead>\n",
       "  <tbody>\n",
       "    <tr>\n",
       "      <th>0</th>\n",
       "      <td>28.0</td>\n",
       "      <td>5.0</td>\n",
       "      <td>26</td>\n",
       "      <td>21.5</td>\n",
       "      <td>12</td>\n",
       "      <td>E10</td>\n",
       "      <td>0</td>\n",
       "    </tr>\n",
       "    <tr>\n",
       "      <th>1</th>\n",
       "      <td>12.0</td>\n",
       "      <td>4.2</td>\n",
       "      <td>30</td>\n",
       "      <td>21.5</td>\n",
       "      <td>13</td>\n",
       "      <td>E10</td>\n",
       "      <td>0</td>\n",
       "    </tr>\n",
       "    <tr>\n",
       "      <th>2</th>\n",
       "      <td>11.2</td>\n",
       "      <td>5.5</td>\n",
       "      <td>38</td>\n",
       "      <td>21.5</td>\n",
       "      <td>15</td>\n",
       "      <td>E10</td>\n",
       "      <td>0</td>\n",
       "    </tr>\n",
       "    <tr>\n",
       "      <th>3</th>\n",
       "      <td>12.9</td>\n",
       "      <td>3.9</td>\n",
       "      <td>36</td>\n",
       "      <td>21.5</td>\n",
       "      <td>14</td>\n",
       "      <td>E10</td>\n",
       "      <td>0</td>\n",
       "    </tr>\n",
       "    <tr>\n",
       "      <th>4</th>\n",
       "      <td>18.5</td>\n",
       "      <td>4.5</td>\n",
       "      <td>46</td>\n",
       "      <td>21.5</td>\n",
       "      <td>15</td>\n",
       "      <td>E10</td>\n",
       "      <td>0</td>\n",
       "    </tr>\n",
       "    <tr>\n",
       "      <th>...</th>\n",
       "      <td>...</td>\n",
       "      <td>...</td>\n",
       "      <td>...</td>\n",
       "      <td>...</td>\n",
       "      <td>...</td>\n",
       "      <td>...</td>\n",
       "      <td>...</td>\n",
       "    </tr>\n",
       "    <tr>\n",
       "      <th>383</th>\n",
       "      <td>16.0</td>\n",
       "      <td>3.7</td>\n",
       "      <td>39</td>\n",
       "      <td>24.5</td>\n",
       "      <td>18</td>\n",
       "      <td>SP98</td>\n",
       "      <td>0</td>\n",
       "    </tr>\n",
       "    <tr>\n",
       "      <th>384</th>\n",
       "      <td>16.1</td>\n",
       "      <td>4.3</td>\n",
       "      <td>38</td>\n",
       "      <td>25.0</td>\n",
       "      <td>31</td>\n",
       "      <td>SP98</td>\n",
       "      <td>0</td>\n",
       "    </tr>\n",
       "    <tr>\n",
       "      <th>385</th>\n",
       "      <td>16.0</td>\n",
       "      <td>3.8</td>\n",
       "      <td>45</td>\n",
       "      <td>25.0</td>\n",
       "      <td>19</td>\n",
       "      <td>SP98</td>\n",
       "      <td>0</td>\n",
       "    </tr>\n",
       "    <tr>\n",
       "      <th>386</th>\n",
       "      <td>15.4</td>\n",
       "      <td>4.6</td>\n",
       "      <td>42</td>\n",
       "      <td>25.0</td>\n",
       "      <td>31</td>\n",
       "      <td>SP98</td>\n",
       "      <td>0</td>\n",
       "    </tr>\n",
       "    <tr>\n",
       "      <th>387</th>\n",
       "      <td>14.7</td>\n",
       "      <td>5.0</td>\n",
       "      <td>25</td>\n",
       "      <td>25.0</td>\n",
       "      <td>30</td>\n",
       "      <td>SP98</td>\n",
       "      <td>0</td>\n",
       "    </tr>\n",
       "  </tbody>\n",
       "</table>\n",
       "<p>388 rows × 7 columns</p>\n",
       "</div>"
      ],
      "text/plain": [
       "     distance  consume  speed  temp_inside  temp_outside gas_type  rain\n",
       "0        28.0      5.0     26         21.5            12      E10     0\n",
       "1        12.0      4.2     30         21.5            13      E10     0\n",
       "2        11.2      5.5     38         21.5            15      E10     0\n",
       "3        12.9      3.9     36         21.5            14      E10     0\n",
       "4        18.5      4.5     46         21.5            15      E10     0\n",
       "..        ...      ...    ...          ...           ...      ...   ...\n",
       "383      16.0      3.7     39         24.5            18     SP98     0\n",
       "384      16.1      4.3     38         25.0            31     SP98     0\n",
       "385      16.0      3.8     45         25.0            19     SP98     0\n",
       "386      15.4      4.6     42         25.0            31     SP98     0\n",
       "387      14.7      5.0     25         25.0            30     SP98     0\n",
       "\n",
       "[388 rows x 7 columns]"
      ]
     },
     "execution_count": 54,
     "metadata": {},
     "output_type": "execute_result"
    }
   ],
   "source": [
    "df"
   ]
  },
  {
   "cell_type": "markdown",
   "id": "4fa3f3d3",
   "metadata": {},
   "source": [
    "outliers"
   ]
  },
  {
   "cell_type": "code",
   "execution_count": 55,
   "id": "7d594d90",
   "metadata": {},
   "outputs": [
    {
     "data": {
      "text/html": [
       "<div>\n",
       "<style scoped>\n",
       "    .dataframe tbody tr th:only-of-type {\n",
       "        vertical-align: middle;\n",
       "    }\n",
       "\n",
       "    .dataframe tbody tr th {\n",
       "        vertical-align: top;\n",
       "    }\n",
       "\n",
       "    .dataframe thead th {\n",
       "        text-align: right;\n",
       "    }\n",
       "</style>\n",
       "<table border=\"1\" class=\"dataframe\">\n",
       "  <thead>\n",
       "    <tr style=\"text-align: right;\">\n",
       "      <th></th>\n",
       "      <th>count</th>\n",
       "      <th>mean</th>\n",
       "      <th>std</th>\n",
       "      <th>min</th>\n",
       "      <th>25%</th>\n",
       "      <th>50%</th>\n",
       "      <th>75%</th>\n",
       "      <th>max</th>\n",
       "      <th>IQR</th>\n",
       "    </tr>\n",
       "  </thead>\n",
       "  <tbody>\n",
       "    <tr>\n",
       "      <th>consume</th>\n",
       "      <td>388.0</td>\n",
       "      <td>4.912371</td>\n",
       "      <td>1.033172</td>\n",
       "      <td>3.3</td>\n",
       "      <td>4.30</td>\n",
       "      <td>4.7</td>\n",
       "      <td>5.3</td>\n",
       "      <td>12.2</td>\n",
       "      <td>1.00</td>\n",
       "    </tr>\n",
       "    <tr>\n",
       "      <th>speed</th>\n",
       "      <td>388.0</td>\n",
       "      <td>41.927835</td>\n",
       "      <td>13.598524</td>\n",
       "      <td>14.0</td>\n",
       "      <td>32.75</td>\n",
       "      <td>40.5</td>\n",
       "      <td>50.0</td>\n",
       "      <td>90.0</td>\n",
       "      <td>17.25</td>\n",
       "    </tr>\n",
       "    <tr>\n",
       "      <th>temp_inside</th>\n",
       "      <td>388.0</td>\n",
       "      <td>21.929521</td>\n",
       "      <td>0.994666</td>\n",
       "      <td>19.0</td>\n",
       "      <td>21.50</td>\n",
       "      <td>22.0</td>\n",
       "      <td>22.5</td>\n",
       "      <td>25.5</td>\n",
       "      <td>1.00</td>\n",
       "    </tr>\n",
       "    <tr>\n",
       "      <th>temp_outside</th>\n",
       "      <td>388.0</td>\n",
       "      <td>11.358247</td>\n",
       "      <td>6.991542</td>\n",
       "      <td>-5.0</td>\n",
       "      <td>7.00</td>\n",
       "      <td>10.0</td>\n",
       "      <td>16.0</td>\n",
       "      <td>31.0</td>\n",
       "      <td>9.00</td>\n",
       "    </tr>\n",
       "    <tr>\n",
       "      <th>rain</th>\n",
       "      <td>388.0</td>\n",
       "      <td>0.123711</td>\n",
       "      <td>0.329677</td>\n",
       "      <td>0.0</td>\n",
       "      <td>0.00</td>\n",
       "      <td>0.0</td>\n",
       "      <td>0.0</td>\n",
       "      <td>1.0</td>\n",
       "      <td>0.00</td>\n",
       "    </tr>\n",
       "  </tbody>\n",
       "</table>\n",
       "</div>"
      ],
      "text/plain": [
       "              count       mean        std   min    25%   50%   75%   max  \\\n",
       "consume       388.0   4.912371   1.033172   3.3   4.30   4.7   5.3  12.2   \n",
       "speed         388.0  41.927835  13.598524  14.0  32.75  40.5  50.0  90.0   \n",
       "temp_inside   388.0  21.929521   0.994666  19.0  21.50  22.0  22.5  25.5   \n",
       "temp_outside  388.0  11.358247   6.991542  -5.0   7.00  10.0  16.0  31.0   \n",
       "rain          388.0   0.123711   0.329677   0.0   0.00   0.0   0.0   1.0   \n",
       "\n",
       "                IQR  \n",
       "consume        1.00  \n",
       "speed         17.25  \n",
       "temp_inside    1.00  \n",
       "temp_outside   9.00  \n",
       "rain           0.00  "
      ]
     },
     "execution_count": 55,
     "metadata": {},
     "output_type": "execute_result"
    }
   ],
   "source": [
    "stats=df.describe().T\n",
    "\n",
    "stats['IQR']=stats['75%']-stats['25%']\n",
    "\n",
    "stats.tail()"
   ]
  },
  {
   "cell_type": "code",
   "execution_count": 56,
   "id": "145ffacb",
   "metadata": {},
   "outputs": [
    {
     "data": {
      "text/html": [
       "<div>\n",
       "<style scoped>\n",
       "    .dataframe tbody tr th:only-of-type {\n",
       "        vertical-align: middle;\n",
       "    }\n",
       "\n",
       "    .dataframe tbody tr th {\n",
       "        vertical-align: top;\n",
       "    }\n",
       "\n",
       "    .dataframe thead th {\n",
       "        text-align: right;\n",
       "    }\n",
       "</style>\n",
       "<table border=\"1\" class=\"dataframe\">\n",
       "  <thead>\n",
       "    <tr style=\"text-align: right;\">\n",
       "      <th></th>\n",
       "      <th>distance</th>\n",
       "      <th>consume</th>\n",
       "      <th>speed</th>\n",
       "      <th>temp_inside</th>\n",
       "      <th>temp_outside</th>\n",
       "      <th>gas_type</th>\n",
       "      <th>rain</th>\n",
       "    </tr>\n",
       "  </thead>\n",
       "  <tbody>\n",
       "  </tbody>\n",
       "</table>\n",
       "</div>"
      ],
      "text/plain": [
       "Empty DataFrame\n",
       "Columns: [distance, consume, speed, temp_inside, temp_outside, gas_type, rain]\n",
       "Index: []"
      ]
     },
     "execution_count": 56,
     "metadata": {},
     "output_type": "execute_result"
    }
   ],
   "source": [
    "outliers=pd.DataFrame(columns=df.columns)\n",
    "\n",
    "outliers"
   ]
  },
  {
   "cell_type": "code",
   "execution_count": 57,
   "id": "91c1417e",
   "metadata": {},
   "outputs": [
    {
     "data": {
      "text/plain": [
       "rain            48\n",
       "distance        45\n",
       "temp_inside     22\n",
       "consume         13\n",
       "speed            9\n",
       "temp_outside     6\n",
       "Name: outliers, dtype: int64"
      ]
     },
     "execution_count": 57,
     "metadata": {},
     "output_type": "execute_result"
    }
   ],
   "source": [
    "for e in stats.index:\n",
    "    \n",
    "    iqr=stats.at[e, 'IQR']\n",
    "    \n",
    "    cutoff=1.5 * iqr\n",
    "    \n",
    "    lower=stats.at[e, '25%']-cutoff\n",
    "    upper=stats.at[e, '75%']+cutoff\n",
    "    \n",
    "    res=df[(df[e]<lower) | (df[e]>upper)].copy()\n",
    "    \n",
    "    res['outliers']=e\n",
    "    outliers=outliers.append(res, sort=True)  # append de pandas no de listas\n",
    "    \n",
    "outliers['outliers'].value_counts()"
   ]
  },
  {
   "cell_type": "code",
   "execution_count": 61,
   "id": "468a5426",
   "metadata": {},
   "outputs": [
    {
     "data": {
      "text/html": [
       "<div>\n",
       "<style scoped>\n",
       "    .dataframe tbody tr th:only-of-type {\n",
       "        vertical-align: middle;\n",
       "    }\n",
       "\n",
       "    .dataframe tbody tr th {\n",
       "        vertical-align: top;\n",
       "    }\n",
       "\n",
       "    .dataframe thead th {\n",
       "        text-align: right;\n",
       "    }\n",
       "</style>\n",
       "<table border=\"1\" class=\"dataframe\">\n",
       "  <thead>\n",
       "    <tr style=\"text-align: right;\">\n",
       "      <th></th>\n",
       "      <th>consume</th>\n",
       "      <th>distance</th>\n",
       "      <th>gas_type</th>\n",
       "      <th>outliers</th>\n",
       "      <th>rain</th>\n",
       "      <th>speed</th>\n",
       "      <th>temp_inside</th>\n",
       "      <th>temp_outside</th>\n",
       "    </tr>\n",
       "  </thead>\n",
       "  <tbody>\n",
       "    <tr>\n",
       "      <th>16</th>\n",
       "      <td>5.6</td>\n",
       "      <td>33.4</td>\n",
       "      <td>E10</td>\n",
       "      <td>distance</td>\n",
       "      <td>0</td>\n",
       "      <td>36</td>\n",
       "      <td>21.5</td>\n",
       "      <td>3</td>\n",
       "    </tr>\n",
       "    <tr>\n",
       "      <th>33</th>\n",
       "      <td>4.8</td>\n",
       "      <td>32.6</td>\n",
       "      <td>E10</td>\n",
       "      <td>distance</td>\n",
       "      <td>0</td>\n",
       "      <td>40</td>\n",
       "      <td>21.5</td>\n",
       "      <td>7</td>\n",
       "    </tr>\n",
       "    <tr>\n",
       "      <th>55</th>\n",
       "      <td>4.9</td>\n",
       "      <td>153.5</td>\n",
       "      <td>SP98</td>\n",
       "      <td>distance</td>\n",
       "      <td>1</td>\n",
       "      <td>82</td>\n",
       "      <td>21.5</td>\n",
       "      <td>3</td>\n",
       "    </tr>\n",
       "    <tr>\n",
       "      <th>79</th>\n",
       "      <td>4.0</td>\n",
       "      <td>34.8</td>\n",
       "      <td>SP98</td>\n",
       "      <td>distance</td>\n",
       "      <td>0</td>\n",
       "      <td>28</td>\n",
       "      <td>20.0</td>\n",
       "      <td>4</td>\n",
       "    </tr>\n",
       "    <tr>\n",
       "      <th>106</th>\n",
       "      <td>5.5</td>\n",
       "      <td>162.7</td>\n",
       "      <td>SP98</td>\n",
       "      <td>distance</td>\n",
       "      <td>0</td>\n",
       "      <td>75</td>\n",
       "      <td>23.0</td>\n",
       "      <td>1</td>\n",
       "    </tr>\n",
       "  </tbody>\n",
       "</table>\n",
       "</div>"
      ],
      "text/plain": [
       "     consume  distance gas_type  outliers rain speed  temp_inside temp_outside\n",
       "16       5.6      33.4      E10  distance    0    36         21.5            3\n",
       "33       4.8      32.6      E10  distance    0    40         21.5            7\n",
       "55       4.9     153.5     SP98  distance    1    82         21.5            3\n",
       "79       4.0      34.8     SP98  distance    0    28         20.0            4\n",
       "106      5.5     162.7     SP98  distance    0    75         23.0            1"
      ]
     },
     "execution_count": 61,
     "metadata": {},
     "output_type": "execute_result"
    }
   ],
   "source": [
    "outliers.head() # De momento, no vamos a tocar los outliers"
   ]
  },
  {
   "cell_type": "markdown",
   "id": "956f8fe5",
   "metadata": {},
   "source": [
    "colinealidad"
   ]
  },
  {
   "cell_type": "code",
   "execution_count": 64,
   "id": "5249c926",
   "metadata": {},
   "outputs": [
    {
     "data": {
      "text/html": [
       "<div>\n",
       "<style scoped>\n",
       "    .dataframe tbody tr th:only-of-type {\n",
       "        vertical-align: middle;\n",
       "    }\n",
       "\n",
       "    .dataframe tbody tr th {\n",
       "        vertical-align: top;\n",
       "    }\n",
       "\n",
       "    .dataframe thead th {\n",
       "        text-align: right;\n",
       "    }\n",
       "</style>\n",
       "<table border=\"1\" class=\"dataframe\">\n",
       "  <thead>\n",
       "    <tr style=\"text-align: right;\">\n",
       "      <th></th>\n",
       "      <th>distance</th>\n",
       "      <th>consume</th>\n",
       "      <th>speed</th>\n",
       "      <th>temp_inside</th>\n",
       "      <th>temp_outside</th>\n",
       "      <th>rain</th>\n",
       "    </tr>\n",
       "  </thead>\n",
       "  <tbody>\n",
       "    <tr>\n",
       "      <th>distance</th>\n",
       "      <td>1.000000</td>\n",
       "      <td>-0.128967</td>\n",
       "      <td>0.562299</td>\n",
       "      <td>0.075178</td>\n",
       "      <td>0.088175</td>\n",
       "      <td>-0.019791</td>\n",
       "    </tr>\n",
       "    <tr>\n",
       "      <th>consume</th>\n",
       "      <td>-0.128967</td>\n",
       "      <td>1.000000</td>\n",
       "      <td>-0.227866</td>\n",
       "      <td>-0.160623</td>\n",
       "      <td>-0.320811</td>\n",
       "      <td>0.248118</td>\n",
       "    </tr>\n",
       "    <tr>\n",
       "      <th>speed</th>\n",
       "      <td>0.562299</td>\n",
       "      <td>-0.227866</td>\n",
       "      <td>1.000000</td>\n",
       "      <td>0.059293</td>\n",
       "      <td>0.015411</td>\n",
       "      <td>0.009489</td>\n",
       "    </tr>\n",
       "    <tr>\n",
       "      <th>temp_inside</th>\n",
       "      <td>0.075178</td>\n",
       "      <td>-0.160623</td>\n",
       "      <td>0.059293</td>\n",
       "      <td>1.000000</td>\n",
       "      <td>0.359500</td>\n",
       "      <td>-0.036937</td>\n",
       "    </tr>\n",
       "    <tr>\n",
       "      <th>temp_outside</th>\n",
       "      <td>0.088175</td>\n",
       "      <td>-0.320811</td>\n",
       "      <td>0.015411</td>\n",
       "      <td>0.359500</td>\n",
       "      <td>1.000000</td>\n",
       "      <td>-0.186315</td>\n",
       "    </tr>\n",
       "  </tbody>\n",
       "</table>\n",
       "</div>"
      ],
      "text/plain": [
       "              distance   consume     speed  temp_inside  temp_outside  \\\n",
       "distance      1.000000 -0.128967  0.562299     0.075178      0.088175   \n",
       "consume      -0.128967  1.000000 -0.227866    -0.160623     -0.320811   \n",
       "speed         0.562299 -0.227866  1.000000     0.059293      0.015411   \n",
       "temp_inside   0.075178 -0.160623  0.059293     1.000000      0.359500   \n",
       "temp_outside  0.088175 -0.320811  0.015411     0.359500      1.000000   \n",
       "\n",
       "                  rain  \n",
       "distance     -0.019791  \n",
       "consume       0.248118  \n",
       "speed         0.009489  \n",
       "temp_inside  -0.036937  \n",
       "temp_outside -0.186315  "
      ]
     },
     "execution_count": 64,
     "metadata": {},
     "output_type": "execute_result"
    }
   ],
   "source": [
    "df.corr().head()     # matriz de correlación, si salen nulos es por varianza=0"
   ]
  },
  {
   "cell_type": "code",
   "execution_count": 66,
   "id": "bb7170b4",
   "metadata": {},
   "outputs": [
    {
     "data": {
      "text/plain": [
       "0"
      ]
     },
     "execution_count": 66,
     "metadata": {},
     "output_type": "execute_result"
    }
   ],
   "source": [
    "colineales=[]                   # con esto observo las columnas colineales, columnas a eliminar\n",
    "\n",
    "for c in df._get_numeric_data():\n",
    "    \n",
    "    for i in range(len(df.corr())):\n",
    "        \n",
    "        if abs(df.corr()[c][i])>0.9 and abs(df.corr()[c][i])<1:\n",
    "            \n",
    "            colineales.append(c)\n",
    "\n",
    "colineales=list(set(colineales))   \n",
    "\n",
    "len(colineales)"
   ]
  },
  {
   "cell_type": "code",
   "execution_count": 67,
   "id": "bfcd5e10",
   "metadata": {},
   "outputs": [
    {
     "name": "stdout",
     "output_type": "stream",
     "text": [
      "<class 'pandas.core.frame.DataFrame'>\n",
      "Int64Index: 388 entries, 0 to 387\n",
      "Data columns (total 7 columns):\n",
      " #   Column        Non-Null Count  Dtype  \n",
      "---  ------        --------------  -----  \n",
      " 0   distance      388 non-null    float64\n",
      " 1   consume       388 non-null    float64\n",
      " 2   speed         388 non-null    int64  \n",
      " 3   temp_inside   388 non-null    float64\n",
      " 4   temp_outside  388 non-null    int64  \n",
      " 5   gas_type      388 non-null    object \n",
      " 6   rain          388 non-null    int64  \n",
      "dtypes: float64(3), int64(3), object(1)\n",
      "memory usage: 24.2+ KB\n"
     ]
    }
   ],
   "source": [
    "df.info()"
   ]
  },
  {
   "cell_type": "code",
   "execution_count": 69,
   "id": "570452b6",
   "metadata": {},
   "outputs": [
    {
     "data": {
      "text/html": [
       "<div>\n",
       "<style scoped>\n",
       "    .dataframe tbody tr th:only-of-type {\n",
       "        vertical-align: middle;\n",
       "    }\n",
       "\n",
       "    .dataframe tbody tr th {\n",
       "        vertical-align: top;\n",
       "    }\n",
       "\n",
       "    .dataframe thead th {\n",
       "        text-align: right;\n",
       "    }\n",
       "</style>\n",
       "<table border=\"1\" class=\"dataframe\">\n",
       "  <thead>\n",
       "    <tr style=\"text-align: right;\">\n",
       "      <th></th>\n",
       "      <th>distance</th>\n",
       "      <th>consume</th>\n",
       "      <th>speed</th>\n",
       "      <th>temp_inside</th>\n",
       "      <th>temp_outside</th>\n",
       "      <th>gas_type</th>\n",
       "      <th>rain</th>\n",
       "    </tr>\n",
       "  </thead>\n",
       "  <tbody>\n",
       "    <tr>\n",
       "      <th>0</th>\n",
       "      <td>28.0</td>\n",
       "      <td>5.0</td>\n",
       "      <td>26</td>\n",
       "      <td>21.5</td>\n",
       "      <td>12</td>\n",
       "      <td>E10</td>\n",
       "      <td>0</td>\n",
       "    </tr>\n",
       "    <tr>\n",
       "      <th>1</th>\n",
       "      <td>12.0</td>\n",
       "      <td>4.2</td>\n",
       "      <td>30</td>\n",
       "      <td>21.5</td>\n",
       "      <td>13</td>\n",
       "      <td>E10</td>\n",
       "      <td>0</td>\n",
       "    </tr>\n",
       "    <tr>\n",
       "      <th>2</th>\n",
       "      <td>11.2</td>\n",
       "      <td>5.5</td>\n",
       "      <td>38</td>\n",
       "      <td>21.5</td>\n",
       "      <td>15</td>\n",
       "      <td>E10</td>\n",
       "      <td>0</td>\n",
       "    </tr>\n",
       "    <tr>\n",
       "      <th>3</th>\n",
       "      <td>12.9</td>\n",
       "      <td>3.9</td>\n",
       "      <td>36</td>\n",
       "      <td>21.5</td>\n",
       "      <td>14</td>\n",
       "      <td>E10</td>\n",
       "      <td>0</td>\n",
       "    </tr>\n",
       "    <tr>\n",
       "      <th>4</th>\n",
       "      <td>18.5</td>\n",
       "      <td>4.5</td>\n",
       "      <td>46</td>\n",
       "      <td>21.5</td>\n",
       "      <td>15</td>\n",
       "      <td>E10</td>\n",
       "      <td>0</td>\n",
       "    </tr>\n",
       "  </tbody>\n",
       "</table>\n",
       "</div>"
      ],
      "text/plain": [
       "   distance  consume  speed  temp_inside  temp_outside gas_type  rain\n",
       "0      28.0      5.0     26         21.5            12      E10     0\n",
       "1      12.0      4.2     30         21.5            13      E10     0\n",
       "2      11.2      5.5     38         21.5            15      E10     0\n",
       "3      12.9      3.9     36         21.5            14      E10     0\n",
       "4      18.5      4.5     46         21.5            15      E10     0"
      ]
     },
     "execution_count": 69,
     "metadata": {},
     "output_type": "execute_result"
    }
   ],
   "source": [
    "df.head() \n",
    "# Parece que nos quedamos con estas columnas despues de la limpieza. \n",
    "#a partir de este momento, toca hacer el analisis exploratorio"
   ]
  },
  {
   "cell_type": "code",
   "execution_count": 133,
   "id": "ac18ae67",
   "metadata": {},
   "outputs": [],
   "source": [
    "df_distanceXspeed=df.groupby('distance').sum()['speed']\n",
    "\n",
    "df_distanceXconsume=df.groupby('distance').sum()['consume']\n"
   ]
  },
  {
   "cell_type": "code",
   "execution_count": 73,
   "id": "540880d0",
   "metadata": {},
   "outputs": [
    {
     "data": {
      "text/plain": [
       "distance\n",
       "1.3      11.5\n",
       "1.7      10.8\n",
       "2.0      30.2\n",
       "2.1      12.2\n",
       "2.4       9.0\n",
       "         ... \n",
       "130.3     4.6\n",
       "153.5     4.9\n",
       "162.7     5.5\n",
       "211.0     4.6\n",
       "216.1     5.3\n",
       "Name: consume, Length: 174, dtype: float64"
      ]
     },
     "execution_count": 73,
     "metadata": {},
     "output_type": "execute_result"
    }
   ],
   "source": [
    "df_distanceXconsume"
   ]
  },
  {
   "cell_type": "code",
   "execution_count": 76,
   "id": "5b4c8fbd",
   "metadata": {},
   "outputs": [
    {
     "data": {
      "text/plain": [
       "[<matplotlib.lines.Line2D at 0x7fcfbf150a90>]"
      ]
     },
     "execution_count": 76,
     "metadata": {},
     "output_type": "execute_result"
    },
    {
     "data": {
      "image/png": "[encoded data removed]",
      "text/plain": [
       "<Figure size 432x288 with 1 Axes>"
      ]
     },
     "metadata": {
      "needs_background": "light"
     },
     "output_type": "display_data"
    }
   ],
   "source": [
    "plt.plot(df_g)"
   ]
  },
  {
   "cell_type": "code",
   "execution_count": 77,
   "id": "4fd11c1b",
   "metadata": {},
   "outputs": [
    {
     "data": {
      "text/plain": [
       "[<matplotlib.lines.Line2D at 0x7fcfbd034a60>]"
      ]
     },
     "execution_count": 77,
     "metadata": {},
     "output_type": "execute_result"
    },
    {
     "data": {
      "image/png": "[encoded data removed]",
      "text/plain": [
       "<Figure size 432x288 with 1 Axes>"
      ]
     },
     "metadata": {
      "needs_background": "light"
     },
     "output_type": "display_data"
    }
   ],
   "source": [
    "plt.plot(df_distanceXconsume)"
   ]
  },
  {
   "cell_type": "code",
   "execution_count": 91,
   "id": "a8f00a40",
   "metadata": {},
   "outputs": [],
   "source": [
    "corr= df.corr()"
   ]
  },
  {
   "cell_type": "code",
   "execution_count": 95,
   "id": "af19ce71",
   "metadata": {},
   "outputs": [],
   "source": [
    "def myHeatmap(df):\n",
    "\n",
    "    \"\"\"Create a Function for display a HeatMap\"\"\"\n",
    "    sns.set(style='white')  # estilo blanco\n",
    "\n",
    "    mascara = np.triu(np.ones_like(df, dtype=bool))  # genera una mascara para la triangular superior\n",
    "\n",
    "    color_map = sns.diverging_palette(0, 10, as_cmap=True)  # paleta de colores\n",
    "\n",
    "    return sns.heatmap(df,  # mapa de calor\n",
    "                       mask=mascara,\n",
    "                       cmap=color_map,\n",
    "                       vmax=1,  # limite vertical\n",
    "                       center=0,\n",
    "                       square=True,  # datos como cuadrados\n",
    "                       linewidth=.5,  # ancho de linea\n",
    "                       cbar_kws={'shrink': .5}) # barra lateral"
   ]
  },
  {
   "cell_type": "code",
   "execution_count": 96,
   "id": "fa62f71c",
   "metadata": {},
   "outputs": [
    {
     "data": {
      "image/png": "[encoded data removed]",
      "text/plain": [
       "<Figure size 432x288 with 2 Axes>"
      ]
     },
     "metadata": {},
     "output_type": "display_data"
    }
   ],
   "source": [
    "myHeatmap(corr);"
   ]
  },
  {
   "cell_type": "markdown",
   "id": "2136c5af",
   "metadata": {},
   "source": [
    "Basicamente hay una relacion fuerte entre la distancia y la velocidad. seguramente sea porque a grandes distancias, se meten en una autopista y pueden aumentar la velociadad.\n",
    "\n"
   ]
  },
  {
   "cell_type": "code",
   "execution_count": null,
   "id": "08658dde",
   "metadata": {},
   "outputs": [],
   "source": [
    "Combustible"
   ]
  },
  {
   "cell_type": "code",
   "execution_count": 144,
   "id": "638c9b44",
   "metadata": {},
   "outputs": [],
   "source": [
    "df_gasXspeed=df.groupby('gas_type').mean()['speed']\n",
    "\n",
    "df_gasXconsume=df.groupby('gas_type').mean()['consume']\n",
    "\n",
    "df_gasXdistance=df.groupby('gas_type').mean()['distance']"
   ]
  },
  {
   "cell_type": "code",
   "execution_count": 141,
   "id": "b44ffbe4",
   "metadata": {},
   "outputs": [
    {
     "data": {
      "text/plain": [
       "gas_type\n",
       "E10     43.506250\n",
       "SP98    40.820175\n",
       "Name: speed, dtype: float64"
      ]
     },
     "execution_count": 141,
     "metadata": {},
     "output_type": "execute_result"
    }
   ],
   "source": [
    "df_gasXspeed # media de velocidad"
   ]
  },
  {
   "cell_type": "code",
   "execution_count": 142,
   "id": "30560b9e",
   "metadata": {},
   "outputs": [
    {
     "data": {
      "text/plain": [
       "gas_type\n",
       "E10     4.931250\n",
       "SP98    4.899123\n",
       "Name: consume, dtype: float64"
      ]
     },
     "execution_count": 142,
     "metadata": {},
     "output_type": "execute_result"
    }
   ],
   "source": [
    "df_gasXconsume # media de consumo"
   ]
  },
  {
   "cell_type": "code",
   "execution_count": 145,
   "id": "aa1faf9e",
   "metadata": {},
   "outputs": [
    {
     "data": {
      "text/plain": [
       "gas_type\n",
       "E10     21.096250\n",
       "SP98    18.639912\n",
       "Name: distance, dtype: float64"
      ]
     },
     "execution_count": 145,
     "metadata": {},
     "output_type": "execute_result"
    }
   ],
   "source": [
    "df_gasXdistance  # media de distancia"
   ]
  },
  {
   "cell_type": "code",
   "execution_count": 167,
   "id": "4f86f5e9",
   "metadata": {},
   "outputs": [
    {
     "data": {
      "image/png": "[encoded data removed]",
      "text/plain": [
       "<Figure size 432x288 with 1 Axes>"
      ]
     },
     "metadata": {},
     "output_type": "display_data"
    }
   ],
   "source": [
    "sns.histplot(x=df.distance,\n",
    "             hue=df[(df.gas_type=='E10') | (df.gas_type=='SP98')].gas_type,\n",
    "             bins=40,\n",
    "            element='step',\n",
    "            fill=False);"
   ]
  },
  {
   "cell_type": "code",
   "execution_count": 161,
   "id": "02c72917",
   "metadata": {},
   "outputs": [
    {
     "data": {
      "image/png": "[encoded data removed]",
      "text/plain": [
       "<Figure size 432x288 with 1 Axes>"
      ]
     },
     "metadata": {},
     "output_type": "display_data"
    }
   ],
   "source": [
    "sns.histplot(x=df.speed, \n",
    "             hue=df[(df.gas_type=='E10') | (df.gas_type=='SP98')].gas_type,\n",
    "             bins=40,\n",
    "            element='step',\n",
    "            fill=False);"
   ]
  },
  {
   "cell_type": "code",
   "execution_count": 160,
   "id": "87812d96",
   "metadata": {},
   "outputs": [
    {
     "data": {
      "image/png": "[encoded data removed]",
      "text/plain": [
       "<Figure size 432x288 with 1 Axes>"
      ]
     },
     "metadata": {},
     "output_type": "display_data"
    }
   ],
   "source": [
    "sns.histplot(x=df.consume, \n",
    "             hue=df[(df.gas_type=='E10') | (df.gas_type=='SP98')].gas_type,\n",
    "             bins=40,\n",
    "            element='step',\n",
    "            fill=False);"
   ]
  },
  {
   "cell_type": "markdown",
   "id": "93e3529b",
   "metadata": {},
   "source": [
    "A grandes rasgos con este análisis, deduzco que la compañía debería apostar por el combustible E10, ya que de media hacen más recorrido que los SP98. Si que es verdad que de media gastan consumen menos combustible con el carburante SP98, pero teniendo en cuenta que los E10 son más veloces de media y recorren mayores distancias, pienso que por unas décimas no sea muy influyente el gasto. Habría que hacer una valoración con los precios del carburante y estimar cuánto dinero se podría llegar a gastar con ambos carburantes"
   ]
  },
  {
   "cell_type": "markdown",
   "id": "51f8f2d6",
   "metadata": {},
   "source": [
    "# Sql"
   ]
  },
  {
   "cell_type": "code",
   "execution_count": 128,
   "id": "45544808",
   "metadata": {},
   "outputs": [
    {
     "name": "stdout",
     "output_type": "stream",
     "text": [
      "<class 'pandas.core.frame.DataFrame'>\n",
      "Int64Index: 388 entries, 0 to 387\n",
      "Data columns (total 7 columns):\n",
      " #   Column        Non-Null Count  Dtype  \n",
      "---  ------        --------------  -----  \n",
      " 0   distance      388 non-null    float64\n",
      " 1   consume       388 non-null    float64\n",
      " 2   speed         388 non-null    int64  \n",
      " 3   temp_inside   388 non-null    float64\n",
      " 4   temp_outside  388 non-null    int64  \n",
      " 5   gas_type      388 non-null    object \n",
      " 6   rain          388 non-null    int64  \n",
      "dtypes: float64(3), int64(3), object(1)\n",
      "memory usage: 24.2+ KB\n"
     ]
    }
   ],
   "source": [
    "df.info()"
   ]
  },
  {
   "cell_type": "code",
   "execution_count": 153,
   "id": "32ed7978",
   "metadata": {},
   "outputs": [],
   "source": [
    "def create_db_sql(df):\n",
    "\n",
    "    \"\"\"I create a function that does the whole process with mysql connector to create a database,\n",
    "     a table inside it and insert all the data from the DataFrame.\"\"\"\n",
    "\n",
    "    crea_db = conn.connect(host='localhost', user='root', passwd='admin')\n",
    "    cursor = crea_db.cursor()\n",
    "    cursor.execute('drop database if exists cobify')  # if the database exists, delete it\n",
    "    cursor.execute('create database cobify')  # create database\n",
    "    cursor.execute('show databases')\n",
    "    for x in cursor:\n",
    "        print(x)\n",
    "    db = conn.connect(host='localhost', user='root', passwd='admin', database='cobify')\n",
    "\n",
    "    cursor.execute('drop table if exists cobify')  # if the table exists, delete it.\n",
    "\n",
    "    cursor = db.cursor()\n",
    "    tabla = '''\n",
    "        create table cobify(\n",
    "\n",
    "            id int,\n",
    "            distance float,\n",
    "            consume float,\n",
    "            speed int,\n",
    "            temp_inside float,\n",
    "            temp_outside float,\n",
    "            gas_type varchar(500),\n",
    "            rain int\n",
    "        );\n",
    "    '''\n",
    "\n",
    "    cursor.execute(tabla)\n",
    "\n",
    "    for i in range(len(df)):\n",
    "        insert_query = 'insert into {} ({}) values {};' \\\n",
    "            .format('cobify', ','.join(df.columns), tuple(df.iloc[i].values))\n",
    "\n",
    "        cursor.execute(insert_query)\n",
    "\n",
    "    db.commit()\n",
    "\n",
    "    return print('OK')"
   ]
  },
  {
   "cell_type": "code",
   "execution_count": 156,
   "id": "ff9f852a",
   "metadata": {},
   "outputs": [
    {
     "name": "stdout",
     "output_type": "stream",
     "text": [
      "('cobify',)\n",
      "('information_schema',)\n",
      "('mobile_fraud',)\n",
      "('mobile_fraud2',)\n",
      "('mysql',)\n",
      "('performance_schema',)\n",
      "('sys',)\n"
     ]
    },
    {
     "ename": "ProgrammingError",
     "evalue": "1046 (3D000): No database selected",
     "output_type": "error",
     "traceback": [
      "\u001b[0;31m---------------------------------------------------------------------------\u001b[0m",
      "\u001b[0;31mMySQLInterfaceError\u001b[0m                       Traceback (most recent call last)",
      "\u001b[0;32m~/anaconda3/lib/python3.8/site-packages/mysql/connector/connection_cext.py\u001b[0m in \u001b[0;36mcmd_query\u001b[0;34m(self, query, raw, buffered, raw_as_string)\u001b[0m\n\u001b[1;32m    505\u001b[0m                 \u001b[0mquery\u001b[0m \u001b[0;34m=\u001b[0m \u001b[0mquery\u001b[0m\u001b[0;34m.\u001b[0m\u001b[0mencode\u001b[0m\u001b[0;34m(\u001b[0m\u001b[0;34m'utf-8'\u001b[0m\u001b[0;34m)\u001b[0m\u001b[0;34m\u001b[0m\u001b[0;34m\u001b[0m\u001b[0m\n\u001b[0;32m--> 506\u001b[0;31m             self._cmysql.query(query,\n\u001b[0m\u001b[1;32m    507\u001b[0m                                \u001b[0mraw\u001b[0m\u001b[0;34m=\u001b[0m\u001b[0mraw\u001b[0m\u001b[0;34m,\u001b[0m \u001b[0mbuffered\u001b[0m\u001b[0;34m=\u001b[0m\u001b[0mbuffered\u001b[0m\u001b[0;34m,\u001b[0m\u001b[0;34m\u001b[0m\u001b[0;34m\u001b[0m\u001b[0m\n",
      "\u001b[0;31mMySQLInterfaceError\u001b[0m: No database selected",
      "\nDuring handling of the above exception, another exception occurred:\n",
      "\u001b[0;31mProgrammingError\u001b[0m                          Traceback (most recent call last)",
      "\u001b[0;32m<ipython-input-156-499d7175885b>\u001b[0m in \u001b[0;36m<module>\u001b[0;34m\u001b[0m\n\u001b[0;32m----> 1\u001b[0;31m \u001b[0mcreate_db_sql\u001b[0m\u001b[0;34m(\u001b[0m\u001b[0mdf\u001b[0m\u001b[0;34m)\u001b[0m \u001b[0;31m# Esto debería crearme una base de datos, lo hace pero no se porque luego no encuentra la base de datos\u001b[0m\u001b[0;34m\u001b[0m\u001b[0;34m\u001b[0m\u001b[0m\n\u001b[0m",
      "\u001b[0;32m<ipython-input-153-306bfd1512b5>\u001b[0m in \u001b[0;36mcreate_db_sql\u001b[0;34m(df)\u001b[0m\n\u001b[1;32m     13\u001b[0m     \u001b[0mdb\u001b[0m \u001b[0;34m=\u001b[0m \u001b[0mconn\u001b[0m\u001b[0;34m.\u001b[0m\u001b[0mconnect\u001b[0m\u001b[0;34m(\u001b[0m\u001b[0mhost\u001b[0m\u001b[0;34m=\u001b[0m\u001b[0;34m'localhost'\u001b[0m\u001b[0;34m,\u001b[0m \u001b[0muser\u001b[0m\u001b[0;34m=\u001b[0m\u001b[0;34m'root'\u001b[0m\u001b[0;34m,\u001b[0m \u001b[0mpasswd\u001b[0m\u001b[0;34m=\u001b[0m\u001b[0;34m'admin'\u001b[0m\u001b[0;34m,\u001b[0m \u001b[0mdatabase\u001b[0m\u001b[0;34m=\u001b[0m\u001b[0;34m'cobify'\u001b[0m\u001b[0;34m)\u001b[0m\u001b[0;34m\u001b[0m\u001b[0;34m\u001b[0m\u001b[0m\n\u001b[1;32m     14\u001b[0m \u001b[0;34m\u001b[0m\u001b[0m\n\u001b[0;32m---> 15\u001b[0;31m     \u001b[0mcursor\u001b[0m\u001b[0;34m.\u001b[0m\u001b[0mexecute\u001b[0m\u001b[0;34m(\u001b[0m\u001b[0;34m'drop table if exists cobify'\u001b[0m\u001b[0;34m)\u001b[0m  \u001b[0;31m# if the table exists, delete it.\u001b[0m\u001b[0;34m\u001b[0m\u001b[0;34m\u001b[0m\u001b[0m\n\u001b[0m\u001b[1;32m     16\u001b[0m \u001b[0;34m\u001b[0m\u001b[0m\n\u001b[1;32m     17\u001b[0m     \u001b[0mcursor\u001b[0m \u001b[0;34m=\u001b[0m \u001b[0mdb\u001b[0m\u001b[0;34m.\u001b[0m\u001b[0mcursor\u001b[0m\u001b[0;34m(\u001b[0m\u001b[0;34m)\u001b[0m\u001b[0;34m\u001b[0m\u001b[0;34m\u001b[0m\u001b[0m\n",
      "\u001b[0;32m~/anaconda3/lib/python3.8/site-packages/mysql/connector/cursor_cext.py\u001b[0m in \u001b[0;36mexecute\u001b[0;34m(self, operation, params, multi)\u001b[0m\n\u001b[1;32m    267\u001b[0m \u001b[0;34m\u001b[0m\u001b[0m\n\u001b[1;32m    268\u001b[0m         \u001b[0;32mtry\u001b[0m\u001b[0;34m:\u001b[0m\u001b[0;34m\u001b[0m\u001b[0;34m\u001b[0m\u001b[0m\n\u001b[0;32m--> 269\u001b[0;31m             result = self._cnx.cmd_query(stmt, raw=self._raw,\n\u001b[0m\u001b[1;32m    270\u001b[0m                                          \u001b[0mbuffered\u001b[0m\u001b[0;34m=\u001b[0m\u001b[0mself\u001b[0m\u001b[0;34m.\u001b[0m\u001b[0m_buffered\u001b[0m\u001b[0;34m,\u001b[0m\u001b[0;34m\u001b[0m\u001b[0;34m\u001b[0m\u001b[0m\n\u001b[1;32m    271\u001b[0m                                          raw_as_string=self._raw_as_string)\n",
      "\u001b[0;32m~/anaconda3/lib/python3.8/site-packages/mysql/connector/connection_cext.py\u001b[0m in \u001b[0;36mcmd_query\u001b[0;34m(self, query, raw, buffered, raw_as_string)\u001b[0m\n\u001b[1;32m    508\u001b[0m                                raw_as_string=raw_as_string)\n\u001b[1;32m    509\u001b[0m         \u001b[0;32mexcept\u001b[0m \u001b[0mMySQLInterfaceError\u001b[0m \u001b[0;32mas\u001b[0m \u001b[0mexc\u001b[0m\u001b[0;34m:\u001b[0m\u001b[0;34m\u001b[0m\u001b[0;34m\u001b[0m\u001b[0m\n\u001b[0;32m--> 510\u001b[0;31m             raise errors.get_mysql_exception(exc.errno, msg=exc.msg,\n\u001b[0m\u001b[1;32m    511\u001b[0m                                              sqlstate=exc.sqlstate)\n\u001b[1;32m    512\u001b[0m         \u001b[0;32mexcept\u001b[0m \u001b[0mAttributeError\u001b[0m\u001b[0;34m:\u001b[0m\u001b[0;34m\u001b[0m\u001b[0;34m\u001b[0m\u001b[0m\n",
      "\u001b[0;31mProgrammingError\u001b[0m: 1046 (3D000): No database selected"
     ]
    }
   ],
   "source": [
    "create_db_sql(df) # Esto debería crearme una base de datos, lo hace pero no se porque luego no encuentra la base de datos"
   ]
  },
  {
   "cell_type": "code",
   "execution_count": null,
   "id": "063ef64b",
   "metadata": {},
   "outputs": [],
   "source": []
  }
 ],
 "metadata": {
  "kernelspec": {
   "display_name": "Python 3",
   "language": "python",
   "name": "python3"
  },
  "language_info": {
   "codemirror_mode": {
    "name": "ipython",
    "version": 3
   },
   "file_extension": ".py",
   "mimetype": "text/x-python",
   "name": "python",
   "nbconvert_exporter": "python",
   "pygments_lexer": "ipython3",
   "version": "3.8.10"
  },
  "toc": {
   "base_numbering": 1,
   "nav_menu": {},
   "number_sections": true,
   "sideBar": true,
   "skip_h1_title": false,
   "title_cell": "Table of Contents",
   "title_sidebar": "Contents",
   "toc_cell": true,
   "toc_position": {},
   "toc_section_display": true,
   "toc_window_display": false
  },
  "varInspector": {
   "cols": {
    "lenName": 16,
    "lenType": 16,
    "lenVar": 40
   },
   "kernels_config": {
    "python": {
     "delete_cmd_postfix": "",
     "delete_cmd_prefix": "del ",
     "library": "var_list.py",
     "varRefreshCmd": "print(var_dic_list())"
    },
    "r": {
     "delete_cmd_postfix": ") ",
     "delete_cmd_prefix": "rm(",
     "library": "var_list.r",
     "varRefreshCmd": "cat(var_dic_list()) "
    }
   },
   "types_to_exclude": [
    "module",
    "function",
    "builtin_function_or_method",
    "instance",
    "_Feature"
   ],
   "window_display": false
  }
 },
 "nbformat": 4,
 "nbformat_minor": 5
}
