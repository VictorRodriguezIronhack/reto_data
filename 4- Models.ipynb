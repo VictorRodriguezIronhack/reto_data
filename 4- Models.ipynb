{
 "cells": [
  {
   "cell_type": "code",
   "execution_count": 8,
   "id": "found-fruit",
   "metadata": {},
   "outputs": [],
   "source": [
    "# Importing libraries\n",
    "import pandas as pd\n",
    "import numpy as np\n",
    "\n",
    "from sklearn.model_selection import train_test_split\n",
    "\n",
    "from sklearn.linear_model import Ridge, Lasso\n",
    "from sklearn.linear_model import SGDRegressor\n",
    "from sklearn.neighbors import KNeighborsRegressor\n",
    "from sklearn.ensemble import GradientBoostingRegressor\n",
    "from sklearn.tree import DecisionTreeRegressor \n",
    "from sklearn.ensemble import RandomForestRegressor\n",
    "from sklearn.linear_model import LinearRegression\n",
    "\n",
    "from sklearn import metrics\n",
    "from sklearn.metrics import r2_score, mean_absolute_error, mean_squared_error, mean_squared_log_error\n",
    "\n",
    "from sklearn.model_selection import GridSearchCV\n",
    "\n",
    "import matplotlib.pyplot as plt\n",
    "import seaborn as sns"
   ]
  },
  {
   "cell_type": "code",
   "execution_count": 9,
   "id": "tough-safety",
   "metadata": {},
   "outputs": [],
   "source": [
    "# reading the enriched csv\n",
    "df = pd.read_csv('dataset/df_rich.csv')\n",
    "\n",
    "# we have a categorical column (gas_type) but we had already categorilized it on the column \"gas_type_coded\"\n",
    "# E10 = 0 /// SP98 = 1\n",
    "df = df.drop(['gas_type'], axis = 1)"
   ]
  },
  {
   "cell_type": "code",
   "execution_count": 10,
   "id": "emerging-single",
   "metadata": {},
   "outputs": [],
   "source": [
    "# split dataset in X and y for supervised learning\n",
    "X = df.drop(['consume'], axis = 1)\n",
    "y = df.consume"
   ]
  },
  {
   "cell_type": "code",
   "execution_count": 11,
   "id": "ranking-turning",
   "metadata": {},
   "outputs": [],
   "source": [
    "# split dataset in train and test\n",
    "X_train, X_test, y_train, y_test = train_test_split(X, y, test_size = 0.2)"
   ]
  },
  {
   "cell_type": "code",
   "execution_count": 12,
   "id": "vulnerable-ethiopia",
   "metadata": {},
   "outputs": [
    {
     "name": "stdout",
     "output_type": "stream",
     "text": [
      "X_train shape is: (310, 14)\n",
      "y_train shape is: (310,)\n",
      "X_test shape is: (78, 14)\n",
      "y_test shape is: (78,)\n"
     ]
    }
   ],
   "source": [
    "# checking the split has been done correctly\n",
    "print(f'X_train shape is:', X_train.shape)\n",
    "print(f'y_train shape is:', y_train.shape)\n",
    "print(f'X_test shape is:', X_test.shape)\n",
    "print(f'y_test shape is:', y_test.shape)"
   ]
  },
  {
   "cell_type": "code",
   "execution_count": 13,
   "id": "solid-sheriff",
   "metadata": {},
   "outputs": [],
   "source": [
    "# we decided to use different models\n",
    "models = {\"linear\": LinearRegression(),\n",
    "          \"ridge\": Ridge(),\n",
    "          \"lasso\": Lasso(),\n",
    "          \"knn\": KNeighborsRegressor(),\n",
    "          \"gradient\": GradientBoostingRegressor(),\n",
    "          \"tree\": DecisionTreeRegressor(),\n",
    "          \"forest\": RandomForestRegressor()}"
   ]
  },
  {
   "cell_type": "code",
   "execution_count": 14,
   "id": "crucial-timing",
   "metadata": {},
   "outputs": [
    {
     "name": "stdout",
     "output_type": "stream",
     "text": [
      "--linear--\n",
      "MAE: 0.011442266315568364\n",
      "MSE: 0.00017696276549505048\n",
      "RMSE: 0.013302735263661021\n",
      "R2: 0.9997197596300553\n",
      "--ridge--\n",
      "MAE: 0.02329147139100728\n",
      "MSE: 0.0009357484087630585\n",
      "RMSE: 0.03059000504679688\n",
      "R2: 0.9985181375329817\n",
      "--lasso--\n",
      "MAE: 0.3446671239515349\n",
      "MSE: 0.21755444464092116\n",
      "RMSE: 0.4664273197840379\n",
      "R2: 0.6554781573472768\n",
      "--knn--\n",
      "MAE: 0.35025641025641036\n",
      "MSE: 0.20773333333333333\n",
      "RMSE: 0.4557777236036589\n",
      "R2: 0.6710309876752085\n",
      "--gradient--\n",
      "MAE: 0.025980080420087245\n",
      "MSE: 0.003585584360863322\n",
      "RMSE: 0.05987974917168009\n",
      "R2: 0.9943218253571866\n",
      "--tree--\n",
      "MAE: 0.011538461538461732\n",
      "MSE: 0.0029487179487179527\n",
      "RMSE: 0.054302098934736885\n",
      "R2: 0.9953303746892773\n",
      "--forest--\n",
      "MAE: 0.014205128205128674\n",
      "MSE: 0.0019382307692307466\n",
      "RMSE: 0.04402534235222648\n",
      "R2: 0.9969305943751058\n"
     ]
    }
   ],
   "source": [
    "# we fit our models and get the metrics for each one\n",
    "for name, model in models.items():\n",
    "    print(f\"--{name}--\")\n",
    "    model.fit(X_train,y_train)\n",
    "    y_pred = model.predict(X_test)\n",
    "    print(\"MAE:\", metrics.mean_absolute_error(y_test, y_pred))\n",
    "    print(\"MSE:\", metrics.mean_squared_error(y_test,y_pred))\n",
    "    print(\"RMSE:\", np.sqrt(metrics.mean_squared_error(y_test,y_pred)))\n",
    "    print(\"R2:\", metrics.r2_score(y_test,y_pred))"
   ]
  },
  {
   "cell_type": "markdown",
   "id": "cooperative-electric",
   "metadata": {},
   "source": [
    "# Ridge model\n",
    "\n",
    "### This model presents a very high fit with a R squared really near to 1 (0,998) and mean errors (MAE, MSE, RMSE) tending to zero"
   ]
  },
  {
   "cell_type": "code",
   "execution_count": 15,
   "id": "crazy-lover",
   "metadata": {},
   "outputs": [
    {
     "data": {
      "text/html": [
       "<div>\n",
       "<style scoped>\n",
       "    .dataframe tbody tr th:only-of-type {\n",
       "        vertical-align: middle;\n",
       "    }\n",
       "\n",
       "    .dataframe tbody tr th {\n",
       "        vertical-align: top;\n",
       "    }\n",
       "\n",
       "    .dataframe thead th {\n",
       "        text-align: right;\n",
       "    }\n",
       "</style>\n",
       "<table border=\"1\" class=\"dataframe\">\n",
       "  <thead>\n",
       "    <tr style=\"text-align: right;\">\n",
       "      <th></th>\n",
       "      <th>gas_type</th>\n",
       "      <th>consume_real</th>\n",
       "      <th>consume_predicted</th>\n",
       "    </tr>\n",
       "  </thead>\n",
       "  <tbody>\n",
       "    <tr>\n",
       "      <th>279</th>\n",
       "      <td>SP98</td>\n",
       "      <td>4.5</td>\n",
       "      <td>4.500</td>\n",
       "    </tr>\n",
       "    <tr>\n",
       "      <th>34</th>\n",
       "      <td>E10</td>\n",
       "      <td>4.3</td>\n",
       "      <td>4.288</td>\n",
       "    </tr>\n",
       "    <tr>\n",
       "      <th>290</th>\n",
       "      <td>SP98</td>\n",
       "      <td>4.1</td>\n",
       "      <td>4.100</td>\n",
       "    </tr>\n",
       "    <tr>\n",
       "      <th>212</th>\n",
       "      <td>SP98</td>\n",
       "      <td>5.5</td>\n",
       "      <td>5.528</td>\n",
       "    </tr>\n",
       "    <tr>\n",
       "      <th>246</th>\n",
       "      <td>E10</td>\n",
       "      <td>5.7</td>\n",
       "      <td>5.680</td>\n",
       "    </tr>\n",
       "  </tbody>\n",
       "</table>\n",
       "</div>"
      ],
      "text/plain": [
       "    gas_type  consume_real  consume_predicted\n",
       "279     SP98           4.5              4.500\n",
       "34       E10           4.3              4.288\n",
       "290     SP98           4.1              4.100\n",
       "212     SP98           5.5              5.528\n",
       "246      E10           5.7              5.680"
      ]
     },
     "execution_count": 15,
     "metadata": {},
     "output_type": "execute_result"
    }
   ],
   "source": [
    "# Training the model again independently, in order to get a dataframe to plot\n",
    "ridge = Ridge()\n",
    "ridge = ridge.fit(X_train, y_train)\n",
    "y_pred = model.predict(X_test)\n",
    "\n",
    "ridge_df = pd.DataFrame({'gas_type':X_test['gas_type_coded'].apply(lambda x: 'E10' if x == 0 else 'SP98'),\n",
    "                         'consume_real':y_test,\n",
    "                         'consume_predicted': y_pred})\n",
    "ridge_df.head()"
   ]
  },
  {
   "cell_type": "code",
   "execution_count": 16,
   "id": "cooperative-georgia",
   "metadata": {},
   "outputs": [
    {
     "data": {
      "image/png": "[encoded data removed]",
      "text/plain": [
       "<Figure size 864x576 with 1 Axes>"
      ]
     },
     "metadata": {
      "needs_background": "light"
     },
     "output_type": "display_data"
    }
   ],
   "source": [
    "plt.figure(figsize = (12, 8))\n",
    "ridge_plot = sns.regplot(x = ridge_df.consume_real,\n",
    "                         y = ridge_df.consume_predicted,\n",
    "                         color = 'g',\n",
    "                         marker = 'x')\n",
    "\n",
    "ridge_plot.set(xlabel = 'Real', \n",
    "               ylabel = 'Predicted',\n",
    "               title = 'Ridge model fit: real vs predicted');\n",
    "plt.show()"
   ]
  },
  {
   "cell_type": "markdown",
   "id": "outdoor-minute",
   "metadata": {},
   "source": [
    "### As Ridge regression is a method of estimating the coefficients of multiple-regression models in scenarios where independent variables are highly correlated, we would like to check if it is so fitted because of the enrichment of the dataset. \n",
    "\n",
    "So we are replicating the previous code with the clean (but not enriched) dataset"
   ]
  },
  {
   "cell_type": "code",
   "execution_count": 17,
   "id": "narrow-minute",
   "metadata": {},
   "outputs": [
    {
     "name": "stdout",
     "output_type": "stream",
     "text": [
      "--linear--\n",
      "MAE: 0.6082772048467537\n",
      "MSE: 0.7556591974854234\n",
      "RMSE: 0.8692866026147092\n",
      "R2: 0.20805504035986166\n",
      "--ridge--\n",
      "MAE: 0.6091107976152826\n",
      "MSE: 0.7561722543636066\n",
      "RMSE: 0.8695816547993677\n",
      "R2: 0.20751734716425452\n",
      "--lasso--\n",
      "MAE: 0.6538521964080044\n",
      "MSE: 0.8455342052775158\n",
      "RMSE: 0.919529338997683\n",
      "R2: 0.11386435273849027\n",
      "--knn--\n",
      "MAE: 0.40333333333333343\n",
      "MSE: 0.30335897435897446\n",
      "RMSE: 0.5507803322187299\n",
      "R2: 0.6820741261343198\n",
      "--gradient--\n",
      "MAE: 0.42100643504807234\n",
      "MSE: 0.3880785749231158\n",
      "RMSE: 0.6229595291213674\n",
      "R2: 0.5932864016246983\n",
      "--tree--\n",
      "MAE: 0.5666666666666667\n",
      "MSE: 0.5612820512820512\n",
      "RMSE: 0.7491875941858963\n",
      "R2: 0.4117659218223536\n",
      "--forest--\n",
      "MAE: 0.36585498575498565\n",
      "MSE: 0.24273140563469434\n",
      "RMSE: 0.4926777908884206\n",
      "R2: 0.7456129510784256\n"
     ]
    }
   ],
   "source": [
    "# reading the clean csv (not enriched yet)\n",
    "df = pd.read_csv('dataset/df_clean.csv')\n",
    "\n",
    "# we have a categorical column (gas_type) but we had already categorilized it on the column \"gas_type_coded\"\n",
    "# E10 = 0 /// SP98 = 1\n",
    "df = df.drop(['gas_type'], axis = 1)\n",
    "\n",
    "# split dataset in X and y for supervised learning\n",
    "X = df.drop(['consume'], axis = 1)\n",
    "y = df.consume\n",
    "\n",
    "# split dataset in train and test\n",
    "X_train, X_test, y_train, y_test = train_test_split(X, y, test_size = 0.2)\n",
    "\n",
    "# we decided to use different models\n",
    "models = {\"linear\": LinearRegression(),\n",
    "          \"ridge\": Ridge(),\n",
    "          \"lasso\": Lasso(),\n",
    "          \"knn\": KNeighborsRegressor(),\n",
    "          \"gradient\": GradientBoostingRegressor(),\n",
    "          \"tree\": DecisionTreeRegressor(),\n",
    "          \"forest\": RandomForestRegressor()}\n",
    "\n",
    "# we fit our models and get the metrics for each one\n",
    "for name, model in models.items():\n",
    "    print(f\"--{name}--\")\n",
    "    model.fit(X_train,y_train)\n",
    "    y_pred = model.predict(X_test)\n",
    "    print(\"MAE:\", metrics.mean_absolute_error(y_test, y_pred))\n",
    "    print(\"MSE:\", metrics.mean_squared_error(y_test,y_pred))\n",
    "    print(\"RMSE:\", np.sqrt(metrics.mean_squared_error(y_test,y_pred)))\n",
    "    print(\"R2:\", metrics.r2_score(y_test,y_pred))"
   ]
  },
  {
   "cell_type": "markdown",
   "id": "solid-hospital",
   "metadata": {},
   "source": [
    "After checking that there was overfitting due to the fact that enrichment columns were a multiplication of the values contained in X and y, we decided to go on with **K Nearest Neighbours** despite it is more used for classification than for regression as it has the higher R squared. As well, we will also search for better parameters for **gradient boosting** and **random forest** models."
   ]
  },
  {
   "cell_type": "markdown",
   "id": "revised-month",
   "metadata": {},
   "source": [
    "# Grid search: looking for parameters values in order to improve our model"
   ]
  },
  {
   "cell_type": "markdown",
   "id": "incredible-observer",
   "metadata": {},
   "source": [
    "### K Nearest Neighbours"
   ]
  },
  {
   "cell_type": "code",
   "execution_count": 18,
   "id": "perceived-eclipse",
   "metadata": {},
   "outputs": [],
   "source": [
    "knn = KNeighborsRegressor()"
   ]
  },
  {
   "cell_type": "code",
   "execution_count": 19,
   "id": "cutting-committee",
   "metadata": {},
   "outputs": [],
   "source": [
    "# Hyperparameter optimization \n",
    "parameters = {'n_neighbors': [2, 3, 4, 5],\n",
    "              'weights': ['uniform','distance'],\n",
    "              'leaf_size': [15, 30, 50]}"
   ]
  },
  {
   "cell_type": "code",
   "execution_count": 20,
   "id": "ethical-pressing",
   "metadata": {},
   "outputs": [
    {
     "data": {
      "text/plain": [
       "'\\ngrid = GridSearchCV(knn, parameters, verbose = 1)\\ngrid.fit(X_train,y_train)\\n\\n# Print best params for KNN model\\nprint(grid.best_params_)\\n'"
      ]
     },
     "execution_count": 20,
     "metadata": {},
     "output_type": "execute_result"
    }
   ],
   "source": [
    "# we keep this code commented to avoid running it constant\n",
    "'''\n",
    "grid = GridSearchCV(knn, parameters, verbose = 1)\n",
    "grid.fit(X_train,y_train)\n",
    "\n",
    "# Print best params for KNN model\n",
    "print(grid.best_params_)\n",
    "'''"
   ]
  },
  {
   "cell_type": "code",
   "execution_count": 21,
   "id": "handmade-charlotte",
   "metadata": {},
   "outputs": [
    {
     "name": "stdout",
     "output_type": "stream",
     "text": [
      "MAE: 0.40333333333333343\n",
      "MSE: 0.30335897435897446\n",
      "RMSE: 0.5507803322187299\n",
      "R2: 0.6820741261343198\n"
     ]
    }
   ],
   "source": [
    "knn_grid = KNeighborsRegressor(leaf_size = 15,\n",
    "                               n_neighbors = 5, \n",
    "                               weights = 'uniform')\n",
    "\n",
    "knn_grid = knn_grid.fit(X_train,y_train)\n",
    "y_pred = knn_grid.predict(X_test)\n",
    "\n",
    "print(\"MAE:\", metrics.mean_absolute_error(y_test, y_pred))\n",
    "print(\"MSE:\", metrics.mean_squared_error(y_test,y_pred))\n",
    "print(\"RMSE:\", np.sqrt(metrics.mean_squared_error(y_test,y_pred)))\n",
    "print(\"R2:\", metrics.r2_score(y_test,y_pred))"
   ]
  },
  {
   "cell_type": "code",
   "execution_count": 34,
   "id": "underlying-athletics",
   "metadata": {},
   "outputs": [
    {
     "data": {
      "text/html": [
       "<div>\n",
       "<style scoped>\n",
       "    .dataframe tbody tr th:only-of-type {\n",
       "        vertical-align: middle;\n",
       "    }\n",
       "\n",
       "    .dataframe tbody tr th {\n",
       "        vertical-align: top;\n",
       "    }\n",
       "\n",
       "    .dataframe thead th {\n",
       "        text-align: right;\n",
       "    }\n",
       "</style>\n",
       "<table border=\"1\" class=\"dataframe\">\n",
       "  <thead>\n",
       "    <tr style=\"text-align: right;\">\n",
       "      <th></th>\n",
       "      <th>gas_type</th>\n",
       "      <th>consume_real</th>\n",
       "      <th>consume_predicted</th>\n",
       "    </tr>\n",
       "  </thead>\n",
       "  <tbody>\n",
       "    <tr>\n",
       "      <th>353</th>\n",
       "      <td>SP98</td>\n",
       "      <td>3.7</td>\n",
       "      <td>4.312364</td>\n",
       "    </tr>\n",
       "    <tr>\n",
       "      <th>6</th>\n",
       "      <td>E10</td>\n",
       "      <td>4.4</td>\n",
       "      <td>4.937630</td>\n",
       "    </tr>\n",
       "    <tr>\n",
       "      <th>107</th>\n",
       "      <td>SP98</td>\n",
       "      <td>6.5</td>\n",
       "      <td>6.430771</td>\n",
       "    </tr>\n",
       "    <tr>\n",
       "      <th>171</th>\n",
       "      <td>E10</td>\n",
       "      <td>4.8</td>\n",
       "      <td>4.894826</td>\n",
       "    </tr>\n",
       "    <tr>\n",
       "      <th>43</th>\n",
       "      <td>E10</td>\n",
       "      <td>4.3</td>\n",
       "      <td>4.938153</td>\n",
       "    </tr>\n",
       "  </tbody>\n",
       "</table>\n",
       "</div>"
      ],
      "text/plain": [
       "    gas_type  consume_real  consume_predicted\n",
       "353     SP98           3.7           4.312364\n",
       "6        E10           4.4           4.937630\n",
       "107     SP98           6.5           6.430771\n",
       "171      E10           4.8           4.894826\n",
       "43       E10           4.3           4.938153"
      ]
     },
     "execution_count": 34,
     "metadata": {},
     "output_type": "execute_result"
    }
   ],
   "source": [
    "# create a new df with the real consume and the predicted consume, in order to plot it\n",
    "knn_df = pd.DataFrame({'gas_type':X_test['gas_type_coded'].apply(lambda x: 'E10' if x == 0 else 'SP98'),\n",
    "                         'consume_real':y_test,\n",
    "                         'consume_predicted': y_pred})\n",
    "knn_df.head()"
   ]
  },
  {
   "cell_type": "code",
   "execution_count": 35,
   "id": "incorporate-ground",
   "metadata": {},
   "outputs": [
    {
     "data": {
      "image/png": "[encoded data removed]",
      "text/plain": [
       "<Figure size 864x576 with 1 Axes>"
      ]
     },
     "metadata": {
      "needs_background": "light"
     },
     "output_type": "display_data"
    }
   ],
   "source": [
    "plt.figure(figsize = (12, 8))\n",
    "knn_plot = sns.regplot(x = knn_df.consume_real,\n",
    "                         y = knn_df.consume_predicted,\n",
    "                         color = 'g',\n",
    "                         marker = 'x')\n",
    "\n",
    "knn_plot.set(xlabel = 'Real', \n",
    "               ylabel = 'Predicted',\n",
    "               title = 'K Neighbors Regressor model fit: real vs predicted');\n",
    "plt.show()"
   ]
  },
  {
   "cell_type": "markdown",
   "id": "antique-stable",
   "metadata": {},
   "source": [
    "## Random Forest Regressor"
   ]
  },
  {
   "cell_type": "code",
   "execution_count": 22,
   "id": "potential-technical",
   "metadata": {},
   "outputs": [],
   "source": [
    "forest = RandomForestRegressor()"
   ]
  },
  {
   "cell_type": "code",
   "execution_count": 23,
   "id": "intellectual-roads",
   "metadata": {},
   "outputs": [],
   "source": [
    "# Hyperparameter optimization \n",
    "parameters = {'n_estimators': [10, 25, 50, 100, 250, 400],\n",
    "             'criterion': ['mse', 'mae'],\n",
    "             'max_depth': [1, 2, 3, 4],\n",
    "              'min_samples_leaf': [1, 2, 3, 4],\n",
    "              'max_features': ['auto', 'sqrt', 'log2'],\n",
    "             'bootstrap': ['True', 'False']}"
   ]
  },
  {
   "cell_type": "code",
   "execution_count": 24,
   "id": "chinese-reverse",
   "metadata": {},
   "outputs": [
    {
     "data": {
      "text/plain": [
       "'\\ngrid = GridSearchCV(forest, parameters, verbose = 1)\\ngrid.fit(X_train,y_train)\\n\\n# Print best params for random forest model\\nprint(grid.best_params_)\\n\\n'"
      ]
     },
     "execution_count": 24,
     "metadata": {},
     "output_type": "execute_result"
    }
   ],
   "source": [
    "# we keep this code commented to avoid running it constant\n",
    "'''\n",
    "grid = GridSearchCV(forest, parameters, verbose = 1)\n",
    "grid.fit(X_train,y_train)\n",
    "\n",
    "# Print best params for random forest model\n",
    "print(grid.best_params_)\n",
    "\n",
    "'''"
   ]
  },
  {
   "cell_type": "code",
   "execution_count": 25,
   "id": "particular-motorcycle",
   "metadata": {},
   "outputs": [
    {
     "name": "stdout",
     "output_type": "stream",
     "text": [
      "MAE: 0.44435374718132375\n",
      "MSE: 0.34561567944148597\n",
      "RMSE: 0.5878908737525068\n",
      "R2: 0.6377883095751423\n"
     ]
    }
   ],
   "source": [
    "forest_grid = RandomForestRegressor(bootstrap = True, \n",
    "                                    criterion = 'mse',\n",
    "                                    max_depth = 4,\n",
    "                                    max_features = 'log2',\n",
    "                                    min_samples_leaf = 3,\n",
    "                                    n_estimators = 50)\n",
    "\n",
    "forest_grid = forest_grid.fit(X_train,y_train)\n",
    "y_pred = forest_grid.predict(X_test)\n",
    "\n",
    "print(\"MAE:\", metrics.mean_absolute_error(y_test, y_pred))\n",
    "print(\"MSE:\", metrics.mean_squared_error(y_test,y_pred))\n",
    "print(\"RMSE:\", np.sqrt(metrics.mean_squared_error(y_test,y_pred)))\n",
    "print(\"R2:\", metrics.r2_score(y_test,y_pred))"
   ]
  },
  {
   "cell_type": "markdown",
   "id": "lyric-speaking",
   "metadata": {},
   "source": [
    "## Gradient Boosting Regressor"
   ]
  },
  {
   "cell_type": "code",
   "execution_count": 26,
   "id": "figured-negative",
   "metadata": {},
   "outputs": [],
   "source": [
    "gradient = GradientBoostingRegressor()"
   ]
  },
  {
   "cell_type": "code",
   "execution_count": 27,
   "id": "close-armstrong",
   "metadata": {},
   "outputs": [],
   "source": [
    "# Hyperparameter optimization \n",
    "parameters = {'loss': ['ls', 'lad', 'huber', 'quantile'],\n",
    "              'n_estimators': ['10', '25', '50', '100', '250', '400'],\n",
    "              'criterion': ['friendman_mse','mse', 'mae'], \n",
    "              'subsample': [0.9, 1.0, 1.1],\n",
    "              'max_depth': [1, 2, 3, 4, 5],\n",
    "              'min_samples_leaf': [1, 2, 3, 4],\n",
    "              'max_features': ['auto', 'sqrt', 'log2']}"
   ]
  },
  {
   "cell_type": "code",
   "execution_count": 28,
   "id": "respective-inspection",
   "metadata": {},
   "outputs": [
    {
     "data": {
      "text/plain": [
       "'\\ngrid = GridSearchCV(gradient, parameters, verbose = 1)\\ngrid.fit(X_train,y_train)\\n\\n# Print best params for gradient boosting\\nprint(grid.best_params_)\\n'"
      ]
     },
     "execution_count": 28,
     "metadata": {},
     "output_type": "execute_result"
    }
   ],
   "source": [
    "# we keep this code commented to avoid running it constant\n",
    "'''\n",
    "grid = GridSearchCV(gradient, parameters, verbose = 1)\n",
    "grid.fit(X_train,y_train)\n",
    "\n",
    "# Print best params for gradient boosting\n",
    "print(grid.best_params_)\n",
    "'''"
   ]
  },
  {
   "cell_type": "code",
   "execution_count": 29,
   "id": "controversial-seller",
   "metadata": {},
   "outputs": [
    {
     "name": "stdout",
     "output_type": "stream",
     "text": [
      "MAE: 0.5798885809778862\n",
      "MSE: 0.547979235212322\n",
      "RMSE: 0.740256195659531\n",
      "R2: 0.42570752164737935\n"
     ]
    }
   ],
   "source": [
    "gradient_grid = GradientBoostingRegressor(criterion='friedman_mse',\n",
    "                                          loss = 'ls',\n",
    "                                          max_depth = 1,\n",
    "                                          max_features = 'auto',\n",
    "                                          min_samples_leaf = 1,\n",
    "                                          n_estimators = 10,\n",
    "                                          subsample = 0.9)\n",
    "\n",
    "gradient_grid = gradient_grid.fit(X_train,y_train)\n",
    "y_pred = gradient_grid.predict(X_test)\n",
    "\n",
    "print(\"MAE:\", metrics.mean_absolute_error(y_test, y_pred))\n",
    "print(\"MSE:\", metrics.mean_squared_error(y_test,y_pred))\n",
    "print(\"RMSE:\", np.sqrt(metrics.mean_squared_error(y_test,y_pred)))\n",
    "print(\"R2:\", metrics.r2_score(y_test,y_pred))"
   ]
  },
  {
   "cell_type": "markdown",
   "id": "economic-metabolism",
   "metadata": {},
   "source": [
    "# Decision Tree Regressor"
   ]
  },
  {
   "cell_type": "code",
   "execution_count": 30,
   "id": "charming-painting",
   "metadata": {},
   "outputs": [],
   "source": [
    "tree = DecisionTreeRegressor()"
   ]
  },
  {
   "cell_type": "code",
   "execution_count": 31,
   "id": "straight-washer",
   "metadata": {},
   "outputs": [],
   "source": [
    "# Hyperparameter optimization \n",
    "parameters = {'criterion': ['mse', 'friendman_mse', 'mae', 'poisson'],\n",
    "              'max_depth': [1, 2, 3, 4],\n",
    "              'max_features': ['auto', 'sqrt', 'log2']}"
   ]
  },
  {
   "cell_type": "code",
   "execution_count": 32,
   "id": "greater-budapest",
   "metadata": {},
   "outputs": [
    {
     "data": {
      "text/plain": [
       "'\\ngrid = GridSearchCV(tree, parameters, verbose = 1)\\ngrid.fit(X_train,y_train)\\n\\n# Print best params for decision tree\\nprint(grid.best_params_)\\n'"
      ]
     },
     "execution_count": 32,
     "metadata": {},
     "output_type": "execute_result"
    }
   ],
   "source": [
    "# we keep this code commented to avoid running it constant\n",
    "'''\n",
    "grid = GridSearchCV(tree, parameters, verbose = 1)\n",
    "grid.fit(X_train,y_train)\n",
    "\n",
    "# Print best params for decision tree\n",
    "print(grid.best_params_)\n",
    "'''"
   ]
  },
  {
   "cell_type": "code",
   "execution_count": 33,
   "id": "brown-ethics",
   "metadata": {},
   "outputs": [
    {
     "name": "stdout",
     "output_type": "stream",
     "text": [
      "MAE: 0.45719901831046283\n",
      "MSE: 0.36159613839840105\n",
      "RMSE: 0.6013286442523764\n",
      "R2: 0.6210404899683954\n"
     ]
    }
   ],
   "source": [
    "tree_grid = GradientBoostingRegressor(criterion = 'mae',\n",
    "                                          max_depth = 4,\n",
    "                                          max_features = 'log2')\n",
    "\n",
    "tree_grid = forest_grid.fit(X_train,y_train)\n",
    "y_pred = forest_grid.predict(X_test)\n",
    "\n",
    "print(\"MAE:\", metrics.mean_absolute_error(y_test, y_pred))\n",
    "print(\"MSE:\", metrics.mean_squared_error(y_test,y_pred))\n",
    "print(\"RMSE:\", np.sqrt(metrics.mean_squared_error(y_test,y_pred)))\n",
    "print(\"R2:\", metrics.r2_score(y_test,y_pred))"
   ]
  },
  {
   "cell_type": "code",
   "execution_count": null,
   "id": "regulated-patrol",
   "metadata": {},
   "outputs": [],
   "source": []
  }
 ],
 "metadata": {
  "kernelspec": {
   "display_name": "Python 3",
   "language": "python",
   "name": "python3"
  },
  "language_info": {
   "codemirror_mode": {
    "name": "ipython",
    "version": 3
   },
   "file_extension": ".py",
   "mimetype": "text/x-python",
   "name": "python",
   "nbconvert_exporter": "python",
   "pygments_lexer": "ipython3",
   "version": "3.8.2"
  }
 },
 "nbformat": 4,
 "nbformat_minor": 5
}
