{
 "cells": [
  {
   "cell_type": "markdown",
   "metadata": {},
   "source": [
    "## COBIFY - Best Fuel"
   ]
  },
  {
   "cell_type": "markdown",
   "metadata": {},
   "source": [
    "- Let's import the libraries we'll use and the csv file with the data."
   ]
  },
  {
   "cell_type": "code",
   "execution_count": 2,
   "metadata": {},
   "outputs": [],
   "source": [
    "import matplotlib.pyplot as plt\n",
    "import pandas as pd\n",
    "import numpy as np\n",
    "import seaborn as sns\n",
    "from sklearn.preprocessing import StandardScaler\n",
    "import statsmodels.formula.api as smf"
   ]
  },
  {
   "cell_type": "code",
   "execution_count": 3,
   "metadata": {},
   "outputs": [],
   "source": [
    "consume_data = pd.read_csv('/home/julian/Cursos/Ironhack/Career/reto_data/consume_data.csv')"
   ]
  },
  {
   "cell_type": "markdown",
   "metadata": {},
   "source": [
    "### Exploratory Data Analysis"
   ]
  },
  {
   "cell_type": "code",
   "execution_count": 4,
   "metadata": {},
   "outputs": [
    {
     "name": "stdout",
     "output_type": "stream",
     "text": [
      "<class 'pandas.core.frame.DataFrame'>\n",
      "RangeIndex: 376 entries, 0 to 375\n",
      "Data columns (total 11 columns):\n",
      " #   Column        Non-Null Count  Dtype  \n",
      "---  ------        --------------  -----  \n",
      " 0   consume_id    376 non-null    int64  \n",
      " 1   distance      376 non-null    float64\n",
      " 2   consume       376 non-null    float64\n",
      " 3   speed         376 non-null    int64  \n",
      " 4   temp_inside   376 non-null    float64\n",
      " 5   temp_outside  376 non-null    int64  \n",
      " 6   gas_type      376 non-null    object \n",
      " 7   AC            376 non-null    int64  \n",
      " 8   rain          376 non-null    int64  \n",
      " 9   sun           376 non-null    int64  \n",
      " 10  snow          376 non-null    int64  \n",
      "dtypes: float64(3), int64(7), object(1)\n",
      "memory usage: 32.4+ KB\n"
     ]
    }
   ],
   "source": [
    "consume_data.info()"
   ]
  },
  {
   "cell_type": "code",
   "execution_count": 5,
   "metadata": {},
   "outputs": [
    {
     "data": {
      "text/plain": [
       "consume_id  distance  consume  speed  temp_inside  temp_outside  gas_type  AC     rain   sun    snow \n",
       "False       False     False    False  False        False         False     False  False  False  False    376\n",
       "dtype: int64"
      ]
     },
     "execution_count": 5,
     "metadata": {},
     "output_type": "execute_result"
    }
   ],
   "source": [
    "consume_data.isna().value_counts()"
   ]
  },
  {
   "cell_type": "code",
   "execution_count": 6,
   "metadata": {},
   "outputs": [
    {
     "data": {
      "text/plain": [
       "SP98    219\n",
       "E10     157\n",
       "Name: gas_type, dtype: int64"
      ]
     },
     "execution_count": 6,
     "metadata": {},
     "output_type": "execute_result"
    }
   ],
   "source": [
    "consume_data.gas_type.value_counts()"
   ]
  },
  {
   "cell_type": "markdown",
   "metadata": {},
   "source": [
    "- We can see that all variabels are numerical, except for gas_type, which we'll transform into a dummy variable. On the other hand, we don't have null values.\n",
    "- We'll also drop consume_id column as is an index column.\n",
    "- 58% of cars use SP98 gas."
   ]
  },
  {
   "cell_type": "code",
   "execution_count": 7,
   "metadata": {},
   "outputs": [],
   "source": [
    "consume_data = pd.get_dummies(consume_data, columns=['gas_type'], drop_first=True)"
   ]
  },
  {
   "cell_type": "code",
   "execution_count": 8,
   "metadata": {},
   "outputs": [],
   "source": [
    "consume_data.drop(columns=['consume_id'], inplace=True)"
   ]
  },
  {
   "cell_type": "code",
   "execution_count": 9,
   "metadata": {
    "scrolled": false
   },
   "outputs": [
    {
     "data": {
      "text/html": [
       "<div>\n",
       "<style scoped>\n",
       "    .dataframe tbody tr th:only-of-type {\n",
       "        vertical-align: middle;\n",
       "    }\n",
       "\n",
       "    .dataframe tbody tr th {\n",
       "        vertical-align: top;\n",
       "    }\n",
       "\n",
       "    .dataframe thead th {\n",
       "        text-align: right;\n",
       "    }\n",
       "</style>\n",
       "<table border=\"1\" class=\"dataframe\">\n",
       "  <thead>\n",
       "    <tr style=\"text-align: right;\">\n",
       "      <th></th>\n",
       "      <th>distance</th>\n",
       "      <th>consume</th>\n",
       "      <th>speed</th>\n",
       "      <th>temp_inside</th>\n",
       "      <th>temp_outside</th>\n",
       "      <th>AC</th>\n",
       "      <th>rain</th>\n",
       "      <th>sun</th>\n",
       "      <th>snow</th>\n",
       "      <th>gas_type_SP98</th>\n",
       "    </tr>\n",
       "  </thead>\n",
       "  <tbody>\n",
       "    <tr>\n",
       "      <th>0</th>\n",
       "      <td>28.0</td>\n",
       "      <td>5.0</td>\n",
       "      <td>26</td>\n",
       "      <td>21.5</td>\n",
       "      <td>12</td>\n",
       "      <td>0</td>\n",
       "      <td>0</td>\n",
       "      <td>0</td>\n",
       "      <td>0</td>\n",
       "      <td>0</td>\n",
       "    </tr>\n",
       "    <tr>\n",
       "      <th>1</th>\n",
       "      <td>12.0</td>\n",
       "      <td>4.2</td>\n",
       "      <td>30</td>\n",
       "      <td>21.5</td>\n",
       "      <td>13</td>\n",
       "      <td>0</td>\n",
       "      <td>0</td>\n",
       "      <td>0</td>\n",
       "      <td>0</td>\n",
       "      <td>0</td>\n",
       "    </tr>\n",
       "    <tr>\n",
       "      <th>2</th>\n",
       "      <td>11.2</td>\n",
       "      <td>5.5</td>\n",
       "      <td>38</td>\n",
       "      <td>21.5</td>\n",
       "      <td>15</td>\n",
       "      <td>0</td>\n",
       "      <td>0</td>\n",
       "      <td>0</td>\n",
       "      <td>0</td>\n",
       "      <td>0</td>\n",
       "    </tr>\n",
       "  </tbody>\n",
       "</table>\n",
       "</div>"
      ],
      "text/plain": [
       "   distance  consume  speed  temp_inside  temp_outside  AC  rain  sun  snow  \\\n",
       "0      28.0      5.0     26         21.5            12   0     0    0     0   \n",
       "1      12.0      4.2     30         21.5            13   0     0    0     0   \n",
       "2      11.2      5.5     38         21.5            15   0     0    0     0   \n",
       "\n",
       "   gas_type_SP98  \n",
       "0              0  \n",
       "1              0  \n",
       "2              0  "
      ]
     },
     "execution_count": 9,
     "metadata": {},
     "output_type": "execute_result"
    }
   ],
   "source": [
    "consume_data.head(3)"
   ]
  },
  {
   "cell_type": "code",
   "execution_count": 10,
   "metadata": {},
   "outputs": [
    {
     "data": {
      "text/html": [
       "<div>\n",
       "<style scoped>\n",
       "    .dataframe tbody tr th:only-of-type {\n",
       "        vertical-align: middle;\n",
       "    }\n",
       "\n",
       "    .dataframe tbody tr th {\n",
       "        vertical-align: top;\n",
       "    }\n",
       "\n",
       "    .dataframe thead th {\n",
       "        text-align: right;\n",
       "    }\n",
       "</style>\n",
       "<table border=\"1\" class=\"dataframe\">\n",
       "  <thead>\n",
       "    <tr style=\"text-align: right;\">\n",
       "      <th></th>\n",
       "      <th>Minimum</th>\n",
       "      <th>Maximum</th>\n",
       "      <th>Mean</th>\n",
       "      <th>Median</th>\n",
       "      <th>Mode</th>\n",
       "    </tr>\n",
       "  </thead>\n",
       "  <tbody>\n",
       "    <tr>\n",
       "      <th>Consume</th>\n",
       "      <td>3.3</td>\n",
       "      <td>12.2</td>\n",
       "      <td>4.925266</td>\n",
       "      <td>4.7</td>\n",
       "      <td>4.5</td>\n",
       "    </tr>\n",
       "  </tbody>\n",
       "</table>\n",
       "</div>"
      ],
      "text/plain": [
       "         Minimum  Maximum      Mean  Median  Mode\n",
       "Consume      3.3     12.2  4.925266     4.7   4.5"
      ]
     },
     "execution_count": 10,
     "metadata": {},
     "output_type": "execute_result"
    }
   ],
   "source": [
    "consume = {'Minimum': consume_data.consume.min(),\n",
    "          'Maximum': consume_data.consume.max(),\n",
    "          'Mean': consume_data.consume.mean(),\n",
    "          'Median': consume_data.consume.median(),\n",
    "          'Mode': consume_data.consume.mode()}\n",
    "consume_descr = pd.DataFrame(consume) \n",
    "consume_descr = consume_descr.rename(index={0:'Consume'})\n",
    "consume_descr"
   ]
  },
  {
   "cell_type": "code",
   "execution_count": 11,
   "metadata": {},
   "outputs": [
    {
     "data": {
      "text/plain": [
       "<AxesSubplot:xlabel='consume', ylabel='Count'>"
      ]
     },
     "execution_count": 11,
     "metadata": {},
     "output_type": "execute_result"
    },
    {
     "data": {
      "image/png": "[encoded data removed]",
      "text/plain": [
       "<Figure size 432x288 with 1 Axes>"
      ]
     },
     "metadata": {
      "needs_background": "light"
     },
     "output_type": "display_data"
    }
   ],
   "source": [
    "sns.histplot(x='consume', data=consume_data)"
   ]
  },
  {
   "cell_type": "code",
   "execution_count": 12,
   "metadata": {},
   "outputs": [
    {
     "data": {
      "text/plain": [
       "<AxesSubplot:xlabel='consume'>"
      ]
     },
     "execution_count": 12,
     "metadata": {},
     "output_type": "execute_result"
    },
    {
     "data": {
      "image/png": "[encoded data removed]",
      "text/plain": [
       "<Figure size 432x288 with 1 Axes>"
      ]
     },
     "metadata": {
      "needs_background": "light"
     },
     "output_type": "display_data"
    }
   ],
   "source": [
    "sns.boxplot(x=consume_data.consume)"
   ]
  },
  {
   "cell_type": "markdown",
   "metadata": {},
   "source": [
    "- From the histogram and boxplot, we can observe that consume variable has some outliers, which we'll have to take into account when doing the regression analysis"
   ]
  },
  {
   "cell_type": "code",
   "execution_count": 13,
   "metadata": {},
   "outputs": [],
   "source": [
    "corr_matrix = consume_data.corr()"
   ]
  },
  {
   "cell_type": "code",
   "execution_count": 14,
   "metadata": {},
   "outputs": [
    {
     "data": {
      "text/html": [
       "<div>\n",
       "<style scoped>\n",
       "    .dataframe tbody tr th:only-of-type {\n",
       "        vertical-align: middle;\n",
       "    }\n",
       "\n",
       "    .dataframe tbody tr th {\n",
       "        vertical-align: top;\n",
       "    }\n",
       "\n",
       "    .dataframe thead th {\n",
       "        text-align: right;\n",
       "    }\n",
       "</style>\n",
       "<table border=\"1\" class=\"dataframe\">\n",
       "  <thead>\n",
       "    <tr style=\"text-align: right;\">\n",
       "      <th></th>\n",
       "      <th>distance</th>\n",
       "      <th>consume</th>\n",
       "      <th>speed</th>\n",
       "      <th>temp_inside</th>\n",
       "      <th>temp_outside</th>\n",
       "      <th>AC</th>\n",
       "      <th>rain</th>\n",
       "      <th>sun</th>\n",
       "      <th>snow</th>\n",
       "      <th>gas_type_SP98</th>\n",
       "    </tr>\n",
       "  </thead>\n",
       "  <tbody>\n",
       "    <tr>\n",
       "      <th>distance</th>\n",
       "      <td>1.000000</td>\n",
       "      <td>-0.131379</td>\n",
       "      <td>0.565505</td>\n",
       "      <td>0.075305</td>\n",
       "      <td>0.086774</td>\n",
       "      <td>0.019030</td>\n",
       "      <td>-0.030784</td>\n",
       "      <td>0.078627</td>\n",
       "      <td>-0.034428</td>\n",
       "      <td>-0.047877</td>\n",
       "    </tr>\n",
       "    <tr>\n",
       "      <th>consume</th>\n",
       "      <td>-0.131379</td>\n",
       "      <td>1.000000</td>\n",
       "      <td>-0.234537</td>\n",
       "      <td>-0.161991</td>\n",
       "      <td>-0.318758</td>\n",
       "      <td>0.089472</td>\n",
       "      <td>0.251756</td>\n",
       "      <td>-0.169173</td>\n",
       "      <td>0.072308</td>\n",
       "      <td>-0.020928</td>\n",
       "    </tr>\n",
       "    <tr>\n",
       "      <th>speed</th>\n",
       "      <td>0.565505</td>\n",
       "      <td>-0.234537</td>\n",
       "      <td>1.000000</td>\n",
       "      <td>0.059725</td>\n",
       "      <td>0.019327</td>\n",
       "      <td>-0.024485</td>\n",
       "      <td>-0.004173</td>\n",
       "      <td>0.077181</td>\n",
       "      <td>0.032500</td>\n",
       "      <td>-0.099495</td>\n",
       "    </tr>\n",
       "    <tr>\n",
       "      <th>temp_inside</th>\n",
       "      <td>0.075305</td>\n",
       "      <td>-0.161991</td>\n",
       "      <td>0.059725</td>\n",
       "      <td>1.000000</td>\n",
       "      <td>0.361308</td>\n",
       "      <td>0.313197</td>\n",
       "      <td>-0.038269</td>\n",
       "      <td>0.246120</td>\n",
       "      <td>0.097156</td>\n",
       "      <td>0.010340</td>\n",
       "    </tr>\n",
       "    <tr>\n",
       "      <th>temp_outside</th>\n",
       "      <td>0.086774</td>\n",
       "      <td>-0.318758</td>\n",
       "      <td>0.019327</td>\n",
       "      <td>0.361308</td>\n",
       "      <td>1.000000</td>\n",
       "      <td>0.180096</td>\n",
       "      <td>-0.184763</td>\n",
       "      <td>0.349988</td>\n",
       "      <td>-0.162948</td>\n",
       "      <td>0.156990</td>\n",
       "    </tr>\n",
       "    <tr>\n",
       "      <th>AC</th>\n",
       "      <td>0.019030</td>\n",
       "      <td>0.089472</td>\n",
       "      <td>-0.024485</td>\n",
       "      <td>0.313197</td>\n",
       "      <td>0.180096</td>\n",
       "      <td>1.000000</td>\n",
       "      <td>0.242197</td>\n",
       "      <td>0.085928</td>\n",
       "      <td>0.063170</td>\n",
       "      <td>0.096943</td>\n",
       "    </tr>\n",
       "    <tr>\n",
       "      <th>rain</th>\n",
       "      <td>-0.030784</td>\n",
       "      <td>0.251756</td>\n",
       "      <td>-0.004173</td>\n",
       "      <td>-0.038269</td>\n",
       "      <td>-0.184763</td>\n",
       "      <td>0.242197</td>\n",
       "      <td>1.000000</td>\n",
       "      <td>-0.111916</td>\n",
       "      <td>0.277739</td>\n",
       "      <td>0.052789</td>\n",
       "    </tr>\n",
       "    <tr>\n",
       "      <th>sun</th>\n",
       "      <td>0.078627</td>\n",
       "      <td>-0.169173</td>\n",
       "      <td>0.077181</td>\n",
       "      <td>0.246120</td>\n",
       "      <td>0.349988</td>\n",
       "      <td>0.085928</td>\n",
       "      <td>-0.111916</td>\n",
       "      <td>1.000000</td>\n",
       "      <td>-0.031083</td>\n",
       "      <td>0.038120</td>\n",
       "    </tr>\n",
       "    <tr>\n",
       "      <th>snow</th>\n",
       "      <td>-0.034428</td>\n",
       "      <td>0.072308</td>\n",
       "      <td>0.032500</td>\n",
       "      <td>0.097156</td>\n",
       "      <td>-0.162948</td>\n",
       "      <td>0.063170</td>\n",
       "      <td>0.277739</td>\n",
       "      <td>-0.031083</td>\n",
       "      <td>1.000000</td>\n",
       "      <td>0.035231</td>\n",
       "    </tr>\n",
       "    <tr>\n",
       "      <th>gas_type_SP98</th>\n",
       "      <td>-0.047877</td>\n",
       "      <td>-0.020928</td>\n",
       "      <td>-0.099495</td>\n",
       "      <td>0.010340</td>\n",
       "      <td>0.156990</td>\n",
       "      <td>0.096943</td>\n",
       "      <td>0.052789</td>\n",
       "      <td>0.038120</td>\n",
       "      <td>0.035231</td>\n",
       "      <td>1.000000</td>\n",
       "    </tr>\n",
       "  </tbody>\n",
       "</table>\n",
       "</div>"
      ],
      "text/plain": [
       "               distance   consume     speed  temp_inside  temp_outside  \\\n",
       "distance       1.000000 -0.131379  0.565505     0.075305      0.086774   \n",
       "consume       -0.131379  1.000000 -0.234537    -0.161991     -0.318758   \n",
       "speed          0.565505 -0.234537  1.000000     0.059725      0.019327   \n",
       "temp_inside    0.075305 -0.161991  0.059725     1.000000      0.361308   \n",
       "temp_outside   0.086774 -0.318758  0.019327     0.361308      1.000000   \n",
       "AC             0.019030  0.089472 -0.024485     0.313197      0.180096   \n",
       "rain          -0.030784  0.251756 -0.004173    -0.038269     -0.184763   \n",
       "sun            0.078627 -0.169173  0.077181     0.246120      0.349988   \n",
       "snow          -0.034428  0.072308  0.032500     0.097156     -0.162948   \n",
       "gas_type_SP98 -0.047877 -0.020928 -0.099495     0.010340      0.156990   \n",
       "\n",
       "                     AC      rain       sun      snow  gas_type_SP98  \n",
       "distance       0.019030 -0.030784  0.078627 -0.034428      -0.047877  \n",
       "consume        0.089472  0.251756 -0.169173  0.072308      -0.020928  \n",
       "speed         -0.024485 -0.004173  0.077181  0.032500      -0.099495  \n",
       "temp_inside    0.313197 -0.038269  0.246120  0.097156       0.010340  \n",
       "temp_outside   0.180096 -0.184763  0.349988 -0.162948       0.156990  \n",
       "AC             1.000000  0.242197  0.085928  0.063170       0.096943  \n",
       "rain           0.242197  1.000000 -0.111916  0.277739       0.052789  \n",
       "sun            0.085928 -0.111916  1.000000 -0.031083       0.038120  \n",
       "snow           0.063170  0.277739 -0.031083  1.000000       0.035231  \n",
       "gas_type_SP98  0.096943  0.052789  0.038120  0.035231       1.000000  "
      ]
     },
     "execution_count": 14,
     "metadata": {},
     "output_type": "execute_result"
    }
   ],
   "source": [
    "corr_matrix"
   ]
  },
  {
   "cell_type": "code",
   "execution_count": 15,
   "metadata": {},
   "outputs": [
    {
     "data": {
      "image/png": "[encoded data removed]",
      "text/plain": [
       "<Figure size 432x288 with 2 Axes>"
      ]
     },
     "metadata": {
      "needs_background": "light"
     },
     "output_type": "display_data"
    }
   ],
   "source": [
    "mascara = np.triu(np.ones_like(corr_matrix, dtype=bool))\n",
    "color_map = sns.diverging_palette(0, 10, as_cmap=True) \n",
    "\n",
    "sns.heatmap(corr_matrix, \n",
    "            mask=mascara,\n",
    "            cmap=\"viridis\",\n",
    "            vmax=1,\n",
    "            vmin=-1,\n",
    "            square=True, \n",
    "            linewidth=.5, \n",
    "            cbar_kws={\"shrink\": .5} \n",
    ");"
   ]
  },
  {
   "cell_type": "markdown",
   "metadata": {},
   "source": [
    "- We can see through the correlations heatmap that `consume` is mostly correlated with `temp_outside` (negatively), `rain` (positively), `speed` (negatively), `sun` (negatively), and `temp_inside` (negatively).\n",
    "- We can also observe that `speed` and `distance` are correlated, and `temp_inside` wit `AC`. Both are not surprise.\n",
    "- Next we'll plot some of these variables against the consume."
   ]
  },
  {
   "cell_type": "code",
   "execution_count": 16,
   "metadata": {
    "scrolled": false
   },
   "outputs": [
    {
     "data": {
      "image/png": "[encoded data removed]",
      "text/plain": [
       "<Figure size 432x288 with 1 Axes>"
      ]
     },
     "metadata": {
      "needs_background": "light"
     },
     "output_type": "display_data"
    }
   ],
   "source": [
    "sns.scatterplot(x=consume_data.temp_outside, y=consume_data.consume, hue=consume_data.gas_type_SP98);"
   ]
  },
  {
   "cell_type": "markdown",
   "metadata": {},
   "source": [
    "- We can see how lower outside temperatures accounts for higher consumption levels. "
   ]
  },
  {
   "cell_type": "code",
   "execution_count": 17,
   "metadata": {
    "scrolled": true
   },
   "outputs": [
    {
     "data": {
      "image/png": "[encoded data removed]",
      "text/plain": [
       "<Figure size 1080x360 with 2 Axes>"
      ]
     },
     "metadata": {
      "needs_background": "light"
     },
     "output_type": "display_data"
    }
   ],
   "source": [
    "fig, axs = plt.subplots(nrows=1, ncols=2, figsize=(15, 5))\n",
    "sns.scatterplot(data=consume_data, x=\"temp_inside\", y=\"consume\", hue=\"gas_type_SP98\", ax=axs[0])\n",
    "sns.scatterplot(data=consume_data, x=\"temp_inside\", y=\"consume\", hue=\"AC\", ax=axs[1]);"
   ]
  },
  {
   "cell_type": "markdown",
   "metadata": {},
   "source": [
    "- We can see that for lower inside temperature values, there are higher consumption values. On the other hand, we can see that most of the cars had the AC off, but those with the AC on, accounts for higher consumption values"
   ]
  },
  {
   "cell_type": "code",
   "execution_count": 36,
   "metadata": {},
   "outputs": [
    {
     "data": {
      "text/html": [
       "<div>\n",
       "<style scoped>\n",
       "    .dataframe tbody tr th:only-of-type {\n",
       "        vertical-align: middle;\n",
       "    }\n",
       "\n",
       "    .dataframe tbody tr th {\n",
       "        vertical-align: top;\n",
       "    }\n",
       "\n",
       "    .dataframe thead th {\n",
       "        text-align: right;\n",
       "    }\n",
       "</style>\n",
       "<table border=\"1\" class=\"dataframe\">\n",
       "  <thead>\n",
       "    <tr style=\"text-align: right;\">\n",
       "      <th></th>\n",
       "      <th>consume</th>\n",
       "    </tr>\n",
       "    <tr>\n",
       "      <th>gas_type_SP98</th>\n",
       "      <th></th>\n",
       "    </tr>\n",
       "  </thead>\n",
       "  <tbody>\n",
       "    <tr>\n",
       "      <th>0</th>\n",
       "      <td>4.950955</td>\n",
       "    </tr>\n",
       "    <tr>\n",
       "      <th>1</th>\n",
       "      <td>4.906849</td>\n",
       "    </tr>\n",
       "  </tbody>\n",
       "</table>\n",
       "</div>"
      ],
      "text/plain": [
       "                consume\n",
       "gas_type_SP98          \n",
       "0              4.950955\n",
       "1              4.906849"
      ]
     },
     "execution_count": 36,
     "metadata": {},
     "output_type": "execute_result"
    }
   ],
   "source": [
    "gtype_gr = consume_data.groupby('gas_type_SP98').agg({'consume': 'mean'})\n",
    "gtype_gr"
   ]
  },
  {
   "cell_type": "code",
   "execution_count": 19,
   "metadata": {},
   "outputs": [
    {
     "data": {
      "text/html": [
       "<div>\n",
       "<style scoped>\n",
       "    .dataframe tbody tr th:only-of-type {\n",
       "        vertical-align: middle;\n",
       "    }\n",
       "\n",
       "    .dataframe tbody tr th {\n",
       "        vertical-align: top;\n",
       "    }\n",
       "\n",
       "    .dataframe thead th {\n",
       "        text-align: right;\n",
       "    }\n",
       "</style>\n",
       "<table border=\"1\" class=\"dataframe\">\n",
       "  <thead>\n",
       "    <tr style=\"text-align: right;\">\n",
       "      <th></th>\n",
       "      <th>consume</th>\n",
       "    </tr>\n",
       "    <tr>\n",
       "      <th>AC</th>\n",
       "      <th></th>\n",
       "    </tr>\n",
       "  </thead>\n",
       "  <tbody>\n",
       "    <tr>\n",
       "      <th>0</th>\n",
       "      <td>4.897391</td>\n",
       "    </tr>\n",
       "    <tr>\n",
       "      <th>1</th>\n",
       "      <td>5.235484</td>\n",
       "    </tr>\n",
       "  </tbody>\n",
       "</table>\n",
       "</div>"
      ],
      "text/plain": [
       "     consume\n",
       "AC          \n",
       "0   4.897391\n",
       "1   5.235484"
      ]
     },
     "execution_count": 19,
     "metadata": {},
     "output_type": "execute_result"
    }
   ],
   "source": [
    "ac_group = consume_data.groupby('AC').agg({'consume': 'mean'})\n",
    "ac_group"
   ]
  },
  {
   "cell_type": "code",
   "execution_count": 20,
   "metadata": {},
   "outputs": [
    {
     "data": {
      "text/html": [
       "<div>\n",
       "<style scoped>\n",
       "    .dataframe tbody tr th:only-of-type {\n",
       "        vertical-align: middle;\n",
       "    }\n",
       "\n",
       "    .dataframe tbody tr th {\n",
       "        vertical-align: top;\n",
       "    }\n",
       "\n",
       "    .dataframe thead th {\n",
       "        text-align: right;\n",
       "    }\n",
       "</style>\n",
       "<table border=\"1\" class=\"dataframe\">\n",
       "  <thead>\n",
       "    <tr style=\"text-align: right;\">\n",
       "      <th></th>\n",
       "      <th>consume</th>\n",
       "    </tr>\n",
       "    <tr>\n",
       "      <th>rain</th>\n",
       "      <th></th>\n",
       "    </tr>\n",
       "  </thead>\n",
       "  <tbody>\n",
       "    <tr>\n",
       "      <th>0</th>\n",
       "      <td>4.827576</td>\n",
       "    </tr>\n",
       "    <tr>\n",
       "      <th>1</th>\n",
       "      <td>5.626087</td>\n",
       "    </tr>\n",
       "  </tbody>\n",
       "</table>\n",
       "</div>"
      ],
      "text/plain": [
       "       consume\n",
       "rain          \n",
       "0     4.827576\n",
       "1     5.626087"
      ]
     },
     "execution_count": 20,
     "metadata": {},
     "output_type": "execute_result"
    }
   ],
   "source": [
    "rain_gr = consume_data.groupby('rain').agg({'consume': 'mean'})\n",
    "rain_gr"
   ]
  },
  {
   "cell_type": "markdown",
   "metadata": {},
   "source": [
    "- From the above data frames we can see that the consumption is higher in average when: the AC is on, is raining\n",
    "- But also the consumption is higher in average when the car is using the ethanol type of gas. Although is higher in a small proportion, it's considerable given that most of the cars in the data set use non-ethanol gas. "
   ]
  },
  {
   "cell_type": "markdown",
   "metadata": {},
   "source": [
    "### REGRESSION ANALYSIS"
   ]
  },
  {
   "cell_type": "markdown",
   "metadata": {},
   "source": [
    "- We'll model the `consume` variable as a linear regression over the other variables to check which of them has statistical significance in order to explain the consume of the car."
   ]
  },
  {
   "cell_type": "code",
   "execution_count": 22,
   "metadata": {},
   "outputs": [],
   "source": [
    "linear_model = smf.ols(\"consume ~ distance + speed + temp_inside + temp_outside + AC + rain + sun + snow + gas_type_SP98\", data=consume_data).fit()"
   ]
  },
  {
   "cell_type": "code",
   "execution_count": 23,
   "metadata": {},
   "outputs": [
    {
     "data": {
      "text/html": [
       "<table class=\"simpletable\">\n",
       "<caption>OLS Regression Results</caption>\n",
       "<tr>\n",
       "  <th>Dep. Variable:</th>         <td>consume</td>     <th>  R-squared:         </th> <td>   0.208</td>\n",
       "</tr>\n",
       "<tr>\n",
       "  <th>Model:</th>                   <td>OLS</td>       <th>  Adj. R-squared:    </th> <td>   0.188</td>\n",
       "</tr>\n",
       "<tr>\n",
       "  <th>Method:</th>             <td>Least Squares</td>  <th>  F-statistic:       </th> <td>   10.68</td>\n",
       "</tr>\n",
       "<tr>\n",
       "  <th>Date:</th>             <td>Sun, 17 Oct 2021</td> <th>  Prob (F-statistic):</th> <td>9.76e-15</td>\n",
       "</tr>\n",
       "<tr>\n",
       "  <th>Time:</th>                 <td>20:45:17</td>     <th>  Log-Likelihood:    </th> <td> -504.20</td>\n",
       "</tr>\n",
       "<tr>\n",
       "  <th>No. Observations:</th>      <td>   376</td>      <th>  AIC:               </th> <td>   1028.</td>\n",
       "</tr>\n",
       "<tr>\n",
       "  <th>Df Residuals:</th>          <td>   366</td>      <th>  BIC:               </th> <td>   1068.</td>\n",
       "</tr>\n",
       "<tr>\n",
       "  <th>Df Model:</th>              <td>     9</td>      <th>                     </th>     <td> </td>   \n",
       "</tr>\n",
       "<tr>\n",
       "  <th>Covariance Type:</th>      <td>nonrobust</td>    <th>                     </th>     <td> </td>   \n",
       "</tr>\n",
       "</table>\n",
       "<table class=\"simpletable\">\n",
       "<tr>\n",
       "        <td></td>           <th>coef</th>     <th>std err</th>      <th>t</th>      <th>P>|t|</th>  <th>[0.025</th>    <th>0.975]</th>  \n",
       "</tr>\n",
       "<tr>\n",
       "  <th>Intercept</th>     <td>    7.7409</td> <td>    1.186</td> <td>    6.526</td> <td> 0.000</td> <td>    5.408</td> <td>   10.073</td>\n",
       "</tr>\n",
       "<tr>\n",
       "  <th>distance</th>      <td>    0.0018</td> <td>    0.003</td> <td>    0.683</td> <td> 0.495</td> <td>   -0.003</td> <td>    0.007</td>\n",
       "</tr>\n",
       "<tr>\n",
       "  <th>speed</th>         <td>   -0.0184</td> <td>    0.004</td> <td>   -4.259</td> <td> 0.000</td> <td>   -0.027</td> <td>   -0.010</td>\n",
       "</tr>\n",
       "<tr>\n",
       "  <th>temp_inside</th>   <td>   -0.0776</td> <td>    0.055</td> <td>   -1.414</td> <td> 0.158</td> <td>   -0.185</td> <td>    0.030</td>\n",
       "</tr>\n",
       "<tr>\n",
       "  <th>temp_outside</th>  <td>   -0.0394</td> <td>    0.008</td> <td>   -4.873</td> <td> 0.000</td> <td>   -0.055</td> <td>   -0.023</td>\n",
       "</tr>\n",
       "<tr>\n",
       "  <th>AC</th>            <td>    0.4471</td> <td>    0.195</td> <td>    2.298</td> <td> 0.022</td> <td>    0.065</td> <td>    0.830</td>\n",
       "</tr>\n",
       "<tr>\n",
       "  <th>rain</th>          <td>    0.5432</td> <td>    0.162</td> <td>    3.344</td> <td> 0.001</td> <td>    0.224</td> <td>    0.863</td>\n",
       "</tr>\n",
       "<tr>\n",
       "  <th>sun</th>           <td>   -0.1210</td> <td>    0.190</td> <td>   -0.636</td> <td> 0.525</td> <td>   -0.495</td> <td>    0.253</td>\n",
       "</tr>\n",
       "<tr>\n",
       "  <th>snow</th>          <td>   -0.1020</td> <td>    0.503</td> <td>   -0.203</td> <td> 0.839</td> <td>   -1.091</td> <td>    0.887</td>\n",
       "</tr>\n",
       "<tr>\n",
       "  <th>gas_type_SP98</th> <td>   -0.0408</td> <td>    0.101</td> <td>   -0.406</td> <td> 0.685</td> <td>   -0.239</td> <td>    0.157</td>\n",
       "</tr>\n",
       "</table>\n",
       "<table class=\"simpletable\">\n",
       "<tr>\n",
       "  <th>Omnibus:</th>       <td>248.482</td> <th>  Durbin-Watson:     </th> <td>   2.096</td>\n",
       "</tr>\n",
       "<tr>\n",
       "  <th>Prob(Omnibus):</th> <td> 0.000</td>  <th>  Jarque-Bera (JB):  </th> <td>2919.818</td>\n",
       "</tr>\n",
       "<tr>\n",
       "  <th>Skew:</th>          <td> 2.651</td>  <th>  Prob(JB):          </th> <td>    0.00</td>\n",
       "</tr>\n",
       "<tr>\n",
       "  <th>Kurtosis:</th>      <td>15.580</td>  <th>  Cond. No.          </th> <td>1.37e+03</td>\n",
       "</tr>\n",
       "</table><br/><br/>Notes:<br/>[1] Standard Errors assume that the covariance matrix of the errors is correctly specified.<br/>[2] The condition number is large, 1.37e+03. This might indicate that there are<br/>strong multicollinearity or other numerical problems."
      ],
      "text/plain": [
       "<class 'statsmodels.iolib.summary.Summary'>\n",
       "\"\"\"\n",
       "                            OLS Regression Results                            \n",
       "==============================================================================\n",
       "Dep. Variable:                consume   R-squared:                       0.208\n",
       "Model:                            OLS   Adj. R-squared:                  0.188\n",
       "Method:                 Least Squares   F-statistic:                     10.68\n",
       "Date:                Sun, 17 Oct 2021   Prob (F-statistic):           9.76e-15\n",
       "Time:                        20:45:17   Log-Likelihood:                -504.20\n",
       "No. Observations:                 376   AIC:                             1028.\n",
       "Df Residuals:                     366   BIC:                             1068.\n",
       "Df Model:                           9                                         \n",
       "Covariance Type:            nonrobust                                         \n",
       "=================================================================================\n",
       "                    coef    std err          t      P>|t|      [0.025      0.975]\n",
       "---------------------------------------------------------------------------------\n",
       "Intercept         7.7409      1.186      6.526      0.000       5.408      10.073\n",
       "distance          0.0018      0.003      0.683      0.495      -0.003       0.007\n",
       "speed            -0.0184      0.004     -4.259      0.000      -0.027      -0.010\n",
       "temp_inside      -0.0776      0.055     -1.414      0.158      -0.185       0.030\n",
       "temp_outside     -0.0394      0.008     -4.873      0.000      -0.055      -0.023\n",
       "AC                0.4471      0.195      2.298      0.022       0.065       0.830\n",
       "rain              0.5432      0.162      3.344      0.001       0.224       0.863\n",
       "sun              -0.1210      0.190     -0.636      0.525      -0.495       0.253\n",
       "snow             -0.1020      0.503     -0.203      0.839      -1.091       0.887\n",
       "gas_type_SP98    -0.0408      0.101     -0.406      0.685      -0.239       0.157\n",
       "==============================================================================\n",
       "Omnibus:                      248.482   Durbin-Watson:                   2.096\n",
       "Prob(Omnibus):                  0.000   Jarque-Bera (JB):             2919.818\n",
       "Skew:                           2.651   Prob(JB):                         0.00\n",
       "Kurtosis:                      15.580   Cond. No.                     1.37e+03\n",
       "==============================================================================\n",
       "\n",
       "Notes:\n",
       "[1] Standard Errors assume that the covariance matrix of the errors is correctly specified.\n",
       "[2] The condition number is large, 1.37e+03. This might indicate that there are\n",
       "strong multicollinearity or other numerical problems.\n",
       "\"\"\""
      ]
     },
     "execution_count": 23,
     "metadata": {},
     "output_type": "execute_result"
    }
   ],
   "source": [
    "linear_model.summary()"
   ]
  },
  {
   "cell_type": "markdown",
   "metadata": {},
   "source": [
    "- From the summary we can see that a linear model is not very good to model the consumption, as we got a R2 of 0.208. \n",
    "- We can see from the p-values that `distance` and `temp_inside` are not significant, which is no suprise given the correlation they have with `speed` and `AC` respectively.\n",
    "- We can also see that `sun`, `snow` and `gas_type` are non-significant.\n",
    "- We'll perform another regression but this time without `distance`. We'll log-transform the target variable to see if we can reduce the potential influence of outliers and standarize the data set."
   ]
  },
  {
   "cell_type": "code",
   "execution_count": 24,
   "metadata": {},
   "outputs": [],
   "source": [
    "consume_data['log_consume'] = np.log(consume_data.consume)"
   ]
  },
  {
   "cell_type": "code",
   "execution_count": 25,
   "metadata": {},
   "outputs": [
    {
     "data": {
      "image/png": "[encoded data removed]",
      "text/plain": [
       "<Figure size 432x288 with 1 Axes>"
      ]
     },
     "metadata": {
      "needs_background": "light"
     },
     "output_type": "display_data"
    }
   ],
   "source": [
    "sns.histplot(consume_data.log_consume);"
   ]
  },
  {
   "cell_type": "code",
   "execution_count": 26,
   "metadata": {},
   "outputs": [],
   "source": [
    "scaler = StandardScaler()"
   ]
  },
  {
   "cell_type": "code",
   "execution_count": 39,
   "metadata": {
    "scrolled": true
   },
   "outputs": [],
   "source": [
    "consume_data_scaled=pd.DataFrame(scaler.fit_transform(consume_data), columns=consume_data.columns)"
   ]
  },
  {
   "cell_type": "code",
   "execution_count": 28,
   "metadata": {},
   "outputs": [],
   "source": [
    "linear_model_2 = smf.ols(\"log_consume ~ speed  + temp_outside + AC + rain + sun + snow + gas_type_SP98\", data=consume_data).fit()"
   ]
  },
  {
   "cell_type": "code",
   "execution_count": 29,
   "metadata": {},
   "outputs": [
    {
     "data": {
      "text/html": [
       "<table class=\"simpletable\">\n",
       "<caption>OLS Regression Results</caption>\n",
       "<tr>\n",
       "  <th>Dep. Variable:</th>       <td>log_consume</td>   <th>  R-squared:         </th> <td>   0.229</td>\n",
       "</tr>\n",
       "<tr>\n",
       "  <th>Model:</th>                   <td>OLS</td>       <th>  Adj. R-squared:    </th> <td>   0.214</td>\n",
       "</tr>\n",
       "<tr>\n",
       "  <th>Method:</th>             <td>Least Squares</td>  <th>  F-statistic:       </th> <td>   15.62</td>\n",
       "</tr>\n",
       "<tr>\n",
       "  <th>Date:</th>             <td>Sun, 17 Oct 2021</td> <th>  Prob (F-statistic):</th> <td>6.11e-18</td>\n",
       "</tr>\n",
       "<tr>\n",
       "  <th>Time:</th>                 <td>20:45:18</td>     <th>  Log-Likelihood:    </th> <td>  163.29</td>\n",
       "</tr>\n",
       "<tr>\n",
       "  <th>No. Observations:</th>      <td>   376</td>      <th>  AIC:               </th> <td>  -310.6</td>\n",
       "</tr>\n",
       "<tr>\n",
       "  <th>Df Residuals:</th>          <td>   368</td>      <th>  BIC:               </th> <td>  -279.1</td>\n",
       "</tr>\n",
       "<tr>\n",
       "  <th>Df Model:</th>              <td>     7</td>      <th>                     </th>     <td> </td>   \n",
       "</tr>\n",
       "<tr>\n",
       "  <th>Covariance Type:</th>      <td>nonrobust</td>    <th>                     </th>     <td> </td>   \n",
       "</tr>\n",
       "</table>\n",
       "<table class=\"simpletable\">\n",
       "<tr>\n",
       "        <td></td>           <th>coef</th>     <th>std err</th>      <th>t</th>      <th>P>|t|</th>  <th>[0.025</th>    <th>0.975]</th>  \n",
       "</tr>\n",
       "<tr>\n",
       "  <th>Intercept</th>     <td>    1.7727</td> <td>    0.032</td> <td>   56.115</td> <td> 0.000</td> <td>    1.711</td> <td>    1.835</td>\n",
       "</tr>\n",
       "<tr>\n",
       "  <th>speed</th>         <td>   -0.0026</td> <td>    0.001</td> <td>   -4.271</td> <td> 0.000</td> <td>   -0.004</td> <td>   -0.001</td>\n",
       "</tr>\n",
       "<tr>\n",
       "  <th>temp_outside</th>  <td>   -0.0085</td> <td>    0.001</td> <td>   -6.511</td> <td> 0.000</td> <td>   -0.011</td> <td>   -0.006</td>\n",
       "</tr>\n",
       "<tr>\n",
       "  <th>AC</th>            <td>    0.0664</td> <td>    0.032</td> <td>    2.101</td> <td> 0.036</td> <td>    0.004</td> <td>    0.128</td>\n",
       "</tr>\n",
       "<tr>\n",
       "  <th>rain</th>          <td>    0.0958</td> <td>    0.027</td> <td>    3.500</td> <td> 0.001</td> <td>    0.042</td> <td>    0.150</td>\n",
       "</tr>\n",
       "<tr>\n",
       "  <th>sun</th>           <td>   -0.0320</td> <td>    0.032</td> <td>   -1.005</td> <td> 0.316</td> <td>   -0.095</td> <td>    0.031</td>\n",
       "</tr>\n",
       "<tr>\n",
       "  <th>snow</th>          <td>   -0.0436</td> <td>    0.084</td> <td>   -0.521</td> <td> 0.602</td> <td>   -0.208</td> <td>    0.121</td>\n",
       "</tr>\n",
       "<tr>\n",
       "  <th>gas_type_SP98</th> <td>   -0.0095</td> <td>    0.017</td> <td>   -0.563</td> <td> 0.574</td> <td>   -0.043</td> <td>    0.024</td>\n",
       "</tr>\n",
       "</table>\n",
       "<table class=\"simpletable\">\n",
       "<tr>\n",
       "  <th>Omnibus:</th>       <td>111.195</td> <th>  Durbin-Watson:     </th> <td>   2.112</td>\n",
       "</tr>\n",
       "<tr>\n",
       "  <th>Prob(Omnibus):</th> <td> 0.000</td>  <th>  Jarque-Bera (JB):  </th> <td> 366.740</td>\n",
       "</tr>\n",
       "<tr>\n",
       "  <th>Skew:</th>          <td> 1.317</td>  <th>  Prob(JB):          </th> <td>2.31e-80</td>\n",
       "</tr>\n",
       "<tr>\n",
       "  <th>Kurtosis:</th>      <td> 7.059</td>  <th>  Cond. No.          </th> <td>    468.</td>\n",
       "</tr>\n",
       "</table><br/><br/>Notes:<br/>[1] Standard Errors assume that the covariance matrix of the errors is correctly specified."
      ],
      "text/plain": [
       "<class 'statsmodels.iolib.summary.Summary'>\n",
       "\"\"\"\n",
       "                            OLS Regression Results                            \n",
       "==============================================================================\n",
       "Dep. Variable:            log_consume   R-squared:                       0.229\n",
       "Model:                            OLS   Adj. R-squared:                  0.214\n",
       "Method:                 Least Squares   F-statistic:                     15.62\n",
       "Date:                Sun, 17 Oct 2021   Prob (F-statistic):           6.11e-18\n",
       "Time:                        20:45:18   Log-Likelihood:                 163.29\n",
       "No. Observations:                 376   AIC:                            -310.6\n",
       "Df Residuals:                     368   BIC:                            -279.1\n",
       "Df Model:                           7                                         \n",
       "Covariance Type:            nonrobust                                         \n",
       "=================================================================================\n",
       "                    coef    std err          t      P>|t|      [0.025      0.975]\n",
       "---------------------------------------------------------------------------------\n",
       "Intercept         1.7727      0.032     56.115      0.000       1.711       1.835\n",
       "speed            -0.0026      0.001     -4.271      0.000      -0.004      -0.001\n",
       "temp_outside     -0.0085      0.001     -6.511      0.000      -0.011      -0.006\n",
       "AC                0.0664      0.032      2.101      0.036       0.004       0.128\n",
       "rain              0.0958      0.027      3.500      0.001       0.042       0.150\n",
       "sun              -0.0320      0.032     -1.005      0.316      -0.095       0.031\n",
       "snow             -0.0436      0.084     -0.521      0.602      -0.208       0.121\n",
       "gas_type_SP98    -0.0095      0.017     -0.563      0.574      -0.043       0.024\n",
       "==============================================================================\n",
       "Omnibus:                      111.195   Durbin-Watson:                   2.112\n",
       "Prob(Omnibus):                  0.000   Jarque-Bera (JB):              366.740\n",
       "Skew:                           1.317   Prob(JB):                     2.31e-80\n",
       "Kurtosis:                       7.059   Cond. No.                         468.\n",
       "==============================================================================\n",
       "\n",
       "Notes:\n",
       "[1] Standard Errors assume that the covariance matrix of the errors is correctly specified.\n",
       "\"\"\""
      ]
     },
     "execution_count": 29,
     "metadata": {},
     "output_type": "execute_result"
    }
   ],
   "source": [
    "linear_model_2.summary()"
   ]
  },
  {
   "cell_type": "markdown",
   "metadata": {},
   "source": [
    "- This time we can see that we got a R2 of 0.229, a slightly improvement,   \n",
    "- We can see from the p-values that `sun`, `snow` and `gas_type` are still non-significant."
   ]
  },
  {
   "cell_type": "markdown",
   "metadata": {},
   "source": [
    "#### From the regression analisis, we can say that the variables whic are significant to predict the mean of consumption are `rain`, `AC`, `temp_outside`  and `speed`. Which goes in line with the correlation analysis."
   ]
  },
  {
   "cell_type": "markdown",
   "metadata": {},
   "source": [
    "### CONSUME COST"
   ]
  },
  {
   "cell_type": "markdown",
   "metadata": {},
   "source": [
    "- We'll enrich the data with the price of the gas"
   ]
  },
  {
   "cell_type": "code",
   "execution_count": 30,
   "metadata": {},
   "outputs": [],
   "source": [
    "def price(x):\n",
    "    E10_price = 1.379\n",
    "    SP98_price = 1.459\n",
    "    if x == 0:\n",
    "        return E10_price\n",
    "    else:\n",
    "        return SP98_price"
   ]
  },
  {
   "cell_type": "code",
   "execution_count": 31,
   "metadata": {},
   "outputs": [],
   "source": [
    "consume_data['price'] = consume_data.gas_type_SP98.apply(price)"
   ]
  },
  {
   "cell_type": "code",
   "execution_count": 32,
   "metadata": {},
   "outputs": [],
   "source": [
    "consume_data['cost_per_distance'] =(((consume_data.consume)/100) * (consume_data.distance)) * consume_data.price "
   ]
  },
  {
   "cell_type": "code",
   "execution_count": 40,
   "metadata": {},
   "outputs": [
    {
     "data": {
      "text/html": [
       "<div>\n",
       "<style scoped>\n",
       "    .dataframe tbody tr th:only-of-type {\n",
       "        vertical-align: middle;\n",
       "    }\n",
       "\n",
       "    .dataframe tbody tr th {\n",
       "        vertical-align: top;\n",
       "    }\n",
       "\n",
       "    .dataframe thead th {\n",
       "        text-align: right;\n",
       "    }\n",
       "</style>\n",
       "<table border=\"1\" class=\"dataframe\">\n",
       "  <thead>\n",
       "    <tr style=\"text-align: right;\">\n",
       "      <th></th>\n",
       "      <th>cost_per_distance</th>\n",
       "    </tr>\n",
       "    <tr>\n",
       "      <th>gas_type_SP98</th>\n",
       "      <th></th>\n",
       "    </tr>\n",
       "  </thead>\n",
       "  <tbody>\n",
       "    <tr>\n",
       "      <th>0</th>\n",
       "      <td>1.396125</td>\n",
       "    </tr>\n",
       "    <tr>\n",
       "      <th>1</th>\n",
       "      <td>1.305041</td>\n",
       "    </tr>\n",
       "  </tbody>\n",
       "</table>\n",
       "</div>"
      ],
      "text/plain": [
       "               cost_per_distance\n",
       "gas_type_SP98                   \n",
       "0                       1.396125\n",
       "1                       1.305041"
      ]
     },
     "execution_count": 40,
     "metadata": {},
     "output_type": "execute_result"
    }
   ],
   "source": [
    "price_gr = consume_data.groupby('gas_type_SP98').agg({'cost_per_distance': 'mean'})\n",
    "price_gr"
   ]
  },
  {
   "cell_type": "markdown",
   "metadata": {},
   "source": [
    "- From the above data frame we can see that the cars with ethanol gas-type, have a higher cost consumption, even if the price of ethanol is lower."
   ]
  }
 ],
 "metadata": {
  "kernelspec": {
   "display_name": "ironcon",
   "language": "python",
   "name": "ironcon"
  },
  "language_info": {
   "codemirror_mode": {
    "name": "ipython",
    "version": 3
   },
   "file_extension": ".py",
   "mimetype": "text/x-python",
   "name": "python",
   "nbconvert_exporter": "python",
   "pygments_lexer": "ipython3",
   "version": "3.8.11"
  }
 },
 "nbformat": 4,
 "nbformat_minor": 4
}
