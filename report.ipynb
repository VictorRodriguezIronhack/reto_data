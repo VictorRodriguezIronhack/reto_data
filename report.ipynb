{
 "cells": [
  {
   "cell_type": "markdown",
   "metadata": {},
   "source": [
    "## Problem Approach"
   ]
  },
  {
   "cell_type": "markdown",
   "metadata": {},
   "source": [
    "Based on the issue described and the dataset given from your side, the approach I followed was first to create a regressor model to predict gasoline consumption for both gasolines (i.e. SP98 and E10). Once model was created, I compared both consumptions for a random sample of 10000 drives. Finally for decision making, I scraped gasoline prices for gas station in Madrid city."
   ]
  },
  {
   "cell_type": "markdown",
   "metadata": {},
   "source": [
    "## Model Training"
   ]
  },
  {
   "cell_type": "markdown",
   "metadata": {},
   "source": [
    "For this, the machine learning algorithm selected was a **Gradient Boosting** with a test split of 0.15. Previously, data entries with distances higher than 50 km were filtered out as I understood Cobiby type of business focuses on travels up to that distance. The input variables to model were: distance, speed, outside temperature, use of AC, presence of rain conditions, sun weather and type of gasoline."
   ]
  },
  {
   "cell_type": "markdown",
   "metadata": {},
   "source": [
    "The model optimized by cross validation obtained a **mean square error** on validation set of **0.16**(note that due to low number of data entries, a test split was not provided in order to maximize model learning capacity). "
   ]
  },
  {
   "cell_type": "markdown",
   "metadata": {},
   "source": [
    "## Random Sampling"
   ]
  },
  {
   "cell_type": "markdown",
   "metadata": {},
   "source": [
    "A random sample of **10000 drives** was generated. Model input variables were randomly selected as follows:\n",
    "* Distance: float number from 1 km to 50 km with 1 decimal precision.\n",
    "* Speed: float number from 14 km/h to 90 km/4 with 1 decimal precision.\n",
    "* Outside temp: float number from -5 ºC to 40 ºC with 1 decimal precision.\n",
    "* Use of AC: boolean\n",
    "* Rain conditions: boolean\n",
    "* Sunny: boolean"
   ]
  },
  {
   "cell_type": "markdown",
   "metadata": {},
   "source": [
    "Gasoline consumptions were predicted by model for both type of gasolines based on same sample of 10000 drives. Following pairplot shows comparison for both gasoline consumption: "
   ]
  },
  {
   "cell_type": "markdown",
   "metadata": {},
   "source": [
    "<img src=\"img/pairplot_consum.png\" />\n"
   ]
  },
  {
   "cell_type": "markdown",
   "metadata": {},
   "source": [
    "Based on above, it seems that at short distances and low speed, the E10 gasoline consumes more than SP98 gasoline. And this enhances at low outside temperature. It seems E10 behaves poorer when car is cold and/or does not have enough time to warm up when distance is short or at low average speed drives."
   ]
  },
  {
   "cell_type": "markdown",
   "metadata": {},
   "source": [
    "Model also shows a change of tendency when close to low limits. I understand this is  due to some bias on the model due to the small dataset provided (less than 400 entries). Most likely there are not enough number of cases at such conditions."
   ]
  },
  {
   "cell_type": "markdown",
   "metadata": {},
   "source": [
    "Anyway, this is just pure gasoline consumption but gasolines have different prices. Let's see afterwards how it looks comparison when price is taken into account."
   ]
  },
  {
   "cell_type": "markdown",
   "metadata": {},
   "source": [
    "## Gasoline Prices"
   ]
  },
  {
   "cell_type": "markdown",
   "metadata": {},
   "source": [
    "From [this](https://www.dieselogasolina.com/) website, I scraped up to date prices of SP98 and E10 gasolines for all gasoline stations at Madrid city."
   ]
  },
  {
   "cell_type": "code",
   "execution_count": 4,
   "metadata": {},
   "outputs": [],
   "source": [
    "import pandas as pd"
   ]
  },
  {
   "cell_type": "code",
   "execution_count": 6,
   "metadata": {},
   "outputs": [
    {
     "data": {
      "text/html": [
       "<div>\n",
       "<style scoped>\n",
       "    .dataframe tbody tr th:only-of-type {\n",
       "        vertical-align: middle;\n",
       "    }\n",
       "\n",
       "    .dataframe tbody tr th {\n",
       "        vertical-align: top;\n",
       "    }\n",
       "\n",
       "    .dataframe thead th {\n",
       "        text-align: right;\n",
       "    }\n",
       "</style>\n",
       "<table border=\"1\" class=\"dataframe\">\n",
       "  <thead>\n",
       "    <tr style=\"text-align: right;\">\n",
       "      <th></th>\n",
       "      <th>name</th>\n",
       "      <th>direction</th>\n",
       "      <th>gas_type</th>\n",
       "      <th>price</th>\n",
       "    </tr>\n",
       "  </thead>\n",
       "  <tbody>\n",
       "    <tr>\n",
       "      <th>100</th>\n",
       "      <td>Gasolinera CEPSA en MADRID (MADRID)CALLE CORAZ...</td>\n",
       "      <td>CALLE CORAZON DE MARIA, 76</td>\n",
       "      <td>Sin plomo 95</td>\n",
       "      <td>1,329</td>\n",
       "    </tr>\n",
       "    <tr>\n",
       "      <th>185</th>\n",
       "      <td>Gasolinera CEPSA en MADRID (MADRID)BARRIO CENT...</td>\n",
       "      <td>BARRIO CENTRO-EMBAJADORES, 83</td>\n",
       "      <td>Gasóleo C</td>\n",
       "      <td>0,889</td>\n",
       "    </tr>\n",
       "    <tr>\n",
       "      <th>772</th>\n",
       "      <td>Gasolinera CEPSA en MADRID (MADRID)AVENIDA CIU...</td>\n",
       "      <td>AVENIDA CIUDAD DE BARCELONA, 61</td>\n",
       "      <td>Sin plomo 95</td>\n",
       "      <td>1,354</td>\n",
       "    </tr>\n",
       "    <tr>\n",
       "      <th>439</th>\n",
       "      <td>Gasolinera BALLENOIL en MADRID (MADRID)CALLE C...</td>\n",
       "      <td>CALLE CERRO DEL MURMULLO, 1</td>\n",
       "      <td>Sin plomo 95</td>\n",
       "      <td>1,179</td>\n",
       "    </tr>\n",
       "    <tr>\n",
       "      <th>530</th>\n",
       "      <td>Gasolinera BP  en MADRID (MADRID)CL PRINCIPE D...</td>\n",
       "      <td>CL PRINCIPE DE VERGARA  106</td>\n",
       "      <td>Gasóleo A</td>\n",
       "      <td>1,159</td>\n",
       "    </tr>\n",
       "    <tr>\n",
       "      <th>160</th>\n",
       "      <td>Gasolinera REPSOL en MADRID (MADRID)PLAZA SETU...</td>\n",
       "      <td>PLAZA SETUBAL, 4</td>\n",
       "      <td>Sin plomo 95</td>\n",
       "      <td>1,289</td>\n",
       "    </tr>\n",
       "    <tr>\n",
       "      <th>778</th>\n",
       "      <td>Gasolinera SHELL en MADRID (MADRID)CALLE CARDE...</td>\n",
       "      <td>CALLE CARDENAL HERRERA ORIA, 81</td>\n",
       "      <td>Sin plomo 98</td>\n",
       "      <td>1,479</td>\n",
       "    </tr>\n",
       "    <tr>\n",
       "      <th>136</th>\n",
       "      <td>Gasolinera REPSOL en MADRID (MADRID)CALLE REAL...</td>\n",
       "      <td>CALLE REAL DE ARGANDA, 74</td>\n",
       "      <td>Sin plomo 98</td>\n",
       "      <td>1,469</td>\n",
       "    </tr>\n",
       "    <tr>\n",
       "      <th>19</th>\n",
       "      <td>Gasolinera REPSOL en MADRID (MADRID)PASEO SAN ...</td>\n",
       "      <td>PASEO SAN FRANCISCO DE SALES, 44</td>\n",
       "      <td>Gasóleo A</td>\n",
       "      <td>1,179</td>\n",
       "    </tr>\n",
       "    <tr>\n",
       "      <th>612</th>\n",
       "      <td>Gasolinera REPSOL en MADRID (MADRID)AVENIDA OP...</td>\n",
       "      <td>AVENIDA OPORTO, SN</td>\n",
       "      <td>Sin plomo 95</td>\n",
       "      <td>1,289</td>\n",
       "    </tr>\n",
       "  </tbody>\n",
       "</table>\n",
       "</div>"
      ],
      "text/plain": [
       "                                                  name  \\\n",
       "100  Gasolinera CEPSA en MADRID (MADRID)CALLE CORAZ...   \n",
       "185  Gasolinera CEPSA en MADRID (MADRID)BARRIO CENT...   \n",
       "772  Gasolinera CEPSA en MADRID (MADRID)AVENIDA CIU...   \n",
       "439  Gasolinera BALLENOIL en MADRID (MADRID)CALLE C...   \n",
       "530  Gasolinera BP  en MADRID (MADRID)CL PRINCIPE D...   \n",
       "160  Gasolinera REPSOL en MADRID (MADRID)PLAZA SETU...   \n",
       "778  Gasolinera SHELL en MADRID (MADRID)CALLE CARDE...   \n",
       "136  Gasolinera REPSOL en MADRID (MADRID)CALLE REAL...   \n",
       "19   Gasolinera REPSOL en MADRID (MADRID)PASEO SAN ...   \n",
       "612  Gasolinera REPSOL en MADRID (MADRID)AVENIDA OP...   \n",
       "\n",
       "                            direction      gas_type  price  \n",
       "100        CALLE CORAZON DE MARIA, 76  Sin plomo 95  1,329  \n",
       "185     BARRIO CENTRO-EMBAJADORES, 83     Gasóleo C  0,889  \n",
       "772   AVENIDA CIUDAD DE BARCELONA, 61  Sin plomo 95  1,354  \n",
       "439       CALLE CERRO DEL MURMULLO, 1  Sin plomo 95  1,179  \n",
       "530       CL PRINCIPE DE VERGARA  106     Gasóleo A  1,159  \n",
       "160                  PLAZA SETUBAL, 4  Sin plomo 95  1,289  \n",
       "778   CALLE CARDENAL HERRERA ORIA, 81  Sin plomo 98  1,479  \n",
       "136         CALLE REAL DE ARGANDA, 74  Sin plomo 98  1,469  \n",
       "19   PASEO SAN FRANCISCO DE SALES, 44     Gasóleo A  1,179  \n",
       "612                AVENIDA OPORTO, SN  Sin plomo 95  1,289  "
      ]
     },
     "execution_count": 6,
     "metadata": {},
     "output_type": "execute_result"
    }
   ],
   "source": [
    "df_prices = pd.read_pickle('data/prices')\n",
    "df_prices.sample(10)"
   ]
  },
  {
   "cell_type": "markdown",
   "metadata": {},
   "source": [
    "Below distribution of ratio of prices between SP98 and E10 gasolines for each gas station:"
   ]
  },
  {
   "cell_type": "markdown",
   "metadata": {},
   "source": [
    "<img src=\"img/ratio_dist.png\" />\n",
    "<img src=\"img/ratio_box.png\" />"
   ]
  },
  {
   "cell_type": "markdown",
   "metadata": {},
   "source": [
    "## Which gasoline type is \"cheaper\"?"
   ]
  },
  {
   "cell_type": "markdown",
   "metadata": {},
   "source": [
    "Based on the distribution of ratio prices between SP98 and E10, let's show same pairplot as before but this time taking into account actual costs and not just consumption."
   ]
  },
  {
   "cell_type": "markdown",
   "metadata": {},
   "source": [
    "For a ratio of 1.09, i.e. SP98 gasoline 1.09 times more expensive than E10:"
   ]
  },
  {
   "cell_type": "markdown",
   "metadata": {},
   "source": [
    "<img src=\"img/pairplot_1_09.png\" />"
   ]
  },
  {
   "cell_type": "markdown",
   "metadata": {},
   "source": [
    "For all conditions, it is cheaper to use E10."
   ]
  },
  {
   "cell_type": "markdown",
   "metadata": {},
   "source": [
    "Now let's check for a very low price ratio, for example 1.06:"
   ]
  },
  {
   "cell_type": "markdown",
   "metadata": {},
   "source": [
    "<img src=\"img/pairplot_1_04.png\" />"
   ]
  },
  {
   "cell_type": "markdown",
   "metadata": {},
   "source": [
    "At this extreme low ratio, it starts to appear cases at short distances and low outside temperature where SP98 is \"cheaper\" than E10 but they are only very few cases"
   ]
  },
  {
   "cell_type": "markdown",
   "metadata": {},
   "source": [
    "## Recommendation"
   ]
  },
  {
   "cell_type": "markdown",
   "metadata": {},
   "source": [
    "Based on this results, I **recommend to use E10** as type of gasoline for Cobify cars. \n",
    "\n",
    "But I strongly suggest to **collect a larger and more detailed dataset** to have a more precise predictor. For example type of drives: urban, mix, highway and also drives entries when motor is at normal operating temperature."
   ]
  },
  {
   "cell_type": "markdown",
   "metadata": {},
   "source": [
    "## Future developments"
   ]
  },
  {
   "cell_type": "markdown",
   "metadata": {},
   "source": [
    "By scraping, Cobify can be daily advised with gas stations with cheaper gasoline prices. Also it can be studied cheaper oil station companies."
   ]
  }
 ],
 "metadata": {
  "kernelspec": {
   "display_name": "Python 3",
   "language": "python",
   "name": "python3"
  },
  "language_info": {
   "codemirror_mode": {
    "name": "ipython",
    "version": 3
   },
   "file_extension": ".py",
   "mimetype": "text/x-python",
   "name": "python",
   "nbconvert_exporter": "python",
   "pygments_lexer": "ipython3",
   "version": "3.8.3"
  }
 },
 "nbformat": 4,
 "nbformat_minor": 4
}
