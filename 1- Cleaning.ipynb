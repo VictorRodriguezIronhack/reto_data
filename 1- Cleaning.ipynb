{
 "cells": [
  {
   "cell_type": "code",
   "execution_count": 2,
   "id": "static-stake",
   "metadata": {},
   "outputs": [],
   "source": [
    "# import libraries\n",
    "import pandas as pd"
   ]
  },
  {
   "cell_type": "code",
   "execution_count": 3,
   "id": "lasting-petite",
   "metadata": {},
   "outputs": [
    {
     "data": {
      "text/html": [
       "<div>\n",
       "<style scoped>\n",
       "    .dataframe tbody tr th:only-of-type {\n",
       "        vertical-align: middle;\n",
       "    }\n",
       "\n",
       "    .dataframe tbody tr th {\n",
       "        vertical-align: top;\n",
       "    }\n",
       "\n",
       "    .dataframe thead th {\n",
       "        text-align: right;\n",
       "    }\n",
       "</style>\n",
       "<table border=\"1\" class=\"dataframe\">\n",
       "  <thead>\n",
       "    <tr style=\"text-align: right;\">\n",
       "      <th></th>\n",
       "      <th>distance</th>\n",
       "      <th>consume</th>\n",
       "      <th>speed</th>\n",
       "      <th>temp_inside</th>\n",
       "      <th>temp_outside</th>\n",
       "      <th>specials</th>\n",
       "      <th>gas_type</th>\n",
       "      <th>AC</th>\n",
       "      <th>rain</th>\n",
       "      <th>sun</th>\n",
       "      <th>refill liters</th>\n",
       "      <th>refill gas</th>\n",
       "    </tr>\n",
       "  </thead>\n",
       "  <tbody>\n",
       "    <tr>\n",
       "      <th>0</th>\n",
       "      <td>28.0</td>\n",
       "      <td>5.0</td>\n",
       "      <td>26</td>\n",
       "      <td>21.5</td>\n",
       "      <td>12</td>\n",
       "      <td>NaN</td>\n",
       "      <td>E10</td>\n",
       "      <td>0</td>\n",
       "      <td>0</td>\n",
       "      <td>0</td>\n",
       "      <td>45.0</td>\n",
       "      <td>E10</td>\n",
       "    </tr>\n",
       "    <tr>\n",
       "      <th>1</th>\n",
       "      <td>12.0</td>\n",
       "      <td>4.2</td>\n",
       "      <td>30</td>\n",
       "      <td>21.5</td>\n",
       "      <td>13</td>\n",
       "      <td>NaN</td>\n",
       "      <td>E10</td>\n",
       "      <td>0</td>\n",
       "      <td>0</td>\n",
       "      <td>0</td>\n",
       "      <td>NaN</td>\n",
       "      <td>NaN</td>\n",
       "    </tr>\n",
       "    <tr>\n",
       "      <th>2</th>\n",
       "      <td>11.2</td>\n",
       "      <td>5.5</td>\n",
       "      <td>38</td>\n",
       "      <td>21.5</td>\n",
       "      <td>15</td>\n",
       "      <td>NaN</td>\n",
       "      <td>E10</td>\n",
       "      <td>0</td>\n",
       "      <td>0</td>\n",
       "      <td>0</td>\n",
       "      <td>NaN</td>\n",
       "      <td>NaN</td>\n",
       "    </tr>\n",
       "    <tr>\n",
       "      <th>3</th>\n",
       "      <td>12.9</td>\n",
       "      <td>3.9</td>\n",
       "      <td>36</td>\n",
       "      <td>21.5</td>\n",
       "      <td>14</td>\n",
       "      <td>NaN</td>\n",
       "      <td>E10</td>\n",
       "      <td>0</td>\n",
       "      <td>0</td>\n",
       "      <td>0</td>\n",
       "      <td>NaN</td>\n",
       "      <td>NaN</td>\n",
       "    </tr>\n",
       "    <tr>\n",
       "      <th>4</th>\n",
       "      <td>18.5</td>\n",
       "      <td>4.5</td>\n",
       "      <td>46</td>\n",
       "      <td>21.5</td>\n",
       "      <td>15</td>\n",
       "      <td>NaN</td>\n",
       "      <td>E10</td>\n",
       "      <td>0</td>\n",
       "      <td>0</td>\n",
       "      <td>0</td>\n",
       "      <td>NaN</td>\n",
       "      <td>NaN</td>\n",
       "    </tr>\n",
       "  </tbody>\n",
       "</table>\n",
       "</div>"
      ],
      "text/plain": [
       "   distance  consume  speed  temp_inside  temp_outside specials gas_type  AC  \\\n",
       "0      28.0      5.0     26         21.5            12      NaN      E10   0   \n",
       "1      12.0      4.2     30         21.5            13      NaN      E10   0   \n",
       "2      11.2      5.5     38         21.5            15      NaN      E10   0   \n",
       "3      12.9      3.9     36         21.5            14      NaN      E10   0   \n",
       "4      18.5      4.5     46         21.5            15      NaN      E10   0   \n",
       "\n",
       "   rain  sun  refill liters refill gas  \n",
       "0     0    0           45.0        E10  \n",
       "1     0    0            NaN        NaN  \n",
       "2     0    0            NaN        NaN  \n",
       "3     0    0            NaN        NaN  \n",
       "4     0    0            NaN        NaN  "
      ]
     },
     "execution_count": 3,
     "metadata": {},
     "output_type": "execute_result"
    }
   ],
   "source": [
    "# get to know the dataset\n",
    "# change the dataset separation to ','\n",
    "df = pd.read_csv('dataset/measurements.csv', decimal = ',')\n",
    "df.head()"
   ]
  },
  {
   "cell_type": "code",
   "execution_count": 4,
   "id": "valued-mission",
   "metadata": {},
   "outputs": [
    {
     "name": "stdout",
     "output_type": "stream",
     "text": [
      "<class 'pandas.core.frame.DataFrame'>\n",
      "RangeIndex: 388 entries, 0 to 387\n",
      "Data columns (total 12 columns):\n",
      " #   Column         Non-Null Count  Dtype  \n",
      "---  ------         --------------  -----  \n",
      " 0   distance       388 non-null    float64\n",
      " 1   consume        388 non-null    float64\n",
      " 2   speed          388 non-null    int64  \n",
      " 3   temp_inside    376 non-null    float64\n",
      " 4   temp_outside   388 non-null    int64  \n",
      " 5   specials       93 non-null     object \n",
      " 6   gas_type       388 non-null    object \n",
      " 7   AC             388 non-null    int64  \n",
      " 8   rain           388 non-null    int64  \n",
      " 9   sun            388 non-null    int64  \n",
      " 10  refill liters  13 non-null     float64\n",
      " 11  refill gas     13 non-null     object \n",
      "dtypes: float64(4), int64(5), object(3)\n",
      "memory usage: 36.5+ KB\n"
     ]
    }
   ],
   "source": [
    "df.info()"
   ]
  },
  {
   "cell_type": "markdown",
   "id": "charming-favorite",
   "metadata": {},
   "source": [
    "**We find a 12 column dataset, with 387 rows. Each row give us information about one different trip, including distance, consume, average speed, temperature inside, temperature outside, special data (about weather), the gas type used, if the air conditioner was on/off, if it was raining or sunny, and  the refilled of gas**\n",
    "\n",
    "**Columns \"refill liters\" and \"refill gas\", and \"specials\" have a wide range of NAN values**\n"
   ]
  },
  {
   "cell_type": "markdown",
   "id": "dutch-simon",
   "metadata": {},
   "source": [
    "## Distance"
   ]
  },
  {
   "cell_type": "code",
   "execution_count": 5,
   "id": "champion-softball",
   "metadata": {},
   "outputs": [],
   "source": [
    "# check info\n",
    "distance_sorted = sorted(df.distance.unique())"
   ]
  },
  {
   "cell_type": "code",
   "execution_count": 6,
   "id": "cubic-simple",
   "metadata": {},
   "outputs": [
    {
     "name": "stdout",
     "output_type": "stream",
     "text": [
      "nans =  0\n"
     ]
    }
   ],
   "source": [
    "# to float\n",
    "df.distance = pd.to_numeric(df.distance)\n",
    "# check nans after convert to float\n",
    "print('nans = ', df.distance.isna().sum())"
   ]
  },
  {
   "cell_type": "markdown",
   "id": "conditional-mason",
   "metadata": {},
   "source": [
    "## Consume"
   ]
  },
  {
   "cell_type": "code",
   "execution_count": 7,
   "id": "remarkable-electricity",
   "metadata": {},
   "outputs": [],
   "source": [
    "consume_sorted = sorted(df.consume.unique())"
   ]
  },
  {
   "cell_type": "markdown",
   "id": "mobile-pioneer",
   "metadata": {},
   "source": [
    "## Average speed in km/h"
   ]
  },
  {
   "cell_type": "code",
   "execution_count": 8,
   "id": "choice-malaysia",
   "metadata": {},
   "outputs": [],
   "source": [
    "speed_sorted = sorted(df.speed.unique())"
   ]
  },
  {
   "cell_type": "markdown",
   "id": "attached-monroe",
   "metadata": {},
   "source": [
    "## Temperature inside the car"
   ]
  },
  {
   "cell_type": "code",
   "execution_count": 9,
   "id": "defensive-representation",
   "metadata": {},
   "outputs": [
    {
     "name": "stdout",
     "output_type": "stream",
     "text": [
      "Have found 12 empty values in this serie\n"
     ]
    }
   ],
   "source": [
    "temp_inside_sorted = sorted(df.temp_inside.unique())\n",
    "print('Have found', df.temp_inside.isna().sum(), 'empty values in this serie')"
   ]
  },
  {
   "cell_type": "code",
   "execution_count": 10,
   "id": "micro-grant",
   "metadata": {},
   "outputs": [
    {
     "name": "stdout",
     "output_type": "stream",
     "text": [
      "21.5    133\n",
      "22.0    102\n",
      "22.5     59\n",
      "20.0     25\n",
      "21.0     13\n",
      "23.0     13\n",
      "25.0     12\n",
      "24.5      7\n",
      "20.5      4\n",
      "24.0      3\n",
      "25.5      2\n",
      "23.5      2\n",
      "19.0      1\n",
      "Name: temp_inside, dtype: int64\n"
     ]
    }
   ],
   "source": [
    "print(df.temp_inside.value_counts())"
   ]
  },
  {
   "cell_type": "code",
   "execution_count": 11,
   "id": "analyzed-collective",
   "metadata": {},
   "outputs": [
    {
     "name": "stdout",
     "output_type": "stream",
     "text": [
      "0.03\n"
     ]
    }
   ],
   "source": [
    "# 3% of our data are null, so we decided to replace it for the average temperature\n",
    "print(round((df.temp_inside.isna().sum())/(df.shape[0]), 2 ))"
   ]
  },
  {
   "cell_type": "code",
   "execution_count": 12,
   "id": "sensitive-incentive",
   "metadata": {},
   "outputs": [],
   "source": [
    "mean_temp = round(df.temp_inside.mean(), 2) \n",
    "df.temp_inside.fillna(mean_temp, inplace = True)"
   ]
  },
  {
   "cell_type": "code",
   "execution_count": 13,
   "id": "active-parade",
   "metadata": {},
   "outputs": [
    {
     "data": {
      "text/plain": [
       "0"
      ]
     },
     "execution_count": 13,
     "metadata": {},
     "output_type": "execute_result"
    }
   ],
   "source": [
    "df.temp_inside.isna().sum()"
   ]
  },
  {
   "cell_type": "markdown",
   "id": "funded-authentication",
   "metadata": {},
   "source": [
    "## Temperature outside"
   ]
  },
  {
   "cell_type": "code",
   "execution_count": 14,
   "id": "injured-college",
   "metadata": {},
   "outputs": [
    {
     "data": {
      "text/plain": [
       "array([12, 13, 15, 14, 10, 11,  6,  4,  9,  0,  5,  3,  8,  1,  2,  7, -3,\n",
       "       17, 18, -5, 16, 19, 21, 20, 25, 23, 27, 24, 26, 22, 30, 31, 28])"
      ]
     },
     "execution_count": 14,
     "metadata": {},
     "output_type": "execute_result"
    }
   ],
   "source": [
    "df.temp_outside.unique()"
   ]
  },
  {
   "cell_type": "markdown",
   "id": "historical-annotation",
   "metadata": {},
   "source": [
    "## Specials"
   ]
  },
  {
   "cell_type": "code",
   "execution_count": 15,
   "id": "intimate-conjunction",
   "metadata": {},
   "outputs": [
    {
     "data": {
      "text/plain": [
       "array([nan, 'AC rain', 'AC', 'rain', 'snow', 'AC snow',\n",
       "       'half rain half sun', 'sun', 'AC sun', 'sun ac', 'ac', 'AC Sun',\n",
       "       'ac rain'], dtype=object)"
      ]
     },
     "execution_count": 15,
     "metadata": {},
     "output_type": "execute_result"
    }
   ],
   "source": [
    "df.specials.unique()"
   ]
  },
  {
   "cell_type": "code",
   "execution_count": 16,
   "id": "applied-portugal",
   "metadata": {},
   "outputs": [
    {
     "name": "stdout",
     "output_type": "stream",
     "text": [
      "0.76\n"
     ]
    }
   ],
   "source": [
    "print(round((df.specials.isna().sum())/(df.shape[0]), 2 ))"
   ]
  },
  {
   "cell_type": "markdown",
   "id": "experienced-picking",
   "metadata": {},
   "source": [
    "**Specials column doesn't give us relevant information, and the 76% of values are nulls, so we decided to drop it**"
   ]
  },
  {
   "cell_type": "markdown",
   "id": "agricultural-master",
   "metadata": {},
   "source": [
    "## Gas Type"
   ]
  },
  {
   "cell_type": "code",
   "execution_count": 17,
   "id": "registered-electric",
   "metadata": {},
   "outputs": [
    {
     "data": {
      "text/plain": [
       "array(['E10', 'SP98'], dtype=object)"
      ]
     },
     "execution_count": 17,
     "metadata": {},
     "output_type": "execute_result"
    }
   ],
   "source": [
    "df.gas_type.unique()"
   ]
  },
  {
   "cell_type": "code",
   "execution_count": 18,
   "id": "classical-musician",
   "metadata": {},
   "outputs": [],
   "source": [
    "df[\"gas_type\"] = df[\"gas_type\"].astype('category')\n",
    "df[\"gas_type_coded\"] = df[\"gas_type\"].cat.codes"
   ]
  },
  {
   "cell_type": "markdown",
   "id": "eastern-bahrain",
   "metadata": {},
   "source": [
    "## Air Conditionair"
   ]
  },
  {
   "cell_type": "code",
   "execution_count": 19,
   "id": "moving-purpose",
   "metadata": {},
   "outputs": [
    {
     "data": {
      "text/plain": [
       "array([0, 1])"
      ]
     },
     "execution_count": 19,
     "metadata": {},
     "output_type": "execute_result"
    }
   ],
   "source": [
    "df.AC.unique()"
   ]
  },
  {
   "cell_type": "markdown",
   "id": "molecular-tampa",
   "metadata": {},
   "source": [
    "## Rain"
   ]
  },
  {
   "cell_type": "code",
   "execution_count": 20,
   "id": "individual-passing",
   "metadata": {},
   "outputs": [
    {
     "data": {
      "text/plain": [
       "array([0, 1])"
      ]
     },
     "execution_count": 20,
     "metadata": {},
     "output_type": "execute_result"
    }
   ],
   "source": [
    "df.rain.unique()"
   ]
  },
  {
   "cell_type": "markdown",
   "id": "structured-oregon",
   "metadata": {},
   "source": [
    "## Sun"
   ]
  },
  {
   "cell_type": "code",
   "execution_count": 21,
   "id": "becoming-salem",
   "metadata": {},
   "outputs": [
    {
     "data": {
      "text/plain": [
       "array([0, 1])"
      ]
     },
     "execution_count": 21,
     "metadata": {},
     "output_type": "execute_result"
    }
   ],
   "source": [
    "df.sun.unique()"
   ]
  },
  {
   "cell_type": "markdown",
   "id": "romance-session",
   "metadata": {},
   "source": [
    "## Refill liters"
   ]
  },
  {
   "cell_type": "code",
   "execution_count": 22,
   "id": "narrow-monte",
   "metadata": {},
   "outputs": [
    {
     "data": {
      "text/plain": [
       "array([45. ,  nan, 37.6, 37.7, 38. , 38.3, 10. , 39. , 41. , 37. , 37.2])"
      ]
     },
     "execution_count": 22,
     "metadata": {},
     "output_type": "execute_result"
    }
   ],
   "source": [
    "df['refill liters'].unique()"
   ]
  },
  {
   "cell_type": "code",
   "execution_count": 23,
   "id": "important-reducing",
   "metadata": {},
   "outputs": [
    {
     "name": "stdout",
     "output_type": "stream",
     "text": [
      "0.97\n"
     ]
    }
   ],
   "source": [
    "print(round((df['refill liters'].isna().sum())/(df.shape[0]), 2 ))"
   ]
  },
  {
   "cell_type": "markdown",
   "id": "strong-possession",
   "metadata": {},
   "source": [
    "## Refill gas "
   ]
  },
  {
   "cell_type": "code",
   "execution_count": 24,
   "id": "collect-lease",
   "metadata": {},
   "outputs": [
    {
     "data": {
      "text/plain": [
       "array(['E10', nan, 'SP98'], dtype=object)"
      ]
     },
     "execution_count": 24,
     "metadata": {},
     "output_type": "execute_result"
    }
   ],
   "source": [
    "df['refill gas'].unique()"
   ]
  },
  {
   "cell_type": "code",
   "execution_count": 25,
   "id": "theoretical-system",
   "metadata": {},
   "outputs": [
    {
     "name": "stdout",
     "output_type": "stream",
     "text": [
      "0.97\n"
     ]
    }
   ],
   "source": [
    "print(round((df['refill gas'].isna().sum())/(df.shape[0]), 2 ))"
   ]
  },
  {
   "cell_type": "markdown",
   "id": "enabling-affect",
   "metadata": {},
   "source": [
    "**97% of values in refill liters and refill gas are empty values**\n",
    "\n",
    "**We decided to drop \"refill liters\" and \"refill gas\" columns, as well as \"specials\"**"
   ]
  },
  {
   "cell_type": "code",
   "execution_count": 26,
   "id": "restricted-ranking",
   "metadata": {},
   "outputs": [],
   "source": [
    "df = df.drop(columns = ['specials', 'refill gas', 'refill liters'])"
   ]
  },
  {
   "cell_type": "markdown",
   "id": "outside-twenty",
   "metadata": {},
   "source": [
    "## Resultant dataset after cleaning"
   ]
  },
  {
   "cell_type": "code",
   "execution_count": 27,
   "id": "constitutional-score",
   "metadata": {},
   "outputs": [
    {
     "name": "stdout",
     "output_type": "stream",
     "text": [
      "<class 'pandas.core.frame.DataFrame'>\n",
      "RangeIndex: 388 entries, 0 to 387\n",
      "Data columns (total 10 columns):\n",
      " #   Column          Non-Null Count  Dtype   \n",
      "---  ------          --------------  -----   \n",
      " 0   distance        388 non-null    float64 \n",
      " 1   consume         388 non-null    float64 \n",
      " 2   speed           388 non-null    int64   \n",
      " 3   temp_inside     388 non-null    float64 \n",
      " 4   temp_outside    388 non-null    int64   \n",
      " 5   gas_type        388 non-null    category\n",
      " 6   AC              388 non-null    int64   \n",
      " 7   rain            388 non-null    int64   \n",
      " 8   sun             388 non-null    int64   \n",
      " 9   gas_type_coded  388 non-null    int8    \n",
      "dtypes: category(1), float64(3), int64(5), int8(1)\n",
      "memory usage: 25.3 KB\n"
     ]
    }
   ],
   "source": [
    "df.info()"
   ]
  },
  {
   "cell_type": "code",
   "execution_count": 28,
   "id": "competent-pleasure",
   "metadata": {},
   "outputs": [
    {
     "data": {
      "text/html": [
       "<div>\n",
       "<style scoped>\n",
       "    .dataframe tbody tr th:only-of-type {\n",
       "        vertical-align: middle;\n",
       "    }\n",
       "\n",
       "    .dataframe tbody tr th {\n",
       "        vertical-align: top;\n",
       "    }\n",
       "\n",
       "    .dataframe thead th {\n",
       "        text-align: right;\n",
       "    }\n",
       "</style>\n",
       "<table border=\"1\" class=\"dataframe\">\n",
       "  <thead>\n",
       "    <tr style=\"text-align: right;\">\n",
       "      <th></th>\n",
       "      <th>distance</th>\n",
       "      <th>consume</th>\n",
       "      <th>speed</th>\n",
       "      <th>temp_inside</th>\n",
       "      <th>temp_outside</th>\n",
       "      <th>AC</th>\n",
       "      <th>rain</th>\n",
       "      <th>sun</th>\n",
       "      <th>gas_type_coded</th>\n",
       "    </tr>\n",
       "  </thead>\n",
       "  <tbody>\n",
       "    <tr>\n",
       "      <th>count</th>\n",
       "      <td>388.000000</td>\n",
       "      <td>388.000000</td>\n",
       "      <td>388.000000</td>\n",
       "      <td>388.000000</td>\n",
       "      <td>388.000000</td>\n",
       "      <td>388.000000</td>\n",
       "      <td>388.000000</td>\n",
       "      <td>388.000000</td>\n",
       "      <td>388.000000</td>\n",
       "    </tr>\n",
       "    <tr>\n",
       "      <th>mean</th>\n",
       "      <td>19.652835</td>\n",
       "      <td>4.912371</td>\n",
       "      <td>41.927835</td>\n",
       "      <td>21.929536</td>\n",
       "      <td>11.358247</td>\n",
       "      <td>0.077320</td>\n",
       "      <td>0.123711</td>\n",
       "      <td>0.082474</td>\n",
       "      <td>0.587629</td>\n",
       "    </tr>\n",
       "    <tr>\n",
       "      <th>std</th>\n",
       "      <td>22.667837</td>\n",
       "      <td>1.033172</td>\n",
       "      <td>13.598524</td>\n",
       "      <td>0.994666</td>\n",
       "      <td>6.991542</td>\n",
       "      <td>0.267443</td>\n",
       "      <td>0.329677</td>\n",
       "      <td>0.275441</td>\n",
       "      <td>0.492897</td>\n",
       "    </tr>\n",
       "    <tr>\n",
       "      <th>min</th>\n",
       "      <td>1.300000</td>\n",
       "      <td>3.300000</td>\n",
       "      <td>14.000000</td>\n",
       "      <td>19.000000</td>\n",
       "      <td>-5.000000</td>\n",
       "      <td>0.000000</td>\n",
       "      <td>0.000000</td>\n",
       "      <td>0.000000</td>\n",
       "      <td>0.000000</td>\n",
       "    </tr>\n",
       "    <tr>\n",
       "      <th>25%</th>\n",
       "      <td>11.800000</td>\n",
       "      <td>4.300000</td>\n",
       "      <td>32.750000</td>\n",
       "      <td>21.500000</td>\n",
       "      <td>7.000000</td>\n",
       "      <td>0.000000</td>\n",
       "      <td>0.000000</td>\n",
       "      <td>0.000000</td>\n",
       "      <td>0.000000</td>\n",
       "    </tr>\n",
       "    <tr>\n",
       "      <th>50%</th>\n",
       "      <td>14.600000</td>\n",
       "      <td>4.700000</td>\n",
       "      <td>40.500000</td>\n",
       "      <td>22.000000</td>\n",
       "      <td>10.000000</td>\n",
       "      <td>0.000000</td>\n",
       "      <td>0.000000</td>\n",
       "      <td>0.000000</td>\n",
       "      <td>1.000000</td>\n",
       "    </tr>\n",
       "    <tr>\n",
       "      <th>75%</th>\n",
       "      <td>19.000000</td>\n",
       "      <td>5.300000</td>\n",
       "      <td>50.000000</td>\n",
       "      <td>22.500000</td>\n",
       "      <td>16.000000</td>\n",
       "      <td>0.000000</td>\n",
       "      <td>0.000000</td>\n",
       "      <td>0.000000</td>\n",
       "      <td>1.000000</td>\n",
       "    </tr>\n",
       "    <tr>\n",
       "      <th>max</th>\n",
       "      <td>216.100000</td>\n",
       "      <td>12.200000</td>\n",
       "      <td>90.000000</td>\n",
       "      <td>25.500000</td>\n",
       "      <td>31.000000</td>\n",
       "      <td>1.000000</td>\n",
       "      <td>1.000000</td>\n",
       "      <td>1.000000</td>\n",
       "      <td>1.000000</td>\n",
       "    </tr>\n",
       "  </tbody>\n",
       "</table>\n",
       "</div>"
      ],
      "text/plain": [
       "         distance     consume       speed  temp_inside  temp_outside  \\\n",
       "count  388.000000  388.000000  388.000000   388.000000    388.000000   \n",
       "mean    19.652835    4.912371   41.927835    21.929536     11.358247   \n",
       "std     22.667837    1.033172   13.598524     0.994666      6.991542   \n",
       "min      1.300000    3.300000   14.000000    19.000000     -5.000000   \n",
       "25%     11.800000    4.300000   32.750000    21.500000      7.000000   \n",
       "50%     14.600000    4.700000   40.500000    22.000000     10.000000   \n",
       "75%     19.000000    5.300000   50.000000    22.500000     16.000000   \n",
       "max    216.100000   12.200000   90.000000    25.500000     31.000000   \n",
       "\n",
       "               AC        rain         sun  gas_type_coded  \n",
       "count  388.000000  388.000000  388.000000      388.000000  \n",
       "mean     0.077320    0.123711    0.082474        0.587629  \n",
       "std      0.267443    0.329677    0.275441        0.492897  \n",
       "min      0.000000    0.000000    0.000000        0.000000  \n",
       "25%      0.000000    0.000000    0.000000        0.000000  \n",
       "50%      0.000000    0.000000    0.000000        1.000000  \n",
       "75%      0.000000    0.000000    0.000000        1.000000  \n",
       "max      1.000000    1.000000    1.000000        1.000000  "
      ]
     },
     "execution_count": 28,
     "metadata": {},
     "output_type": "execute_result"
    }
   ],
   "source": [
    "df.describe()"
   ]
  },
  {
   "cell_type": "code",
   "execution_count": 30,
   "id": "pressed-prescription",
   "metadata": {},
   "outputs": [],
   "source": [
    "df.to_csv('dataset/df_clean.csv', index = False)"
   ]
  }
 ],
 "metadata": {
  "kernelspec": {
   "display_name": "Python 3",
   "language": "python",
   "name": "python3"
  },
  "language_info": {
   "codemirror_mode": {
    "name": "ipython",
    "version": 3
   },
   "file_extension": ".py",
   "mimetype": "text/x-python",
   "name": "python",
   "nbconvert_exporter": "python",
   "pygments_lexer": "ipython3",
   "version": "3.8.2"
  }
 },
 "nbformat": 4,
 "nbformat_minor": 5
}
