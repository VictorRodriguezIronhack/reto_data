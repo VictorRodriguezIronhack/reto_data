{
 "cells": [
  {
   "cell_type": "code",
   "execution_count": 618,
   "metadata": {},
   "outputs": [],
   "source": [
    "import pandas as pd\n",
    "import seaborn as sns\n",
    "import matplotlib.pyplot as plt\n",
    "import matplotlib as mpl\n",
    "import matplotlib.pylab as pylab\n",
    "from sklearn import metrics\n",
    "import numpy as np # linear algebra\n",
    "import pandas as pd # data processing\n",
    "#from sklearn.preprocessing import OneHotEncoder, LabelEncoder\n",
    "from sklearn.model_selection import train_test_split\n",
    "from sklearn.preprocessing import StandardScaler\n",
    "from sklearn.decomposition import PCA\n",
    "from sklearn.pipeline import Pipeline\n",
    "from sklearn.tree import DecisionTreeRegressor\n",
    "from sklearn.ensemble import RandomForestRegressor\n",
    "from sklearn.linear_model import LinearRegression\n",
    "from xgboost import XGBRegressor\n",
    "from sklearn.neighbors import KNeighborsRegressor\n",
    "from sklearn.model_selection import cross_val_score\n",
    "from sklearn.metrics import mean_squared_error\n",
    "from sklearn import metrics\n",
    "from sklearn.linear_model import Ridge, Lasso\n",
    "from sklearn.ensemble import GradientBoostingRegressor\n",
    "from sklearn import metrics\n",
    "from sklearn.model_selection import train_test_split\n",
    "from sklearn.linear_model import SGDRegressor\n",
    "from sklearn import linear_model\n",
    "from scipy import stats"
   ]
  },
  {
   "cell_type": "code",
   "execution_count": 619,
   "metadata": {},
   "outputs": [
    {
     "data": {
      "text/html": [
       "<div>\n",
       "<style scoped>\n",
       "    .dataframe tbody tr th:only-of-type {\n",
       "        vertical-align: middle;\n",
       "    }\n",
       "\n",
       "    .dataframe tbody tr th {\n",
       "        vertical-align: top;\n",
       "    }\n",
       "\n",
       "    .dataframe thead th {\n",
       "        text-align: right;\n",
       "    }\n",
       "</style>\n",
       "<table border=\"1\" class=\"dataframe\">\n",
       "  <thead>\n",
       "    <tr style=\"text-align: right;\">\n",
       "      <th></th>\n",
       "      <th>distance</th>\n",
       "      <th>consume</th>\n",
       "      <th>speed</th>\n",
       "      <th>temp_inside</th>\n",
       "      <th>temp_outside</th>\n",
       "      <th>specials</th>\n",
       "      <th>gas_type</th>\n",
       "      <th>AC</th>\n",
       "      <th>rain</th>\n",
       "      <th>sun</th>\n",
       "      <th>refill liters</th>\n",
       "      <th>refill gas</th>\n",
       "    </tr>\n",
       "  </thead>\n",
       "  <tbody>\n",
       "    <tr>\n",
       "      <th>0</th>\n",
       "      <td>28</td>\n",
       "      <td>5</td>\n",
       "      <td>26</td>\n",
       "      <td>21,5</td>\n",
       "      <td>12</td>\n",
       "      <td>NaN</td>\n",
       "      <td>E10</td>\n",
       "      <td>0</td>\n",
       "      <td>0</td>\n",
       "      <td>0</td>\n",
       "      <td>45</td>\n",
       "      <td>E10</td>\n",
       "    </tr>\n",
       "    <tr>\n",
       "      <th>1</th>\n",
       "      <td>12</td>\n",
       "      <td>4,2</td>\n",
       "      <td>30</td>\n",
       "      <td>21,5</td>\n",
       "      <td>13</td>\n",
       "      <td>NaN</td>\n",
       "      <td>E10</td>\n",
       "      <td>0</td>\n",
       "      <td>0</td>\n",
       "      <td>0</td>\n",
       "      <td>NaN</td>\n",
       "      <td>NaN</td>\n",
       "    </tr>\n",
       "    <tr>\n",
       "      <th>2</th>\n",
       "      <td>11,2</td>\n",
       "      <td>5,5</td>\n",
       "      <td>38</td>\n",
       "      <td>21,5</td>\n",
       "      <td>15</td>\n",
       "      <td>NaN</td>\n",
       "      <td>E10</td>\n",
       "      <td>0</td>\n",
       "      <td>0</td>\n",
       "      <td>0</td>\n",
       "      <td>NaN</td>\n",
       "      <td>NaN</td>\n",
       "    </tr>\n",
       "    <tr>\n",
       "      <th>3</th>\n",
       "      <td>12,9</td>\n",
       "      <td>3,9</td>\n",
       "      <td>36</td>\n",
       "      <td>21,5</td>\n",
       "      <td>14</td>\n",
       "      <td>NaN</td>\n",
       "      <td>E10</td>\n",
       "      <td>0</td>\n",
       "      <td>0</td>\n",
       "      <td>0</td>\n",
       "      <td>NaN</td>\n",
       "      <td>NaN</td>\n",
       "    </tr>\n",
       "    <tr>\n",
       "      <th>4</th>\n",
       "      <td>18,5</td>\n",
       "      <td>4,5</td>\n",
       "      <td>46</td>\n",
       "      <td>21,5</td>\n",
       "      <td>15</td>\n",
       "      <td>NaN</td>\n",
       "      <td>E10</td>\n",
       "      <td>0</td>\n",
       "      <td>0</td>\n",
       "      <td>0</td>\n",
       "      <td>NaN</td>\n",
       "      <td>NaN</td>\n",
       "    </tr>\n",
       "  </tbody>\n",
       "</table>\n",
       "</div>"
      ],
      "text/plain": [
       "  distance consume  speed temp_inside  temp_outside specials gas_type  AC  \\\n",
       "0       28       5     26        21,5            12      NaN      E10   0   \n",
       "1       12     4,2     30        21,5            13      NaN      E10   0   \n",
       "2     11,2     5,5     38        21,5            15      NaN      E10   0   \n",
       "3     12,9     3,9     36        21,5            14      NaN      E10   0   \n",
       "4     18,5     4,5     46        21,5            15      NaN      E10   0   \n",
       "\n",
       "   rain  sun refill liters refill gas  \n",
       "0     0    0            45        E10  \n",
       "1     0    0           NaN        NaN  \n",
       "2     0    0           NaN        NaN  \n",
       "3     0    0           NaN        NaN  \n",
       "4     0    0           NaN        NaN  "
      ]
     },
     "execution_count": 619,
     "metadata": {},
     "output_type": "execute_result"
    }
   ],
   "source": [
    "df_train=pd.read_csv('../reto_data/inputs/measurements.csv')\n",
    "df_train.head()"
   ]
  },
  {
   "cell_type": "markdown",
   "metadata": {},
   "source": [
    "### drop nan"
   ]
  },
  {
   "cell_type": "code",
   "execution_count": 620,
   "metadata": {},
   "outputs": [
    {
     "data": {
      "text/plain": [
       "distance           0\n",
       "consume            0\n",
       "speed              0\n",
       "temp_inside       12\n",
       "temp_outside       0\n",
       "specials         295\n",
       "gas_type           0\n",
       "AC                 0\n",
       "rain               0\n",
       "sun                0\n",
       "refill liters    375\n",
       "refill gas       375\n",
       "dtype: int64"
      ]
     },
     "execution_count": 620,
     "metadata": {},
     "output_type": "execute_result"
    }
   ],
   "source": [
    "df_train.isna().sum()"
   ]
  },
  {
   "cell_type": "code",
   "execution_count": 621,
   "metadata": {},
   "outputs": [
    {
     "data": {
      "text/plain": [
       "{' ', '_', 'd', 'e', 'f', 'i', 'l', 'r', 's', 't'}"
      ]
     },
     "execution_count": 621,
     "metadata": {},
     "output_type": "execute_result"
    }
   ],
   "source": [
    "set('df_refill liters')"
   ]
  },
  {
   "cell_type": "code",
   "execution_count": 622,
   "metadata": {},
   "outputs": [
    {
     "data": {
      "text/plain": [
       "{' ', '_', 'a', 'd', 'e', 'f', 'g', 'i', 'l', 'r', 's'}"
      ]
     },
     "execution_count": 622,
     "metadata": {},
     "output_type": "execute_result"
    }
   ],
   "source": [
    "set('df_refill gas')"
   ]
  },
  {
   "cell_type": "code",
   "execution_count": 623,
   "metadata": {},
   "outputs": [],
   "source": [
    "#eliminamos columnas con demasiados elementos vacios\n",
    "df_train=df_train.drop(['specials', 'refill liters', 'refill gas'], axis='columns')"
   ]
  },
  {
   "cell_type": "code",
   "execution_count": 624,
   "metadata": {},
   "outputs": [
    {
     "name": "stdout",
     "output_type": "stream",
     "text": [
      "<class 'pandas.core.frame.DataFrame'>\n",
      "RangeIndex: 388 entries, 0 to 387\n",
      "Data columns (total 9 columns):\n",
      " #   Column        Non-Null Count  Dtype \n",
      "---  ------        --------------  ----- \n",
      " 0   distance      388 non-null    object\n",
      " 1   consume       388 non-null    object\n",
      " 2   speed         388 non-null    int64 \n",
      " 3   temp_inside   376 non-null    object\n",
      " 4   temp_outside  388 non-null    int64 \n",
      " 5   gas_type      388 non-null    object\n",
      " 6   AC            388 non-null    int64 \n",
      " 7   rain          388 non-null    int64 \n",
      " 8   sun           388 non-null    int64 \n",
      "dtypes: int64(5), object(4)\n",
      "memory usage: 27.4+ KB\n"
     ]
    }
   ],
   "source": [
    "df_train.info()"
   ]
  },
  {
   "cell_type": "markdown",
   "metadata": {},
   "source": [
    "### Categorical and numerical columns"
   ]
  },
  {
   "cell_type": "code",
   "execution_count": 625,
   "metadata": {},
   "outputs": [
    {
     "name": "stdout",
     "output_type": "stream",
     "text": [
      "Numerical columns:  ['speed', 'temp_outside', 'AC', 'rain', 'sun']\n",
      "Categorical columns:  ['temp_inside', 'gas_type', 'distance', 'consume']\n"
     ]
    }
   ],
   "source": [
    "num_cols = list(df_train._get_numeric_data().columns)\n",
    "print(\"Numerical columns: \", num_cols)\n",
    "\n",
    "cat_cols=list(set(df_train.columns) - set(num_cols))\n",
    "print(\"Categorical columns: \", cat_cols)"
   ]
  },
  {
   "cell_type": "code",
   "execution_count": 626,
   "metadata": {},
   "outputs": [],
   "source": [
    "#Creating a function to convert the values\n",
    "def comma_converter(x):\n",
    "    if type(x) == str and ',' in x:\n",
    "        a = x.split(',')\n",
    "        return float(a[0] + '.' + a[1])\n",
    "    else:\n",
    "        return float(x)\n",
    "    \n",
    "#Converting the data\n",
    "df_train['distance'] = df_train['distance'].apply(comma_converter)\n",
    "df_train['consume'] = df_train['consume'].apply(comma_converter)\n",
    "df_train['temp_inside'] = df_train['temp_inside'].apply(comma_converter)"
   ]
  },
  {
   "cell_type": "code",
   "execution_count": 627,
   "metadata": {},
   "outputs": [
    {
     "name": "stdout",
     "output_type": "stream",
     "text": [
      "temp_inside > {nan, nan, nan, nan, nan, nan, nan, nan, nan, nan, nan, nan, 19.0, 20.0, 21.5, 22.5, 21.0, 20.5, 23.0, 23.5, 24.0, 22.0, 25.0, 24.5, 25.5}\n",
      "\n",
      "gas_type > {'SP98', 'E10'}\n",
      "\n",
      "distance > {1.7, 2.0, 2.9, 4.9, 4.5, 5.4, 7.8, 8.3, 6.1, 10.2, 11.2, 12.0, 12.9, 12.3, 11.9, 12.4, 11.8, 18.5, 17.3, 14.2, 17.9, 18.4, 18.3, 24.7, 25.9, 25.3, 19.0, 28.0, 20.0, 27.3, 31.1, 32.6, 33.4, 34.8, 35.9, 7.0, 36.9, 36.6, 39.4, 35.8, 40.6, 38.6, 43.5, 44.9, 44.4, 43.7, 39.0, 48.6, 41.9, 10.5, 51.6, 53.2, 56.1, 11.5, 58.7, 12.5, 13.0, 67.2, 14.0, 14.5, 16.0, 16.6, 16.1, 16.4, 81.2, 17.4, 16.9, 17.0, 16.5, 18.9, 18.1, 93.9, 19.6, 100.9, 20.1, 101.9, 20.6, 20.9, 21.6, 21.1, 2.4, 21.4, 21.5, 22.9, 22.4, 22.1, 21.0, 23.5, 24.9, 24.5, 25.5, 129.7, 130.3, 26.6, 5.5, 27.1, 28.5, 29.0, 29.9, 153.5, 31.4, 31.5, 31.9, 6.4, 6.0, 162.7, 32.1, 7.9, 7.4, 32.0, 9.9, 36.5, 37.2, 38.5, 13.9, 13.4, 39.5, 15.9, 15.4, 211.0, 4.8, 1.3, 216.1, 5.3, 6.8, 8.7, 9.8, 9.7, 9.2, 10.8, 11.7, 11.3, 12.2, 12.8, 12.7, 13.2, 13.3, 14.3, 14.7, 15.7, 15.3, 16.8, 16.2, 16.3, 16.7, 4.2, 17.2, 5.2, 18.8, 18.7, 6.7, 19.8, 20.8, 22.7, 22.2, 24.8, 25.2, 25.7, 26.2, 28.2, 28.8, 4.1, 5.1, 31.8, 6.6, 2.1, 10.6, 10.1, 11.6, 12.1, 12.6, 13.1, 13.6, 14.1}\n",
      "\n",
      "consume > {3.9, 4.5, 5.5, 4.2, 5.0, 6.4, 4.4, 5.3, 5.6, 4.6, 5.9, 5.1, 7.4, 9.9, 12.2, 10.8, 11.5, 4.9, 4.1, 4.0, 5.4, 6.5, 6.1, 6.9, 6.0, 6.6, 7.9, 7.1, 8.7, 8.1, 9.0, 3.6, 3.3, 3.8, 3.7, 4.7, 4.8, 4.3, 5.8, 5.7, 5.2, 6.2, 6.3}\n",
      "\n"
     ]
    }
   ],
   "source": [
    "#visualizar contenido de las columnas categoricas\n",
    "for c in cat_cols:\n",
    "    print(c, \">\", set(df_train[c]))\n",
    "    print(\"\")"
   ]
  },
  {
   "cell_type": "code",
   "execution_count": 628,
   "metadata": {},
   "outputs": [],
   "source": [
    "#convertimos en numéricas las que no son strings\n",
    "df_train['temp_inside'] = pd.to_numeric(df_train['temp_inside'], errors='coerce')\n",
    "df_train['consume'] = pd.to_numeric(df_train['consume'], errors='coerce')\n",
    "df_train['distance'] = pd.to_numeric(df_train['distance'], errors='coerce')"
   ]
  },
  {
   "cell_type": "code",
   "execution_count": 629,
   "metadata": {},
   "outputs": [
    {
     "name": "stdout",
     "output_type": "stream",
     "text": [
      "Numerical columns:  ['distance', 'consume', 'speed', 'temp_inside', 'temp_outside', 'AC', 'rain', 'sun']\n",
      "Categorical columns:  ['gas_type']\n"
     ]
    }
   ],
   "source": [
    "num_cols = list(df_train._get_numeric_data().columns)\n",
    "print(\"Numerical columns: \", num_cols)\n",
    "\n",
    "cat_cols=list(set(df_train.columns) - set(num_cols))\n",
    "print(\"Categorical columns: \", cat_cols)"
   ]
  },
  {
   "cell_type": "code",
   "execution_count": 630,
   "metadata": {},
   "outputs": [
    {
     "data": {
      "text/plain": [
       "{0, 1}"
      ]
     },
     "execution_count": 630,
     "metadata": {},
     "output_type": "execute_result"
    }
   ],
   "source": [
    "#con un diccionario mapeamos y convertimos en numéricos los dos tipos de combustibles\n",
    "df_train['gas_type'] = df_train['gas_type'].map({'SP98': 1, 'E10': 0})\n",
    "set(df_train['gas_type'])"
   ]
  },
  {
   "cell_type": "code",
   "execution_count": 631,
   "metadata": {},
   "outputs": [],
   "source": [
    "#solo una pequeá cantidad de rows en temp_inside están vacías, las rellenamos con la media de la columna\n",
    "temp_inside = df_train['temp_inside'].dropna()\n",
    "temp_inside_avg = temp_inside.mean()\n",
    "df_train['temp_inside'] = df_train['temp_inside'].fillna(temp_inside_avg)"
   ]
  },
  {
   "cell_type": "code",
   "execution_count": 632,
   "metadata": {},
   "outputs": [],
   "source": [
    "distance = df_train['distance'].dropna()\n",
    "distance_avg = distance.mean()\n",
    "df_train['distance'] = df_train['distance'].fillna(distance_avg)"
   ]
  },
  {
   "cell_type": "code",
   "execution_count": 633,
   "metadata": {},
   "outputs": [],
   "source": [
    "#df_train.drop(['distance'], inplace=True, axis=1)"
   ]
  },
  {
   "cell_type": "code",
   "execution_count": 634,
   "metadata": {},
   "outputs": [
    {
     "name": "stdout",
     "output_type": "stream",
     "text": [
      "<class 'pandas.core.frame.DataFrame'>\n",
      "RangeIndex: 388 entries, 0 to 387\n",
      "Data columns (total 9 columns):\n",
      " #   Column        Non-Null Count  Dtype  \n",
      "---  ------        --------------  -----  \n",
      " 0   distance      388 non-null    float64\n",
      " 1   consume       388 non-null    float64\n",
      " 2   speed         388 non-null    int64  \n",
      " 3   temp_inside   388 non-null    float64\n",
      " 4   temp_outside  388 non-null    int64  \n",
      " 5   gas_type      388 non-null    int64  \n",
      " 6   AC            388 non-null    int64  \n",
      " 7   rain          388 non-null    int64  \n",
      " 8   sun           388 non-null    int64  \n",
      "dtypes: float64(3), int64(6)\n",
      "memory usage: 27.4 KB\n"
     ]
    }
   ],
   "source": [
    "df_train.info()"
   ]
  },
  {
   "cell_type": "markdown",
   "metadata": {},
   "source": [
    "### Añadimos una nueva columna con el consumo / 100 Km"
   ]
  },
  {
   "cell_type": "code",
   "execution_count": 635,
   "metadata": {},
   "outputs": [],
   "source": [
    "df_train['consume_100Km'] = (df_train['consume']/100)*df_train['distance']"
   ]
  },
  {
   "cell_type": "code",
   "execution_count": 636,
   "metadata": {},
   "outputs": [
    {
     "name": "stdout",
     "output_type": "stream",
     "text": [
      "<class 'pandas.core.frame.DataFrame'>\n",
      "RangeIndex: 388 entries, 0 to 387\n",
      "Data columns (total 10 columns):\n",
      " #   Column         Non-Null Count  Dtype  \n",
      "---  ------         --------------  -----  \n",
      " 0   distance       388 non-null    float64\n",
      " 1   consume        388 non-null    float64\n",
      " 2   speed          388 non-null    int64  \n",
      " 3   temp_inside    388 non-null    float64\n",
      " 4   temp_outside   388 non-null    int64  \n",
      " 5   gas_type       388 non-null    int64  \n",
      " 6   AC             388 non-null    int64  \n",
      " 7   rain           388 non-null    int64  \n",
      " 8   sun            388 non-null    int64  \n",
      " 9   consume_100Km  388 non-null    float64\n",
      "dtypes: float64(4), int64(6)\n",
      "memory usage: 30.4 KB\n"
     ]
    }
   ],
   "source": [
    "df_train.info()"
   ]
  },
  {
   "cell_type": "markdown",
   "metadata": {},
   "source": [
    "### correlations"
   ]
  },
  {
   "cell_type": "code",
   "execution_count": 637,
   "metadata": {},
   "outputs": [
    {
     "data": {
      "text/plain": [
       "(10.5, -0.5)"
      ]
     },
     "execution_count": 637,
     "metadata": {},
     "output_type": "execute_result"
    },
    {
     "data": {
      "image/png": "[encoded data removed]",
      "text/plain": [
       "<Figure size 1152x864 with 2 Axes>"
      ]
     },
     "metadata": {},
     "output_type": "display_data"
    }
   ],
   "source": [
    "sns.set(style=\"white\")\n",
    "# Generate a mask for the upper triangle\n",
    "mask = np.zeros_like(df_train.corr(), dtype=np.bool)\n",
    "mask[np.triu_indices_from(mask)] = True\n",
    "# Set up the matplotlib figure to control size of heatmap\n",
    "fig, ax = plt.subplots(figsize=(16,12))\n",
    "# Create a custom color palette\n",
    "cmap = sns.diverging_palette(255, 10, as_cmap=True)  # as_cmap returns a matplotlib colormap object rather than a list of colors\n",
    "# Red=10, Green=128, Blue=255\n",
    "# Plot the heatmap\n",
    "sns.heatmap(df_train.corr(), mask=mask, annot=True, square=True, cmap=cmap , vmin=-1, vmax=1, ax=ax)  # annot display corr label\n",
    "# Prevent Heatmap Cut-Off Issue\n",
    "bottom, top = ax.get_ylim()\n",
    "ax.set_ylim(bottom+0.5, top-0.5)"
   ]
  },
  {
   "cell_type": "code",
   "execution_count": 638,
   "metadata": {},
   "outputs": [
    {
     "data": {
      "text/html": [
       "<div>\n",
       "<style scoped>\n",
       "    .dataframe tbody tr th:only-of-type {\n",
       "        vertical-align: middle;\n",
       "    }\n",
       "\n",
       "    .dataframe tbody tr th {\n",
       "        vertical-align: top;\n",
       "    }\n",
       "\n",
       "    .dataframe thead th {\n",
       "        text-align: right;\n",
       "    }\n",
       "</style>\n",
       "<table border=\"1\" class=\"dataframe\">\n",
       "  <thead>\n",
       "    <tr style=\"text-align: right;\">\n",
       "      <th></th>\n",
       "      <th>distance</th>\n",
       "      <th>consume</th>\n",
       "      <th>speed</th>\n",
       "      <th>temp_inside</th>\n",
       "      <th>temp_outside</th>\n",
       "      <th>gas_type</th>\n",
       "      <th>AC</th>\n",
       "      <th>rain</th>\n",
       "      <th>sun</th>\n",
       "      <th>consume_100Km</th>\n",
       "    </tr>\n",
       "  </thead>\n",
       "  <tbody>\n",
       "    <tr>\n",
       "      <th>consume_100Km</th>\n",
       "      <td>99.210074</td>\n",
       "      <td>-5.218780</td>\n",
       "      <td>55.184655</td>\n",
       "      <td>6.237325</td>\n",
       "      <td>3.787710</td>\n",
       "      <td>-5.534834</td>\n",
       "      <td>-1.870021</td>\n",
       "      <td>0.912464</td>\n",
       "      <td>6.424729</td>\n",
       "      <td>100.000000</td>\n",
       "    </tr>\n",
       "    <tr>\n",
       "      <th>distance</th>\n",
       "      <td>100.000000</td>\n",
       "      <td>-12.896676</td>\n",
       "      <td>56.229882</td>\n",
       "      <td>7.517823</td>\n",
       "      <td>8.817534</td>\n",
       "      <td>-5.341141</td>\n",
       "      <td>-2.573817</td>\n",
       "      <td>-1.979065</td>\n",
       "      <td>8.111981</td>\n",
       "      <td>99.210074</td>\n",
       "    </tr>\n",
       "    <tr>\n",
       "      <th>speed</th>\n",
       "      <td>56.229882</td>\n",
       "      <td>-22.786618</td>\n",
       "      <td>100.000000</td>\n",
       "      <td>5.929296</td>\n",
       "      <td>1.541101</td>\n",
       "      <td>-9.736041</td>\n",
       "      <td>-3.540800</td>\n",
       "      <td>0.948946</td>\n",
       "      <td>8.161828</td>\n",
       "      <td>55.184655</td>\n",
       "    </tr>\n",
       "    <tr>\n",
       "      <th>sun</th>\n",
       "      <td>8.111981</td>\n",
       "      <td>-17.066738</td>\n",
       "      <td>8.161828</td>\n",
       "      <td>24.224794</td>\n",
       "      <td>34.690341</td>\n",
       "      <td>2.276096</td>\n",
       "      <td>8.859801</td>\n",
       "      <td>-11.264999</td>\n",
       "      <td>100.000000</td>\n",
       "      <td>6.424729</td>\n",
       "    </tr>\n",
       "    <tr>\n",
       "      <th>temp_inside</th>\n",
       "      <td>7.517823</td>\n",
       "      <td>-16.062288</td>\n",
       "      <td>5.929296</td>\n",
       "      <td>100.000000</td>\n",
       "      <td>35.950042</td>\n",
       "      <td>1.019767</td>\n",
       "      <td>29.737625</td>\n",
       "      <td>-3.693724</td>\n",
       "      <td>24.224794</td>\n",
       "      <td>6.237325</td>\n",
       "    </tr>\n",
       "    <tr>\n",
       "      <th>temp_outside</th>\n",
       "      <td>8.817534</td>\n",
       "      <td>-32.081059</td>\n",
       "      <td>1.541101</td>\n",
       "      <td>35.950042</td>\n",
       "      <td>100.000000</td>\n",
       "      <td>14.870501</td>\n",
       "      <td>16.756227</td>\n",
       "      <td>-18.631489</td>\n",
       "      <td>34.690341</td>\n",
       "      <td>3.787710</td>\n",
       "    </tr>\n",
       "    <tr>\n",
       "      <th>rain</th>\n",
       "      <td>-1.979065</td>\n",
       "      <td>24.811771</td>\n",
       "      <td>0.948946</td>\n",
       "      <td>-3.693724</td>\n",
       "      <td>-18.631489</td>\n",
       "      <td>6.032819</td>\n",
       "      <td>24.291471</td>\n",
       "      <td>100.000000</td>\n",
       "      <td>-11.264999</td>\n",
       "      <td>0.912464</td>\n",
       "    </tr>\n",
       "    <tr>\n",
       "      <th>AC</th>\n",
       "      <td>-2.573817</td>\n",
       "      <td>9.659140</td>\n",
       "      <td>-3.540800</td>\n",
       "      <td>29.737625</td>\n",
       "      <td>16.756227</td>\n",
       "      <td>10.528540</td>\n",
       "      <td>100.000000</td>\n",
       "      <td>24.291471</td>\n",
       "      <td>8.859801</td>\n",
       "      <td>-1.870021</td>\n",
       "    </tr>\n",
       "    <tr>\n",
       "      <th>consume</th>\n",
       "      <td>-12.896676</td>\n",
       "      <td>100.000000</td>\n",
       "      <td>-22.786618</td>\n",
       "      <td>-16.062288</td>\n",
       "      <td>-32.081059</td>\n",
       "      <td>-1.532697</td>\n",
       "      <td>9.659140</td>\n",
       "      <td>24.811771</td>\n",
       "      <td>-17.066738</td>\n",
       "      <td>-5.218780</td>\n",
       "    </tr>\n",
       "    <tr>\n",
       "      <th>gas_type</th>\n",
       "      <td>-5.341141</td>\n",
       "      <td>-1.532697</td>\n",
       "      <td>-9.736041</td>\n",
       "      <td>1.019767</td>\n",
       "      <td>14.870501</td>\n",
       "      <td>100.000000</td>\n",
       "      <td>10.528540</td>\n",
       "      <td>6.032819</td>\n",
       "      <td>2.276096</td>\n",
       "      <td>-5.534834</td>\n",
       "    </tr>\n",
       "  </tbody>\n",
       "</table>\n",
       "</div>"
      ],
      "text/plain": [
       "                 distance     consume       speed  temp_inside  temp_outside  \\\n",
       "consume_100Km   99.210074   -5.218780   55.184655     6.237325      3.787710   \n",
       "distance       100.000000  -12.896676   56.229882     7.517823      8.817534   \n",
       "speed           56.229882  -22.786618  100.000000     5.929296      1.541101   \n",
       "sun              8.111981  -17.066738    8.161828    24.224794     34.690341   \n",
       "temp_inside      7.517823  -16.062288    5.929296   100.000000     35.950042   \n",
       "temp_outside     8.817534  -32.081059    1.541101    35.950042    100.000000   \n",
       "rain            -1.979065   24.811771    0.948946    -3.693724    -18.631489   \n",
       "AC              -2.573817    9.659140   -3.540800    29.737625     16.756227   \n",
       "consume        -12.896676  100.000000  -22.786618   -16.062288    -32.081059   \n",
       "gas_type        -5.341141   -1.532697   -9.736041     1.019767     14.870501   \n",
       "\n",
       "                 gas_type          AC        rain         sun  consume_100Km  \n",
       "consume_100Km   -5.534834   -1.870021    0.912464    6.424729     100.000000  \n",
       "distance        -5.341141   -2.573817   -1.979065    8.111981      99.210074  \n",
       "speed           -9.736041   -3.540800    0.948946    8.161828      55.184655  \n",
       "sun              2.276096    8.859801  -11.264999  100.000000       6.424729  \n",
       "temp_inside      1.019767   29.737625   -3.693724   24.224794       6.237325  \n",
       "temp_outside    14.870501   16.756227  -18.631489   34.690341       3.787710  \n",
       "rain             6.032819   24.291471  100.000000  -11.264999       0.912464  \n",
       "AC              10.528540  100.000000   24.291471    8.859801      -1.870021  \n",
       "consume         -1.532697    9.659140   24.811771  -17.066738      -5.218780  \n",
       "gas_type       100.000000   10.528540    6.032819    2.276096      -5.534834  "
      ]
     },
     "execution_count": 638,
     "metadata": {},
     "output_type": "execute_result"
    }
   ],
   "source": [
    "corr = (df_train.corr().sort_values('consume_100Km', ascending=False))*100\n",
    "corr"
   ]
  },
  {
   "cell_type": "markdown",
   "metadata": {},
   "source": [
    " *- El consumo no solo se relaciona con el tipo de combustible, sino con la lluvia y la velocidad, así como la temperatura en el exterior y en el interior*"
   ]
  },
  {
   "cell_type": "code",
   "execution_count": 639,
   "metadata": {},
   "outputs": [
    {
     "data": {
      "image/png": "[encoded data removed]",
      "text/plain": [
       "<Figure size 1152x360 with 1 Axes>"
      ]
     },
     "metadata": {},
     "output_type": "display_data"
    }
   ],
   "source": [
    "corr_mat=df_train.corr(method='pearson')\n",
    "plt.figure(figsize = (16,5))\n",
    "corr_mat['consume'].sort_values(ascending = False).plot(kind = 'bar');"
   ]
  },
  {
   "cell_type": "markdown",
   "metadata": {},
   "source": [
    "### Chequear media de consumo por tipo de combustible y resto de variables"
   ]
  },
  {
   "cell_type": "code",
   "execution_count": 640,
   "metadata": {},
   "outputs": [],
   "source": [
    "gas_type=df_train.groupby('gas_type')"
   ]
  },
  {
   "cell_type": "code",
   "execution_count": 641,
   "metadata": {},
   "outputs": [
    {
     "data": {
      "text/html": [
       "<div>\n",
       "<style scoped>\n",
       "    .dataframe tbody tr th:only-of-type {\n",
       "        vertical-align: middle;\n",
       "    }\n",
       "\n",
       "    .dataframe tbody tr th {\n",
       "        vertical-align: top;\n",
       "    }\n",
       "\n",
       "    .dataframe thead th {\n",
       "        text-align: right;\n",
       "    }\n",
       "</style>\n",
       "<table border=\"1\" class=\"dataframe\">\n",
       "  <thead>\n",
       "    <tr style=\"text-align: right;\">\n",
       "      <th></th>\n",
       "      <th>distance</th>\n",
       "      <th>consume</th>\n",
       "      <th>speed</th>\n",
       "      <th>temp_inside</th>\n",
       "      <th>temp_outside</th>\n",
       "      <th>AC</th>\n",
       "      <th>rain</th>\n",
       "      <th>sun</th>\n",
       "      <th>consume_100Km</th>\n",
       "    </tr>\n",
       "    <tr>\n",
       "      <th>gas_type</th>\n",
       "      <th></th>\n",
       "      <th></th>\n",
       "      <th></th>\n",
       "      <th></th>\n",
       "      <th></th>\n",
       "      <th></th>\n",
       "      <th></th>\n",
       "      <th></th>\n",
       "      <th></th>\n",
       "    </tr>\n",
       "  </thead>\n",
       "  <tbody>\n",
       "    <tr>\n",
       "      <th>0</th>\n",
       "      <td>21.096250</td>\n",
       "      <td>4.931250</td>\n",
       "      <td>43.506250</td>\n",
       "      <td>21.917429</td>\n",
       "      <td>10.11875</td>\n",
       "      <td>0.043750</td>\n",
       "      <td>0.100000</td>\n",
       "      <td>0.075000</td>\n",
       "      <td>1.008933</td>\n",
       "    </tr>\n",
       "    <tr>\n",
       "      <th>1</th>\n",
       "      <td>18.639912</td>\n",
       "      <td>4.899123</td>\n",
       "      <td>40.820175</td>\n",
       "      <td>21.938007</td>\n",
       "      <td>12.22807</td>\n",
       "      <td>0.100877</td>\n",
       "      <td>0.140351</td>\n",
       "      <td>0.087719</td>\n",
       "      <td>0.883618</td>\n",
       "    </tr>\n",
       "  </tbody>\n",
       "</table>\n",
       "</div>"
      ],
      "text/plain": [
       "           distance   consume      speed  temp_inside  temp_outside        AC  \\\n",
       "gas_type                                                                        \n",
       "0         21.096250  4.931250  43.506250    21.917429      10.11875  0.043750   \n",
       "1         18.639912  4.899123  40.820175    21.938007      12.22807  0.100877   \n",
       "\n",
       "              rain       sun  consume_100Km  \n",
       "gas_type                                     \n",
       "0         0.100000  0.075000       1.008933  \n",
       "1         0.140351  0.087719       0.883618  "
      ]
     },
     "execution_count": 641,
     "metadata": {},
     "output_type": "execute_result"
    }
   ],
   "source": [
    "gas_type.mean()"
   ]
  },
  {
   "cell_type": "code",
   "execution_count": 504,
   "metadata": {},
   "outputs": [],
   "source": [
    "#gas_type.get_group(1).mean()"
   ]
  },
  {
   "cell_type": "code",
   "execution_count": 505,
   "metadata": {},
   "outputs": [],
   "source": [
    "#gas_type.get_group(0).mean()"
   ]
  },
  {
   "cell_type": "code",
   "execution_count": 506,
   "metadata": {},
   "outputs": [
    {
     "data": {
      "text/plain": [
       "<AxesSubplot:ylabel='gas_type'>"
      ]
     },
     "execution_count": 506,
     "metadata": {},
     "output_type": "execute_result"
    },
    {
     "data": {
      "image/png": "[encoded data removed]",
      "text/plain": [
       "<Figure size 432x288 with 1 Axes>"
      ]
     },
     "metadata": {},
     "output_type": "display_data"
    }
   ],
   "source": [
    "gas_type.size().sort_values(ascending=True).plot(kind='barh')\n",
    "#'SP98': 1, 'E10': 0"
   ]
  },
  {
   "cell_type": "code",
   "execution_count": 612,
   "metadata": {},
   "outputs": [
    {
     "data": {
      "text/plain": [
       "Text(11.204923406862736, 0.5, 'consume l/100km')"
      ]
     },
     "execution_count": 612,
     "metadata": {},
     "output_type": "execute_result"
    },
    {
     "data": {
      "image/png": "[encoded data removed]",
      "text/plain": [
       "<Figure size 791.825x432 with 1 Axes>"
      ]
     },
     "metadata": {},
     "output_type": "display_data"
    }
   ],
   "source": [
    "#Consume vs Km_absolute\n",
    "sns.lmplot(data = df_train, x = 'distance', y = 'consume_100Km', hue = 'gas_type', height=6,aspect=1.7)\n",
    "plt.xlabel('distance Km')\n",
    "plt.ylabel('consume l/100km')"
   ]
  },
  {
   "cell_type": "code",
   "execution_count": 512,
   "metadata": {},
   "outputs": [],
   "source": [
    "#gas_type[['consume_100Km','speed',]].mean().plot(kind='bar')\n",
    "#'SP98': 1, 'E10': 0"
   ]
  },
  {
   "cell_type": "code",
   "execution_count": 513,
   "metadata": {},
   "outputs": [],
   "source": [
    "#gas_type.agg({'consume_100Km':'min','speed':'max',}).plot(kind='bar')\n",
    "#'SP98': 1, 'E10': 0"
   ]
  },
  {
   "cell_type": "code",
   "execution_count": 516,
   "metadata": {},
   "outputs": [
    {
     "data": {
      "text/html": [
       "<div>\n",
       "<style scoped>\n",
       "    .dataframe tbody tr th:only-of-type {\n",
       "        vertical-align: middle;\n",
       "    }\n",
       "\n",
       "    .dataframe tbody tr th {\n",
       "        vertical-align: top;\n",
       "    }\n",
       "\n",
       "    .dataframe thead th {\n",
       "        text-align: right;\n",
       "    }\n",
       "</style>\n",
       "<table border=\"1\" class=\"dataframe\">\n",
       "  <thead>\n",
       "    <tr style=\"text-align: right;\">\n",
       "      <th></th>\n",
       "      <th>consume_100Km</th>\n",
       "      <th>speed</th>\n",
       "      <th>distance</th>\n",
       "    </tr>\n",
       "    <tr>\n",
       "      <th>gas_type</th>\n",
       "      <th></th>\n",
       "      <th></th>\n",
       "      <th></th>\n",
       "    </tr>\n",
       "  </thead>\n",
       "  <tbody>\n",
       "    <tr>\n",
       "      <th>0</th>\n",
       "      <td>5.9938</td>\n",
       "      <td>88</td>\n",
       "      <td>130.3</td>\n",
       "    </tr>\n",
       "    <tr>\n",
       "      <th>1</th>\n",
       "      <td>2.6928</td>\n",
       "      <td>82</td>\n",
       "      <td>56.1</td>\n",
       "    </tr>\n",
       "  </tbody>\n",
       "</table>\n",
       "</div>"
      ],
      "text/plain": [
       "          consume_100Km  speed  distance\n",
       "gas_type                                \n",
       "0                5.9938     88     130.3\n",
       "1                2.6928     82      56.1"
      ]
     },
     "execution_count": 516,
     "metadata": {},
     "output_type": "execute_result"
    }
   ],
   "source": [
    "gas_type.agg({'consume_100Km':'max','speed':'max','distance':'max' })"
   ]
  },
  {
   "cell_type": "code",
   "execution_count": 515,
   "metadata": {},
   "outputs": [
    {
     "data": {
      "text/html": [
       "<div>\n",
       "<style scoped>\n",
       "    .dataframe tbody tr th:only-of-type {\n",
       "        vertical-align: middle;\n",
       "    }\n",
       "\n",
       "    .dataframe tbody tr th {\n",
       "        vertical-align: top;\n",
       "    }\n",
       "\n",
       "    .dataframe thead th {\n",
       "        text-align: right;\n",
       "    }\n",
       "</style>\n",
       "<table border=\"1\" class=\"dataframe\">\n",
       "  <thead>\n",
       "    <tr style=\"text-align: right;\">\n",
       "      <th></th>\n",
       "      <th>consume_100Km</th>\n",
       "      <th>speed</th>\n",
       "      <th>distance</th>\n",
       "    </tr>\n",
       "    <tr>\n",
       "      <th>gas_type</th>\n",
       "      <th></th>\n",
       "      <th></th>\n",
       "      <th></th>\n",
       "    </tr>\n",
       "  </thead>\n",
       "  <tbody>\n",
       "    <tr>\n",
       "      <th>0</th>\n",
       "      <td>0.1638</td>\n",
       "      <td>16</td>\n",
       "      <td>4.1</td>\n",
       "    </tr>\n",
       "    <tr>\n",
       "      <th>1</th>\n",
       "      <td>0.2035</td>\n",
       "      <td>16</td>\n",
       "      <td>2.9</td>\n",
       "    </tr>\n",
       "  </tbody>\n",
       "</table>\n",
       "</div>"
      ],
      "text/plain": [
       "          consume_100Km  speed  distance\n",
       "gas_type                                \n",
       "0                0.1638     16       4.1\n",
       "1                0.2035     16       2.9"
      ]
     },
     "execution_count": 515,
     "metadata": {},
     "output_type": "execute_result"
    }
   ],
   "source": [
    "gas_type.agg({'consume_100Km':'min','speed':'min', 'distance':'min',})"
   ]
  },
  {
   "cell_type": "code",
   "execution_count": 517,
   "metadata": {},
   "outputs": [
    {
     "data": {
      "text/html": [
       "<div>\n",
       "<style scoped>\n",
       "    .dataframe tbody tr th:only-of-type {\n",
       "        vertical-align: middle;\n",
       "    }\n",
       "\n",
       "    .dataframe tbody tr th {\n",
       "        vertical-align: top;\n",
       "    }\n",
       "\n",
       "    .dataframe thead th {\n",
       "        text-align: right;\n",
       "    }\n",
       "</style>\n",
       "<table border=\"1\" class=\"dataframe\">\n",
       "  <thead>\n",
       "    <tr style=\"text-align: right;\">\n",
       "      <th></th>\n",
       "      <th>consume_100Km</th>\n",
       "      <th>speed</th>\n",
       "      <th>distance</th>\n",
       "    </tr>\n",
       "    <tr>\n",
       "      <th>gas_type</th>\n",
       "      <th></th>\n",
       "      <th></th>\n",
       "      <th></th>\n",
       "    </tr>\n",
       "  </thead>\n",
       "  <tbody>\n",
       "    <tr>\n",
       "      <th>0</th>\n",
       "      <td>1.025246</td>\n",
       "      <td>43.980892</td>\n",
       "      <td>21.463057</td>\n",
       "    </tr>\n",
       "    <tr>\n",
       "      <th>1</th>\n",
       "      <td>0.748552</td>\n",
       "      <td>40.602804</td>\n",
       "      <td>15.987383</td>\n",
       "    </tr>\n",
       "  </tbody>\n",
       "</table>\n",
       "</div>"
      ],
      "text/plain": [
       "          consume_100Km      speed   distance\n",
       "gas_type                                     \n",
       "0              1.025246  43.980892  21.463057\n",
       "1              0.748552  40.602804  15.987383"
      ]
     },
     "execution_count": 517,
     "metadata": {},
     "output_type": "execute_result"
    }
   ],
   "source": [
    "gas_type.agg({'consume_100Km':'mean','speed':'mean','distance':'mean' })"
   ]
  },
  {
   "cell_type": "code",
   "execution_count": 518,
   "metadata": {},
   "outputs": [
    {
     "data": {
      "text/html": [
       "<div>\n",
       "<style scoped>\n",
       "    .dataframe tbody tr th:only-of-type {\n",
       "        vertical-align: middle;\n",
       "    }\n",
       "\n",
       "    .dataframe tbody tr th {\n",
       "        vertical-align: top;\n",
       "    }\n",
       "\n",
       "    .dataframe thead th {\n",
       "        text-align: right;\n",
       "    }\n",
       "</style>\n",
       "<table border=\"1\" class=\"dataframe\">\n",
       "  <thead>\n",
       "    <tr style=\"text-align: right;\">\n",
       "      <th></th>\n",
       "      <th>gas_type</th>\n",
       "      <th>0</th>\n",
       "      <th>1</th>\n",
       "    </tr>\n",
       "  </thead>\n",
       "  <tbody>\n",
       "    <tr>\n",
       "      <th rowspan=\"3\" valign=\"top\">distance</th>\n",
       "      <th>min</th>\n",
       "      <td>4.100000</td>\n",
       "      <td>2.900000</td>\n",
       "    </tr>\n",
       "    <tr>\n",
       "      <th>max</th>\n",
       "      <td>130.300000</td>\n",
       "      <td>56.100000</td>\n",
       "    </tr>\n",
       "    <tr>\n",
       "      <th>mean</th>\n",
       "      <td>21.463057</td>\n",
       "      <td>15.987383</td>\n",
       "    </tr>\n",
       "    <tr>\n",
       "      <th rowspan=\"3\" valign=\"top\">consume</th>\n",
       "      <th>min</th>\n",
       "      <td>3.700000</td>\n",
       "      <td>3.700000</td>\n",
       "    </tr>\n",
       "    <tr>\n",
       "      <th>max</th>\n",
       "      <td>8.100000</td>\n",
       "      <td>8.700000</td>\n",
       "    </tr>\n",
       "    <tr>\n",
       "      <th>mean</th>\n",
       "      <td>4.866879</td>\n",
       "      <td>4.814019</td>\n",
       "    </tr>\n",
       "    <tr>\n",
       "      <th rowspan=\"3\" valign=\"top\">speed</th>\n",
       "      <th>min</th>\n",
       "      <td>16.000000</td>\n",
       "      <td>16.000000</td>\n",
       "    </tr>\n",
       "    <tr>\n",
       "      <th>max</th>\n",
       "      <td>88.000000</td>\n",
       "      <td>82.000000</td>\n",
       "    </tr>\n",
       "    <tr>\n",
       "      <th>mean</th>\n",
       "      <td>43.980892</td>\n",
       "      <td>40.602804</td>\n",
       "    </tr>\n",
       "    <tr>\n",
       "      <th rowspan=\"3\" valign=\"top\">temp_inside</th>\n",
       "      <th>min</th>\n",
       "      <td>21.000000</td>\n",
       "      <td>19.000000</td>\n",
       "    </tr>\n",
       "    <tr>\n",
       "      <th>max</th>\n",
       "      <td>25.000000</td>\n",
       "      <td>25.500000</td>\n",
       "    </tr>\n",
       "    <tr>\n",
       "      <th>mean</th>\n",
       "      <td>21.912666</td>\n",
       "      <td>21.978344</td>\n",
       "    </tr>\n",
       "    <tr>\n",
       "      <th rowspan=\"3\" valign=\"top\">temp_outside</th>\n",
       "      <th>min</th>\n",
       "      <td>-5.000000</td>\n",
       "      <td>-3.000000</td>\n",
       "    </tr>\n",
       "    <tr>\n",
       "      <th>max</th>\n",
       "      <td>27.000000</td>\n",
       "      <td>31.000000</td>\n",
       "    </tr>\n",
       "    <tr>\n",
       "      <th>mean</th>\n",
       "      <td>10.070064</td>\n",
       "      <td>12.233645</td>\n",
       "    </tr>\n",
       "    <tr>\n",
       "      <th rowspan=\"3\" valign=\"top\">AC</th>\n",
       "      <th>min</th>\n",
       "      <td>0.000000</td>\n",
       "      <td>0.000000</td>\n",
       "    </tr>\n",
       "    <tr>\n",
       "      <th>max</th>\n",
       "      <td>1.000000</td>\n",
       "      <td>1.000000</td>\n",
       "    </tr>\n",
       "    <tr>\n",
       "      <th>mean</th>\n",
       "      <td>0.044586</td>\n",
       "      <td>0.102804</td>\n",
       "    </tr>\n",
       "    <tr>\n",
       "      <th rowspan=\"3\" valign=\"top\">rain</th>\n",
       "      <th>min</th>\n",
       "      <td>0.000000</td>\n",
       "      <td>0.000000</td>\n",
       "    </tr>\n",
       "    <tr>\n",
       "      <th>max</th>\n",
       "      <td>1.000000</td>\n",
       "      <td>1.000000</td>\n",
       "    </tr>\n",
       "    <tr>\n",
       "      <th>mean</th>\n",
       "      <td>0.095541</td>\n",
       "      <td>0.140187</td>\n",
       "    </tr>\n",
       "    <tr>\n",
       "      <th rowspan=\"3\" valign=\"top\">sun</th>\n",
       "      <th>min</th>\n",
       "      <td>0.000000</td>\n",
       "      <td>0.000000</td>\n",
       "    </tr>\n",
       "    <tr>\n",
       "      <th>max</th>\n",
       "      <td>1.000000</td>\n",
       "      <td>1.000000</td>\n",
       "    </tr>\n",
       "    <tr>\n",
       "      <th>mean</th>\n",
       "      <td>0.076433</td>\n",
       "      <td>0.084112</td>\n",
       "    </tr>\n",
       "    <tr>\n",
       "      <th rowspan=\"3\" valign=\"top\">consume_100Km</th>\n",
       "      <th>min</th>\n",
       "      <td>0.163800</td>\n",
       "      <td>0.203500</td>\n",
       "    </tr>\n",
       "    <tr>\n",
       "      <th>max</th>\n",
       "      <td>5.993800</td>\n",
       "      <td>2.692800</td>\n",
       "    </tr>\n",
       "    <tr>\n",
       "      <th>mean</th>\n",
       "      <td>1.025246</td>\n",
       "      <td>0.748552</td>\n",
       "    </tr>\n",
       "  </tbody>\n",
       "</table>\n",
       "</div>"
      ],
      "text/plain": [
       "gas_type                     0          1\n",
       "distance      min     4.100000   2.900000\n",
       "              max   130.300000  56.100000\n",
       "              mean   21.463057  15.987383\n",
       "consume       min     3.700000   3.700000\n",
       "              max     8.100000   8.700000\n",
       "              mean    4.866879   4.814019\n",
       "speed         min    16.000000  16.000000\n",
       "              max    88.000000  82.000000\n",
       "              mean   43.980892  40.602804\n",
       "temp_inside   min    21.000000  19.000000\n",
       "              max    25.000000  25.500000\n",
       "              mean   21.912666  21.978344\n",
       "temp_outside  min    -5.000000  -3.000000\n",
       "              max    27.000000  31.000000\n",
       "              mean   10.070064  12.233645\n",
       "AC            min     0.000000   0.000000\n",
       "              max     1.000000   1.000000\n",
       "              mean    0.044586   0.102804\n",
       "rain          min     0.000000   0.000000\n",
       "              max     1.000000   1.000000\n",
       "              mean    0.095541   0.140187\n",
       "sun           min     0.000000   0.000000\n",
       "              max     1.000000   1.000000\n",
       "              mean    0.076433   0.084112\n",
       "consume_100Km min     0.163800   0.203500\n",
       "              max     5.993800   2.692800\n",
       "              mean    1.025246   0.748552"
      ]
     },
     "execution_count": 518,
     "metadata": {},
     "output_type": "execute_result"
    }
   ],
   "source": [
    "gas_type.agg(['min', 'max','mean']).T"
   ]
  },
  {
   "cell_type": "code",
   "execution_count": 519,
   "metadata": {},
   "outputs": [
    {
     "data": {
      "text/html": [
       "<div>\n",
       "<style scoped>\n",
       "    .dataframe tbody tr th:only-of-type {\n",
       "        vertical-align: middle;\n",
       "    }\n",
       "\n",
       "    .dataframe tbody tr th {\n",
       "        vertical-align: top;\n",
       "    }\n",
       "\n",
       "    .dataframe thead th {\n",
       "        text-align: right;\n",
       "    }\n",
       "</style>\n",
       "<table border=\"1\" class=\"dataframe\">\n",
       "  <thead>\n",
       "    <tr style=\"text-align: right;\">\n",
       "      <th></th>\n",
       "      <th>distance</th>\n",
       "      <th>consume</th>\n",
       "      <th>speed</th>\n",
       "      <th>temp_inside</th>\n",
       "      <th>temp_outside</th>\n",
       "      <th>gas_type</th>\n",
       "      <th>AC</th>\n",
       "      <th>rain</th>\n",
       "      <th>sun</th>\n",
       "      <th>consume_100Km</th>\n",
       "    </tr>\n",
       "  </thead>\n",
       "  <tbody>\n",
       "    <tr>\n",
       "      <th>273</th>\n",
       "      <td>93.9</td>\n",
       "      <td>4.8</td>\n",
       "      <td>88</td>\n",
       "      <td>23.0</td>\n",
       "      <td>18</td>\n",
       "      <td>0</td>\n",
       "      <td>1</td>\n",
       "      <td>0</td>\n",
       "      <td>1</td>\n",
       "      <td>4.5072</td>\n",
       "    </tr>\n",
       "  </tbody>\n",
       "</table>\n",
       "</div>"
      ],
      "text/plain": [
       "     distance  consume  speed  temp_inside  temp_outside  gas_type  AC  rain  \\\n",
       "273      93.9      4.8     88         23.0            18         0   1     0   \n",
       "\n",
       "     sun  consume_100Km  \n",
       "273    1         4.5072  "
      ]
     },
     "execution_count": 519,
     "metadata": {},
     "output_type": "execute_result"
    }
   ],
   "source": [
    "df_max_speed=df_train[df_train.speed == df_train['speed'].max()]\n",
    "df_max_speed"
   ]
  },
  {
   "cell_type": "code",
   "execution_count": 520,
   "metadata": {},
   "outputs": [
    {
     "data": {
      "text/html": [
       "<div>\n",
       "<style scoped>\n",
       "    .dataframe tbody tr th:only-of-type {\n",
       "        vertical-align: middle;\n",
       "    }\n",
       "\n",
       "    .dataframe tbody tr th {\n",
       "        vertical-align: top;\n",
       "    }\n",
       "\n",
       "    .dataframe thead th {\n",
       "        text-align: right;\n",
       "    }\n",
       "</style>\n",
       "<table border=\"1\" class=\"dataframe\">\n",
       "  <thead>\n",
       "    <tr style=\"text-align: right;\">\n",
       "      <th></th>\n",
       "      <th>distance</th>\n",
       "      <th>consume</th>\n",
       "      <th>speed</th>\n",
       "      <th>temp_inside</th>\n",
       "      <th>temp_outside</th>\n",
       "      <th>gas_type</th>\n",
       "      <th>AC</th>\n",
       "      <th>rain</th>\n",
       "      <th>sun</th>\n",
       "      <th>consume_100Km</th>\n",
       "    </tr>\n",
       "  </thead>\n",
       "  <tbody>\n",
       "    <tr>\n",
       "      <th>245</th>\n",
       "      <td>11.8</td>\n",
       "      <td>6.1</td>\n",
       "      <td>16</td>\n",
       "      <td>22.5</td>\n",
       "      <td>6</td>\n",
       "      <td>0</td>\n",
       "      <td>0</td>\n",
       "      <td>1</td>\n",
       "      <td>0</td>\n",
       "      <td>0.7198</td>\n",
       "    </tr>\n",
       "    <tr>\n",
       "      <th>373</th>\n",
       "      <td>15.3</td>\n",
       "      <td>6.6</td>\n",
       "      <td>16</td>\n",
       "      <td>24.0</td>\n",
       "      <td>27</td>\n",
       "      <td>1</td>\n",
       "      <td>1</td>\n",
       "      <td>0</td>\n",
       "      <td>0</td>\n",
       "      <td>1.0098</td>\n",
       "    </tr>\n",
       "  </tbody>\n",
       "</table>\n",
       "</div>"
      ],
      "text/plain": [
       "     distance  consume  speed  temp_inside  temp_outside  gas_type  AC  rain  \\\n",
       "245      11.8      6.1     16         22.5             6         0   0     1   \n",
       "373      15.3      6.6     16         24.0            27         1   1     0   \n",
       "\n",
       "     sun  consume_100Km  \n",
       "245    0         0.7198  \n",
       "373    0         1.0098  "
      ]
     },
     "execution_count": 520,
     "metadata": {},
     "output_type": "execute_result"
    }
   ],
   "source": [
    "df_min_speed=df_train[df_train.speed == df_train['speed'].min()]\n",
    "df_min_speed"
   ]
  },
  {
   "cell_type": "code",
   "execution_count": 522,
   "metadata": {},
   "outputs": [],
   "source": [
    "group_cols = ['gas_type']\n",
    "agg_dict = {'speed':['min', 'max','mean','var'],\n",
    "            'distance':['min', 'max','mean','var'],\n",
    "            'consume_100Km':['min', 'max','mean','var']}\n",
    "df_groupby=df_train.groupby(group_cols).agg(agg_dict)"
   ]
  },
  {
   "cell_type": "code",
   "execution_count": 523,
   "metadata": {},
   "outputs": [
    {
     "data": {
      "text/plain": [
       "Index(['speed', 'speed', 'speed', 'speed', 'distance', 'distance', 'distance',\n",
       "       'distance', 'consume_100Km', 'consume_100Km', 'consume_100Km',\n",
       "       'consume_100Km'],\n",
       "      dtype='object')"
      ]
     },
     "execution_count": 523,
     "metadata": {},
     "output_type": "execute_result"
    }
   ],
   "source": [
    "level0 = df_groupby.columns.get_level_values(0)\n",
    "level0"
   ]
  },
  {
   "cell_type": "code",
   "execution_count": 524,
   "metadata": {},
   "outputs": [
    {
     "data": {
      "text/plain": [
       "Index(['min', 'max', 'mean', 'var', 'min', 'max', 'mean', 'var', 'min', 'max',\n",
       "       'mean', 'var'],\n",
       "      dtype='object')"
      ]
     },
     "execution_count": 524,
     "metadata": {},
     "output_type": "execute_result"
    }
   ],
   "source": [
    "level1 = df_groupby.columns.get_level_values(1)\n",
    "level1"
   ]
  },
  {
   "cell_type": "code",
   "execution_count": 525,
   "metadata": {},
   "outputs": [],
   "source": [
    "df_groupby.columns = level0 + '_' + level1"
   ]
  },
  {
   "cell_type": "code",
   "execution_count": 526,
   "metadata": {},
   "outputs": [
    {
     "data": {
      "text/html": [
       "<div>\n",
       "<style scoped>\n",
       "    .dataframe tbody tr th:only-of-type {\n",
       "        vertical-align: middle;\n",
       "    }\n",
       "\n",
       "    .dataframe tbody tr th {\n",
       "        vertical-align: top;\n",
       "    }\n",
       "\n",
       "    .dataframe thead th {\n",
       "        text-align: right;\n",
       "    }\n",
       "</style>\n",
       "<table border=\"1\" class=\"dataframe\">\n",
       "  <thead>\n",
       "    <tr style=\"text-align: right;\">\n",
       "      <th>gas_type</th>\n",
       "      <th>0</th>\n",
       "      <th>1</th>\n",
       "    </tr>\n",
       "  </thead>\n",
       "  <tbody>\n",
       "    <tr>\n",
       "      <th>speed_min</th>\n",
       "      <td>16.000000</td>\n",
       "      <td>16.000000</td>\n",
       "    </tr>\n",
       "    <tr>\n",
       "      <th>speed_max</th>\n",
       "      <td>88.000000</td>\n",
       "      <td>82.000000</td>\n",
       "    </tr>\n",
       "    <tr>\n",
       "      <th>speed_mean</th>\n",
       "      <td>43.980892</td>\n",
       "      <td>40.602804</td>\n",
       "    </tr>\n",
       "    <tr>\n",
       "      <th>speed_var</th>\n",
       "      <td>189.685530</td>\n",
       "      <td>143.151354</td>\n",
       "    </tr>\n",
       "    <tr>\n",
       "      <th>distance_min</th>\n",
       "      <td>4.100000</td>\n",
       "      <td>2.900000</td>\n",
       "    </tr>\n",
       "    <tr>\n",
       "      <th>distance_max</th>\n",
       "      <td>130.300000</td>\n",
       "      <td>56.100000</td>\n",
       "    </tr>\n",
       "    <tr>\n",
       "      <th>distance_mean</th>\n",
       "      <td>21.463057</td>\n",
       "      <td>15.987383</td>\n",
       "    </tr>\n",
       "    <tr>\n",
       "      <th>distance_var</th>\n",
       "      <td>413.091960</td>\n",
       "      <td>68.495192</td>\n",
       "    </tr>\n",
       "    <tr>\n",
       "      <th>consume_100Km_min</th>\n",
       "      <td>0.163800</td>\n",
       "      <td>0.203500</td>\n",
       "    </tr>\n",
       "    <tr>\n",
       "      <th>consume_100Km_max</th>\n",
       "      <td>5.993800</td>\n",
       "      <td>2.692800</td>\n",
       "    </tr>\n",
       "    <tr>\n",
       "      <th>consume_100Km_mean</th>\n",
       "      <td>1.025246</td>\n",
       "      <td>0.748552</td>\n",
       "    </tr>\n",
       "    <tr>\n",
       "      <th>consume_100Km_var</th>\n",
       "      <td>0.918898</td>\n",
       "      <td>0.136241</td>\n",
       "    </tr>\n",
       "  </tbody>\n",
       "</table>\n",
       "</div>"
      ],
      "text/plain": [
       "gas_type                     0           1\n",
       "speed_min            16.000000   16.000000\n",
       "speed_max            88.000000   82.000000\n",
       "speed_mean           43.980892   40.602804\n",
       "speed_var           189.685530  143.151354\n",
       "distance_min          4.100000    2.900000\n",
       "distance_max        130.300000   56.100000\n",
       "distance_mean        21.463057   15.987383\n",
       "distance_var        413.091960   68.495192\n",
       "consume_100Km_min     0.163800    0.203500\n",
       "consume_100Km_max     5.993800    2.692800\n",
       "consume_100Km_mean    1.025246    0.748552\n",
       "consume_100Km_var     0.918898    0.136241"
      ]
     },
     "execution_count": 526,
     "metadata": {},
     "output_type": "execute_result"
    }
   ],
   "source": [
    "df_groupby.T"
   ]
  },
  {
   "cell_type": "markdown",
   "metadata": {},
   "source": [
    "### speed outliers"
   ]
  },
  {
   "cell_type": "code",
   "execution_count": 527,
   "metadata": {},
   "outputs": [
    {
     "name": "stderr",
     "output_type": "stream",
     "text": [
      "C:\\Users\\pinil\\anaconda3\\lib\\site-packages\\seaborn\\distributions.py:2557: FutureWarning: `distplot` is a deprecated function and will be removed in a future version. Please adapt your code to use either `displot` (a figure-level function with similar flexibility) or `histplot` (an axes-level function for histograms).\n",
      "  warnings.warn(msg, FutureWarning)\n"
     ]
    },
    {
     "data": {
      "image/png": "[encoded data removed]",
      "text/plain": [
       "<Figure size 432x288 with 1 Axes>"
      ]
     },
     "metadata": {},
     "output_type": "display_data"
    }
   ],
   "source": [
    "# histogram and kernel density estimation function of the variable height\n",
    "ax = sns.distplot(df_train.speed, hist=True, hist_kws={\"edgecolor\": 'w', \"linewidth\": 3}, kde_kws={\"linewidth\": 3})\n",
    "\n",
    "plt.xticks(fontsize=14)\n",
    "plt.yticks(fontsize=14)\n",
    "\n",
    "# labels and title\n",
    "plt.xlabel('speed', fontsize=14)\n",
    "plt.ylabel('frequency', fontsize=14)\n",
    "plt.title('Distribution of speed', fontsize=20);"
   ]
  },
  {
   "cell_type": "code",
   "execution_count": 528,
   "metadata": {},
   "outputs": [
    {
     "name": "stderr",
     "output_type": "stream",
     "text": [
      "C:\\Users\\pinil\\anaconda3\\lib\\site-packages\\seaborn\\_decorators.py:36: FutureWarning: Pass the following variable as a keyword arg: x. From version 0.12, the only valid positional argument will be `data`, and passing other arguments without an explicit keyword will result in an error or misinterpretation.\n",
      "  warnings.warn(\n"
     ]
    },
    {
     "data": {
      "text/plain": [
       "Text(0.5, 1.0, 'Distribution of speed')"
      ]
     },
     "execution_count": 528,
     "metadata": {},
     "output_type": "execute_result"
    },
    {
     "data": {
      "image/png": "[encoded data removed]",
      "text/plain": [
       "<Figure size 432x288 with 1 Axes>"
      ]
     },
     "metadata": {},
     "output_type": "display_data"
    }
   ],
   "source": [
    "# box plot of the variable consume\n",
    "ax = sns.boxplot(df_train.speed)\n",
    "\n",
    "# notation indicating an outlier\n",
    "ax.annotate('Outlier', xy=(80,0), xytext=(75,-0.05), fontsize=14,\n",
    "            arrowprops=dict(arrowstyle='->', ec='grey', lw=2), bbox = dict(boxstyle=\"round\", fc=\"0.8\"))\n",
    "ax.annotate('Outlier', xy=(90,0), xytext=(95,-0.05), fontsize=14,\n",
    "            arrowprops=dict(arrowstyle='->', ec='grey', lw=2), bbox = dict(boxstyle=\"round\", fc=\"0.8\"))\n",
    "\n",
    "# xtick, label, and title\n",
    "plt.xticks(fontsize=14)\n",
    "plt.xlabel('speed', fontsize=14)\n",
    "plt.title('Distribution of speed', fontsize=20)"
   ]
  },
  {
   "cell_type": "markdown",
   "metadata": {},
   "source": [
    "### consume outliers"
   ]
  },
  {
   "cell_type": "code",
   "execution_count": 529,
   "metadata": {},
   "outputs": [
    {
     "name": "stderr",
     "output_type": "stream",
     "text": [
      "C:\\Users\\pinil\\anaconda3\\lib\\site-packages\\seaborn\\distributions.py:2557: FutureWarning: `distplot` is a deprecated function and will be removed in a future version. Please adapt your code to use either `displot` (a figure-level function with similar flexibility) or `histplot` (an axes-level function for histograms).\n",
      "  warnings.warn(msg, FutureWarning)\n"
     ]
    },
    {
     "data": {
      "image/png": "[encoded data removed]",
      "text/plain": [
       "<Figure size 432x288 with 1 Axes>"
      ]
     },
     "metadata": {},
     "output_type": "display_data"
    }
   ],
   "source": [
    "# histogram and kernel density estimation function of the variable consume\n",
    "ax = sns.distplot(df_train.consume_100Km, hist=True, hist_kws={\"edgecolor\": 'w', \"linewidth\": 3}, kde_kws={\"linewidth\": 3})\n",
    "\n",
    "plt.xticks(fontsize=14)\n",
    "plt.yticks(fontsize=14)\n",
    "\n",
    "# labels and title\n",
    "plt.xlabel('consume / 100 Km', fontsize=14)\n",
    "plt.ylabel('frequency', fontsize=14)\n",
    "plt.title('Distribution of consume', fontsize=20);"
   ]
  },
  {
   "cell_type": "code",
   "execution_count": 530,
   "metadata": {},
   "outputs": [
    {
     "name": "stderr",
     "output_type": "stream",
     "text": [
      "C:\\Users\\pinil\\anaconda3\\lib\\site-packages\\seaborn\\_decorators.py:36: FutureWarning: Pass the following variable as a keyword arg: x. From version 0.12, the only valid positional argument will be `data`, and passing other arguments without an explicit keyword will result in an error or misinterpretation.\n",
      "  warnings.warn(\n"
     ]
    },
    {
     "data": {
      "text/plain": [
       "Text(0.5, 1.0, 'Distribution of consume')"
      ]
     },
     "execution_count": 530,
     "metadata": {},
     "output_type": "execute_result"
    },
    {
     "data": {
      "image/png": "[encoded data removed]",
      "text/plain": [
       "<Figure size 432x288 with 1 Axes>"
      ]
     },
     "metadata": {},
     "output_type": "display_data"
    }
   ],
   "source": [
    "# box plot of the variable consume\n",
    "ax = sns.boxplot(df_train.consume_100Km)\n",
    "\n",
    "# notation indicating an outlier\n",
    "ax.annotate('Outlier', xy=(9,0), xytext=(8,-0.05), fontsize=14,\n",
    "            arrowprops=dict(arrowstyle='->', ec='grey', lw=2), bbox = dict(boxstyle=\"round\", fc=\"0.8\"))\n",
    "\n",
    "# xtick, label, and title\n",
    "plt.xticks(fontsize=14)\n",
    "plt.xlabel('consume_100Km', fontsize=14)\n",
    "plt.title('Distribution of consume', fontsize=20)"
   ]
  },
  {
   "cell_type": "code",
   "execution_count": 531,
   "metadata": {},
   "outputs": [],
   "source": [
    "q_low = df_train[\"consume\"].quantile(0.01)\n",
    "q_hi = df_train[\"consume\"].quantile(0.99)\n",
    "\n",
    "df_train = df_train[(df_train[\"consume\"] < q_hi) & (df_train[\"consume\"] > q_low)]"
   ]
  },
  {
   "cell_type": "code",
   "execution_count": 532,
   "metadata": {},
   "outputs": [
    {
     "name": "stderr",
     "output_type": "stream",
     "text": [
      "C:\\Users\\pinil\\anaconda3\\lib\\site-packages\\seaborn\\distributions.py:2557: FutureWarning: `distplot` is a deprecated function and will be removed in a future version. Please adapt your code to use either `displot` (a figure-level function with similar flexibility) or `histplot` (an axes-level function for histograms).\n",
      "  warnings.warn(msg, FutureWarning)\n"
     ]
    },
    {
     "data": {
      "image/png": "[encoded data removed]",
      "text/plain": [
       "<Figure size 432x288 with 1 Axes>"
      ]
     },
     "metadata": {},
     "output_type": "display_data"
    }
   ],
   "source": [
    "# histogram and kernel density estimation function of the variable consume\n",
    "ax = sns.distplot(df_train.consume, hist=True, hist_kws={\"edgecolor\": 'w', \"linewidth\": 3}, kde_kws={\"linewidth\": 3})\n",
    "\n",
    "plt.xticks(fontsize=14)\n",
    "plt.yticks(fontsize=14)\n",
    "\n",
    "# labels and title\n",
    "plt.xlabel('consume', fontsize=14)\n",
    "plt.ylabel('frequency', fontsize=14)\n",
    "plt.title('Distribution of consume', fontsize=20);"
   ]
  },
  {
   "cell_type": "markdown",
   "metadata": {},
   "source": [
    "### distance outliers"
   ]
  },
  {
   "cell_type": "code",
   "execution_count": 533,
   "metadata": {},
   "outputs": [
    {
     "name": "stderr",
     "output_type": "stream",
     "text": [
      "C:\\Users\\pinil\\anaconda3\\lib\\site-packages\\seaborn\\distributions.py:2557: FutureWarning: `distplot` is a deprecated function and will be removed in a future version. Please adapt your code to use either `displot` (a figure-level function with similar flexibility) or `histplot` (an axes-level function for histograms).\n",
      "  warnings.warn(msg, FutureWarning)\n"
     ]
    },
    {
     "data": {
      "image/png": "[encoded data removed]",
      "text/plain": [
       "<Figure size 432x288 with 1 Axes>"
      ]
     },
     "metadata": {},
     "output_type": "display_data"
    }
   ],
   "source": [
    "# histogram and kernel density estimation function of the variable consume\n",
    "ax = sns.distplot(df_train.distance, hist=True, hist_kws={\"edgecolor\": 'w', \"linewidth\": 3}, kde_kws={\"linewidth\": 3})\n",
    "\n",
    "plt.xticks(fontsize=14)\n",
    "plt.yticks(fontsize=14)\n",
    "\n",
    "# labels and title\n",
    "plt.xlabel('distance', fontsize=14)\n",
    "plt.ylabel('frequency', fontsize=14)\n",
    "plt.title('Distribution of distance', fontsize=20);"
   ]
  },
  {
   "cell_type": "code",
   "execution_count": 617,
   "metadata": {},
   "outputs": [
    {
     "name": "stderr",
     "output_type": "stream",
     "text": [
      "C:\\Users\\pinil\\anaconda3\\lib\\site-packages\\seaborn\\_decorators.py:36: FutureWarning: Pass the following variable as a keyword arg: x. From version 0.12, the only valid positional argument will be `data`, and passing other arguments without an explicit keyword will result in an error or misinterpretation.\n",
      "  warnings.warn(\n"
     ]
    },
    {
     "ename": "TypeError",
     "evalue": "Horizontal orientation requires numeric `x` variable.",
     "output_type": "error",
     "traceback": [
      "\u001b[1;31m---------------------------------------------------------------------------\u001b[0m",
      "\u001b[1;31mTypeError\u001b[0m                                 Traceback (most recent call last)",
      "\u001b[1;32m<ipython-input-617-517f2f3cc7d0>\u001b[0m in \u001b[0;36m<module>\u001b[1;34m\u001b[0m\n\u001b[0;32m      1\u001b[0m \u001b[1;31m# box plot of the variable consume\u001b[0m\u001b[1;33m\u001b[0m\u001b[1;33m\u001b[0m\u001b[1;33m\u001b[0m\u001b[0m\n\u001b[1;32m----> 2\u001b[1;33m \u001b[0max\u001b[0m \u001b[1;33m=\u001b[0m \u001b[0msns\u001b[0m\u001b[1;33m.\u001b[0m\u001b[0mboxplot\u001b[0m\u001b[1;33m(\u001b[0m\u001b[0mdf_train\u001b[0m\u001b[1;33m.\u001b[0m\u001b[0mdistance\u001b[0m\u001b[1;33m)\u001b[0m\u001b[1;33m\u001b[0m\u001b[1;33m\u001b[0m\u001b[0m\n\u001b[0m\u001b[0;32m      3\u001b[0m \u001b[1;33m\u001b[0m\u001b[0m\n\u001b[0;32m      4\u001b[0m \u001b[1;31m# notation indicating an outlier\u001b[0m\u001b[1;33m\u001b[0m\u001b[1;33m\u001b[0m\u001b[1;33m\u001b[0m\u001b[0m\n\u001b[0;32m      5\u001b[0m ax.annotate('Outlier', xy=(9,0), xytext=(8,-0.05), fontsize=14,\n",
      "\u001b[1;32m~\\anaconda3\\lib\\site-packages\\seaborn\\_decorators.py\u001b[0m in \u001b[0;36minner_f\u001b[1;34m(*args, **kwargs)\u001b[0m\n\u001b[0;32m     44\u001b[0m             )\n\u001b[0;32m     45\u001b[0m         \u001b[0mkwargs\u001b[0m\u001b[1;33m.\u001b[0m\u001b[0mupdate\u001b[0m\u001b[1;33m(\u001b[0m\u001b[1;33m{\u001b[0m\u001b[0mk\u001b[0m\u001b[1;33m:\u001b[0m \u001b[0marg\u001b[0m \u001b[1;32mfor\u001b[0m \u001b[0mk\u001b[0m\u001b[1;33m,\u001b[0m \u001b[0marg\u001b[0m \u001b[1;32min\u001b[0m \u001b[0mzip\u001b[0m\u001b[1;33m(\u001b[0m\u001b[0msig\u001b[0m\u001b[1;33m.\u001b[0m\u001b[0mparameters\u001b[0m\u001b[1;33m,\u001b[0m \u001b[0margs\u001b[0m\u001b[1;33m)\u001b[0m\u001b[1;33m}\u001b[0m\u001b[1;33m)\u001b[0m\u001b[1;33m\u001b[0m\u001b[1;33m\u001b[0m\u001b[0m\n\u001b[1;32m---> 46\u001b[1;33m         \u001b[1;32mreturn\u001b[0m \u001b[0mf\u001b[0m\u001b[1;33m(\u001b[0m\u001b[1;33m**\u001b[0m\u001b[0mkwargs\u001b[0m\u001b[1;33m)\u001b[0m\u001b[1;33m\u001b[0m\u001b[1;33m\u001b[0m\u001b[0m\n\u001b[0m\u001b[0;32m     47\u001b[0m     \u001b[1;32mreturn\u001b[0m \u001b[0minner_f\u001b[0m\u001b[1;33m\u001b[0m\u001b[1;33m\u001b[0m\u001b[0m\n\u001b[0;32m     48\u001b[0m \u001b[1;33m\u001b[0m\u001b[0m\n",
      "\u001b[1;32m~\\anaconda3\\lib\\site-packages\\seaborn\\categorical.py\u001b[0m in \u001b[0;36mboxplot\u001b[1;34m(x, y, hue, data, order, hue_order, orient, color, palette, saturation, width, dodge, fliersize, linewidth, whis, ax, **kwargs)\u001b[0m\n\u001b[0;32m   2238\u001b[0m ):\n\u001b[0;32m   2239\u001b[0m \u001b[1;33m\u001b[0m\u001b[0m\n\u001b[1;32m-> 2240\u001b[1;33m     plotter = _BoxPlotter(x, y, hue, data, order, hue_order,\n\u001b[0m\u001b[0;32m   2241\u001b[0m                           \u001b[0morient\u001b[0m\u001b[1;33m,\u001b[0m \u001b[0mcolor\u001b[0m\u001b[1;33m,\u001b[0m \u001b[0mpalette\u001b[0m\u001b[1;33m,\u001b[0m \u001b[0msaturation\u001b[0m\u001b[1;33m,\u001b[0m\u001b[1;33m\u001b[0m\u001b[1;33m\u001b[0m\u001b[0m\n\u001b[0;32m   2242\u001b[0m                           width, dodge, fliersize, linewidth)\n",
      "\u001b[1;32m~\\anaconda3\\lib\\site-packages\\seaborn\\categorical.py\u001b[0m in \u001b[0;36m__init__\u001b[1;34m(self, x, y, hue, data, order, hue_order, orient, color, palette, saturation, width, dodge, fliersize, linewidth)\u001b[0m\n\u001b[0;32m    404\u001b[0m                  width, dodge, fliersize, linewidth):\n\u001b[0;32m    405\u001b[0m \u001b[1;33m\u001b[0m\u001b[0m\n\u001b[1;32m--> 406\u001b[1;33m         \u001b[0mself\u001b[0m\u001b[1;33m.\u001b[0m\u001b[0mestablish_variables\u001b[0m\u001b[1;33m(\u001b[0m\u001b[0mx\u001b[0m\u001b[1;33m,\u001b[0m \u001b[0my\u001b[0m\u001b[1;33m,\u001b[0m \u001b[0mhue\u001b[0m\u001b[1;33m,\u001b[0m \u001b[0mdata\u001b[0m\u001b[1;33m,\u001b[0m \u001b[0morient\u001b[0m\u001b[1;33m,\u001b[0m \u001b[0morder\u001b[0m\u001b[1;33m,\u001b[0m \u001b[0mhue_order\u001b[0m\u001b[1;33m)\u001b[0m\u001b[1;33m\u001b[0m\u001b[1;33m\u001b[0m\u001b[0m\n\u001b[0m\u001b[0;32m    407\u001b[0m         \u001b[0mself\u001b[0m\u001b[1;33m.\u001b[0m\u001b[0mestablish_colors\u001b[0m\u001b[1;33m(\u001b[0m\u001b[0mcolor\u001b[0m\u001b[1;33m,\u001b[0m \u001b[0mpalette\u001b[0m\u001b[1;33m,\u001b[0m \u001b[0msaturation\u001b[0m\u001b[1;33m)\u001b[0m\u001b[1;33m\u001b[0m\u001b[1;33m\u001b[0m\u001b[0m\n\u001b[0;32m    408\u001b[0m \u001b[1;33m\u001b[0m\u001b[0m\n",
      "\u001b[1;32m~\\anaconda3\\lib\\site-packages\\seaborn\\categorical.py\u001b[0m in \u001b[0;36mestablish_variables\u001b[1;34m(self, x, y, hue, data, orient, order, hue_order, units)\u001b[0m\n\u001b[0;32m    154\u001b[0m \u001b[1;33m\u001b[0m\u001b[0m\n\u001b[0;32m    155\u001b[0m             \u001b[1;31m# Figure out the plotting orientation\u001b[0m\u001b[1;33m\u001b[0m\u001b[1;33m\u001b[0m\u001b[1;33m\u001b[0m\u001b[0m\n\u001b[1;32m--> 156\u001b[1;33m             orient = infer_orient(\n\u001b[0m\u001b[0;32m    157\u001b[0m                 \u001b[0mx\u001b[0m\u001b[1;33m,\u001b[0m \u001b[0my\u001b[0m\u001b[1;33m,\u001b[0m \u001b[0morient\u001b[0m\u001b[1;33m,\u001b[0m \u001b[0mrequire_numeric\u001b[0m\u001b[1;33m=\u001b[0m\u001b[0mself\u001b[0m\u001b[1;33m.\u001b[0m\u001b[0mrequire_numeric\u001b[0m\u001b[1;33m\u001b[0m\u001b[1;33m\u001b[0m\u001b[0m\n\u001b[0;32m    158\u001b[0m             )\n",
      "\u001b[1;32m~\\anaconda3\\lib\\site-packages\\seaborn\\_core.py\u001b[0m in \u001b[0;36minfer_orient\u001b[1;34m(x, y, orient, require_numeric)\u001b[0m\n\u001b[0;32m   1319\u001b[0m             \u001b[0mwarnings\u001b[0m\u001b[1;33m.\u001b[0m\u001b[0mwarn\u001b[0m\u001b[1;33m(\u001b[0m\u001b[0msingle_var_warning\u001b[0m\u001b[1;33m.\u001b[0m\u001b[0mformat\u001b[0m\u001b[1;33m(\u001b[0m\u001b[1;34m\"Vertical\"\u001b[0m\u001b[1;33m,\u001b[0m \u001b[1;34m\"x\"\u001b[0m\u001b[1;33m)\u001b[0m\u001b[1;33m)\u001b[0m\u001b[1;33m\u001b[0m\u001b[1;33m\u001b[0m\u001b[0m\n\u001b[0;32m   1320\u001b[0m         \u001b[1;32mif\u001b[0m \u001b[0mrequire_numeric\u001b[0m \u001b[1;32mand\u001b[0m \u001b[0mx_type\u001b[0m \u001b[1;33m!=\u001b[0m \u001b[1;34m\"numeric\"\u001b[0m\u001b[1;33m:\u001b[0m\u001b[1;33m\u001b[0m\u001b[1;33m\u001b[0m\u001b[0m\n\u001b[1;32m-> 1321\u001b[1;33m             \u001b[1;32mraise\u001b[0m \u001b[0mTypeError\u001b[0m\u001b[1;33m(\u001b[0m\u001b[0mnonnumeric_dv_error\u001b[0m\u001b[1;33m.\u001b[0m\u001b[0mformat\u001b[0m\u001b[1;33m(\u001b[0m\u001b[1;34m\"Horizontal\"\u001b[0m\u001b[1;33m,\u001b[0m \u001b[1;34m\"x\"\u001b[0m\u001b[1;33m)\u001b[0m\u001b[1;33m)\u001b[0m\u001b[1;33m\u001b[0m\u001b[1;33m\u001b[0m\u001b[0m\n\u001b[0m\u001b[0;32m   1322\u001b[0m         \u001b[1;32mreturn\u001b[0m \u001b[1;34m\"h\"\u001b[0m\u001b[1;33m\u001b[0m\u001b[1;33m\u001b[0m\u001b[0m\n\u001b[0;32m   1323\u001b[0m \u001b[1;33m\u001b[0m\u001b[0m\n",
      "\u001b[1;31mTypeError\u001b[0m: Horizontal orientation requires numeric `x` variable."
     ]
    }
   ],
   "source": [
    "# box plot of the variable consume\n",
    "ax = sns.boxplot(df_train.distance)\n",
    "\n",
    "# notation indicating an outlier\n",
    "ax.annotate('Outlier', xy=(9,0), xytext=(8,-0.05), fontsize=14,\n",
    "            arrowprops=dict(arrowstyle='->', ec='grey', lw=2), bbox = dict(boxstyle=\"round\", fc=\"0.8\"))\n",
    "\n",
    "# xtick, label, and title\n",
    "plt.xticks(fontsize=14)\n",
    "plt.xlabel('distance', fontsize=14)\n",
    "plt.title('Distribution of distance', fontsize=20)"
   ]
  },
  {
   "cell_type": "code",
   "execution_count": 535,
   "metadata": {},
   "outputs": [],
   "source": [
    "q_low = df_train[\"distance\"].quantile(0.01)\n",
    "q_hi = df_train[\"distance\"].quantile(0.99)\n",
    "\n",
    "df_train = df_train[(df_train[\"distance\"] < q_hi) & (df_train[\"distance\"] > q_low)]"
   ]
  },
  {
   "cell_type": "code",
   "execution_count": 536,
   "metadata": {},
   "outputs": [
    {
     "name": "stderr",
     "output_type": "stream",
     "text": [
      "C:\\Users\\pinil\\anaconda3\\lib\\site-packages\\seaborn\\distributions.py:2557: FutureWarning: `distplot` is a deprecated function and will be removed in a future version. Please adapt your code to use either `displot` (a figure-level function with similar flexibility) or `histplot` (an axes-level function for histograms).\n",
      "  warnings.warn(msg, FutureWarning)\n"
     ]
    },
    {
     "data": {
      "image/png": "[encoded data removed]",
      "text/plain": [
       "<Figure size 432x288 with 1 Axes>"
      ]
     },
     "metadata": {},
     "output_type": "display_data"
    }
   ],
   "source": [
    "# histogram and kernel density estimation function of the variable consume\n",
    "ax = sns.distplot(df_train.distance, hist=True, hist_kws={\"edgecolor\": 'w', \"linewidth\": 3}, kde_kws={\"linewidth\": 3})\n",
    "\n",
    "plt.xticks(fontsize=14)\n",
    "plt.yticks(fontsize=14)\n",
    "\n",
    "# labels and title\n",
    "plt.xlabel('distance', fontsize=14)\n",
    "plt.ylabel('frequency', fontsize=14)\n",
    "plt.title('Distribution of distance', fontsize=20);"
   ]
  },
  {
   "cell_type": "code",
   "execution_count": 537,
   "metadata": {},
   "outputs": [
    {
     "data": {
      "text/html": [
       "<div>\n",
       "<style scoped>\n",
       "    .dataframe tbody tr th:only-of-type {\n",
       "        vertical-align: middle;\n",
       "    }\n",
       "\n",
       "    .dataframe tbody tr th {\n",
       "        vertical-align: top;\n",
       "    }\n",
       "\n",
       "    .dataframe thead th {\n",
       "        text-align: right;\n",
       "    }\n",
       "</style>\n",
       "<table border=\"1\" class=\"dataframe\">\n",
       "  <thead>\n",
       "    <tr style=\"text-align: right;\">\n",
       "      <th></th>\n",
       "      <th>distance</th>\n",
       "      <th>consume</th>\n",
       "      <th>speed</th>\n",
       "      <th>temp_inside</th>\n",
       "      <th>temp_outside</th>\n",
       "      <th>gas_type</th>\n",
       "      <th>AC</th>\n",
       "      <th>rain</th>\n",
       "      <th>sun</th>\n",
       "      <th>consume_100Km</th>\n",
       "    </tr>\n",
       "  </thead>\n",
       "  <tbody>\n",
       "    <tr>\n",
       "      <th>consume</th>\n",
       "      <td>-19.328871</td>\n",
       "      <td>100.000000</td>\n",
       "      <td>-10.660054</td>\n",
       "      <td>-14.960494</td>\n",
       "      <td>-40.515699</td>\n",
       "      <td>-3.317682</td>\n",
       "      <td>4.542825</td>\n",
       "      <td>27.351497</td>\n",
       "      <td>-19.047784</td>\n",
       "      <td>-0.639884</td>\n",
       "    </tr>\n",
       "    <tr>\n",
       "      <th>rain</th>\n",
       "      <td>-4.111819</td>\n",
       "      <td>27.351497</td>\n",
       "      <td>2.659649</td>\n",
       "      <td>-2.075481</td>\n",
       "      <td>-17.197077</td>\n",
       "      <td>5.746854</td>\n",
       "      <td>20.559670</td>\n",
       "      <td>100.000000</td>\n",
       "      <td>-10.998422</td>\n",
       "      <td>2.075743</td>\n",
       "    </tr>\n",
       "    <tr>\n",
       "      <th>AC</th>\n",
       "      <td>2.896457</td>\n",
       "      <td>4.542825</td>\n",
       "      <td>-1.100556</td>\n",
       "      <td>35.051096</td>\n",
       "      <td>20.572996</td>\n",
       "      <td>9.916979</td>\n",
       "      <td>100.000000</td>\n",
       "      <td>20.559670</td>\n",
       "      <td>11.188064</td>\n",
       "      <td>4.206289</td>\n",
       "    </tr>\n",
       "    <tr>\n",
       "      <th>consume_100Km</th>\n",
       "      <td>97.784761</td>\n",
       "      <td>-0.639884</td>\n",
       "      <td>47.215599</td>\n",
       "      <td>1.415629</td>\n",
       "      <td>-2.614758</td>\n",
       "      <td>-17.257073</td>\n",
       "      <td>4.206289</td>\n",
       "      <td>2.075743</td>\n",
       "      <td>3.747622</td>\n",
       "      <td>100.000000</td>\n",
       "    </tr>\n",
       "    <tr>\n",
       "      <th>gas_type</th>\n",
       "      <td>-15.443003</td>\n",
       "      <td>-3.317682</td>\n",
       "      <td>-10.246655</td>\n",
       "      <td>2.611744</td>\n",
       "      <td>17.052824</td>\n",
       "      <td>100.000000</td>\n",
       "      <td>9.916979</td>\n",
       "      <td>5.746854</td>\n",
       "      <td>0.473920</td>\n",
       "      <td>-17.257073</td>\n",
       "    </tr>\n",
       "    <tr>\n",
       "      <th>speed</th>\n",
       "      <td>47.216761</td>\n",
       "      <td>-10.660054</td>\n",
       "      <td>100.000000</td>\n",
       "      <td>3.985971</td>\n",
       "      <td>-0.453907</td>\n",
       "      <td>-10.246655</td>\n",
       "      <td>-1.100556</td>\n",
       "      <td>2.659649</td>\n",
       "      <td>9.603277</td>\n",
       "      <td>47.215599</td>\n",
       "    </tr>\n",
       "    <tr>\n",
       "      <th>temp_inside</th>\n",
       "      <td>4.069561</td>\n",
       "      <td>-14.960494</td>\n",
       "      <td>3.985971</td>\n",
       "      <td>100.000000</td>\n",
       "      <td>35.439341</td>\n",
       "      <td>2.611744</td>\n",
       "      <td>35.051096</td>\n",
       "      <td>-2.075481</td>\n",
       "      <td>23.173143</td>\n",
       "      <td>1.415629</td>\n",
       "    </tr>\n",
       "    <tr>\n",
       "      <th>sun</th>\n",
       "      <td>8.265346</td>\n",
       "      <td>-19.047784</td>\n",
       "      <td>9.603277</td>\n",
       "      <td>23.173143</td>\n",
       "      <td>31.315166</td>\n",
       "      <td>0.473920</td>\n",
       "      <td>11.188064</td>\n",
       "      <td>-10.998422</td>\n",
       "      <td>100.000000</td>\n",
       "      <td>3.747622</td>\n",
       "    </tr>\n",
       "    <tr>\n",
       "      <th>distance</th>\n",
       "      <td>100.000000</td>\n",
       "      <td>-19.328871</td>\n",
       "      <td>47.216761</td>\n",
       "      <td>4.069561</td>\n",
       "      <td>6.752227</td>\n",
       "      <td>-15.443003</td>\n",
       "      <td>2.896457</td>\n",
       "      <td>-4.111819</td>\n",
       "      <td>8.265346</td>\n",
       "      <td>97.784761</td>\n",
       "    </tr>\n",
       "    <tr>\n",
       "      <th>temp_outside</th>\n",
       "      <td>6.752227</td>\n",
       "      <td>-40.515699</td>\n",
       "      <td>-0.453907</td>\n",
       "      <td>35.439341</td>\n",
       "      <td>100.000000</td>\n",
       "      <td>17.052824</td>\n",
       "      <td>20.572996</td>\n",
       "      <td>-17.197077</td>\n",
       "      <td>31.315166</td>\n",
       "      <td>-2.614758</td>\n",
       "    </tr>\n",
       "  </tbody>\n",
       "</table>\n",
       "</div>"
      ],
      "text/plain": [
       "                 distance     consume       speed  temp_inside  temp_outside  \\\n",
       "consume        -19.328871  100.000000  -10.660054   -14.960494    -40.515699   \n",
       "rain            -4.111819   27.351497    2.659649    -2.075481    -17.197077   \n",
       "AC               2.896457    4.542825   -1.100556    35.051096     20.572996   \n",
       "consume_100Km   97.784761   -0.639884   47.215599     1.415629     -2.614758   \n",
       "gas_type       -15.443003   -3.317682  -10.246655     2.611744     17.052824   \n",
       "speed           47.216761  -10.660054  100.000000     3.985971     -0.453907   \n",
       "temp_inside      4.069561  -14.960494    3.985971   100.000000     35.439341   \n",
       "sun              8.265346  -19.047784    9.603277    23.173143     31.315166   \n",
       "distance       100.000000  -19.328871   47.216761     4.069561      6.752227   \n",
       "temp_outside     6.752227  -40.515699   -0.453907    35.439341    100.000000   \n",
       "\n",
       "                 gas_type          AC        rain         sun  consume_100Km  \n",
       "consume         -3.317682    4.542825   27.351497  -19.047784      -0.639884  \n",
       "rain             5.746854   20.559670  100.000000  -10.998422       2.075743  \n",
       "AC               9.916979  100.000000   20.559670   11.188064       4.206289  \n",
       "consume_100Km  -17.257073    4.206289    2.075743    3.747622     100.000000  \n",
       "gas_type       100.000000    9.916979    5.746854    0.473920     -17.257073  \n",
       "speed          -10.246655   -1.100556    2.659649    9.603277      47.215599  \n",
       "temp_inside      2.611744   35.051096   -2.075481   23.173143       1.415629  \n",
       "sun              0.473920   11.188064  -10.998422  100.000000       3.747622  \n",
       "distance       -15.443003    2.896457   -4.111819    8.265346      97.784761  \n",
       "temp_outside    17.052824   20.572996  -17.197077   31.315166      -2.614758  "
      ]
     },
     "execution_count": 537,
     "metadata": {},
     "output_type": "execute_result"
    }
   ],
   "source": [
    "corr = (df_train.corr().sort_values('consume', ascending=False))*100\n",
    "corr"
   ]
  },
  {
   "cell_type": "code",
   "execution_count": 538,
   "metadata": {},
   "outputs": [
    {
     "data": {
      "text/plain": [
       "(10.5, -0.5)"
      ]
     },
     "execution_count": 538,
     "metadata": {},
     "output_type": "execute_result"
    },
    {
     "data": {
      "image/png": "[encoded data removed]",
      "text/plain": [
       "<Figure size 720x720 with 2 Axes>"
      ]
     },
     "metadata": {},
     "output_type": "display_data"
    }
   ],
   "source": [
    "sns.set(style=\"white\")\n",
    "# Generate a mask for the upper triangle\n",
    "mask = np.zeros_like(df_train.corr(), dtype=np.bool)\n",
    "mask[np.triu_indices_from(mask)] = True\n",
    "# Set up the matplotlib figure to control size of heatmap\n",
    "fig, ax = plt.subplots(figsize=(10,10))\n",
    "# Create a custom color palette\n",
    "cmap = sns.diverging_palette(255, 10, as_cmap=True)  # as_cmap returns a matplotlib colormap object rather than a list of colors\n",
    "# Red=10, Green=128, Blue=255\n",
    "# Plot the heatmap\n",
    "sns.heatmap(df_train.corr(), mask=mask, annot=True, square=True, cmap=cmap , vmin=-1, vmax=1, ax=ax)  # annot display corr label\n",
    "# Prevent Heatmap Cut-Off Issue\n",
    "bottom, top = ax.get_ylim()\n",
    "ax.set_ylim(bottom+0.5, top-0.5)"
   ]
  },
  {
   "cell_type": "markdown",
   "metadata": {},
   "source": [
    "### Feature selection.2"
   ]
  },
  {
   "cell_type": "code",
   "execution_count": 540,
   "metadata": {},
   "outputs": [],
   "source": [
    "X = df_train[['speed', 'temp_inside','distance','consume', 'temp_outside',\n",
    "       'gas_type', 'AC', 'rain', 'sun']].values\n",
    "y = df_train['consume_100Km'].values"
   ]
  },
  {
   "cell_type": "code",
   "execution_count": 541,
   "metadata": {},
   "outputs": [],
   "source": [
    "X_train,X_test,y_train,y_test = train_test_split(X,y, random_state=9, train_size = 0.8)"
   ]
  },
  {
   "cell_type": "markdown",
   "metadata": {},
   "source": [
    "## Models pipelines"
   ]
  },
  {
   "cell_type": "code",
   "execution_count": 542,
   "metadata": {},
   "outputs": [],
   "source": [
    "\n",
    "# We train different model to see which give us less error\n",
    "models = { \"ridge\": Ridge(),\n",
    "          \"lasso\": Lasso(),\n",
    "          \"sgd\": SGDRegressor(),\n",
    "          \"knn\": KNeighborsRegressor(),\n",
    "          \"gradient\": GradientBoostingRegressor(),\n",
    "          \"rdm\": RandomForestRegressor(),}"
   ]
  },
  {
   "cell_type": "code",
   "execution_count": 543,
   "metadata": {},
   "outputs": [],
   "source": [
    "# Building pipelins of standard scaler and model for varios regressors.\n",
    "\n",
    "pipeline_lr=Pipeline([(\"scalar1\",StandardScaler()),\n",
    "                     (\"lr_classifier\",LinearRegression())])\n",
    "\n",
    "pipeline_dt=Pipeline([(\"scalar2\",StandardScaler()),\n",
    "                     (\"dt_classifier\",DecisionTreeRegressor())])\n",
    "\n",
    "pipeline_rf=Pipeline([(\"scalar3\",StandardScaler()),\n",
    "                     (\"rf_classifier\",RandomForestRegressor())])\n",
    "\n",
    "pipeline_kn=Pipeline([(\"scalar4\",StandardScaler()),\n",
    "                     (\"rf_classifier\",KNeighborsRegressor())])\n",
    "\n",
    "pipeline_xgb=Pipeline([(\"scalar5\",StandardScaler()),\n",
    "                     (\"rf_classifier\",XGBRegressor())])\n",
    "\n",
    "pipeline_ridge=Pipeline([(\"scalar6\",StandardScaler()),\n",
    "                     (\"rf_classifier\",Ridge())])\n",
    "\n",
    "pipeline_lasso=Pipeline([(\"scalar7\",StandardScaler()),\n",
    "                     (\"rf_classifier\",Lasso())])\n",
    "\n",
    "pipeline_xgbr=Pipeline([(\"scalar8\",StandardScaler()),\n",
    "                     (\"rf_classifier\",GradientBoostingRegressor())])"
   ]
  },
  {
   "cell_type": "code",
   "execution_count": 544,
   "metadata": {},
   "outputs": [],
   "source": [
    "# List of all the pipelines\n",
    "pipelines = [pipeline_lr, pipeline_dt, pipeline_rf, pipeline_kn, \n",
    "             pipeline_xgb, pipeline_ridge,pipeline_lasso, pipeline_xgbr]"
   ]
  },
  {
   "cell_type": "code",
   "execution_count": 545,
   "metadata": {},
   "outputs": [],
   "source": [
    "# Dictionary of pipelines and model types for ease of reference\n",
    "pipe_dict = {0: \"LinearRegression\", 1: \"DecisionTree\", 2: \"RandomForest\",\n",
    "             3: \"KNeighbors\", 4: \"XGBRegressor\", 5:\"Ridge\", 6:\"Lasso\",\n",
    "            7:'GradientBoostingRegressor'}"
   ]
  },
  {
   "cell_type": "code",
   "execution_count": 546,
   "metadata": {},
   "outputs": [],
   "source": [
    "# Fit the pipelines\n",
    "for pipe in pipelines:\n",
    "    pipe.fit(X_train, y_train)"
   ]
  },
  {
   "cell_type": "code",
   "execution_count": 547,
   "metadata": {},
   "outputs": [
    {
     "name": "stdout",
     "output_type": "stream",
     "text": [
      "LinearRegression: -0.047035 \n",
      "DecisionTree: -0.093148 \n",
      "RandomForest: -0.084951 \n",
      "KNeighbors: -0.231354 \n",
      "XGBRegressor: -0.072891 \n",
      "Ridge: -0.047132 \n",
      "Lasso: -0.504632 \n",
      "GradientBoostingRegressor: -0.066258 \n"
     ]
    }
   ],
   "source": [
    "cv_results_rms = []\n",
    "for i, model in enumerate(pipelines):\n",
    "    cv_score = cross_val_score(model, X_train,y_train,scoring=\"neg_root_mean_squared_error\", cv=10)\n",
    "    cv_results_rms.append(cv_score)\n",
    "    print(\"%s: %f \" % (pipe_dict[i], cv_score.mean()))"
   ]
  },
  {
   "cell_type": "code",
   "execution_count": 548,
   "metadata": {},
   "outputs": [
    {
     "name": "stdout",
     "output_type": "stream",
     "text": [
      "Pipeline(steps=[('scalar1', StandardScaler()),\n",
      "                ('lr_classifier', LinearRegression())]) R^2: 0.9925376978865574\n",
      "Adjusted R^2: 0.9922880297861076\n",
      "MAE: 0.02837607364261138\n",
      "MSE: 0.0020482755913549078\n",
      "RMSE: 0.04525787877657224\n",
      "Pipeline(steps=[('scalar2', StandardScaler()),\n",
      "                ('dt_classifier', DecisionTreeRegressor())]) R^2: 1.0\n",
      "Adjusted R^2: 1.0\n",
      "MAE: 0.0\n",
      "MSE: 0.0\n",
      "RMSE: 0.0\n",
      "Pipeline(steps=[('scalar3', StandardScaler()),\n",
      "                ('rf_classifier', RandomForestRegressor())]) R^2: 0.9937861379766549\n",
      "Adjusted R^2: 0.9935782392472493\n",
      "MAE: 0.014543322580645234\n",
      "MSE: 0.001705599923050192\n",
      "RMSE: 0.041298909465628655\n",
      "Pipeline(steps=[('scalar4', StandardScaler()),\n",
      "                ('rf_classifier', KNeighborsRegressor())]) R^2: 0.8836213486911326\n",
      "Adjusted R^2: 0.8797276391677876\n",
      "MAE: 0.11585992831541216\n",
      "MSE: 0.031943969462365586\n",
      "RMSE: 0.17872875947190364\n",
      "Pipeline(steps=[('scalar5', StandardScaler()),\n",
      "                ('rf_classifier',\n",
      "                 XGBRegressor(base_score=0.5, booster='gbtree',\n",
      "                              colsample_bylevel=1, colsample_bynode=1,\n",
      "                              colsample_bytree=1, gamma=0, gpu_id=-1,\n",
      "                              importance_type='gain',\n",
      "                              interaction_constraints='',\n",
      "                              learning_rate=0.300000012, max_delta_step=0,\n",
      "                              max_depth=6, min_child_weight=1, missing=nan,\n",
      "                              monotone_constraints='()', n_estimators=100,\n",
      "                              n_jobs=8, num_parallel_tree=1, random_state=0,\n",
      "                              reg_alpha=0, reg_lambda=1, scale_pos_weight=1,\n",
      "                              subsample=1, tree_method='exact',\n",
      "                              validate_parameters=1, verbosity=None))]) R^2: 0.9999916674769973\n",
      "Adjusted R^2: 0.9999913886936999\n",
      "MAE: 0.0010687737832359861\n",
      "MSE: 2.2871364923928635e-06\n",
      "RMSE: 0.001512328169542862\n",
      "Pipeline(steps=[('scalar6', StandardScaler()), ('rf_classifier', Ridge())]) R^2: 0.9925190981140424\n",
      "Adjusted R^2: 0.9922688077163709\n",
      "MAE: 0.028603398575988363\n",
      "MSE: 0.002053380914011125\n",
      "RMSE: 0.04531424625888778\n",
      "Pipeline(steps=[('scalar7', StandardScaler()), ('rf_classifier', Lasso())]) R^2: 0.0\n",
      "Adjusted R^2: -0.03345724907063197\n",
      "MAE: 0.3432252283500982\n",
      "MSE: 0.2744830697306047\n",
      "RMSE: 0.5239113185746274\n",
      "Pipeline(steps=[('scalar8', StandardScaler()),\n",
      "                ('rf_classifier', GradientBoostingRegressor())]) R^2: 0.9993674801009855\n",
      "Adjusted R^2: 0.9993463177251821\n",
      "MAE: 0.009869758098748365\n",
      "MSE: 0.0001736160035471743\n",
      "RMSE: 0.013176342570955504\n"
     ]
    }
   ],
   "source": [
    "for i, model in enumerate(pipelines):\n",
    "    pred = model.predict(X_train)\n",
    "    print(pipelines[i],\"R^2:\",metrics.r2_score(y_train, pred))\n",
    "    print(\"Adjusted R^2:\",1 - (1-metrics.r2_score(y_train, pred))*(len(y_train)-1)/(len(y_train)-X_test.shape[1]-1))\n",
    "    print(\"MAE:\",metrics.mean_absolute_error(y_train, pred))\n",
    "    print(\"MSE:\",metrics.mean_squared_error(y_train, pred))\n",
    "    print(\"RMSE:\",np.sqrt(metrics.mean_squared_error(y_train, pred)))"
   ]
  },
  {
   "cell_type": "code",
   "execution_count": 549,
   "metadata": {},
   "outputs": [],
   "source": [
    "# List of all the pipelines\n",
    "pipelines = [pipeline_lr, pipeline_dt, pipeline_rf, pipeline_kn, \n",
    "             pipeline_xgb, pipeline_ridge,pipeline_lasso, pipeline_xgbr]"
   ]
  },
  {
   "cell_type": "markdown",
   "metadata": {},
   "source": [
    "### pipeline ridge"
   ]
  },
  {
   "cell_type": "code",
   "execution_count": 550,
   "metadata": {},
   "outputs": [
    {
     "name": "stdout",
     "output_type": "stream",
     "text": [
      "Pipeline(steps=[('scalar8', StandardScaler()),\n",
      "                ('rf_classifier', GradientBoostingRegressor())]) R^2: 0.9925190981140424\n",
      "Adjusted R^2: 0.9922688077163709\n",
      "MAE: 0.028603398575988363\n",
      "MSE: 0.002053380914011125\n",
      "RMSE: 0.04531424625888778\n"
     ]
    }
   ],
   "source": [
    "pred = pipeline_ridge.predict(X_train)\n",
    "print(pipelines[i],\"R^2:\",metrics.r2_score(y_train, pred))\n",
    "print(\"Adjusted R^2:\",1 - (1-metrics.r2_score(y_train, pred))*(len(y_train)-1)/(len(y_train)-X_test.shape[1]-1))\n",
    "print(\"MAE:\",metrics.mean_absolute_error(y_train, pred))\n",
    "print(\"MSE:\",metrics.mean_squared_error(y_train, pred))\n",
    "print(\"RMSE:\",np.sqrt(metrics.mean_squared_error(y_train, pred)))"
   ]
  },
  {
   "cell_type": "code",
   "execution_count": 551,
   "metadata": {},
   "outputs": [
    {
     "data": {
      "text/html": [
       "<div>\n",
       "<style scoped>\n",
       "    .dataframe tbody tr th:only-of-type {\n",
       "        vertical-align: middle;\n",
       "    }\n",
       "\n",
       "    .dataframe tbody tr th {\n",
       "        vertical-align: top;\n",
       "    }\n",
       "\n",
       "    .dataframe thead th {\n",
       "        text-align: right;\n",
       "    }\n",
       "</style>\n",
       "<table border=\"1\" class=\"dataframe\">\n",
       "  <thead>\n",
       "    <tr style=\"text-align: right;\">\n",
       "      <th></th>\n",
       "      <th>y_train</th>\n",
       "      <th>y_pred_train</th>\n",
       "      <th>error</th>\n",
       "    </tr>\n",
       "  </thead>\n",
       "  <tbody>\n",
       "    <tr>\n",
       "      <th>0</th>\n",
       "      <td>1.2915</td>\n",
       "      <td>1.359248</td>\n",
       "      <td>-0.067748</td>\n",
       "    </tr>\n",
       "    <tr>\n",
       "      <th>1</th>\n",
       "      <td>0.6519</td>\n",
       "      <td>0.659642</td>\n",
       "      <td>-0.007742</td>\n",
       "    </tr>\n",
       "    <tr>\n",
       "      <th>2</th>\n",
       "      <td>0.8360</td>\n",
       "      <td>0.824696</td>\n",
       "      <td>0.011304</td>\n",
       "    </tr>\n",
       "    <tr>\n",
       "      <th>3</th>\n",
       "      <td>0.7093</td>\n",
       "      <td>0.673365</td>\n",
       "      <td>0.035935</td>\n",
       "    </tr>\n",
       "    <tr>\n",
       "      <th>4</th>\n",
       "      <td>0.5664</td>\n",
       "      <td>0.559690</td>\n",
       "      <td>0.006710</td>\n",
       "    </tr>\n",
       "    <tr>\n",
       "      <th>5</th>\n",
       "      <td>0.3381</td>\n",
       "      <td>0.518197</td>\n",
       "      <td>-0.180097</td>\n",
       "    </tr>\n",
       "    <tr>\n",
       "      <th>6</th>\n",
       "      <td>0.7995</td>\n",
       "      <td>0.832087</td>\n",
       "      <td>-0.032587</td>\n",
       "    </tr>\n",
       "    <tr>\n",
       "      <th>7</th>\n",
       "      <td>0.4067</td>\n",
       "      <td>0.381400</td>\n",
       "      <td>0.025300</td>\n",
       "    </tr>\n",
       "    <tr>\n",
       "      <th>8</th>\n",
       "      <td>1.0128</td>\n",
       "      <td>1.004531</td>\n",
       "      <td>0.008269</td>\n",
       "    </tr>\n",
       "    <tr>\n",
       "      <th>9</th>\n",
       "      <td>0.3034</td>\n",
       "      <td>0.227774</td>\n",
       "      <td>0.075626</td>\n",
       "    </tr>\n",
       "  </tbody>\n",
       "</table>\n",
       "</div>"
      ],
      "text/plain": [
       "   y_train  y_pred_train     error\n",
       "0   1.2915      1.359248 -0.067748\n",
       "1   0.6519      0.659642 -0.007742\n",
       "2   0.8360      0.824696  0.011304\n",
       "3   0.7093      0.673365  0.035935\n",
       "4   0.5664      0.559690  0.006710\n",
       "5   0.3381      0.518197 -0.180097\n",
       "6   0.7995      0.832087 -0.032587\n",
       "7   0.4067      0.381400  0.025300\n",
       "8   1.0128      1.004531  0.008269\n",
       "9   0.3034      0.227774  0.075626"
      ]
     },
     "execution_count": 551,
     "metadata": {},
     "output_type": "execute_result"
    }
   ],
   "source": [
    "results_ridge = pd.DataFrame(zip( y_train, pred, y_train - pred), columns = [ 'y_train','y_pred_train', 'error'])\n",
    "results_ridge.head(10)"
   ]
  },
  {
   "cell_type": "code",
   "execution_count": 552,
   "metadata": {},
   "outputs": [
    {
     "data": {
      "image/png": "[encoded data removed]",
      "text/plain": [
       "<Figure size 1152x576 with 1 Axes>"
      ]
     },
     "metadata": {},
     "output_type": "display_data"
    }
   ],
   "source": [
    "results_ridge = results_ridge.head(35)\n",
    "results_ridge.plot(kind='bar',figsize=(16,8))\n",
    "plt.grid(which='major', linestyle='-', linewidth='0.5', color='green')\n",
    "plt.grid(which='minor', linestyle=':', linewidth='0.5', color='black')\n",
    "plt.show()"
   ]
  },
  {
   "cell_type": "code",
   "execution_count": 553,
   "metadata": {},
   "outputs": [],
   "source": [
    "pred_final = pipeline_ridge.predict(X_test)"
   ]
  },
  {
   "cell_type": "code",
   "execution_count": 554,
   "metadata": {},
   "outputs": [
    {
     "data": {
      "text/plain": [
       "-0.01688220269864965"
      ]
     },
     "execution_count": 554,
     "metadata": {},
     "output_type": "execute_result"
    }
   ],
   "source": [
    "meanerror_ridge=np.mean(results_ridge.error)\n",
    "meanerror_ridge"
   ]
  },
  {
   "cell_type": "code",
   "execution_count": 555,
   "metadata": {},
   "outputs": [
    {
     "data": {
      "text/html": [
       "<div>\n",
       "<style scoped>\n",
       "    .dataframe tbody tr th:only-of-type {\n",
       "        vertical-align: middle;\n",
       "    }\n",
       "\n",
       "    .dataframe tbody tr th {\n",
       "        vertical-align: top;\n",
       "    }\n",
       "\n",
       "    .dataframe thead th {\n",
       "        text-align: right;\n",
       "    }\n",
       "</style>\n",
       "<table border=\"1\" class=\"dataframe\">\n",
       "  <thead>\n",
       "    <tr style=\"text-align: right;\">\n",
       "      <th></th>\n",
       "      <th>consume</th>\n",
       "    </tr>\n",
       "    <tr>\n",
       "      <th>id</th>\n",
       "      <th></th>\n",
       "    </tr>\n",
       "  </thead>\n",
       "  <tbody>\n",
       "    <tr>\n",
       "      <th>0</th>\n",
       "      <td>0.644335</td>\n",
       "    </tr>\n",
       "    <tr>\n",
       "      <th>1</th>\n",
       "      <td>0.555178</td>\n",
       "    </tr>\n",
       "    <tr>\n",
       "      <th>2</th>\n",
       "      <td>1.229197</td>\n",
       "    </tr>\n",
       "    <tr>\n",
       "      <th>3</th>\n",
       "      <td>0.663718</td>\n",
       "    </tr>\n",
       "    <tr>\n",
       "      <th>4</th>\n",
       "      <td>0.515901</td>\n",
       "    </tr>\n",
       "    <tr>\n",
       "      <th>...</th>\n",
       "      <td>...</td>\n",
       "    </tr>\n",
       "    <tr>\n",
       "      <th>65</th>\n",
       "      <td>0.774879</td>\n",
       "    </tr>\n",
       "    <tr>\n",
       "      <th>66</th>\n",
       "      <td>0.671756</td>\n",
       "    </tr>\n",
       "    <tr>\n",
       "      <th>67</th>\n",
       "      <td>1.801921</td>\n",
       "    </tr>\n",
       "    <tr>\n",
       "      <th>68</th>\n",
       "      <td>0.724719</td>\n",
       "    </tr>\n",
       "    <tr>\n",
       "      <th>69</th>\n",
       "      <td>0.807843</td>\n",
       "    </tr>\n",
       "  </tbody>\n",
       "</table>\n",
       "<p>70 rows × 1 columns</p>\n",
       "</div>"
      ],
      "text/plain": [
       "     consume\n",
       "id          \n",
       "0   0.644335\n",
       "1   0.555178\n",
       "2   1.229197\n",
       "3   0.663718\n",
       "4   0.515901\n",
       "..       ...\n",
       "65  0.774879\n",
       "66  0.671756\n",
       "67  1.801921\n",
       "68  0.724719\n",
       "69  0.807843\n",
       "\n",
       "[70 rows x 1 columns]"
      ]
     },
     "execution_count": 555,
     "metadata": {},
     "output_type": "execute_result"
    }
   ],
   "source": [
    "df_pred = pd.DataFrame({'consume': pred_final})\n",
    "df_pred['id'] = df_pred.index\n",
    "df_pred=df_pred.set_index('id')\n",
    "df_pred"
   ]
  },
  {
   "cell_type": "code",
   "execution_count": 556,
   "metadata": {},
   "outputs": [],
   "source": [
    "df_pred.to_csv('../reto_data/outputs/ridge.csv')"
   ]
  },
  {
   "cell_type": "markdown",
   "metadata": {},
   "source": [
    "### pipeline rf"
   ]
  },
  {
   "cell_type": "code",
   "execution_count": 557,
   "metadata": {},
   "outputs": [
    {
     "name": "stdout",
     "output_type": "stream",
     "text": [
      "Pipeline(steps=[('scalar8', StandardScaler()),\n",
      "                ('rf_classifier', GradientBoostingRegressor())]) R^2: 0.9937861379766549\n",
      "Adjusted R^2: 0.9935782392472493\n",
      "MAE: 0.014543322580645234\n",
      "MSE: 0.001705599923050192\n",
      "RMSE: 0.041298909465628655\n"
     ]
    }
   ],
   "source": [
    "pred = pipeline_rf.predict(X_train)\n",
    "print(pipelines[i],\"R^2:\",metrics.r2_score(y_train, pred))\n",
    "print(\"Adjusted R^2:\",1 - (1-metrics.r2_score(y_train, pred))*(len(y_train)-1)/(len(y_train)-X_test.shape[1]-1))\n",
    "print(\"MAE:\",metrics.mean_absolute_error(y_train, pred))\n",
    "print(\"MSE:\",metrics.mean_squared_error(y_train, pred))\n",
    "print(\"RMSE:\",np.sqrt(metrics.mean_squared_error(y_train, pred)))"
   ]
  },
  {
   "cell_type": "code",
   "execution_count": 558,
   "metadata": {},
   "outputs": [
    {
     "data": {
      "text/html": [
       "<div>\n",
       "<style scoped>\n",
       "    .dataframe tbody tr th:only-of-type {\n",
       "        vertical-align: middle;\n",
       "    }\n",
       "\n",
       "    .dataframe tbody tr th {\n",
       "        vertical-align: top;\n",
       "    }\n",
       "\n",
       "    .dataframe thead th {\n",
       "        text-align: right;\n",
       "    }\n",
       "</style>\n",
       "<table border=\"1\" class=\"dataframe\">\n",
       "  <thead>\n",
       "    <tr style=\"text-align: right;\">\n",
       "      <th></th>\n",
       "      <th>y_train</th>\n",
       "      <th>y_pred_train</th>\n",
       "      <th>error</th>\n",
       "    </tr>\n",
       "  </thead>\n",
       "  <tbody>\n",
       "    <tr>\n",
       "      <th>0</th>\n",
       "      <td>1.2915</td>\n",
       "      <td>1.319827</td>\n",
       "      <td>-0.028327</td>\n",
       "    </tr>\n",
       "    <tr>\n",
       "      <th>1</th>\n",
       "      <td>0.6519</td>\n",
       "      <td>0.649825</td>\n",
       "      <td>0.002075</td>\n",
       "    </tr>\n",
       "    <tr>\n",
       "      <th>2</th>\n",
       "      <td>0.8360</td>\n",
       "      <td>0.838836</td>\n",
       "      <td>-0.002836</td>\n",
       "    </tr>\n",
       "    <tr>\n",
       "      <th>3</th>\n",
       "      <td>0.7093</td>\n",
       "      <td>0.733131</td>\n",
       "      <td>-0.023831</td>\n",
       "    </tr>\n",
       "    <tr>\n",
       "      <th>4</th>\n",
       "      <td>0.5664</td>\n",
       "      <td>0.571842</td>\n",
       "      <td>-0.005442</td>\n",
       "    </tr>\n",
       "    <tr>\n",
       "      <th>5</th>\n",
       "      <td>0.3381</td>\n",
       "      <td>0.322280</td>\n",
       "      <td>0.015820</td>\n",
       "    </tr>\n",
       "    <tr>\n",
       "      <th>6</th>\n",
       "      <td>0.7995</td>\n",
       "      <td>0.779141</td>\n",
       "      <td>0.020359</td>\n",
       "    </tr>\n",
       "    <tr>\n",
       "      <th>7</th>\n",
       "      <td>0.4067</td>\n",
       "      <td>0.412124</td>\n",
       "      <td>-0.005424</td>\n",
       "    </tr>\n",
       "    <tr>\n",
       "      <th>8</th>\n",
       "      <td>1.0128</td>\n",
       "      <td>1.012636</td>\n",
       "      <td>0.000164</td>\n",
       "    </tr>\n",
       "    <tr>\n",
       "      <th>9</th>\n",
       "      <td>0.3034</td>\n",
       "      <td>0.311385</td>\n",
       "      <td>-0.007985</td>\n",
       "    </tr>\n",
       "  </tbody>\n",
       "</table>\n",
       "</div>"
      ],
      "text/plain": [
       "   y_train  y_pred_train     error\n",
       "0   1.2915      1.319827 -0.028327\n",
       "1   0.6519      0.649825  0.002075\n",
       "2   0.8360      0.838836 -0.002836\n",
       "3   0.7093      0.733131 -0.023831\n",
       "4   0.5664      0.571842 -0.005442\n",
       "5   0.3381      0.322280  0.015820\n",
       "6   0.7995      0.779141  0.020359\n",
       "7   0.4067      0.412124 -0.005424\n",
       "8   1.0128      1.012636  0.000164\n",
       "9   0.3034      0.311385 -0.007985"
      ]
     },
     "execution_count": 558,
     "metadata": {},
     "output_type": "execute_result"
    }
   ],
   "source": [
    "results_rf = pd.DataFrame(zip( y_train, pred, y_train - pred), columns = [ 'y_train','y_pred_train', 'error'])\n",
    "results_rf.head(10)"
   ]
  },
  {
   "cell_type": "code",
   "execution_count": 559,
   "metadata": {},
   "outputs": [
    {
     "data": {
      "image/png": "[encoded data removed]",
      "text/plain": [
       "<Figure size 1152x576 with 1 Axes>"
      ]
     },
     "metadata": {},
     "output_type": "display_data"
    }
   ],
   "source": [
    "results_rf = results_rf.head(35)\n",
    "results_rf.plot(kind='bar',figsize=(16,8))\n",
    "plt.grid(which='major', linestyle='-', linewidth='0.5', color='green')\n",
    "plt.grid(which='minor', linestyle=':', linewidth='0.5', color='black')\n",
    "plt.show()"
   ]
  },
  {
   "cell_type": "code",
   "execution_count": 560,
   "metadata": {},
   "outputs": [],
   "source": [
    "pred_final = pipeline_rf.predict(X_test)"
   ]
  },
  {
   "cell_type": "code",
   "execution_count": 561,
   "metadata": {},
   "outputs": [
    {
     "data": {
      "text/plain": [
       "0.005028800000000358"
      ]
     },
     "execution_count": 561,
     "metadata": {},
     "output_type": "execute_result"
    }
   ],
   "source": [
    "meanerror_rf=np.mean(results_rf.error)\n",
    "meanerror_rf"
   ]
  },
  {
   "cell_type": "code",
   "execution_count": 562,
   "metadata": {},
   "outputs": [
    {
     "data": {
      "text/html": [
       "<div>\n",
       "<style scoped>\n",
       "    .dataframe tbody tr th:only-of-type {\n",
       "        vertical-align: middle;\n",
       "    }\n",
       "\n",
       "    .dataframe tbody tr th {\n",
       "        vertical-align: top;\n",
       "    }\n",
       "\n",
       "    .dataframe thead th {\n",
       "        text-align: right;\n",
       "    }\n",
       "</style>\n",
       "<table border=\"1\" class=\"dataframe\">\n",
       "  <thead>\n",
       "    <tr style=\"text-align: right;\">\n",
       "      <th></th>\n",
       "      <th>consume</th>\n",
       "    </tr>\n",
       "    <tr>\n",
       "      <th>id</th>\n",
       "      <th></th>\n",
       "    </tr>\n",
       "  </thead>\n",
       "  <tbody>\n",
       "    <tr>\n",
       "      <th>0</th>\n",
       "      <td>0.653364</td>\n",
       "    </tr>\n",
       "    <tr>\n",
       "      <th>1</th>\n",
       "      <td>0.551886</td>\n",
       "    </tr>\n",
       "    <tr>\n",
       "      <th>2</th>\n",
       "      <td>1.187203</td>\n",
       "    </tr>\n",
       "    <tr>\n",
       "      <th>3</th>\n",
       "      <td>0.699820</td>\n",
       "    </tr>\n",
       "    <tr>\n",
       "      <th>4</th>\n",
       "      <td>0.524007</td>\n",
       "    </tr>\n",
       "    <tr>\n",
       "      <th>...</th>\n",
       "      <td>...</td>\n",
       "    </tr>\n",
       "    <tr>\n",
       "      <th>65</th>\n",
       "      <td>0.745894</td>\n",
       "    </tr>\n",
       "    <tr>\n",
       "      <th>66</th>\n",
       "      <td>0.655365</td>\n",
       "    </tr>\n",
       "    <tr>\n",
       "      <th>67</th>\n",
       "      <td>1.835191</td>\n",
       "    </tr>\n",
       "    <tr>\n",
       "      <th>68</th>\n",
       "      <td>0.726997</td>\n",
       "    </tr>\n",
       "    <tr>\n",
       "      <th>69</th>\n",
       "      <td>0.825854</td>\n",
       "    </tr>\n",
       "  </tbody>\n",
       "</table>\n",
       "<p>70 rows × 1 columns</p>\n",
       "</div>"
      ],
      "text/plain": [
       "     consume\n",
       "id          \n",
       "0   0.653364\n",
       "1   0.551886\n",
       "2   1.187203\n",
       "3   0.699820\n",
       "4   0.524007\n",
       "..       ...\n",
       "65  0.745894\n",
       "66  0.655365\n",
       "67  1.835191\n",
       "68  0.726997\n",
       "69  0.825854\n",
       "\n",
       "[70 rows x 1 columns]"
      ]
     },
     "execution_count": 562,
     "metadata": {},
     "output_type": "execute_result"
    }
   ],
   "source": [
    "df_pred = pd.DataFrame({'consume': pred_final})\n",
    "df_pred['id'] = df_pred.index\n",
    "df_pred=df_pred.set_index('id')\n",
    "df_pred"
   ]
  },
  {
   "cell_type": "code",
   "execution_count": 563,
   "metadata": {},
   "outputs": [],
   "source": [
    "df_pred.to_csv('../rf.csv')"
   ]
  },
  {
   "cell_type": "markdown",
   "metadata": {},
   "source": [
    "### pipeline kn"
   ]
  },
  {
   "cell_type": "code",
   "execution_count": 564,
   "metadata": {},
   "outputs": [
    {
     "name": "stdout",
     "output_type": "stream",
     "text": [
      "Pipeline(steps=[('scalar8', StandardScaler()),\n",
      "                ('rf_classifier', GradientBoostingRegressor())]) R^2: 0.8836213486911326\n",
      "Adjusted R^2: 0.8797276391677876\n",
      "MAE: 0.11585992831541216\n",
      "MSE: 0.031943969462365586\n",
      "RMSE: 0.17872875947190364\n"
     ]
    }
   ],
   "source": [
    "pred = pipeline_kn.predict(X_train)\n",
    "print(pipelines[i],\"R^2:\",metrics.r2_score(y_train, pred))\n",
    "print(\"Adjusted R^2:\",1 - (1-metrics.r2_score(y_train, pred))*(len(y_train)-1)/(len(y_train)-X_test.shape[1]-1))\n",
    "print(\"MAE:\",metrics.mean_absolute_error(y_train, pred))\n",
    "print(\"MSE:\",metrics.mean_squared_error(y_train, pred))\n",
    "print(\"RMSE:\",np.sqrt(metrics.mean_squared_error(y_train, pred)))"
   ]
  },
  {
   "cell_type": "code",
   "execution_count": 565,
   "metadata": {},
   "outputs": [
    {
     "data": {
      "text/html": [
       "<div>\n",
       "<style scoped>\n",
       "    .dataframe tbody tr th:only-of-type {\n",
       "        vertical-align: middle;\n",
       "    }\n",
       "\n",
       "    .dataframe tbody tr th {\n",
       "        vertical-align: top;\n",
       "    }\n",
       "\n",
       "    .dataframe thead th {\n",
       "        text-align: right;\n",
       "    }\n",
       "</style>\n",
       "<table border=\"1\" class=\"dataframe\">\n",
       "  <thead>\n",
       "    <tr style=\"text-align: right;\">\n",
       "      <th></th>\n",
       "      <th>y_train</th>\n",
       "      <th>y_pred_train</th>\n",
       "      <th>error</th>\n",
       "    </tr>\n",
       "  </thead>\n",
       "  <tbody>\n",
       "    <tr>\n",
       "      <th>0</th>\n",
       "      <td>1.2915</td>\n",
       "      <td>0.95976</td>\n",
       "      <td>0.33174</td>\n",
       "    </tr>\n",
       "    <tr>\n",
       "      <th>1</th>\n",
       "      <td>0.6519</td>\n",
       "      <td>0.65038</td>\n",
       "      <td>0.00152</td>\n",
       "    </tr>\n",
       "    <tr>\n",
       "      <th>2</th>\n",
       "      <td>0.8360</td>\n",
       "      <td>0.84794</td>\n",
       "      <td>-0.01194</td>\n",
       "    </tr>\n",
       "    <tr>\n",
       "      <th>3</th>\n",
       "      <td>0.7093</td>\n",
       "      <td>0.42464</td>\n",
       "      <td>0.28466</td>\n",
       "    </tr>\n",
       "    <tr>\n",
       "      <th>4</th>\n",
       "      <td>0.5664</td>\n",
       "      <td>0.61854</td>\n",
       "      <td>-0.05214</td>\n",
       "    </tr>\n",
       "    <tr>\n",
       "      <th>5</th>\n",
       "      <td>0.3381</td>\n",
       "      <td>0.72774</td>\n",
       "      <td>-0.38964</td>\n",
       "    </tr>\n",
       "    <tr>\n",
       "      <th>6</th>\n",
       "      <td>0.7995</td>\n",
       "      <td>0.70648</td>\n",
       "      <td>0.09302</td>\n",
       "    </tr>\n",
       "    <tr>\n",
       "      <th>7</th>\n",
       "      <td>0.4067</td>\n",
       "      <td>0.47320</td>\n",
       "      <td>-0.06650</td>\n",
       "    </tr>\n",
       "    <tr>\n",
       "      <th>8</th>\n",
       "      <td>1.0128</td>\n",
       "      <td>1.15570</td>\n",
       "      <td>-0.14290</td>\n",
       "    </tr>\n",
       "    <tr>\n",
       "      <th>9</th>\n",
       "      <td>0.3034</td>\n",
       "      <td>0.42464</td>\n",
       "      <td>-0.12124</td>\n",
       "    </tr>\n",
       "  </tbody>\n",
       "</table>\n",
       "</div>"
      ],
      "text/plain": [
       "   y_train  y_pred_train    error\n",
       "0   1.2915       0.95976  0.33174\n",
       "1   0.6519       0.65038  0.00152\n",
       "2   0.8360       0.84794 -0.01194\n",
       "3   0.7093       0.42464  0.28466\n",
       "4   0.5664       0.61854 -0.05214\n",
       "5   0.3381       0.72774 -0.38964\n",
       "6   0.7995       0.70648  0.09302\n",
       "7   0.4067       0.47320 -0.06650\n",
       "8   1.0128       1.15570 -0.14290\n",
       "9   0.3034       0.42464 -0.12124"
      ]
     },
     "execution_count": 565,
     "metadata": {},
     "output_type": "execute_result"
    }
   ],
   "source": [
    "results_kn = pd.DataFrame(zip( y_train, pred, y_train - pred), columns = [ 'y_train','y_pred_train', 'error'])\n",
    "results_kn.head(10)"
   ]
  },
  {
   "cell_type": "code",
   "execution_count": 566,
   "metadata": {},
   "outputs": [
    {
     "data": {
      "image/png": "[encoded data removed]",
      "text/plain": [
       "<Figure size 1152x720 with 1 Axes>"
      ]
     },
     "metadata": {},
     "output_type": "display_data"
    }
   ],
   "source": [
    "results_kn = results_kn.head(35)\n",
    "results_kn.plot(kind='bar',figsize=(16,10))\n",
    "plt.grid(which='major', linestyle='-', linewidth='0.5', color='green')\n",
    "plt.grid(which='minor', linestyle=':', linewidth='0.5', color='black')\n",
    "plt.show()"
   ]
  },
  {
   "cell_type": "code",
   "execution_count": 567,
   "metadata": {},
   "outputs": [],
   "source": [
    "pred_final = pipeline_kn.predict(X_test)"
   ]
  },
  {
   "cell_type": "code",
   "execution_count": 568,
   "metadata": {},
   "outputs": [
    {
     "data": {
      "text/plain": [
       "0.011010857142857142"
      ]
     },
     "execution_count": 568,
     "metadata": {},
     "output_type": "execute_result"
    }
   ],
   "source": [
    "meanerror_kn=np.mean(results_kn.error)\n",
    "meanerror_kn"
   ]
  },
  {
   "cell_type": "code",
   "execution_count": 569,
   "metadata": {},
   "outputs": [
    {
     "data": {
      "text/html": [
       "<div>\n",
       "<style scoped>\n",
       "    .dataframe tbody tr th:only-of-type {\n",
       "        vertical-align: middle;\n",
       "    }\n",
       "\n",
       "    .dataframe tbody tr th {\n",
       "        vertical-align: top;\n",
       "    }\n",
       "\n",
       "    .dataframe thead th {\n",
       "        text-align: right;\n",
       "    }\n",
       "</style>\n",
       "<table border=\"1\" class=\"dataframe\">\n",
       "  <thead>\n",
       "    <tr style=\"text-align: right;\">\n",
       "      <th></th>\n",
       "      <th>consume</th>\n",
       "    </tr>\n",
       "    <tr>\n",
       "      <th>id</th>\n",
       "      <th></th>\n",
       "    </tr>\n",
       "  </thead>\n",
       "  <tbody>\n",
       "    <tr>\n",
       "      <th>0</th>\n",
       "      <td>0.62584</td>\n",
       "    </tr>\n",
       "    <tr>\n",
       "      <th>1</th>\n",
       "      <td>0.67650</td>\n",
       "    </tr>\n",
       "    <tr>\n",
       "      <th>2</th>\n",
       "      <td>0.71324</td>\n",
       "    </tr>\n",
       "    <tr>\n",
       "      <th>3</th>\n",
       "      <td>0.79172</td>\n",
       "    </tr>\n",
       "    <tr>\n",
       "      <th>4</th>\n",
       "      <td>0.54562</td>\n",
       "    </tr>\n",
       "    <tr>\n",
       "      <th>...</th>\n",
       "      <td>...</td>\n",
       "    </tr>\n",
       "    <tr>\n",
       "      <th>65</th>\n",
       "      <td>0.79428</td>\n",
       "    </tr>\n",
       "    <tr>\n",
       "      <th>66</th>\n",
       "      <td>0.60598</td>\n",
       "    </tr>\n",
       "    <tr>\n",
       "      <th>67</th>\n",
       "      <td>1.48028</td>\n",
       "    </tr>\n",
       "    <tr>\n",
       "      <th>68</th>\n",
       "      <td>0.73740</td>\n",
       "    </tr>\n",
       "    <tr>\n",
       "      <th>69</th>\n",
       "      <td>0.71318</td>\n",
       "    </tr>\n",
       "  </tbody>\n",
       "</table>\n",
       "<p>70 rows × 1 columns</p>\n",
       "</div>"
      ],
      "text/plain": [
       "    consume\n",
       "id         \n",
       "0   0.62584\n",
       "1   0.67650\n",
       "2   0.71324\n",
       "3   0.79172\n",
       "4   0.54562\n",
       "..      ...\n",
       "65  0.79428\n",
       "66  0.60598\n",
       "67  1.48028\n",
       "68  0.73740\n",
       "69  0.71318\n",
       "\n",
       "[70 rows x 1 columns]"
      ]
     },
     "execution_count": 569,
     "metadata": {},
     "output_type": "execute_result"
    }
   ],
   "source": [
    "df_pred = pd.DataFrame({'consume': pred_final})\n",
    "df_pred['id'] = df_pred.index\n",
    "df_pred=df_pred.set_index('id')\n",
    "df_pred"
   ]
  },
  {
   "cell_type": "code",
   "execution_count": 570,
   "metadata": {},
   "outputs": [],
   "source": [
    "df_pred.to_csv('../reto_data/outputs/kn.csv')"
   ]
  },
  {
   "cell_type": "markdown",
   "metadata": {},
   "source": [
    "### pipeline xgb"
   ]
  },
  {
   "cell_type": "code",
   "execution_count": 571,
   "metadata": {},
   "outputs": [
    {
     "name": "stdout",
     "output_type": "stream",
     "text": [
      "Pipeline(steps=[('scalar8', StandardScaler()),\n",
      "                ('rf_classifier', GradientBoostingRegressor())]) R^2: 0.9999916674769973\n",
      "Adjusted R^2: 0.9999913886936999\n",
      "MAE: 0.0010687737832359861\n",
      "MSE: 2.2871364923928635e-06\n",
      "RMSE: 0.001512328169542862\n"
     ]
    }
   ],
   "source": [
    "pred = pipeline_xgb.predict(X_train)\n",
    "print(pipelines[i],\"R^2:\",metrics.r2_score(y_train, pred))\n",
    "print(\"Adjusted R^2:\",1 - (1-metrics.r2_score(y_train, pred))*(len(y_train)-1)/(len(y_train)-X_test.shape[1]-1))\n",
    "print(\"MAE:\",metrics.mean_absolute_error(y_train, pred))\n",
    "print(\"MSE:\",metrics.mean_squared_error(y_train, pred))\n",
    "print(\"RMSE:\",np.sqrt(metrics.mean_squared_error(y_train, pred)))"
   ]
  },
  {
   "cell_type": "code",
   "execution_count": 572,
   "metadata": {},
   "outputs": [
    {
     "data": {
      "text/html": [
       "<div>\n",
       "<style scoped>\n",
       "    .dataframe tbody tr th:only-of-type {\n",
       "        vertical-align: middle;\n",
       "    }\n",
       "\n",
       "    .dataframe tbody tr th {\n",
       "        vertical-align: top;\n",
       "    }\n",
       "\n",
       "    .dataframe thead th {\n",
       "        text-align: right;\n",
       "    }\n",
       "</style>\n",
       "<table border=\"1\" class=\"dataframe\">\n",
       "  <thead>\n",
       "    <tr style=\"text-align: right;\">\n",
       "      <th></th>\n",
       "      <th>y_train</th>\n",
       "      <th>y_pred_train</th>\n",
       "      <th>error</th>\n",
       "    </tr>\n",
       "  </thead>\n",
       "  <tbody>\n",
       "    <tr>\n",
       "      <th>0</th>\n",
       "      <td>1.2915</td>\n",
       "      <td>1.291056</td>\n",
       "      <td>0.000444</td>\n",
       "    </tr>\n",
       "    <tr>\n",
       "      <th>1</th>\n",
       "      <td>0.6519</td>\n",
       "      <td>0.648607</td>\n",
       "      <td>0.003293</td>\n",
       "    </tr>\n",
       "    <tr>\n",
       "      <th>2</th>\n",
       "      <td>0.8360</td>\n",
       "      <td>0.836601</td>\n",
       "      <td>-0.000601</td>\n",
       "    </tr>\n",
       "    <tr>\n",
       "      <th>3</th>\n",
       "      <td>0.7093</td>\n",
       "      <td>0.709783</td>\n",
       "      <td>-0.000483</td>\n",
       "    </tr>\n",
       "    <tr>\n",
       "      <th>4</th>\n",
       "      <td>0.5664</td>\n",
       "      <td>0.567276</td>\n",
       "      <td>-0.000876</td>\n",
       "    </tr>\n",
       "    <tr>\n",
       "      <th>5</th>\n",
       "      <td>0.3381</td>\n",
       "      <td>0.338006</td>\n",
       "      <td>0.000094</td>\n",
       "    </tr>\n",
       "    <tr>\n",
       "      <th>6</th>\n",
       "      <td>0.7995</td>\n",
       "      <td>0.799058</td>\n",
       "      <td>0.000442</td>\n",
       "    </tr>\n",
       "    <tr>\n",
       "      <th>7</th>\n",
       "      <td>0.4067</td>\n",
       "      <td>0.407544</td>\n",
       "      <td>-0.000844</td>\n",
       "    </tr>\n",
       "    <tr>\n",
       "      <th>8</th>\n",
       "      <td>1.0128</td>\n",
       "      <td>1.013486</td>\n",
       "      <td>-0.000686</td>\n",
       "    </tr>\n",
       "    <tr>\n",
       "      <th>9</th>\n",
       "      <td>0.3034</td>\n",
       "      <td>0.303199</td>\n",
       "      <td>0.000201</td>\n",
       "    </tr>\n",
       "  </tbody>\n",
       "</table>\n",
       "</div>"
      ],
      "text/plain": [
       "   y_train  y_pred_train     error\n",
       "0   1.2915      1.291056  0.000444\n",
       "1   0.6519      0.648607  0.003293\n",
       "2   0.8360      0.836601 -0.000601\n",
       "3   0.7093      0.709783 -0.000483\n",
       "4   0.5664      0.567276 -0.000876\n",
       "5   0.3381      0.338006  0.000094\n",
       "6   0.7995      0.799058  0.000442\n",
       "7   0.4067      0.407544 -0.000844\n",
       "8   1.0128      1.013486 -0.000686\n",
       "9   0.3034      0.303199  0.000201"
      ]
     },
     "execution_count": 572,
     "metadata": {},
     "output_type": "execute_result"
    }
   ],
   "source": [
    "results_xgb = pd.DataFrame(zip( y_train, pred, y_train - pred), columns = [ 'y_train','y_pred_train', 'error'])\n",
    "results_xgb.head(10)"
   ]
  },
  {
   "cell_type": "code",
   "execution_count": 573,
   "metadata": {},
   "outputs": [
    {
     "data": {
      "image/png": "[encoded data removed]",
      "text/plain": [
       "<Figure size 1152x720 with 1 Axes>"
      ]
     },
     "metadata": {},
     "output_type": "display_data"
    }
   ],
   "source": [
    "results_xgb = results_xgb.head(35)\n",
    "results_xgb.plot(kind='bar',figsize=(16,10))\n",
    "plt.grid(which='major', linestyle='-', linewidth='0.5', color='green')\n",
    "plt.grid(which='minor', linestyle=':', linewidth='0.5', color='black')\n",
    "plt.show()"
   ]
  },
  {
   "cell_type": "code",
   "execution_count": 574,
   "metadata": {},
   "outputs": [],
   "source": [
    "pred_final = pipeline_xgb.predict(X_test)"
   ]
  },
  {
   "cell_type": "code",
   "execution_count": 575,
   "metadata": {},
   "outputs": [
    {
     "data": {
      "text/plain": [
       "-0.0002484967735835318"
      ]
     },
     "execution_count": 575,
     "metadata": {},
     "output_type": "execute_result"
    }
   ],
   "source": [
    "meanerror_xgb=np.mean(results_xgb.error)\n",
    "meanerror_xgb"
   ]
  },
  {
   "cell_type": "code",
   "execution_count": 576,
   "metadata": {},
   "outputs": [
    {
     "data": {
      "text/html": [
       "<div>\n",
       "<style scoped>\n",
       "    .dataframe tbody tr th:only-of-type {\n",
       "        vertical-align: middle;\n",
       "    }\n",
       "\n",
       "    .dataframe tbody tr th {\n",
       "        vertical-align: top;\n",
       "    }\n",
       "\n",
       "    .dataframe thead th {\n",
       "        text-align: right;\n",
       "    }\n",
       "</style>\n",
       "<table border=\"1\" class=\"dataframe\">\n",
       "  <thead>\n",
       "    <tr style=\"text-align: right;\">\n",
       "      <th></th>\n",
       "      <th>consume</th>\n",
       "    </tr>\n",
       "    <tr>\n",
       "      <th>id</th>\n",
       "      <th></th>\n",
       "    </tr>\n",
       "  </thead>\n",
       "  <tbody>\n",
       "    <tr>\n",
       "      <th>0</th>\n",
       "      <td>0.658282</td>\n",
       "    </tr>\n",
       "    <tr>\n",
       "      <th>1</th>\n",
       "      <td>0.562751</td>\n",
       "    </tr>\n",
       "    <tr>\n",
       "      <th>2</th>\n",
       "      <td>1.115470</td>\n",
       "    </tr>\n",
       "    <tr>\n",
       "      <th>3</th>\n",
       "      <td>0.695167</td>\n",
       "    </tr>\n",
       "    <tr>\n",
       "      <th>4</th>\n",
       "      <td>0.526078</td>\n",
       "    </tr>\n",
       "    <tr>\n",
       "      <th>...</th>\n",
       "      <td>...</td>\n",
       "    </tr>\n",
       "    <tr>\n",
       "      <th>65</th>\n",
       "      <td>0.746965</td>\n",
       "    </tr>\n",
       "    <tr>\n",
       "      <th>66</th>\n",
       "      <td>0.647061</td>\n",
       "    </tr>\n",
       "    <tr>\n",
       "      <th>67</th>\n",
       "      <td>1.791030</td>\n",
       "    </tr>\n",
       "    <tr>\n",
       "      <th>68</th>\n",
       "      <td>0.770550</td>\n",
       "    </tr>\n",
       "    <tr>\n",
       "      <th>69</th>\n",
       "      <td>0.816548</td>\n",
       "    </tr>\n",
       "  </tbody>\n",
       "</table>\n",
       "<p>70 rows × 1 columns</p>\n",
       "</div>"
      ],
      "text/plain": [
       "     consume\n",
       "id          \n",
       "0   0.658282\n",
       "1   0.562751\n",
       "2   1.115470\n",
       "3   0.695167\n",
       "4   0.526078\n",
       "..       ...\n",
       "65  0.746965\n",
       "66  0.647061\n",
       "67  1.791030\n",
       "68  0.770550\n",
       "69  0.816548\n",
       "\n",
       "[70 rows x 1 columns]"
      ]
     },
     "execution_count": 576,
     "metadata": {},
     "output_type": "execute_result"
    }
   ],
   "source": [
    "df_pred = pd.DataFrame({'consume': pred_final})\n",
    "df_pred['id'] = df_pred.index\n",
    "df_pred=df_pred.set_index('id')\n",
    "df_pred"
   ]
  },
  {
   "cell_type": "code",
   "execution_count": 577,
   "metadata": {},
   "outputs": [],
   "source": [
    "df_pred.to_csv('../reto_data/outputs/xgb.csv')"
   ]
  },
  {
   "cell_type": "markdown",
   "metadata": {},
   "source": [
    "### pipeline lr"
   ]
  },
  {
   "cell_type": "code",
   "execution_count": 578,
   "metadata": {},
   "outputs": [
    {
     "name": "stdout",
     "output_type": "stream",
     "text": [
      "Pipeline(steps=[('scalar8', StandardScaler()),\n",
      "                ('rf_classifier', GradientBoostingRegressor())]) R^2: 0.9925376978865574\n",
      "Adjusted R^2: 0.9922880297861076\n",
      "MAE: 0.02837607364261138\n",
      "MSE: 0.0020482755913549078\n",
      "RMSE: 0.04525787877657224\n"
     ]
    }
   ],
   "source": [
    "pred = pipeline_lr.predict(X_train)\n",
    "print(pipelines[i],\"R^2:\",metrics.r2_score(y_train, pred))\n",
    "print(\"Adjusted R^2:\",1 - (1-metrics.r2_score(y_train, pred))*(len(y_train)-1)/(len(y_train)-X_test.shape[1]-1))\n",
    "print(\"MAE:\",metrics.mean_absolute_error(y_train, pred))\n",
    "print(\"MSE:\",metrics.mean_squared_error(y_train, pred))\n",
    "print(\"RMSE:\",np.sqrt(metrics.mean_squared_error(y_train, pred)))"
   ]
  },
  {
   "cell_type": "code",
   "execution_count": 579,
   "metadata": {},
   "outputs": [
    {
     "data": {
      "text/html": [
       "<div>\n",
       "<style scoped>\n",
       "    .dataframe tbody tr th:only-of-type {\n",
       "        vertical-align: middle;\n",
       "    }\n",
       "\n",
       "    .dataframe tbody tr th {\n",
       "        vertical-align: top;\n",
       "    }\n",
       "\n",
       "    .dataframe thead th {\n",
       "        text-align: right;\n",
       "    }\n",
       "</style>\n",
       "<table border=\"1\" class=\"dataframe\">\n",
       "  <thead>\n",
       "    <tr style=\"text-align: right;\">\n",
       "      <th></th>\n",
       "      <th>y_train</th>\n",
       "      <th>y_pred_train</th>\n",
       "      <th>error</th>\n",
       "    </tr>\n",
       "  </thead>\n",
       "  <tbody>\n",
       "    <tr>\n",
       "      <th>0</th>\n",
       "      <td>1.2915</td>\n",
       "      <td>1.362385</td>\n",
       "      <td>-0.070885</td>\n",
       "    </tr>\n",
       "    <tr>\n",
       "      <th>1</th>\n",
       "      <td>0.6519</td>\n",
       "      <td>0.657699</td>\n",
       "      <td>-0.005799</td>\n",
       "    </tr>\n",
       "    <tr>\n",
       "      <th>2</th>\n",
       "      <td>0.8360</td>\n",
       "      <td>0.823390</td>\n",
       "      <td>0.012610</td>\n",
       "    </tr>\n",
       "    <tr>\n",
       "      <th>3</th>\n",
       "      <td>0.7093</td>\n",
       "      <td>0.674666</td>\n",
       "      <td>0.034634</td>\n",
       "    </tr>\n",
       "    <tr>\n",
       "      <th>4</th>\n",
       "      <td>0.5664</td>\n",
       "      <td>0.559696</td>\n",
       "      <td>0.006704</td>\n",
       "    </tr>\n",
       "    <tr>\n",
       "      <th>5</th>\n",
       "      <td>0.3381</td>\n",
       "      <td>0.519135</td>\n",
       "      <td>-0.181035</td>\n",
       "    </tr>\n",
       "    <tr>\n",
       "      <th>6</th>\n",
       "      <td>0.7995</td>\n",
       "      <td>0.830816</td>\n",
       "      <td>-0.031316</td>\n",
       "    </tr>\n",
       "    <tr>\n",
       "      <th>7</th>\n",
       "      <td>0.4067</td>\n",
       "      <td>0.381256</td>\n",
       "      <td>0.025444</td>\n",
       "    </tr>\n",
       "    <tr>\n",
       "      <th>8</th>\n",
       "      <td>1.0128</td>\n",
       "      <td>1.004810</td>\n",
       "      <td>0.007990</td>\n",
       "    </tr>\n",
       "    <tr>\n",
       "      <th>9</th>\n",
       "      <td>0.3034</td>\n",
       "      <td>0.226487</td>\n",
       "      <td>0.076913</td>\n",
       "    </tr>\n",
       "  </tbody>\n",
       "</table>\n",
       "</div>"
      ],
      "text/plain": [
       "   y_train  y_pred_train     error\n",
       "0   1.2915      1.362385 -0.070885\n",
       "1   0.6519      0.657699 -0.005799\n",
       "2   0.8360      0.823390  0.012610\n",
       "3   0.7093      0.674666  0.034634\n",
       "4   0.5664      0.559696  0.006704\n",
       "5   0.3381      0.519135 -0.181035\n",
       "6   0.7995      0.830816 -0.031316\n",
       "7   0.4067      0.381256  0.025444\n",
       "8   1.0128      1.004810  0.007990\n",
       "9   0.3034      0.226487  0.076913"
      ]
     },
     "execution_count": 579,
     "metadata": {},
     "output_type": "execute_result"
    }
   ],
   "source": [
    "results_lr = pd.DataFrame(zip( y_train, pred, y_train - pred), columns = [ 'y_train','y_pred_train', 'error'])\n",
    "results_lr.head(10)"
   ]
  },
  {
   "cell_type": "code",
   "execution_count": 580,
   "metadata": {},
   "outputs": [
    {
     "data": {
      "image/png": "[encoded data removed]",
      "text/plain": [
       "<Figure size 1152x720 with 1 Axes>"
      ]
     },
     "metadata": {},
     "output_type": "display_data"
    }
   ],
   "source": [
    "results_lr = results_lr.head(35)\n",
    "results_lr.plot(kind='bar',figsize=(16,10))\n",
    "plt.grid(which='major', linestyle='-', linewidth='0.5', color='green')\n",
    "plt.grid(which='minor', linestyle=':', linewidth='0.5', color='black')\n",
    "plt.show()"
   ]
  },
  {
   "cell_type": "code",
   "execution_count": 581,
   "metadata": {},
   "outputs": [],
   "source": [
    "pred_final = pipeline_lr.predict(X_test)"
   ]
  },
  {
   "cell_type": "code",
   "execution_count": 582,
   "metadata": {},
   "outputs": [
    {
     "data": {
      "text/plain": [
       "-0.017118101693194786"
      ]
     },
     "execution_count": 582,
     "metadata": {},
     "output_type": "execute_result"
    }
   ],
   "source": [
    "meanerror_lr=np.mean(results_lr.error)\n",
    "meanerror_lr"
   ]
  },
  {
   "cell_type": "code",
   "execution_count": 583,
   "metadata": {},
   "outputs": [
    {
     "data": {
      "text/html": [
       "<div>\n",
       "<style scoped>\n",
       "    .dataframe tbody tr th:only-of-type {\n",
       "        vertical-align: middle;\n",
       "    }\n",
       "\n",
       "    .dataframe tbody tr th {\n",
       "        vertical-align: top;\n",
       "    }\n",
       "\n",
       "    .dataframe thead th {\n",
       "        text-align: right;\n",
       "    }\n",
       "</style>\n",
       "<table border=\"1\" class=\"dataframe\">\n",
       "  <thead>\n",
       "    <tr style=\"text-align: right;\">\n",
       "      <th></th>\n",
       "      <th>consume</th>\n",
       "    </tr>\n",
       "    <tr>\n",
       "      <th>id</th>\n",
       "      <th></th>\n",
       "    </tr>\n",
       "  </thead>\n",
       "  <tbody>\n",
       "    <tr>\n",
       "      <th>0</th>\n",
       "      <td>0.644653</td>\n",
       "    </tr>\n",
       "    <tr>\n",
       "      <th>1</th>\n",
       "      <td>0.554524</td>\n",
       "    </tr>\n",
       "    <tr>\n",
       "      <th>2</th>\n",
       "      <td>1.231013</td>\n",
       "    </tr>\n",
       "    <tr>\n",
       "      <th>3</th>\n",
       "      <td>0.662338</td>\n",
       "    </tr>\n",
       "    <tr>\n",
       "      <th>4</th>\n",
       "      <td>0.512779</td>\n",
       "    </tr>\n",
       "    <tr>\n",
       "      <th>...</th>\n",
       "      <td>...</td>\n",
       "    </tr>\n",
       "    <tr>\n",
       "      <th>65</th>\n",
       "      <td>0.773317</td>\n",
       "    </tr>\n",
       "    <tr>\n",
       "      <th>66</th>\n",
       "      <td>0.670450</td>\n",
       "    </tr>\n",
       "    <tr>\n",
       "      <th>67</th>\n",
       "      <td>1.802453</td>\n",
       "    </tr>\n",
       "    <tr>\n",
       "      <th>68</th>\n",
       "      <td>0.725688</td>\n",
       "    </tr>\n",
       "    <tr>\n",
       "      <th>69</th>\n",
       "      <td>0.809162</td>\n",
       "    </tr>\n",
       "  </tbody>\n",
       "</table>\n",
       "<p>70 rows × 1 columns</p>\n",
       "</div>"
      ],
      "text/plain": [
       "     consume\n",
       "id          \n",
       "0   0.644653\n",
       "1   0.554524\n",
       "2   1.231013\n",
       "3   0.662338\n",
       "4   0.512779\n",
       "..       ...\n",
       "65  0.773317\n",
       "66  0.670450\n",
       "67  1.802453\n",
       "68  0.725688\n",
       "69  0.809162\n",
       "\n",
       "[70 rows x 1 columns]"
      ]
     },
     "execution_count": 583,
     "metadata": {},
     "output_type": "execute_result"
    }
   ],
   "source": [
    "df_pred = pd.DataFrame({'consume': pred_final})\n",
    "df_pred['id'] = df_pred.index\n",
    "df_pred=df_pred.set_index('id')\n",
    "df_pred"
   ]
  },
  {
   "cell_type": "code",
   "execution_count": 584,
   "metadata": {},
   "outputs": [],
   "source": [
    "df_pred.to_csv('../reto_data/outputs/lr.csv')"
   ]
  },
  {
   "cell_type": "markdown",
   "metadata": {},
   "source": [
    "### pipeline kn"
   ]
  },
  {
   "cell_type": "code",
   "execution_count": 585,
   "metadata": {},
   "outputs": [
    {
     "name": "stdout",
     "output_type": "stream",
     "text": [
      "Pipeline(steps=[('scalar8', StandardScaler()),\n",
      "                ('rf_classifier', GradientBoostingRegressor())]) R^2: 0.8836213486911326\n",
      "Adjusted R^2: 0.8797276391677876\n",
      "MAE: 0.11585992831541216\n",
      "MSE: 0.031943969462365586\n",
      "RMSE: 0.17872875947190364\n"
     ]
    }
   ],
   "source": [
    "pred = pipeline_kn.predict(X_train)\n",
    "print(pipelines[i],\"R^2:\",metrics.r2_score(y_train, pred))\n",
    "print(\"Adjusted R^2:\",1 - (1-metrics.r2_score(y_train, pred))*(len(y_train)-1)/(len(y_train)-X_test.shape[1]-1))\n",
    "print(\"MAE:\",metrics.mean_absolute_error(y_train, pred))\n",
    "print(\"MSE:\",metrics.mean_squared_error(y_train, pred))\n",
    "print(\"RMSE:\",np.sqrt(metrics.mean_squared_error(y_train, pred)))"
   ]
  },
  {
   "cell_type": "code",
   "execution_count": 586,
   "metadata": {},
   "outputs": [
    {
     "data": {
      "text/html": [
       "<div>\n",
       "<style scoped>\n",
       "    .dataframe tbody tr th:only-of-type {\n",
       "        vertical-align: middle;\n",
       "    }\n",
       "\n",
       "    .dataframe tbody tr th {\n",
       "        vertical-align: top;\n",
       "    }\n",
       "\n",
       "    .dataframe thead th {\n",
       "        text-align: right;\n",
       "    }\n",
       "</style>\n",
       "<table border=\"1\" class=\"dataframe\">\n",
       "  <thead>\n",
       "    <tr style=\"text-align: right;\">\n",
       "      <th></th>\n",
       "      <th>y_train</th>\n",
       "      <th>y_pred_train</th>\n",
       "      <th>error</th>\n",
       "    </tr>\n",
       "  </thead>\n",
       "  <tbody>\n",
       "    <tr>\n",
       "      <th>0</th>\n",
       "      <td>1.2915</td>\n",
       "      <td>0.95976</td>\n",
       "      <td>0.33174</td>\n",
       "    </tr>\n",
       "    <tr>\n",
       "      <th>1</th>\n",
       "      <td>0.6519</td>\n",
       "      <td>0.65038</td>\n",
       "      <td>0.00152</td>\n",
       "    </tr>\n",
       "    <tr>\n",
       "      <th>2</th>\n",
       "      <td>0.8360</td>\n",
       "      <td>0.84794</td>\n",
       "      <td>-0.01194</td>\n",
       "    </tr>\n",
       "    <tr>\n",
       "      <th>3</th>\n",
       "      <td>0.7093</td>\n",
       "      <td>0.42464</td>\n",
       "      <td>0.28466</td>\n",
       "    </tr>\n",
       "    <tr>\n",
       "      <th>4</th>\n",
       "      <td>0.5664</td>\n",
       "      <td>0.61854</td>\n",
       "      <td>-0.05214</td>\n",
       "    </tr>\n",
       "    <tr>\n",
       "      <th>5</th>\n",
       "      <td>0.3381</td>\n",
       "      <td>0.72774</td>\n",
       "      <td>-0.38964</td>\n",
       "    </tr>\n",
       "    <tr>\n",
       "      <th>6</th>\n",
       "      <td>0.7995</td>\n",
       "      <td>0.70648</td>\n",
       "      <td>0.09302</td>\n",
       "    </tr>\n",
       "    <tr>\n",
       "      <th>7</th>\n",
       "      <td>0.4067</td>\n",
       "      <td>0.47320</td>\n",
       "      <td>-0.06650</td>\n",
       "    </tr>\n",
       "    <tr>\n",
       "      <th>8</th>\n",
       "      <td>1.0128</td>\n",
       "      <td>1.15570</td>\n",
       "      <td>-0.14290</td>\n",
       "    </tr>\n",
       "    <tr>\n",
       "      <th>9</th>\n",
       "      <td>0.3034</td>\n",
       "      <td>0.42464</td>\n",
       "      <td>-0.12124</td>\n",
       "    </tr>\n",
       "  </tbody>\n",
       "</table>\n",
       "</div>"
      ],
      "text/plain": [
       "   y_train  y_pred_train    error\n",
       "0   1.2915       0.95976  0.33174\n",
       "1   0.6519       0.65038  0.00152\n",
       "2   0.8360       0.84794 -0.01194\n",
       "3   0.7093       0.42464  0.28466\n",
       "4   0.5664       0.61854 -0.05214\n",
       "5   0.3381       0.72774 -0.38964\n",
       "6   0.7995       0.70648  0.09302\n",
       "7   0.4067       0.47320 -0.06650\n",
       "8   1.0128       1.15570 -0.14290\n",
       "9   0.3034       0.42464 -0.12124"
      ]
     },
     "execution_count": 586,
     "metadata": {},
     "output_type": "execute_result"
    }
   ],
   "source": [
    "results_kn = pd.DataFrame(zip( y_train, pred, y_train - pred), columns = [ 'y_train','y_pred_train', 'error'])\n",
    "results_kn.head(10)"
   ]
  },
  {
   "cell_type": "code",
   "execution_count": 587,
   "metadata": {},
   "outputs": [
    {
     "data": {
      "image/png": "[encoded data removed]",
      "text/plain": [
       "<Figure size 1152x720 with 1 Axes>"
      ]
     },
     "metadata": {},
     "output_type": "display_data"
    }
   ],
   "source": [
    "results_kn = results_kn.head(35)\n",
    "results_kn.plot(kind='bar',figsize=(16,10))\n",
    "plt.grid(which='major', linestyle='-', linewidth='0.5', color='green')\n",
    "plt.grid(which='minor', linestyle=':', linewidth='0.5', color='black')\n",
    "plt.show()"
   ]
  },
  {
   "cell_type": "code",
   "execution_count": 588,
   "metadata": {},
   "outputs": [],
   "source": [
    "pred_final = pipeline_lr.predict(X_test)"
   ]
  },
  {
   "cell_type": "code",
   "execution_count": 589,
   "metadata": {},
   "outputs": [
    {
     "data": {
      "text/plain": [
       "0.011010857142857142"
      ]
     },
     "execution_count": 589,
     "metadata": {},
     "output_type": "execute_result"
    }
   ],
   "source": [
    "meanerror_kn=np.mean(results_kn.error)\n",
    "meanerror_kn"
   ]
  },
  {
   "cell_type": "code",
   "execution_count": 590,
   "metadata": {},
   "outputs": [
    {
     "data": {
      "text/html": [
       "<div>\n",
       "<style scoped>\n",
       "    .dataframe tbody tr th:only-of-type {\n",
       "        vertical-align: middle;\n",
       "    }\n",
       "\n",
       "    .dataframe tbody tr th {\n",
       "        vertical-align: top;\n",
       "    }\n",
       "\n",
       "    .dataframe thead th {\n",
       "        text-align: right;\n",
       "    }\n",
       "</style>\n",
       "<table border=\"1\" class=\"dataframe\">\n",
       "  <thead>\n",
       "    <tr style=\"text-align: right;\">\n",
       "      <th></th>\n",
       "      <th>consume</th>\n",
       "    </tr>\n",
       "    <tr>\n",
       "      <th>id</th>\n",
       "      <th></th>\n",
       "    </tr>\n",
       "  </thead>\n",
       "  <tbody>\n",
       "    <tr>\n",
       "      <th>0</th>\n",
       "      <td>0.644653</td>\n",
       "    </tr>\n",
       "    <tr>\n",
       "      <th>1</th>\n",
       "      <td>0.554524</td>\n",
       "    </tr>\n",
       "    <tr>\n",
       "      <th>2</th>\n",
       "      <td>1.231013</td>\n",
       "    </tr>\n",
       "    <tr>\n",
       "      <th>3</th>\n",
       "      <td>0.662338</td>\n",
       "    </tr>\n",
       "    <tr>\n",
       "      <th>4</th>\n",
       "      <td>0.512779</td>\n",
       "    </tr>\n",
       "    <tr>\n",
       "      <th>...</th>\n",
       "      <td>...</td>\n",
       "    </tr>\n",
       "    <tr>\n",
       "      <th>65</th>\n",
       "      <td>0.773317</td>\n",
       "    </tr>\n",
       "    <tr>\n",
       "      <th>66</th>\n",
       "      <td>0.670450</td>\n",
       "    </tr>\n",
       "    <tr>\n",
       "      <th>67</th>\n",
       "      <td>1.802453</td>\n",
       "    </tr>\n",
       "    <tr>\n",
       "      <th>68</th>\n",
       "      <td>0.725688</td>\n",
       "    </tr>\n",
       "    <tr>\n",
       "      <th>69</th>\n",
       "      <td>0.809162</td>\n",
       "    </tr>\n",
       "  </tbody>\n",
       "</table>\n",
       "<p>70 rows × 1 columns</p>\n",
       "</div>"
      ],
      "text/plain": [
       "     consume\n",
       "id          \n",
       "0   0.644653\n",
       "1   0.554524\n",
       "2   1.231013\n",
       "3   0.662338\n",
       "4   0.512779\n",
       "..       ...\n",
       "65  0.773317\n",
       "66  0.670450\n",
       "67  1.802453\n",
       "68  0.725688\n",
       "69  0.809162\n",
       "\n",
       "[70 rows x 1 columns]"
      ]
     },
     "execution_count": 590,
     "metadata": {},
     "output_type": "execute_result"
    }
   ],
   "source": [
    "df_pred = pd.DataFrame({'consume': pred_final})\n",
    "df_pred['id'] = df_pred.index\n",
    "df_pred=df_pred.set_index('id')\n",
    "df_pred"
   ]
  },
  {
   "cell_type": "code",
   "execution_count": 591,
   "metadata": {},
   "outputs": [],
   "source": [
    "df_pred.to_csv('../reto_data/outputs/kn.csv')"
   ]
  },
  {
   "cell_type": "markdown",
   "metadata": {},
   "source": [
    "### pipeline xgbr"
   ]
  },
  {
   "cell_type": "code",
   "execution_count": 592,
   "metadata": {},
   "outputs": [
    {
     "name": "stdout",
     "output_type": "stream",
     "text": [
      "Pipeline(steps=[('scalar8', StandardScaler()),\n",
      "                ('rf_classifier', GradientBoostingRegressor())]) R^2: 0.9993674801009855\n",
      "Adjusted R^2: 0.9993463177251821\n",
      "MAE: 0.009869758098748365\n",
      "MSE: 0.0001736160035471743\n",
      "RMSE: 0.013176342570955504\n"
     ]
    }
   ],
   "source": [
    "pred = pipeline_xgbr.predict(X_train)\n",
    "print(pipelines[i],\"R^2:\",metrics.r2_score(y_train, pred))\n",
    "print(\"Adjusted R^2:\",1 - (1-metrics.r2_score(y_train, pred))*(len(y_train)-1)/(len(y_train)-X_test.shape[1]-1))\n",
    "print(\"MAE:\",metrics.mean_absolute_error(y_train, pred))\n",
    "print(\"MSE:\",metrics.mean_squared_error(y_train, pred))\n",
    "print(\"RMSE:\",np.sqrt(metrics.mean_squared_error(y_train, pred)))"
   ]
  },
  {
   "cell_type": "code",
   "execution_count": 593,
   "metadata": {},
   "outputs": [
    {
     "data": {
      "text/html": [
       "<div>\n",
       "<style scoped>\n",
       "    .dataframe tbody tr th:only-of-type {\n",
       "        vertical-align: middle;\n",
       "    }\n",
       "\n",
       "    .dataframe tbody tr th {\n",
       "        vertical-align: top;\n",
       "    }\n",
       "\n",
       "    .dataframe thead th {\n",
       "        text-align: right;\n",
       "    }\n",
       "</style>\n",
       "<table border=\"1\" class=\"dataframe\">\n",
       "  <thead>\n",
       "    <tr style=\"text-align: right;\">\n",
       "      <th></th>\n",
       "      <th>y_train</th>\n",
       "      <th>y_pred_train</th>\n",
       "      <th>error</th>\n",
       "    </tr>\n",
       "  </thead>\n",
       "  <tbody>\n",
       "    <tr>\n",
       "      <th>0</th>\n",
       "      <td>1.2915</td>\n",
       "      <td>1.293343</td>\n",
       "      <td>-0.001843</td>\n",
       "    </tr>\n",
       "    <tr>\n",
       "      <th>1</th>\n",
       "      <td>0.6519</td>\n",
       "      <td>0.660147</td>\n",
       "      <td>-0.008247</td>\n",
       "    </tr>\n",
       "    <tr>\n",
       "      <th>2</th>\n",
       "      <td>0.8360</td>\n",
       "      <td>0.829307</td>\n",
       "      <td>0.006693</td>\n",
       "    </tr>\n",
       "    <tr>\n",
       "      <th>3</th>\n",
       "      <td>0.7093</td>\n",
       "      <td>0.735015</td>\n",
       "      <td>-0.025715</td>\n",
       "    </tr>\n",
       "    <tr>\n",
       "      <th>4</th>\n",
       "      <td>0.5664</td>\n",
       "      <td>0.555447</td>\n",
       "      <td>0.010953</td>\n",
       "    </tr>\n",
       "    <tr>\n",
       "      <th>5</th>\n",
       "      <td>0.3381</td>\n",
       "      <td>0.340216</td>\n",
       "      <td>-0.002116</td>\n",
       "    </tr>\n",
       "    <tr>\n",
       "      <th>6</th>\n",
       "      <td>0.7995</td>\n",
       "      <td>0.785016</td>\n",
       "      <td>0.014484</td>\n",
       "    </tr>\n",
       "    <tr>\n",
       "      <th>7</th>\n",
       "      <td>0.4067</td>\n",
       "      <td>0.427782</td>\n",
       "      <td>-0.021082</td>\n",
       "    </tr>\n",
       "    <tr>\n",
       "      <th>8</th>\n",
       "      <td>1.0128</td>\n",
       "      <td>1.035999</td>\n",
       "      <td>-0.023199</td>\n",
       "    </tr>\n",
       "    <tr>\n",
       "      <th>9</th>\n",
       "      <td>0.3034</td>\n",
       "      <td>0.302800</td>\n",
       "      <td>0.000600</td>\n",
       "    </tr>\n",
       "  </tbody>\n",
       "</table>\n",
       "</div>"
      ],
      "text/plain": [
       "   y_train  y_pred_train     error\n",
       "0   1.2915      1.293343 -0.001843\n",
       "1   0.6519      0.660147 -0.008247\n",
       "2   0.8360      0.829307  0.006693\n",
       "3   0.7093      0.735015 -0.025715\n",
       "4   0.5664      0.555447  0.010953\n",
       "5   0.3381      0.340216 -0.002116\n",
       "6   0.7995      0.785016  0.014484\n",
       "7   0.4067      0.427782 -0.021082\n",
       "8   1.0128      1.035999 -0.023199\n",
       "9   0.3034      0.302800  0.000600"
      ]
     },
     "execution_count": 593,
     "metadata": {},
     "output_type": "execute_result"
    }
   ],
   "source": [
    "results_xgbr = pd.DataFrame(zip( y_train, pred, y_train - pred), columns = [ 'y_train','y_pred_train', 'error'])\n",
    "results_xgbr.head(10)"
   ]
  },
  {
   "cell_type": "code",
   "execution_count": 594,
   "metadata": {},
   "outputs": [
    {
     "data": {
      "image/png": "[encoded data removed]",
      "text/plain": [
       "<Figure size 1152x720 with 1 Axes>"
      ]
     },
     "metadata": {},
     "output_type": "display_data"
    }
   ],
   "source": [
    "results_xgbr = results_xgbr.head(35)\n",
    "results_xgbr.plot(kind='bar',figsize=(16,10))\n",
    "plt.grid(which='major', linestyle='-', linewidth='0.5', color='green')\n",
    "plt.grid(which='minor', linestyle=':', linewidth='0.5', color='black')\n",
    "plt.show()"
   ]
  },
  {
   "cell_type": "code",
   "execution_count": 595,
   "metadata": {},
   "outputs": [],
   "source": [
    "pred_final =  pipeline_xgbr.predict(X_test)"
   ]
  },
  {
   "cell_type": "code",
   "execution_count": 596,
   "metadata": {},
   "outputs": [
    {
     "data": {
      "text/plain": [
       "-0.0018557211348477257"
      ]
     },
     "execution_count": 596,
     "metadata": {},
     "output_type": "execute_result"
    }
   ],
   "source": [
    "meanerror_xgbr=np.mean(results_xgbr.error)\n",
    "meanerror_xgbr"
   ]
  },
  {
   "cell_type": "code",
   "execution_count": 597,
   "metadata": {},
   "outputs": [
    {
     "data": {
      "text/html": [
       "<div>\n",
       "<style scoped>\n",
       "    .dataframe tbody tr th:only-of-type {\n",
       "        vertical-align: middle;\n",
       "    }\n",
       "\n",
       "    .dataframe tbody tr th {\n",
       "        vertical-align: top;\n",
       "    }\n",
       "\n",
       "    .dataframe thead th {\n",
       "        text-align: right;\n",
       "    }\n",
       "</style>\n",
       "<table border=\"1\" class=\"dataframe\">\n",
       "  <thead>\n",
       "    <tr style=\"text-align: right;\">\n",
       "      <th></th>\n",
       "      <th>consume</th>\n",
       "    </tr>\n",
       "    <tr>\n",
       "      <th>id</th>\n",
       "      <th></th>\n",
       "    </tr>\n",
       "  </thead>\n",
       "  <tbody>\n",
       "    <tr>\n",
       "      <th>0</th>\n",
       "      <td>0.642547</td>\n",
       "    </tr>\n",
       "    <tr>\n",
       "      <th>1</th>\n",
       "      <td>0.542795</td>\n",
       "    </tr>\n",
       "    <tr>\n",
       "      <th>2</th>\n",
       "      <td>1.128493</td>\n",
       "    </tr>\n",
       "    <tr>\n",
       "      <th>3</th>\n",
       "      <td>0.693970</td>\n",
       "    </tr>\n",
       "    <tr>\n",
       "      <th>4</th>\n",
       "      <td>0.530295</td>\n",
       "    </tr>\n",
       "    <tr>\n",
       "      <th>...</th>\n",
       "      <td>...</td>\n",
       "    </tr>\n",
       "    <tr>\n",
       "      <th>65</th>\n",
       "      <td>0.748831</td>\n",
       "    </tr>\n",
       "    <tr>\n",
       "      <th>66</th>\n",
       "      <td>0.653880</td>\n",
       "    </tr>\n",
       "    <tr>\n",
       "      <th>67</th>\n",
       "      <td>1.799503</td>\n",
       "    </tr>\n",
       "    <tr>\n",
       "      <th>68</th>\n",
       "      <td>0.727153</td>\n",
       "    </tr>\n",
       "    <tr>\n",
       "      <th>69</th>\n",
       "      <td>0.791244</td>\n",
       "    </tr>\n",
       "  </tbody>\n",
       "</table>\n",
       "<p>70 rows × 1 columns</p>\n",
       "</div>"
      ],
      "text/plain": [
       "     consume\n",
       "id          \n",
       "0   0.642547\n",
       "1   0.542795\n",
       "2   1.128493\n",
       "3   0.693970\n",
       "4   0.530295\n",
       "..       ...\n",
       "65  0.748831\n",
       "66  0.653880\n",
       "67  1.799503\n",
       "68  0.727153\n",
       "69  0.791244\n",
       "\n",
       "[70 rows x 1 columns]"
      ]
     },
     "execution_count": 597,
     "metadata": {},
     "output_type": "execute_result"
    }
   ],
   "source": [
    "df_pred = pd.DataFrame({'consume': pred_final})\n",
    "df_pred['id'] = df_pred.index\n",
    "df_pred=df_pred.set_index('id')\n",
    "df_pred"
   ]
  },
  {
   "cell_type": "code",
   "execution_count": 598,
   "metadata": {},
   "outputs": [],
   "source": [
    "df_pred.to_csv('../reto_data/outputs/xgbr.csv')"
   ]
  },
  {
   "cell_type": "markdown",
   "metadata": {},
   "source": [
    "### data frame errores medios"
   ]
  },
  {
   "cell_type": "code",
   "execution_count": 599,
   "metadata": {},
   "outputs": [
    {
     "data": {
      "text/html": [
       "<div>\n",
       "<style scoped>\n",
       "    .dataframe tbody tr th:only-of-type {\n",
       "        vertical-align: middle;\n",
       "    }\n",
       "\n",
       "    .dataframe tbody tr th {\n",
       "        vertical-align: top;\n",
       "    }\n",
       "\n",
       "    .dataframe thead th {\n",
       "        text-align: right;\n",
       "    }\n",
       "</style>\n",
       "<table border=\"1\" class=\"dataframe\">\n",
       "  <thead>\n",
       "    <tr style=\"text-align: right;\">\n",
       "      <th></th>\n",
       "      <th>0</th>\n",
       "    </tr>\n",
       "  </thead>\n",
       "  <tbody>\n",
       "    <tr>\n",
       "      <th>xgbr</th>\n",
       "      <td>-0.001856</td>\n",
       "    </tr>\n",
       "    <tr>\n",
       "      <th>kn</th>\n",
       "      <td>0.011011</td>\n",
       "    </tr>\n",
       "    <tr>\n",
       "      <th>rf</th>\n",
       "      <td>0.005029</td>\n",
       "    </tr>\n",
       "    <tr>\n",
       "      <th>lr</th>\n",
       "      <td>-0.017118</td>\n",
       "    </tr>\n",
       "    <tr>\n",
       "      <th>xgb</th>\n",
       "      <td>-0.000248</td>\n",
       "    </tr>\n",
       "    <tr>\n",
       "      <th>ridge</th>\n",
       "      <td>-0.016882</td>\n",
       "    </tr>\n",
       "  </tbody>\n",
       "</table>\n",
       "</div>"
      ],
      "text/plain": [
       "              0\n",
       "xgbr  -0.001856\n",
       "kn     0.011011\n",
       "rf     0.005029\n",
       "lr    -0.017118\n",
       "xgb   -0.000248\n",
       "ridge -0.016882"
      ]
     },
     "execution_count": 599,
     "metadata": {},
     "output_type": "execute_result"
    }
   ],
   "source": [
    "df = pd.DataFrame([[meanerror_xgbr, meanerror_kn, meanerror_rf, meanerror_lr, meanerror_xgb, meanerror_ridge]], \n",
    "                  columns=['xgbr','kn','rf','lr','xgb','ridge']).T\n",
    "df"
   ]
  },
  {
   "cell_type": "markdown",
   "metadata": {},
   "source": [
    "### Exporting best model"
   ]
  },
  {
   "cell_type": "code",
   "execution_count": 600,
   "metadata": {},
   "outputs": [],
   "source": [
    "import pickle"
   ]
  },
  {
   "cell_type": "code",
   "execution_count": 605,
   "metadata": {},
   "outputs": [],
   "source": [
    "#Saving the Model\n",
    "pickle_out = open(\"../reto_data/outputs/xgb.pkl\", \"wb\") \n",
    "pickle.dump(pipeline_xgb, pickle_out) \n",
    "pickle_out.close()"
   ]
  },
  {
   "cell_type": "code",
   "execution_count": 606,
   "metadata": {},
   "outputs": [],
   "source": [
    "df_train.to_excel(\"../reto_data/outputs/clean_df.xls\")"
   ]
  },
  {
   "cell_type": "code",
   "execution_count": 607,
   "metadata": {},
   "outputs": [],
   "source": [
    "df=pd.read_excel(\"../reto_data/outputs/clean_df.xls\")"
   ]
  },
  {
   "cell_type": "code",
   "execution_count": 608,
   "metadata": {},
   "outputs": [
    {
     "data": {
      "text/html": [
       "<div>\n",
       "<style scoped>\n",
       "    .dataframe tbody tr th:only-of-type {\n",
       "        vertical-align: middle;\n",
       "    }\n",
       "\n",
       "    .dataframe tbody tr th {\n",
       "        vertical-align: top;\n",
       "    }\n",
       "\n",
       "    .dataframe thead th {\n",
       "        text-align: right;\n",
       "    }\n",
       "</style>\n",
       "<table border=\"1\" class=\"dataframe\">\n",
       "  <thead>\n",
       "    <tr style=\"text-align: right;\">\n",
       "      <th></th>\n",
       "      <th>Unnamed: 0</th>\n",
       "      <th>distance</th>\n",
       "      <th>consume</th>\n",
       "      <th>speed</th>\n",
       "      <th>temp_inside</th>\n",
       "      <th>temp_outside</th>\n",
       "      <th>gas_type</th>\n",
       "      <th>AC</th>\n",
       "      <th>rain</th>\n",
       "      <th>sun</th>\n",
       "      <th>consume_100Km</th>\n",
       "    </tr>\n",
       "  </thead>\n",
       "  <tbody>\n",
       "    <tr>\n",
       "      <th>0</th>\n",
       "      <td>0</td>\n",
       "      <td>28.0</td>\n",
       "      <td>5.0</td>\n",
       "      <td>26</td>\n",
       "      <td>21.5</td>\n",
       "      <td>12</td>\n",
       "      <td>0</td>\n",
       "      <td>0</td>\n",
       "      <td>0</td>\n",
       "      <td>0</td>\n",
       "      <td>1.4000</td>\n",
       "    </tr>\n",
       "    <tr>\n",
       "      <th>1</th>\n",
       "      <td>1</td>\n",
       "      <td>12.0</td>\n",
       "      <td>4.2</td>\n",
       "      <td>30</td>\n",
       "      <td>21.5</td>\n",
       "      <td>13</td>\n",
       "      <td>0</td>\n",
       "      <td>0</td>\n",
       "      <td>0</td>\n",
       "      <td>0</td>\n",
       "      <td>0.5040</td>\n",
       "    </tr>\n",
       "    <tr>\n",
       "      <th>2</th>\n",
       "      <td>2</td>\n",
       "      <td>11.2</td>\n",
       "      <td>5.5</td>\n",
       "      <td>38</td>\n",
       "      <td>21.5</td>\n",
       "      <td>15</td>\n",
       "      <td>0</td>\n",
       "      <td>0</td>\n",
       "      <td>0</td>\n",
       "      <td>0</td>\n",
       "      <td>0.6160</td>\n",
       "    </tr>\n",
       "    <tr>\n",
       "      <th>3</th>\n",
       "      <td>3</td>\n",
       "      <td>12.9</td>\n",
       "      <td>3.9</td>\n",
       "      <td>36</td>\n",
       "      <td>21.5</td>\n",
       "      <td>14</td>\n",
       "      <td>0</td>\n",
       "      <td>0</td>\n",
       "      <td>0</td>\n",
       "      <td>0</td>\n",
       "      <td>0.5031</td>\n",
       "    </tr>\n",
       "    <tr>\n",
       "      <th>4</th>\n",
       "      <td>4</td>\n",
       "      <td>18.5</td>\n",
       "      <td>4.5</td>\n",
       "      <td>46</td>\n",
       "      <td>21.5</td>\n",
       "      <td>15</td>\n",
       "      <td>0</td>\n",
       "      <td>0</td>\n",
       "      <td>0</td>\n",
       "      <td>0</td>\n",
       "      <td>0.8325</td>\n",
       "    </tr>\n",
       "  </tbody>\n",
       "</table>\n",
       "</div>"
      ],
      "text/plain": [
       "   Unnamed: 0  distance  consume  speed  temp_inside  temp_outside  gas_type  \\\n",
       "0           0      28.0      5.0     26         21.5            12         0   \n",
       "1           1      12.0      4.2     30         21.5            13         0   \n",
       "2           2      11.2      5.5     38         21.5            15         0   \n",
       "3           3      12.9      3.9     36         21.5            14         0   \n",
       "4           4      18.5      4.5     46         21.5            15         0   \n",
       "\n",
       "   AC  rain  sun  consume_100Km  \n",
       "0   0     0    0         1.4000  \n",
       "1   0     0    0         0.5040  \n",
       "2   0     0    0         0.6160  \n",
       "3   0     0    0         0.5031  \n",
       "4   0     0    0         0.8325  "
      ]
     },
     "execution_count": 608,
     "metadata": {},
     "output_type": "execute_result"
    }
   ],
   "source": [
    "df.head()"
   ]
  },
  {
   "cell_type": "markdown",
   "metadata": {},
   "source": [
    "### Conclusiones_\n"
   ]
  },
  {
   "cell_type": "code",
   "execution_count": 649,
   "metadata": {},
   "outputs": [
    {
     "data": {
      "text/html": [
       "<div>\n",
       "<style scoped>\n",
       "    .dataframe tbody tr th:only-of-type {\n",
       "        vertical-align: middle;\n",
       "    }\n",
       "\n",
       "    .dataframe tbody tr th {\n",
       "        vertical-align: top;\n",
       "    }\n",
       "\n",
       "    .dataframe thead th {\n",
       "        text-align: right;\n",
       "    }\n",
       "</style>\n",
       "<table border=\"1\" class=\"dataframe\">\n",
       "  <thead>\n",
       "    <tr style=\"text-align: right;\">\n",
       "      <th></th>\n",
       "      <th>distance</th>\n",
       "      <th>consume</th>\n",
       "      <th>speed</th>\n",
       "      <th>temp_inside</th>\n",
       "      <th>temp_outside</th>\n",
       "      <th>gas_type</th>\n",
       "      <th>AC</th>\n",
       "      <th>rain</th>\n",
       "      <th>sun</th>\n",
       "      <th>consume_100Km</th>\n",
       "    </tr>\n",
       "  </thead>\n",
       "  <tbody>\n",
       "    <tr>\n",
       "      <th>distance</th>\n",
       "      <td>100.000000</td>\n",
       "      <td>-12.896676</td>\n",
       "      <td>56.229882</td>\n",
       "      <td>7.517823</td>\n",
       "      <td>8.817534</td>\n",
       "      <td>-5.341141</td>\n",
       "      <td>-2.573817</td>\n",
       "      <td>-1.979065</td>\n",
       "      <td>8.111981</td>\n",
       "      <td>99.210074</td>\n",
       "    </tr>\n",
       "    <tr>\n",
       "      <th>consume</th>\n",
       "      <td>-12.896676</td>\n",
       "      <td>100.000000</td>\n",
       "      <td>-22.786618</td>\n",
       "      <td>-16.062288</td>\n",
       "      <td>-32.081059</td>\n",
       "      <td>-1.532697</td>\n",
       "      <td>9.659140</td>\n",
       "      <td>24.811771</td>\n",
       "      <td>-17.066738</td>\n",
       "      <td>-5.218780</td>\n",
       "    </tr>\n",
       "    <tr>\n",
       "      <th>speed</th>\n",
       "      <td>56.229882</td>\n",
       "      <td>-22.786618</td>\n",
       "      <td>100.000000</td>\n",
       "      <td>5.929296</td>\n",
       "      <td>1.541101</td>\n",
       "      <td>-9.736041</td>\n",
       "      <td>-3.540800</td>\n",
       "      <td>0.948946</td>\n",
       "      <td>8.161828</td>\n",
       "      <td>55.184655</td>\n",
       "    </tr>\n",
       "    <tr>\n",
       "      <th>temp_inside</th>\n",
       "      <td>7.517823</td>\n",
       "      <td>-16.062288</td>\n",
       "      <td>5.929296</td>\n",
       "      <td>100.000000</td>\n",
       "      <td>35.950042</td>\n",
       "      <td>1.019767</td>\n",
       "      <td>29.737625</td>\n",
       "      <td>-3.693724</td>\n",
       "      <td>24.224794</td>\n",
       "      <td>6.237325</td>\n",
       "    </tr>\n",
       "    <tr>\n",
       "      <th>temp_outside</th>\n",
       "      <td>8.817534</td>\n",
       "      <td>-32.081059</td>\n",
       "      <td>1.541101</td>\n",
       "      <td>35.950042</td>\n",
       "      <td>100.000000</td>\n",
       "      <td>14.870501</td>\n",
       "      <td>16.756227</td>\n",
       "      <td>-18.631489</td>\n",
       "      <td>34.690341</td>\n",
       "      <td>3.787710</td>\n",
       "    </tr>\n",
       "    <tr>\n",
       "      <th>gas_type</th>\n",
       "      <td>-5.341141</td>\n",
       "      <td>-1.532697</td>\n",
       "      <td>-9.736041</td>\n",
       "      <td>1.019767</td>\n",
       "      <td>14.870501</td>\n",
       "      <td>100.000000</td>\n",
       "      <td>10.528540</td>\n",
       "      <td>6.032819</td>\n",
       "      <td>2.276096</td>\n",
       "      <td>-5.534834</td>\n",
       "    </tr>\n",
       "    <tr>\n",
       "      <th>AC</th>\n",
       "      <td>-2.573817</td>\n",
       "      <td>9.659140</td>\n",
       "      <td>-3.540800</td>\n",
       "      <td>29.737625</td>\n",
       "      <td>16.756227</td>\n",
       "      <td>10.528540</td>\n",
       "      <td>100.000000</td>\n",
       "      <td>24.291471</td>\n",
       "      <td>8.859801</td>\n",
       "      <td>-1.870021</td>\n",
       "    </tr>\n",
       "    <tr>\n",
       "      <th>rain</th>\n",
       "      <td>-1.979065</td>\n",
       "      <td>24.811771</td>\n",
       "      <td>0.948946</td>\n",
       "      <td>-3.693724</td>\n",
       "      <td>-18.631489</td>\n",
       "      <td>6.032819</td>\n",
       "      <td>24.291471</td>\n",
       "      <td>100.000000</td>\n",
       "      <td>-11.264999</td>\n",
       "      <td>0.912464</td>\n",
       "    </tr>\n",
       "    <tr>\n",
       "      <th>sun</th>\n",
       "      <td>8.111981</td>\n",
       "      <td>-17.066738</td>\n",
       "      <td>8.161828</td>\n",
       "      <td>24.224794</td>\n",
       "      <td>34.690341</td>\n",
       "      <td>2.276096</td>\n",
       "      <td>8.859801</td>\n",
       "      <td>-11.264999</td>\n",
       "      <td>100.000000</td>\n",
       "      <td>6.424729</td>\n",
       "    </tr>\n",
       "    <tr>\n",
       "      <th>consume_100Km</th>\n",
       "      <td>99.210074</td>\n",
       "      <td>-5.218780</td>\n",
       "      <td>55.184655</td>\n",
       "      <td>6.237325</td>\n",
       "      <td>3.787710</td>\n",
       "      <td>-5.534834</td>\n",
       "      <td>-1.870021</td>\n",
       "      <td>0.912464</td>\n",
       "      <td>6.424729</td>\n",
       "      <td>100.000000</td>\n",
       "    </tr>\n",
       "  </tbody>\n",
       "</table>\n",
       "</div>"
      ],
      "text/plain": [
       "                 distance     consume       speed  temp_inside  temp_outside  \\\n",
       "distance       100.000000  -12.896676   56.229882     7.517823      8.817534   \n",
       "consume        -12.896676  100.000000  -22.786618   -16.062288    -32.081059   \n",
       "speed           56.229882  -22.786618  100.000000     5.929296      1.541101   \n",
       "temp_inside      7.517823  -16.062288    5.929296   100.000000     35.950042   \n",
       "temp_outside     8.817534  -32.081059    1.541101    35.950042    100.000000   \n",
       "gas_type        -5.341141   -1.532697   -9.736041     1.019767     14.870501   \n",
       "AC              -2.573817    9.659140   -3.540800    29.737625     16.756227   \n",
       "rain            -1.979065   24.811771    0.948946    -3.693724    -18.631489   \n",
       "sun              8.111981  -17.066738    8.161828    24.224794     34.690341   \n",
       "consume_100Km   99.210074   -5.218780   55.184655     6.237325      3.787710   \n",
       "\n",
       "                 gas_type          AC        rain         sun  consume_100Km  \n",
       "distance        -5.341141   -2.573817   -1.979065    8.111981      99.210074  \n",
       "consume         -1.532697    9.659140   24.811771  -17.066738      -5.218780  \n",
       "speed           -9.736041   -3.540800    0.948946    8.161828      55.184655  \n",
       "temp_inside      1.019767   29.737625   -3.693724   24.224794       6.237325  \n",
       "temp_outside    14.870501   16.756227  -18.631489   34.690341       3.787710  \n",
       "gas_type       100.000000   10.528540    6.032819    2.276096      -5.534834  \n",
       "AC              10.528540  100.000000   24.291471    8.859801      -1.870021  \n",
       "rain             6.032819   24.291471  100.000000  -11.264999       0.912464  \n",
       "sun              2.276096    8.859801  -11.264999  100.000000       6.424729  \n",
       "consume_100Km   -5.534834   -1.870021    0.912464    6.424729     100.000000  "
      ]
     },
     "execution_count": 649,
     "metadata": {},
     "output_type": "execute_result"
    }
   ],
   "source": [
    "(df_train.corr())*100"
   ]
  },
  {
   "cell_type": "markdown",
   "metadata": {},
   "source": [
    "* El mejor modelo de prediccion es XGB. Diferentes variables afectan al consumo: velocidad, distancia por supuesto. En cuanto al tipo de combustible, solo afecta un 5,53% al precio."
   ]
  },
  {
   "cell_type": "code",
   "execution_count": 645,
   "metadata": {},
   "outputs": [
    {
     "data": {
      "text/plain": [
       "distance         18.639912\n",
       "consume           4.899123\n",
       "speed            40.820175\n",
       "temp_inside      21.938007\n",
       "temp_outside     12.228070\n",
       "gas_type          1.000000\n",
       "AC                0.100877\n",
       "rain              0.140351\n",
       "sun               0.087719\n",
       "consume_100Km     0.883618\n",
       "dtype: float64"
      ]
     },
     "execution_count": 645,
     "metadata": {},
     "output_type": "execute_result"
    }
   ],
   "source": [
    "#SP98\n",
    "gas_type.get_group(1).mean()"
   ]
  },
  {
   "cell_type": "code",
   "execution_count": 646,
   "metadata": {},
   "outputs": [
    {
     "data": {
      "text/plain": [
       "distance         21.096250\n",
       "consume           4.931250\n",
       "speed            43.506250\n",
       "temp_inside      21.917429\n",
       "temp_outside     10.118750\n",
       "gas_type          0.000000\n",
       "AC                0.043750\n",
       "rain              0.100000\n",
       "sun               0.075000\n",
       "consume_100Km     1.008933\n",
       "dtype: float64"
      ]
     },
     "execution_count": 646,
     "metadata": {},
     "output_type": "execute_result"
    }
   ],
   "source": [
    "#E10\n",
    "gas_type.get_group(0).mean()"
   ]
  },
  {
   "cell_type": "code",
   "execution_count": 644,
   "metadata": {},
   "outputs": [
    {
     "data": {
      "text/html": [
       "<div>\n",
       "<style scoped>\n",
       "    .dataframe tbody tr th:only-of-type {\n",
       "        vertical-align: middle;\n",
       "    }\n",
       "\n",
       "    .dataframe tbody tr th {\n",
       "        vertical-align: top;\n",
       "    }\n",
       "\n",
       "    .dataframe thead th {\n",
       "        text-align: right;\n",
       "    }\n",
       "</style>\n",
       "<table border=\"1\" class=\"dataframe\">\n",
       "  <thead>\n",
       "    <tr style=\"text-align: right;\">\n",
       "      <th></th>\n",
       "      <th>consume_100Km</th>\n",
       "      <th>speed</th>\n",
       "      <th>distance</th>\n",
       "    </tr>\n",
       "    <tr>\n",
       "      <th>gas_type</th>\n",
       "      <th></th>\n",
       "      <th></th>\n",
       "      <th></th>\n",
       "    </tr>\n",
       "  </thead>\n",
       "  <tbody>\n",
       "    <tr>\n",
       "      <th>0</th>\n",
       "      <td>1.008933</td>\n",
       "      <td>43.506250</td>\n",
       "      <td>21.096250</td>\n",
       "    </tr>\n",
       "    <tr>\n",
       "      <th>1</th>\n",
       "      <td>0.883618</td>\n",
       "      <td>40.820175</td>\n",
       "      <td>18.639912</td>\n",
       "    </tr>\n",
       "  </tbody>\n",
       "</table>\n",
       "</div>"
      ],
      "text/plain": [
       "          consume_100Km      speed   distance\n",
       "gas_type                                     \n",
       "0              1.008933  43.506250  21.096250\n",
       "1              0.883618  40.820175  18.639912"
      ]
     },
     "execution_count": 644,
     "metadata": {},
     "output_type": "execute_result"
    }
   ],
   "source": [
    "gas_type.agg({'consume_100Km':'mean','speed':'mean','distance':'mean' })"
   ]
  },
  {
   "cell_type": "markdown",
   "metadata": {},
   "source": [
    "* El consumo de E10es superior pero también la velocidad y la distancia."
   ]
  },
  {
   "cell_type": "code",
   "execution_count": null,
   "metadata": {},
   "outputs": [],
   "source": []
  }
 ],
 "metadata": {
  "kernelspec": {
   "display_name": "Python 3",
   "language": "python",
   "name": "python3"
  },
  "language_info": {
   "codemirror_mode": {
    "name": "ipython",
    "version": 3
   },
   "file_extension": ".py",
   "mimetype": "text/x-python",
   "name": "python",
   "nbconvert_exporter": "python",
   "pygments_lexer": "ipython3",
   "version": "3.8.3"
  },
  "toc": {
   "base_numbering": 1,
   "nav_menu": {},
   "number_sections": true,
   "sideBar": true,
   "skip_h1_title": false,
   "title_cell": "Table of Contents",
   "title_sidebar": "Contents",
   "toc_cell": false,
   "toc_position": {
    "height": "calc(100% - 180px)",
    "left": "10px",
    "top": "150px",
    "width": "402.712px"
   },
   "toc_section_display": true,
   "toc_window_display": true
  }
 },
 "nbformat": 4,
 "nbformat_minor": 4
}
