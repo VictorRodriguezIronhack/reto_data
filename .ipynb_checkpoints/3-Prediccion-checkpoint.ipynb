{
 "cells": [
  {
   "cell_type": "markdown",
   "id": "21d3c40f-5d6c-4d6f-9253-77fafb23614e",
   "metadata": {},
   "source": [
    "# Predicción con modelos de ml"
   ]
  },
  {
   "cell_type": "code",
   "execution_count": 1,
   "id": "6d2b00a2-8450-4a8f-a0bf-bc0ab8aded7f",
   "metadata": {},
   "outputs": [],
   "source": [
    "import pandas as pd\n",
    "from sklearn.model_selection import train_test_split as tts\n",
    "from sklearn.linear_model import LinearRegression as LinReg\n",
    "\n",
    "from sklearn import metrics\n",
    "import numpy as np"
   ]
  },
  {
   "cell_type": "markdown",
   "id": "d3e835d7-61f6-492b-b2b4-af0cca8dd553",
   "metadata": {},
   "source": [
    "## Preparamos los datos"
   ]
  },
  {
   "cell_type": "code",
   "execution_count": 2,
   "id": "ca0660ba-f287-408c-9808-bf9319edda75",
   "metadata": {},
   "outputs": [],
   "source": [
    "df = pd.read_csv(\"datos_limpios.csv\")"
   ]
  },
  {
   "cell_type": "code",
   "execution_count": 3,
   "id": "4a30d7a6-92ec-4c30-b6ad-49801961e5d3",
   "metadata": {},
   "outputs": [],
   "source": [
    "dicc_gas = {'E10':1,'SP98':0}"
   ]
  },
  {
   "cell_type": "code",
   "execution_count": 4,
   "id": "60a80d33-e2ed-450b-833a-ac699dd01952",
   "metadata": {},
   "outputs": [],
   "source": [
    "df['gas_num'] = df.gas_type.map(dicc_gas)"
   ]
  },
  {
   "cell_type": "markdown",
   "id": "711c1c97-fabf-4f4e-b914-77c0d4e90976",
   "metadata": {},
   "source": [
    "### Dividimos el data set en test y train y variable objetivo __CONSUMO__\n"
   ]
  },
  {
   "cell_type": "code",
   "execution_count": 5,
   "id": "c9a72a12-1b55-418f-bd9b-00ff211ebb6a",
   "metadata": {},
   "outputs": [],
   "source": [
    "X = df.drop([\"consume\",\"gas_type\",\"refill gas\"], axis=1)"
   ]
  },
  {
   "cell_type": "code",
   "execution_count": 6,
   "id": "9011043f-0a01-48a2-a921-2d64ea28d7ba",
   "metadata": {},
   "outputs": [
    {
     "data": {
      "text/html": [
       "<div>\n",
       "<style scoped>\n",
       "    .dataframe tbody tr th:only-of-type {\n",
       "        vertical-align: middle;\n",
       "    }\n",
       "\n",
       "    .dataframe tbody tr th {\n",
       "        vertical-align: top;\n",
       "    }\n",
       "\n",
       "    .dataframe thead th {\n",
       "        text-align: right;\n",
       "    }\n",
       "</style>\n",
       "<table border=\"1\" class=\"dataframe\">\n",
       "  <thead>\n",
       "    <tr style=\"text-align: right;\">\n",
       "      <th></th>\n",
       "      <th>distance</th>\n",
       "      <th>speed</th>\n",
       "      <th>temp_inside</th>\n",
       "      <th>temp_outside</th>\n",
       "      <th>AC</th>\n",
       "      <th>rain</th>\n",
       "      <th>sun</th>\n",
       "      <th>refill liters</th>\n",
       "      <th>snow</th>\n",
       "      <th>gas_num</th>\n",
       "    </tr>\n",
       "  </thead>\n",
       "  <tbody>\n",
       "    <tr>\n",
       "      <th>0</th>\n",
       "      <td>28.0</td>\n",
       "      <td>26</td>\n",
       "      <td>21.5</td>\n",
       "      <td>12</td>\n",
       "      <td>0</td>\n",
       "      <td>0</td>\n",
       "      <td>0</td>\n",
       "      <td>45.0</td>\n",
       "      <td>0</td>\n",
       "      <td>1</td>\n",
       "    </tr>\n",
       "    <tr>\n",
       "      <th>1</th>\n",
       "      <td>12.0</td>\n",
       "      <td>30</td>\n",
       "      <td>21.5</td>\n",
       "      <td>13</td>\n",
       "      <td>0</td>\n",
       "      <td>0</td>\n",
       "      <td>0</td>\n",
       "      <td>0.0</td>\n",
       "      <td>0</td>\n",
       "      <td>1</td>\n",
       "    </tr>\n",
       "    <tr>\n",
       "      <th>2</th>\n",
       "      <td>11.2</td>\n",
       "      <td>38</td>\n",
       "      <td>21.5</td>\n",
       "      <td>15</td>\n",
       "      <td>0</td>\n",
       "      <td>0</td>\n",
       "      <td>0</td>\n",
       "      <td>0.0</td>\n",
       "      <td>0</td>\n",
       "      <td>1</td>\n",
       "    </tr>\n",
       "    <tr>\n",
       "      <th>3</th>\n",
       "      <td>12.9</td>\n",
       "      <td>36</td>\n",
       "      <td>21.5</td>\n",
       "      <td>14</td>\n",
       "      <td>0</td>\n",
       "      <td>0</td>\n",
       "      <td>0</td>\n",
       "      <td>0.0</td>\n",
       "      <td>0</td>\n",
       "      <td>1</td>\n",
       "    </tr>\n",
       "    <tr>\n",
       "      <th>4</th>\n",
       "      <td>18.5</td>\n",
       "      <td>46</td>\n",
       "      <td>21.5</td>\n",
       "      <td>15</td>\n",
       "      <td>0</td>\n",
       "      <td>0</td>\n",
       "      <td>0</td>\n",
       "      <td>0.0</td>\n",
       "      <td>0</td>\n",
       "      <td>1</td>\n",
       "    </tr>\n",
       "  </tbody>\n",
       "</table>\n",
       "</div>"
      ],
      "text/plain": [
       "   distance  speed  temp_inside  temp_outside  AC  rain  sun  refill liters  \\\n",
       "0      28.0     26         21.5            12   0     0    0           45.0   \n",
       "1      12.0     30         21.5            13   0     0    0            0.0   \n",
       "2      11.2     38         21.5            15   0     0    0            0.0   \n",
       "3      12.9     36         21.5            14   0     0    0            0.0   \n",
       "4      18.5     46         21.5            15   0     0    0            0.0   \n",
       "\n",
       "   snow  gas_num  \n",
       "0     0        1  \n",
       "1     0        1  \n",
       "2     0        1  \n",
       "3     0        1  \n",
       "4     0        1  "
      ]
     },
     "execution_count": 6,
     "metadata": {},
     "output_type": "execute_result"
    }
   ],
   "source": [
    "X.head()"
   ]
  },
  {
   "cell_type": "code",
   "execution_count": 7,
   "id": "dd95a85d-7be4-413e-a074-f6a4250f8ee1",
   "metadata": {},
   "outputs": [],
   "source": [
    "y = df.consume"
   ]
  },
  {
   "cell_type": "code",
   "execution_count": 8,
   "id": "a99ccf02-3b18-4285-9c46-0f5dfc078db2",
   "metadata": {},
   "outputs": [
    {
     "data": {
      "text/plain": [
       "0    5.0\n",
       "1    4.2\n",
       "2    5.5\n",
       "3    3.9\n",
       "4    4.5\n",
       "Name: consume, dtype: float64"
      ]
     },
     "execution_count": 8,
     "metadata": {},
     "output_type": "execute_result"
    }
   ],
   "source": [
    "y.head()"
   ]
  },
  {
   "cell_type": "code",
   "execution_count": 9,
   "id": "34814c95-9d74-4b05-b769-6c84a0cddf01",
   "metadata": {},
   "outputs": [],
   "source": [
    "X_train, X_test, y_train, y_test = tts(X,y, test_size=0.2)"
   ]
  },
  {
   "cell_type": "markdown",
   "id": "441eedae-b3b0-4e39-bd68-2bb16ba8ba77",
   "metadata": {},
   "source": [
    "### Regresión lineal"
   ]
  },
  {
   "cell_type": "code",
   "execution_count": 10,
   "id": "6c180f1c-3165-4b12-b16f-0673ffe59446",
   "metadata": {},
   "outputs": [],
   "source": [
    "linreg=LinReg()"
   ]
  },
  {
   "cell_type": "code",
   "execution_count": 11,
   "id": "9612ee51-3186-4232-93cb-04451dedce1e",
   "metadata": {},
   "outputs": [
    {
     "data": {
      "text/plain": [
       "LinearRegression()"
      ]
     },
     "execution_count": 11,
     "metadata": {},
     "output_type": "execute_result"
    }
   ],
   "source": [
    "linreg"
   ]
  },
  {
   "cell_type": "code",
   "execution_count": 12,
   "id": "00b081b9-6153-41e0-b77f-b67801103a3a",
   "metadata": {},
   "outputs": [
    {
     "data": {
      "text/plain": [
       "LinearRegression()"
      ]
     },
     "execution_count": 12,
     "metadata": {},
     "output_type": "execute_result"
    }
   ],
   "source": [
    "linreg.fit(X_train, y_train)"
   ]
  },
  {
   "cell_type": "code",
   "execution_count": 13,
   "id": "49520751-f3ee-420b-9773-4af6361ef29e",
   "metadata": {},
   "outputs": [
    {
     "data": {
      "text/plain": [
       "array([ 1.97757845e-04, -1.66618731e-02, -2.32938281e-02, -3.63386599e-02,\n",
       "        2.20376759e-01,  6.78086903e-01, -1.48729909e-01, -1.39331719e-02,\n",
       "       -6.20388498e-01,  1.28095197e-01])"
      ]
     },
     "execution_count": 13,
     "metadata": {},
     "output_type": "execute_result"
    }
   ],
   "source": [
    "linreg.coef_"
   ]
  },
  {
   "cell_type": "code",
   "execution_count": 14,
   "id": "c9a6e516-d914-4c48-854e-49edb8b6b319",
   "metadata": {},
   "outputs": [
    {
     "data": {
      "text/plain": [
       "6.393116107167958"
      ]
     },
     "execution_count": 14,
     "metadata": {},
     "output_type": "execute_result"
    }
   ],
   "source": [
    "linreg.intercept_"
   ]
  },
  {
   "cell_type": "code",
   "execution_count": 15,
   "id": "8ebeb5f0-e75e-42f9-95b4-56935031fad5",
   "metadata": {},
   "outputs": [],
   "source": [
    "y_pred = linreg.predict(X_test)"
   ]
  },
  {
   "cell_type": "code",
   "execution_count": 16,
   "id": "88221836-6d85-475b-a729-90402442294f",
   "metadata": {},
   "outputs": [
    {
     "name": "stdout",
     "output_type": "stream",
     "text": [
      "MAE - Error Medio Absoluto 0.7356792679416676\n",
      "MSE - Error Cuadratico Medio 1.454792770768292\n",
      "RMSE - Raiz Error Cuadratico Medio 1.2061479058425182\n",
      "R2 - Coeficiente de Determinacion 0.1752586502400073\n"
     ]
    }
   ],
   "source": [
    "print('MAE - Error Medio Absoluto', metrics.mean_absolute_error(y_test, y_pred))\n",
    "print('MSE - Error Cuadratico Medio', metrics.mean_squared_error(y_test, y_pred))\n",
    "print('RMSE - Raiz Error Cuadratico Medio', np.sqrt(metrics.mean_squared_error(y_test, y_pred)))\n",
    "print('R2 - Coeficiente de Determinacion', metrics.r2_score(y_test, y_pred))"
   ]
  },
  {
   "cell_type": "markdown",
   "id": "664b38eb-0446-4656-941f-01450bbcf13b",
   "metadata": {},
   "source": [
    "### Intentamos otros modelos"
   ]
  },
  {
   "cell_type": "code",
   "execution_count": 17,
   "id": "ec16ac18-fa8f-44cc-862f-be4e6556dfec",
   "metadata": {},
   "outputs": [],
   "source": [
    "from sklearn.linear_model import Ridge, Lasso\n",
    "from sklearn.linear_model import SGDRegressor\n",
    "from sklearn.neighbors import KNeighborsRegressor\n",
    "from sklearn.ensemble import GradientBoostingRegressor\n",
    "from sklearn.svm import SVR"
   ]
  },
  {
   "cell_type": "code",
   "execution_count": 18,
   "id": "bc2bbee5-f717-4808-bdbc-35a80cb537d1",
   "metadata": {},
   "outputs": [],
   "source": [
    "models={\n",
    "    'ridge': Ridge(),\n",
    "    'lasso': Lasso(),\n",
    "    'sgd': SGDRegressor(),\n",
    "    'knn': KNeighborsRegressor(),\n",
    "    'grad': GradientBoostingRegressor(),\n",
    "}"
   ]
  },
  {
   "cell_type": "code",
   "execution_count": 19,
   "id": "e40ec624-04b8-410e-a253-ff75ef5c301f",
   "metadata": {},
   "outputs": [
    {
     "name": "stdout",
     "output_type": "stream",
     "text": [
      "ENTRENANDO:  ridge\n",
      "ENTRENANDO:  lasso\n",
      "ENTRENANDO:  sgd\n",
      "ENTRENANDO:  knn\n",
      "ENTRENANDO:  grad\n"
     ]
    }
   ],
   "source": [
    "for name, model in models.items():\n",
    "    print(\"ENTRENANDO: \", name)\n",
    "    model.fit(X_train, y_train)"
   ]
  },
  {
   "cell_type": "code",
   "execution_count": 20,
   "id": "e14c95f8-dbc4-4ea7-9bd1-77b379f9e196",
   "metadata": {},
   "outputs": [
    {
     "name": "stdout",
     "output_type": "stream",
     "text": [
      "------ridge------\n",
      "MAE -  0.7300767974177708\n",
      "MSE -  1.4454895985365335\n",
      "RMSE -  1.2022851569143376\n",
      "R2 -  0.18053274217780135\n",
      "------lasso------\n",
      "MAE -  0.7424374234004726\n",
      "MSE -  1.5899314532927007\n",
      "RMSE -  1.260924840461437\n",
      "R2 -  0.09864673569831794\n",
      "------sgd------\n",
      "MAE -  881510283237.197\n",
      "MSE -  1.9438513266773047e+24\n",
      "RMSE -  1394220687939.074\n",
      "R2 -  -1.1019951426139812e+24\n",
      "------knn------\n",
      "MAE -  0.5707692307692308\n",
      "MSE -  0.8151794871794872\n",
      "RMSE -  0.9028729075454015\n",
      "R2 -  0.537863918447977\n",
      "------grad------\n",
      "MAE -  0.5231787826473275\n",
      "MSE -  0.8836441606203987\n",
      "RMSE -  0.9400234893982164\n",
      "R2 -  0.4990503854698647\n"
     ]
    }
   ],
   "source": [
    "for name, model in models.items():\n",
    "    y_pred = model.predict(X_test)\n",
    "    print(f\"------{name}------\")\n",
    "    print('MAE - ', metrics.mean_absolute_error(y_test, y_pred))\n",
    "    print('MSE - ', metrics.mean_squared_error(y_test, y_pred))\n",
    "    print('RMSE - ', np.sqrt(metrics.mean_squared_error(y_test, y_pred)))\n",
    "    print('R2 - ', metrics.r2_score(y_test, y_pred))"
   ]
  },
  {
   "cell_type": "markdown",
   "id": "c7ea3805-b646-4a08-9e21-afac17f9487a",
   "metadata": {},
   "source": [
    "### Como conclusión no parece que sea posible predecir con precisión el consumo"
   ]
  },
  {
   "cell_type": "code",
   "execution_count": null,
   "id": "db87a804-bb9b-4225-99b3-2d681a5fd1dd",
   "metadata": {},
   "outputs": [],
   "source": []
  },
  {
   "cell_type": "code",
   "execution_count": null,
   "id": "f585078b-1ffc-490d-a135-120a305da7a3",
   "metadata": {},
   "outputs": [],
   "source": []
  },
  {
   "cell_type": "code",
   "execution_count": null,
   "id": "14248937-16ec-4efe-9998-6702df82b602",
   "metadata": {},
   "outputs": [],
   "source": []
  }
 ],
 "metadata": {
  "kernelspec": {
   "display_name": "minimal_ds",
   "language": "python",
   "name": "minimal_ds"
  },
  "language_info": {
   "codemirror_mode": {
    "name": "ipython",
    "version": 3
   },
   "file_extension": ".py",
   "mimetype": "text/x-python",
   "name": "python",
   "nbconvert_exporter": "python",
   "pygments_lexer": "ipython3",
   "version": "3.10.0"
  }
 },
 "nbformat": 4,
 "nbformat_minor": 5
}
