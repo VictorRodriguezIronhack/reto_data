{
 "cells": [
  {
   "cell_type": "code",
   "execution_count": 1,
   "metadata": {},
   "outputs": [],
   "source": [
    "import pandas as pd\n",
    "import seaborn as sns"
   ]
  },
  {
   "cell_type": "code",
   "execution_count": 2,
   "metadata": {},
   "outputs": [],
   "source": [
    "measure = pd.read_csv(\"measurements.csv\")\n",
    "measure2 = pd.read_excel(\"measurements2.xlsx\")"
   ]
  },
  {
   "cell_type": "code",
   "execution_count": 3,
   "metadata": {},
   "outputs": [
    {
     "data": {
      "text/html": [
       "<div>\n",
       "<style scoped>\n",
       "    .dataframe tbody tr th:only-of-type {\n",
       "        vertical-align: middle;\n",
       "    }\n",
       "\n",
       "    .dataframe tbody tr th {\n",
       "        vertical-align: top;\n",
       "    }\n",
       "\n",
       "    .dataframe thead th {\n",
       "        text-align: right;\n",
       "    }\n",
       "</style>\n",
       "<table border=\"1\" class=\"dataframe\">\n",
       "  <thead>\n",
       "    <tr style=\"text-align: right;\">\n",
       "      <th></th>\n",
       "      <th>distance</th>\n",
       "      <th>consume</th>\n",
       "      <th>speed</th>\n",
       "      <th>temp_inside</th>\n",
       "      <th>temp_outside</th>\n",
       "      <th>specials</th>\n",
       "      <th>gas_type</th>\n",
       "      <th>AC</th>\n",
       "      <th>rain</th>\n",
       "      <th>sun</th>\n",
       "      <th>refill liters</th>\n",
       "      <th>refill gas</th>\n",
       "    </tr>\n",
       "  </thead>\n",
       "  <tbody>\n",
       "    <tr>\n",
       "      <th>0</th>\n",
       "      <td>28</td>\n",
       "      <td>5</td>\n",
       "      <td>26</td>\n",
       "      <td>21,5</td>\n",
       "      <td>12</td>\n",
       "      <td>NaN</td>\n",
       "      <td>E10</td>\n",
       "      <td>0</td>\n",
       "      <td>0</td>\n",
       "      <td>0</td>\n",
       "      <td>45</td>\n",
       "      <td>E10</td>\n",
       "    </tr>\n",
       "    <tr>\n",
       "      <th>1</th>\n",
       "      <td>12</td>\n",
       "      <td>4,2</td>\n",
       "      <td>30</td>\n",
       "      <td>21,5</td>\n",
       "      <td>13</td>\n",
       "      <td>NaN</td>\n",
       "      <td>E10</td>\n",
       "      <td>0</td>\n",
       "      <td>0</td>\n",
       "      <td>0</td>\n",
       "      <td>NaN</td>\n",
       "      <td>NaN</td>\n",
       "    </tr>\n",
       "    <tr>\n",
       "      <th>2</th>\n",
       "      <td>11,2</td>\n",
       "      <td>5,5</td>\n",
       "      <td>38</td>\n",
       "      <td>21,5</td>\n",
       "      <td>15</td>\n",
       "      <td>NaN</td>\n",
       "      <td>E10</td>\n",
       "      <td>0</td>\n",
       "      <td>0</td>\n",
       "      <td>0</td>\n",
       "      <td>NaN</td>\n",
       "      <td>NaN</td>\n",
       "    </tr>\n",
       "    <tr>\n",
       "      <th>3</th>\n",
       "      <td>12,9</td>\n",
       "      <td>3,9</td>\n",
       "      <td>36</td>\n",
       "      <td>21,5</td>\n",
       "      <td>14</td>\n",
       "      <td>NaN</td>\n",
       "      <td>E10</td>\n",
       "      <td>0</td>\n",
       "      <td>0</td>\n",
       "      <td>0</td>\n",
       "      <td>NaN</td>\n",
       "      <td>NaN</td>\n",
       "    </tr>\n",
       "    <tr>\n",
       "      <th>4</th>\n",
       "      <td>18,5</td>\n",
       "      <td>4,5</td>\n",
       "      <td>46</td>\n",
       "      <td>21,5</td>\n",
       "      <td>15</td>\n",
       "      <td>NaN</td>\n",
       "      <td>E10</td>\n",
       "      <td>0</td>\n",
       "      <td>0</td>\n",
       "      <td>0</td>\n",
       "      <td>NaN</td>\n",
       "      <td>NaN</td>\n",
       "    </tr>\n",
       "  </tbody>\n",
       "</table>\n",
       "</div>"
      ],
      "text/plain": [
       "  distance consume  speed temp_inside  temp_outside specials gas_type  AC  \\\n",
       "0       28       5     26        21,5            12      NaN      E10   0   \n",
       "1       12     4,2     30        21,5            13      NaN      E10   0   \n",
       "2     11,2     5,5     38        21,5            15      NaN      E10   0   \n",
       "3     12,9     3,9     36        21,5            14      NaN      E10   0   \n",
       "4     18,5     4,5     46        21,5            15      NaN      E10   0   \n",
       "\n",
       "   rain  sun refill liters refill gas  \n",
       "0     0    0            45        E10  \n",
       "1     0    0           NaN        NaN  \n",
       "2     0    0           NaN        NaN  \n",
       "3     0    0           NaN        NaN  \n",
       "4     0    0           NaN        NaN  "
      ]
     },
     "execution_count": 3,
     "metadata": {},
     "output_type": "execute_result"
    }
   ],
   "source": [
    "measure.head()"
   ]
  },
  {
   "cell_type": "code",
   "execution_count": 4,
   "metadata": {},
   "outputs": [
    {
     "name": "stdout",
     "output_type": "stream",
     "text": [
      "<class 'pandas.core.frame.DataFrame'>\n",
      "RangeIndex: 388 entries, 0 to 387\n",
      "Data columns (total 12 columns):\n",
      " #   Column         Non-Null Count  Dtype \n",
      "---  ------         --------------  ----- \n",
      " 0   distance       388 non-null    object\n",
      " 1   consume        388 non-null    object\n",
      " 2   speed          388 non-null    int64 \n",
      " 3   temp_inside    376 non-null    object\n",
      " 4   temp_outside   388 non-null    int64 \n",
      " 5   specials       93 non-null     object\n",
      " 6   gas_type       388 non-null    object\n",
      " 7   AC             388 non-null    int64 \n",
      " 8   rain           388 non-null    int64 \n",
      " 9   sun            388 non-null    int64 \n",
      " 10  refill liters  13 non-null     object\n",
      " 11  refill gas     13 non-null     object\n",
      "dtypes: int64(5), object(7)\n",
      "memory usage: 36.5+ KB\n"
     ]
    }
   ],
   "source": [
    "measure.info()"
   ]
  },
  {
   "cell_type": "code",
   "execution_count": 5,
   "metadata": {},
   "outputs": [
    {
     "data": {
      "text/plain": [
       "(388, 12)"
      ]
     },
     "execution_count": 5,
     "metadata": {},
     "output_type": "execute_result"
    }
   ],
   "source": [
    "measure.shape"
   ]
  },
  {
   "cell_type": "code",
   "execution_count": 6,
   "metadata": {},
   "outputs": [
    {
     "data": {
      "text/html": [
       "<div>\n",
       "<style scoped>\n",
       "    .dataframe tbody tr th:only-of-type {\n",
       "        vertical-align: middle;\n",
       "    }\n",
       "\n",
       "    .dataframe tbody tr th {\n",
       "        vertical-align: top;\n",
       "    }\n",
       "\n",
       "    .dataframe thead th {\n",
       "        text-align: right;\n",
       "    }\n",
       "</style>\n",
       "<table border=\"1\" class=\"dataframe\">\n",
       "  <thead>\n",
       "    <tr style=\"text-align: right;\">\n",
       "      <th></th>\n",
       "      <th>count</th>\n",
       "      <th>mean</th>\n",
       "      <th>std</th>\n",
       "      <th>min</th>\n",
       "      <th>25%</th>\n",
       "      <th>50%</th>\n",
       "      <th>75%</th>\n",
       "      <th>max</th>\n",
       "    </tr>\n",
       "  </thead>\n",
       "  <tbody>\n",
       "    <tr>\n",
       "      <th>speed</th>\n",
       "      <td>388.0</td>\n",
       "      <td>41.927835</td>\n",
       "      <td>13.598524</td>\n",
       "      <td>14.0</td>\n",
       "      <td>32.75</td>\n",
       "      <td>40.5</td>\n",
       "      <td>50.0</td>\n",
       "      <td>90.0</td>\n",
       "    </tr>\n",
       "    <tr>\n",
       "      <th>temp_outside</th>\n",
       "      <td>388.0</td>\n",
       "      <td>11.358247</td>\n",
       "      <td>6.991542</td>\n",
       "      <td>-5.0</td>\n",
       "      <td>7.00</td>\n",
       "      <td>10.0</td>\n",
       "      <td>16.0</td>\n",
       "      <td>31.0</td>\n",
       "    </tr>\n",
       "    <tr>\n",
       "      <th>AC</th>\n",
       "      <td>388.0</td>\n",
       "      <td>0.077320</td>\n",
       "      <td>0.267443</td>\n",
       "      <td>0.0</td>\n",
       "      <td>0.00</td>\n",
       "      <td>0.0</td>\n",
       "      <td>0.0</td>\n",
       "      <td>1.0</td>\n",
       "    </tr>\n",
       "    <tr>\n",
       "      <th>rain</th>\n",
       "      <td>388.0</td>\n",
       "      <td>0.123711</td>\n",
       "      <td>0.329677</td>\n",
       "      <td>0.0</td>\n",
       "      <td>0.00</td>\n",
       "      <td>0.0</td>\n",
       "      <td>0.0</td>\n",
       "      <td>1.0</td>\n",
       "    </tr>\n",
       "    <tr>\n",
       "      <th>sun</th>\n",
       "      <td>388.0</td>\n",
       "      <td>0.082474</td>\n",
       "      <td>0.275441</td>\n",
       "      <td>0.0</td>\n",
       "      <td>0.00</td>\n",
       "      <td>0.0</td>\n",
       "      <td>0.0</td>\n",
       "      <td>1.0</td>\n",
       "    </tr>\n",
       "  </tbody>\n",
       "</table>\n",
       "</div>"
      ],
      "text/plain": [
       "              count       mean        std   min    25%   50%   75%   max\n",
       "speed         388.0  41.927835  13.598524  14.0  32.75  40.5  50.0  90.0\n",
       "temp_outside  388.0  11.358247   6.991542  -5.0   7.00  10.0  16.0  31.0\n",
       "AC            388.0   0.077320   0.267443   0.0   0.00   0.0   0.0   1.0\n",
       "rain          388.0   0.123711   0.329677   0.0   0.00   0.0   0.0   1.0\n",
       "sun           388.0   0.082474   0.275441   0.0   0.00   0.0   0.0   1.0"
      ]
     },
     "execution_count": 6,
     "metadata": {},
     "output_type": "execute_result"
    }
   ],
   "source": [
    "measure.describe().T"
   ]
  },
  {
   "cell_type": "code",
   "execution_count": 7,
   "metadata": {},
   "outputs": [
    {
     "data": {
      "text/html": [
       "<div>\n",
       "<style scoped>\n",
       "    .dataframe tbody tr th:only-of-type {\n",
       "        vertical-align: middle;\n",
       "    }\n",
       "\n",
       "    .dataframe tbody tr th {\n",
       "        vertical-align: top;\n",
       "    }\n",
       "\n",
       "    .dataframe thead th {\n",
       "        text-align: right;\n",
       "    }\n",
       "</style>\n",
       "<table border=\"1\" class=\"dataframe\">\n",
       "  <thead>\n",
       "    <tr style=\"text-align: right;\">\n",
       "      <th></th>\n",
       "      <th>distance</th>\n",
       "      <th>consume</th>\n",
       "      <th>speed</th>\n",
       "      <th>temp_inside</th>\n",
       "      <th>temp_outside</th>\n",
       "      <th>specials</th>\n",
       "      <th>gas_type</th>\n",
       "      <th>AC</th>\n",
       "      <th>rain</th>\n",
       "      <th>sun</th>\n",
       "      <th>refill liters</th>\n",
       "      <th>refill gas</th>\n",
       "    </tr>\n",
       "  </thead>\n",
       "  <tbody>\n",
       "    <tr>\n",
       "      <th>0</th>\n",
       "      <td>28.0</td>\n",
       "      <td>5.0</td>\n",
       "      <td>26</td>\n",
       "      <td>21.5</td>\n",
       "      <td>12</td>\n",
       "      <td>NaN</td>\n",
       "      <td>E10</td>\n",
       "      <td>0</td>\n",
       "      <td>0</td>\n",
       "      <td>0</td>\n",
       "      <td>45.0</td>\n",
       "      <td>E10</td>\n",
       "    </tr>\n",
       "    <tr>\n",
       "      <th>1</th>\n",
       "      <td>12.0</td>\n",
       "      <td>4.2</td>\n",
       "      <td>30</td>\n",
       "      <td>21.5</td>\n",
       "      <td>13</td>\n",
       "      <td>NaN</td>\n",
       "      <td>E10</td>\n",
       "      <td>0</td>\n",
       "      <td>0</td>\n",
       "      <td>0</td>\n",
       "      <td>NaN</td>\n",
       "      <td>NaN</td>\n",
       "    </tr>\n",
       "    <tr>\n",
       "      <th>2</th>\n",
       "      <td>11.2</td>\n",
       "      <td>5.5</td>\n",
       "      <td>38</td>\n",
       "      <td>21.5</td>\n",
       "      <td>15</td>\n",
       "      <td>NaN</td>\n",
       "      <td>E10</td>\n",
       "      <td>0</td>\n",
       "      <td>0</td>\n",
       "      <td>0</td>\n",
       "      <td>NaN</td>\n",
       "      <td>NaN</td>\n",
       "    </tr>\n",
       "    <tr>\n",
       "      <th>3</th>\n",
       "      <td>12.9</td>\n",
       "      <td>3.9</td>\n",
       "      <td>36</td>\n",
       "      <td>21.5</td>\n",
       "      <td>14</td>\n",
       "      <td>NaN</td>\n",
       "      <td>E10</td>\n",
       "      <td>0</td>\n",
       "      <td>0</td>\n",
       "      <td>0</td>\n",
       "      <td>NaN</td>\n",
       "      <td>NaN</td>\n",
       "    </tr>\n",
       "    <tr>\n",
       "      <th>4</th>\n",
       "      <td>18.5</td>\n",
       "      <td>4.5</td>\n",
       "      <td>46</td>\n",
       "      <td>21.5</td>\n",
       "      <td>15</td>\n",
       "      <td>NaN</td>\n",
       "      <td>E10</td>\n",
       "      <td>0</td>\n",
       "      <td>0</td>\n",
       "      <td>0</td>\n",
       "      <td>NaN</td>\n",
       "      <td>NaN</td>\n",
       "    </tr>\n",
       "  </tbody>\n",
       "</table>\n",
       "</div>"
      ],
      "text/plain": [
       "   distance  consume  speed  temp_inside  temp_outside specials gas_type  AC  \\\n",
       "0      28.0      5.0     26         21.5            12      NaN      E10   0   \n",
       "1      12.0      4.2     30         21.5            13      NaN      E10   0   \n",
       "2      11.2      5.5     38         21.5            15      NaN      E10   0   \n",
       "3      12.9      3.9     36         21.5            14      NaN      E10   0   \n",
       "4      18.5      4.5     46         21.5            15      NaN      E10   0   \n",
       "\n",
       "   rain  sun  refill liters refill gas  \n",
       "0     0    0           45.0        E10  \n",
       "1     0    0            NaN        NaN  \n",
       "2     0    0            NaN        NaN  \n",
       "3     0    0            NaN        NaN  \n",
       "4     0    0            NaN        NaN  "
      ]
     },
     "execution_count": 7,
     "metadata": {},
     "output_type": "execute_result"
    }
   ],
   "source": [
    "measure2.head()"
   ]
  },
  {
   "cell_type": "code",
   "execution_count": 8,
   "metadata": {},
   "outputs": [
    {
     "data": {
      "text/plain": [
       "(388, 12)"
      ]
     },
     "execution_count": 8,
     "metadata": {},
     "output_type": "execute_result"
    }
   ],
   "source": [
    "measure2.shape"
   ]
  },
  {
   "cell_type": "code",
   "execution_count": 9,
   "metadata": {},
   "outputs": [
    {
     "name": "stdout",
     "output_type": "stream",
     "text": [
      "<class 'pandas.core.frame.DataFrame'>\n",
      "RangeIndex: 388 entries, 0 to 387\n",
      "Data columns (total 12 columns):\n",
      " #   Column         Non-Null Count  Dtype  \n",
      "---  ------         --------------  -----  \n",
      " 0   distance       388 non-null    float64\n",
      " 1   consume        388 non-null    float64\n",
      " 2   speed          388 non-null    int64  \n",
      " 3   temp_inside    376 non-null    float64\n",
      " 4   temp_outside   388 non-null    int64  \n",
      " 5   specials       93 non-null     object \n",
      " 6   gas_type       388 non-null    object \n",
      " 7   AC             388 non-null    int64  \n",
      " 8   rain           388 non-null    int64  \n",
      " 9   sun            388 non-null    int64  \n",
      " 10  refill liters  13 non-null     float64\n",
      " 11  refill gas     13 non-null     object \n",
      "dtypes: float64(4), int64(5), object(3)\n",
      "memory usage: 36.5+ KB\n"
     ]
    }
   ],
   "source": [
    "measure2.info()"
   ]
  },
  {
   "cell_type": "code",
   "execution_count": 10,
   "metadata": {},
   "outputs": [
    {
     "data": {
      "text/html": [
       "<div>\n",
       "<style scoped>\n",
       "    .dataframe tbody tr th:only-of-type {\n",
       "        vertical-align: middle;\n",
       "    }\n",
       "\n",
       "    .dataframe tbody tr th {\n",
       "        vertical-align: top;\n",
       "    }\n",
       "\n",
       "    .dataframe thead th {\n",
       "        text-align: right;\n",
       "    }\n",
       "</style>\n",
       "<table border=\"1\" class=\"dataframe\">\n",
       "  <thead>\n",
       "    <tr style=\"text-align: right;\">\n",
       "      <th></th>\n",
       "      <th>count</th>\n",
       "      <th>mean</th>\n",
       "      <th>std</th>\n",
       "      <th>min</th>\n",
       "      <th>25%</th>\n",
       "      <th>50%</th>\n",
       "      <th>75%</th>\n",
       "      <th>max</th>\n",
       "    </tr>\n",
       "  </thead>\n",
       "  <tbody>\n",
       "    <tr>\n",
       "      <th>speed</th>\n",
       "      <td>388.0</td>\n",
       "      <td>41.927835</td>\n",
       "      <td>13.598524</td>\n",
       "      <td>14.0</td>\n",
       "      <td>32.75</td>\n",
       "      <td>40.5</td>\n",
       "      <td>50.0</td>\n",
       "      <td>90.0</td>\n",
       "    </tr>\n",
       "    <tr>\n",
       "      <th>temp_outside</th>\n",
       "      <td>388.0</td>\n",
       "      <td>11.358247</td>\n",
       "      <td>6.991542</td>\n",
       "      <td>-5.0</td>\n",
       "      <td>7.00</td>\n",
       "      <td>10.0</td>\n",
       "      <td>16.0</td>\n",
       "      <td>31.0</td>\n",
       "    </tr>\n",
       "    <tr>\n",
       "      <th>AC</th>\n",
       "      <td>388.0</td>\n",
       "      <td>0.077320</td>\n",
       "      <td>0.267443</td>\n",
       "      <td>0.0</td>\n",
       "      <td>0.00</td>\n",
       "      <td>0.0</td>\n",
       "      <td>0.0</td>\n",
       "      <td>1.0</td>\n",
       "    </tr>\n",
       "    <tr>\n",
       "      <th>rain</th>\n",
       "      <td>388.0</td>\n",
       "      <td>0.123711</td>\n",
       "      <td>0.329677</td>\n",
       "      <td>0.0</td>\n",
       "      <td>0.00</td>\n",
       "      <td>0.0</td>\n",
       "      <td>0.0</td>\n",
       "      <td>1.0</td>\n",
       "    </tr>\n",
       "    <tr>\n",
       "      <th>sun</th>\n",
       "      <td>388.0</td>\n",
       "      <td>0.082474</td>\n",
       "      <td>0.275441</td>\n",
       "      <td>0.0</td>\n",
       "      <td>0.00</td>\n",
       "      <td>0.0</td>\n",
       "      <td>0.0</td>\n",
       "      <td>1.0</td>\n",
       "    </tr>\n",
       "  </tbody>\n",
       "</table>\n",
       "</div>"
      ],
      "text/plain": [
       "              count       mean        std   min    25%   50%   75%   max\n",
       "speed         388.0  41.927835  13.598524  14.0  32.75  40.5  50.0  90.0\n",
       "temp_outside  388.0  11.358247   6.991542  -5.0   7.00  10.0  16.0  31.0\n",
       "AC            388.0   0.077320   0.267443   0.0   0.00   0.0   0.0   1.0\n",
       "rain          388.0   0.123711   0.329677   0.0   0.00   0.0   0.0   1.0\n",
       "sun           388.0   0.082474   0.275441   0.0   0.00   0.0   0.0   1.0"
      ]
     },
     "execution_count": 10,
     "metadata": {},
     "output_type": "execute_result"
    }
   ],
   "source": [
    "measure.describe().T"
   ]
  },
  {
   "cell_type": "code",
   "execution_count": 11,
   "metadata": {},
   "outputs": [
    {
     "data": {
      "text/plain": [
       "distance           0\n",
       "consume            0\n",
       "speed              0\n",
       "temp_inside       12\n",
       "temp_outside       0\n",
       "specials         295\n",
       "gas_type           0\n",
       "AC                 0\n",
       "rain               0\n",
       "sun                0\n",
       "refill liters    375\n",
       "refill gas       375\n",
       "dtype: int64"
      ]
     },
     "execution_count": 11,
     "metadata": {},
     "output_type": "execute_result"
    }
   ],
   "source": [
    "measure2.isna().sum()"
   ]
  },
  {
   "cell_type": "code",
   "execution_count": 12,
   "metadata": {},
   "outputs": [
    {
     "data": {
      "text/plain": [
       "37.7    2\n",
       "39.0    2\n",
       "45.0    2\n",
       "37.2    1\n",
       "38.3    1\n",
       "37.6    1\n",
       "37.0    1\n",
       "41.0    1\n",
       "10.0    1\n",
       "38.0    1\n",
       "Name: refill liters, dtype: int64"
      ]
     },
     "execution_count": 12,
     "metadata": {},
     "output_type": "execute_result"
    }
   ],
   "source": [
    "measure2[\"refill liters\"].value_counts()"
   ]
  },
  {
   "cell_type": "code",
   "execution_count": 13,
   "metadata": {},
   "outputs": [
    {
     "data": {
      "text/html": [
       "<div>\n",
       "<style scoped>\n",
       "    .dataframe tbody tr th:only-of-type {\n",
       "        vertical-align: middle;\n",
       "    }\n",
       "\n",
       "    .dataframe tbody tr th {\n",
       "        vertical-align: top;\n",
       "    }\n",
       "\n",
       "    .dataframe thead th {\n",
       "        text-align: right;\n",
       "    }\n",
       "</style>\n",
       "<table border=\"1\" class=\"dataframe\">\n",
       "  <thead>\n",
       "    <tr style=\"text-align: right;\">\n",
       "      <th></th>\n",
       "      <th>distance</th>\n",
       "      <th>consume</th>\n",
       "      <th>speed</th>\n",
       "      <th>temp_inside</th>\n",
       "      <th>temp_outside</th>\n",
       "      <th>specials</th>\n",
       "      <th>gas_type</th>\n",
       "      <th>AC</th>\n",
       "      <th>rain</th>\n",
       "      <th>sun</th>\n",
       "      <th>refill liters</th>\n",
       "      <th>refill gas</th>\n",
       "    </tr>\n",
       "  </thead>\n",
       "  <tbody>\n",
       "    <tr>\n",
       "      <th>0</th>\n",
       "      <td>28.0</td>\n",
       "      <td>5.0</td>\n",
       "      <td>26</td>\n",
       "      <td>21.5</td>\n",
       "      <td>12</td>\n",
       "      <td>NaN</td>\n",
       "      <td>E10</td>\n",
       "      <td>0</td>\n",
       "      <td>0</td>\n",
       "      <td>0</td>\n",
       "      <td>45.0</td>\n",
       "      <td>E10</td>\n",
       "    </tr>\n",
       "    <tr>\n",
       "      <th>139</th>\n",
       "      <td>16.1</td>\n",
       "      <td>5.4</td>\n",
       "      <td>24</td>\n",
       "      <td>21.5</td>\n",
       "      <td>7</td>\n",
       "      <td>rain</td>\n",
       "      <td>E10</td>\n",
       "      <td>0</td>\n",
       "      <td>1</td>\n",
       "      <td>0</td>\n",
       "      <td>38.0</td>\n",
       "      <td>E10</td>\n",
       "    </tr>\n",
       "    <tr>\n",
       "      <th>171</th>\n",
       "      <td>44.4</td>\n",
       "      <td>4.8</td>\n",
       "      <td>38</td>\n",
       "      <td>21.5</td>\n",
       "      <td>8</td>\n",
       "      <td>NaN</td>\n",
       "      <td>E10</td>\n",
       "      <td>0</td>\n",
       "      <td>0</td>\n",
       "      <td>0</td>\n",
       "      <td>38.3</td>\n",
       "      <td>E10</td>\n",
       "    </tr>\n",
       "    <tr>\n",
       "      <th>234</th>\n",
       "      <td>19.0</td>\n",
       "      <td>4.5</td>\n",
       "      <td>29</td>\n",
       "      <td>22.5</td>\n",
       "      <td>10</td>\n",
       "      <td>NaN</td>\n",
       "      <td>E10</td>\n",
       "      <td>0</td>\n",
       "      <td>0</td>\n",
       "      <td>0</td>\n",
       "      <td>39.0</td>\n",
       "      <td>E10</td>\n",
       "    </tr>\n",
       "    <tr>\n",
       "      <th>325</th>\n",
       "      <td>16.6</td>\n",
       "      <td>3.7</td>\n",
       "      <td>49</td>\n",
       "      <td>22.0</td>\n",
       "      <td>17</td>\n",
       "      <td>NaN</td>\n",
       "      <td>E10</td>\n",
       "      <td>0</td>\n",
       "      <td>0</td>\n",
       "      <td>0</td>\n",
       "      <td>37.7</td>\n",
       "      <td>E10</td>\n",
       "    </tr>\n",
       "  </tbody>\n",
       "</table>\n",
       "</div>"
      ],
      "text/plain": [
       "     distance  consume  speed  temp_inside  temp_outside specials gas_type  \\\n",
       "0        28.0      5.0     26         21.5            12      NaN      E10   \n",
       "139      16.1      5.4     24         21.5             7     rain      E10   \n",
       "171      44.4      4.8     38         21.5             8      NaN      E10   \n",
       "234      19.0      4.5     29         22.5            10      NaN      E10   \n",
       "325      16.6      3.7     49         22.0            17      NaN      E10   \n",
       "\n",
       "     AC  rain  sun  refill liters refill gas  \n",
       "0     0     0    0           45.0        E10  \n",
       "139   0     1    0           38.0        E10  \n",
       "171   0     0    0           38.3        E10  \n",
       "234   0     0    0           39.0        E10  \n",
       "325   0     0    0           37.7        E10  "
      ]
     },
     "execution_count": 13,
     "metadata": {},
     "output_type": "execute_result"
    }
   ],
   "source": [
    "measure2[measure2[\"refill gas\"]==\"E10\"]"
   ]
  },
  {
   "cell_type": "code",
   "execution_count": 14,
   "metadata": {},
   "outputs": [
    {
     "data": {
      "text/html": [
       "<div>\n",
       "<style scoped>\n",
       "    .dataframe tbody tr th:only-of-type {\n",
       "        vertical-align: middle;\n",
       "    }\n",
       "\n",
       "    .dataframe tbody tr th {\n",
       "        vertical-align: top;\n",
       "    }\n",
       "\n",
       "    .dataframe thead th {\n",
       "        text-align: right;\n",
       "    }\n",
       "</style>\n",
       "<table border=\"1\" class=\"dataframe\">\n",
       "  <thead>\n",
       "    <tr style=\"text-align: right;\">\n",
       "      <th></th>\n",
       "      <th>distance</th>\n",
       "      <th>consume</th>\n",
       "      <th>speed</th>\n",
       "      <th>temp_inside</th>\n",
       "      <th>temp_outside</th>\n",
       "      <th>specials</th>\n",
       "      <th>gas_type</th>\n",
       "      <th>AC</th>\n",
       "      <th>rain</th>\n",
       "      <th>sun</th>\n",
       "      <th>refill_liters</th>\n",
       "      <th>refill_gas</th>\n",
       "    </tr>\n",
       "  </thead>\n",
       "  <tbody>\n",
       "    <tr>\n",
       "      <th>0</th>\n",
       "      <td>28.0</td>\n",
       "      <td>5.0</td>\n",
       "      <td>26</td>\n",
       "      <td>21.5</td>\n",
       "      <td>12</td>\n",
       "      <td>NaN</td>\n",
       "      <td>E10</td>\n",
       "      <td>0</td>\n",
       "      <td>0</td>\n",
       "      <td>0</td>\n",
       "      <td>45.0</td>\n",
       "      <td>E10</td>\n",
       "    </tr>\n",
       "    <tr>\n",
       "      <th>1</th>\n",
       "      <td>12.0</td>\n",
       "      <td>4.2</td>\n",
       "      <td>30</td>\n",
       "      <td>21.5</td>\n",
       "      <td>13</td>\n",
       "      <td>NaN</td>\n",
       "      <td>E10</td>\n",
       "      <td>0</td>\n",
       "      <td>0</td>\n",
       "      <td>0</td>\n",
       "      <td>NaN</td>\n",
       "      <td>NaN</td>\n",
       "    </tr>\n",
       "    <tr>\n",
       "      <th>2</th>\n",
       "      <td>11.2</td>\n",
       "      <td>5.5</td>\n",
       "      <td>38</td>\n",
       "      <td>21.5</td>\n",
       "      <td>15</td>\n",
       "      <td>NaN</td>\n",
       "      <td>E10</td>\n",
       "      <td>0</td>\n",
       "      <td>0</td>\n",
       "      <td>0</td>\n",
       "      <td>NaN</td>\n",
       "      <td>NaN</td>\n",
       "    </tr>\n",
       "    <tr>\n",
       "      <th>3</th>\n",
       "      <td>12.9</td>\n",
       "      <td>3.9</td>\n",
       "      <td>36</td>\n",
       "      <td>21.5</td>\n",
       "      <td>14</td>\n",
       "      <td>NaN</td>\n",
       "      <td>E10</td>\n",
       "      <td>0</td>\n",
       "      <td>0</td>\n",
       "      <td>0</td>\n",
       "      <td>NaN</td>\n",
       "      <td>NaN</td>\n",
       "    </tr>\n",
       "    <tr>\n",
       "      <th>4</th>\n",
       "      <td>18.5</td>\n",
       "      <td>4.5</td>\n",
       "      <td>46</td>\n",
       "      <td>21.5</td>\n",
       "      <td>15</td>\n",
       "      <td>NaN</td>\n",
       "      <td>E10</td>\n",
       "      <td>0</td>\n",
       "      <td>0</td>\n",
       "      <td>0</td>\n",
       "      <td>NaN</td>\n",
       "      <td>NaN</td>\n",
       "    </tr>\n",
       "  </tbody>\n",
       "</table>\n",
       "</div>"
      ],
      "text/plain": [
       "   distance  consume  speed  temp_inside  temp_outside specials gas_type  AC  \\\n",
       "0      28.0      5.0     26         21.5            12      NaN      E10   0   \n",
       "1      12.0      4.2     30         21.5            13      NaN      E10   0   \n",
       "2      11.2      5.5     38         21.5            15      NaN      E10   0   \n",
       "3      12.9      3.9     36         21.5            14      NaN      E10   0   \n",
       "4      18.5      4.5     46         21.5            15      NaN      E10   0   \n",
       "\n",
       "   rain  sun  refill_liters refill_gas  \n",
       "0     0    0           45.0        E10  \n",
       "1     0    0            NaN        NaN  \n",
       "2     0    0            NaN        NaN  \n",
       "3     0    0            NaN        NaN  \n",
       "4     0    0            NaN        NaN  "
      ]
     },
     "execution_count": 14,
     "metadata": {},
     "output_type": "execute_result"
    }
   ],
   "source": [
    "measure2 = measure2.rename(columns = lambda x:x.replace(\" \", \"_\"))\n",
    "measure2.head()"
   ]
  },
  {
   "cell_type": "code",
   "execution_count": 15,
   "metadata": {},
   "outputs": [],
   "source": [
    "#elimino la columna \"refill_gas\" ya que tiene la misma información que \"gas_type\" en los valores no nulos\n",
    "measure2 = measure2.drop(columns = \"refill_gas\")"
   ]
  },
  {
   "cell_type": "code",
   "execution_count": 16,
   "metadata": {},
   "outputs": [],
   "source": [
    "#en la columna \"temp_inside\" relleno los valores nulos con la media del resto\n",
    "measure2[\"temp_inside\"] = measure2[\"temp_inside\"].fillna(measure2[\"temp_inside\"].mean())"
   ]
  },
  {
   "cell_type": "code",
   "execution_count": 17,
   "metadata": {},
   "outputs": [
    {
     "data": {
      "text/plain": [
       "(388, 11)"
      ]
     },
     "execution_count": 17,
     "metadata": {},
     "output_type": "execute_result"
    }
   ],
   "source": [
    "measure2.shape"
   ]
  },
  {
   "cell_type": "code",
   "execution_count": 18,
   "metadata": {},
   "outputs": [
    {
     "data": {
      "text/plain": [
       "rain                  32\n",
       "sun                   27\n",
       "AC rain                9\n",
       "ac                     8\n",
       "AC                     6\n",
       "snow                   3\n",
       "sun ac                 3\n",
       "AC snow                1\n",
       "ac rain                1\n",
       "half rain half sun     1\n",
       "AC sun                 1\n",
       "AC Sun                 1\n",
       "Name: specials, dtype: int64"
      ]
     },
     "execution_count": 18,
     "metadata": {},
     "output_type": "execute_result"
    }
   ],
   "source": [
    "measure2.specials.value_counts()"
   ]
  },
  {
   "cell_type": "code",
   "execution_count": 19,
   "metadata": {},
   "outputs": [
    {
     "data": {
      "text/plain": [
       "37.7    2\n",
       "39.0    2\n",
       "45.0    2\n",
       "37.2    1\n",
       "38.3    1\n",
       "37.6    1\n",
       "37.0    1\n",
       "41.0    1\n",
       "10.0    1\n",
       "38.0    1\n",
       "Name: refill_liters, dtype: int64"
      ]
     },
     "execution_count": 19,
     "metadata": {},
     "output_type": "execute_result"
    }
   ],
   "source": [
    "measure2.refill_liters.value_counts()"
   ]
  },
  {
   "cell_type": "code",
   "execution_count": 20,
   "metadata": {},
   "outputs": [
    {
     "data": {
      "text/plain": [
       "Index(['distance', 'consume', 'speed', 'temp_inside', 'temp_outside',\n",
       "       'gas_type', 'AC', 'rain', 'sun'],\n",
       "      dtype='object')"
      ]
     },
     "execution_count": 20,
     "metadata": {},
     "output_type": "execute_result"
    }
   ],
   "source": [
    "col = [\"refill_liters\", \"specials\"]\n",
    "measure2 = measure2.drop(columns=col)\n",
    "measure2.columns"
   ]
  },
  {
   "cell_type": "code",
   "execution_count": 21,
   "metadata": {},
   "outputs": [
    {
     "name": "stdout",
     "output_type": "stream",
     "text": [
      "<class 'pandas.core.frame.DataFrame'>\n",
      "RangeIndex: 388 entries, 0 to 387\n",
      "Data columns (total 9 columns):\n",
      " #   Column        Non-Null Count  Dtype  \n",
      "---  ------        --------------  -----  \n",
      " 0   distance      388 non-null    float64\n",
      " 1   consume       388 non-null    float64\n",
      " 2   speed         388 non-null    int64  \n",
      " 3   temp_inside   388 non-null    float64\n",
      " 4   temp_outside  388 non-null    int64  \n",
      " 5   gas_type      388 non-null    object \n",
      " 6   AC            388 non-null    int64  \n",
      " 7   rain          388 non-null    int64  \n",
      " 8   sun           388 non-null    int64  \n",
      "dtypes: float64(3), int64(5), object(1)\n",
      "memory usage: 27.4+ KB\n"
     ]
    }
   ],
   "source": [
    "measure2.info()"
   ]
  },
  {
   "cell_type": "code",
   "execution_count": 22,
   "metadata": {},
   "outputs": [
    {
     "data": {
      "text/plain": [
       "array(['E10', 'SP98'], dtype=object)"
      ]
     },
     "execution_count": 22,
     "metadata": {},
     "output_type": "execute_result"
    }
   ],
   "source": [
    "measure2.gas_type.unique()"
   ]
  },
  {
   "cell_type": "code",
   "execution_count": 23,
   "metadata": {},
   "outputs": [
    {
     "data": {
      "text/html": [
       "<style  type=\"text/css\" >\n",
       "#T_9cbe48a8_a5de_11ec_9755_bb59e6ec2342row0_col0,#T_9cbe48a8_a5de_11ec_9755_bb59e6ec2342row1_col1,#T_9cbe48a8_a5de_11ec_9755_bb59e6ec2342row2_col2,#T_9cbe48a8_a5de_11ec_9755_bb59e6ec2342row3_col3,#T_9cbe48a8_a5de_11ec_9755_bb59e6ec2342row4_col4,#T_9cbe48a8_a5de_11ec_9755_bb59e6ec2342row5_col5,#T_9cbe48a8_a5de_11ec_9755_bb59e6ec2342row6_col6,#T_9cbe48a8_a5de_11ec_9755_bb59e6ec2342row7_col7{\n",
       "            background-color:  #b40426;\n",
       "            color:  #f1f1f1;\n",
       "        }#T_9cbe48a8_a5de_11ec_9755_bb59e6ec2342row0_col1{\n",
       "            background-color:  #688aef;\n",
       "            color:  #000000;\n",
       "        }#T_9cbe48a8_a5de_11ec_9755_bb59e6ec2342row0_col2{\n",
       "            background-color:  #f6bfa6;\n",
       "            color:  #000000;\n",
       "        }#T_9cbe48a8_a5de_11ec_9755_bb59e6ec2342row0_col3{\n",
       "            background-color:  #7da0f9;\n",
       "            color:  #000000;\n",
       "        }#T_9cbe48a8_a5de_11ec_9755_bb59e6ec2342row0_col4{\n",
       "            background-color:  #a2c1ff;\n",
       "            color:  #000000;\n",
       "        }#T_9cbe48a8_a5de_11ec_9755_bb59e6ec2342row0_col5{\n",
       "            background-color:  #3d50c3;\n",
       "            color:  #f1f1f1;\n",
       "        }#T_9cbe48a8_a5de_11ec_9755_bb59e6ec2342row0_col6{\n",
       "            background-color:  #6687ed;\n",
       "            color:  #000000;\n",
       "        }#T_9cbe48a8_a5de_11ec_9755_bb59e6ec2342row0_col7,#T_9cbe48a8_a5de_11ec_9755_bb59e6ec2342row2_col7{\n",
       "            background-color:  #81a4fb;\n",
       "            color:  #000000;\n",
       "        }#T_9cbe48a8_a5de_11ec_9755_bb59e6ec2342row1_col0,#T_9cbe48a8_a5de_11ec_9755_bb59e6ec2342row1_col2,#T_9cbe48a8_a5de_11ec_9755_bb59e6ec2342row1_col3,#T_9cbe48a8_a5de_11ec_9755_bb59e6ec2342row1_col4,#T_9cbe48a8_a5de_11ec_9755_bb59e6ec2342row1_col7,#T_9cbe48a8_a5de_11ec_9755_bb59e6ec2342row2_col5,#T_9cbe48a8_a5de_11ec_9755_bb59e6ec2342row4_col1,#T_9cbe48a8_a5de_11ec_9755_bb59e6ec2342row4_col6{\n",
       "            background-color:  #3b4cc0;\n",
       "            color:  #f1f1f1;\n",
       "        }#T_9cbe48a8_a5de_11ec_9755_bb59e6ec2342row1_col5,#T_9cbe48a8_a5de_11ec_9755_bb59e6ec2342row3_col6{\n",
       "            background-color:  #6282ea;\n",
       "            color:  #000000;\n",
       "        }#T_9cbe48a8_a5de_11ec_9755_bb59e6ec2342row1_col6{\n",
       "            background-color:  #b5cdfa;\n",
       "            color:  #000000;\n",
       "        }#T_9cbe48a8_a5de_11ec_9755_bb59e6ec2342row2_col0{\n",
       "            background-color:  #f3c8b2;\n",
       "            color:  #000000;\n",
       "        }#T_9cbe48a8_a5de_11ec_9755_bb59e6ec2342row2_col1{\n",
       "            background-color:  #506bda;\n",
       "            color:  #000000;\n",
       "        }#T_9cbe48a8_a5de_11ec_9755_bb59e6ec2342row2_col3{\n",
       "            background-color:  #779af7;\n",
       "            color:  #000000;\n",
       "        }#T_9cbe48a8_a5de_11ec_9755_bb59e6ec2342row2_col4{\n",
       "            background-color:  #8fb1fe;\n",
       "            color:  #000000;\n",
       "        }#T_9cbe48a8_a5de_11ec_9755_bb59e6ec2342row2_col6{\n",
       "            background-color:  #6f92f3;\n",
       "            color:  #000000;\n",
       "        }#T_9cbe48a8_a5de_11ec_9755_bb59e6ec2342row3_col0{\n",
       "            background-color:  #7597f6;\n",
       "            color:  #000000;\n",
       "        }#T_9cbe48a8_a5de_11ec_9755_bb59e6ec2342row3_col1{\n",
       "            background-color:  #6180e9;\n",
       "            color:  #000000;\n",
       "        }#T_9cbe48a8_a5de_11ec_9755_bb59e6ec2342row3_col2{\n",
       "            background-color:  #86a9fc;\n",
       "            color:  #000000;\n",
       "        }#T_9cbe48a8_a5de_11ec_9755_bb59e6ec2342row3_col4{\n",
       "            background-color:  #e0dbd8;\n",
       "            color:  #000000;\n",
       "        }#T_9cbe48a8_a5de_11ec_9755_bb59e6ec2342row3_col5{\n",
       "            background-color:  #a6c4fe;\n",
       "            color:  #000000;\n",
       "        }#T_9cbe48a8_a5de_11ec_9755_bb59e6ec2342row3_col7{\n",
       "            background-color:  #b1cbfc;\n",
       "            color:  #000000;\n",
       "        }#T_9cbe48a8_a5de_11ec_9755_bb59e6ec2342row4_col0,#T_9cbe48a8_a5de_11ec_9755_bb59e6ec2342row6_col2{\n",
       "            background-color:  #799cf8;\n",
       "            color:  #000000;\n",
       "        }#T_9cbe48a8_a5de_11ec_9755_bb59e6ec2342row4_col2,#T_9cbe48a8_a5de_11ec_9755_bb59e6ec2342row4_col5{\n",
       "            background-color:  #7a9df8;\n",
       "            color:  #000000;\n",
       "        }#T_9cbe48a8_a5de_11ec_9755_bb59e6ec2342row4_col3{\n",
       "            background-color:  #cedaeb;\n",
       "            color:  #000000;\n",
       "        }#T_9cbe48a8_a5de_11ec_9755_bb59e6ec2342row4_col7{\n",
       "            background-color:  #cdd9ec;\n",
       "            color:  #000000;\n",
       "        }#T_9cbe48a8_a5de_11ec_9755_bb59e6ec2342row5_col0{\n",
       "            background-color:  #5673e0;\n",
       "            color:  #000000;\n",
       "        }#T_9cbe48a8_a5de_11ec_9755_bb59e6ec2342row5_col1{\n",
       "            background-color:  #a3c2fe;\n",
       "            color:  #000000;\n",
       "        }#T_9cbe48a8_a5de_11ec_9755_bb59e6ec2342row5_col2{\n",
       "            background-color:  #6c8ff1;\n",
       "            color:  #000000;\n",
       "        }#T_9cbe48a8_a5de_11ec_9755_bb59e6ec2342row5_col3{\n",
       "            background-color:  #bfd3f6;\n",
       "            color:  #000000;\n",
       "        }#T_9cbe48a8_a5de_11ec_9755_bb59e6ec2342row5_col4{\n",
       "            background-color:  #b6cefa;\n",
       "            color:  #000000;\n",
       "        }#T_9cbe48a8_a5de_11ec_9755_bb59e6ec2342row5_col6{\n",
       "            background-color:  #b3cdfb;\n",
       "            color:  #000000;\n",
       "        }#T_9cbe48a8_a5de_11ec_9755_bb59e6ec2342row5_col7{\n",
       "            background-color:  #82a6fb;\n",
       "            color:  #000000;\n",
       "        }#T_9cbe48a8_a5de_11ec_9755_bb59e6ec2342row6_col0{\n",
       "            background-color:  #5875e1;\n",
       "            color:  #000000;\n",
       "        }#T_9cbe48a8_a5de_11ec_9755_bb59e6ec2342row6_col1{\n",
       "            background-color:  #cad8ef;\n",
       "            color:  #000000;\n",
       "        }#T_9cbe48a8_a5de_11ec_9755_bb59e6ec2342row6_col3{\n",
       "            background-color:  #5b7ae5;\n",
       "            color:  #000000;\n",
       "        }#T_9cbe48a8_a5de_11ec_9755_bb59e6ec2342row6_col4{\n",
       "            background-color:  #5a78e4;\n",
       "            color:  #000000;\n",
       "        }#T_9cbe48a8_a5de_11ec_9755_bb59e6ec2342row6_col5{\n",
       "            background-color:  #93b5fe;\n",
       "            color:  #000000;\n",
       "        }#T_9cbe48a8_a5de_11ec_9755_bb59e6ec2342row6_col7{\n",
       "            background-color:  #4961d2;\n",
       "            color:  #f1f1f1;\n",
       "        }#T_9cbe48a8_a5de_11ec_9755_bb59e6ec2342row7_col0{\n",
       "            background-color:  #7699f6;\n",
       "            color:  #000000;\n",
       "        }#T_9cbe48a8_a5de_11ec_9755_bb59e6ec2342row7_col1{\n",
       "            background-color:  #5e7de7;\n",
       "            color:  #000000;\n",
       "        }#T_9cbe48a8_a5de_11ec_9755_bb59e6ec2342row7_col2{\n",
       "            background-color:  #8db0fe;\n",
       "            color:  #000000;\n",
       "        }#T_9cbe48a8_a5de_11ec_9755_bb59e6ec2342row7_col3{\n",
       "            background-color:  #aec9fc;\n",
       "            color:  #000000;\n",
       "        }#T_9cbe48a8_a5de_11ec_9755_bb59e6ec2342row7_col4{\n",
       "            background-color:  #dedcdb;\n",
       "            color:  #000000;\n",
       "        }#T_9cbe48a8_a5de_11ec_9755_bb59e6ec2342row7_col5{\n",
       "            background-color:  #5f7fe8;\n",
       "            color:  #000000;\n",
       "        }#T_9cbe48a8_a5de_11ec_9755_bb59e6ec2342row7_col6{\n",
       "            background-color:  #4c66d6;\n",
       "            color:  #000000;\n",
       "        }</style><table id=\"T_9cbe48a8_a5de_11ec_9755_bb59e6ec2342\" ><thead>    <tr>        <th class=\"blank level0\" ></th>        <th class=\"col_heading level0 col0\" >distance</th>        <th class=\"col_heading level0 col1\" >consume</th>        <th class=\"col_heading level0 col2\" >speed</th>        <th class=\"col_heading level0 col3\" >temp_inside</th>        <th class=\"col_heading level0 col4\" >temp_outside</th>        <th class=\"col_heading level0 col5\" >AC</th>        <th class=\"col_heading level0 col6\" >rain</th>        <th class=\"col_heading level0 col7\" >sun</th>    </tr></thead><tbody>\n",
       "                <tr>\n",
       "                        <th id=\"T_9cbe48a8_a5de_11ec_9755_bb59e6ec2342level0_row0\" class=\"row_heading level0 row0\" >distance</th>\n",
       "                        <td id=\"T_9cbe48a8_a5de_11ec_9755_bb59e6ec2342row0_col0\" class=\"data row0 col0\" >1.000000</td>\n",
       "                        <td id=\"T_9cbe48a8_a5de_11ec_9755_bb59e6ec2342row0_col1\" class=\"data row0 col1\" >-0.128967</td>\n",
       "                        <td id=\"T_9cbe48a8_a5de_11ec_9755_bb59e6ec2342row0_col2\" class=\"data row0 col2\" >0.562299</td>\n",
       "                        <td id=\"T_9cbe48a8_a5de_11ec_9755_bb59e6ec2342row0_col3\" class=\"data row0 col3\" >0.075178</td>\n",
       "                        <td id=\"T_9cbe48a8_a5de_11ec_9755_bb59e6ec2342row0_col4\" class=\"data row0 col4\" >0.088175</td>\n",
       "                        <td id=\"T_9cbe48a8_a5de_11ec_9755_bb59e6ec2342row0_col5\" class=\"data row0 col5\" >-0.025738</td>\n",
       "                        <td id=\"T_9cbe48a8_a5de_11ec_9755_bb59e6ec2342row0_col6\" class=\"data row0 col6\" >-0.019791</td>\n",
       "                        <td id=\"T_9cbe48a8_a5de_11ec_9755_bb59e6ec2342row0_col7\" class=\"data row0 col7\" >0.081120</td>\n",
       "            </tr>\n",
       "            <tr>\n",
       "                        <th id=\"T_9cbe48a8_a5de_11ec_9755_bb59e6ec2342level0_row1\" class=\"row_heading level0 row1\" >consume</th>\n",
       "                        <td id=\"T_9cbe48a8_a5de_11ec_9755_bb59e6ec2342row1_col0\" class=\"data row1 col0\" >-0.128967</td>\n",
       "                        <td id=\"T_9cbe48a8_a5de_11ec_9755_bb59e6ec2342row1_col1\" class=\"data row1 col1\" >1.000000</td>\n",
       "                        <td id=\"T_9cbe48a8_a5de_11ec_9755_bb59e6ec2342row1_col2\" class=\"data row1 col2\" >-0.227866</td>\n",
       "                        <td id=\"T_9cbe48a8_a5de_11ec_9755_bb59e6ec2342row1_col3\" class=\"data row1 col3\" >-0.160623</td>\n",
       "                        <td id=\"T_9cbe48a8_a5de_11ec_9755_bb59e6ec2342row1_col4\" class=\"data row1 col4\" >-0.320811</td>\n",
       "                        <td id=\"T_9cbe48a8_a5de_11ec_9755_bb59e6ec2342row1_col5\" class=\"data row1 col5\" >0.096591</td>\n",
       "                        <td id=\"T_9cbe48a8_a5de_11ec_9755_bb59e6ec2342row1_col6\" class=\"data row1 col6\" >0.248118</td>\n",
       "                        <td id=\"T_9cbe48a8_a5de_11ec_9755_bb59e6ec2342row1_col7\" class=\"data row1 col7\" >-0.170667</td>\n",
       "            </tr>\n",
       "            <tr>\n",
       "                        <th id=\"T_9cbe48a8_a5de_11ec_9755_bb59e6ec2342level0_row2\" class=\"row_heading level0 row2\" >speed</th>\n",
       "                        <td id=\"T_9cbe48a8_a5de_11ec_9755_bb59e6ec2342row2_col0\" class=\"data row2 col0\" >0.562299</td>\n",
       "                        <td id=\"T_9cbe48a8_a5de_11ec_9755_bb59e6ec2342row2_col1\" class=\"data row2 col1\" >-0.227866</td>\n",
       "                        <td id=\"T_9cbe48a8_a5de_11ec_9755_bb59e6ec2342row2_col2\" class=\"data row2 col2\" >1.000000</td>\n",
       "                        <td id=\"T_9cbe48a8_a5de_11ec_9755_bb59e6ec2342row2_col3\" class=\"data row2 col3\" >0.059293</td>\n",
       "                        <td id=\"T_9cbe48a8_a5de_11ec_9755_bb59e6ec2342row2_col4\" class=\"data row2 col4\" >0.015411</td>\n",
       "                        <td id=\"T_9cbe48a8_a5de_11ec_9755_bb59e6ec2342row2_col5\" class=\"data row2 col5\" >-0.035408</td>\n",
       "                        <td id=\"T_9cbe48a8_a5de_11ec_9755_bb59e6ec2342row2_col6\" class=\"data row2 col6\" >0.009489</td>\n",
       "                        <td id=\"T_9cbe48a8_a5de_11ec_9755_bb59e6ec2342row2_col7\" class=\"data row2 col7\" >0.081618</td>\n",
       "            </tr>\n",
       "            <tr>\n",
       "                        <th id=\"T_9cbe48a8_a5de_11ec_9755_bb59e6ec2342level0_row3\" class=\"row_heading level0 row3\" >temp_inside</th>\n",
       "                        <td id=\"T_9cbe48a8_a5de_11ec_9755_bb59e6ec2342row3_col0\" class=\"data row3 col0\" >0.075178</td>\n",
       "                        <td id=\"T_9cbe48a8_a5de_11ec_9755_bb59e6ec2342row3_col1\" class=\"data row3 col1\" >-0.160623</td>\n",
       "                        <td id=\"T_9cbe48a8_a5de_11ec_9755_bb59e6ec2342row3_col2\" class=\"data row3 col2\" >0.059293</td>\n",
       "                        <td id=\"T_9cbe48a8_a5de_11ec_9755_bb59e6ec2342row3_col3\" class=\"data row3 col3\" >1.000000</td>\n",
       "                        <td id=\"T_9cbe48a8_a5de_11ec_9755_bb59e6ec2342row3_col4\" class=\"data row3 col4\" >0.359500</td>\n",
       "                        <td id=\"T_9cbe48a8_a5de_11ec_9755_bb59e6ec2342row3_col5\" class=\"data row3 col5\" >0.297376</td>\n",
       "                        <td id=\"T_9cbe48a8_a5de_11ec_9755_bb59e6ec2342row3_col6\" class=\"data row3 col6\" >-0.036937</td>\n",
       "                        <td id=\"T_9cbe48a8_a5de_11ec_9755_bb59e6ec2342row3_col7\" class=\"data row3 col7\" >0.242248</td>\n",
       "            </tr>\n",
       "            <tr>\n",
       "                        <th id=\"T_9cbe48a8_a5de_11ec_9755_bb59e6ec2342level0_row4\" class=\"row_heading level0 row4\" >temp_outside</th>\n",
       "                        <td id=\"T_9cbe48a8_a5de_11ec_9755_bb59e6ec2342row4_col0\" class=\"data row4 col0\" >0.088175</td>\n",
       "                        <td id=\"T_9cbe48a8_a5de_11ec_9755_bb59e6ec2342row4_col1\" class=\"data row4 col1\" >-0.320811</td>\n",
       "                        <td id=\"T_9cbe48a8_a5de_11ec_9755_bb59e6ec2342row4_col2\" class=\"data row4 col2\" >0.015411</td>\n",
       "                        <td id=\"T_9cbe48a8_a5de_11ec_9755_bb59e6ec2342row4_col3\" class=\"data row4 col3\" >0.359500</td>\n",
       "                        <td id=\"T_9cbe48a8_a5de_11ec_9755_bb59e6ec2342row4_col4\" class=\"data row4 col4\" >1.000000</td>\n",
       "                        <td id=\"T_9cbe48a8_a5de_11ec_9755_bb59e6ec2342row4_col5\" class=\"data row4 col5\" >0.167562</td>\n",
       "                        <td id=\"T_9cbe48a8_a5de_11ec_9755_bb59e6ec2342row4_col6\" class=\"data row4 col6\" >-0.186315</td>\n",
       "                        <td id=\"T_9cbe48a8_a5de_11ec_9755_bb59e6ec2342row4_col7\" class=\"data row4 col7\" >0.346903</td>\n",
       "            </tr>\n",
       "            <tr>\n",
       "                        <th id=\"T_9cbe48a8_a5de_11ec_9755_bb59e6ec2342level0_row5\" class=\"row_heading level0 row5\" >AC</th>\n",
       "                        <td id=\"T_9cbe48a8_a5de_11ec_9755_bb59e6ec2342row5_col0\" class=\"data row5 col0\" >-0.025738</td>\n",
       "                        <td id=\"T_9cbe48a8_a5de_11ec_9755_bb59e6ec2342row5_col1\" class=\"data row5 col1\" >0.096591</td>\n",
       "                        <td id=\"T_9cbe48a8_a5de_11ec_9755_bb59e6ec2342row5_col2\" class=\"data row5 col2\" >-0.035408</td>\n",
       "                        <td id=\"T_9cbe48a8_a5de_11ec_9755_bb59e6ec2342row5_col3\" class=\"data row5 col3\" >0.297376</td>\n",
       "                        <td id=\"T_9cbe48a8_a5de_11ec_9755_bb59e6ec2342row5_col4\" class=\"data row5 col4\" >0.167562</td>\n",
       "                        <td id=\"T_9cbe48a8_a5de_11ec_9755_bb59e6ec2342row5_col5\" class=\"data row5 col5\" >1.000000</td>\n",
       "                        <td id=\"T_9cbe48a8_a5de_11ec_9755_bb59e6ec2342row5_col6\" class=\"data row5 col6\" >0.242915</td>\n",
       "                        <td id=\"T_9cbe48a8_a5de_11ec_9755_bb59e6ec2342row5_col7\" class=\"data row5 col7\" >0.088598</td>\n",
       "            </tr>\n",
       "            <tr>\n",
       "                        <th id=\"T_9cbe48a8_a5de_11ec_9755_bb59e6ec2342level0_row6\" class=\"row_heading level0 row6\" >rain</th>\n",
       "                        <td id=\"T_9cbe48a8_a5de_11ec_9755_bb59e6ec2342row6_col0\" class=\"data row6 col0\" >-0.019791</td>\n",
       "                        <td id=\"T_9cbe48a8_a5de_11ec_9755_bb59e6ec2342row6_col1\" class=\"data row6 col1\" >0.248118</td>\n",
       "                        <td id=\"T_9cbe48a8_a5de_11ec_9755_bb59e6ec2342row6_col2\" class=\"data row6 col2\" >0.009489</td>\n",
       "                        <td id=\"T_9cbe48a8_a5de_11ec_9755_bb59e6ec2342row6_col3\" class=\"data row6 col3\" >-0.036937</td>\n",
       "                        <td id=\"T_9cbe48a8_a5de_11ec_9755_bb59e6ec2342row6_col4\" class=\"data row6 col4\" >-0.186315</td>\n",
       "                        <td id=\"T_9cbe48a8_a5de_11ec_9755_bb59e6ec2342row6_col5\" class=\"data row6 col5\" >0.242915</td>\n",
       "                        <td id=\"T_9cbe48a8_a5de_11ec_9755_bb59e6ec2342row6_col6\" class=\"data row6 col6\" >1.000000</td>\n",
       "                        <td id=\"T_9cbe48a8_a5de_11ec_9755_bb59e6ec2342row6_col7\" class=\"data row6 col7\" >-0.112650</td>\n",
       "            </tr>\n",
       "            <tr>\n",
       "                        <th id=\"T_9cbe48a8_a5de_11ec_9755_bb59e6ec2342level0_row7\" class=\"row_heading level0 row7\" >sun</th>\n",
       "                        <td id=\"T_9cbe48a8_a5de_11ec_9755_bb59e6ec2342row7_col0\" class=\"data row7 col0\" >0.081120</td>\n",
       "                        <td id=\"T_9cbe48a8_a5de_11ec_9755_bb59e6ec2342row7_col1\" class=\"data row7 col1\" >-0.170667</td>\n",
       "                        <td id=\"T_9cbe48a8_a5de_11ec_9755_bb59e6ec2342row7_col2\" class=\"data row7 col2\" >0.081618</td>\n",
       "                        <td id=\"T_9cbe48a8_a5de_11ec_9755_bb59e6ec2342row7_col3\" class=\"data row7 col3\" >0.242248</td>\n",
       "                        <td id=\"T_9cbe48a8_a5de_11ec_9755_bb59e6ec2342row7_col4\" class=\"data row7 col4\" >0.346903</td>\n",
       "                        <td id=\"T_9cbe48a8_a5de_11ec_9755_bb59e6ec2342row7_col5\" class=\"data row7 col5\" >0.088598</td>\n",
       "                        <td id=\"T_9cbe48a8_a5de_11ec_9755_bb59e6ec2342row7_col6\" class=\"data row7 col6\" >-0.112650</td>\n",
       "                        <td id=\"T_9cbe48a8_a5de_11ec_9755_bb59e6ec2342row7_col7\" class=\"data row7 col7\" >1.000000</td>\n",
       "            </tr>\n",
       "    </tbody></table>"
      ],
      "text/plain": [
       "<pandas.io.formats.style.Styler at 0x7f6edb171550>"
      ]
     },
     "execution_count": 23,
     "metadata": {},
     "output_type": "execute_result"
    }
   ],
   "source": [
    "corr_t = measure2.corr()\n",
    "corr_t.style.background_gradient(cmap='coolwarm')"
   ]
  },
  {
   "cell_type": "code",
   "execution_count": 24,
   "metadata": {},
   "outputs": [
    {
     "data": {
      "image/png": "[encoded data removed]",
      "text/plain": [
       "<Figure size 432x288 with 1 Axes>"
      ]
     },
     "metadata": {
      "needs_background": "light"
     },
     "output_type": "display_data"
    }
   ],
   "source": [
    "sns.lineplot(x=measure2.distance, y = measure2.consume);"
   ]
  },
  {
   "cell_type": "code",
   "execution_count": 51,
   "metadata": {},
   "outputs": [
    {
     "data": {
      "image/png": "[encoded data removed]",
      "text/plain": [
       "<Figure size 432x288 with 1 Axes>"
      ]
     },
     "metadata": {
      "needs_background": "light"
     },
     "output_type": "display_data"
    }
   ],
   "source": [
    "sns.scatterplot(x=measure2.distance, y = measure2.consume, hue = measure2.gas_type);"
   ]
  },
  {
   "cell_type": "code",
   "execution_count": 25,
   "metadata": {},
   "outputs": [
    {
     "data": {
      "image/png": "[encoded data removed]",
      "text/plain": [
       "<Figure size 432x288 with 1 Axes>"
      ]
     },
     "metadata": {
      "needs_background": "light"
     },
     "output_type": "display_data"
    }
   ],
   "source": [
    "sns.scatterplot(x=measure2.speed, y = measure2.distance, hue = measure2.gas_type);"
   ]
  },
  {
   "cell_type": "code",
   "execution_count": 26,
   "metadata": {
    "scrolled": true
   },
   "outputs": [
    {
     "data": {
      "image/png": "[encoded data removed]",
      "text/plain": [
       "<Figure size 432x288 with 1 Axes>"
      ]
     },
     "metadata": {
      "needs_background": "light"
     },
     "output_type": "display_data"
    }
   ],
   "source": [
    "sns.lineplot(x=measure2.speed, y = measure2.consume);"
   ]
  },
  {
   "cell_type": "code",
   "execution_count": 27,
   "metadata": {},
   "outputs": [
    {
     "data": {
      "image/png": "[encoded data removed]",
      "text/plain": [
       "<Figure size 432x288 with 1 Axes>"
      ]
     },
     "metadata": {
      "needs_background": "light"
     },
     "output_type": "display_data"
    }
   ],
   "source": [
    "sns.lineplot(x=measure2.consume, y = measure2.temp_outside);"
   ]
  },
  {
   "cell_type": "code",
   "execution_count": 28,
   "metadata": {},
   "outputs": [
    {
     "data": {
      "image/png": "[encoded data removed]",
      "text/plain": [
       "<Figure size 432x288 with 1 Axes>"
      ]
     },
     "metadata": {
      "needs_background": "light"
     },
     "output_type": "display_data"
    }
   ],
   "source": [
    "sns.lineplot(x=measure2.consume, y = measure2.temp_inside);"
   ]
  },
  {
   "cell_type": "code",
   "execution_count": 29,
   "metadata": {},
   "outputs": [
    {
     "data": {
      "image/png": "[encoded data removed]",
      "text/plain": [
       "<Figure size 432x288 with 1 Axes>"
      ]
     },
     "metadata": {
      "needs_background": "light"
     },
     "output_type": "display_data"
    }
   ],
   "source": [
    "sns.lineplot(x=measure2.temp_outside, y = measure2.temp_inside);"
   ]
  },
  {
   "cell_type": "code",
   "execution_count": 30,
   "metadata": {},
   "outputs": [],
   "source": [
    "gas_e = measure2[measure2[\"gas_type\"] == \"E10\"]\n",
    "gas_sp = measure2[measure2[\"gas_type\"] == \"SP98\"] "
   ]
  },
  {
   "cell_type": "code",
   "execution_count": 31,
   "metadata": {},
   "outputs": [
    {
     "data": {
      "text/html": [
       "<div>\n",
       "<style scoped>\n",
       "    .dataframe tbody tr th:only-of-type {\n",
       "        vertical-align: middle;\n",
       "    }\n",
       "\n",
       "    .dataframe tbody tr th {\n",
       "        vertical-align: top;\n",
       "    }\n",
       "\n",
       "    .dataframe thead th {\n",
       "        text-align: right;\n",
       "    }\n",
       "</style>\n",
       "<table border=\"1\" class=\"dataframe\">\n",
       "  <thead>\n",
       "    <tr style=\"text-align: right;\">\n",
       "      <th></th>\n",
       "      <th>count</th>\n",
       "      <th>mean</th>\n",
       "      <th>std</th>\n",
       "      <th>min</th>\n",
       "      <th>25%</th>\n",
       "      <th>50%</th>\n",
       "      <th>75%</th>\n",
       "      <th>max</th>\n",
       "    </tr>\n",
       "  </thead>\n",
       "  <tbody>\n",
       "    <tr>\n",
       "      <th>distance</th>\n",
       "      <td>160.0</td>\n",
       "      <td>21.096250</td>\n",
       "      <td>20.307234</td>\n",
       "      <td>1.7</td>\n",
       "      <td>12.075</td>\n",
       "      <td>15.4</td>\n",
       "      <td>21.20</td>\n",
       "      <td>130.3</td>\n",
       "    </tr>\n",
       "    <tr>\n",
       "      <th>consume</th>\n",
       "      <td>160.0</td>\n",
       "      <td>4.931250</td>\n",
       "      <td>0.900956</td>\n",
       "      <td>3.7</td>\n",
       "      <td>4.400</td>\n",
       "      <td>4.8</td>\n",
       "      <td>5.30</td>\n",
       "      <td>10.8</td>\n",
       "    </tr>\n",
       "    <tr>\n",
       "      <th>speed</th>\n",
       "      <td>160.0</td>\n",
       "      <td>43.506250</td>\n",
       "      <td>14.077949</td>\n",
       "      <td>14.0</td>\n",
       "      <td>35.000</td>\n",
       "      <td>42.0</td>\n",
       "      <td>51.00</td>\n",
       "      <td>88.0</td>\n",
       "    </tr>\n",
       "    <tr>\n",
       "      <th>temp_inside</th>\n",
       "      <td>160.0</td>\n",
       "      <td>21.917429</td>\n",
       "      <td>0.653602</td>\n",
       "      <td>21.0</td>\n",
       "      <td>21.500</td>\n",
       "      <td>21.5</td>\n",
       "      <td>22.50</td>\n",
       "      <td>25.0</td>\n",
       "    </tr>\n",
       "    <tr>\n",
       "      <th>temp_outside</th>\n",
       "      <td>160.0</td>\n",
       "      <td>10.118750</td>\n",
       "      <td>6.392185</td>\n",
       "      <td>-5.0</td>\n",
       "      <td>6.000</td>\n",
       "      <td>9.0</td>\n",
       "      <td>14.25</td>\n",
       "      <td>27.0</td>\n",
       "    </tr>\n",
       "    <tr>\n",
       "      <th>AC</th>\n",
       "      <td>160.0</td>\n",
       "      <td>0.043750</td>\n",
       "      <td>0.205181</td>\n",
       "      <td>0.0</td>\n",
       "      <td>0.000</td>\n",
       "      <td>0.0</td>\n",
       "      <td>0.00</td>\n",
       "      <td>1.0</td>\n",
       "    </tr>\n",
       "    <tr>\n",
       "      <th>rain</th>\n",
       "      <td>160.0</td>\n",
       "      <td>0.100000</td>\n",
       "      <td>0.300942</td>\n",
       "      <td>0.0</td>\n",
       "      <td>0.000</td>\n",
       "      <td>0.0</td>\n",
       "      <td>0.00</td>\n",
       "      <td>1.0</td>\n",
       "    </tr>\n",
       "    <tr>\n",
       "      <th>sun</th>\n",
       "      <td>160.0</td>\n",
       "      <td>0.075000</td>\n",
       "      <td>0.264218</td>\n",
       "      <td>0.0</td>\n",
       "      <td>0.000</td>\n",
       "      <td>0.0</td>\n",
       "      <td>0.00</td>\n",
       "      <td>1.0</td>\n",
       "    </tr>\n",
       "  </tbody>\n",
       "</table>\n",
       "</div>"
      ],
      "text/plain": [
       "              count       mean        std   min     25%   50%    75%    max\n",
       "distance      160.0  21.096250  20.307234   1.7  12.075  15.4  21.20  130.3\n",
       "consume       160.0   4.931250   0.900956   3.7   4.400   4.8   5.30   10.8\n",
       "speed         160.0  43.506250  14.077949  14.0  35.000  42.0  51.00   88.0\n",
       "temp_inside   160.0  21.917429   0.653602  21.0  21.500  21.5  22.50   25.0\n",
       "temp_outside  160.0  10.118750   6.392185  -5.0   6.000   9.0  14.25   27.0\n",
       "AC            160.0   0.043750   0.205181   0.0   0.000   0.0   0.00    1.0\n",
       "rain          160.0   0.100000   0.300942   0.0   0.000   0.0   0.00    1.0\n",
       "sun           160.0   0.075000   0.264218   0.0   0.000   0.0   0.00    1.0"
      ]
     },
     "execution_count": 31,
     "metadata": {},
     "output_type": "execute_result"
    }
   ],
   "source": [
    "gas_e.describe().T"
   ]
  },
  {
   "cell_type": "code",
   "execution_count": 32,
   "metadata": {
    "scrolled": true
   },
   "outputs": [
    {
     "data": {
      "text/html": [
       "<div>\n",
       "<style scoped>\n",
       "    .dataframe tbody tr th:only-of-type {\n",
       "        vertical-align: middle;\n",
       "    }\n",
       "\n",
       "    .dataframe tbody tr th {\n",
       "        vertical-align: top;\n",
       "    }\n",
       "\n",
       "    .dataframe thead th {\n",
       "        text-align: right;\n",
       "    }\n",
       "</style>\n",
       "<table border=\"1\" class=\"dataframe\">\n",
       "  <thead>\n",
       "    <tr style=\"text-align: right;\">\n",
       "      <th></th>\n",
       "      <th>count</th>\n",
       "      <th>mean</th>\n",
       "      <th>std</th>\n",
       "      <th>min</th>\n",
       "      <th>25%</th>\n",
       "      <th>50%</th>\n",
       "      <th>75%</th>\n",
       "      <th>max</th>\n",
       "    </tr>\n",
       "  </thead>\n",
       "  <tbody>\n",
       "    <tr>\n",
       "      <th>distance</th>\n",
       "      <td>228.0</td>\n",
       "      <td>18.639912</td>\n",
       "      <td>24.179598</td>\n",
       "      <td>1.3</td>\n",
       "      <td>11.8</td>\n",
       "      <td>14.15</td>\n",
       "      <td>18.150</td>\n",
       "      <td>216.1</td>\n",
       "    </tr>\n",
       "    <tr>\n",
       "      <th>consume</th>\n",
       "      <td>228.0</td>\n",
       "      <td>4.899123</td>\n",
       "      <td>1.118408</td>\n",
       "      <td>3.3</td>\n",
       "      <td>4.2</td>\n",
       "      <td>4.70</td>\n",
       "      <td>5.225</td>\n",
       "      <td>12.2</td>\n",
       "    </tr>\n",
       "    <tr>\n",
       "      <th>speed</th>\n",
       "      <td>228.0</td>\n",
       "      <td>40.820175</td>\n",
       "      <td>13.170122</td>\n",
       "      <td>16.0</td>\n",
       "      <td>32.0</td>\n",
       "      <td>39.50</td>\n",
       "      <td>48.000</td>\n",
       "      <td>90.0</td>\n",
       "    </tr>\n",
       "    <tr>\n",
       "      <th>temp_inside</th>\n",
       "      <td>228.0</td>\n",
       "      <td>21.938007</td>\n",
       "      <td>1.177840</td>\n",
       "      <td>19.0</td>\n",
       "      <td>21.5</td>\n",
       "      <td>22.00</td>\n",
       "      <td>22.000</td>\n",
       "      <td>25.5</td>\n",
       "    </tr>\n",
       "    <tr>\n",
       "      <th>temp_outside</th>\n",
       "      <td>228.0</td>\n",
       "      <td>12.228070</td>\n",
       "      <td>7.271373</td>\n",
       "      <td>-3.0</td>\n",
       "      <td>7.0</td>\n",
       "      <td>11.00</td>\n",
       "      <td>17.000</td>\n",
       "      <td>31.0</td>\n",
       "    </tr>\n",
       "    <tr>\n",
       "      <th>AC</th>\n",
       "      <td>228.0</td>\n",
       "      <td>0.100877</td>\n",
       "      <td>0.301829</td>\n",
       "      <td>0.0</td>\n",
       "      <td>0.0</td>\n",
       "      <td>0.00</td>\n",
       "      <td>0.000</td>\n",
       "      <td>1.0</td>\n",
       "    </tr>\n",
       "    <tr>\n",
       "      <th>rain</th>\n",
       "      <td>228.0</td>\n",
       "      <td>0.140351</td>\n",
       "      <td>0.348115</td>\n",
       "      <td>0.0</td>\n",
       "      <td>0.0</td>\n",
       "      <td>0.00</td>\n",
       "      <td>0.000</td>\n",
       "      <td>1.0</td>\n",
       "    </tr>\n",
       "    <tr>\n",
       "      <th>sun</th>\n",
       "      <td>228.0</td>\n",
       "      <td>0.087719</td>\n",
       "      <td>0.283509</td>\n",
       "      <td>0.0</td>\n",
       "      <td>0.0</td>\n",
       "      <td>0.00</td>\n",
       "      <td>0.000</td>\n",
       "      <td>1.0</td>\n",
       "    </tr>\n",
       "  </tbody>\n",
       "</table>\n",
       "</div>"
      ],
      "text/plain": [
       "              count       mean        std   min   25%    50%     75%    max\n",
       "distance      228.0  18.639912  24.179598   1.3  11.8  14.15  18.150  216.1\n",
       "consume       228.0   4.899123   1.118408   3.3   4.2   4.70   5.225   12.2\n",
       "speed         228.0  40.820175  13.170122  16.0  32.0  39.50  48.000   90.0\n",
       "temp_inside   228.0  21.938007   1.177840  19.0  21.5  22.00  22.000   25.5\n",
       "temp_outside  228.0  12.228070   7.271373  -3.0   7.0  11.00  17.000   31.0\n",
       "AC            228.0   0.100877   0.301829   0.0   0.0   0.00   0.000    1.0\n",
       "rain          228.0   0.140351   0.348115   0.0   0.0   0.00   0.000    1.0\n",
       "sun           228.0   0.087719   0.283509   0.0   0.0   0.00   0.000    1.0"
      ]
     },
     "execution_count": 32,
     "metadata": {},
     "output_type": "execute_result"
    }
   ],
   "source": [
    "gas_sp.describe().T"
   ]
  },
  {
   "cell_type": "code",
   "execution_count": 33,
   "metadata": {},
   "outputs": [
    {
     "data": {
      "image/png": "[encoded data removed]",
      "text/plain": [
       "<Figure size 432x288 with 1 Axes>"
      ]
     },
     "metadata": {
      "needs_background": "light"
     },
     "output_type": "display_data"
    }
   ],
   "source": [
    "sns.lineplot(x=gas_e.speed, y = gas_e.consume);"
   ]
  },
  {
   "cell_type": "code",
   "execution_count": 34,
   "metadata": {},
   "outputs": [
    {
     "data": {
      "image/png": "[encoded data removed]",
      "text/plain": [
       "<Figure size 432x288 with 1 Axes>"
      ]
     },
     "metadata": {
      "needs_background": "light"
     },
     "output_type": "display_data"
    }
   ],
   "source": [
    "sns.lineplot(x=gas_sp.speed, y = gas_sp.consume);"
   ]
  },
  {
   "cell_type": "code",
   "execution_count": 35,
   "metadata": {},
   "outputs": [
    {
     "data": {
      "image/png": "[encoded data removed]",
      "text/plain": [
       "<Figure size 432x288 with 1 Axes>"
      ]
     },
     "metadata": {
      "needs_background": "light"
     },
     "output_type": "display_data"
    }
   ],
   "source": [
    "sns.scatterplot(x=gas_e.temp_inside, y = gas_e.consume);"
   ]
  },
  {
   "cell_type": "code",
   "execution_count": 36,
   "metadata": {},
   "outputs": [
    {
     "data": {
      "image/png": "[encoded data removed]",
      "text/plain": [
       "<Figure size 432x288 with 1 Axes>"
      ]
     },
     "metadata": {
      "needs_background": "light"
     },
     "output_type": "display_data"
    }
   ],
   "source": [
    "sns.scatterplot(x=gas_sp.temp_inside, y = gas_sp.consume);"
   ]
  },
  {
   "cell_type": "code",
   "execution_count": 37,
   "metadata": {},
   "outputs": [
    {
     "data": {
      "image/png": "[encoded data removed]",
      "text/plain": [
       "<Figure size 432x288 with 1 Axes>"
      ]
     },
     "metadata": {
      "needs_background": "light"
     },
     "output_type": "display_data"
    }
   ],
   "source": [
    "sns.scatterplot(x=gas_e.temp_outside, y = gas_e.consume);"
   ]
  },
  {
   "cell_type": "code",
   "execution_count": 38,
   "metadata": {},
   "outputs": [
    {
     "data": {
      "image/png": "[encoded data removed]",
      "text/plain": [
       "<Figure size 432x288 with 1 Axes>"
      ]
     },
     "metadata": {
      "needs_background": "light"
     },
     "output_type": "display_data"
    }
   ],
   "source": [
    "sns.scatterplot(x=gas_sp.temp_outside, y = gas_sp.consume);"
   ]
  },
  {
   "cell_type": "code",
   "execution_count": 39,
   "metadata": {},
   "outputs": [
    {
     "data": {
      "image/png": "[encoded data removed]",
      "text/plain": [
       "<Figure size 432x288 with 1 Axes>"
      ]
     },
     "metadata": {
      "needs_background": "light"
     },
     "output_type": "display_data"
    }
   ],
   "source": [
    "sns.scatterplot(x=gas_e.distance, y = gas_e.consume);"
   ]
  },
  {
   "cell_type": "code",
   "execution_count": 40,
   "metadata": {},
   "outputs": [
    {
     "data": {
      "image/png": "[encoded data removed]",
      "text/plain": [
       "<Figure size 432x288 with 1 Axes>"
      ]
     },
     "metadata": {
      "needs_background": "light"
     },
     "output_type": "display_data"
    }
   ],
   "source": [
    "sns.scatterplot(x=gas_sp.distance, y = gas_sp.consume);"
   ]
  },
  {
   "cell_type": "code",
   "execution_count": 41,
   "metadata": {},
   "outputs": [
    {
     "data": {
      "image/png": "[encoded data removed]",
      "text/plain": [
       "<Figure size 432x288 with 1 Axes>"
      ]
     },
     "metadata": {
      "needs_background": "light"
     },
     "output_type": "display_data"
    }
   ],
   "source": [
    "sns.scatterplot(x=gas_e.speed, y = gas_e.consume);"
   ]
  },
  {
   "cell_type": "code",
   "execution_count": 42,
   "metadata": {},
   "outputs": [
    {
     "data": {
      "image/png": "[encoded data removed]",
      "text/plain": [
       "<Figure size 432x288 with 1 Axes>"
      ]
     },
     "metadata": {
      "needs_background": "light"
     },
     "output_type": "display_data"
    }
   ],
   "source": [
    "sns.scatterplot(x=gas_sp.speed, y = gas_sp.consume);"
   ]
  },
  {
   "cell_type": "code",
   "execution_count": 43,
   "metadata": {},
   "outputs": [],
   "source": [
    "measure2.to_excel(\"measure.xlsx\")\n",
    "gas_e.to_excel(\"gas_e.xlsx\")\n",
    "gas_sp.to_excel(\"gas_sp.xlsx\")"
   ]
  },
  {
   "cell_type": "code",
   "execution_count": 44,
   "metadata": {},
   "outputs": [
    {
     "data": {
      "image/png": "[encoded data removed]",
      "text/plain": [
       "<Figure size 432x288 with 1 Axes>"
      ]
     },
     "metadata": {
      "needs_background": "light"
     },
     "output_type": "display_data"
    }
   ],
   "source": [
    "graf = sns.barplot(y = gas_e.consume, x = gas_e.rain)\n",
    "graf.axhline(y=gas_e.consume.mean(), c=\"red\", label=\"mean\");"
   ]
  },
  {
   "cell_type": "code",
   "execution_count": 45,
   "metadata": {},
   "outputs": [
    {
     "data": {
      "image/png": "[encoded data removed]",
      "text/plain": [
       "<Figure size 432x288 with 1 Axes>"
      ]
     },
     "metadata": {
      "needs_background": "light"
     },
     "output_type": "display_data"
    }
   ],
   "source": [
    "graf = sns.barplot(y = gas_e.consume, x = gas_e.AC)\n",
    "graf.axhline(y=gas_e.consume.mean(), c=\"red\", label=\"mean\");"
   ]
  },
  {
   "cell_type": "code",
   "execution_count": 46,
   "metadata": {},
   "outputs": [
    {
     "data": {
      "image/png": "[encoded data removed]",
      "text/plain": [
       "<Figure size 432x288 with 1 Axes>"
      ]
     },
     "metadata": {
      "needs_background": "light"
     },
     "output_type": "display_data"
    }
   ],
   "source": [
    "graf = sns.barplot(y = gas_e.consume, x = gas_e.sun)\n",
    "graf.axhline(y=gas_e.consume.mean(), c=\"red\", label=\"mean\");"
   ]
  },
  {
   "cell_type": "code",
   "execution_count": 47,
   "metadata": {},
   "outputs": [
    {
     "data": {
      "image/png": "[encoded data removed]",
      "text/plain": [
       "<Figure size 432x288 with 1 Axes>"
      ]
     },
     "metadata": {
      "needs_background": "light"
     },
     "output_type": "display_data"
    }
   ],
   "source": [
    "sp_graf = sns.barplot(y = gas_sp.consume, x = gas_sp.rain)\n",
    "sp_graf.axhline(y=gas_sp.consume.mean(), c=\"red\", label=\"mean\");"
   ]
  },
  {
   "cell_type": "code",
   "execution_count": 48,
   "metadata": {},
   "outputs": [
    {
     "data": {
      "image/png": "[encoded data removed]",
      "text/plain": [
       "<Figure size 432x288 with 1 Axes>"
      ]
     },
     "metadata": {
      "needs_background": "light"
     },
     "output_type": "display_data"
    }
   ],
   "source": [
    "sp_graf = sns.barplot(y = gas_sp.consume, x = gas_sp.AC)\n",
    "sp_graf.axhline(y=gas_sp.consume.mean(), c=\"red\", label=\"mean\");"
   ]
  },
  {
   "cell_type": "code",
   "execution_count": 49,
   "metadata": {},
   "outputs": [
    {
     "data": {
      "image/png": "[encoded data removed]",
      "text/plain": [
       "<Figure size 432x288 with 1 Axes>"
      ]
     },
     "metadata": {
      "needs_background": "light"
     },
     "output_type": "display_data"
    }
   ],
   "source": [
    "sp_graf = sns.barplot(y = gas_sp.consume, x = gas_sp.sun)\n",
    "sp_graf.axhline(y=gas_sp.consume.mean(), c=\"red\", label=\"mean\");"
   ]
  },
  {
   "cell_type": "code",
   "execution_count": null,
   "metadata": {},
   "outputs": [],
   "source": []
  }
 ],
 "metadata": {
  "kernelspec": {
   "display_name": "ironhack",
   "language": "python",
   "name": "ironhack"
  },
  "language_info": {
   "codemirror_mode": {
    "name": "ipython",
    "version": 3
   },
   "file_extension": ".py",
   "mimetype": "text/x-python",
   "name": "python",
   "nbconvert_exporter": "python",
   "pygments_lexer": "ipython3",
   "version": "3.8.5"
  }
 },
 "nbformat": 4,
 "nbformat_minor": 4
}
