{
 "cells": [
  {
   "cell_type": "code",
   "execution_count": 26,
   "metadata": {},
   "outputs": [],
   "source": [
    "import pandas as pd\n",
    "from sklearn.model_selection import train_test_split as tts\n",
    "from sklearn import metrics\n",
    "import numpy as np\n",
    "from sklearn.linear_model import LinearRegression as LinReg\n",
    "from sklearn.linear_model import Ridge, Lasso\n",
    "from sklearn.linear_model import SGDRegressor\n",
    "from sklearn.neighbors import KNeighborsRegressor\n",
    "from sklearn.ensemble import GradientBoostingRegressor\n",
    "from sklearn.svm import SVR\n",
    "from sklearn.model_selection import cross_val_score as cvs"
   ]
  },
  {
   "cell_type": "code",
   "execution_count": 2,
   "metadata": {},
   "outputs": [],
   "source": [
    "df=pd.read_csv(\"measurementsclean.csv\")"
   ]
  },
  {
   "cell_type": "code",
   "execution_count": 3,
   "metadata": {},
   "outputs": [
    {
     "data": {
      "text/html": [
       "<div>\n",
       "<style scoped>\n",
       "    .dataframe tbody tr th:only-of-type {\n",
       "        vertical-align: middle;\n",
       "    }\n",
       "\n",
       "    .dataframe tbody tr th {\n",
       "        vertical-align: top;\n",
       "    }\n",
       "\n",
       "    .dataframe thead th {\n",
       "        text-align: right;\n",
       "    }\n",
       "</style>\n",
       "<table border=\"1\" class=\"dataframe\">\n",
       "  <thead>\n",
       "    <tr style=\"text-align: right;\">\n",
       "      <th></th>\n",
       "      <th>Unnamed: 0</th>\n",
       "      <th>distance</th>\n",
       "      <th>consume</th>\n",
       "      <th>speed</th>\n",
       "      <th>temp_inside</th>\n",
       "      <th>temp_outside</th>\n",
       "      <th>specials</th>\n",
       "      <th>gas_type</th>\n",
       "      <th>AC</th>\n",
       "      <th>rain</th>\n",
       "      <th>sun</th>\n",
       "    </tr>\n",
       "  </thead>\n",
       "  <tbody>\n",
       "    <tr>\n",
       "      <th>0</th>\n",
       "      <td>0</td>\n",
       "      <td>28.0</td>\n",
       "      <td>5.0</td>\n",
       "      <td>26</td>\n",
       "      <td>21.934911</td>\n",
       "      <td>12</td>\n",
       "      <td>Unknown</td>\n",
       "      <td>E10</td>\n",
       "      <td>0</td>\n",
       "      <td>0</td>\n",
       "      <td>0</td>\n",
       "    </tr>\n",
       "    <tr>\n",
       "      <th>1</th>\n",
       "      <td>1</td>\n",
       "      <td>12.0</td>\n",
       "      <td>4.2</td>\n",
       "      <td>30</td>\n",
       "      <td>21.934911</td>\n",
       "      <td>13</td>\n",
       "      <td>Unknown</td>\n",
       "      <td>E10</td>\n",
       "      <td>0</td>\n",
       "      <td>0</td>\n",
       "      <td>0</td>\n",
       "    </tr>\n",
       "    <tr>\n",
       "      <th>2</th>\n",
       "      <td>2</td>\n",
       "      <td>11.2</td>\n",
       "      <td>5.5</td>\n",
       "      <td>38</td>\n",
       "      <td>21.934911</td>\n",
       "      <td>15</td>\n",
       "      <td>Unknown</td>\n",
       "      <td>E10</td>\n",
       "      <td>0</td>\n",
       "      <td>0</td>\n",
       "      <td>0</td>\n",
       "    </tr>\n",
       "    <tr>\n",
       "      <th>3</th>\n",
       "      <td>3</td>\n",
       "      <td>12.9</td>\n",
       "      <td>3.9</td>\n",
       "      <td>36</td>\n",
       "      <td>21.934911</td>\n",
       "      <td>14</td>\n",
       "      <td>Unknown</td>\n",
       "      <td>E10</td>\n",
       "      <td>0</td>\n",
       "      <td>0</td>\n",
       "      <td>0</td>\n",
       "    </tr>\n",
       "    <tr>\n",
       "      <th>4</th>\n",
       "      <td>4</td>\n",
       "      <td>18.5</td>\n",
       "      <td>4.5</td>\n",
       "      <td>46</td>\n",
       "      <td>21.934911</td>\n",
       "      <td>15</td>\n",
       "      <td>Unknown</td>\n",
       "      <td>E10</td>\n",
       "      <td>0</td>\n",
       "      <td>0</td>\n",
       "      <td>0</td>\n",
       "    </tr>\n",
       "  </tbody>\n",
       "</table>\n",
       "</div>"
      ],
      "text/plain": [
       "   Unnamed: 0  distance  consume  speed  temp_inside  temp_outside specials  \\\n",
       "0           0      28.0      5.0     26    21.934911            12  Unknown   \n",
       "1           1      12.0      4.2     30    21.934911            13  Unknown   \n",
       "2           2      11.2      5.5     38    21.934911            15  Unknown   \n",
       "3           3      12.9      3.9     36    21.934911            14  Unknown   \n",
       "4           4      18.5      4.5     46    21.934911            15  Unknown   \n",
       "\n",
       "  gas_type  AC  rain  sun  \n",
       "0      E10   0     0    0  \n",
       "1      E10   0     0    0  \n",
       "2      E10   0     0    0  \n",
       "3      E10   0     0    0  \n",
       "4      E10   0     0    0  "
      ]
     },
     "execution_count": 3,
     "metadata": {},
     "output_type": "execute_result"
    }
   ],
   "source": [
    "df.head()"
   ]
  },
  {
   "cell_type": "code",
   "execution_count": 5,
   "metadata": {},
   "outputs": [
    {
     "data": {
      "text/html": [
       "<div>\n",
       "<style scoped>\n",
       "    .dataframe tbody tr th:only-of-type {\n",
       "        vertical-align: middle;\n",
       "    }\n",
       "\n",
       "    .dataframe tbody tr th {\n",
       "        vertical-align: top;\n",
       "    }\n",
       "\n",
       "    .dataframe thead th {\n",
       "        text-align: right;\n",
       "    }\n",
       "</style>\n",
       "<table border=\"1\" class=\"dataframe\">\n",
       "  <thead>\n",
       "    <tr style=\"text-align: right;\">\n",
       "      <th></th>\n",
       "      <th>distance</th>\n",
       "      <th>speed</th>\n",
       "      <th>temp_inside</th>\n",
       "      <th>temp_outside</th>\n",
       "      <th>specials</th>\n",
       "      <th>gas_type</th>\n",
       "      <th>AC</th>\n",
       "      <th>rain</th>\n",
       "      <th>sun</th>\n",
       "    </tr>\n",
       "  </thead>\n",
       "  <tbody>\n",
       "    <tr>\n",
       "      <th>0</th>\n",
       "      <td>28.0</td>\n",
       "      <td>26</td>\n",
       "      <td>21.934911</td>\n",
       "      <td>12</td>\n",
       "      <td>Unknown</td>\n",
       "      <td>E10</td>\n",
       "      <td>0</td>\n",
       "      <td>0</td>\n",
       "      <td>0</td>\n",
       "    </tr>\n",
       "    <tr>\n",
       "      <th>1</th>\n",
       "      <td>12.0</td>\n",
       "      <td>30</td>\n",
       "      <td>21.934911</td>\n",
       "      <td>13</td>\n",
       "      <td>Unknown</td>\n",
       "      <td>E10</td>\n",
       "      <td>0</td>\n",
       "      <td>0</td>\n",
       "      <td>0</td>\n",
       "    </tr>\n",
       "    <tr>\n",
       "      <th>2</th>\n",
       "      <td>11.2</td>\n",
       "      <td>38</td>\n",
       "      <td>21.934911</td>\n",
       "      <td>15</td>\n",
       "      <td>Unknown</td>\n",
       "      <td>E10</td>\n",
       "      <td>0</td>\n",
       "      <td>0</td>\n",
       "      <td>0</td>\n",
       "    </tr>\n",
       "    <tr>\n",
       "      <th>3</th>\n",
       "      <td>12.9</td>\n",
       "      <td>36</td>\n",
       "      <td>21.934911</td>\n",
       "      <td>14</td>\n",
       "      <td>Unknown</td>\n",
       "      <td>E10</td>\n",
       "      <td>0</td>\n",
       "      <td>0</td>\n",
       "      <td>0</td>\n",
       "    </tr>\n",
       "    <tr>\n",
       "      <th>4</th>\n",
       "      <td>18.5</td>\n",
       "      <td>46</td>\n",
       "      <td>21.934911</td>\n",
       "      <td>15</td>\n",
       "      <td>Unknown</td>\n",
       "      <td>E10</td>\n",
       "      <td>0</td>\n",
       "      <td>0</td>\n",
       "      <td>0</td>\n",
       "    </tr>\n",
       "  </tbody>\n",
       "</table>\n",
       "</div>"
      ],
      "text/plain": [
       "   distance  speed  temp_inside  temp_outside specials gas_type  AC  rain  sun\n",
       "0      28.0     26    21.934911            12  Unknown      E10   0     0    0\n",
       "1      12.0     30    21.934911            13  Unknown      E10   0     0    0\n",
       "2      11.2     38    21.934911            15  Unknown      E10   0     0    0\n",
       "3      12.9     36    21.934911            14  Unknown      E10   0     0    0\n",
       "4      18.5     46    21.934911            15  Unknown      E10   0     0    0"
      ]
     },
     "execution_count": 5,
     "metadata": {},
     "output_type": "execute_result"
    }
   ],
   "source": [
    "X = df.drop([\"Unnamed: 0\",\"consume\"], axis=1) \n",
    "X.head()"
   ]
  },
  {
   "cell_type": "code",
   "execution_count": 6,
   "metadata": {},
   "outputs": [],
   "source": [
    "y=df.consume"
   ]
  },
  {
   "cell_type": "markdown",
   "metadata": {},
   "source": [
    "### Convierto las columnas categóricas a numéricas:"
   ]
  },
  {
   "cell_type": "code",
   "execution_count": 14,
   "metadata": {},
   "outputs": [
    {
     "name": "stdout",
     "output_type": "stream",
     "text": [
      "<class 'pandas.core.frame.DataFrame'>\n",
      "RangeIndex: 388 entries, 0 to 387\n",
      "Data columns (total 9 columns):\n",
      " #   Column        Non-Null Count  Dtype  \n",
      "---  ------        --------------  -----  \n",
      " 0   distance      388 non-null    float64\n",
      " 1   speed         388 non-null    int64  \n",
      " 2   temp_inside   388 non-null    float64\n",
      " 3   temp_outside  388 non-null    int64  \n",
      " 4   specials      388 non-null    object \n",
      " 5   gas_type      388 non-null    object \n",
      " 6   AC            388 non-null    int64  \n",
      " 7   rain          388 non-null    int64  \n",
      " 8   sun           388 non-null    int64  \n",
      "dtypes: float64(2), int64(5), object(2)\n",
      "memory usage: 27.4+ KB\n"
     ]
    }
   ],
   "source": [
    "X.info()"
   ]
  },
  {
   "cell_type": "code",
   "execution_count": 15,
   "metadata": {},
   "outputs": [
    {
     "data": {
      "text/plain": [
       "array(['Unknown', 'AC rain', 'AC', 'rain', 'snow', 'AC snow',\n",
       "       'half rain half sun', 'sun', 'AC sun', 'sun ac', 'ac', 'AC Sun',\n",
       "       'ac rain'], dtype=object)"
      ]
     },
     "execution_count": 15,
     "metadata": {},
     "output_type": "execute_result"
    }
   ],
   "source": [
    "X.specials.unique()"
   ]
  },
  {
   "cell_type": "code",
   "execution_count": 16,
   "metadata": {},
   "outputs": [],
   "source": [
    "dic_specials ={\"AC rain\":1,\n",
    "               \"ac rain\":1,\n",
    "                \"AC\":2,\n",
    "                \"ac\":2,\n",
    "                \"rain\":1,\n",
    "                \"snow\":3,\n",
    "                \"AC snow\":3,\n",
    "                \"half rain half sun\":4,\n",
    "                \"sun\": 5,\n",
    "                \"AC sun\": 5,\n",
    "                \"sun ac\": 5,\n",
    "                \"AC Sun\":5,\n",
    "                \"Unknown\":7} "
   ]
  },
  {
   "cell_type": "code",
   "execution_count": 17,
   "metadata": {},
   "outputs": [],
   "source": [
    "X.specials = X.specials.map(dic_specials)"
   ]
  },
  {
   "cell_type": "code",
   "execution_count": 18,
   "metadata": {},
   "outputs": [
    {
     "data": {
      "text/plain": [
       "array(['E10', 'SP98'], dtype=object)"
      ]
     },
     "execution_count": 18,
     "metadata": {},
     "output_type": "execute_result"
    }
   ],
   "source": [
    "X[\"gas_type\"].unique()"
   ]
  },
  {
   "cell_type": "code",
   "execution_count": 20,
   "metadata": {},
   "outputs": [],
   "source": [
    "dicc_gas={\"E10\":0,\"SP98\":1}"
   ]
  },
  {
   "cell_type": "code",
   "execution_count": 21,
   "metadata": {},
   "outputs": [],
   "source": [
    "X[\"gas_type\"] = X[\"gas_type\"].map(dicc_gas)"
   ]
  },
  {
   "cell_type": "code",
   "execution_count": 22,
   "metadata": {},
   "outputs": [],
   "source": [
    "X_train, X_test, y_train, y_test = tts(X,y, test_size=0.2)"
   ]
  },
  {
   "cell_type": "code",
   "execution_count": 23,
   "metadata": {},
   "outputs": [],
   "source": [
    "models={\n",
    "    'ridge': Ridge(),\n",
    "    'lasso': Lasso(),\n",
    "    'sgd': SGDRegressor(),\n",
    "    'knn': KNeighborsRegressor(),\n",
    "    'grad': GradientBoostingRegressor(),\n",
    "}"
   ]
  },
  {
   "cell_type": "code",
   "execution_count": 24,
   "metadata": {},
   "outputs": [
    {
     "name": "stdout",
     "output_type": "stream",
     "text": [
      "ENTRENANDO:  ridge\n",
      "ENTRENANDO:  lasso\n",
      "ENTRENANDO:  sgd\n",
      "ENTRENANDO:  knn\n",
      "ENTRENANDO:  grad\n"
     ]
    }
   ],
   "source": [
    "for name, model in models.items():\n",
    "    print(\"ENTRENANDO: \", name)\n",
    "    model.fit(X_train, y_train)"
   ]
  },
  {
   "cell_type": "code",
   "execution_count": 25,
   "metadata": {},
   "outputs": [
    {
     "name": "stdout",
     "output_type": "stream",
     "text": [
      "------ridge------\n",
      "MAE -  0.5915556390285266\n",
      "MSE -  0.6332090689017884\n",
      "RMSE -  0.7957443489600089\n",
      "R2 -  -0.012519409694171424\n",
      "------lasso------\n",
      "MAE -  0.5863373677641668\n",
      "MSE -  0.5938663515550878\n",
      "RMSE -  0.7706272455312542\n",
      "R2 -  0.05039072046668458\n",
      "------sgd------\n",
      "MAE -  2781777071543.0493\n",
      "MSE -  2.41440185751784e+25\n",
      "RMSE -  4913656334663.465\n",
      "R2 -  -3.860697617263027e+25\n",
      "------knn------\n",
      "MAE -  0.46461538461538454\n",
      "MSE -  0.3931897435897436\n",
      "RMSE -  0.6270484379932252\n",
      "R2 -  0.37127835555520505\n",
      "------grad------\n",
      "MAE -  0.4349697461504338\n",
      "MSE -  0.4202707359577462\n",
      "RMSE -  0.6482829135167347\n",
      "R2 -  0.32797507429623884\n"
     ]
    }
   ],
   "source": [
    "for name, model in models.items():\n",
    "    y_pred = model.predict(X_test)\n",
    "    print(f\"------{name}------\")\n",
    "    print('MAE - ', metrics.mean_absolute_error(y_test, y_pred))\n",
    "    print('MSE - ', metrics.mean_squared_error(y_test, y_pred))\n",
    "    print('RMSE - ', np.sqrt(metrics.mean_squared_error(y_test, y_pred)))\n",
    "    print('R2 - ', metrics.r2_score(y_test, y_pred))"
   ]
  },
  {
   "cell_type": "code",
   "execution_count": 27,
   "metadata": {},
   "outputs": [
    {
     "name": "stdout",
     "output_type": "stream",
     "text": [
      "Modelo:  ridge Score:  -0.24517033785848322\n",
      "Modelo:  lasso Score:  -0.28426366190194124\n",
      "Modelo:  sgd Score:  -1.3318385155302547e+25\n",
      "Modelo:  knn Score:  0.3493454625360017\n",
      "Modelo:  grad Score:  0.40623622869965026\n"
     ]
    }
   ],
   "source": [
    "for name, model in models.items():\n",
    "    scores=cvs(model, X, y, scoring='r2', cv=5)\n",
    "    print('Modelo: ', name, 'Score: ', np.mean(scores))"
   ]
  },
  {
   "cell_type": "markdown",
   "metadata": {},
   "source": [
    "Me quedo con el modelo KNeighborsRegressor puesto que tiene el RMSE menor."
   ]
  },
  {
   "cell_type": "code",
   "execution_count": null,
   "metadata": {},
   "outputs": [],
   "source": []
  }
 ],
 "metadata": {
  "kernelspec": {
   "display_name": "ironhack",
   "language": "python",
   "name": "ironhack"
  },
  "language_info": {
   "codemirror_mode": {
    "name": "ipython",
    "version": 3
   },
   "file_extension": ".py",
   "mimetype": "text/x-python",
   "name": "python",
   "nbconvert_exporter": "python",
   "pygments_lexer": "ipython3",
   "version": "3.8.5"
  }
 },
 "nbformat": 4,
 "nbformat_minor": 2
}
