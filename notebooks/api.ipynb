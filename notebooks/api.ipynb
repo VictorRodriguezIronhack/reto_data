{
 "cells": [
  {
   "cell_type": "code",
   "execution_count": 1,
   "id": "4f5ea366",
   "metadata": {},
   "outputs": [],
   "source": [
    "import pandas as pd\n",
    "import seaborn as sns\n",
    "import requests"
   ]
  },
  {
   "cell_type": "markdown",
   "id": "a3b791b1",
   "metadata": {},
   "source": [
    "### Getting prices from Spain government API:"
   ]
  },
  {
   "cell_type": "code",
   "execution_count": 2,
   "id": "2ddc7189",
   "metadata": {},
   "outputs": [],
   "source": [
    "url_productos=\"https://sedeaplicaciones.minetur.gob.es/ServiciosRESTCarburantes/PreciosCarburantes/Listados/ProductosPetroliferos/\""
   ]
  },
  {
   "cell_type": "code",
   "execution_count": 3,
   "id": "187c2c3c",
   "metadata": {},
   "outputs": [],
   "source": [
    "response = requests.get(url=url_productos)"
   ]
  },
  {
   "cell_type": "code",
   "execution_count": 4,
   "id": "74516fb8",
   "metadata": {},
   "outputs": [],
   "source": [
    "products_response = response.json()"
   ]
  },
  {
   "cell_type": "code",
   "execution_count": 5,
   "id": "a5ad910b",
   "metadata": {},
   "outputs": [],
   "source": [
    "products = pd.DataFrame(products_response)"
   ]
  },
  {
   "cell_type": "code",
   "execution_count": 6,
   "id": "e3b0b2d1",
   "metadata": {},
   "outputs": [
    {
     "data": {
      "text/html": [
       "<div>\n",
       "<style scoped>\n",
       "    .dataframe tbody tr th:only-of-type {\n",
       "        vertical-align: middle;\n",
       "    }\n",
       "\n",
       "    .dataframe tbody tr th {\n",
       "        vertical-align: top;\n",
       "    }\n",
       "\n",
       "    .dataframe thead th {\n",
       "        text-align: right;\n",
       "    }\n",
       "</style>\n",
       "<table border=\"1\" class=\"dataframe\">\n",
       "  <thead>\n",
       "    <tr style=\"text-align: right;\">\n",
       "      <th></th>\n",
       "      <th>IDProducto</th>\n",
       "      <th>NombreProducto</th>\n",
       "      <th>NombreProductoAbreviatura</th>\n",
       "    </tr>\n",
       "  </thead>\n",
       "  <tbody>\n",
       "    <tr>\n",
       "      <th>0</th>\n",
       "      <td>1</td>\n",
       "      <td>Gasolina 95 E5</td>\n",
       "      <td>G95E5</td>\n",
       "    </tr>\n",
       "    <tr>\n",
       "      <th>1</th>\n",
       "      <td>23</td>\n",
       "      <td>Gasolina 95 E10</td>\n",
       "      <td>G95E10</td>\n",
       "    </tr>\n",
       "    <tr>\n",
       "      <th>2</th>\n",
       "      <td>20</td>\n",
       "      <td>Gasolina 95 E5 Premium</td>\n",
       "      <td>G95E5+</td>\n",
       "    </tr>\n",
       "    <tr>\n",
       "      <th>3</th>\n",
       "      <td>3</td>\n",
       "      <td>Gasolina 98 E5</td>\n",
       "      <td>G98E5</td>\n",
       "    </tr>\n",
       "    <tr>\n",
       "      <th>4</th>\n",
       "      <td>21</td>\n",
       "      <td>Gasolina 98 E10</td>\n",
       "      <td>G98E10</td>\n",
       "    </tr>\n",
       "    <tr>\n",
       "      <th>5</th>\n",
       "      <td>4</td>\n",
       "      <td>Gasóleo A habitual</td>\n",
       "      <td>GOA</td>\n",
       "    </tr>\n",
       "    <tr>\n",
       "      <th>6</th>\n",
       "      <td>5</td>\n",
       "      <td>Gasóleo Premium</td>\n",
       "      <td>GOA+</td>\n",
       "    </tr>\n",
       "    <tr>\n",
       "      <th>7</th>\n",
       "      <td>6</td>\n",
       "      <td>Gasóleo B</td>\n",
       "      <td>GOB</td>\n",
       "    </tr>\n",
       "    <tr>\n",
       "      <th>8</th>\n",
       "      <td>7</td>\n",
       "      <td>Gasóleo C</td>\n",
       "      <td>GOC</td>\n",
       "    </tr>\n",
       "    <tr>\n",
       "      <th>9</th>\n",
       "      <td>16</td>\n",
       "      <td>Bioetanol</td>\n",
       "      <td>BIE</td>\n",
       "    </tr>\n",
       "    <tr>\n",
       "      <th>10</th>\n",
       "      <td>8</td>\n",
       "      <td>Biodiésel</td>\n",
       "      <td>BIO</td>\n",
       "    </tr>\n",
       "    <tr>\n",
       "      <th>11</th>\n",
       "      <td>17</td>\n",
       "      <td>Gases licuados del petróleo</td>\n",
       "      <td>GLP</td>\n",
       "    </tr>\n",
       "    <tr>\n",
       "      <th>12</th>\n",
       "      <td>18</td>\n",
       "      <td>Gas natural comprimido</td>\n",
       "      <td>GNC</td>\n",
       "    </tr>\n",
       "    <tr>\n",
       "      <th>13</th>\n",
       "      <td>19</td>\n",
       "      <td>Gas natural licuado</td>\n",
       "      <td>GNL</td>\n",
       "    </tr>\n",
       "    <tr>\n",
       "      <th>14</th>\n",
       "      <td>22</td>\n",
       "      <td>Hidrógeno</td>\n",
       "      <td>H2</td>\n",
       "    </tr>\n",
       "    <tr>\n",
       "      <th>15</th>\n",
       "      <td>9</td>\n",
       "      <td>Fuelóleo bajo índice azufre</td>\n",
       "      <td>FOB</td>\n",
       "    </tr>\n",
       "    <tr>\n",
       "      <th>16</th>\n",
       "      <td>10</td>\n",
       "      <td>Fuelóleo especial</td>\n",
       "      <td>FOE</td>\n",
       "    </tr>\n",
       "    <tr>\n",
       "      <th>17</th>\n",
       "      <td>11</td>\n",
       "      <td>Gasóleo para uso marítimo</td>\n",
       "      <td>MGO</td>\n",
       "    </tr>\n",
       "    <tr>\n",
       "      <th>18</th>\n",
       "      <td>12</td>\n",
       "      <td>Gasolina de aviación</td>\n",
       "      <td>GNAV</td>\n",
       "    </tr>\n",
       "    <tr>\n",
       "      <th>19</th>\n",
       "      <td>13</td>\n",
       "      <td>Queroseno de aviación JET_A1</td>\n",
       "      <td>JETA1</td>\n",
       "    </tr>\n",
       "    <tr>\n",
       "      <th>20</th>\n",
       "      <td>14</td>\n",
       "      <td>Queroseno de aviación JET_A2</td>\n",
       "      <td>JETA2</td>\n",
       "    </tr>\n",
       "  </tbody>\n",
       "</table>\n",
       "</div>"
      ],
      "text/plain": [
       "   IDProducto                NombreProducto NombreProductoAbreviatura\n",
       "0           1                Gasolina 95 E5                     G95E5\n",
       "1          23               Gasolina 95 E10                    G95E10\n",
       "2          20        Gasolina 95 E5 Premium                    G95E5+\n",
       "3           3                Gasolina 98 E5                     G98E5\n",
       "4          21               Gasolina 98 E10                    G98E10\n",
       "5           4            Gasóleo A habitual                       GOA\n",
       "6           5               Gasóleo Premium                      GOA+\n",
       "7           6                     Gasóleo B                       GOB\n",
       "8           7                     Gasóleo C                       GOC\n",
       "9          16                     Bioetanol                       BIE\n",
       "10          8                     Biodiésel                       BIO\n",
       "11         17   Gases licuados del petróleo                       GLP\n",
       "12         18        Gas natural comprimido                       GNC\n",
       "13         19           Gas natural licuado                       GNL\n",
       "14         22                     Hidrógeno                        H2\n",
       "15          9   Fuelóleo bajo índice azufre                       FOB\n",
       "16         10             Fuelóleo especial                       FOE\n",
       "17         11     Gasóleo para uso marítimo                       MGO\n",
       "18         12          Gasolina de aviación                      GNAV\n",
       "19         13  Queroseno de aviación JET_A1                     JETA1\n",
       "20         14  Queroseno de aviación JET_A2                     JETA2"
      ]
     },
     "execution_count": 6,
     "metadata": {},
     "output_type": "execute_result"
    }
   ],
   "source": [
    "products"
   ]
  },
  {
   "cell_type": "code",
   "execution_count": 7,
   "id": "56af449b",
   "metadata": {},
   "outputs": [
    {
     "data": {
      "text/html": [
       "<div>\n",
       "<style scoped>\n",
       "    .dataframe tbody tr th:only-of-type {\n",
       "        vertical-align: middle;\n",
       "    }\n",
       "\n",
       "    .dataframe tbody tr th {\n",
       "        vertical-align: top;\n",
       "    }\n",
       "\n",
       "    .dataframe thead th {\n",
       "        text-align: right;\n",
       "    }\n",
       "</style>\n",
       "<table border=\"1\" class=\"dataframe\">\n",
       "  <thead>\n",
       "    <tr style=\"text-align: right;\">\n",
       "      <th></th>\n",
       "      <th>IDProducto</th>\n",
       "      <th>NombreProducto</th>\n",
       "      <th>NombreProductoAbreviatura</th>\n",
       "    </tr>\n",
       "  </thead>\n",
       "  <tbody>\n",
       "    <tr>\n",
       "      <th>4</th>\n",
       "      <td>21</td>\n",
       "      <td>Gasolina 98 E10</td>\n",
       "      <td>G98E10</td>\n",
       "    </tr>\n",
       "  </tbody>\n",
       "</table>\n",
       "</div>"
      ],
      "text/plain": [
       "  IDProducto   NombreProducto NombreProductoAbreviatura\n",
       "4         21  Gasolina 98 E10                    G98E10"
      ]
     },
     "execution_count": 7,
     "metadata": {},
     "output_type": "execute_result"
    }
   ],
   "source": [
    "products[products.NombreProducto == \"Gasolina 98 E10\"]"
   ]
  },
  {
   "cell_type": "markdown",
   "id": "0f070b4a",
   "metadata": {},
   "source": [
    "#### This is the gas that we want to know the price within Spain Territory. Let's save it's product ID:"
   ]
  },
  {
   "cell_type": "code",
   "execution_count": 8,
   "id": "e71a618b",
   "metadata": {},
   "outputs": [],
   "source": [
    "E10 = str(int(products[products.NombreProducto == \"Gasolina 98 E10\"].IDProducto))"
   ]
  },
  {
   "cell_type": "markdown",
   "id": "c7771348",
   "metadata": {},
   "source": [
    "#### Let's make a new API request with the prices:"
   ]
  },
  {
   "cell_type": "code",
   "execution_count": 23,
   "id": "7234bcd6",
   "metadata": {},
   "outputs": [],
   "source": [
    "url_prices = \"https://sedeaplicaciones.minetur.gob.es/ServiciosRESTCarburantes/PreciosCarburantes/EstacionesTerrestres/FiltroProducto/\""
   ]
  },
  {
   "cell_type": "code",
   "execution_count": 24,
   "id": "7daccfde",
   "metadata": {},
   "outputs": [],
   "source": [
    "E10_response = requests.get(url=url_prices+E10)"
   ]
  },
  {
   "cell_type": "code",
   "execution_count": 25,
   "id": "cecf21f1",
   "metadata": {},
   "outputs": [],
   "source": [
    "E10_df = pd.DataFrame(E10_response.json()[\"ListaEESSPrecio\"])"
   ]
  },
  {
   "cell_type": "code",
   "execution_count": 26,
   "id": "2d1c307e",
   "metadata": {},
   "outputs": [
    {
     "data": {
      "text/html": [
       "<div>\n",
       "<style scoped>\n",
       "    .dataframe tbody tr th:only-of-type {\n",
       "        vertical-align: middle;\n",
       "    }\n",
       "\n",
       "    .dataframe tbody tr th {\n",
       "        vertical-align: top;\n",
       "    }\n",
       "\n",
       "    .dataframe thead th {\n",
       "        text-align: right;\n",
       "    }\n",
       "</style>\n",
       "<table border=\"1\" class=\"dataframe\">\n",
       "  <thead>\n",
       "    <tr style=\"text-align: right;\">\n",
       "      <th></th>\n",
       "      <th>C.P.</th>\n",
       "      <th>Dirección</th>\n",
       "      <th>Horario</th>\n",
       "      <th>Latitud</th>\n",
       "      <th>Localidad</th>\n",
       "      <th>Longitud (WGS84)</th>\n",
       "      <th>Margen</th>\n",
       "      <th>Municipio</th>\n",
       "      <th>PrecioProducto</th>\n",
       "      <th>Provincia</th>\n",
       "      <th>Remisión</th>\n",
       "      <th>Rótulo</th>\n",
       "      <th>Tipo Venta</th>\n",
       "      <th>IDEESS</th>\n",
       "      <th>IDMunicipio</th>\n",
       "      <th>IDProvincia</th>\n",
       "      <th>IDCCAA</th>\n",
       "    </tr>\n",
       "  </thead>\n",
       "  <tbody>\n",
       "    <tr>\n",
       "      <th>0</th>\n",
       "      <td>12160</td>\n",
       "      <td>CTRA. RAMAL A CULLA km 3,900</td>\n",
       "      <td>L-D: 08:00-21:00</td>\n",
       "      <td>40,379667</td>\n",
       "      <td>BENASAL</td>\n",
       "      <td>-0,139500</td>\n",
       "      <td>D</td>\n",
       "      <td>Benasal</td>\n",
       "      <td>1,475</td>\n",
       "      <td>CASTELLÓN / CASTELLÓ</td>\n",
       "      <td>dm</td>\n",
       "      <td>CARCELLER ROYO S.L.</td>\n",
       "      <td>P</td>\n",
       "      <td>9338</td>\n",
       "      <td>1829</td>\n",
       "      <td>12</td>\n",
       "      <td>10</td>\n",
       "    </tr>\n",
       "    <tr>\n",
       "      <th>1</th>\n",
       "      <td>18360</td>\n",
       "      <td>CARRETERA DE LA ESTACION KM. 1</td>\n",
       "      <td>L-D: 06:30-22:30</td>\n",
       "      <td>37,198778</td>\n",
       "      <td>HUETOR-TAJAR</td>\n",
       "      <td>-4,056806</td>\n",
       "      <td>N</td>\n",
       "      <td>Huétor Tájar</td>\n",
       "      <td>1,519</td>\n",
       "      <td>GRANADA</td>\n",
       "      <td>dm</td>\n",
       "      <td>COMBUSTIBLES GOMEZ</td>\n",
       "      <td>P</td>\n",
       "      <td>9640</td>\n",
       "      <td>2756</td>\n",
       "      <td>18</td>\n",
       "      <td>01</td>\n",
       "    </tr>\n",
       "    <tr>\n",
       "      <th>2</th>\n",
       "      <td>21610</td>\n",
       "      <td>CR N-435, 219,9</td>\n",
       "      <td>L-D: 07:00-23:00</td>\n",
       "      <td>37,315444</td>\n",
       "      <td>SAN JUAN DEL PUERTO</td>\n",
       "      <td>-6,827944</td>\n",
       "      <td>I</td>\n",
       "      <td>San Juan del Puerto</td>\n",
       "      <td>1,369</td>\n",
       "      <td>HUELVA</td>\n",
       "      <td>dm</td>\n",
       "      <td>COLOSO</td>\n",
       "      <td>P</td>\n",
       "      <td>5742</td>\n",
       "      <td>3278</td>\n",
       "      <td>21</td>\n",
       "      <td>01</td>\n",
       "    </tr>\n",
       "    <tr>\n",
       "      <th>3</th>\n",
       "      <td>24400</td>\n",
       "      <td>CALLE BURDEOS  EN  PONFERRADA, 3</td>\n",
       "      <td>L-D: 24H</td>\n",
       "      <td>42,554389</td>\n",
       "      <td>PONFERRADA</td>\n",
       "      <td>-6,613417</td>\n",
       "      <td>D</td>\n",
       "      <td>Ponferrada</td>\n",
       "      <td>1,400</td>\n",
       "      <td>LEÓN</td>\n",
       "      <td>dm</td>\n",
       "      <td>ZEPXA ECO</td>\n",
       "      <td>P</td>\n",
       "      <td>14909</td>\n",
       "      <td>3699</td>\n",
       "      <td>24</td>\n",
       "      <td>08</td>\n",
       "    </tr>\n",
       "    <tr>\n",
       "      <th>4</th>\n",
       "      <td>45830</td>\n",
       "      <td>CARRETERA QUINTANAR-ALCAZAR KM. 7600</td>\n",
       "      <td>L-D: 24H</td>\n",
       "      <td>39,525528</td>\n",
       "      <td>MIGUEL ESTEBAN</td>\n",
       "      <td>-3,080750</td>\n",
       "      <td>N</td>\n",
       "      <td>Miguel Esteban</td>\n",
       "      <td>1,498</td>\n",
       "      <td>TOLEDO</td>\n",
       "      <td>dm</td>\n",
       "      <td>NINGUNO</td>\n",
       "      <td>P</td>\n",
       "      <td>5435</td>\n",
       "      <td>6861</td>\n",
       "      <td>45</td>\n",
       "      <td>07</td>\n",
       "    </tr>\n",
       "  </tbody>\n",
       "</table>\n",
       "</div>"
      ],
      "text/plain": [
       "    C.P.                             Dirección           Horario    Latitud  \\\n",
       "0  12160          CTRA. RAMAL A CULLA km 3,900  L-D: 08:00-21:00  40,379667   \n",
       "1  18360        CARRETERA DE LA ESTACION KM. 1  L-D: 06:30-22:30  37,198778   \n",
       "2  21610                       CR N-435, 219,9  L-D: 07:00-23:00  37,315444   \n",
       "3  24400      CALLE BURDEOS  EN  PONFERRADA, 3          L-D: 24H  42,554389   \n",
       "4  45830  CARRETERA QUINTANAR-ALCAZAR KM. 7600          L-D: 24H  39,525528   \n",
       "\n",
       "             Localidad Longitud (WGS84) Margen            Municipio  \\\n",
       "0              BENASAL        -0,139500      D              Benasal   \n",
       "1         HUETOR-TAJAR        -4,056806      N         Huétor Tájar   \n",
       "2  SAN JUAN DEL PUERTO        -6,827944      I  San Juan del Puerto   \n",
       "3           PONFERRADA        -6,613417      D           Ponferrada   \n",
       "4       MIGUEL ESTEBAN        -3,080750      N       Miguel Esteban   \n",
       "\n",
       "  PrecioProducto             Provincia Remisión               Rótulo  \\\n",
       "0          1,475  CASTELLÓN / CASTELLÓ       dm  CARCELLER ROYO S.L.   \n",
       "1          1,519               GRANADA       dm   COMBUSTIBLES GOMEZ   \n",
       "2          1,369                HUELVA       dm               COLOSO   \n",
       "3          1,400                  LEÓN       dm            ZEPXA ECO   \n",
       "4          1,498                TOLEDO       dm              NINGUNO   \n",
       "\n",
       "  Tipo Venta IDEESS IDMunicipio IDProvincia IDCCAA  \n",
       "0          P   9338        1829          12     10  \n",
       "1          P   9640        2756          18     01  \n",
       "2          P   5742        3278          21     01  \n",
       "3          P  14909        3699          24     08  \n",
       "4          P   5435        6861          45     07  "
      ]
     },
     "execution_count": 26,
     "metadata": {},
     "output_type": "execute_result"
    }
   ],
   "source": [
    "E10_df"
   ]
  },
  {
   "cell_type": "markdown",
   "id": "103a7199",
   "metadata": {},
   "source": [
    "#### It's seems like in Spain there's no many E10 gas stations."
   ]
  },
  {
   "cell_type": "markdown",
   "id": "2cf46bae",
   "metadata": {},
   "source": [
    "#### Let's get and average in E10 gas in Spain:"
   ]
  },
  {
   "cell_type": "code",
   "execution_count": 27,
   "id": "0ae2e9f0",
   "metadata": {},
   "outputs": [],
   "source": [
    "E10_df.PrecioProducto = E10_df.PrecioProducto.str.replace(\",\", \".\")"
   ]
  },
  {
   "cell_type": "code",
   "execution_count": 30,
   "id": "24142e1c",
   "metadata": {},
   "outputs": [],
   "source": [
    "E10_df.PrecioProducto = E10_df.PrecioProducto.astype(float)"
   ]
  },
  {
   "cell_type": "code",
   "execution_count": 32,
   "id": "87a60df7",
   "metadata": {},
   "outputs": [
    {
     "data": {
      "text/plain": [
       "1.4522"
      ]
     },
     "execution_count": 32,
     "metadata": {},
     "output_type": "execute_result"
    }
   ],
   "source": [
    "E10_df.PrecioProducto.mean()"
   ]
  },
  {
   "cell_type": "markdown",
   "id": "8053358a",
   "metadata": {},
   "source": [
    "#### Now we have it! The mean price of E10 gas in Spain is 1.4522 euros/lt."
   ]
  },
  {
   "cell_type": "markdown",
   "id": "c79c1208",
   "metadata": {},
   "source": [
    "#### If we have more gas stations in Spain selling E10 i could make a better analysis between each community of Spain and their prices."
   ]
  }
 ],
 "metadata": {
  "kernelspec": {
   "display_name": "ironhack",
   "language": "python",
   "name": "ironhack"
  },
  "language_info": {
   "codemirror_mode": {
    "name": "ipython",
    "version": 3
   },
   "file_extension": ".py",
   "mimetype": "text/x-python",
   "name": "python",
   "nbconvert_exporter": "python",
   "pygments_lexer": "ipython3",
   "version": "3.8.5"
  }
 },
 "nbformat": 4,
 "nbformat_minor": 5
}
