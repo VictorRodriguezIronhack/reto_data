{
 "cells": [
  {
   "cell_type": "code",
   "execution_count": 8,
   "id": "5d6b24bc",
   "metadata": {},
   "outputs": [],
   "source": [
    "import pandas as pd\n",
    "import seaborn as sns"
   ]
  },
  {
   "cell_type": "markdown",
   "id": "b4f19b61",
   "metadata": {},
   "source": [
    "## Initial exploration:"
   ]
  },
  {
   "cell_type": "markdown",
   "id": "2fe48bcf",
   "metadata": {},
   "source": [
    "#### Let's import the dataset:"
   ]
  },
  {
   "cell_type": "code",
   "execution_count": 2,
   "id": "1bbee6f3",
   "metadata": {},
   "outputs": [],
   "source": [
    "gas_data = pd.read_csv(\"../data/measurements.csv\")"
   ]
  },
  {
   "cell_type": "markdown",
   "id": "5638c640",
   "metadata": {},
   "source": [
    "#### Understand dataset shape and columns:"
   ]
  },
  {
   "cell_type": "code",
   "execution_count": 3,
   "id": "e10baa10",
   "metadata": {},
   "outputs": [
    {
     "data": {
      "text/plain": [
       "(388, 12)"
      ]
     },
     "execution_count": 3,
     "metadata": {},
     "output_type": "execute_result"
    }
   ],
   "source": [
    "gas_data.shape"
   ]
  },
  {
   "cell_type": "code",
   "execution_count": 5,
   "id": "5b025d89",
   "metadata": {},
   "outputs": [
    {
     "name": "stdout",
     "output_type": "stream",
     "text": [
      "<class 'pandas.core.frame.DataFrame'>\n",
      "RangeIndex: 388 entries, 0 to 387\n",
      "Data columns (total 12 columns):\n",
      " #   Column         Non-Null Count  Dtype \n",
      "---  ------         --------------  ----- \n",
      " 0   distance       388 non-null    object\n",
      " 1   consume        388 non-null    object\n",
      " 2   speed          388 non-null    int64 \n",
      " 3   temp_inside    376 non-null    object\n",
      " 4   temp_outside   388 non-null    int64 \n",
      " 5   specials       93 non-null     object\n",
      " 6   gas_type       388 non-null    object\n",
      " 7   AC             388 non-null    int64 \n",
      " 8   rain           388 non-null    int64 \n",
      " 9   sun            388 non-null    int64 \n",
      " 10  refill liters  13 non-null     object\n",
      " 11  refill gas     13 non-null     object\n",
      "dtypes: int64(5), object(7)\n",
      "memory usage: 36.5+ KB\n"
     ]
    }
   ],
   "source": [
    "gas_data.info()"
   ]
  },
  {
   "cell_type": "code",
   "execution_count": 6,
   "id": "66079b7c",
   "metadata": {},
   "outputs": [
    {
     "data": {
      "text/html": [
       "<div>\n",
       "<style scoped>\n",
       "    .dataframe tbody tr th:only-of-type {\n",
       "        vertical-align: middle;\n",
       "    }\n",
       "\n",
       "    .dataframe tbody tr th {\n",
       "        vertical-align: top;\n",
       "    }\n",
       "\n",
       "    .dataframe thead th {\n",
       "        text-align: right;\n",
       "    }\n",
       "</style>\n",
       "<table border=\"1\" class=\"dataframe\">\n",
       "  <thead>\n",
       "    <tr style=\"text-align: right;\">\n",
       "      <th></th>\n",
       "      <th>distance</th>\n",
       "      <th>consume</th>\n",
       "      <th>speed</th>\n",
       "      <th>temp_inside</th>\n",
       "      <th>temp_outside</th>\n",
       "      <th>specials</th>\n",
       "      <th>gas_type</th>\n",
       "      <th>AC</th>\n",
       "      <th>rain</th>\n",
       "      <th>sun</th>\n",
       "      <th>refill liters</th>\n",
       "      <th>refill gas</th>\n",
       "    </tr>\n",
       "  </thead>\n",
       "  <tbody>\n",
       "    <tr>\n",
       "      <th>299</th>\n",
       "      <td>18,7</td>\n",
       "      <td>4,2</td>\n",
       "      <td>65</td>\n",
       "      <td>25</td>\n",
       "      <td>18</td>\n",
       "      <td>sun ac</td>\n",
       "      <td>SP98</td>\n",
       "      <td>1</td>\n",
       "      <td>0</td>\n",
       "      <td>1</td>\n",
       "      <td>NaN</td>\n",
       "      <td>NaN</td>\n",
       "    </tr>\n",
       "    <tr>\n",
       "      <th>238</th>\n",
       "      <td>11,8</td>\n",
       "      <td>4,6</td>\n",
       "      <td>40</td>\n",
       "      <td>22,5</td>\n",
       "      <td>2</td>\n",
       "      <td>NaN</td>\n",
       "      <td>E10</td>\n",
       "      <td>0</td>\n",
       "      <td>0</td>\n",
       "      <td>0</td>\n",
       "      <td>NaN</td>\n",
       "      <td>NaN</td>\n",
       "    </tr>\n",
       "    <tr>\n",
       "      <th>317</th>\n",
       "      <td>41,9</td>\n",
       "      <td>4,7</td>\n",
       "      <td>53</td>\n",
       "      <td>22</td>\n",
       "      <td>14</td>\n",
       "      <td>NaN</td>\n",
       "      <td>SP98</td>\n",
       "      <td>0</td>\n",
       "      <td>0</td>\n",
       "      <td>0</td>\n",
       "      <td>NaN</td>\n",
       "      <td>NaN</td>\n",
       "    </tr>\n",
       "    <tr>\n",
       "      <th>343</th>\n",
       "      <td>16</td>\n",
       "      <td>3,8</td>\n",
       "      <td>42</td>\n",
       "      <td>22</td>\n",
       "      <td>17</td>\n",
       "      <td>NaN</td>\n",
       "      <td>E10</td>\n",
       "      <td>0</td>\n",
       "      <td>0</td>\n",
       "      <td>0</td>\n",
       "      <td>NaN</td>\n",
       "      <td>NaN</td>\n",
       "    </tr>\n",
       "    <tr>\n",
       "      <th>151</th>\n",
       "      <td>9,9</td>\n",
       "      <td>5</td>\n",
       "      <td>28</td>\n",
       "      <td>21,5</td>\n",
       "      <td>9</td>\n",
       "      <td>NaN</td>\n",
       "      <td>E10</td>\n",
       "      <td>0</td>\n",
       "      <td>0</td>\n",
       "      <td>0</td>\n",
       "      <td>NaN</td>\n",
       "      <td>NaN</td>\n",
       "    </tr>\n",
       "  </tbody>\n",
       "</table>\n",
       "</div>"
      ],
      "text/plain": [
       "    distance consume  speed temp_inside  temp_outside specials gas_type  AC  \\\n",
       "299     18,7     4,2     65          25            18   sun ac     SP98   1   \n",
       "238     11,8     4,6     40        22,5             2      NaN      E10   0   \n",
       "317     41,9     4,7     53          22            14      NaN     SP98   0   \n",
       "343       16     3,8     42          22            17      NaN      E10   0   \n",
       "151      9,9       5     28        21,5             9      NaN      E10   0   \n",
       "\n",
       "     rain  sun refill liters refill gas  \n",
       "299     0    1           NaN        NaN  \n",
       "238     0    0           NaN        NaN  \n",
       "317     0    0           NaN        NaN  \n",
       "343     0    0           NaN        NaN  \n",
       "151     0    0           NaN        NaN  "
      ]
     },
     "execution_count": 6,
     "metadata": {},
     "output_type": "execute_result"
    }
   ],
   "source": [
    "gas_data.sample(5)"
   ]
  },
  {
   "cell_type": "markdown",
   "id": "3ddc93f5",
   "metadata": {},
   "source": [
    "#### Things to explore:\n",
    "- Check \"Temp_inside\" nulls. What i should do with them? Can i replace them or i have to delete those rows? Change it's column type.\n",
    "- Check \"Distance\" column type. Cleaning and change it's type.\n",
    "- Check \"Consume\" column type. Cleaning and change it's type.\n",
    "- Explore further \"Specials\" column to understand it deeply.\n",
    "- What i should do with \"refill liters\" and \"refill gas\" columns?"
   ]
  },
  {
   "cell_type": "markdown",
   "id": "6824ca8e",
   "metadata": {},
   "source": [
    "## Let's explore this dataset deeper:"
   ]
  },
  {
   "cell_type": "code",
   "execution_count": 7,
   "id": "c0467b54",
   "metadata": {},
   "outputs": [
    {
     "data": {
      "text/html": [
       "<div>\n",
       "<style scoped>\n",
       "    .dataframe tbody tr th:only-of-type {\n",
       "        vertical-align: middle;\n",
       "    }\n",
       "\n",
       "    .dataframe tbody tr th {\n",
       "        vertical-align: top;\n",
       "    }\n",
       "\n",
       "    .dataframe thead th {\n",
       "        text-align: right;\n",
       "    }\n",
       "</style>\n",
       "<table border=\"1\" class=\"dataframe\">\n",
       "  <thead>\n",
       "    <tr style=\"text-align: right;\">\n",
       "      <th></th>\n",
       "      <th>speed</th>\n",
       "      <th>temp_outside</th>\n",
       "      <th>AC</th>\n",
       "      <th>rain</th>\n",
       "      <th>sun</th>\n",
       "    </tr>\n",
       "  </thead>\n",
       "  <tbody>\n",
       "    <tr>\n",
       "      <th>count</th>\n",
       "      <td>388.000000</td>\n",
       "      <td>388.000000</td>\n",
       "      <td>388.000000</td>\n",
       "      <td>388.000000</td>\n",
       "      <td>388.000000</td>\n",
       "    </tr>\n",
       "    <tr>\n",
       "      <th>mean</th>\n",
       "      <td>41.927835</td>\n",
       "      <td>11.358247</td>\n",
       "      <td>0.077320</td>\n",
       "      <td>0.123711</td>\n",
       "      <td>0.082474</td>\n",
       "    </tr>\n",
       "    <tr>\n",
       "      <th>std</th>\n",
       "      <td>13.598524</td>\n",
       "      <td>6.991542</td>\n",
       "      <td>0.267443</td>\n",
       "      <td>0.329677</td>\n",
       "      <td>0.275441</td>\n",
       "    </tr>\n",
       "    <tr>\n",
       "      <th>min</th>\n",
       "      <td>14.000000</td>\n",
       "      <td>-5.000000</td>\n",
       "      <td>0.000000</td>\n",
       "      <td>0.000000</td>\n",
       "      <td>0.000000</td>\n",
       "    </tr>\n",
       "    <tr>\n",
       "      <th>25%</th>\n",
       "      <td>32.750000</td>\n",
       "      <td>7.000000</td>\n",
       "      <td>0.000000</td>\n",
       "      <td>0.000000</td>\n",
       "      <td>0.000000</td>\n",
       "    </tr>\n",
       "    <tr>\n",
       "      <th>50%</th>\n",
       "      <td>40.500000</td>\n",
       "      <td>10.000000</td>\n",
       "      <td>0.000000</td>\n",
       "      <td>0.000000</td>\n",
       "      <td>0.000000</td>\n",
       "    </tr>\n",
       "    <tr>\n",
       "      <th>75%</th>\n",
       "      <td>50.000000</td>\n",
       "      <td>16.000000</td>\n",
       "      <td>0.000000</td>\n",
       "      <td>0.000000</td>\n",
       "      <td>0.000000</td>\n",
       "    </tr>\n",
       "    <tr>\n",
       "      <th>max</th>\n",
       "      <td>90.000000</td>\n",
       "      <td>31.000000</td>\n",
       "      <td>1.000000</td>\n",
       "      <td>1.000000</td>\n",
       "      <td>1.000000</td>\n",
       "    </tr>\n",
       "  </tbody>\n",
       "</table>\n",
       "</div>"
      ],
      "text/plain": [
       "            speed  temp_outside          AC        rain         sun\n",
       "count  388.000000    388.000000  388.000000  388.000000  388.000000\n",
       "mean    41.927835     11.358247    0.077320    0.123711    0.082474\n",
       "std     13.598524      6.991542    0.267443    0.329677    0.275441\n",
       "min     14.000000     -5.000000    0.000000    0.000000    0.000000\n",
       "25%     32.750000      7.000000    0.000000    0.000000    0.000000\n",
       "50%     40.500000     10.000000    0.000000    0.000000    0.000000\n",
       "75%     50.000000     16.000000    0.000000    0.000000    0.000000\n",
       "max     90.000000     31.000000    1.000000    1.000000    1.000000"
      ]
     },
     "execution_count": 7,
     "metadata": {},
     "output_type": "execute_result"
    }
   ],
   "source": [
    "gas_data.describe()"
   ]
  },
  {
   "cell_type": "markdown",
   "id": "66797271",
   "metadata": {},
   "source": [
    "### Temp_inside column:"
   ]
  },
  {
   "cell_type": "markdown",
   "id": "9d85f623",
   "metadata": {},
   "source": [
    "#### How many nulls does \"temp_inside\" have?"
   ]
  },
  {
   "cell_type": "code",
   "execution_count": 17,
   "id": "ac59f4cf",
   "metadata": {
    "scrolled": true
   },
   "outputs": [
    {
     "data": {
      "text/plain": [
       "array(['21,5', '22,5', '20', nan, '21', '20,5', '23', '23,5', '25', '24',\n",
       "       '22', '19', '24,5', '25,5'], dtype=object)"
      ]
     },
     "execution_count": 17,
     "metadata": {},
     "output_type": "execute_result"
    }
   ],
   "source": [
    "gas_data.temp_inside.unique()"
   ]
  },
  {
   "cell_type": "code",
   "execution_count": 29,
   "id": "69ccf710",
   "metadata": {
    "scrolled": true
   },
   "outputs": [
    {
     "data": {
      "text/plain": [
       "False    376\n",
       "True      12\n",
       "Name: temp_inside, dtype: int64"
      ]
     },
     "execution_count": 29,
     "metadata": {},
     "output_type": "execute_result"
    }
   ],
   "source": [
    "gas_data.temp_inside.isna().value_counts()"
   ]
  },
  {
   "cell_type": "code",
   "execution_count": 31,
   "id": "37543c26",
   "metadata": {},
   "outputs": [
    {
     "data": {
      "text/html": [
       "<div>\n",
       "<style scoped>\n",
       "    .dataframe tbody tr th:only-of-type {\n",
       "        vertical-align: middle;\n",
       "    }\n",
       "\n",
       "    .dataframe tbody tr th {\n",
       "        vertical-align: top;\n",
       "    }\n",
       "\n",
       "    .dataframe thead th {\n",
       "        text-align: right;\n",
       "    }\n",
       "</style>\n",
       "<table border=\"1\" class=\"dataframe\">\n",
       "  <thead>\n",
       "    <tr style=\"text-align: right;\">\n",
       "      <th></th>\n",
       "      <th>distance</th>\n",
       "      <th>consume</th>\n",
       "      <th>speed</th>\n",
       "      <th>temp_inside</th>\n",
       "      <th>temp_outside</th>\n",
       "      <th>specials</th>\n",
       "      <th>gas_type</th>\n",
       "      <th>AC</th>\n",
       "      <th>rain</th>\n",
       "      <th>sun</th>\n",
       "      <th>refill liters</th>\n",
       "      <th>refill gas</th>\n",
       "    </tr>\n",
       "  </thead>\n",
       "  <tbody>\n",
       "    <tr>\n",
       "      <th>93</th>\n",
       "      <td>12,4</td>\n",
       "      <td>4,7</td>\n",
       "      <td>43</td>\n",
       "      <td>NaN</td>\n",
       "      <td>10</td>\n",
       "      <td>NaN</td>\n",
       "      <td>SP98</td>\n",
       "      <td>0</td>\n",
       "      <td>0</td>\n",
       "      <td>0</td>\n",
       "      <td>NaN</td>\n",
       "      <td>NaN</td>\n",
       "    </tr>\n",
       "    <tr>\n",
       "      <th>95</th>\n",
       "      <td>11,8</td>\n",
       "      <td>5,3</td>\n",
       "      <td>52</td>\n",
       "      <td>NaN</td>\n",
       "      <td>11</td>\n",
       "      <td>NaN</td>\n",
       "      <td>SP98</td>\n",
       "      <td>0</td>\n",
       "      <td>0</td>\n",
       "      <td>0</td>\n",
       "      <td>NaN</td>\n",
       "      <td>NaN</td>\n",
       "    </tr>\n",
       "    <tr>\n",
       "      <th>97</th>\n",
       "      <td>15,7</td>\n",
       "      <td>5,3</td>\n",
       "      <td>33</td>\n",
       "      <td>NaN</td>\n",
       "      <td>9</td>\n",
       "      <td>NaN</td>\n",
       "      <td>SP98</td>\n",
       "      <td>0</td>\n",
       "      <td>0</td>\n",
       "      <td>0</td>\n",
       "      <td>NaN</td>\n",
       "      <td>NaN</td>\n",
       "    </tr>\n",
       "    <tr>\n",
       "      <th>98</th>\n",
       "      <td>12,9</td>\n",
       "      <td>5,7</td>\n",
       "      <td>35</td>\n",
       "      <td>NaN</td>\n",
       "      <td>9</td>\n",
       "      <td>NaN</td>\n",
       "      <td>SP98</td>\n",
       "      <td>0</td>\n",
       "      <td>0</td>\n",
       "      <td>0</td>\n",
       "      <td>NaN</td>\n",
       "      <td>NaN</td>\n",
       "    </tr>\n",
       "    <tr>\n",
       "      <th>99</th>\n",
       "      <td>6,4</td>\n",
       "      <td>4,4</td>\n",
       "      <td>37</td>\n",
       "      <td>NaN</td>\n",
       "      <td>10</td>\n",
       "      <td>NaN</td>\n",
       "      <td>SP98</td>\n",
       "      <td>0</td>\n",
       "      <td>0</td>\n",
       "      <td>0</td>\n",
       "      <td>NaN</td>\n",
       "      <td>NaN</td>\n",
       "    </tr>\n",
       "    <tr>\n",
       "      <th>100</th>\n",
       "      <td>5,3</td>\n",
       "      <td>4,1</td>\n",
       "      <td>34</td>\n",
       "      <td>NaN</td>\n",
       "      <td>9</td>\n",
       "      <td>NaN</td>\n",
       "      <td>SP98</td>\n",
       "      <td>0</td>\n",
       "      <td>0</td>\n",
       "      <td>0</td>\n",
       "      <td>NaN</td>\n",
       "      <td>NaN</td>\n",
       "    </tr>\n",
       "    <tr>\n",
       "      <th>102</th>\n",
       "      <td>18,8</td>\n",
       "      <td>5</td>\n",
       "      <td>62</td>\n",
       "      <td>NaN</td>\n",
       "      <td>9</td>\n",
       "      <td>rain</td>\n",
       "      <td>SP98</td>\n",
       "      <td>0</td>\n",
       "      <td>1</td>\n",
       "      <td>0</td>\n",
       "      <td>NaN</td>\n",
       "      <td>NaN</td>\n",
       "    </tr>\n",
       "    <tr>\n",
       "      <th>201</th>\n",
       "      <td>22,2</td>\n",
       "      <td>3,8</td>\n",
       "      <td>42</td>\n",
       "      <td>NaN</td>\n",
       "      <td>15</td>\n",
       "      <td>NaN</td>\n",
       "      <td>SP98</td>\n",
       "      <td>0</td>\n",
       "      <td>0</td>\n",
       "      <td>0</td>\n",
       "      <td>NaN</td>\n",
       "      <td>NaN</td>\n",
       "    </tr>\n",
       "    <tr>\n",
       "      <th>203</th>\n",
       "      <td>12,6</td>\n",
       "      <td>4,1</td>\n",
       "      <td>33</td>\n",
       "      <td>NaN</td>\n",
       "      <td>17</td>\n",
       "      <td>NaN</td>\n",
       "      <td>SP98</td>\n",
       "      <td>0</td>\n",
       "      <td>0</td>\n",
       "      <td>0</td>\n",
       "      <td>NaN</td>\n",
       "      <td>NaN</td>\n",
       "    </tr>\n",
       "    <tr>\n",
       "      <th>261</th>\n",
       "      <td>24,5</td>\n",
       "      <td>3,9</td>\n",
       "      <td>50</td>\n",
       "      <td>NaN</td>\n",
       "      <td>15</td>\n",
       "      <td>sun</td>\n",
       "      <td>E10</td>\n",
       "      <td>0</td>\n",
       "      <td>0</td>\n",
       "      <td>1</td>\n",
       "      <td>NaN</td>\n",
       "      <td>NaN</td>\n",
       "    </tr>\n",
       "    <tr>\n",
       "      <th>267</th>\n",
       "      <td>22,9</td>\n",
       "      <td>4</td>\n",
       "      <td>29</td>\n",
       "      <td>NaN</td>\n",
       "      <td>21</td>\n",
       "      <td>NaN</td>\n",
       "      <td>E10</td>\n",
       "      <td>0</td>\n",
       "      <td>0</td>\n",
       "      <td>0</td>\n",
       "      <td>NaN</td>\n",
       "      <td>NaN</td>\n",
       "    </tr>\n",
       "    <tr>\n",
       "      <th>268</th>\n",
       "      <td>16</td>\n",
       "      <td>3,8</td>\n",
       "      <td>42</td>\n",
       "      <td>NaN</td>\n",
       "      <td>8</td>\n",
       "      <td>NaN</td>\n",
       "      <td>E10</td>\n",
       "      <td>0</td>\n",
       "      <td>0</td>\n",
       "      <td>0</td>\n",
       "      <td>NaN</td>\n",
       "      <td>NaN</td>\n",
       "    </tr>\n",
       "  </tbody>\n",
       "</table>\n",
       "</div>"
      ],
      "text/plain": [
       "    distance consume  speed temp_inside  temp_outside specials gas_type  AC  \\\n",
       "93      12,4     4,7     43         NaN            10      NaN     SP98   0   \n",
       "95      11,8     5,3     52         NaN            11      NaN     SP98   0   \n",
       "97      15,7     5,3     33         NaN             9      NaN     SP98   0   \n",
       "98      12,9     5,7     35         NaN             9      NaN     SP98   0   \n",
       "99       6,4     4,4     37         NaN            10      NaN     SP98   0   \n",
       "100      5,3     4,1     34         NaN             9      NaN     SP98   0   \n",
       "102     18,8       5     62         NaN             9     rain     SP98   0   \n",
       "201     22,2     3,8     42         NaN            15      NaN     SP98   0   \n",
       "203     12,6     4,1     33         NaN            17      NaN     SP98   0   \n",
       "261     24,5     3,9     50         NaN            15      sun      E10   0   \n",
       "267     22,9       4     29         NaN            21      NaN      E10   0   \n",
       "268       16     3,8     42         NaN             8      NaN      E10   0   \n",
       "\n",
       "     rain  sun refill liters refill gas  \n",
       "93      0    0           NaN        NaN  \n",
       "95      0    0           NaN        NaN  \n",
       "97      0    0           NaN        NaN  \n",
       "98      0    0           NaN        NaN  \n",
       "99      0    0           NaN        NaN  \n",
       "100     0    0           NaN        NaN  \n",
       "102     1    0           NaN        NaN  \n",
       "201     0    0           NaN        NaN  \n",
       "203     0    0           NaN        NaN  \n",
       "261     0    1           NaN        NaN  \n",
       "267     0    0           NaN        NaN  \n",
       "268     0    0           NaN        NaN  "
      ]
     },
     "execution_count": 31,
     "metadata": {},
     "output_type": "execute_result"
    }
   ],
   "source": [
    "gas_data[gas_data.temp_inside.isna()]"
   ]
  },
  {
   "cell_type": "markdown",
   "id": "7a133470",
   "metadata": {},
   "source": [
    "#### 12 of 388 rows (3% of the rows). In the cleaning phase i should decide if i could fill those rows or i will remove them."
   ]
  },
  {
   "cell_type": "markdown",
   "id": "d08e403b",
   "metadata": {},
   "source": [
    "### Distance column:"
   ]
  },
  {
   "cell_type": "markdown",
   "id": "18882fe6",
   "metadata": {},
   "source": [
    "#### Let's explore \"distance\" columns:"
   ]
  },
  {
   "cell_type": "code",
   "execution_count": 30,
   "id": "83ccb07d",
   "metadata": {},
   "outputs": [
    {
     "data": {
      "text/plain": [
       "array(['28', '12', '11,2', '12,9', '18,5', '8,3', '7,8', '12,3', '4,9',\n",
       "       '11,9', '12,4', '11,8', '24,7', '17,3', '33,4', '25,9', '25,3',\n",
       "       '14,2', '17,9', '18,4', '18,3', '32,6', '19', '12,1', '20', '4,5',\n",
       "       '11,7', '10,2', '5,4', '2', '16', '27,3', '10,6', '11,6', '13,1',\n",
       "       '6,1', '153,5', '2,9', '2,1', '9,8', '6,8', '14', '13,9', '9,7',\n",
       "       '24,8', '34,8', '5,2', '10,5', '13,2', '13', '12,2', '12,5',\n",
       "       '15,7', '6,4', '5,3', '26,2', '18,8', '22,9', '162,7', '16,6',\n",
       "       '15,9', '5,1', '22,4', '31,1', '16,1', '4,2', '17,4', '23,5', '7',\n",
       "       '20,1', '20,8', '1,7', '35,9', '36,9', '16,8', '9,9', '36,6',\n",
       "       '44,9', '21,6', '39,4', '26,6', '53,2', '18,9', '43,5', '16,4',\n",
       "       '21,1', '22,7', '44,4', '35,8', '40,6', '14,1', '58,7', '16,2',\n",
       "       '31,8', '51,6', '38,6', '81,2', '130,3', '67,2', '43,7', '56,1',\n",
       "       '39', '38,5', '28,2', '19,6', '22,2', '13,6', '12,6', '8,7', '7,9',\n",
       "       '2,4', '18,1', '1,3', '13,4', '12,8', '29', '31,4', '27,1', '25,2',\n",
       "       '14,3', '16,9', '9,2', '31,5', '24,9', '17', '7,4', '25,7', '24,5',\n",
       "       '4,1', '15,4', '101,9', '93,9', '32,1', '48,6', '37,2', '28,8',\n",
       "       '6,7', '6,6', '13,3', '12,7', '16,5', '20,6', '16,3', '18,7',\n",
       "       '36,5', '29,9', '10,1', '31,9', '10,8', '19,8', '11,3', '11,5',\n",
       "       '21,4', '32', '41,9', '211', '216,1', '25,5', '22,1', '39,5',\n",
       "       '21,5', '4,8', '100,9', '129,7', '21', '17,2', '6', '20,9', '15,3',\n",
       "       '28,5', '14,5', '16,7', '5,5', '14,7'], dtype=object)"
      ]
     },
     "execution_count": 30,
     "metadata": {},
     "output_type": "execute_result"
    }
   ],
   "source": [
    "gas_data.distance.unique()"
   ]
  },
  {
   "cell_type": "markdown",
   "id": "7c6be64e",
   "metadata": {},
   "source": [
    "#### It seems like replacing \",\" with a \".\" the column can be changed to a float type."
   ]
  },
  {
   "cell_type": "markdown",
   "id": "aa38303a",
   "metadata": {},
   "source": [
    "### Consume column:"
   ]
  },
  {
   "cell_type": "code",
   "execution_count": 36,
   "id": "428783f5",
   "metadata": {},
   "outputs": [
    {
     "data": {
      "text/plain": [
       "array(['5', '4,2', '5,5', '3,9', '4,5', '6,4', '4,4', '5,3', '5,6', '4,6',\n",
       "       '5,9', '5,1', '4,7', '4,9', '5,7', '4,1', '5,8', '4,8', '4,3',\n",
       "       '5,2', '7,4', '6,5', '4', '3,3', '9,9', '6,1', '6,2', '7,9',\n",
       "       '12,2', '5,4', '3,6', '6,9', '8,7', '6,3', '6', '10,8', '8,1',\n",
       "       '7,1', '3,8', '9', '3,7', '11,5', '6,6'], dtype=object)"
      ]
     },
     "execution_count": 36,
     "metadata": {},
     "output_type": "execute_result"
    }
   ],
   "source": [
    "gas_data.consume.unique()"
   ]
  },
  {
   "cell_type": "markdown",
   "id": "05355f7e",
   "metadata": {},
   "source": [
    "#### Same as \"distance\" column."
   ]
  },
  {
   "cell_type": "markdown",
   "id": "00d3b381",
   "metadata": {},
   "source": [
    "### Specials column:"
   ]
  },
  {
   "cell_type": "code",
   "execution_count": 37,
   "id": "4930096a",
   "metadata": {},
   "outputs": [
    {
     "data": {
      "text/plain": [
       "rain                  32\n",
       "sun                   27\n",
       "AC rain                9\n",
       "ac                     8\n",
       "AC                     6\n",
       "snow                   3\n",
       "sun ac                 3\n",
       "AC sun                 1\n",
       "ac rain                1\n",
       "AC snow                1\n",
       "AC Sun                 1\n",
       "half rain half sun     1\n",
       "Name: specials, dtype: int64"
      ]
     },
     "execution_count": 37,
     "metadata": {},
     "output_type": "execute_result"
    }
   ],
   "source": [
    "gas_data.specials.value_counts()"
   ]
  },
  {
   "cell_type": "code",
   "execution_count": 38,
   "id": "4768d6ff",
   "metadata": {},
   "outputs": [
    {
     "data": {
      "text/plain": [
       "array([nan, 'AC rain', 'AC', 'rain', 'snow', 'AC snow',\n",
       "       'half rain half sun', 'sun', 'AC sun', 'sun ac', 'ac', 'AC Sun',\n",
       "       'ac rain'], dtype=object)"
      ]
     },
     "execution_count": 38,
     "metadata": {},
     "output_type": "execute_result"
    }
   ],
   "source": [
    "gas_data.specials.unique()"
   ]
  },
  {
   "cell_type": "code",
   "execution_count": 39,
   "id": "a4163a52",
   "metadata": {},
   "outputs": [
    {
     "data": {
      "text/plain": [
       "True     295\n",
       "False     93\n",
       "Name: specials, dtype: int64"
      ]
     },
     "execution_count": 39,
     "metadata": {},
     "output_type": "execute_result"
    }
   ],
   "source": [
    "gas_data.specials.isna().value_counts()"
   ]
  },
  {
   "cell_type": "markdown",
   "id": "350fc87b",
   "metadata": {},
   "source": [
    "#### This information it's already in AC, rain and sun columns. I should use this column only to verify those columns and eliminate it."
   ]
  },
  {
   "cell_type": "markdown",
   "id": "98133bae",
   "metadata": {},
   "source": [
    "### With columns \"refill liters\" and \"refill gas\" i will separate them from this dataset and work them as a separate dataframe. This is because the note in the kaggle dataset description:"
   ]
  },
  {
   "cell_type": "markdown",
   "id": "6d824948",
   "metadata": {},
   "source": [
    "#### \"...I have also two columns saying how much and which gas type I was buying. Careful with those. The numbers don't add exactly up, because I note only the rides that occur under certain conditions: If the car was not cooling down enough to have another independent measure from the one before, i don't note it.\""
   ]
  },
  {
   "cell_type": "markdown",
   "id": "d5a8812c",
   "metadata": {},
   "source": [
    "### We have some missing information there, so i will extremely careful with this dataframe in particular."
   ]
  },
  {
   "cell_type": "markdown",
   "id": "99ce29fb",
   "metadata": {},
   "source": [
    "### Let's check \"gas_type\" column:"
   ]
  },
  {
   "cell_type": "code",
   "execution_count": 40,
   "id": "afbb2d71",
   "metadata": {},
   "outputs": [
    {
     "data": {
      "text/plain": [
       "array(['E10', 'SP98'], dtype=object)"
      ]
     },
     "execution_count": 40,
     "metadata": {},
     "output_type": "execute_result"
    }
   ],
   "source": [
    "gas_data.gas_type.unique()"
   ]
  },
  {
   "cell_type": "markdown",
   "id": "624ca9cc",
   "metadata": {},
   "source": [
    "#### Super clean column."
   ]
  },
  {
   "cell_type": "markdown",
   "id": "a350cb61",
   "metadata": {},
   "source": [
    "### \"AC\", \"sun\" and \"rain\" columns:"
   ]
  },
  {
   "cell_type": "code",
   "execution_count": 41,
   "id": "6c2c5d2b",
   "metadata": {},
   "outputs": [
    {
     "data": {
      "text/plain": [
       "array([0, 1])"
      ]
     },
     "execution_count": 41,
     "metadata": {},
     "output_type": "execute_result"
    }
   ],
   "source": [
    "gas_data.AC.unique()"
   ]
  },
  {
   "cell_type": "code",
   "execution_count": 42,
   "id": "538b3814",
   "metadata": {},
   "outputs": [
    {
     "data": {
      "text/plain": [
       "array([0, 1])"
      ]
     },
     "execution_count": 42,
     "metadata": {},
     "output_type": "execute_result"
    }
   ],
   "source": [
    "gas_data.sun.unique()"
   ]
  },
  {
   "cell_type": "code",
   "execution_count": 43,
   "id": "0cd47223",
   "metadata": {},
   "outputs": [
    {
     "data": {
      "text/plain": [
       "array([0, 1])"
      ]
     },
     "execution_count": 43,
     "metadata": {},
     "output_type": "execute_result"
    }
   ],
   "source": [
    "gas_data.rain.unique()"
   ]
  },
  {
   "cell_type": "markdown",
   "id": "a9b9124c",
   "metadata": {},
   "source": [
    "#### \"AC\", \"sun\" and \"rain\" columns are clean as an integer type with binary information."
   ]
  }
 ],
 "metadata": {
  "kernelspec": {
   "display_name": "ironhack",
   "language": "python",
   "name": "ironhack"
  },
  "language_info": {
   "codemirror_mode": {
    "name": "ipython",
    "version": 3
   },
   "file_extension": ".py",
   "mimetype": "text/x-python",
   "name": "python",
   "nbconvert_exporter": "python",
   "pygments_lexer": "ipython3",
   "version": "3.8.5"
  }
 },
 "nbformat": 4,
 "nbformat_minor": 5
}
