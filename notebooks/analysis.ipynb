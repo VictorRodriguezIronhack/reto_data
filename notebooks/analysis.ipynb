{
 "cells": [
  {
   "cell_type": "code",
   "execution_count": 1,
   "id": "5adca7e2",
   "metadata": {},
   "outputs": [],
   "source": [
    "import pandas as pd\n",
    "import seaborn as sns"
   ]
  },
  {
   "cell_type": "markdown",
   "id": "679d10a1",
   "metadata": {},
   "source": [
    "### Importing both CSV:"
   ]
  },
  {
   "cell_type": "code",
   "execution_count": 23,
   "id": "91228877",
   "metadata": {},
   "outputs": [],
   "source": [
    "consume_data = pd.read_csv(\"../data/consume_data.csv\")"
   ]
  },
  {
   "cell_type": "code",
   "execution_count": 24,
   "id": "1252667a",
   "metadata": {},
   "outputs": [],
   "source": [
    "refill_data = pd.read_csv(\"../data/refill_data.csv\")"
   ]
  },
  {
   "cell_type": "markdown",
   "id": "5e00367f",
   "metadata": {},
   "source": [
    "### Consume data dataframe analysis:"
   ]
  },
  {
   "cell_type": "code",
   "execution_count": 25,
   "id": "fff95d27",
   "metadata": {},
   "outputs": [
    {
     "name": "stdout",
     "output_type": "stream",
     "text": [
      "<class 'pandas.core.frame.DataFrame'>\n",
      "RangeIndex: 376 entries, 0 to 375\n",
      "Data columns (total 11 columns):\n",
      " #   Column        Non-Null Count  Dtype  \n",
      "---  ------        --------------  -----  \n",
      " 0   Unnamed: 0    376 non-null    int64  \n",
      " 1   distance      376 non-null    float64\n",
      " 2   consume       376 non-null    float64\n",
      " 3   speed         376 non-null    int64  \n",
      " 4   temp_inside   376 non-null    float64\n",
      " 5   temp_outside  376 non-null    int64  \n",
      " 6   gas_type      376 non-null    object \n",
      " 7   AC            376 non-null    int64  \n",
      " 8   rain          376 non-null    int64  \n",
      " 9   sun           376 non-null    int64  \n",
      " 10  snow          376 non-null    int64  \n",
      "dtypes: float64(3), int64(7), object(1)\n",
      "memory usage: 32.4+ KB\n"
     ]
    }
   ],
   "source": [
    "consume_data.info()"
   ]
  },
  {
   "cell_type": "code",
   "execution_count": 26,
   "id": "a57d3338",
   "metadata": {},
   "outputs": [
    {
     "data": {
      "text/html": [
       "<div>\n",
       "<style scoped>\n",
       "    .dataframe tbody tr th:only-of-type {\n",
       "        vertical-align: middle;\n",
       "    }\n",
       "\n",
       "    .dataframe tbody tr th {\n",
       "        vertical-align: top;\n",
       "    }\n",
       "\n",
       "    .dataframe thead th {\n",
       "        text-align: right;\n",
       "    }\n",
       "</style>\n",
       "<table border=\"1\" class=\"dataframe\">\n",
       "  <thead>\n",
       "    <tr style=\"text-align: right;\">\n",
       "      <th></th>\n",
       "      <th>Unnamed: 0</th>\n",
       "      <th>distance</th>\n",
       "      <th>consume</th>\n",
       "      <th>speed</th>\n",
       "      <th>temp_inside</th>\n",
       "      <th>temp_outside</th>\n",
       "      <th>AC</th>\n",
       "      <th>rain</th>\n",
       "      <th>sun</th>\n",
       "      <th>snow</th>\n",
       "    </tr>\n",
       "  </thead>\n",
       "  <tbody>\n",
       "    <tr>\n",
       "      <th>count</th>\n",
       "      <td>376.000000</td>\n",
       "      <td>376.000000</td>\n",
       "      <td>376.000000</td>\n",
       "      <td>376.000000</td>\n",
       "      <td>376.000000</td>\n",
       "      <td>376.000000</td>\n",
       "      <td>376.000000</td>\n",
       "      <td>376.000000</td>\n",
       "      <td>376.000000</td>\n",
       "      <td>376.000000</td>\n",
       "    </tr>\n",
       "    <tr>\n",
       "      <th>mean</th>\n",
       "      <td>194.664894</td>\n",
       "      <td>19.797340</td>\n",
       "      <td>4.925266</td>\n",
       "      <td>41.957447</td>\n",
       "      <td>21.929521</td>\n",
       "      <td>11.340426</td>\n",
       "      <td>0.082447</td>\n",
       "      <td>0.122340</td>\n",
       "      <td>0.082447</td>\n",
       "      <td>0.010638</td>\n",
       "    </tr>\n",
       "    <tr>\n",
       "      <th>std</th>\n",
       "      <td>112.985094</td>\n",
       "      <td>22.988878</td>\n",
       "      <td>1.040705</td>\n",
       "      <td>13.714354</td>\n",
       "      <td>1.010455</td>\n",
       "      <td>7.066999</td>\n",
       "      <td>0.275411</td>\n",
       "      <td>0.328115</td>\n",
       "      <td>0.275411</td>\n",
       "      <td>0.102729</td>\n",
       "    </tr>\n",
       "    <tr>\n",
       "      <th>min</th>\n",
       "      <td>0.000000</td>\n",
       "      <td>1.300000</td>\n",
       "      <td>3.300000</td>\n",
       "      <td>14.000000</td>\n",
       "      <td>19.000000</td>\n",
       "      <td>-5.000000</td>\n",
       "      <td>0.000000</td>\n",
       "      <td>0.000000</td>\n",
       "      <td>0.000000</td>\n",
       "      <td>0.000000</td>\n",
       "    </tr>\n",
       "    <tr>\n",
       "      <th>25%</th>\n",
       "      <td>95.500000</td>\n",
       "      <td>11.800000</td>\n",
       "      <td>4.300000</td>\n",
       "      <td>32.000000</td>\n",
       "      <td>21.500000</td>\n",
       "      <td>6.000000</td>\n",
       "      <td>0.000000</td>\n",
       "      <td>0.000000</td>\n",
       "      <td>0.000000</td>\n",
       "      <td>0.000000</td>\n",
       "    </tr>\n",
       "    <tr>\n",
       "      <th>50%</th>\n",
       "      <td>194.500000</td>\n",
       "      <td>14.600000</td>\n",
       "      <td>4.700000</td>\n",
       "      <td>40.500000</td>\n",
       "      <td>22.000000</td>\n",
       "      <td>10.000000</td>\n",
       "      <td>0.000000</td>\n",
       "      <td>0.000000</td>\n",
       "      <td>0.000000</td>\n",
       "      <td>0.000000</td>\n",
       "    </tr>\n",
       "    <tr>\n",
       "      <th>75%</th>\n",
       "      <td>293.250000</td>\n",
       "      <td>19.000000</td>\n",
       "      <td>5.300000</td>\n",
       "      <td>50.000000</td>\n",
       "      <td>22.500000</td>\n",
       "      <td>16.000000</td>\n",
       "      <td>0.000000</td>\n",
       "      <td>0.000000</td>\n",
       "      <td>0.000000</td>\n",
       "      <td>0.000000</td>\n",
       "    </tr>\n",
       "    <tr>\n",
       "      <th>max</th>\n",
       "      <td>387.000000</td>\n",
       "      <td>216.100000</td>\n",
       "      <td>12.200000</td>\n",
       "      <td>90.000000</td>\n",
       "      <td>25.500000</td>\n",
       "      <td>31.000000</td>\n",
       "      <td>1.000000</td>\n",
       "      <td>1.000000</td>\n",
       "      <td>1.000000</td>\n",
       "      <td>1.000000</td>\n",
       "    </tr>\n",
       "  </tbody>\n",
       "</table>\n",
       "</div>"
      ],
      "text/plain": [
       "       Unnamed: 0    distance     consume       speed  temp_inside  \\\n",
       "count  376.000000  376.000000  376.000000  376.000000   376.000000   \n",
       "mean   194.664894   19.797340    4.925266   41.957447    21.929521   \n",
       "std    112.985094   22.988878    1.040705   13.714354     1.010455   \n",
       "min      0.000000    1.300000    3.300000   14.000000    19.000000   \n",
       "25%     95.500000   11.800000    4.300000   32.000000    21.500000   \n",
       "50%    194.500000   14.600000    4.700000   40.500000    22.000000   \n",
       "75%    293.250000   19.000000    5.300000   50.000000    22.500000   \n",
       "max    387.000000  216.100000   12.200000   90.000000    25.500000   \n",
       "\n",
       "       temp_outside          AC        rain         sun        snow  \n",
       "count    376.000000  376.000000  376.000000  376.000000  376.000000  \n",
       "mean      11.340426    0.082447    0.122340    0.082447    0.010638  \n",
       "std        7.066999    0.275411    0.328115    0.275411    0.102729  \n",
       "min       -5.000000    0.000000    0.000000    0.000000    0.000000  \n",
       "25%        6.000000    0.000000    0.000000    0.000000    0.000000  \n",
       "50%       10.000000    0.000000    0.000000    0.000000    0.000000  \n",
       "75%       16.000000    0.000000    0.000000    0.000000    0.000000  \n",
       "max       31.000000    1.000000    1.000000    1.000000    1.000000  "
      ]
     },
     "execution_count": 26,
     "metadata": {},
     "output_type": "execute_result"
    }
   ],
   "source": [
    "consume_data.describe()"
   ]
  },
  {
   "cell_type": "markdown",
   "id": "75b07101",
   "metadata": {},
   "source": [
    "#### Let's plot some boxplot to see the comparision between gas types:"
   ]
  },
  {
   "cell_type": "code",
   "execution_count": 27,
   "id": "ff8f4eec",
   "metadata": {},
   "outputs": [
    {
     "data": {
      "text/plain": [
       "<AxesSubplot:xlabel='consume', ylabel='gas_type'>"
      ]
     },
     "execution_count": 27,
     "metadata": {},
     "output_type": "execute_result"
    },
    {
     "data": {
      "image/png": "[encoded data removed]",
      "text/plain": [
       "<Figure size 432x288 with 1 Axes>"
      ]
     },
     "metadata": {
      "needs_background": "light"
     },
     "output_type": "display_data"
    }
   ],
   "source": [
    "sns.boxplot(data=consume_data, x=\"consume\", y=\"gas_type\")"
   ]
  },
  {
   "cell_type": "markdown",
   "id": "8d5ec939",
   "metadata": {},
   "source": [
    "#### Let's see some numbers:"
   ]
  },
  {
   "cell_type": "code",
   "execution_count": 46,
   "id": "5cc4d14e",
   "metadata": {},
   "outputs": [
    {
     "data": {
      "text/html": [
       "<div>\n",
       "<style scoped>\n",
       "    .dataframe tbody tr th:only-of-type {\n",
       "        vertical-align: middle;\n",
       "    }\n",
       "\n",
       "    .dataframe tbody tr th {\n",
       "        vertical-align: top;\n",
       "    }\n",
       "\n",
       "    .dataframe thead th {\n",
       "        text-align: right;\n",
       "    }\n",
       "</style>\n",
       "<table border=\"1\" class=\"dataframe\">\n",
       "  <thead>\n",
       "    <tr style=\"text-align: right;\">\n",
       "      <th></th>\n",
       "      <th>std</th>\n",
       "      <th>mean</th>\n",
       "      <th>median</th>\n",
       "      <th>min</th>\n",
       "      <th>max</th>\n",
       "    </tr>\n",
       "    <tr>\n",
       "      <th>gas_type</th>\n",
       "      <th></th>\n",
       "      <th></th>\n",
       "      <th></th>\n",
       "      <th></th>\n",
       "      <th></th>\n",
       "    </tr>\n",
       "  </thead>\n",
       "  <tbody>\n",
       "    <tr>\n",
       "      <th>E10</th>\n",
       "      <td>0.897976</td>\n",
       "      <td>4.950955</td>\n",
       "      <td>4.8</td>\n",
       "      <td>3.7</td>\n",
       "      <td>10.8</td>\n",
       "    </tr>\n",
       "    <tr>\n",
       "      <th>SP98</th>\n",
       "      <td>1.133679</td>\n",
       "      <td>4.906849</td>\n",
       "      <td>4.7</td>\n",
       "      <td>3.3</td>\n",
       "      <td>12.2</td>\n",
       "    </tr>\n",
       "  </tbody>\n",
       "</table>\n",
       "</div>"
      ],
      "text/plain": [
       "               std      mean  median  min   max\n",
       "gas_type                                       \n",
       "E10       0.897976  4.950955     4.8  3.7  10.8\n",
       "SP98      1.133679  4.906849     4.7  3.3  12.2"
      ]
     },
     "execution_count": 46,
     "metadata": {},
     "output_type": "execute_result"
    }
   ],
   "source": [
    "consume_data.groupby(\"gas_type\").consume.agg([\"std\", \"mean\", \"median\", \"min\", \"max\"])"
   ]
  },
  {
   "cell_type": "markdown",
   "id": "6475e99e",
   "metadata": {},
   "source": [
    "#### We can see that SP98 gas has a bigger standard deviation consume, we can estimate much better what will be the consume with E10 gas."
   ]
  },
  {
   "cell_type": "markdown",
   "id": "593dca5a",
   "metadata": {},
   "source": [
    "#### Is there any difference in the use of the car between gas types?"
   ]
  },
  {
   "cell_type": "code",
   "execution_count": 18,
   "id": "13063158",
   "metadata": {},
   "outputs": [
    {
     "data": {
      "text/plain": [
       "<AxesSubplot:xlabel='speed', ylabel='gas_type'>"
      ]
     },
     "execution_count": 18,
     "metadata": {},
     "output_type": "execute_result"
    },
    {
     "data": {
      "image/png": "[encoded data removed]",
      "text/plain": [
       "<Figure size 432x288 with 1 Axes>"
      ]
     },
     "metadata": {
      "needs_background": "light"
     },
     "output_type": "display_data"
    }
   ],
   "source": [
    "sns.boxplot(data=consume_data, x=\"speed\", y=\"gas_type\")"
   ]
  },
  {
   "cell_type": "code",
   "execution_count": 48,
   "id": "d6f3d8b4",
   "metadata": {},
   "outputs": [
    {
     "data": {
      "text/html": [
       "<div>\n",
       "<style scoped>\n",
       "    .dataframe tbody tr th:only-of-type {\n",
       "        vertical-align: middle;\n",
       "    }\n",
       "\n",
       "    .dataframe tbody tr th {\n",
       "        vertical-align: top;\n",
       "    }\n",
       "\n",
       "    .dataframe thead th {\n",
       "        text-align: right;\n",
       "    }\n",
       "</style>\n",
       "<table border=\"1\" class=\"dataframe\">\n",
       "  <thead>\n",
       "    <tr style=\"text-align: right;\">\n",
       "      <th></th>\n",
       "      <th>std</th>\n",
       "      <th>mean</th>\n",
       "      <th>median</th>\n",
       "      <th>min</th>\n",
       "      <th>max</th>\n",
       "    </tr>\n",
       "    <tr>\n",
       "      <th>gas_type</th>\n",
       "      <th></th>\n",
       "      <th></th>\n",
       "      <th></th>\n",
       "      <th></th>\n",
       "      <th></th>\n",
       "    </tr>\n",
       "  </thead>\n",
       "  <tbody>\n",
       "    <tr>\n",
       "      <th>E10</th>\n",
       "      <td>14.154946</td>\n",
       "      <td>43.566879</td>\n",
       "      <td>42</td>\n",
       "      <td>14</td>\n",
       "      <td>88</td>\n",
       "    </tr>\n",
       "    <tr>\n",
       "      <th>SP98</th>\n",
       "      <td>13.302507</td>\n",
       "      <td>40.803653</td>\n",
       "      <td>40</td>\n",
       "      <td>16</td>\n",
       "      <td>90</td>\n",
       "    </tr>\n",
       "  </tbody>\n",
       "</table>\n",
       "</div>"
      ],
      "text/plain": [
       "                std       mean  median  min  max\n",
       "gas_type                                        \n",
       "E10       14.154946  43.566879      42   14   88\n",
       "SP98      13.302507  40.803653      40   16   90"
      ]
     },
     "execution_count": 48,
     "metadata": {},
     "output_type": "execute_result"
    }
   ],
   "source": [
    "consume_data.groupby(\"gas_type\").speed.agg([\"std\", \"mean\", \"median\", \"min\", \"max\"])"
   ]
  },
  {
   "cell_type": "markdown",
   "id": "9ec2ef26",
   "metadata": {},
   "source": [
    "#### There is slighlty difference in the use of the car with eace gas type."
   ]
  },
  {
   "cell_type": "code",
   "execution_count": 19,
   "id": "f8b27138",
   "metadata": {},
   "outputs": [
    {
     "data": {
      "text/plain": [
       "<AxesSubplot:xlabel='distance', ylabel='gas_type'>"
      ]
     },
     "execution_count": 19,
     "metadata": {},
     "output_type": "execute_result"
    },
    {
     "data": {
      "image/png": "[encoded data removed]",
      "text/plain": [
       "<Figure size 432x288 with 1 Axes>"
      ]
     },
     "metadata": {
      "needs_background": "light"
     },
     "output_type": "display_data"
    }
   ],
   "source": [
    "sns.boxplot(data=consume_data, x=\"distance\", y=\"gas_type\")"
   ]
  },
  {
   "cell_type": "markdown",
   "id": "2aaa9f82",
   "metadata": {},
   "source": [
    "#### In this plot we have 4 very long trips (over 150 kms) with the SP98."
   ]
  },
  {
   "cell_type": "markdown",
   "id": "bc4fa1f7",
   "metadata": {},
   "source": [
    "#### Do we have any correlation between variables?"
   ]
  },
  {
   "cell_type": "code",
   "execution_count": 50,
   "id": "6a2512a8",
   "metadata": {},
   "outputs": [
    {
     "data": {
      "text/plain": [
       "<AxesSubplot:>"
      ]
     },
     "execution_count": 50,
     "metadata": {},
     "output_type": "execute_result"
    },
    {
     "data": {
      "image/png": "[encoded data removed]",
      "text/plain": [
       "<Figure size 432x288 with 2 Axes>"
      ]
     },
     "metadata": {
      "needs_background": "light"
     },
     "output_type": "display_data"
    }
   ],
   "source": [
    "sns.heatmap(consume_data.corr())"
   ]
  },
  {
   "cell_type": "markdown",
   "id": "138f4e6c",
   "metadata": {},
   "source": [
    "#### Distance and speed has a moderate correlation. Let's plot it:"
   ]
  },
  {
   "cell_type": "code",
   "execution_count": 55,
   "id": "016d295f",
   "metadata": {},
   "outputs": [
    {
     "data": {
      "text/plain": [
       "<AxesSubplot:xlabel='distance', ylabel='speed'>"
      ]
     },
     "execution_count": 55,
     "metadata": {},
     "output_type": "execute_result"
    },
    {
     "data": {
      "image/png": "[encoded data removed]",
      "text/plain": [
       "<Figure size 432x288 with 1 Axes>"
      ]
     },
     "metadata": {
      "needs_background": "light"
     },
     "output_type": "display_data"
    }
   ],
   "source": [
    "sns.scatterplot(data=consume_data, x=\"distance\", y=\"speed\", hue=\"gas_type\")"
   ]
  },
  {
   "cell_type": "markdown",
   "id": "1c1ff6a2",
   "metadata": {},
   "source": [
    "#### We have a correlation between distance and speed. It's behaviour looks like an inverse exponential function. It's strange that for mid range trips (50 to 150 km) you use only E10 and for long trips (over 150 km) use SP98."
   ]
  },
  {
   "cell_type": "markdown",
   "id": "87a45d38",
   "metadata": {},
   "source": [
    "#### Let's plot the consume against speed:"
   ]
  },
  {
   "cell_type": "code",
   "execution_count": 53,
   "id": "341548a5",
   "metadata": {},
   "outputs": [
    {
     "data": {
      "text/plain": [
       "<AxesSubplot:xlabel='consume', ylabel='speed'>"
      ]
     },
     "execution_count": 53,
     "metadata": {},
     "output_type": "execute_result"
    },
    {
     "data": {
      "image/png": "[encoded data removed]",
      "text/plain": [
       "<Figure size 432x288 with 1 Axes>"
      ]
     },
     "metadata": {
      "needs_background": "light"
     },
     "output_type": "display_data"
    }
   ],
   "source": [
    "sns.scatterplot(data=consume_data, x=\"consume\", y=\"speed\", hue=\"gas_type\")"
   ]
  },
  {
   "cell_type": "markdown",
   "id": "d33323d5",
   "metadata": {},
   "source": [
    "#### There's a clear high consume mean in low speeds, specially with SP98. Maybe, depending on the average speed of the car we can choose between gas types. For example, we can have drivers designated to long trip and other to short trips and asignated which type of fuel they should use in order to save money. i will keep digging on this idea."
   ]
  },
  {
   "cell_type": "markdown",
   "id": "ef8488ea",
   "metadata": {},
   "source": [
    "#### We have few data at high speed and long distances in order to make a good decision about this."
   ]
  },
  {
   "cell_type": "code",
   "execution_count": null,
   "id": "a01a521f",
   "metadata": {},
   "outputs": [],
   "source": []
  }
 ],
 "metadata": {
  "kernelspec": {
   "display_name": "ironhack",
   "language": "python",
   "name": "ironhack"
  },
  "language_info": {
   "codemirror_mode": {
    "name": "ipython",
    "version": 3
   },
   "file_extension": ".py",
   "mimetype": "text/x-python",
   "name": "python",
   "nbconvert_exporter": "python",
   "pygments_lexer": "ipython3",
   "version": "3.8.5"
  }
 },
 "nbformat": 4,
 "nbformat_minor": 5
}
