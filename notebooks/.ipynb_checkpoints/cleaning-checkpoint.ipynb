{
 "cells": [
  {
   "cell_type": "code",
   "execution_count": 17,
   "id": "bf5ba57a",
   "metadata": {},
   "outputs": [],
   "source": [
    "import pandas as pd\n",
    "import seaborn as sns"
   ]
  },
  {
   "cell_type": "markdown",
   "id": "ffbedfdd",
   "metadata": {},
   "source": [
    "#### Importing dataset:"
   ]
  },
  {
   "cell_type": "code",
   "execution_count": 18,
   "id": "15d535d5",
   "metadata": {},
   "outputs": [],
   "source": [
    "gas_data = pd.read_csv(\"../data/measurements.csv\")"
   ]
  },
  {
   "cell_type": "markdown",
   "id": "0ee6dc39",
   "metadata": {},
   "source": [
    "### Let's start cleaning it:"
   ]
  },
  {
   "cell_type": "code",
   "execution_count": 19,
   "id": "5d7f81c4",
   "metadata": {},
   "outputs": [
    {
     "name": "stdout",
     "output_type": "stream",
     "text": [
      "<class 'pandas.core.frame.DataFrame'>\n",
      "RangeIndex: 388 entries, 0 to 387\n",
      "Data columns (total 12 columns):\n",
      " #   Column         Non-Null Count  Dtype \n",
      "---  ------         --------------  ----- \n",
      " 0   distance       388 non-null    object\n",
      " 1   consume        388 non-null    object\n",
      " 2   speed          388 non-null    int64 \n",
      " 3   temp_inside    376 non-null    object\n",
      " 4   temp_outside   388 non-null    int64 \n",
      " 5   specials       93 non-null     object\n",
      " 6   gas_type       388 non-null    object\n",
      " 7   AC             388 non-null    int64 \n",
      " 8   rain           388 non-null    int64 \n",
      " 9   sun            388 non-null    int64 \n",
      " 10  refill liters  13 non-null     object\n",
      " 11  refill gas     13 non-null     object\n",
      "dtypes: int64(5), object(7)\n",
      "memory usage: 36.5+ KB\n"
     ]
    }
   ],
   "source": [
    "gas_data.info()"
   ]
  },
  {
   "cell_type": "markdown",
   "id": "8e5832c0",
   "metadata": {},
   "source": [
    "#### Distance and consume columns:"
   ]
  },
  {
   "cell_type": "code",
   "execution_count": 20,
   "id": "1455bf54",
   "metadata": {},
   "outputs": [],
   "source": [
    "gas_data.distance = gas_data.distance.str.replace(\",\",\".\")"
   ]
  },
  {
   "cell_type": "code",
   "execution_count": 21,
   "id": "0586e761",
   "metadata": {},
   "outputs": [
    {
     "data": {
      "text/plain": [
       "array(['28', '12', '11.2', '12.9', '18.5', '8.3', '7.8', '12.3', '4.9',\n",
       "       '11.9', '12.4', '11.8', '24.7', '17.3', '33.4', '25.9', '25.3',\n",
       "       '14.2', '17.9', '18.4', '18.3', '32.6', '19', '12.1', '20', '4.5',\n",
       "       '11.7', '10.2', '5.4', '2', '16', '27.3', '10.6', '11.6', '13.1',\n",
       "       '6.1', '153.5', '2.9', '2.1', '9.8', '6.8', '14', '13.9', '9.7',\n",
       "       '24.8', '34.8', '5.2', '10.5', '13.2', '13', '12.2', '12.5',\n",
       "       '15.7', '6.4', '5.3', '26.2', '18.8', '22.9', '162.7', '16.6',\n",
       "       '15.9', '5.1', '22.4', '31.1', '16.1', '4.2', '17.4', '23.5', '7',\n",
       "       '20.1', '20.8', '1.7', '35.9', '36.9', '16.8', '9.9', '36.6',\n",
       "       '44.9', '21.6', '39.4', '26.6', '53.2', '18.9', '43.5', '16.4',\n",
       "       '21.1', '22.7', '44.4', '35.8', '40.6', '14.1', '58.7', '16.2',\n",
       "       '31.8', '51.6', '38.6', '81.2', '130.3', '67.2', '43.7', '56.1',\n",
       "       '39', '38.5', '28.2', '19.6', '22.2', '13.6', '12.6', '8.7', '7.9',\n",
       "       '2.4', '18.1', '1.3', '13.4', '12.8', '29', '31.4', '27.1', '25.2',\n",
       "       '14.3', '16.9', '9.2', '31.5', '24.9', '17', '7.4', '25.7', '24.5',\n",
       "       '4.1', '15.4', '101.9', '93.9', '32.1', '48.6', '37.2', '28.8',\n",
       "       '6.7', '6.6', '13.3', '12.7', '16.5', '20.6', '16.3', '18.7',\n",
       "       '36.5', '29.9', '10.1', '31.9', '10.8', '19.8', '11.3', '11.5',\n",
       "       '21.4', '32', '41.9', '211', '216.1', '25.5', '22.1', '39.5',\n",
       "       '21.5', '4.8', '100.9', '129.7', '21', '17.2', '6', '20.9', '15.3',\n",
       "       '28.5', '14.5', '16.7', '5.5', '14.7'], dtype=object)"
      ]
     },
     "execution_count": 21,
     "metadata": {},
     "output_type": "execute_result"
    }
   ],
   "source": [
    "gas_data.distance.unique()"
   ]
  },
  {
   "cell_type": "code",
   "execution_count": 22,
   "id": "bf5dee4a",
   "metadata": {},
   "outputs": [],
   "source": [
    "gas_data.distance = gas_data.distance.astype(float)"
   ]
  },
  {
   "cell_type": "code",
   "execution_count": 23,
   "id": "297f9da3",
   "metadata": {},
   "outputs": [
    {
     "data": {
      "text/plain": [
       "array([ 5. ,  4.2,  5.5,  3.9,  4.5,  6.4,  4.4,  5.3,  5.6,  4.6,  5.9,\n",
       "        5.1,  4.7,  4.9,  5.7,  4.1,  5.8,  4.8,  4.3,  5.2,  7.4,  6.5,\n",
       "        4. ,  3.3,  9.9,  6.1,  6.2,  7.9, 12.2,  5.4,  3.6,  6.9,  8.7,\n",
       "        6.3,  6. , 10.8,  8.1,  7.1,  3.8,  9. ,  3.7, 11.5,  6.6])"
      ]
     },
     "execution_count": 23,
     "metadata": {},
     "output_type": "execute_result"
    }
   ],
   "source": [
    "gas_data.consume = gas_data.consume.str.replace(\",\",\".\")\n",
    "gas_data.consume = gas_data.consume.astype(float)\n",
    "gas_data.consume.unique()"
   ]
  },
  {
   "cell_type": "markdown",
   "id": "e69b239c",
   "metadata": {},
   "source": [
    "#### Both columns now are clean after replacing \",\" for \".\" and transforming their type to \"float\"."
   ]
  },
  {
   "cell_type": "markdown",
   "id": "96a7b19b",
   "metadata": {},
   "source": [
    "#### Special column:"
   ]
  },
  {
   "cell_type": "code",
   "execution_count": 26,
   "id": "306bc407",
   "metadata": {},
   "outputs": [
    {
     "data": {
      "text/plain": [
       "array([nan, 'AC rain', 'AC', 'rain', 'snow', 'AC snow',\n",
       "       'half rain half sun', 'sun', 'AC sun', 'sun ac', 'ac', 'AC Sun',\n",
       "       'ac rain'], dtype=object)"
      ]
     },
     "execution_count": 26,
     "metadata": {},
     "output_type": "execute_result"
    }
   ],
   "source": [
    "gas_data.specials.unique()"
   ]
  },
  {
   "cell_type": "markdown",
   "id": "f99650aa",
   "metadata": {},
   "source": [
    "#### First, let's get everything in upper letters:"
   ]
  },
  {
   "cell_type": "code",
   "execution_count": 31,
   "id": "2fb349f0",
   "metadata": {},
   "outputs": [],
   "source": [
    "gas_data.specials = gas_data.specials.str.upper()"
   ]
  },
  {
   "cell_type": "code",
   "execution_count": 32,
   "id": "7845ccc7",
   "metadata": {},
   "outputs": [
    {
     "data": {
      "text/plain": [
       "array([nan, 'AC RAIN', 'AC', 'RAIN', 'SNOW', 'AC SNOW',\n",
       "       'HALF RAIN HALF SUN', 'SUN', 'AC SUN', 'SUN AC'], dtype=object)"
      ]
     },
     "execution_count": 32,
     "metadata": {},
     "output_type": "execute_result"
    }
   ],
   "source": [
    "gas_data.specials.unique()"
   ]
  },
  {
   "cell_type": "markdown",
   "id": "076e3442",
   "metadata": {},
   "source": [
    "#### Let's compare binary columns with \"specials\":"
   ]
  },
  {
   "cell_type": "code",
   "execution_count": 34,
   "id": "4c3c9599",
   "metadata": {},
   "outputs": [
    {
     "data": {
      "text/plain": [
       "RAIN                  32\n",
       "SUN                   27\n",
       "AC                    14\n",
       "AC RAIN               10\n",
       "SUN AC                 3\n",
       "SNOW                   3\n",
       "AC SUN                 2\n",
       "AC SNOW                1\n",
       "HALF RAIN HALF SUN     1\n",
       "Name: specials, dtype: int64"
      ]
     },
     "execution_count": 34,
     "metadata": {},
     "output_type": "execute_result"
    }
   ],
   "source": [
    "gas_data.specials.value_counts()"
   ]
  },
  {
   "cell_type": "markdown",
   "id": "a95782db",
   "metadata": {},
   "source": [
    "#### First, AC column with \"AC\" word in \"special\" column: "
   ]
  },
  {
   "cell_type": "code",
   "execution_count": 71,
   "id": "4de2650e",
   "metadata": {},
   "outputs": [
    {
     "data": {
      "text/plain": [
       "False    387\n",
       "True       1\n",
       "dtype: int64"
      ]
     },
     "execution_count": 71,
     "metadata": {},
     "output_type": "execute_result"
    }
   ],
   "source": [
    "((gas_data.specials.str.contains(\"AC\")) & (gas_data.AC == 0)).value_counts()"
   ]
  },
  {
   "cell_type": "markdown",
   "id": "9a0fc0df",
   "metadata": {},
   "source": [
    "#### We found one row that doesn't match:"
   ]
  },
  {
   "cell_type": "code",
   "execution_count": 81,
   "id": "458f4811",
   "metadata": {},
   "outputs": [
    {
     "data": {
      "text/html": [
       "<div>\n",
       "<style scoped>\n",
       "    .dataframe tbody tr th:only-of-type {\n",
       "        vertical-align: middle;\n",
       "    }\n",
       "\n",
       "    .dataframe tbody tr th {\n",
       "        vertical-align: top;\n",
       "    }\n",
       "\n",
       "    .dataframe thead th {\n",
       "        text-align: right;\n",
       "    }\n",
       "</style>\n",
       "<table border=\"1\" class=\"dataframe\">\n",
       "  <thead>\n",
       "    <tr style=\"text-align: right;\">\n",
       "      <th></th>\n",
       "      <th>distance</th>\n",
       "      <th>consume</th>\n",
       "      <th>speed</th>\n",
       "      <th>temp_inside</th>\n",
       "      <th>temp_outside</th>\n",
       "      <th>specials</th>\n",
       "      <th>gas_type</th>\n",
       "      <th>AC</th>\n",
       "      <th>rain</th>\n",
       "      <th>sun</th>\n",
       "      <th>refill liters</th>\n",
       "      <th>refill gas</th>\n",
       "    </tr>\n",
       "  </thead>\n",
       "  <tbody>\n",
       "    <tr>\n",
       "      <th>334</th>\n",
       "      <td>129.7</td>\n",
       "      <td>4.6</td>\n",
       "      <td>58</td>\n",
       "      <td>24</td>\n",
       "      <td>21</td>\n",
       "      <td>AC</td>\n",
       "      <td>E10</td>\n",
       "      <td>0</td>\n",
       "      <td>0</td>\n",
       "      <td>0</td>\n",
       "      <td>NaN</td>\n",
       "      <td>NaN</td>\n",
       "    </tr>\n",
       "  </tbody>\n",
       "</table>\n",
       "</div>"
      ],
      "text/plain": [
       "     distance  consume  speed temp_inside  temp_outside specials gas_type  AC  \\\n",
       "334     129.7      4.6     58          24            21       AC      E10   0   \n",
       "\n",
       "     rain  sun refill liters refill gas  \n",
       "334     0    0           NaN        NaN  "
      ]
     },
     "execution_count": 81,
     "metadata": {},
     "output_type": "execute_result"
    }
   ],
   "source": [
    "gas_data[((gas_data.specials.str.contains(\"AC\")) & (gas_data.AC == 0))]"
   ]
  },
  {
   "cell_type": "code",
   "execution_count": 87,
   "id": "25900a02",
   "metadata": {},
   "outputs": [],
   "source": [
    "gas_data.loc[334, \"AC\"] = 1"
   ]
  },
  {
   "cell_type": "code",
   "execution_count": 90,
   "id": "8053d644",
   "metadata": {},
   "outputs": [
    {
     "data": {
      "text/plain": [
       "distance         129.7\n",
       "consume            4.6\n",
       "speed               58\n",
       "temp_inside         24\n",
       "temp_outside        21\n",
       "specials            AC\n",
       "gas_type           E10\n",
       "AC                   1\n",
       "rain                 0\n",
       "sun                  0\n",
       "refill liters      NaN\n",
       "refill gas         NaN\n",
       "Name: 334, dtype: object"
      ]
     },
     "execution_count": 90,
     "metadata": {},
     "output_type": "execute_result"
    }
   ],
   "source": [
    "gas_data.loc[334]"
   ]
  },
  {
   "cell_type": "markdown",
   "id": "43090324",
   "metadata": {},
   "source": [
    "#### Corrected."
   ]
  },
  {
   "cell_type": "markdown",
   "id": "32f259bc",
   "metadata": {},
   "source": [
    "#### I will do the same with RAIN and SUN:"
   ]
  },
  {
   "cell_type": "code",
   "execution_count": 97,
   "id": "49b5cb1b",
   "metadata": {},
   "outputs": [
    {
     "data": {
      "text/plain": [
       "False    388\n",
       "dtype: int64"
      ]
     },
     "execution_count": 97,
     "metadata": {},
     "output_type": "execute_result"
    }
   ],
   "source": [
    "((gas_data.specials.str.contains(\"RAIN\")) & (gas_data.rain == 0)).value_counts()"
   ]
  },
  {
   "cell_type": "markdown",
   "id": "5ba268b2",
   "metadata": {},
   "source": [
    "#### \"rain\" column is OK"
   ]
  },
  {
   "cell_type": "code",
   "execution_count": 100,
   "id": "12e4ed6a",
   "metadata": {},
   "outputs": [
    {
     "data": {
      "text/plain": [
       "False    387\n",
       "True       1\n",
       "dtype: int64"
      ]
     },
     "execution_count": 100,
     "metadata": {},
     "output_type": "execute_result"
    }
   ],
   "source": [
    "((gas_data.specials.str.contains(\"SUN\")) & (gas_data.sun == 0)).value_counts()"
   ]
  },
  {
   "cell_type": "code",
   "execution_count": 101,
   "id": "3d27f90b",
   "metadata": {},
   "outputs": [
    {
     "data": {
      "text/html": [
       "<div>\n",
       "<style scoped>\n",
       "    .dataframe tbody tr th:only-of-type {\n",
       "        vertical-align: middle;\n",
       "    }\n",
       "\n",
       "    .dataframe tbody tr th {\n",
       "        vertical-align: top;\n",
       "    }\n",
       "\n",
       "    .dataframe thead th {\n",
       "        text-align: right;\n",
       "    }\n",
       "</style>\n",
       "<table border=\"1\" class=\"dataframe\">\n",
       "  <thead>\n",
       "    <tr style=\"text-align: right;\">\n",
       "      <th></th>\n",
       "      <th>distance</th>\n",
       "      <th>consume</th>\n",
       "      <th>speed</th>\n",
       "      <th>temp_inside</th>\n",
       "      <th>temp_outside</th>\n",
       "      <th>specials</th>\n",
       "      <th>gas_type</th>\n",
       "      <th>AC</th>\n",
       "      <th>rain</th>\n",
       "      <th>sun</th>\n",
       "      <th>refill liters</th>\n",
       "      <th>refill gas</th>\n",
       "    </tr>\n",
       "  </thead>\n",
       "  <tbody>\n",
       "    <tr>\n",
       "      <th>191</th>\n",
       "      <td>43.7</td>\n",
       "      <td>4.7</td>\n",
       "      <td>44</td>\n",
       "      <td>22</td>\n",
       "      <td>9</td>\n",
       "      <td>HALF RAIN HALF SUN</td>\n",
       "      <td>SP98</td>\n",
       "      <td>0</td>\n",
       "      <td>1</td>\n",
       "      <td>0</td>\n",
       "      <td>10</td>\n",
       "      <td>SP98</td>\n",
       "    </tr>\n",
       "  </tbody>\n",
       "</table>\n",
       "</div>"
      ],
      "text/plain": [
       "     distance  consume  speed temp_inside  temp_outside            specials  \\\n",
       "191      43.7      4.7     44          22             9  HALF RAIN HALF SUN   \n",
       "\n",
       "    gas_type  AC  rain  sun refill liters refill gas  \n",
       "191     SP98   0     1    0            10       SP98  "
      ]
     },
     "execution_count": 101,
     "metadata": {},
     "output_type": "execute_result"
    }
   ],
   "source": [
    "gas_data[((gas_data.specials.str.contains(\"SUN\")) & (gas_data.sun == 0))]"
   ]
  },
  {
   "cell_type": "markdown",
   "id": "bbcb578f",
   "metadata": {},
   "source": [
    "#### This one has \"HALF RAIN HALF SUN\". I will put 0 in both columns because we don't have a define weather for our analysis:"
   ]
  },
  {
   "cell_type": "code",
   "execution_count": 102,
   "id": "cd6a03bc",
   "metadata": {},
   "outputs": [],
   "source": [
    "gas_data.loc[191, \"rain\"] = 0"
   ]
  },
  {
   "cell_type": "code",
   "execution_count": 103,
   "id": "9a3bdd50",
   "metadata": {},
   "outputs": [
    {
     "data": {
      "text/plain": [
       "distance                       43.7\n",
       "consume                         4.7\n",
       "speed                            44\n",
       "temp_inside                      22\n",
       "temp_outside                      9\n",
       "specials         HALF RAIN HALF SUN\n",
       "gas_type                       SP98\n",
       "AC                                0\n",
       "rain                              0\n",
       "sun                               0\n",
       "refill liters                    10\n",
       "refill gas                     SP98\n",
       "Name: 191, dtype: object"
      ]
     },
     "execution_count": 103,
     "metadata": {},
     "output_type": "execute_result"
    }
   ],
   "source": [
    "gas_data.loc[191]"
   ]
  },
  {
   "cell_type": "markdown",
   "id": "0f94e661",
   "metadata": {},
   "source": [
    "#### Now \"rain\" and \"sun\" columns are ok."
   ]
  },
  {
   "cell_type": "markdown",
   "id": "287fcf19",
   "metadata": {},
   "source": [
    "#### I will add a \"snow\" column and eliminate \"special\" column because we have already all that data in the others."
   ]
  },
  {
   "cell_type": "code",
   "execution_count": 106,
   "id": "003fec24",
   "metadata": {},
   "outputs": [],
   "source": [
    "gas_data[\"snow\"] = gas_data.specials.str.contains(\"SNOW\")"
   ]
  },
  {
   "cell_type": "code",
   "execution_count": 125,
   "id": "0246e5b9",
   "metadata": {},
   "outputs": [],
   "source": [
    "gas_data[\"snow\"].fillna(False, inplace=True)"
   ]
  },
  {
   "cell_type": "code",
   "execution_count": 129,
   "id": "72396552",
   "metadata": {},
   "outputs": [],
   "source": [
    "gas_data.snow = gas_data.snow.astype(int)"
   ]
  },
  {
   "cell_type": "code",
   "execution_count": 131,
   "id": "e60c0ba1",
   "metadata": {},
   "outputs": [
    {
     "data": {
      "text/plain": [
       "0    384\n",
       "1      4\n",
       "Name: snow, dtype: int64"
      ]
     },
     "execution_count": 131,
     "metadata": {},
     "output_type": "execute_result"
    }
   ],
   "source": [
    "gas_data.snow.value_counts()"
   ]
  },
  {
   "cell_type": "markdown",
   "id": "bce258ce",
   "metadata": {},
   "source": [
    "#### Now we have the new column ready"
   ]
  },
  {
   "cell_type": "code",
   "execution_count": 136,
   "id": "cadb746c",
   "metadata": {},
   "outputs": [],
   "source": [
    "gas_data.drop(columns=\"specials\", axis=1, inplace=True)"
   ]
  },
  {
   "cell_type": "code",
   "execution_count": 139,
   "id": "08514cda",
   "metadata": {},
   "outputs": [
    {
     "name": "stdout",
     "output_type": "stream",
     "text": [
      "<class 'pandas.core.frame.DataFrame'>\n",
      "RangeIndex: 388 entries, 0 to 387\n",
      "Data columns (total 12 columns):\n",
      " #   Column         Non-Null Count  Dtype  \n",
      "---  ------         --------------  -----  \n",
      " 0   distance       388 non-null    float64\n",
      " 1   consume        388 non-null    float64\n",
      " 2   speed          388 non-null    int64  \n",
      " 3   temp_inside    376 non-null    object \n",
      " 4   temp_outside   388 non-null    int64  \n",
      " 5   gas_type       388 non-null    object \n",
      " 6   AC             388 non-null    int64  \n",
      " 7   rain           388 non-null    int64  \n",
      " 8   sun            388 non-null    int64  \n",
      " 9   refill liters  13 non-null     object \n",
      " 10  refill gas     13 non-null     object \n",
      " 11  snow           388 non-null    int64  \n",
      "dtypes: float64(2), int64(6), object(4)\n",
      "memory usage: 36.5+ KB\n"
     ]
    }
   ],
   "source": [
    "gas_data.info()"
   ]
  },
  {
   "cell_type": "markdown",
   "id": "64c0c699",
   "metadata": {},
   "source": [
    "#### Finally, let's check what we should do with \"temp_inside\" column nulls:"
   ]
  },
  {
   "cell_type": "code",
   "execution_count": 143,
   "id": "8815eec1",
   "metadata": {},
   "outputs": [
    {
     "data": {
      "text/html": [
       "<div>\n",
       "<style scoped>\n",
       "    .dataframe tbody tr th:only-of-type {\n",
       "        vertical-align: middle;\n",
       "    }\n",
       "\n",
       "    .dataframe tbody tr th {\n",
       "        vertical-align: top;\n",
       "    }\n",
       "\n",
       "    .dataframe thead th {\n",
       "        text-align: right;\n",
       "    }\n",
       "</style>\n",
       "<table border=\"1\" class=\"dataframe\">\n",
       "  <thead>\n",
       "    <tr style=\"text-align: right;\">\n",
       "      <th></th>\n",
       "      <th>distance</th>\n",
       "      <th>consume</th>\n",
       "      <th>speed</th>\n",
       "      <th>temp_inside</th>\n",
       "      <th>temp_outside</th>\n",
       "      <th>gas_type</th>\n",
       "      <th>AC</th>\n",
       "      <th>rain</th>\n",
       "      <th>sun</th>\n",
       "      <th>refill liters</th>\n",
       "      <th>refill gas</th>\n",
       "      <th>snow</th>\n",
       "    </tr>\n",
       "  </thead>\n",
       "  <tbody>\n",
       "    <tr>\n",
       "      <th>93</th>\n",
       "      <td>12.4</td>\n",
       "      <td>4.7</td>\n",
       "      <td>43</td>\n",
       "      <td>NaN</td>\n",
       "      <td>10</td>\n",
       "      <td>SP98</td>\n",
       "      <td>0</td>\n",
       "      <td>0</td>\n",
       "      <td>0</td>\n",
       "      <td>NaN</td>\n",
       "      <td>NaN</td>\n",
       "      <td>0</td>\n",
       "    </tr>\n",
       "    <tr>\n",
       "      <th>95</th>\n",
       "      <td>11.8</td>\n",
       "      <td>5.3</td>\n",
       "      <td>52</td>\n",
       "      <td>NaN</td>\n",
       "      <td>11</td>\n",
       "      <td>SP98</td>\n",
       "      <td>0</td>\n",
       "      <td>0</td>\n",
       "      <td>0</td>\n",
       "      <td>NaN</td>\n",
       "      <td>NaN</td>\n",
       "      <td>0</td>\n",
       "    </tr>\n",
       "    <tr>\n",
       "      <th>97</th>\n",
       "      <td>15.7</td>\n",
       "      <td>5.3</td>\n",
       "      <td>33</td>\n",
       "      <td>NaN</td>\n",
       "      <td>9</td>\n",
       "      <td>SP98</td>\n",
       "      <td>0</td>\n",
       "      <td>0</td>\n",
       "      <td>0</td>\n",
       "      <td>NaN</td>\n",
       "      <td>NaN</td>\n",
       "      <td>0</td>\n",
       "    </tr>\n",
       "    <tr>\n",
       "      <th>98</th>\n",
       "      <td>12.9</td>\n",
       "      <td>5.7</td>\n",
       "      <td>35</td>\n",
       "      <td>NaN</td>\n",
       "      <td>9</td>\n",
       "      <td>SP98</td>\n",
       "      <td>0</td>\n",
       "      <td>0</td>\n",
       "      <td>0</td>\n",
       "      <td>NaN</td>\n",
       "      <td>NaN</td>\n",
       "      <td>0</td>\n",
       "    </tr>\n",
       "    <tr>\n",
       "      <th>99</th>\n",
       "      <td>6.4</td>\n",
       "      <td>4.4</td>\n",
       "      <td>37</td>\n",
       "      <td>NaN</td>\n",
       "      <td>10</td>\n",
       "      <td>SP98</td>\n",
       "      <td>0</td>\n",
       "      <td>0</td>\n",
       "      <td>0</td>\n",
       "      <td>NaN</td>\n",
       "      <td>NaN</td>\n",
       "      <td>0</td>\n",
       "    </tr>\n",
       "    <tr>\n",
       "      <th>100</th>\n",
       "      <td>5.3</td>\n",
       "      <td>4.1</td>\n",
       "      <td>34</td>\n",
       "      <td>NaN</td>\n",
       "      <td>9</td>\n",
       "      <td>SP98</td>\n",
       "      <td>0</td>\n",
       "      <td>0</td>\n",
       "      <td>0</td>\n",
       "      <td>NaN</td>\n",
       "      <td>NaN</td>\n",
       "      <td>0</td>\n",
       "    </tr>\n",
       "    <tr>\n",
       "      <th>102</th>\n",
       "      <td>18.8</td>\n",
       "      <td>5.0</td>\n",
       "      <td>62</td>\n",
       "      <td>NaN</td>\n",
       "      <td>9</td>\n",
       "      <td>SP98</td>\n",
       "      <td>0</td>\n",
       "      <td>1</td>\n",
       "      <td>0</td>\n",
       "      <td>NaN</td>\n",
       "      <td>NaN</td>\n",
       "      <td>0</td>\n",
       "    </tr>\n",
       "    <tr>\n",
       "      <th>201</th>\n",
       "      <td>22.2</td>\n",
       "      <td>3.8</td>\n",
       "      <td>42</td>\n",
       "      <td>NaN</td>\n",
       "      <td>15</td>\n",
       "      <td>SP98</td>\n",
       "      <td>0</td>\n",
       "      <td>0</td>\n",
       "      <td>0</td>\n",
       "      <td>NaN</td>\n",
       "      <td>NaN</td>\n",
       "      <td>0</td>\n",
       "    </tr>\n",
       "    <tr>\n",
       "      <th>203</th>\n",
       "      <td>12.6</td>\n",
       "      <td>4.1</td>\n",
       "      <td>33</td>\n",
       "      <td>NaN</td>\n",
       "      <td>17</td>\n",
       "      <td>SP98</td>\n",
       "      <td>0</td>\n",
       "      <td>0</td>\n",
       "      <td>0</td>\n",
       "      <td>NaN</td>\n",
       "      <td>NaN</td>\n",
       "      <td>0</td>\n",
       "    </tr>\n",
       "    <tr>\n",
       "      <th>261</th>\n",
       "      <td>24.5</td>\n",
       "      <td>3.9</td>\n",
       "      <td>50</td>\n",
       "      <td>NaN</td>\n",
       "      <td>15</td>\n",
       "      <td>E10</td>\n",
       "      <td>0</td>\n",
       "      <td>0</td>\n",
       "      <td>1</td>\n",
       "      <td>NaN</td>\n",
       "      <td>NaN</td>\n",
       "      <td>0</td>\n",
       "    </tr>\n",
       "    <tr>\n",
       "      <th>267</th>\n",
       "      <td>22.9</td>\n",
       "      <td>4.0</td>\n",
       "      <td>29</td>\n",
       "      <td>NaN</td>\n",
       "      <td>21</td>\n",
       "      <td>E10</td>\n",
       "      <td>0</td>\n",
       "      <td>0</td>\n",
       "      <td>0</td>\n",
       "      <td>NaN</td>\n",
       "      <td>NaN</td>\n",
       "      <td>0</td>\n",
       "    </tr>\n",
       "    <tr>\n",
       "      <th>268</th>\n",
       "      <td>16.0</td>\n",
       "      <td>3.8</td>\n",
       "      <td>42</td>\n",
       "      <td>NaN</td>\n",
       "      <td>8</td>\n",
       "      <td>E10</td>\n",
       "      <td>0</td>\n",
       "      <td>0</td>\n",
       "      <td>0</td>\n",
       "      <td>NaN</td>\n",
       "      <td>NaN</td>\n",
       "      <td>0</td>\n",
       "    </tr>\n",
       "  </tbody>\n",
       "</table>\n",
       "</div>"
      ],
      "text/plain": [
       "     distance  consume  speed temp_inside  temp_outside gas_type  AC  rain  \\\n",
       "93       12.4      4.7     43         NaN            10     SP98   0     0   \n",
       "95       11.8      5.3     52         NaN            11     SP98   0     0   \n",
       "97       15.7      5.3     33         NaN             9     SP98   0     0   \n",
       "98       12.9      5.7     35         NaN             9     SP98   0     0   \n",
       "99        6.4      4.4     37         NaN            10     SP98   0     0   \n",
       "100       5.3      4.1     34         NaN             9     SP98   0     0   \n",
       "102      18.8      5.0     62         NaN             9     SP98   0     1   \n",
       "201      22.2      3.8     42         NaN            15     SP98   0     0   \n",
       "203      12.6      4.1     33         NaN            17     SP98   0     0   \n",
       "261      24.5      3.9     50         NaN            15      E10   0     0   \n",
       "267      22.9      4.0     29         NaN            21      E10   0     0   \n",
       "268      16.0      3.8     42         NaN             8      E10   0     0   \n",
       "\n",
       "     sun refill liters refill gas  snow  \n",
       "93     0           NaN        NaN     0  \n",
       "95     0           NaN        NaN     0  \n",
       "97     0           NaN        NaN     0  \n",
       "98     0           NaN        NaN     0  \n",
       "99     0           NaN        NaN     0  \n",
       "100    0           NaN        NaN     0  \n",
       "102    0           NaN        NaN     0  \n",
       "201    0           NaN        NaN     0  \n",
       "203    0           NaN        NaN     0  \n",
       "261    1           NaN        NaN     0  \n",
       "267    0           NaN        NaN     0  \n",
       "268    0           NaN        NaN     0  "
      ]
     },
     "execution_count": 143,
     "metadata": {},
     "output_type": "execute_result"
    }
   ],
   "source": [
    "gas_data[gas_data.temp_inside.isna()]"
   ]
  },
  {
   "cell_type": "markdown",
   "id": "467ce526",
   "metadata": {},
   "source": [
    "#### Are temperature inside and temperature outside correlated? If they are, we can use the mean with that temperature outside to estimate the temperature inside:"
   ]
  },
  {
   "cell_type": "code",
   "execution_count": 145,
   "id": "2dacd93d",
   "metadata": {},
   "outputs": [],
   "source": [
    "cols = [\"temp_inside\", \"temp_outside\"]\n",
    "temp_data = gas_data[cols]"
   ]
  },
  {
   "cell_type": "code",
   "execution_count": 152,
   "id": "cfb7db7b",
   "metadata": {},
   "outputs": [],
   "source": [
    "temp_data = temp_data.dropna()"
   ]
  },
  {
   "cell_type": "code",
   "execution_count": 155,
   "id": "876e2d46",
   "metadata": {},
   "outputs": [
    {
     "data": {
      "text/plain": [
       "array(['21,5', '22,5', '20', '21', '20,5', '23', '23,5', '25', '24', '22',\n",
       "       '19', '24,5', '25,5'], dtype=object)"
      ]
     },
     "execution_count": 155,
     "metadata": {},
     "output_type": "execute_result"
    }
   ],
   "source": [
    "temp_data.temp_inside.unique()"
   ]
  },
  {
   "cell_type": "code",
   "execution_count": 156,
   "id": "5d5f0298",
   "metadata": {},
   "outputs": [
    {
     "data": {
      "text/plain": [
       "array([21.5, 22.5, 20. , 21. , 20.5, 23. , 23.5, 25. , 24. , 22. , 19. ,\n",
       "       24.5, 25.5])"
      ]
     },
     "execution_count": 156,
     "metadata": {},
     "output_type": "execute_result"
    }
   ],
   "source": [
    "temp_data.temp_inside = temp_data.temp_inside.str.replace(\",\",\".\")\n",
    "temp_data.temp_inside = temp_data.temp_inside.astype(float)\n",
    "temp_data.temp_inside.unique()"
   ]
  },
  {
   "cell_type": "code",
   "execution_count": 157,
   "id": "8c3e552c",
   "metadata": {},
   "outputs": [
    {
     "name": "stdout",
     "output_type": "stream",
     "text": [
      "<class 'pandas.core.frame.DataFrame'>\n",
      "Int64Index: 376 entries, 0 to 387\n",
      "Data columns (total 2 columns):\n",
      " #   Column        Non-Null Count  Dtype  \n",
      "---  ------        --------------  -----  \n",
      " 0   temp_inside   376 non-null    float64\n",
      " 1   temp_outside  376 non-null    int64  \n",
      "dtypes: float64(1), int64(1)\n",
      "memory usage: 8.8 KB\n"
     ]
    }
   ],
   "source": [
    "temp_data.info()"
   ]
  },
  {
   "cell_type": "code",
   "execution_count": 158,
   "id": "50eac234",
   "metadata": {},
   "outputs": [
    {
     "data": {
      "text/html": [
       "<div>\n",
       "<style scoped>\n",
       "    .dataframe tbody tr th:only-of-type {\n",
       "        vertical-align: middle;\n",
       "    }\n",
       "\n",
       "    .dataframe tbody tr th {\n",
       "        vertical-align: top;\n",
       "    }\n",
       "\n",
       "    .dataframe thead th {\n",
       "        text-align: right;\n",
       "    }\n",
       "</style>\n",
       "<table border=\"1\" class=\"dataframe\">\n",
       "  <thead>\n",
       "    <tr style=\"text-align: right;\">\n",
       "      <th></th>\n",
       "      <th>temp_inside</th>\n",
       "      <th>temp_outside</th>\n",
       "    </tr>\n",
       "  </thead>\n",
       "  <tbody>\n",
       "    <tr>\n",
       "      <th>temp_inside</th>\n",
       "      <td>1.000000</td>\n",
       "      <td>0.361308</td>\n",
       "    </tr>\n",
       "    <tr>\n",
       "      <th>temp_outside</th>\n",
       "      <td>0.361308</td>\n",
       "      <td>1.000000</td>\n",
       "    </tr>\n",
       "  </tbody>\n",
       "</table>\n",
       "</div>"
      ],
      "text/plain": [
       "              temp_inside  temp_outside\n",
       "temp_inside      1.000000      0.361308\n",
       "temp_outside     0.361308      1.000000"
      ]
     },
     "execution_count": 158,
     "metadata": {},
     "output_type": "execute_result"
    }
   ],
   "source": [
    "temp_data.corr()"
   ]
  },
  {
   "cell_type": "markdown",
   "id": "77d0279e",
   "metadata": {},
   "source": [
    "#### They don't have an strong correlation, i will just eliminate those rows."
   ]
  },
  {
   "cell_type": "code",
   "execution_count": 177,
   "id": "cf52734a",
   "metadata": {},
   "outputs": [],
   "source": [
    "gas_data = gas_data[gas_data.temp_inside.notna()]"
   ]
  },
  {
   "cell_type": "code",
   "execution_count": 181,
   "id": "8d6e9fab",
   "metadata": {},
   "outputs": [
    {
     "data": {
      "text/plain": [
       "array(['21,5', '22,5', '20', '21', '20,5', '23', '23,5', '25', '24', '22',\n",
       "       '19', '24,5', '25,5'], dtype=object)"
      ]
     },
     "execution_count": 181,
     "metadata": {},
     "output_type": "execute_result"
    }
   ],
   "source": [
    "gas_data.temp_inside.unique()"
   ]
  },
  {
   "cell_type": "code",
   "execution_count": 182,
   "id": "2ede4c86",
   "metadata": {},
   "outputs": [
    {
     "name": "stderr",
     "output_type": "stream",
     "text": [
      "/home/ccastrob/anaconda3/envs/ironhack/lib/python3.8/site-packages/pandas/core/generic.py:5494: SettingWithCopyWarning: \n",
      "A value is trying to be set on a copy of a slice from a DataFrame.\n",
      "Try using .loc[row_indexer,col_indexer] = value instead\n",
      "\n",
      "See the caveats in the documentation: https://pandas.pydata.org/pandas-docs/stable/user_guide/indexing.html#returning-a-view-versus-a-copy\n",
      "  self[name] = value\n"
     ]
    },
    {
     "data": {
      "text/plain": [
       "array([21.5, 22.5, 20. , 21. , 20.5, 23. , 23.5, 25. , 24. , 22. , 19. ,\n",
       "       24.5, 25.5])"
      ]
     },
     "execution_count": 182,
     "metadata": {},
     "output_type": "execute_result"
    }
   ],
   "source": [
    "gas_data.temp_inside = gas_data.temp_inside.str.replace(\",\",\".\")\n",
    "gas_data.temp_inside = gas_data.temp_inside.astype(float)\n",
    "gas_data.temp_inside.unique()"
   ]
  },
  {
   "cell_type": "code",
   "execution_count": 184,
   "id": "4b5981b9",
   "metadata": {},
   "outputs": [
    {
     "name": "stdout",
     "output_type": "stream",
     "text": [
      "<class 'pandas.core.frame.DataFrame'>\n",
      "Int64Index: 376 entries, 0 to 387\n",
      "Data columns (total 12 columns):\n",
      " #   Column         Non-Null Count  Dtype  \n",
      "---  ------         --------------  -----  \n",
      " 0   distance       376 non-null    float64\n",
      " 1   consume        376 non-null    float64\n",
      " 2   speed          376 non-null    int64  \n",
      " 3   temp_inside    376 non-null    float64\n",
      " 4   temp_outside   376 non-null    int64  \n",
      " 5   gas_type       376 non-null    object \n",
      " 6   AC             376 non-null    int64  \n",
      " 7   rain           376 non-null    int64  \n",
      " 8   sun            376 non-null    int64  \n",
      " 9   refill liters  13 non-null     object \n",
      " 10  refill gas     13 non-null     object \n",
      " 11  snow           376 non-null    int64  \n",
      "dtypes: float64(3), int64(6), object(3)\n",
      "memory usage: 38.2+ KB\n"
     ]
    }
   ],
   "source": [
    "gas_data.info()"
   ]
  },
  {
   "cell_type": "markdown",
   "id": "b81b5b2d",
   "metadata": {},
   "source": [
    "### Finally, i will separate columns \"refill liters\" and \"refill gas\". I consider that this information is useful but it's not connected well to the the rest of the dataset. We have only 13 rows complete and the owner of this dataset said that it has some missing information:"
   ]
  },
  {
   "cell_type": "code",
   "execution_count": 185,
   "id": "4360de1e",
   "metadata": {},
   "outputs": [
    {
     "name": "stderr",
     "output_type": "stream",
     "text": [
      "/home/ccastrob/anaconda3/envs/ironhack/lib/python3.8/site-packages/pandas/core/frame.py:4441: SettingWithCopyWarning: \n",
      "A value is trying to be set on a copy of a slice from a DataFrame\n",
      "\n",
      "See the caveats in the documentation: https://pandas.pydata.org/pandas-docs/stable/user_guide/indexing.html#returning-a-view-versus-a-copy\n",
      "  return super().rename(\n"
     ]
    }
   ],
   "source": [
    "gas_data.rename(columns = {\"refill liters\": \"refill_liters\", \"refill gas\": \"refill_gas\"}, inplace=True)"
   ]
  },
  {
   "cell_type": "code",
   "execution_count": 193,
   "id": "b3a62dc4",
   "metadata": {},
   "outputs": [],
   "source": [
    "cols_refill = [\"refill_liters\", \"refill_gas\"]\n",
    "refill_data = gas_data[cols_refill]"
   ]
  },
  {
   "cell_type": "code",
   "execution_count": 194,
   "id": "cc011c8e",
   "metadata": {},
   "outputs": [],
   "source": [
    "consume_data = gas_data.drop(axis=1, columns=cols_refill)"
   ]
  },
  {
   "cell_type": "code",
   "execution_count": 196,
   "id": "f23606ba",
   "metadata": {},
   "outputs": [
    {
     "name": "stdout",
     "output_type": "stream",
     "text": [
      "<class 'pandas.core.frame.DataFrame'>\n",
      "Int64Index: 376 entries, 0 to 387\n",
      "Data columns (total 10 columns):\n",
      " #   Column        Non-Null Count  Dtype  \n",
      "---  ------        --------------  -----  \n",
      " 0   distance      376 non-null    float64\n",
      " 1   consume       376 non-null    float64\n",
      " 2   speed         376 non-null    int64  \n",
      " 3   temp_inside   376 non-null    float64\n",
      " 4   temp_outside  376 non-null    int64  \n",
      " 5   gas_type      376 non-null    object \n",
      " 6   AC            376 non-null    int64  \n",
      " 7   rain          376 non-null    int64  \n",
      " 8   sun           376 non-null    int64  \n",
      " 9   snow          376 non-null    int64  \n",
      "dtypes: float64(3), int64(6), object(1)\n",
      "memory usage: 32.3+ KB\n"
     ]
    }
   ],
   "source": [
    "consume_data.info()"
   ]
  },
  {
   "cell_type": "markdown",
   "id": "520f2dc0",
   "metadata": {},
   "source": [
    "#### \"consume_data\" dataframe it's clean. Let's clean \"refill_data\" eliminating those null rows and changing it's type:"
   ]
  },
  {
   "cell_type": "code",
   "execution_count": 197,
   "id": "2eea05fd",
   "metadata": {},
   "outputs": [
    {
     "name": "stdout",
     "output_type": "stream",
     "text": [
      "<class 'pandas.core.frame.DataFrame'>\n",
      "Int64Index: 376 entries, 0 to 387\n",
      "Data columns (total 2 columns):\n",
      " #   Column         Non-Null Count  Dtype \n",
      "---  ------         --------------  ----- \n",
      " 0   refill_liters  13 non-null     object\n",
      " 1   refill_gas     13 non-null     object\n",
      "dtypes: object(2)\n",
      "memory usage: 8.8+ KB\n"
     ]
    }
   ],
   "source": [
    "refill_data.info()"
   ]
  },
  {
   "cell_type": "code",
   "execution_count": 205,
   "id": "299ded8d",
   "metadata": {},
   "outputs": [],
   "source": [
    "refill_data = refill_data[(refill_data.refill_liters.notna()) & (refill_data.refill_gas.notna())]"
   ]
  },
  {
   "cell_type": "code",
   "execution_count": 207,
   "id": "8708a214",
   "metadata": {},
   "outputs": [
    {
     "data": {
      "text/plain": [
       "array([45. , 37.6, 37.7, 38. , 38.3, 10. , 39. , 41. , 37. , 37.2])"
      ]
     },
     "execution_count": 207,
     "metadata": {},
     "output_type": "execute_result"
    }
   ],
   "source": [
    "refill_data.refill_liters = refill_data.refill_liters.str.replace(\",\",\".\")\n",
    "refill_data.refill_liters = refill_data.refill_liters.astype(float)\n",
    "refill_data.refill_liters.unique()"
   ]
  },
  {
   "cell_type": "code",
   "execution_count": 210,
   "id": "d4a96be3",
   "metadata": {},
   "outputs": [
    {
     "data": {
      "text/html": [
       "<div>\n",
       "<style scoped>\n",
       "    .dataframe tbody tr th:only-of-type {\n",
       "        vertical-align: middle;\n",
       "    }\n",
       "\n",
       "    .dataframe tbody tr th {\n",
       "        vertical-align: top;\n",
       "    }\n",
       "\n",
       "    .dataframe thead th {\n",
       "        text-align: right;\n",
       "    }\n",
       "</style>\n",
       "<table border=\"1\" class=\"dataframe\">\n",
       "  <thead>\n",
       "    <tr style=\"text-align: right;\">\n",
       "      <th></th>\n",
       "      <th>refill_liters</th>\n",
       "      <th>refill_gas</th>\n",
       "    </tr>\n",
       "  </thead>\n",
       "  <tbody>\n",
       "    <tr>\n",
       "      <th>0</th>\n",
       "      <td>45.0</td>\n",
       "      <td>E10</td>\n",
       "    </tr>\n",
       "    <tr>\n",
       "      <th>44</th>\n",
       "      <td>37.6</td>\n",
       "      <td>SP98</td>\n",
       "    </tr>\n",
       "    <tr>\n",
       "      <th>82</th>\n",
       "      <td>37.7</td>\n",
       "      <td>SP98</td>\n",
       "    </tr>\n",
       "    <tr>\n",
       "      <th>106</th>\n",
       "      <td>45.0</td>\n",
       "      <td>SP98</td>\n",
       "    </tr>\n",
       "    <tr>\n",
       "      <th>139</th>\n",
       "      <td>38.0</td>\n",
       "      <td>E10</td>\n",
       "    </tr>\n",
       "    <tr>\n",
       "      <th>171</th>\n",
       "      <td>38.3</td>\n",
       "      <td>E10</td>\n",
       "    </tr>\n",
       "    <tr>\n",
       "      <th>191</th>\n",
       "      <td>10.0</td>\n",
       "      <td>SP98</td>\n",
       "    </tr>\n",
       "    <tr>\n",
       "      <th>192</th>\n",
       "      <td>39.0</td>\n",
       "      <td>SP98</td>\n",
       "    </tr>\n",
       "    <tr>\n",
       "      <th>234</th>\n",
       "      <td>39.0</td>\n",
       "      <td>E10</td>\n",
       "    </tr>\n",
       "    <tr>\n",
       "      <th>274</th>\n",
       "      <td>41.0</td>\n",
       "      <td>SP98</td>\n",
       "    </tr>\n",
       "    <tr>\n",
       "      <th>313</th>\n",
       "      <td>37.0</td>\n",
       "      <td>SP98</td>\n",
       "    </tr>\n",
       "    <tr>\n",
       "      <th>325</th>\n",
       "      <td>37.7</td>\n",
       "      <td>E10</td>\n",
       "    </tr>\n",
       "    <tr>\n",
       "      <th>349</th>\n",
       "      <td>37.2</td>\n",
       "      <td>SP98</td>\n",
       "    </tr>\n",
       "  </tbody>\n",
       "</table>\n",
       "</div>"
      ],
      "text/plain": [
       "     refill_liters refill_gas\n",
       "0             45.0        E10\n",
       "44            37.6       SP98\n",
       "82            37.7       SP98\n",
       "106           45.0       SP98\n",
       "139           38.0        E10\n",
       "171           38.3        E10\n",
       "191           10.0       SP98\n",
       "192           39.0       SP98\n",
       "234           39.0        E10\n",
       "274           41.0       SP98\n",
       "313           37.0       SP98\n",
       "325           37.7        E10\n",
       "349           37.2       SP98"
      ]
     },
     "execution_count": 210,
     "metadata": {},
     "output_type": "execute_result"
    }
   ],
   "source": [
    "refill_data"
   ]
  },
  {
   "cell_type": "code",
   "execution_count": 209,
   "id": "878b8013",
   "metadata": {},
   "outputs": [
    {
     "name": "stdout",
     "output_type": "stream",
     "text": [
      "<class 'pandas.core.frame.DataFrame'>\n",
      "Int64Index: 13 entries, 0 to 349\n",
      "Data columns (total 2 columns):\n",
      " #   Column         Non-Null Count  Dtype  \n",
      "---  ------         --------------  -----  \n",
      " 0   refill_liters  13 non-null     float64\n",
      " 1   refill_gas     13 non-null     object \n",
      "dtypes: float64(1), object(1)\n",
      "memory usage: 312.0+ bytes\n"
     ]
    }
   ],
   "source": [
    "refill_data.info()"
   ]
  },
  {
   "cell_type": "markdown",
   "id": "37164973",
   "metadata": {},
   "source": [
    "#### Clean both datasets!"
   ]
  },
  {
   "cell_type": "markdown",
   "id": "c7072e58",
   "metadata": {},
   "source": [
    "### I will export them into my \"data\" folder to proceed with my analysis:"
   ]
  },
  {
   "cell_type": "code",
   "execution_count": 211,
   "id": "e4f14004",
   "metadata": {},
   "outputs": [],
   "source": [
    "consume_data.to_csv(\"../data/consume_data.csv\")"
   ]
  },
  {
   "cell_type": "code",
   "execution_count": 212,
   "id": "1905c725",
   "metadata": {},
   "outputs": [],
   "source": [
    "refill_data.to_csv(\"../data/refill_data.csv\")"
   ]
  },
  {
   "cell_type": "markdown",
   "id": "2f00332b",
   "metadata": {},
   "source": [
    "#### I will export them with their indexes just in case i want to connect them in the future."
   ]
  }
 ],
 "metadata": {
  "kernelspec": {
   "display_name": "ironhack",
   "language": "python",
   "name": "ironhack"
  },
  "language_info": {
   "codemirror_mode": {
    "name": "ipython",
    "version": 3
   },
   "file_extension": ".py",
   "mimetype": "text/x-python",
   "name": "python",
   "nbconvert_exporter": "python",
   "pygments_lexer": "ipython3",
   "version": "3.8.5"
  }
 },
 "nbformat": 4,
 "nbformat_minor": 5
}
