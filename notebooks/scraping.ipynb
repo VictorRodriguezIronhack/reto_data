{
 "cells": [
  {
   "cell_type": "code",
   "execution_count": 57,
   "metadata": {},
   "outputs": [],
   "source": [
    "import pandas as pd\n",
    "from selenium import webdriver\n",
    "from src.scrape import Scrape as scrape\n",
    "import sys\n",
    "import time\n",
    "sys.path.append(\"..\")"
   ]
  },
  {
   "cell_type": "code",
   "execution_count": 15,
   "metadata": {},
   "outputs": [
    {
     "name": "stdout",
     "output_type": "stream",
     "text": [
      "The autoreload extension is already loaded. To reload it, use:\n",
      "  %reload_ext autoreload\n"
     ]
    }
   ],
   "source": [
    "%load_ext autoreload\n",
    "%autoreload 2"
   ]
  },
  {
   "cell_type": "code",
   "execution_count": 6,
   "metadata": {},
   "outputs": [],
   "source": [
    "from selenium import webdriver"
   ]
  },
  {
   "cell_type": "code",
   "execution_count": 7,
   "metadata": {},
   "outputs": [],
   "source": [
    "endpoint = 'https://www.dieselogasolina.com/gasolineras-en-madrid.html'"
   ]
  },
  {
   "cell_type": "code",
   "execution_count": 85,
   "metadata": {},
   "outputs": [
    {
     "name": "stdout",
     "output_type": "stream",
     "text": [
      "['https://www.dieselogasolina.com/Buscador/Ficha/298', 'https://www.dieselogasolina.com/Buscador/Ficha/299', 'https://www.dieselogasolina.com/Buscador/Ficha/4804', 'https://www.dieselogasolina.com/Buscador/Ficha/4805', 'https://www.dieselogasolina.com/Buscador/Ficha/4815', 'https://www.dieselogasolina.com/Buscador/Ficha/4817', 'https://www.dieselogasolina.com/Buscador/Ficha/4820', 'https://www.dieselogasolina.com/Buscador/Ficha/4821', 'https://www.dieselogasolina.com/Buscador/Ficha/4822', 'https://www.dieselogasolina.com/Buscador/Ficha/4823']\n",
      "['https://www.dieselogasolina.com/Buscador/Ficha/4824', 'https://www.dieselogasolina.com/Buscador/Ficha/4826', 'https://www.dieselogasolina.com/Buscador/Ficha/4832', 'https://www.dieselogasolina.com/Buscador/Ficha/4833', 'https://www.dieselogasolina.com/Buscador/Ficha/4834', 'https://www.dieselogasolina.com/Buscador/Ficha/4836', 'https://www.dieselogasolina.com/Buscador/Ficha/4837', 'https://www.dieselogasolina.com/Buscador/Ficha/4839', 'https://www.dieselogasolina.com/Buscador/Ficha/4842', 'https://www.dieselogasolina.com/Buscador/Ficha/4843']\n",
      "['https://www.dieselogasolina.com/Buscador/Ficha/4847', 'https://www.dieselogasolina.com/Buscador/Ficha/4849', 'https://www.dieselogasolina.com/Buscador/Ficha/4854', 'https://www.dieselogasolina.com/Buscador/Ficha/4855', 'https://www.dieselogasolina.com/Buscador/Ficha/4856', 'https://www.dieselogasolina.com/Buscador/Ficha/4857', 'https://www.dieselogasolina.com/Buscador/Ficha/4860', 'https://www.dieselogasolina.com/Buscador/Ficha/4862', 'https://www.dieselogasolina.com/Buscador/Ficha/4866', 'https://www.dieselogasolina.com/Buscador/Ficha/4868']\n",
      "['https://www.dieselogasolina.com/Buscador/Ficha/4869', 'https://www.dieselogasolina.com/Buscador/Ficha/4870', 'https://www.dieselogasolina.com/Buscador/Ficha/4871', 'https://www.dieselogasolina.com/Buscador/Ficha/4875', 'https://www.dieselogasolina.com/Buscador/Ficha/4877', 'https://www.dieselogasolina.com/Buscador/Ficha/4878', 'https://www.dieselogasolina.com/Buscador/Ficha/4879', 'https://www.dieselogasolina.com/Buscador/Ficha/4883', 'https://www.dieselogasolina.com/Buscador/Ficha/4884', 'https://www.dieselogasolina.com/Buscador/Ficha/4886']\n",
      "['https://www.dieselogasolina.com/Buscador/Ficha/4887', 'https://www.dieselogasolina.com/Buscador/Ficha/4889', 'https://www.dieselogasolina.com/Buscador/Ficha/4892', 'https://www.dieselogasolina.com/Buscador/Ficha/4893', 'https://www.dieselogasolina.com/Buscador/Ficha/4895', 'https://www.dieselogasolina.com/Buscador/Ficha/4901', 'https://www.dieselogasolina.com/Buscador/Ficha/4903', 'https://www.dieselogasolina.com/Buscador/Ficha/4904', 'https://www.dieselogasolina.com/Buscador/Ficha/4906', 'https://www.dieselogasolina.com/Buscador/Ficha/4907']\n",
      "['https://www.dieselogasolina.com/Buscador/Ficha/4908', 'https://www.dieselogasolina.com/Buscador/Ficha/4909', 'https://www.dieselogasolina.com/Buscador/Ficha/4910', 'https://www.dieselogasolina.com/Buscador/Ficha/4911', 'https://www.dieselogasolina.com/Buscador/Ficha/4912', 'https://www.dieselogasolina.com/Buscador/Ficha/4913', 'https://www.dieselogasolina.com/Buscador/Ficha/4916', 'https://www.dieselogasolina.com/Buscador/Ficha/4917', 'https://www.dieselogasolina.com/Buscador/Ficha/4919', 'https://www.dieselogasolina.com/Buscador/Ficha/4922']\n",
      "['https://www.dieselogasolina.com/Buscador/Ficha/4923', 'https://www.dieselogasolina.com/Buscador/Ficha/4924', 'https://www.dieselogasolina.com/Buscador/Ficha/4926', 'https://www.dieselogasolina.com/Buscador/Ficha/4927', 'https://www.dieselogasolina.com/Buscador/Ficha/4928', 'https://www.dieselogasolina.com/Buscador/Ficha/4930', 'https://www.dieselogasolina.com/Buscador/Ficha/4931', 'https://www.dieselogasolina.com/Buscador/Ficha/4932', 'https://www.dieselogasolina.com/Buscador/Ficha/4933', 'https://www.dieselogasolina.com/Buscador/Ficha/4936']\n",
      "['https://www.dieselogasolina.com/Buscador/Ficha/4937', 'https://www.dieselogasolina.com/Buscador/Ficha/4938', 'https://www.dieselogasolina.com/Buscador/Ficha/4939', 'https://www.dieselogasolina.com/Buscador/Ficha/4940', 'https://www.dieselogasolina.com/Buscador/Ficha/4941', 'https://www.dieselogasolina.com/Buscador/Ficha/4942', 'https://www.dieselogasolina.com/Buscador/Ficha/4943', 'https://www.dieselogasolina.com/Buscador/Ficha/4945', 'https://www.dieselogasolina.com/Buscador/Ficha/4946', 'https://www.dieselogasolina.com/Buscador/Ficha/4948']\n",
      "['https://www.dieselogasolina.com/Buscador/Ficha/4951', 'https://www.dieselogasolina.com/Buscador/Ficha/4952', 'https://www.dieselogasolina.com/Buscador/Ficha/4956', 'https://www.dieselogasolina.com/Buscador/Ficha/4957', 'https://www.dieselogasolina.com/Buscador/Ficha/8619', 'https://www.dieselogasolina.com/Buscador/Ficha/9220', 'https://www.dieselogasolina.com/Buscador/Ficha/9275', 'https://www.dieselogasolina.com/Buscador/Ficha/9281', 'https://www.dieselogasolina.com/Buscador/Ficha/9358', 'https://www.dieselogasolina.com/Buscador/Ficha/9388']\n",
      "['https://www.dieselogasolina.com/Buscador/Ficha/9712', 'https://www.dieselogasolina.com/Buscador/Ficha/9779', 'https://www.dieselogasolina.com/Buscador/Ficha/9820', 'https://www.dieselogasolina.com/Buscador/Ficha/9952', 'https://www.dieselogasolina.com/Buscador/Ficha/10016', 'https://www.dieselogasolina.com/Buscador/Ficha/10109', 'https://www.dieselogasolina.com/Buscador/Ficha/10110', 'https://www.dieselogasolina.com/Buscador/Ficha/10237', 'https://www.dieselogasolina.com/Buscador/Ficha/10238', 'https://www.dieselogasolina.com/Buscador/Ficha/10430']\n",
      "['https://www.dieselogasolina.com/Buscador/Ficha/10984', 'https://www.dieselogasolina.com/Buscador/Ficha/11314', 'https://www.dieselogasolina.com/Buscador/Ficha/11886', 'https://www.dieselogasolina.com/Buscador/Ficha/11948', 'https://www.dieselogasolina.com/Buscador/Ficha/12250', 'https://www.dieselogasolina.com/Buscador/Ficha/12281', 'https://www.dieselogasolina.com/Buscador/Ficha/12396', 'https://www.dieselogasolina.com/Buscador/Ficha/12454', 'https://www.dieselogasolina.com/Buscador/Ficha/12541', 'https://www.dieselogasolina.com/Buscador/Ficha/12740']\n",
      "['https://www.dieselogasolina.com/Buscador/Ficha/12835', 'https://www.dieselogasolina.com/Buscador/Ficha/13001', 'https://www.dieselogasolina.com/Buscador/Ficha/13228', 'https://www.dieselogasolina.com/Buscador/Ficha/13437', 'https://www.dieselogasolina.com/Buscador/Ficha/13464', 'https://www.dieselogasolina.com/Buscador/Ficha/13760', 'https://www.dieselogasolina.com/Buscador/Ficha/13761', 'https://www.dieselogasolina.com/Buscador/Ficha/13773', 'https://www.dieselogasolina.com/Buscador/Ficha/13969', 'https://www.dieselogasolina.com/Buscador/Ficha/13998']\n",
      "['https://www.dieselogasolina.com/Buscador/Ficha/13999', 'https://www.dieselogasolina.com/Buscador/Ficha/14022', 'https://www.dieselogasolina.com/Buscador/Ficha/14222', 'https://www.dieselogasolina.com/Buscador/Ficha/14501', 'https://www.dieselogasolina.com/Buscador/Ficha/14615', 'https://www.dieselogasolina.com/Buscador/Ficha/14674', 'https://www.dieselogasolina.com/Buscador/Ficha/14736', 'https://www.dieselogasolina.com/Buscador/Ficha/14773', 'https://www.dieselogasolina.com/Buscador/Ficha/14991', 'https://www.dieselogasolina.com/Buscador/Ficha/14992']\n",
      "['https://www.dieselogasolina.com/Buscador/Ficha/14993', 'https://www.dieselogasolina.com/Buscador/Ficha/14994', 'https://www.dieselogasolina.com/Buscador/Ficha/15118', 'https://www.dieselogasolina.com/Buscador/Ficha/15207', 'https://www.dieselogasolina.com/Buscador/Ficha/15234', 'https://www.dieselogasolina.com/Buscador/Ficha/15262', 'https://www.dieselogasolina.com/Buscador/Ficha/15427', 'https://www.dieselogasolina.com/Buscador/Ficha/15442', 'https://www.dieselogasolina.com/Buscador/Ficha/15445', 'https://www.dieselogasolina.com/Buscador/Ficha/15486']\n",
      "['https://www.dieselogasolina.com/Buscador/Ficha/15685', 'https://www.dieselogasolina.com/Buscador/Ficha/15686', 'https://www.dieselogasolina.com/Buscador/Ficha/15768', 'https://www.dieselogasolina.com/Buscador/Ficha/15978', 'https://www.dieselogasolina.com/Buscador/Ficha/16050', 'https://www.dieselogasolina.com/Buscador/Ficha/16051', 'https://www.dieselogasolina.com/Buscador/Ficha/16056', 'https://www.dieselogasolina.com/Buscador/Ficha/16145', 'https://www.dieselogasolina.com/Buscador/Ficha/16147', 'https://www.dieselogasolina.com/Buscador/Ficha/16150']\n"
     ]
    },
    {
     "name": "stdout",
     "output_type": "stream",
     "text": [
      "['https://www.dieselogasolina.com/Buscador/Ficha/16151', 'https://www.dieselogasolina.com/Buscador/Ficha/16152', 'https://www.dieselogasolina.com/Buscador/Ficha/16155', 'https://www.dieselogasolina.com/Buscador/Ficha/16289', 'https://www.dieselogasolina.com/Buscador/Ficha/16290', 'https://www.dieselogasolina.com/Buscador/Ficha/16292', 'https://www.dieselogasolina.com/Buscador/Ficha/16543', 'https://www.dieselogasolina.com/Buscador/Ficha/16611', 'https://www.dieselogasolina.com/Buscador/Ficha/16632', 'https://www.dieselogasolina.com/Buscador/Ficha/16720']\n",
      "['https://www.dieselogasolina.com/Buscador/Ficha/16723', 'https://www.dieselogasolina.com/Buscador/Ficha/16742', 'https://www.dieselogasolina.com/Buscador/Ficha/16820', 'https://www.dieselogasolina.com/Buscador/Ficha/16887', 'https://www.dieselogasolina.com/Buscador/Ficha/16901', 'https://www.dieselogasolina.com/Buscador/Ficha/16924', 'https://www.dieselogasolina.com/Buscador/Ficha/16999', 'https://www.dieselogasolina.com/Buscador/Ficha/17030', 'https://www.dieselogasolina.com/Buscador/Ficha/17035', 'https://www.dieselogasolina.com/Buscador/Ficha/17036']\n",
      "['https://www.dieselogasolina.com/Buscador/Ficha/17062', 'https://www.dieselogasolina.com/Buscador/Ficha/17082', 'https://www.dieselogasolina.com/Buscador/Ficha/17103', 'https://www.dieselogasolina.com/Buscador/Ficha/17164', 'https://www.dieselogasolina.com/Buscador/Ficha/17244', 'https://www.dieselogasolina.com/Buscador/Ficha/17443', 'https://www.dieselogasolina.com/Buscador/Ficha/17444', 'https://www.dieselogasolina.com/Buscador/Ficha/17445', 'https://www.dieselogasolina.com/Buscador/Ficha/17446', 'https://www.dieselogasolina.com/Buscador/Ficha/17452']\n",
      "['https://www.dieselogasolina.com/Buscador/Ficha/17467', 'https://www.dieselogasolina.com/Buscador/Ficha/17469', 'https://www.dieselogasolina.com/Buscador/Ficha/17470', 'https://www.dieselogasolina.com/Buscador/Ficha/17503', 'https://www.dieselogasolina.com/Buscador/Ficha/17506', 'https://www.dieselogasolina.com/Buscador/Ficha/17627', 'https://www.dieselogasolina.com/Buscador/Ficha/17699', 'https://www.dieselogasolina.com/Buscador/Ficha/17808', 'https://www.dieselogasolina.com/Buscador/Ficha/17843', 'https://www.dieselogasolina.com/Buscador/Ficha/17849']\n",
      "['https://www.dieselogasolina.com/Buscador/Ficha/17988', 'https://www.dieselogasolina.com/Buscador/Ficha/18068', 'https://www.dieselogasolina.com/Buscador/Ficha/18224', 'https://www.dieselogasolina.com/Buscador/Ficha/18248', 'https://www.dieselogasolina.com/Buscador/Ficha/18322', 'https://www.dieselogasolina.com/Buscador/Ficha/18393', 'https://www.dieselogasolina.com/Buscador/Ficha/18407', 'https://www.dieselogasolina.com/Buscador/Ficha/18411', 'https://www.dieselogasolina.com/Buscador/Ficha/18412', 'https://www.dieselogasolina.com/Buscador/Ficha/18413']\n",
      "['https://www.dieselogasolina.com/Buscador/Ficha/18423', 'https://www.dieselogasolina.com/Buscador/Ficha/18497', 'https://www.dieselogasolina.com/Buscador/Ficha/18611', 'https://www.dieselogasolina.com/Buscador/Ficha/18612', 'https://www.dieselogasolina.com/Buscador/Ficha/18823', 'https://www.dieselogasolina.com/Buscador/Ficha/18897', 'https://www.dieselogasolina.com/Buscador/Ficha/18919', 'https://www.dieselogasolina.com/Buscador/Ficha/18948', 'https://www.dieselogasolina.com/Buscador/Ficha/18972', 'https://www.dieselogasolina.com/Buscador/Ficha/18973']\n",
      "['https://www.dieselogasolina.com/Buscador/Ficha/18986', 'https://www.dieselogasolina.com/Buscador/Ficha/18995', 'https://www.dieselogasolina.com/Buscador/Ficha/19131', 'https://www.dieselogasolina.com/Buscador/Ficha/19164', 'https://www.dieselogasolina.com/Buscador/Ficha/19165', 'https://www.dieselogasolina.com/Buscador/Ficha/19199', 'https://www.dieselogasolina.com/Buscador/Ficha/19266', 'https://www.dieselogasolina.com/Buscador/Ficha/19267', 'https://www.dieselogasolina.com/Buscador/Ficha/19278', 'https://www.dieselogasolina.com/Buscador/Ficha/19304']\n",
      "['https://www.dieselogasolina.com/Buscador/Ficha/19352', 'https://www.dieselogasolina.com/Buscador/Ficha/19361', 'https://www.dieselogasolina.com/Buscador/Ficha/19421', 'https://www.dieselogasolina.com/Buscador/Ficha/19434']\n",
      "['https://www.dieselogasolina.com/Buscador/Ficha/19352', 'https://www.dieselogasolina.com/Buscador/Ficha/19361', 'https://www.dieselogasolina.com/Buscador/Ficha/19421', 'https://www.dieselogasolina.com/Buscador/Ficha/19434']\n"
     ]
    }
   ],
   "source": [
    "scraper = scrape(webdriver.Chrome()) #creates the driver Objetct\n",
    "scraper.driver.get(endpoint) #goes to ranking page\n",
    "time.sleep(1)\n",
    "scraper.accept_cookies()\n",
    "scraper.select_city(city=242)\n",
    "scraper.input_form()\n",
    "time.sleep(2)\n",
    "stations_list = scraper.scrape_urls()\n",
    "full_data = scraper.scrape_all(stations_list)"
   ]
  },
  {
   "cell_type": "code",
   "execution_count": 87,
   "metadata": {},
   "outputs": [],
   "source": [
    "df = pd.DataFrame(full_data)"
   ]
  },
  {
   "cell_type": "code",
   "execution_count": 91,
   "metadata": {},
   "outputs": [
    {
     "data": {
      "text/html": [
       "<div>\n",
       "<style scoped>\n",
       "    .dataframe tbody tr th:only-of-type {\n",
       "        vertical-align: middle;\n",
       "    }\n",
       "\n",
       "    .dataframe tbody tr th {\n",
       "        vertical-align: top;\n",
       "    }\n",
       "\n",
       "    .dataframe thead th {\n",
       "        text-align: right;\n",
       "    }\n",
       "</style>\n",
       "<table border=\"1\" class=\"dataframe\">\n",
       "  <thead>\n",
       "    <tr style=\"text-align: right;\">\n",
       "      <th></th>\n",
       "      <th>name</th>\n",
       "      <th>direction</th>\n",
       "      <th>gas_type</th>\n",
       "      <th>price</th>\n",
       "    </tr>\n",
       "  </thead>\n",
       "  <tbody>\n",
       "    <tr>\n",
       "      <th>455</th>\n",
       "      <td>Gasolinera SHELL en MADRID (MADRID)CARRERA VAL...</td>\n",
       "      <td>CARRERA VALENCIA, KM, 14,800</td>\n",
       "      <td>Gasóleo A+</td>\n",
       "      <td>1,239</td>\n",
       "    </tr>\n",
       "    <tr>\n",
       "      <th>601</th>\n",
       "      <td>Gasolinera REPSOL en MADRID (MADRID)AVENIDA LO...</td>\n",
       "      <td>AVENIDA LOS ROSALES, 147</td>\n",
       "      <td>Gasóleo A</td>\n",
       "      <td>1,195</td>\n",
       "    </tr>\n",
       "    <tr>\n",
       "      <th>598</th>\n",
       "      <td>Gasolinera REPSOL en MADRID (MADRID)AVENIDA PÍ...</td>\n",
       "      <td>AVENIDA PÍO XII, 98</td>\n",
       "      <td>Gasóleo A+</td>\n",
       "      <td>1,249</td>\n",
       "    </tr>\n",
       "    <tr>\n",
       "      <th>13</th>\n",
       "      <td>Gasolinera CEPSA en MADRID (MADRID)AVENIDA DE ...</td>\n",
       "      <td>AVENIDA DE LOS POBLADOS, 18</td>\n",
       "      <td>Sin plomo 95</td>\n",
       "      <td>1,329</td>\n",
       "    </tr>\n",
       "    <tr>\n",
       "      <th>573</th>\n",
       "      <td>Gasolinera CEPSA en MADRID (MADRID)HNOS. GARCI...</td>\n",
       "      <td>HNOS. GARCIA NOBLEJAS, 35</td>\n",
       "      <td>Sin plomo 98</td>\n",
       "      <td>1,434</td>\n",
       "    </tr>\n",
       "  </tbody>\n",
       "</table>\n",
       "</div>"
      ],
      "text/plain": [
       "                                                  name  \\\n",
       "455  Gasolinera SHELL en MADRID (MADRID)CARRERA VAL...   \n",
       "601  Gasolinera REPSOL en MADRID (MADRID)AVENIDA LO...   \n",
       "598  Gasolinera REPSOL en MADRID (MADRID)AVENIDA PÍ...   \n",
       "13   Gasolinera CEPSA en MADRID (MADRID)AVENIDA DE ...   \n",
       "573  Gasolinera CEPSA en MADRID (MADRID)HNOS. GARCI...   \n",
       "\n",
       "                        direction      gas_type  price  \n",
       "455  CARRERA VALENCIA, KM, 14,800    Gasóleo A+  1,239  \n",
       "601      AVENIDA LOS ROSALES, 147     Gasóleo A  1,195  \n",
       "598           AVENIDA PÍO XII, 98    Gasóleo A+  1,249  \n",
       "13    AVENIDA DE LOS POBLADOS, 18  Sin plomo 95  1,329  \n",
       "573     HNOS. GARCIA NOBLEJAS, 35  Sin plomo 98  1,434  "
      ]
     },
     "execution_count": 91,
     "metadata": {},
     "output_type": "execute_result"
    }
   ],
   "source": [
    "df.sample(5)"
   ]
  },
  {
   "cell_type": "code",
   "execution_count": 90,
   "metadata": {},
   "outputs": [],
   "source": [
    "df.to_pickle('../data/prices')"
   ]
  },
  {
   "cell_type": "code",
   "execution_count": null,
   "metadata": {},
   "outputs": [],
   "source": []
  }
 ],
 "metadata": {
  "kernelspec": {
   "display_name": "Python 3",
   "language": "python",
   "name": "python3"
  },
  "language_info": {
   "codemirror_mode": {
    "name": "ipython",
    "version": 3
   },
   "file_extension": ".py",
   "mimetype": "text/x-python",
   "name": "python",
   "nbconvert_exporter": "python",
   "pygments_lexer": "ipython3",
   "version": "3.8.3"
  }
 },
 "nbformat": 4,
 "nbformat_minor": 4
}
