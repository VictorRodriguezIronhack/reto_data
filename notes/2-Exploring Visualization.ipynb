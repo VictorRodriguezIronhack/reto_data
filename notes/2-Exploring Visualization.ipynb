{
 "cells": [
  {
   "cell_type": "code",
   "execution_count": 8,
   "metadata": {},
   "outputs": [],
   "source": [
    "import pandas as pd\n",
    "import seaborn as sns\n",
    "import matplotlib.pyplot as plt\n",
    "import plotly.express as px"
   ]
  },
  {
   "cell_type": "markdown",
   "metadata": {},
   "source": [
    "#### I have returned to the Jupyter Notebook to do some more familiar calulations. I might return to the Streamlit at the end of the process. "
   ]
  },
  {
   "cell_type": "code",
   "execution_count": 9,
   "metadata": {},
   "outputs": [],
   "source": [
    "# Open our clean.csv from the previous session.\n",
    "df = pd.read_csv(\"/Users/claytonlouden/reto-data/data/clean.csv\")"
   ]
  },
  {
   "cell_type": "code",
   "execution_count": 10,
   "metadata": {},
   "outputs": [
    {
     "data": {
      "text/html": [
       "<div>\n",
       "<style scoped>\n",
       "    .dataframe tbody tr th:only-of-type {\n",
       "        vertical-align: middle;\n",
       "    }\n",
       "\n",
       "    .dataframe tbody tr th {\n",
       "        vertical-align: top;\n",
       "    }\n",
       "\n",
       "    .dataframe thead th {\n",
       "        text-align: right;\n",
       "    }\n",
       "</style>\n",
       "<table border=\"1\" class=\"dataframe\">\n",
       "  <thead>\n",
       "    <tr style=\"text-align: right;\">\n",
       "      <th></th>\n",
       "      <th>distance</th>\n",
       "      <th>consume</th>\n",
       "      <th>speed</th>\n",
       "      <th>temp_inside</th>\n",
       "      <th>temp_outside</th>\n",
       "      <th>AC</th>\n",
       "      <th>E10</th>\n",
       "      <th>SP98</th>\n",
       "    </tr>\n",
       "  </thead>\n",
       "  <tbody>\n",
       "    <tr>\n",
       "      <th>0</th>\n",
       "      <td>28.0</td>\n",
       "      <td>5.0</td>\n",
       "      <td>26</td>\n",
       "      <td>21.5</td>\n",
       "      <td>12</td>\n",
       "      <td>0</td>\n",
       "      <td>1</td>\n",
       "      <td>0</td>\n",
       "    </tr>\n",
       "    <tr>\n",
       "      <th>1</th>\n",
       "      <td>12.0</td>\n",
       "      <td>4.2</td>\n",
       "      <td>30</td>\n",
       "      <td>21.5</td>\n",
       "      <td>13</td>\n",
       "      <td>0</td>\n",
       "      <td>1</td>\n",
       "      <td>0</td>\n",
       "    </tr>\n",
       "    <tr>\n",
       "      <th>2</th>\n",
       "      <td>11.2</td>\n",
       "      <td>5.5</td>\n",
       "      <td>38</td>\n",
       "      <td>21.5</td>\n",
       "      <td>15</td>\n",
       "      <td>0</td>\n",
       "      <td>1</td>\n",
       "      <td>0</td>\n",
       "    </tr>\n",
       "    <tr>\n",
       "      <th>3</th>\n",
       "      <td>12.9</td>\n",
       "      <td>3.9</td>\n",
       "      <td>36</td>\n",
       "      <td>21.5</td>\n",
       "      <td>14</td>\n",
       "      <td>0</td>\n",
       "      <td>1</td>\n",
       "      <td>0</td>\n",
       "    </tr>\n",
       "    <tr>\n",
       "      <th>4</th>\n",
       "      <td>18.5</td>\n",
       "      <td>4.5</td>\n",
       "      <td>46</td>\n",
       "      <td>21.5</td>\n",
       "      <td>15</td>\n",
       "      <td>0</td>\n",
       "      <td>1</td>\n",
       "      <td>0</td>\n",
       "    </tr>\n",
       "    <tr>\n",
       "      <th>...</th>\n",
       "      <td>...</td>\n",
       "      <td>...</td>\n",
       "      <td>...</td>\n",
       "      <td>...</td>\n",
       "      <td>...</td>\n",
       "      <td>...</td>\n",
       "      <td>...</td>\n",
       "      <td>...</td>\n",
       "    </tr>\n",
       "    <tr>\n",
       "      <th>383</th>\n",
       "      <td>16.0</td>\n",
       "      <td>3.7</td>\n",
       "      <td>39</td>\n",
       "      <td>24.5</td>\n",
       "      <td>18</td>\n",
       "      <td>0</td>\n",
       "      <td>0</td>\n",
       "      <td>1</td>\n",
       "    </tr>\n",
       "    <tr>\n",
       "      <th>384</th>\n",
       "      <td>16.1</td>\n",
       "      <td>4.3</td>\n",
       "      <td>38</td>\n",
       "      <td>25.0</td>\n",
       "      <td>31</td>\n",
       "      <td>1</td>\n",
       "      <td>0</td>\n",
       "      <td>1</td>\n",
       "    </tr>\n",
       "    <tr>\n",
       "      <th>385</th>\n",
       "      <td>16.0</td>\n",
       "      <td>3.8</td>\n",
       "      <td>45</td>\n",
       "      <td>25.0</td>\n",
       "      <td>19</td>\n",
       "      <td>0</td>\n",
       "      <td>0</td>\n",
       "      <td>1</td>\n",
       "    </tr>\n",
       "    <tr>\n",
       "      <th>386</th>\n",
       "      <td>15.4</td>\n",
       "      <td>4.6</td>\n",
       "      <td>42</td>\n",
       "      <td>25.0</td>\n",
       "      <td>31</td>\n",
       "      <td>1</td>\n",
       "      <td>0</td>\n",
       "      <td>1</td>\n",
       "    </tr>\n",
       "    <tr>\n",
       "      <th>387</th>\n",
       "      <td>14.7</td>\n",
       "      <td>5.0</td>\n",
       "      <td>25</td>\n",
       "      <td>25.0</td>\n",
       "      <td>30</td>\n",
       "      <td>1</td>\n",
       "      <td>0</td>\n",
       "      <td>1</td>\n",
       "    </tr>\n",
       "  </tbody>\n",
       "</table>\n",
       "<p>388 rows × 8 columns</p>\n",
       "</div>"
      ],
      "text/plain": [
       "     distance  consume  speed  temp_inside  temp_outside  AC  E10  SP98\n",
       "0        28.0      5.0     26         21.5            12   0    1     0\n",
       "1        12.0      4.2     30         21.5            13   0    1     0\n",
       "2        11.2      5.5     38         21.5            15   0    1     0\n",
       "3        12.9      3.9     36         21.5            14   0    1     0\n",
       "4        18.5      4.5     46         21.5            15   0    1     0\n",
       "..        ...      ...    ...          ...           ...  ..  ...   ...\n",
       "383      16.0      3.7     39         24.5            18   0    0     1\n",
       "384      16.1      4.3     38         25.0            31   1    0     1\n",
       "385      16.0      3.8     45         25.0            19   0    0     1\n",
       "386      15.4      4.6     42         25.0            31   1    0     1\n",
       "387      14.7      5.0     25         25.0            30   1    0     1\n",
       "\n",
       "[388 rows x 8 columns]"
      ]
     },
     "execution_count": 10,
     "metadata": {},
     "output_type": "execute_result"
    }
   ],
   "source": [
    "# Dropping the extra index column \"Unnamed: 0\"\n",
    "df = df.drop(['Unnamed: 0'], axis=1)\n",
    "df"
   ]
  },
  {
   "cell_type": "code",
   "execution_count": 11,
   "metadata": {},
   "outputs": [
    {
     "data": {
      "text/plain": [
       "distance        0.000000\n",
       "consume         0.000000\n",
       "speed           0.000000\n",
       "temp_inside     0.030928\n",
       "temp_outside    0.000000\n",
       "AC              0.000000\n",
       "E10             0.000000\n",
       "SP98            0.000000\n",
       "dtype: float64"
      ]
     },
     "execution_count": 11,
     "metadata": {},
     "output_type": "execute_result"
    }
   ],
   "source": [
    "# Check the percentage of null values\n",
    "df.isnull().sum()/df.shape[0]"
   ]
  },
  {
   "cell_type": "code",
   "execution_count": 12,
   "metadata": {},
   "outputs": [
    {
     "data": {
      "image/png": "[encoded data removed]",
      "text/plain": [
       "<Figure size 432x288 with 2 Axes>"
      ]
     },
     "metadata": {
      "needs_background": "light"
     },
     "output_type": "display_data"
    }
   ],
   "source": [
    "# Make a heatmap to see correlations\n",
    "sns.heatmap(df);"
   ]
  },
  {
   "cell_type": "markdown",
   "metadata": {},
   "source": [
    "Unfortunately, this is too similar to what I see is called a clustermap. Which is not my intention maybe we will try a different visualization library."
   ]
  },
  {
   "cell_type": "code",
   "execution_count": 14,
   "metadata": {},
   "outputs": [
    {
     "data": {
      "application/vnd.plotly.v1+json": {
       "config": {
        "plotlyServerURL": "https://plot.ly"
       },
       "data": [
        {
         "coloraxis": "coloraxis",
         "hovertemplate": "x: %{x}<br>y: %{y}<br>color: %{z}<extra></extra>",
         "name": "0",
         "type": "heatmap",
         "x": [
          "distance",
          "consume",
          "speed",
          "temp_inside",
          "temp_outside",
          "AC",
          "E10",
          "SP98"
         ],
         "xaxis": "x",
         "y": [
          0,
          1,
          2,
          3,
          4,
          5,
          6,
          7,
          8,
          9,
          10,
          11,
          12,
          13,
          14,
          15,
          16,
          17,
          18,
          19,
          20,
          21,
          22,
          23,
          24,
          25,
          26,
          27,
          28,
          29,
          30,
          31,
          32,
          33,
          34,
          35,
          36,
          37,
          38,
          39,
          40,
          41,
          42,
          43,
          44,
          45,
          46,
          47,
          48,
          49,
          50,
          51,
          52,
          53,
          54,
          55,
          56,
          57,
          58,
          59,
          60,
          61,
          62,
          63,
          64,
          65,
          66,
          67,
          68,
          69,
          70,
          71,
          72,
          73,
          74,
          75,
          76,
          77,
          78,
          79,
          80,
          81,
          82,
          83,
          84,
          85,
          86,
          87,
          88,
          89,
          90,
          91,
          92,
          93,
          94,
          95,
          96,
          97,
          98,
          99,
          100,
          101,
          102,
          103,
          104,
          105,
          106,
          107,
          108,
          109,
          110,
          111,
          112,
          113,
          114,
          115,
          116,
          117,
          118,
          119,
          120,
          121,
          122,
          123,
          124,
          125,
          126,
          127,
          128,
          129,
          130,
          131,
          132,
          133,
          134,
          135,
          136,
          137,
          138,
          139,
          140,
          141,
          142,
          143,
          144,
          145,
          146,
          147,
          148,
          149,
          150,
          151,
          152,
          153,
          154,
          155,
          156,
          157,
          158,
          159,
          160,
          161,
          162,
          163,
          164,
          165,
          166,
          167,
          168,
          169,
          170,
          171,
          172,
          173,
          174,
          175,
          176,
          177,
          178,
          179,
          180,
          181,
          182,
          183,
          184,
          185,
          186,
          187,
          188,
          189,
          190,
          191,
          192,
          193,
          194,
          195,
          196,
          197,
          198,
          199,
          200,
          201,
          202,
          203,
          204,
          205,
          206,
          207,
          208,
          209,
          210,
          211,
          212,
          213,
          214,
          215,
          216,
          217,
          218,
          219,
          220,
          221,
          222,
          223,
          224,
          225,
          226,
          227,
          228,
          229,
          230,
          231,
          232,
          233,
          234,
          235,
          236,
          237,
          238,
          239,
          240,
          241,
          242,
          243,
          244,
          245,
          246,
          247,
          248,
          249,
          250,
          251,
          252,
          253,
          254,
          255,
          256,
          257,
          258,
          259,
          260,
          261,
          262,
          263,
          264,
          265,
          266,
          267,
          268,
          269,
          270,
          271,
          272,
          273,
          274,
          275,
          276,
          277,
          278,
          279,
          280,
          281,
          282,
          283,
          284,
          285,
          286,
          287,
          288,
          289,
          290,
          291,
          292,
          293,
          294,
          295,
          296,
          297,
          298,
          299,
          300,
          301,
          302,
          303,
          304,
          305,
          306,
          307,
          308,
          309,
          310,
          311,
          312,
          313,
          314,
          315,
          316,
          317,
          318,
          319,
          320,
          321,
          322,
          323,
          324,
          325,
          326,
          327,
          328,
          329,
          330,
          331,
          332,
          333,
          334,
          335,
          336,
          337,
          338,
          339,
          340,
          341,
          342,
          343,
          344,
          345,
          346,
          347,
          348,
          349,
          350,
          351,
          352,
          353,
          354,
          355,
          356,
          357,
          358,
          359,
          360,
          361,
          362,
          363,
          364,
          365,
          366,
          367,
          368,
          369,
          370,
          371,
          372,
          373,
          374,
          375,
          376,
          377,
          378,
          379,
          380,
          381,
          382,
          383,
          384,
          385,
          386,
          387
         ],
         "yaxis": "y",
         "z": [
          [
           28,
           5,
           26,
           21.5,
           12,
           0,
           1,
           0
          ],
          [
           12,
           4.2,
           30,
           21.5,
           13,
           0,
           1,
           0
          ],
          [
           11.2,
           5.5,
           38,
           21.5,
           15,
           0,
           1,
           0
          ],
          [
           12.9,
           3.9,
           36,
           21.5,
           14,
           0,
           1,
           0
          ],
          [
           18.5,
           4.5,
           46,
           21.5,
           15,
           0,
           1,
           0
          ],
          [
           8.3,
           6.4,
           50,
           21.5,
           10,
           0,
           1,
           0
          ],
          [
           7.8,
           4.4,
           43,
           21.5,
           11,
           0,
           1,
           0
          ],
          [
           12.3,
           5,
           40,
           21.5,
           6,
           0,
           1,
           0
          ],
          [
           4.9,
           6.4,
           26,
           21.5,
           4,
           0,
           1,
           0
          ],
          [
           11.9,
           5.3,
           30,
           21.5,
           9,
           0,
           1,
           0
          ],
          [
           12.4,
           5.6,
           42,
           21.5,
           4,
           0,
           1,
           0
          ],
          [
           11.8,
           4.6,
           38,
           21.5,
           0,
           0,
           1,
           0
          ],
          [
           12.3,
           5.9,
           59,
           21.5,
           10,
           0,
           1,
           0
          ],
          [
           24.7,
           5.1,
           58,
           21.5,
           12,
           0,
           1,
           0
          ],
          [
           12.4,
           4.7,
           46,
           21.5,
           11,
           0,
           1,
           0
          ],
          [
           17.3,
           5.1,
           24,
           21.5,
           5,
           0,
           1,
           0
          ],
          [
           33.4,
           5.6,
           36,
           21.5,
           3,
           0,
           1,
           0
          ],
          [
           11.8,
           5.1,
           32,
           21.5,
           3,
           0,
           1,
           0
          ],
          [
           25.9,
           4.9,
           39,
           21.5,
           8,
           0,
           1,
           0
          ],
          [
           11.8,
           4.7,
           40,
           21.5,
           4,
           0,
           1,
           0
          ],
          [
           25.3,
           5.5,
           32,
           21.5,
           3,
           0,
           1,
           0
          ],
          [
           14.2,
           5.9,
           38,
           21.5,
           1,
           0,
           1,
           0
          ],
          [
           17.9,
           5.7,
           37,
           21.5,
           1,
           0,
           1,
           0
          ],
          [
           11.8,
           4.7,
           36,
           21.5,
           1,
           0,
           1,
           0
          ],
          [
           12.3,
           5.9,
           62,
           21.5,
           6,
           0,
           1,
           0
          ],
          [
           12.4,
           4.1,
           57,
           21.5,
           9,
           0,
           1,
           0
          ],
          [
           18.4,
           5.7,
           21,
           22.5,
           2,
           0,
           1,
           0
          ],
          [
           18.4,
           5.8,
           28,
           21.5,
           3,
           0,
           1,
           0
          ],
          [
           18.3,
           5.5,
           29,
           21.5,
           1,
           0,
           1,
           0
          ],
          [
           18.4,
           5.7,
           35,
           21.5,
           4,
           0,
           1,
           0
          ],
          [
           12.3,
           5.3,
           51,
           21.5,
           11,
           0,
           1,
           0
          ],
          [
           11.8,
           5,
           29,
           21.5,
           10,
           0,
           1,
           0
          ],
          [
           12.3,
           5.6,
           58,
           21.5,
           8,
           0,
           1,
           0
          ],
          [
           32.6,
           4.8,
           40,
           21.5,
           7,
           0,
           1,
           0
          ],
          [
           19,
           4.3,
           36,
           21.5,
           7,
           0,
           1,
           0
          ],
          [
           12.1,
           5.7,
           36,
           21.5,
           8,
           0,
           1,
           0
          ],
          [
           20,
           5.2,
           37,
           21.5,
           4,
           0,
           1,
           0
          ],
          [
           4.9,
           7.4,
           26,
           21.5,
           6,
           0,
           1,
           0
          ],
          [
           11.8,
           4.8,
           23,
           21.5,
           9,
           0,
           1,
           0
          ],
          [
           12.3,
           6.5,
           58,
           21.5,
           7,
           0,
           1,
           0
          ],
          [
           12.4,
           4,
           55,
           21.5,
           7,
           1,
           1,
           0
          ],
          [
           4.5,
           5,
           29,
           21.5,
           7,
           1,
           1,
           0
          ],
          [
           11.7,
           4.6,
           37,
           21.5,
           6,
           0,
           1,
           0
          ],
          [
           10.2,
           4.3,
           44,
           21.5,
           7,
           0,
           1,
           0
          ],
          [
           5.4,
           3.3,
           32,
           21.5,
           7,
           0,
           0,
           1
          ],
          [
           2,
           9.9,
           21,
           21.5,
           4,
           0,
           0,
           1
          ],
          [
           14.2,
           5.1,
           32,
           21.5,
           7,
           0,
           0,
           1
          ],
          [
           16,
           4.9,
           25,
           21.5,
           8,
           0,
           0,
           1
          ],
          [
           11.8,
           4.9,
           25,
           21.5,
           11,
           0,
           0,
           1
          ],
          [
           27.3,
           4.7,
           36,
           21.5,
           10,
           0,
           0,
           1
          ],
          [
           11.8,
           5.1,
           29,
           21.5,
           5,
           0,
           0,
           1
          ],
          [
           10.6,
           4.9,
           63,
           21.5,
           6,
           0,
           0,
           1
          ],
          [
           11.6,
           4.2,
           61,
           21.5,
           7,
           0,
           0,
           1
          ],
          [
           13.1,
           6.1,
           46,
           21.5,
           6,
           0,
           0,
           1
          ],
          [
           6.1,
           6.4,
           28,
           21.5,
           8,
           0,
           0,
           1
          ],
          [
           153.5,
           4.9,
           82,
           21.5,
           3,
           0,
           0,
           1
          ],
          [
           11.8,
           4.9,
           24,
           21.5,
           7,
           0,
           0,
           1
          ],
          [
           12.3,
           6.2,
           61,
           21.5,
           8,
           0,
           0,
           1
          ],
          [
           12.4,
           4.2,
           57,
           21.5,
           8,
           0,
           0,
           1
          ],
          [
           12.3,
           5.7,
           52,
           21.5,
           8,
           0,
           0,
           1
          ],
          [
           2.9,
           7.9,
           18,
           21.5,
           9,
           1,
           0,
           1
          ],
          [
           2.1,
           12.2,
           23,
           21.5,
           9,
           1,
           0,
           1
          ],
          [
           9.8,
           5.8,
           24,
           21.5,
           6,
           0,
           0,
           1
          ],
          [
           6.8,
           5.3,
           26,
           21.5,
           6,
           0,
           0,
           1
          ],
          [
           12.4,
           5.4,
           24,
           21.5,
           7,
           0,
           0,
           1
          ],
          [
           12.4,
           4.7,
           57,
           21.5,
           8,
           0,
           0,
           1
          ],
          [
           11.8,
           4.6,
           41,
           21.5,
           6,
           0,
           0,
           1
          ],
          [
           12.3,
           5.4,
           55,
           21.5,
           8,
           0,
           0,
           1
          ],
          [
           14,
           4.3,
           40,
           21.5,
           8,
           0,
           0,
           1
          ],
          [
           11.8,
           4.5,
           37,
           21.5,
           4,
           1,
           0,
           1
          ],
          [
           12.3,
           5.2,
           55,
           21.5,
           12,
           0,
           0,
           1
          ],
          [
           2,
           6.2,
           20,
           21.5,
           10,
           0,
           0,
           1
          ],
          [
           13.9,
           5.1,
           29,
           21.5,
           6,
           0,
           0,
           1
          ],
          [
           9.7,
           3.9,
           42,
           21.5,
           8,
           0,
           0,
           1
          ],
          [
           11.6,
           5,
           25,
           21.5,
           6,
           0,
           0,
           1
          ],
          [
           14.2,
           5.4,
           38,
           21.5,
           7,
           0,
           0,
           1
          ],
          [
           11.8,
           4.5,
           39,
           21.5,
           6,
           0,
           0,
           1
          ],
          [
           24.8,
           5.1,
           50,
           21.5,
           9,
           0,
           0,
           1
          ],
          [
           12.4,
           4.7,
           56,
           21.5,
           7,
           0,
           0,
           1
          ],
          [
           34.8,
           4,
           28,
           20,
           4,
           0,
           0,
           1
          ],
          [
           14.2,
           5.4,
           36,
           20,
           6,
           0,
           0,
           1
          ],
          [
           5.2,
           4.5,
           39,
           20,
           10,
           0,
           0,
           1
          ],
          [
           10.5,
           3.6,
           42,
           20,
           10,
           0,
           0,
           1
          ],
          [
           12.3,
           5.2,
           57,
           20,
           10,
           0,
           0,
           1
          ],
          [
           11.8,
           4.9,
           25,
           20,
           11,
           0,
           0,
           1
          ],
          [
           12.3,
           6.2,
           58,
           20,
           11,
           0,
           0,
           1
          ],
          [
           13.2,
           4.3,
           51,
           20,
           11,
           0,
           0,
           1
          ],
          [
           13,
           5,
           45,
           20,
           11,
           0,
           0,
           1
          ],
          [
           12.9,
           5.1,
           32,
           20,
           11,
           0,
           0,
           1
          ],
          [
           13.9,
           5.6,
           22,
           20,
           8,
           0,
           0,
           1
          ],
          [
           11.8,
           4.3,
           37,
           20,
           6,
           0,
           0,
           1
          ],
          [
           12.2,
           5.8,
           60,
           20,
           11,
           0,
           0,
           1
          ],
          [
           12.5,
           4,
           51,
           20,
           13,
           0,
           0,
           1
          ],
          [
           12.4,
           4.7,
           43,
           null,
           10,
           0,
           0,
           1
          ],
          [
           11.8,
           5.9,
           21,
           20,
           9,
           1,
           0,
           1
          ],
          [
           11.8,
           5.3,
           52,
           null,
           11,
           0,
           0,
           1
          ],
          [
           12.5,
           4.2,
           57,
           20,
           11,
           0,
           0,
           1
          ],
          [
           15.7,
           5.3,
           33,
           null,
           9,
           0,
           0,
           1
          ],
          [
           12.9,
           5.7,
           35,
           null,
           9,
           0,
           0,
           1
          ],
          [
           6.4,
           4.4,
           37,
           null,
           10,
           0,
           0,
           1
          ],
          [
           5.3,
           4.1,
           34,
           null,
           9,
           0,
           0,
           1
          ],
          [
           26.2,
           5.8,
           71,
           21,
           8,
           1,
           0,
           1
          ],
          [
           18.8,
           5,
           62,
           null,
           9,
           0,
           0,
           1
          ],
          [
           4.9,
           6.9,
           25,
           21,
           12,
           0,
           0,
           1
          ],
          [
           12.4,
           5.4,
           18,
           21,
           11,
           1,
           0,
           1
          ],
          [
           22.9,
           5.3,
           45,
           20.5,
           7,
           0,
           0,
           1
          ],
          [
           162.7,
           5.5,
           75,
           23,
           1,
           0,
           0,
           1
          ],
          [
           4.9,
           6.5,
           26,
           21,
           1,
           0,
           0,
           1
          ],
          [
           11.8,
           4.7,
           36,
           21,
           4,
           0,
           0,
           1
          ],
          [
           16.6,
           5.1,
           56,
           21,
           7,
           0,
           0,
           1
          ],
          [
           12.4,
           5.7,
           37,
           21,
           7,
           0,
           0,
           1
          ],
          [
           15.9,
           5.4,
           25,
           21,
           7,
           0,
           0,
           1
          ],
          [
           5.1,
           8.7,
           21,
           23.5,
           5,
           0,
           0,
           1
          ],
          [
           22.4,
           4.9,
           66,
           20.5,
           7,
           0,
           0,
           1
          ],
          [
           31.1,
           4.7,
           42,
           20.5,
           7,
           0,
           0,
           1
          ],
          [
           4.9,
           6.3,
           27,
           20.5,
           3,
           0,
           0,
           1
          ],
          [
           11.8,
           5.1,
           26,
           23,
           4,
           0,
           0,
           1
          ],
          [
           22.9,
           6,
           42,
           23,
           4,
           0,
           0,
           1
          ],
          [
           12.4,
           4.6,
           38,
           23,
           1,
           0,
           0,
           1
          ],
          [
           12.9,
           5.8,
           40,
           23,
           4,
           0,
           0,
           1
          ],
          [
           11.8,
           5.1,
           43,
           23,
           0,
           0,
           0,
           1
          ],
          [
           12.2,
           5.8,
           58,
           23,
           2,
           0,
           0,
           1
          ],
          [
           24.8,
           4.6,
           55,
           23,
           3,
           0,
           0,
           1
          ],
          [
           14.2,
           5.6,
           24,
           23,
           8,
           0,
           0,
           1
          ],
          [
           11.8,
           4.6,
           38,
           23,
           0,
           0,
           0,
           1
          ],
          [
           12.2,
           6.3,
           57,
           23,
           0,
           0,
           0,
           1
          ],
          [
           24.7,
           5.5,
           56,
           25,
           1,
           0,
           0,
           1
          ],
          [
           6.8,
           4.3,
           46,
           24,
           2,
           0,
           0,
           1
          ],
          [
           17.3,
           5.6,
           37,
           21.5,
           1,
           0,
           0,
           1
          ],
          [
           11.8,
           4.3,
           44,
           21.5,
           -3,
           0,
           0,
           1
          ],
          [
           15.9,
           5.7,
           46,
           21.5,
           5,
           0,
           0,
           1
          ],
          [
           5.1,
           6.4,
           39,
           21.5,
           4,
           0,
           0,
           1
          ],
          [
           16.1,
           4.5,
           33,
           21.5,
           6,
           0,
           0,
           1
          ],
          [
           11.8,
           4.5,
           43,
           21.5,
           3,
           0,
           0,
           1
          ],
          [
           4.2,
           6,
           26,
           21.5,
           5,
           0,
           0,
           1
          ],
          [
           17.4,
           5.1,
           30,
           21.5,
           5,
           0,
           0,
           1
          ],
          [
           23.5,
           6,
           25,
           21.5,
           5,
           0,
           0,
           1
          ],
          [
           11.8,
           4.5,
           38,
           21.5,
           5,
           0,
           0,
           1
          ],
          [
           12.3,
           6.1,
           61,
           21.5,
           10,
           0,
           0,
           1
          ],
          [
           16.1,
           5.4,
           24,
           21.5,
           7,
           0,
           1,
           0
          ],
          [
           11.8,
           4.3,
           40,
           21.5,
           10,
           0,
           1,
           0
          ],
          [
           12.3,
           5.4,
           58,
           21.5,
           13,
           0,
           1,
           0
          ],
          [
           12.4,
           4.3,
           49,
           21.5,
           17,
           0,
           1,
           0
          ],
          [
           7,
           5.2,
           25,
           21.5,
           17,
           0,
           1,
           0
          ],
          [
           11.8,
           4.1,
           37,
           21.5,
           10,
           0,
           1,
           0
          ],
          [
           20.1,
           4.4,
           41,
           21.5,
           18,
           0,
           1,
           0
          ],
          [
           20.8,
           4.5,
           45,
           21.5,
           10,
           0,
           1,
           0
          ],
          [
           1.7,
           10.8,
           14,
           21.5,
           10,
           0,
           1,
           0
          ],
          [
           35.9,
           4.7,
           45,
           21.5,
           12,
           0,
           1,
           0
          ],
          [
           36.9,
           4.8,
           52,
           21.5,
           5,
           0,
           1,
           0
          ],
          [
           16.8,
           4,
           46,
           21.5,
           8,
           0,
           1,
           0
          ],
          [
           9.9,
           5,
           28,
           21.5,
           9,
           0,
           1,
           0
          ],
          [
           22.9,
           4.6,
           61,
           21.5,
           7,
           0,
           1,
           0
          ],
          [
           17.3,
           5,
           61,
           21.5,
           6,
           1,
           1,
           0
          ],
          [
           11.8,
           4.3,
           37,
           21.5,
           7,
           0,
           1,
           0
          ],
          [
           36.6,
           5.2,
           80,
           21.5,
           7,
           0,
           1,
           0
          ],
          [
           44.9,
           4.7,
           62,
           21.5,
           8,
           0,
           1,
           0
          ],
          [
           11.8,
           4.2,
           34,
           21.5,
           9,
           0,
           1,
           0
          ],
          [
           21.6,
           5.3,
           44,
           21.5,
           9,
           0,
           1,
           0
          ],
          [
           39.4,
           5.3,
           60,
           21.5,
           9,
           0,
           1,
           0
          ],
          [
           5.1,
           8.1,
           39,
           21.5,
           4,
           0,
           1,
           0
          ],
          [
           26.6,
           4.8,
           38,
           21.5,
           7,
           0,
           1,
           0
          ],
          [
           53.2,
           5.1,
           71,
           21.5,
           2,
           0,
           1,
           0
          ],
          [
           18.9,
           4.4,
           53,
           21.5,
           2,
           0,
           1,
           0
          ],
          [
           43.5,
           5,
           80,
           21.5,
           3,
           0,
           1,
           0
          ],
          [
           6.1,
           6.3,
           26,
           21.5,
           5,
           0,
           1,
           0
          ],
          [
           16.4,
           4.8,
           49,
           21.5,
           5,
           0,
           1,
           0
          ],
          [
           12.3,
           6.1,
           40,
           21.5,
           6,
           0,
           1,
           0
          ],
          [
           21.1,
           4.6,
           36,
           21.5,
           8,
           0,
           1,
           0
          ],
          [
           21.1,
           4.8,
           43,
           21.5,
           7,
           0,
           1,
           0
          ],
          [
           22.7,
           4.7,
           55,
           21.5,
           6,
           0,
           1,
           0
          ],
          [
           44.4,
           4.8,
           38,
           21.5,
           8,
           0,
           1,
           0
          ],
          [
           35.8,
           4.4,
           51,
           21.5,
           6,
           0,
           1,
           0
          ],
          [
           11.8,
           4.9,
           44,
           21.5,
           0,
           0,
           1,
           0
          ],
          [
           26.2,
           4.9,
           42,
           21.5,
           6,
           0,
           1,
           0
          ],
          [
           40.6,
           4.4,
           44,
           21,
           3,
           0,
           1,
           0
          ],
          [
           12.4,
           5.3,
           38,
           21,
           -5,
           0,
           1,
           0
          ],
          [
           14.1,
           5.3,
           47,
           21,
           -3,
           0,
           1,
           0
          ],
          [
           58.7,
           4.8,
           75,
           21,
           0,
           0,
           1,
           0
          ],
          [
           16.2,
           5.2,
           29,
           21,
           0,
           0,
           1,
           0
          ],
          [
           12.3,
           4.9,
           50,
           22.5,
           0,
           0,
           1,
           0
          ],
          [
           12.3,
           7.1,
           52,
           22.5,
           0,
           1,
           1,
           0
          ],
          [
           12.4,
           5.2,
           51,
           22.5,
           1,
           0,
           1,
           0
          ],
          [
           31.8,
           4.7,
           59,
           22.5,
           3,
           0,
           1,
           0
          ],
          [
           12.3,
           5.1,
           55,
           22.5,
           8,
           0,
           1,
           0
          ],
          [
           51.6,
           5,
           73,
           22.5,
           12,
           0,
           1,
           0
          ],
          [
           38.6,
           4.6,
           44,
           22.5,
           10,
           0,
           1,
           0
          ],
          [
           12.3,
           4.8,
           41,
           22.5,
           7,
           0,
           1,
           0
          ],
          [
           81.2,
           4.4,
           69,
           22,
           13,
           0,
           1,
           0
          ],
          [
           130.3,
           4.6,
           85,
           22,
           12,
           0,
           1,
           0
          ],
          [
           67.2,
           4.3,
           67,
           22,
           18,
           0,
           1,
           0
          ],
          [
           43.7,
           4.7,
           44,
           22,
           9,
           0,
           0,
           1
          ],
          [
           12.1,
           4.2,
           43,
           22,
           4,
           0,
           0,
           1
          ],
          [
           56.1,
           4.8,
           82,
           22,
           13,
           0,
           0,
           1
          ],
          [
           39,
           4.1,
           61,
           22,
           16,
           0,
           0,
           1
          ],
          [
           11.8,
           4.5,
           41,
           21.5,
           13,
           0,
           0,
           1
          ],
          [
           38.5,
           4.8,
           63,
           21.5,
           14,
           0,
           0,
           1
          ],
          [
           28.2,
           4.6,
           54,
           21.5,
           14,
           0,
           0,
           1
          ],
          [
           2.9,
           7.4,
           24,
           21.5,
           14,
           0,
           0,
           1
          ],
          [
           6.1,
           5.6,
           24,
           21.5,
           13,
           0,
           0,
           1
          ],
          [
           19.6,
           4.9,
           43,
           21.5,
           13,
           0,
           0,
           1
          ],
          [
           22.2,
           3.8,
           42,
           null,
           15,
           0,
           0,
           1
          ],
          [
           13.6,
           4.5,
           44,
           19,
           18,
           0,
           0,
           1
          ],
          [
           12.6,
           4.1,
           33,
           null,
           17,
           0,
           0,
           1
          ],
          [
           8.7,
           5.3,
           28,
           22.5,
           12,
           1,
           0,
           1
          ],
          [
           7.9,
           4.7,
           31,
           22.5,
           12,
           1,
           0,
           1
          ],
          [
           2.4,
           9,
           26,
           20,
           10,
           0,
           0,
           1
          ],
          [
           4.9,
           6.3,
           26,
           20,
           10,
           0,
           0,
           1
          ],
          [
           18.1,
           3.6,
           36,
           20,
           19,
           0,
           0,
           1
          ],
          [
           25.9,
           3.7,
           39,
           20,
           21,
           0,
           0,
           1
          ],
          [
           1.3,
           11.5,
           21,
           20,
           10,
           0,
           0,
           1
          ],
          [
           14.1,
           5,
           22,
           20,
           12,
           0,
           0,
           1
          ],
          [
           13.4,
           5.5,
           31,
           20,
           9,
           0,
           0,
           1
          ],
          [
           6.4,
           4.7,
           33,
           20,
           8,
           0,
           0,
           1
          ],
          [
           12.9,
           4.5,
           42,
           20,
           13,
           0,
           0,
           1
          ],
          [
           12.1,
           4.4,
           33,
           22.5,
           5,
           0,
           0,
           1
          ],
          [
           15.7,
           4.1,
           32,
           22.5,
           13,
           0,
           0,
           1
          ],
          [
           16.2,
           4.4,
           26,
           22.5,
           11,
           0,
           0,
           1
          ],
          [
           12.8,
           4.6,
           22,
           22.5,
           12,
           0,
           0,
           1
          ],
          [
           19,
           4.4,
           58,
           22.5,
           17,
           0,
           0,
           1
          ],
          [
           29,
           4,
           27,
           22.5,
           12,
           0,
           0,
           1
          ],
          [
           12.1,
           5,
           32,
           22.5,
           9,
           0,
           0,
           1
          ],
          [
           12.3,
           5.2,
           55,
           22.5,
           10,
           0,
           0,
           1
          ],
          [
           24.8,
           4,
           56,
           22.5,
           11,
           0,
           0,
           1
          ],
          [
           12.9,
           5.1,
           34,
           22.5,
           8,
           0,
           0,
           1
          ],
          [
           11.8,
           4.5,
           39,
           22.5,
           3,
           0,
           0,
           1
          ],
          [
           31.4,
           4.6,
           62,
           22.5,
           11,
           0,
           0,
           1
          ],
          [
           19,
           5.1,
           53,
           22.5,
           4,
           0,
           0,
           1
          ],
          [
           13,
           5.7,
           38,
           22.5,
           3,
           1,
           0,
           1
          ],
          [
           11.8,
           4.8,
           42,
           22.5,
           2,
           0,
           0,
           1
          ],
          [
           13,
           6.2,
           32,
           22.5,
           4,
           0,
           0,
           1
          ],
          [
           11.8,
           5,
           43,
           22.5,
           1,
           0,
           0,
           1
          ],
          [
           27.1,
           5,
           69,
           22.5,
           8,
           0,
           0,
           1
          ],
          [
           5.2,
           4.6,
           38,
           22.5,
           8,
           0,
           0,
           1
          ],
          [
           19,
           4.5,
           29,
           22.5,
           10,
           0,
           1,
           0
          ],
          [
           12.4,
           4.8,
           38,
           22.5,
           1,
           0,
           1,
           0
          ],
          [
           25.2,
           5,
           55,
           22.5,
           9,
           0,
           1,
           0
          ],
          [
           14.3,
           4.8,
           36,
           22.5,
           10,
           0,
           1,
           0
          ],
          [
           11.8,
           4.6,
           40,
           22.5,
           2,
           0,
           1,
           0
          ],
          [
           16.9,
           4.5,
           48,
           22.5,
           9,
           0,
           1,
           0
          ],
          [
           12.4,
           4.6,
           55,
           22.5,
           11,
           0,
           1,
           0
          ],
          [
           17.4,
           4.4,
           36,
           22.5,
           12,
           0,
           1,
           0
          ],
          [
           9.2,
           5.7,
           33,
           22.5,
           8,
           0,
           1,
           0
          ],
          [
           12.3,
           5.8,
           54,
           22.5,
           10,
           0,
           1,
           0
          ],
          [
           13,
           5.9,
           32,
           22.5,
           10,
           0,
           1,
           0
          ],
          [
           11.8,
           6.1,
           16,
           22.5,
           6,
           0,
           1,
           0
          ],
          [
           13,
           5.7,
           37,
           22.5,
           11,
           0,
           1,
           0
          ],
          [
           12.3,
           5,
           42,
           22.5,
           10,
           0,
           1,
           0
          ],
          [
           12.3,
           5.2,
           57,
           22.5,
           15,
           0,
           1,
           0
          ],
          [
           12.5,
           4.3,
           57,
           22.5,
           16,
           0,
           1,
           0
          ],
          [
           31.5,
           4.1,
           30,
           22.5,
           16,
           0,
           1,
           0
          ],
          [
           11.8,
           4.4,
           42,
           22.5,
           8,
           0,
           1,
           0
          ],
          [
           24.9,
           4.5,
           53,
           22.5,
           14,
           0,
           1,
           0
          ],
          [
           17,
           3.9,
           46,
           22.5,
           14,
           0,
           1,
           0
          ],
          [
           2,
           8.1,
           20,
           22.5,
           14,
           0,
           1,
           0
          ],
          [
           11.8,
           4.4,
           33,
           22.5,
           8,
           0,
           1,
           0
          ],
          [
           7.4,
           5,
           31,
           22.5,
           12,
           0,
           1,
           0
          ],
          [
           12.4,
           4.7,
           55,
           22.5,
           14,
           0,
           1,
           0
          ],
          [
           2,
           6,
           22,
           22.5,
           14,
           0,
           1,
           0
          ],
          [
           14,
           5,
           41,
           22.5,
           8,
           0,
           1,
           0
          ],
          [
           25.7,
           5,
           45,
           22.5,
           7,
           0,
           1,
           0
          ],
          [
           24.5,
           3.9,
           50,
           null,
           15,
           0,
           1,
           0
          ],
          [
           11.8,
           4.5,
           28,
           22.5,
           12,
           0,
           1,
           0
          ],
          [
           4.1,
           5.4,
           24,
           22.5,
           13,
           0,
           1,
           0
          ],
          [
           4.2,
           5.6,
           29,
           22,
           17,
           0,
           1,
           0
          ],
          [
           4.2,
           3.9,
           29,
           22,
           18,
           0,
           1,
           0
          ],
          [
           16,
           4,
           40,
           22,
           10,
           0,
           1,
           0
          ],
          [
           22.9,
           4,
           29,
           null,
           21,
           0,
           1,
           0
          ],
          [
           16,
           3.8,
           42,
           null,
           8,
           0,
           1,
           0
          ],
          [
           15.4,
           4.5,
           50,
           22,
           14,
           0,
           1,
           0
          ],
          [
           16,
           3.8,
           41,
           22,
           12,
           0,
           1,
           0
          ],
          [
           4.2,
           5.6,
           32,
           22,
           18,
           0,
           1,
           0
          ],
          [
           101.9,
           5.2,
           75,
           22,
           18,
           0,
           1,
           0
          ],
          [
           93.9,
           4.8,
           88,
           23,
           18,
           1,
           1,
           0
          ],
          [
           25.7,
           4.9,
           50,
           22,
           10,
           0,
           0,
           1
          ],
          [
           16,
           4.1,
           40,
           22,
           10,
           0,
           0,
           1
          ],
          [
           16.1,
           4.5,
           32,
           22,
           19,
           0,
           0,
           1
          ],
          [
           16,
           4.4,
           40,
           22,
           7,
           1,
           0,
           1
          ],
          [
           16,
           4.5,
           41,
           22,
           11,
           0,
           0,
           1
          ],
          [
           24.7,
           4.5,
           26,
           22,
           10,
           0,
           0,
           1
          ],
          [
           16,
           3.9,
           42,
           22,
           8,
           0,
           0,
           1
          ],
          [
           15.4,
           4.6,
           43,
           22,
           16,
           0,
           0,
           1
          ],
          [
           16,
           3.8,
           40,
           22,
           8,
           0,
           0,
           1
          ],
          [
           32.1,
           4.5,
           50,
           22,
           16,
           0,
           0,
           1
          ],
          [
           25.9,
           4.4,
           40,
           22,
           14,
           0,
           0,
           1
          ],
          [
           48.6,
           4.3,
           44,
           22,
           12,
           0,
           0,
           1
          ],
          [
           37.2,
           4,
           45,
           22,
           20,
           0,
           0,
           1
          ],
          [
           28.8,
           3.9,
           35,
           22,
           15,
           0,
           0,
           1
          ],
          [
           6.7,
           5,
           30,
           22,
           17,
           0,
           0,
           1
          ],
          [
           7.4,
           4.1,
           25,
           22,
           18,
           0,
           0,
           1
          ],
          [
           17.3,
           4.1,
           22,
           22,
           25,
           0,
           0,
           1
          ],
          [
           6.6,
           5.6,
           43,
           22,
           16,
           0,
           0,
           1
          ],
          [
           14.3,
           4.1,
           26,
           22,
           20,
           0,
           0,
           1
          ],
          [
           13.3,
           4.6,
           33,
           22,
           18,
           0,
           0,
           1
          ],
          [
           8.3,
           4.9,
           26,
           22,
           23,
           0,
           0,
           1
          ],
          [
           12.7,
           4.5,
           39,
           22,
           27,
           0,
           0,
           1
          ],
          [
           16.5,
           4.1,
           47,
           22,
           14,
           0,
           0,
           1
          ],
          [
           20.6,
           4.1,
           38,
           22,
           21,
           0,
           0,
           1
          ],
          [
           16.3,
           4.5,
           58,
           22,
           16,
           0,
           0,
           1
          ],
          [
           18.7,
           4.2,
           65,
           25,
           18,
           1,
           0,
           1
          ],
          [
           36.5,
           3.9,
           54,
           23,
           18,
           0,
           0,
           1
          ],
          [
           19,
           5,
           35,
           22,
           15,
           1,
           0,
           1
          ],
          [
           16.6,
           4.4,
           46,
           22,
           5,
           1,
           0,
           1
          ],
          [
           29.9,
           4.5,
           32,
           22,
           18,
           1,
           0,
           1
          ],
          [
           16,
           3.8,
           42,
           22,
           11,
           0,
           0,
           1
          ],
          [
           21.1,
           5.1,
           33,
           22,
           10,
           0,
           0,
           1
          ],
          [
           16,
           3.9,
           40,
           22,
           10,
           0,
           0,
           1
          ],
          [
           11.9,
           5.3,
           34,
           22,
           13,
           0,
           0,
           1
          ],
          [
           10.1,
           4.2,
           35,
           22,
           16,
           0,
           0,
           1
          ],
          [
           31.9,
           4.3,
           33,
           22,
           16,
           0,
           0,
           1
          ],
          [
           18.7,
           4,
           60,
           22,
           13,
           0,
           0,
           1
          ],
          [
           10.8,
           4.7,
           48,
           22,
           17,
           0,
           0,
           1
          ],
          [
           19.8,
           4,
           56,
           22,
           17,
           0,
           0,
           1
          ],
          [
           11.3,
           4.3,
           38,
           22,
           17,
           0,
           0,
           1
          ],
          [
           11.5,
           5.3,
           53,
           22,
           15,
           0,
           0,
           1
          ],
          [
           21.4,
           5.2,
           51,
           22,
           13,
           0,
           0,
           1
          ],
          [
           32,
           4.9,
           53,
           22,
           15,
           0,
           0,
           1
          ],
          [
           41.9,
           4.7,
           53,
           22,
           14,
           0,
           0,
           1
          ],
          [
           211,
           4.6,
           80,
           22,
           20,
           0,
           0,
           1
          ],
          [
           216.1,
           5.3,
           90,
           22,
           21,
           0,
           0,
           1
          ],
          [
           25.5,
           3.6,
           27,
           22,
           27,
           0,
           0,
           1
          ],
          [
           16.6,
           4.2,
           52,
           22,
           15,
           0,
           0,
           1
          ],
          [
           25.9,
           4.1,
           43,
           22,
           24,
           0,
           0,
           1
          ],
          [
           16.5,
           4,
           48,
           22,
           15,
           0,
           0,
           1
          ],
          [
           22.1,
           3.9,
           29,
           22,
           26,
           0,
           0,
           1
          ],
          [
           16.6,
           3.7,
           49,
           22,
           17,
           0,
           1,
           0
          ],
          [
           15.4,
           4.5,
           43,
           22,
           24,
           0,
           1,
           0
          ],
          [
           16.5,
           3.9,
           43,
           22,
           17,
           0,
           1,
           0
          ],
          [
           15.4,
           5.1,
           21,
           22,
           24,
           0,
           1,
           0
          ],
          [
           18.4,
           4.2,
           59,
           22,
           24,
           0,
           1,
           0
          ],
          [
           39.5,
           4.2,
           58,
           22,
           25,
           0,
           1,
           0
          ],
          [
           21.5,
           4.8,
           47,
           25,
           27,
           1,
           1,
           0
          ],
          [
           4.8,
           4.7,
           26,
           25,
           18,
           0,
           1,
           0
          ],
          [
           100.9,
           4.7,
           87,
           23.5,
           22,
           0,
           1,
           0
          ],
          [
           129.7,
           4.6,
           58,
           24,
           21,
           0,
           1,
           0
          ],
          [
           16.6,
           3.8,
           43,
           21.5,
           16,
           0,
           1,
           0
          ],
          [
           15.4,
           4.2,
           50,
           21.5,
           21,
           0,
           1,
           0
          ],
          [
           16,
           3.7,
           45,
           22,
           17,
           0,
           1,
           0
          ],
          [
           16,
           4.2,
           41,
           22,
           15,
           0,
           1,
           0
          ],
          [
           15.4,
           4.1,
           45,
           22,
           24,
           0,
           1,
           0
          ],
          [
           16,
           4,
           43,
           22,
           16,
           0,
           1,
           0
          ],
          [
           21,
           3.8,
           37,
           22,
           21,
           0,
           1,
           0
          ],
          [
           15.4,
           3.8,
           47,
           22,
           24,
           0,
           1,
           0
          ],
          [
           16,
           3.8,
           42,
           22,
           17,
           0,
           1,
           0
          ],
          [
           16.1,
           5.1,
           30,
           25,
           16,
           1,
           1,
           0
          ],
          [
           16,
           4,
           42,
           22,
           15,
           0,
           1,
           0
          ],
          [
           15.4,
           4.8,
           40,
           22,
           18,
           0,
           1,
           0
          ],
          [
           17.2,
           3.9,
           35,
           22,
           16,
           0,
           1,
           0
          ],
          [
           16.6,
           4.6,
           50,
           22,
           25,
           0,
           1,
           0
          ],
          [
           18.3,
           4.3,
           46,
           22,
           16,
           0,
           0,
           1
          ],
          [
           16.1,
           4.8,
           36,
           22,
           18,
           0,
           0,
           1
          ],
          [
           16,
           4.1,
           46,
           22,
           17,
           0,
           0,
           1
          ],
          [
           16.3,
           4,
           35,
           22,
           23,
           0,
           0,
           1
          ],
          [
           16,
           3.7,
           44,
           22,
           16,
           0,
           0,
           1
          ],
          [
           18.3,
           4.3,
           46,
           22,
           23,
           0,
           0,
           1
          ],
          [
           4.5,
           5.2,
           23,
           22,
           23,
           0,
           0,
           1
          ],
          [
           17,
           4.2,
           48,
           22,
           16,
           0,
           0,
           1
          ],
          [
           6.1,
           5,
           35,
           24.5,
           18,
           0,
           0,
           1
          ],
          [
           6.1,
           5,
           33,
           22,
           24,
           0,
           0,
           1
          ],
          [
           17.3,
           4.2,
           36,
           22,
           22,
           0,
           0,
           1
          ],
          [
           6,
           4.8,
           27,
           22,
           17,
           0,
           0,
           1
          ],
          [
           16,
           4.1,
           45,
           22,
           15,
           0,
           0,
           1
          ],
          [
           15.4,
           4.9,
           55,
           22,
           18,
           0,
           0,
           1
          ],
          [
           15.4,
           4.3,
           39,
           22,
           23,
           0,
           0,
           1
          ],
          [
           16,
           3.9,
           35,
           22,
           18,
           0,
           0,
           1
          ],
          [
           15.4,
           4.5,
           52,
           22,
           26,
           0,
           0,
           1
          ],
          [
           16.6,
           4.1,
           48,
           25.5,
           30,
           1,
           0,
           1
          ],
          [
           15.4,
           5,
           48,
           25.5,
           31,
           1,
           0,
           1
          ],
          [
           16,
           4,
           43,
           22,
           21,
           1,
           0,
           1
          ],
          [
           15.4,
           4.5,
           42,
           22,
           30,
           0,
           0,
           1
          ],
          [
           16,
           3.6,
           43,
           22,
           19,
           0,
           0,
           1
          ],
          [
           20.9,
           4.1,
           33,
           22,
           21,
           0,
           0,
           1
          ],
          [
           32.1,
           3.9,
           47,
           22,
           26,
           0,
           0,
           1
          ],
          [
           15.3,
           6.6,
           16,
           24,
           27,
           1,
           0,
           1
          ],
          [
           28.5,
           4,
           44,
           25,
           23,
           1,
           0,
           1
          ],
          [
           11.9,
           3.7,
           33,
           25,
           19,
           0,
           0,
           1
          ],
          [
           14.5,
           4.3,
           36,
           25,
           22,
           0,
           0,
           1
          ],
          [
           16.6,
           4.1,
           49,
           22,
           26,
           0,
           0,
           1
          ],
          [
           16.2,
           4.4,
           39,
           24.5,
           17,
           1,
           0,
           1
          ],
          [
           16.7,
           3.8,
           44,
           24.5,
           23,
           0,
           0,
           1
          ],
          [
           8.3,
           5,
           52,
           24.5,
           27,
           0,
           0,
           1
          ],
          [
           5.5,
           3.7,
           33,
           24.5,
           28,
           0,
           0,
           1
          ],
          [
           13.6,
           3.7,
           33,
           24.5,
           28,
           0,
           0,
           1
          ],
          [
           16,
           3.7,
           39,
           24.5,
           18,
           0,
           0,
           1
          ],
          [
           16.1,
           4.3,
           38,
           25,
           31,
           1,
           0,
           1
          ],
          [
           16,
           3.8,
           45,
           25,
           19,
           0,
           0,
           1
          ],
          [
           15.4,
           4.6,
           42,
           25,
           31,
           1,
           0,
           1
          ],
          [
           14.7,
           5,
           25,
           25,
           30,
           1,
           0,
           1
          ]
         ]
        }
       ],
       "layout": {
        "coloraxis": {
         "colorscale": [
          [
           0,
           "#0d0887"
          ],
          [
           0.1111111111111111,
           "#46039f"
          ],
          [
           0.2222222222222222,
           "#7201a8"
          ],
          [
           0.3333333333333333,
           "#9c179e"
          ],
          [
           0.4444444444444444,
           "#bd3786"
          ],
          [
           0.5555555555555556,
           "#d8576b"
          ],
          [
           0.6666666666666666,
           "#ed7953"
          ],
          [
           0.7777777777777778,
           "#fb9f3a"
          ],
          [
           0.8888888888888888,
           "#fdca26"
          ],
          [
           1,
           "#f0f921"
          ]
         ]
        },
        "margin": {
         "t": 60
        },
        "template": {
         "data": {
          "bar": [
           {
            "error_x": {
             "color": "#2a3f5f"
            },
            "error_y": {
             "color": "#2a3f5f"
            },
            "marker": {
             "line": {
              "color": "#E5ECF6",
              "width": 0.5
             }
            },
            "type": "bar"
           }
          ],
          "barpolar": [
           {
            "marker": {
             "line": {
              "color": "#E5ECF6",
              "width": 0.5
             }
            },
            "type": "barpolar"
           }
          ],
          "carpet": [
           {
            "aaxis": {
             "endlinecolor": "#2a3f5f",
             "gridcolor": "white",
             "linecolor": "white",
             "minorgridcolor": "white",
             "startlinecolor": "#2a3f5f"
            },
            "baxis": {
             "endlinecolor": "#2a3f5f",
             "gridcolor": "white",
             "linecolor": "white",
             "minorgridcolor": "white",
             "startlinecolor": "#2a3f5f"
            },
            "type": "carpet"
           }
          ],
          "choropleth": [
           {
            "colorbar": {
             "outlinewidth": 0,
             "ticks": ""
            },
            "type": "choropleth"
           }
          ],
          "contour": [
           {
            "colorbar": {
             "outlinewidth": 0,
             "ticks": ""
            },
            "colorscale": [
             [
              0,
              "#0d0887"
             ],
             [
              0.1111111111111111,
              "#46039f"
             ],
             [
              0.2222222222222222,
              "#7201a8"
             ],
             [
              0.3333333333333333,
              "#9c179e"
             ],
             [
              0.4444444444444444,
              "#bd3786"
             ],
             [
              0.5555555555555556,
              "#d8576b"
             ],
             [
              0.6666666666666666,
              "#ed7953"
             ],
             [
              0.7777777777777778,
              "#fb9f3a"
             ],
             [
              0.8888888888888888,
              "#fdca26"
             ],
             [
              1,
              "#f0f921"
             ]
            ],
            "type": "contour"
           }
          ],
          "contourcarpet": [
           {
            "colorbar": {
             "outlinewidth": 0,
             "ticks": ""
            },
            "type": "contourcarpet"
           }
          ],
          "heatmap": [
           {
            "colorbar": {
             "outlinewidth": 0,
             "ticks": ""
            },
            "colorscale": [
             [
              0,
              "#0d0887"
             ],
             [
              0.1111111111111111,
              "#46039f"
             ],
             [
              0.2222222222222222,
              "#7201a8"
             ],
             [
              0.3333333333333333,
              "#9c179e"
             ],
             [
              0.4444444444444444,
              "#bd3786"
             ],
             [
              0.5555555555555556,
              "#d8576b"
             ],
             [
              0.6666666666666666,
              "#ed7953"
             ],
             [
              0.7777777777777778,
              "#fb9f3a"
             ],
             [
              0.8888888888888888,
              "#fdca26"
             ],
             [
              1,
              "#f0f921"
             ]
            ],
            "type": "heatmap"
           }
          ],
          "heatmapgl": [
           {
            "colorbar": {
             "outlinewidth": 0,
             "ticks": ""
            },
            "colorscale": [
             [
              0,
              "#0d0887"
             ],
             [
              0.1111111111111111,
              "#46039f"
             ],
             [
              0.2222222222222222,
              "#7201a8"
             ],
             [
              0.3333333333333333,
              "#9c179e"
             ],
             [
              0.4444444444444444,
              "#bd3786"
             ],
             [
              0.5555555555555556,
              "#d8576b"
             ],
             [
              0.6666666666666666,
              "#ed7953"
             ],
             [
              0.7777777777777778,
              "#fb9f3a"
             ],
             [
              0.8888888888888888,
              "#fdca26"
             ],
             [
              1,
              "#f0f921"
             ]
            ],
            "type": "heatmapgl"
           }
          ],
          "histogram": [
           {
            "marker": {
             "colorbar": {
              "outlinewidth": 0,
              "ticks": ""
             }
            },
            "type": "histogram"
           }
          ],
          "histogram2d": [
           {
            "colorbar": {
             "outlinewidth": 0,
             "ticks": ""
            },
            "colorscale": [
             [
              0,
              "#0d0887"
             ],
             [
              0.1111111111111111,
              "#46039f"
             ],
             [
              0.2222222222222222,
              "#7201a8"
             ],
             [
              0.3333333333333333,
              "#9c179e"
             ],
             [
              0.4444444444444444,
              "#bd3786"
             ],
             [
              0.5555555555555556,
              "#d8576b"
             ],
             [
              0.6666666666666666,
              "#ed7953"
             ],
             [
              0.7777777777777778,
              "#fb9f3a"
             ],
             [
              0.8888888888888888,
              "#fdca26"
             ],
             [
              1,
              "#f0f921"
             ]
            ],
            "type": "histogram2d"
           }
          ],
          "histogram2dcontour": [
           {
            "colorbar": {
             "outlinewidth": 0,
             "ticks": ""
            },
            "colorscale": [
             [
              0,
              "#0d0887"
             ],
             [
              0.1111111111111111,
              "#46039f"
             ],
             [
              0.2222222222222222,
              "#7201a8"
             ],
             [
              0.3333333333333333,
              "#9c179e"
             ],
             [
              0.4444444444444444,
              "#bd3786"
             ],
             [
              0.5555555555555556,
              "#d8576b"
             ],
             [
              0.6666666666666666,
              "#ed7953"
             ],
             [
              0.7777777777777778,
              "#fb9f3a"
             ],
             [
              0.8888888888888888,
              "#fdca26"
             ],
             [
              1,
              "#f0f921"
             ]
            ],
            "type": "histogram2dcontour"
           }
          ],
          "mesh3d": [
           {
            "colorbar": {
             "outlinewidth": 0,
             "ticks": ""
            },
            "type": "mesh3d"
           }
          ],
          "parcoords": [
           {
            "line": {
             "colorbar": {
              "outlinewidth": 0,
              "ticks": ""
             }
            },
            "type": "parcoords"
           }
          ],
          "pie": [
           {
            "automargin": true,
            "type": "pie"
           }
          ],
          "scatter": [
           {
            "marker": {
             "colorbar": {
              "outlinewidth": 0,
              "ticks": ""
             }
            },
            "type": "scatter"
           }
          ],
          "scatter3d": [
           {
            "line": {
             "colorbar": {
              "outlinewidth": 0,
              "ticks": ""
             }
            },
            "marker": {
             "colorbar": {
              "outlinewidth": 0,
              "ticks": ""
             }
            },
            "type": "scatter3d"
           }
          ],
          "scattercarpet": [
           {
            "marker": {
             "colorbar": {
              "outlinewidth": 0,
              "ticks": ""
             }
            },
            "type": "scattercarpet"
           }
          ],
          "scattergeo": [
           {
            "marker": {
             "colorbar": {
              "outlinewidth": 0,
              "ticks": ""
             }
            },
            "type": "scattergeo"
           }
          ],
          "scattergl": [
           {
            "marker": {
             "colorbar": {
              "outlinewidth": 0,
              "ticks": ""
             }
            },
            "type": "scattergl"
           }
          ],
          "scattermapbox": [
           {
            "marker": {
             "colorbar": {
              "outlinewidth": 0,
              "ticks": ""
             }
            },
            "type": "scattermapbox"
           }
          ],
          "scatterpolar": [
           {
            "marker": {
             "colorbar": {
              "outlinewidth": 0,
              "ticks": ""
             }
            },
            "type": "scatterpolar"
           }
          ],
          "scatterpolargl": [
           {
            "marker": {
             "colorbar": {
              "outlinewidth": 0,
              "ticks": ""
             }
            },
            "type": "scatterpolargl"
           }
          ],
          "scatterternary": [
           {
            "marker": {
             "colorbar": {
              "outlinewidth": 0,
              "ticks": ""
             }
            },
            "type": "scatterternary"
           }
          ],
          "surface": [
           {
            "colorbar": {
             "outlinewidth": 0,
             "ticks": ""
            },
            "colorscale": [
             [
              0,
              "#0d0887"
             ],
             [
              0.1111111111111111,
              "#46039f"
             ],
             [
              0.2222222222222222,
              "#7201a8"
             ],
             [
              0.3333333333333333,
              "#9c179e"
             ],
             [
              0.4444444444444444,
              "#bd3786"
             ],
             [
              0.5555555555555556,
              "#d8576b"
             ],
             [
              0.6666666666666666,
              "#ed7953"
             ],
             [
              0.7777777777777778,
              "#fb9f3a"
             ],
             [
              0.8888888888888888,
              "#fdca26"
             ],
             [
              1,
              "#f0f921"
             ]
            ],
            "type": "surface"
           }
          ],
          "table": [
           {
            "cells": {
             "fill": {
              "color": "#EBF0F8"
             },
             "line": {
              "color": "white"
             }
            },
            "header": {
             "fill": {
              "color": "#C8D4E3"
             },
             "line": {
              "color": "white"
             }
            },
            "type": "table"
           }
          ]
         },
         "layout": {
          "annotationdefaults": {
           "arrowcolor": "#2a3f5f",
           "arrowhead": 0,
           "arrowwidth": 1
          },
          "autotypenumbers": "strict",
          "coloraxis": {
           "colorbar": {
            "outlinewidth": 0,
            "ticks": ""
           }
          },
          "colorscale": {
           "diverging": [
            [
             0,
             "#8e0152"
            ],
            [
             0.1,
             "#c51b7d"
            ],
            [
             0.2,
             "#de77ae"
            ],
            [
             0.3,
             "#f1b6da"
            ],
            [
             0.4,
             "#fde0ef"
            ],
            [
             0.5,
             "#f7f7f7"
            ],
            [
             0.6,
             "#e6f5d0"
            ],
            [
             0.7,
             "#b8e186"
            ],
            [
             0.8,
             "#7fbc41"
            ],
            [
             0.9,
             "#4d9221"
            ],
            [
             1,
             "#276419"
            ]
           ],
           "sequential": [
            [
             0,
             "#0d0887"
            ],
            [
             0.1111111111111111,
             "#46039f"
            ],
            [
             0.2222222222222222,
             "#7201a8"
            ],
            [
             0.3333333333333333,
             "#9c179e"
            ],
            [
             0.4444444444444444,
             "#bd3786"
            ],
            [
             0.5555555555555556,
             "#d8576b"
            ],
            [
             0.6666666666666666,
             "#ed7953"
            ],
            [
             0.7777777777777778,
             "#fb9f3a"
            ],
            [
             0.8888888888888888,
             "#fdca26"
            ],
            [
             1,
             "#f0f921"
            ]
           ],
           "sequentialminus": [
            [
             0,
             "#0d0887"
            ],
            [
             0.1111111111111111,
             "#46039f"
            ],
            [
             0.2222222222222222,
             "#7201a8"
            ],
            [
             0.3333333333333333,
             "#9c179e"
            ],
            [
             0.4444444444444444,
             "#bd3786"
            ],
            [
             0.5555555555555556,
             "#d8576b"
            ],
            [
             0.6666666666666666,
             "#ed7953"
            ],
            [
             0.7777777777777778,
             "#fb9f3a"
            ],
            [
             0.8888888888888888,
             "#fdca26"
            ],
            [
             1,
             "#f0f921"
            ]
           ]
          },
          "colorway": [
           "#636efa",
           "#EF553B",
           "#00cc96",
           "#ab63fa",
           "#FFA15A",
           "#19d3f3",
           "#FF6692",
           "#B6E880",
           "#FF97FF",
           "#FECB52"
          ],
          "font": {
           "color": "#2a3f5f"
          },
          "geo": {
           "bgcolor": "white",
           "lakecolor": "white",
           "landcolor": "#E5ECF6",
           "showlakes": true,
           "showland": true,
           "subunitcolor": "white"
          },
          "hoverlabel": {
           "align": "left"
          },
          "hovermode": "closest",
          "mapbox": {
           "style": "light"
          },
          "paper_bgcolor": "white",
          "plot_bgcolor": "#E5ECF6",
          "polar": {
           "angularaxis": {
            "gridcolor": "white",
            "linecolor": "white",
            "ticks": ""
           },
           "bgcolor": "#E5ECF6",
           "radialaxis": {
            "gridcolor": "white",
            "linecolor": "white",
            "ticks": ""
           }
          },
          "scene": {
           "xaxis": {
            "backgroundcolor": "#E5ECF6",
            "gridcolor": "white",
            "gridwidth": 2,
            "linecolor": "white",
            "showbackground": true,
            "ticks": "",
            "zerolinecolor": "white"
           },
           "yaxis": {
            "backgroundcolor": "#E5ECF6",
            "gridcolor": "white",
            "gridwidth": 2,
            "linecolor": "white",
            "showbackground": true,
            "ticks": "",
            "zerolinecolor": "white"
           },
           "zaxis": {
            "backgroundcolor": "#E5ECF6",
            "gridcolor": "white",
            "gridwidth": 2,
            "linecolor": "white",
            "showbackground": true,
            "ticks": "",
            "zerolinecolor": "white"
           }
          },
          "shapedefaults": {
           "line": {
            "color": "#2a3f5f"
           }
          },
          "ternary": {
           "aaxis": {
            "gridcolor": "white",
            "linecolor": "white",
            "ticks": ""
           },
           "baxis": {
            "gridcolor": "white",
            "linecolor": "white",
            "ticks": ""
           },
           "bgcolor": "#E5ECF6",
           "caxis": {
            "gridcolor": "white",
            "linecolor": "white",
            "ticks": ""
           }
          },
          "title": {
           "x": 0.05
          },
          "xaxis": {
           "automargin": true,
           "gridcolor": "white",
           "linecolor": "white",
           "ticks": "",
           "title": {
            "standoff": 15
           },
           "zerolinecolor": "white",
           "zerolinewidth": 2
          },
          "yaxis": {
           "automargin": true,
           "gridcolor": "white",
           "linecolor": "white",
           "ticks": "",
           "title": {
            "standoff": 15
           },
           "zerolinecolor": "white",
           "zerolinewidth": 2
          }
         }
        },
        "xaxis": {
         "anchor": "y",
         "constrain": "domain",
         "domain": [
          0,
          1
         ],
         "scaleanchor": "y"
        },
        "yaxis": {
         "anchor": "x",
         "autorange": "reversed",
         "constrain": "domain",
         "domain": [
          0,
          1
         ]
        }
       }
      },
      "text/html": [
       "<div>                            <div id=\"37f00a1c-7e26-491a-890d-fa73749aec7f\" class=\"plotly-graph-div\" style=\"height:525px; width:100%;\"></div>            <script type=\"text/javascript\">                require([\"plotly\"], function(Plotly) {                    window.PLOTLYENV=window.PLOTLYENV || {};                                    if (document.getElementById(\"37f00a1c-7e26-491a-890d-fa73749aec7f\")) {                    Plotly.newPlot(                        \"37f00a1c-7e26-491a-890d-fa73749aec7f\",                        [{\"coloraxis\": \"coloraxis\", \"hovertemplate\": \"x: %{x}<br>y: %{y}<br>color: %{z}<extra></extra>\", \"name\": \"0\", \"type\": \"heatmap\", \"x\": [\"distance\", \"consume\", \"speed\", \"temp_inside\", \"temp_outside\", \"AC\", \"E10\", \"SP98\"], \"xaxis\": \"x\", \"y\": [0, 1, 2, 3, 4, 5, 6, 7, 8, 9, 10, 11, 12, 13, 14, 15, 16, 17, 18, 19, 20, 21, 22, 23, 24, 25, 26, 27, 28, 29, 30, 31, 32, 33, 34, 35, 36, 37, 38, 39, 40, 41, 42, 43, 44, 45, 46, 47, 48, 49, 50, 51, 52, 53, 54, 55, 56, 57, 58, 59, 60, 61, 62, 63, 64, 65, 66, 67, 68, 69, 70, 71, 72, 73, 74, 75, 76, 77, 78, 79, 80, 81, 82, 83, 84, 85, 86, 87, 88, 89, 90, 91, 92, 93, 94, 95, 96, 97, 98, 99, 100, 101, 102, 103, 104, 105, 106, 107, 108, 109, 110, 111, 112, 113, 114, 115, 116, 117, 118, 119, 120, 121, 122, 123, 124, 125, 126, 127, 128, 129, 130, 131, 132, 133, 134, 135, 136, 137, 138, 139, 140, 141, 142, 143, 144, 145, 146, 147, 148, 149, 150, 151, 152, 153, 154, 155, 156, 157, 158, 159, 160, 161, 162, 163, 164, 165, 166, 167, 168, 169, 170, 171, 172, 173, 174, 175, 176, 177, 178, 179, 180, 181, 182, 183, 184, 185, 186, 187, 188, 189, 190, 191, 192, 193, 194, 195, 196, 197, 198, 199, 200, 201, 202, 203, 204, 205, 206, 207, 208, 209, 210, 211, 212, 213, 214, 215, 216, 217, 218, 219, 220, 221, 222, 223, 224, 225, 226, 227, 228, 229, 230, 231, 232, 233, 234, 235, 236, 237, 238, 239, 240, 241, 242, 243, 244, 245, 246, 247, 248, 249, 250, 251, 252, 253, 254, 255, 256, 257, 258, 259, 260, 261, 262, 263, 264, 265, 266, 267, 268, 269, 270, 271, 272, 273, 274, 275, 276, 277, 278, 279, 280, 281, 282, 283, 284, 285, 286, 287, 288, 289, 290, 291, 292, 293, 294, 295, 296, 297, 298, 299, 300, 301, 302, 303, 304, 305, 306, 307, 308, 309, 310, 311, 312, 313, 314, 315, 316, 317, 318, 319, 320, 321, 322, 323, 324, 325, 326, 327, 328, 329, 330, 331, 332, 333, 334, 335, 336, 337, 338, 339, 340, 341, 342, 343, 344, 345, 346, 347, 348, 349, 350, 351, 352, 353, 354, 355, 356, 357, 358, 359, 360, 361, 362, 363, 364, 365, 366, 367, 368, 369, 370, 371, 372, 373, 374, 375, 376, 377, 378, 379, 380, 381, 382, 383, 384, 385, 386, 387], \"yaxis\": \"y\", \"z\": [[28.0, 5.0, 26.0, 21.5, 12.0, 0.0, 1.0, 0.0], [12.0, 4.2, 30.0, 21.5, 13.0, 0.0, 1.0, 0.0], [11.2, 5.5, 38.0, 21.5, 15.0, 0.0, 1.0, 0.0], [12.9, 3.9, 36.0, 21.5, 14.0, 0.0, 1.0, 0.0], [18.5, 4.5, 46.0, 21.5, 15.0, 0.0, 1.0, 0.0], [8.3, 6.4, 50.0, 21.5, 10.0, 0.0, 1.0, 0.0], [7.8, 4.4, 43.0, 21.5, 11.0, 0.0, 1.0, 0.0], [12.3, 5.0, 40.0, 21.5, 6.0, 0.0, 1.0, 0.0], [4.9, 6.4, 26.0, 21.5, 4.0, 0.0, 1.0, 0.0], [11.9, 5.3, 30.0, 21.5, 9.0, 0.0, 1.0, 0.0], [12.4, 5.6, 42.0, 21.5, 4.0, 0.0, 1.0, 0.0], [11.8, 4.6, 38.0, 21.5, 0.0, 0.0, 1.0, 0.0], [12.3, 5.9, 59.0, 21.5, 10.0, 0.0, 1.0, 0.0], [24.7, 5.1, 58.0, 21.5, 12.0, 0.0, 1.0, 0.0], [12.4, 4.7, 46.0, 21.5, 11.0, 0.0, 1.0, 0.0], [17.3, 5.1, 24.0, 21.5, 5.0, 0.0, 1.0, 0.0], [33.4, 5.6, 36.0, 21.5, 3.0, 0.0, 1.0, 0.0], [11.8, 5.1, 32.0, 21.5, 3.0, 0.0, 1.0, 0.0], [25.9, 4.9, 39.0, 21.5, 8.0, 0.0, 1.0, 0.0], [11.8, 4.7, 40.0, 21.5, 4.0, 0.0, 1.0, 0.0], [25.3, 5.5, 32.0, 21.5, 3.0, 0.0, 1.0, 0.0], [14.2, 5.9, 38.0, 21.5, 1.0, 0.0, 1.0, 0.0], [17.9, 5.7, 37.0, 21.5, 1.0, 0.0, 1.0, 0.0], [11.8, 4.7, 36.0, 21.5, 1.0, 0.0, 1.0, 0.0], [12.3, 5.9, 62.0, 21.5, 6.0, 0.0, 1.0, 0.0], [12.4, 4.1, 57.0, 21.5, 9.0, 0.0, 1.0, 0.0], [18.4, 5.7, 21.0, 22.5, 2.0, 0.0, 1.0, 0.0], [18.4, 5.8, 28.0, 21.5, 3.0, 0.0, 1.0, 0.0], [18.3, 5.5, 29.0, 21.5, 1.0, 0.0, 1.0, 0.0], [18.4, 5.7, 35.0, 21.5, 4.0, 0.0, 1.0, 0.0], [12.3, 5.3, 51.0, 21.5, 11.0, 0.0, 1.0, 0.0], [11.8, 5.0, 29.0, 21.5, 10.0, 0.0, 1.0, 0.0], [12.3, 5.6, 58.0, 21.5, 8.0, 0.0, 1.0, 0.0], [32.6, 4.8, 40.0, 21.5, 7.0, 0.0, 1.0, 0.0], [19.0, 4.3, 36.0, 21.5, 7.0, 0.0, 1.0, 0.0], [12.1, 5.7, 36.0, 21.5, 8.0, 0.0, 1.0, 0.0], [20.0, 5.2, 37.0, 21.5, 4.0, 0.0, 1.0, 0.0], [4.9, 7.4, 26.0, 21.5, 6.0, 0.0, 1.0, 0.0], [11.8, 4.8, 23.0, 21.5, 9.0, 0.0, 1.0, 0.0], [12.3, 6.5, 58.0, 21.5, 7.0, 0.0, 1.0, 0.0], [12.4, 4.0, 55.0, 21.5, 7.0, 1.0, 1.0, 0.0], [4.5, 5.0, 29.0, 21.5, 7.0, 1.0, 1.0, 0.0], [11.7, 4.6, 37.0, 21.5, 6.0, 0.0, 1.0, 0.0], [10.2, 4.3, 44.0, 21.5, 7.0, 0.0, 1.0, 0.0], [5.4, 3.3, 32.0, 21.5, 7.0, 0.0, 0.0, 1.0], [2.0, 9.9, 21.0, 21.5, 4.0, 0.0, 0.0, 1.0], [14.2, 5.1, 32.0, 21.5, 7.0, 0.0, 0.0, 1.0], [16.0, 4.9, 25.0, 21.5, 8.0, 0.0, 0.0, 1.0], [11.8, 4.9, 25.0, 21.5, 11.0, 0.0, 0.0, 1.0], [27.3, 4.7, 36.0, 21.5, 10.0, 0.0, 0.0, 1.0], [11.8, 5.1, 29.0, 21.5, 5.0, 0.0, 0.0, 1.0], [10.6, 4.9, 63.0, 21.5, 6.0, 0.0, 0.0, 1.0], [11.6, 4.2, 61.0, 21.5, 7.0, 0.0, 0.0, 1.0], [13.1, 6.1, 46.0, 21.5, 6.0, 0.0, 0.0, 1.0], [6.1, 6.4, 28.0, 21.5, 8.0, 0.0, 0.0, 1.0], [153.5, 4.9, 82.0, 21.5, 3.0, 0.0, 0.0, 1.0], [11.8, 4.9, 24.0, 21.5, 7.0, 0.0, 0.0, 1.0], [12.3, 6.2, 61.0, 21.5, 8.0, 0.0, 0.0, 1.0], [12.4, 4.2, 57.0, 21.5, 8.0, 0.0, 0.0, 1.0], [12.3, 5.7, 52.0, 21.5, 8.0, 0.0, 0.0, 1.0], [2.9, 7.9, 18.0, 21.5, 9.0, 1.0, 0.0, 1.0], [2.1, 12.2, 23.0, 21.5, 9.0, 1.0, 0.0, 1.0], [9.8, 5.8, 24.0, 21.5, 6.0, 0.0, 0.0, 1.0], [6.8, 5.3, 26.0, 21.5, 6.0, 0.0, 0.0, 1.0], [12.4, 5.4, 24.0, 21.5, 7.0, 0.0, 0.0, 1.0], [12.4, 4.7, 57.0, 21.5, 8.0, 0.0, 0.0, 1.0], [11.8, 4.6, 41.0, 21.5, 6.0, 0.0, 0.0, 1.0], [12.3, 5.4, 55.0, 21.5, 8.0, 0.0, 0.0, 1.0], [14.0, 4.3, 40.0, 21.5, 8.0, 0.0, 0.0, 1.0], [11.8, 4.5, 37.0, 21.5, 4.0, 1.0, 0.0, 1.0], [12.3, 5.2, 55.0, 21.5, 12.0, 0.0, 0.0, 1.0], [2.0, 6.2, 20.0, 21.5, 10.0, 0.0, 0.0, 1.0], [13.9, 5.1, 29.0, 21.5, 6.0, 0.0, 0.0, 1.0], [9.7, 3.9, 42.0, 21.5, 8.0, 0.0, 0.0, 1.0], [11.6, 5.0, 25.0, 21.5, 6.0, 0.0, 0.0, 1.0], [14.2, 5.4, 38.0, 21.5, 7.0, 0.0, 0.0, 1.0], [11.8, 4.5, 39.0, 21.5, 6.0, 0.0, 0.0, 1.0], [24.8, 5.1, 50.0, 21.5, 9.0, 0.0, 0.0, 1.0], [12.4, 4.7, 56.0, 21.5, 7.0, 0.0, 0.0, 1.0], [34.8, 4.0, 28.0, 20.0, 4.0, 0.0, 0.0, 1.0], [14.2, 5.4, 36.0, 20.0, 6.0, 0.0, 0.0, 1.0], [5.2, 4.5, 39.0, 20.0, 10.0, 0.0, 0.0, 1.0], [10.5, 3.6, 42.0, 20.0, 10.0, 0.0, 0.0, 1.0], [12.3, 5.2, 57.0, 20.0, 10.0, 0.0, 0.0, 1.0], [11.8, 4.9, 25.0, 20.0, 11.0, 0.0, 0.0, 1.0], [12.3, 6.2, 58.0, 20.0, 11.0, 0.0, 0.0, 1.0], [13.2, 4.3, 51.0, 20.0, 11.0, 0.0, 0.0, 1.0], [13.0, 5.0, 45.0, 20.0, 11.0, 0.0, 0.0, 1.0], [12.9, 5.1, 32.0, 20.0, 11.0, 0.0, 0.0, 1.0], [13.9, 5.6, 22.0, 20.0, 8.0, 0.0, 0.0, 1.0], [11.8, 4.3, 37.0, 20.0, 6.0, 0.0, 0.0, 1.0], [12.2, 5.8, 60.0, 20.0, 11.0, 0.0, 0.0, 1.0], [12.5, 4.0, 51.0, 20.0, 13.0, 0.0, 0.0, 1.0], [12.4, 4.7, 43.0, null, 10.0, 0.0, 0.0, 1.0], [11.8, 5.9, 21.0, 20.0, 9.0, 1.0, 0.0, 1.0], [11.8, 5.3, 52.0, null, 11.0, 0.0, 0.0, 1.0], [12.5, 4.2, 57.0, 20.0, 11.0, 0.0, 0.0, 1.0], [15.7, 5.3, 33.0, null, 9.0, 0.0, 0.0, 1.0], [12.9, 5.7, 35.0, null, 9.0, 0.0, 0.0, 1.0], [6.4, 4.4, 37.0, null, 10.0, 0.0, 0.0, 1.0], [5.3, 4.1, 34.0, null, 9.0, 0.0, 0.0, 1.0], [26.2, 5.8, 71.0, 21.0, 8.0, 1.0, 0.0, 1.0], [18.8, 5.0, 62.0, null, 9.0, 0.0, 0.0, 1.0], [4.9, 6.9, 25.0, 21.0, 12.0, 0.0, 0.0, 1.0], [12.4, 5.4, 18.0, 21.0, 11.0, 1.0, 0.0, 1.0], [22.9, 5.3, 45.0, 20.5, 7.0, 0.0, 0.0, 1.0], [162.7, 5.5, 75.0, 23.0, 1.0, 0.0, 0.0, 1.0], [4.9, 6.5, 26.0, 21.0, 1.0, 0.0, 0.0, 1.0], [11.8, 4.7, 36.0, 21.0, 4.0, 0.0, 0.0, 1.0], [16.6, 5.1, 56.0, 21.0, 7.0, 0.0, 0.0, 1.0], [12.4, 5.7, 37.0, 21.0, 7.0, 0.0, 0.0, 1.0], [15.9, 5.4, 25.0, 21.0, 7.0, 0.0, 0.0, 1.0], [5.1, 8.7, 21.0, 23.5, 5.0, 0.0, 0.0, 1.0], [22.4, 4.9, 66.0, 20.5, 7.0, 0.0, 0.0, 1.0], [31.1, 4.7, 42.0, 20.5, 7.0, 0.0, 0.0, 1.0], [4.9, 6.3, 27.0, 20.5, 3.0, 0.0, 0.0, 1.0], [11.8, 5.1, 26.0, 23.0, 4.0, 0.0, 0.0, 1.0], [22.9, 6.0, 42.0, 23.0, 4.0, 0.0, 0.0, 1.0], [12.4, 4.6, 38.0, 23.0, 1.0, 0.0, 0.0, 1.0], [12.9, 5.8, 40.0, 23.0, 4.0, 0.0, 0.0, 1.0], [11.8, 5.1, 43.0, 23.0, 0.0, 0.0, 0.0, 1.0], [12.2, 5.8, 58.0, 23.0, 2.0, 0.0, 0.0, 1.0], [24.8, 4.6, 55.0, 23.0, 3.0, 0.0, 0.0, 1.0], [14.2, 5.6, 24.0, 23.0, 8.0, 0.0, 0.0, 1.0], [11.8, 4.6, 38.0, 23.0, 0.0, 0.0, 0.0, 1.0], [12.2, 6.3, 57.0, 23.0, 0.0, 0.0, 0.0, 1.0], [24.7, 5.5, 56.0, 25.0, 1.0, 0.0, 0.0, 1.0], [6.8, 4.3, 46.0, 24.0, 2.0, 0.0, 0.0, 1.0], [17.3, 5.6, 37.0, 21.5, 1.0, 0.0, 0.0, 1.0], [11.8, 4.3, 44.0, 21.5, -3.0, 0.0, 0.0, 1.0], [15.9, 5.7, 46.0, 21.5, 5.0, 0.0, 0.0, 1.0], [5.1, 6.4, 39.0, 21.5, 4.0, 0.0, 0.0, 1.0], [16.1, 4.5, 33.0, 21.5, 6.0, 0.0, 0.0, 1.0], [11.8, 4.5, 43.0, 21.5, 3.0, 0.0, 0.0, 1.0], [4.2, 6.0, 26.0, 21.5, 5.0, 0.0, 0.0, 1.0], [17.4, 5.1, 30.0, 21.5, 5.0, 0.0, 0.0, 1.0], [23.5, 6.0, 25.0, 21.5, 5.0, 0.0, 0.0, 1.0], [11.8, 4.5, 38.0, 21.5, 5.0, 0.0, 0.0, 1.0], [12.3, 6.1, 61.0, 21.5, 10.0, 0.0, 0.0, 1.0], [16.1, 5.4, 24.0, 21.5, 7.0, 0.0, 1.0, 0.0], [11.8, 4.3, 40.0, 21.5, 10.0, 0.0, 1.0, 0.0], [12.3, 5.4, 58.0, 21.5, 13.0, 0.0, 1.0, 0.0], [12.4, 4.3, 49.0, 21.5, 17.0, 0.0, 1.0, 0.0], [7.0, 5.2, 25.0, 21.5, 17.0, 0.0, 1.0, 0.0], [11.8, 4.1, 37.0, 21.5, 10.0, 0.0, 1.0, 0.0], [20.1, 4.4, 41.0, 21.5, 18.0, 0.0, 1.0, 0.0], [20.8, 4.5, 45.0, 21.5, 10.0, 0.0, 1.0, 0.0], [1.7, 10.8, 14.0, 21.5, 10.0, 0.0, 1.0, 0.0], [35.9, 4.7, 45.0, 21.5, 12.0, 0.0, 1.0, 0.0], [36.9, 4.8, 52.0, 21.5, 5.0, 0.0, 1.0, 0.0], [16.8, 4.0, 46.0, 21.5, 8.0, 0.0, 1.0, 0.0], [9.9, 5.0, 28.0, 21.5, 9.0, 0.0, 1.0, 0.0], [22.9, 4.6, 61.0, 21.5, 7.0, 0.0, 1.0, 0.0], [17.3, 5.0, 61.0, 21.5, 6.0, 1.0, 1.0, 0.0], [11.8, 4.3, 37.0, 21.5, 7.0, 0.0, 1.0, 0.0], [36.6, 5.2, 80.0, 21.5, 7.0, 0.0, 1.0, 0.0], [44.9, 4.7, 62.0, 21.5, 8.0, 0.0, 1.0, 0.0], [11.8, 4.2, 34.0, 21.5, 9.0, 0.0, 1.0, 0.0], [21.6, 5.3, 44.0, 21.5, 9.0, 0.0, 1.0, 0.0], [39.4, 5.3, 60.0, 21.5, 9.0, 0.0, 1.0, 0.0], [5.1, 8.1, 39.0, 21.5, 4.0, 0.0, 1.0, 0.0], [26.6, 4.8, 38.0, 21.5, 7.0, 0.0, 1.0, 0.0], [53.2, 5.1, 71.0, 21.5, 2.0, 0.0, 1.0, 0.0], [18.9, 4.4, 53.0, 21.5, 2.0, 0.0, 1.0, 0.0], [43.5, 5.0, 80.0, 21.5, 3.0, 0.0, 1.0, 0.0], [6.1, 6.3, 26.0, 21.5, 5.0, 0.0, 1.0, 0.0], [16.4, 4.8, 49.0, 21.5, 5.0, 0.0, 1.0, 0.0], [12.3, 6.1, 40.0, 21.5, 6.0, 0.0, 1.0, 0.0], [21.1, 4.6, 36.0, 21.5, 8.0, 0.0, 1.0, 0.0], [21.1, 4.8, 43.0, 21.5, 7.0, 0.0, 1.0, 0.0], [22.7, 4.7, 55.0, 21.5, 6.0, 0.0, 1.0, 0.0], [44.4, 4.8, 38.0, 21.5, 8.0, 0.0, 1.0, 0.0], [35.8, 4.4, 51.0, 21.5, 6.0, 0.0, 1.0, 0.0], [11.8, 4.9, 44.0, 21.5, 0.0, 0.0, 1.0, 0.0], [26.2, 4.9, 42.0, 21.5, 6.0, 0.0, 1.0, 0.0], [40.6, 4.4, 44.0, 21.0, 3.0, 0.0, 1.0, 0.0], [12.4, 5.3, 38.0, 21.0, -5.0, 0.0, 1.0, 0.0], [14.1, 5.3, 47.0, 21.0, -3.0, 0.0, 1.0, 0.0], [58.7, 4.8, 75.0, 21.0, 0.0, 0.0, 1.0, 0.0], [16.2, 5.2, 29.0, 21.0, 0.0, 0.0, 1.0, 0.0], [12.3, 4.9, 50.0, 22.5, 0.0, 0.0, 1.0, 0.0], [12.3, 7.1, 52.0, 22.5, 0.0, 1.0, 1.0, 0.0], [12.4, 5.2, 51.0, 22.5, 1.0, 0.0, 1.0, 0.0], [31.8, 4.7, 59.0, 22.5, 3.0, 0.0, 1.0, 0.0], [12.3, 5.1, 55.0, 22.5, 8.0, 0.0, 1.0, 0.0], [51.6, 5.0, 73.0, 22.5, 12.0, 0.0, 1.0, 0.0], [38.6, 4.6, 44.0, 22.5, 10.0, 0.0, 1.0, 0.0], [12.3, 4.8, 41.0, 22.5, 7.0, 0.0, 1.0, 0.0], [81.2, 4.4, 69.0, 22.0, 13.0, 0.0, 1.0, 0.0], [130.3, 4.6, 85.0, 22.0, 12.0, 0.0, 1.0, 0.0], [67.2, 4.3, 67.0, 22.0, 18.0, 0.0, 1.0, 0.0], [43.7, 4.7, 44.0, 22.0, 9.0, 0.0, 0.0, 1.0], [12.1, 4.2, 43.0, 22.0, 4.0, 0.0, 0.0, 1.0], [56.1, 4.8, 82.0, 22.0, 13.0, 0.0, 0.0, 1.0], [39.0, 4.1, 61.0, 22.0, 16.0, 0.0, 0.0, 1.0], [11.8, 4.5, 41.0, 21.5, 13.0, 0.0, 0.0, 1.0], [38.5, 4.8, 63.0, 21.5, 14.0, 0.0, 0.0, 1.0], [28.2, 4.6, 54.0, 21.5, 14.0, 0.0, 0.0, 1.0], [2.9, 7.4, 24.0, 21.5, 14.0, 0.0, 0.0, 1.0], [6.1, 5.6, 24.0, 21.5, 13.0, 0.0, 0.0, 1.0], [19.6, 4.9, 43.0, 21.5, 13.0, 0.0, 0.0, 1.0], [22.2, 3.8, 42.0, null, 15.0, 0.0, 0.0, 1.0], [13.6, 4.5, 44.0, 19.0, 18.0, 0.0, 0.0, 1.0], [12.6, 4.1, 33.0, null, 17.0, 0.0, 0.0, 1.0], [8.7, 5.3, 28.0, 22.5, 12.0, 1.0, 0.0, 1.0], [7.9, 4.7, 31.0, 22.5, 12.0, 1.0, 0.0, 1.0], [2.4, 9.0, 26.0, 20.0, 10.0, 0.0, 0.0, 1.0], [4.9, 6.3, 26.0, 20.0, 10.0, 0.0, 0.0, 1.0], [18.1, 3.6, 36.0, 20.0, 19.0, 0.0, 0.0, 1.0], [25.9, 3.7, 39.0, 20.0, 21.0, 0.0, 0.0, 1.0], [1.3, 11.5, 21.0, 20.0, 10.0, 0.0, 0.0, 1.0], [14.1, 5.0, 22.0, 20.0, 12.0, 0.0, 0.0, 1.0], [13.4, 5.5, 31.0, 20.0, 9.0, 0.0, 0.0, 1.0], [6.4, 4.7, 33.0, 20.0, 8.0, 0.0, 0.0, 1.0], [12.9, 4.5, 42.0, 20.0, 13.0, 0.0, 0.0, 1.0], [12.1, 4.4, 33.0, 22.5, 5.0, 0.0, 0.0, 1.0], [15.7, 4.1, 32.0, 22.5, 13.0, 0.0, 0.0, 1.0], [16.2, 4.4, 26.0, 22.5, 11.0, 0.0, 0.0, 1.0], [12.8, 4.6, 22.0, 22.5, 12.0, 0.0, 0.0, 1.0], [19.0, 4.4, 58.0, 22.5, 17.0, 0.0, 0.0, 1.0], [29.0, 4.0, 27.0, 22.5, 12.0, 0.0, 0.0, 1.0], [12.1, 5.0, 32.0, 22.5, 9.0, 0.0, 0.0, 1.0], [12.3, 5.2, 55.0, 22.5, 10.0, 0.0, 0.0, 1.0], [24.8, 4.0, 56.0, 22.5, 11.0, 0.0, 0.0, 1.0], [12.9, 5.1, 34.0, 22.5, 8.0, 0.0, 0.0, 1.0], [11.8, 4.5, 39.0, 22.5, 3.0, 0.0, 0.0, 1.0], [31.4, 4.6, 62.0, 22.5, 11.0, 0.0, 0.0, 1.0], [19.0, 5.1, 53.0, 22.5, 4.0, 0.0, 0.0, 1.0], [13.0, 5.7, 38.0, 22.5, 3.0, 1.0, 0.0, 1.0], [11.8, 4.8, 42.0, 22.5, 2.0, 0.0, 0.0, 1.0], [13.0, 6.2, 32.0, 22.5, 4.0, 0.0, 0.0, 1.0], [11.8, 5.0, 43.0, 22.5, 1.0, 0.0, 0.0, 1.0], [27.1, 5.0, 69.0, 22.5, 8.0, 0.0, 0.0, 1.0], [5.2, 4.6, 38.0, 22.5, 8.0, 0.0, 0.0, 1.0], [19.0, 4.5, 29.0, 22.5, 10.0, 0.0, 1.0, 0.0], [12.4, 4.8, 38.0, 22.5, 1.0, 0.0, 1.0, 0.0], [25.2, 5.0, 55.0, 22.5, 9.0, 0.0, 1.0, 0.0], [14.3, 4.8, 36.0, 22.5, 10.0, 0.0, 1.0, 0.0], [11.8, 4.6, 40.0, 22.5, 2.0, 0.0, 1.0, 0.0], [16.9, 4.5, 48.0, 22.5, 9.0, 0.0, 1.0, 0.0], [12.4, 4.6, 55.0, 22.5, 11.0, 0.0, 1.0, 0.0], [17.4, 4.4, 36.0, 22.5, 12.0, 0.0, 1.0, 0.0], [9.2, 5.7, 33.0, 22.5, 8.0, 0.0, 1.0, 0.0], [12.3, 5.8, 54.0, 22.5, 10.0, 0.0, 1.0, 0.0], [13.0, 5.9, 32.0, 22.5, 10.0, 0.0, 1.0, 0.0], [11.8, 6.1, 16.0, 22.5, 6.0, 0.0, 1.0, 0.0], [13.0, 5.7, 37.0, 22.5, 11.0, 0.0, 1.0, 0.0], [12.3, 5.0, 42.0, 22.5, 10.0, 0.0, 1.0, 0.0], [12.3, 5.2, 57.0, 22.5, 15.0, 0.0, 1.0, 0.0], [12.5, 4.3, 57.0, 22.5, 16.0, 0.0, 1.0, 0.0], [31.5, 4.1, 30.0, 22.5, 16.0, 0.0, 1.0, 0.0], [11.8, 4.4, 42.0, 22.5, 8.0, 0.0, 1.0, 0.0], [24.9, 4.5, 53.0, 22.5, 14.0, 0.0, 1.0, 0.0], [17.0, 3.9, 46.0, 22.5, 14.0, 0.0, 1.0, 0.0], [2.0, 8.1, 20.0, 22.5, 14.0, 0.0, 1.0, 0.0], [11.8, 4.4, 33.0, 22.5, 8.0, 0.0, 1.0, 0.0], [7.4, 5.0, 31.0, 22.5, 12.0, 0.0, 1.0, 0.0], [12.4, 4.7, 55.0, 22.5, 14.0, 0.0, 1.0, 0.0], [2.0, 6.0, 22.0, 22.5, 14.0, 0.0, 1.0, 0.0], [14.0, 5.0, 41.0, 22.5, 8.0, 0.0, 1.0, 0.0], [25.7, 5.0, 45.0, 22.5, 7.0, 0.0, 1.0, 0.0], [24.5, 3.9, 50.0, null, 15.0, 0.0, 1.0, 0.0], [11.8, 4.5, 28.0, 22.5, 12.0, 0.0, 1.0, 0.0], [4.1, 5.4, 24.0, 22.5, 13.0, 0.0, 1.0, 0.0], [4.2, 5.6, 29.0, 22.0, 17.0, 0.0, 1.0, 0.0], [4.2, 3.9, 29.0, 22.0, 18.0, 0.0, 1.0, 0.0], [16.0, 4.0, 40.0, 22.0, 10.0, 0.0, 1.0, 0.0], [22.9, 4.0, 29.0, null, 21.0, 0.0, 1.0, 0.0], [16.0, 3.8, 42.0, null, 8.0, 0.0, 1.0, 0.0], [15.4, 4.5, 50.0, 22.0, 14.0, 0.0, 1.0, 0.0], [16.0, 3.8, 41.0, 22.0, 12.0, 0.0, 1.0, 0.0], [4.2, 5.6, 32.0, 22.0, 18.0, 0.0, 1.0, 0.0], [101.9, 5.2, 75.0, 22.0, 18.0, 0.0, 1.0, 0.0], [93.9, 4.8, 88.0, 23.0, 18.0, 1.0, 1.0, 0.0], [25.7, 4.9, 50.0, 22.0, 10.0, 0.0, 0.0, 1.0], [16.0, 4.1, 40.0, 22.0, 10.0, 0.0, 0.0, 1.0], [16.1, 4.5, 32.0, 22.0, 19.0, 0.0, 0.0, 1.0], [16.0, 4.4, 40.0, 22.0, 7.0, 1.0, 0.0, 1.0], [16.0, 4.5, 41.0, 22.0, 11.0, 0.0, 0.0, 1.0], [24.7, 4.5, 26.0, 22.0, 10.0, 0.0, 0.0, 1.0], [16.0, 3.9, 42.0, 22.0, 8.0, 0.0, 0.0, 1.0], [15.4, 4.6, 43.0, 22.0, 16.0, 0.0, 0.0, 1.0], [16.0, 3.8, 40.0, 22.0, 8.0, 0.0, 0.0, 1.0], [32.1, 4.5, 50.0, 22.0, 16.0, 0.0, 0.0, 1.0], [25.9, 4.4, 40.0, 22.0, 14.0, 0.0, 0.0, 1.0], [48.6, 4.3, 44.0, 22.0, 12.0, 0.0, 0.0, 1.0], [37.2, 4.0, 45.0, 22.0, 20.0, 0.0, 0.0, 1.0], [28.8, 3.9, 35.0, 22.0, 15.0, 0.0, 0.0, 1.0], [6.7, 5.0, 30.0, 22.0, 17.0, 0.0, 0.0, 1.0], [7.4, 4.1, 25.0, 22.0, 18.0, 0.0, 0.0, 1.0], [17.3, 4.1, 22.0, 22.0, 25.0, 0.0, 0.0, 1.0], [6.6, 5.6, 43.0, 22.0, 16.0, 0.0, 0.0, 1.0], [14.3, 4.1, 26.0, 22.0, 20.0, 0.0, 0.0, 1.0], [13.3, 4.6, 33.0, 22.0, 18.0, 0.0, 0.0, 1.0], [8.3, 4.9, 26.0, 22.0, 23.0, 0.0, 0.0, 1.0], [12.7, 4.5, 39.0, 22.0, 27.0, 0.0, 0.0, 1.0], [16.5, 4.1, 47.0, 22.0, 14.0, 0.0, 0.0, 1.0], [20.6, 4.1, 38.0, 22.0, 21.0, 0.0, 0.0, 1.0], [16.3, 4.5, 58.0, 22.0, 16.0, 0.0, 0.0, 1.0], [18.7, 4.2, 65.0, 25.0, 18.0, 1.0, 0.0, 1.0], [36.5, 3.9, 54.0, 23.0, 18.0, 0.0, 0.0, 1.0], [19.0, 5.0, 35.0, 22.0, 15.0, 1.0, 0.0, 1.0], [16.6, 4.4, 46.0, 22.0, 5.0, 1.0, 0.0, 1.0], [29.9, 4.5, 32.0, 22.0, 18.0, 1.0, 0.0, 1.0], [16.0, 3.8, 42.0, 22.0, 11.0, 0.0, 0.0, 1.0], [21.1, 5.1, 33.0, 22.0, 10.0, 0.0, 0.0, 1.0], [16.0, 3.9, 40.0, 22.0, 10.0, 0.0, 0.0, 1.0], [11.9, 5.3, 34.0, 22.0, 13.0, 0.0, 0.0, 1.0], [10.1, 4.2, 35.0, 22.0, 16.0, 0.0, 0.0, 1.0], [31.9, 4.3, 33.0, 22.0, 16.0, 0.0, 0.0, 1.0], [18.7, 4.0, 60.0, 22.0, 13.0, 0.0, 0.0, 1.0], [10.8, 4.7, 48.0, 22.0, 17.0, 0.0, 0.0, 1.0], [19.8, 4.0, 56.0, 22.0, 17.0, 0.0, 0.0, 1.0], [11.3, 4.3, 38.0, 22.0, 17.0, 0.0, 0.0, 1.0], [11.5, 5.3, 53.0, 22.0, 15.0, 0.0, 0.0, 1.0], [21.4, 5.2, 51.0, 22.0, 13.0, 0.0, 0.0, 1.0], [32.0, 4.9, 53.0, 22.0, 15.0, 0.0, 0.0, 1.0], [41.9, 4.7, 53.0, 22.0, 14.0, 0.0, 0.0, 1.0], [211.0, 4.6, 80.0, 22.0, 20.0, 0.0, 0.0, 1.0], [216.1, 5.3, 90.0, 22.0, 21.0, 0.0, 0.0, 1.0], [25.5, 3.6, 27.0, 22.0, 27.0, 0.0, 0.0, 1.0], [16.6, 4.2, 52.0, 22.0, 15.0, 0.0, 0.0, 1.0], [25.9, 4.1, 43.0, 22.0, 24.0, 0.0, 0.0, 1.0], [16.5, 4.0, 48.0, 22.0, 15.0, 0.0, 0.0, 1.0], [22.1, 3.9, 29.0, 22.0, 26.0, 0.0, 0.0, 1.0], [16.6, 3.7, 49.0, 22.0, 17.0, 0.0, 1.0, 0.0], [15.4, 4.5, 43.0, 22.0, 24.0, 0.0, 1.0, 0.0], [16.5, 3.9, 43.0, 22.0, 17.0, 0.0, 1.0, 0.0], [15.4, 5.1, 21.0, 22.0, 24.0, 0.0, 1.0, 0.0], [18.4, 4.2, 59.0, 22.0, 24.0, 0.0, 1.0, 0.0], [39.5, 4.2, 58.0, 22.0, 25.0, 0.0, 1.0, 0.0], [21.5, 4.8, 47.0, 25.0, 27.0, 1.0, 1.0, 0.0], [4.8, 4.7, 26.0, 25.0, 18.0, 0.0, 1.0, 0.0], [100.9, 4.7, 87.0, 23.5, 22.0, 0.0, 1.0, 0.0], [129.7, 4.6, 58.0, 24.0, 21.0, 0.0, 1.0, 0.0], [16.6, 3.8, 43.0, 21.5, 16.0, 0.0, 1.0, 0.0], [15.4, 4.2, 50.0, 21.5, 21.0, 0.0, 1.0, 0.0], [16.0, 3.7, 45.0, 22.0, 17.0, 0.0, 1.0, 0.0], [16.0, 4.2, 41.0, 22.0, 15.0, 0.0, 1.0, 0.0], [15.4, 4.1, 45.0, 22.0, 24.0, 0.0, 1.0, 0.0], [16.0, 4.0, 43.0, 22.0, 16.0, 0.0, 1.0, 0.0], [21.0, 3.8, 37.0, 22.0, 21.0, 0.0, 1.0, 0.0], [15.4, 3.8, 47.0, 22.0, 24.0, 0.0, 1.0, 0.0], [16.0, 3.8, 42.0, 22.0, 17.0, 0.0, 1.0, 0.0], [16.1, 5.1, 30.0, 25.0, 16.0, 1.0, 1.0, 0.0], [16.0, 4.0, 42.0, 22.0, 15.0, 0.0, 1.0, 0.0], [15.4, 4.8, 40.0, 22.0, 18.0, 0.0, 1.0, 0.0], [17.2, 3.9, 35.0, 22.0, 16.0, 0.0, 1.0, 0.0], [16.6, 4.6, 50.0, 22.0, 25.0, 0.0, 1.0, 0.0], [18.3, 4.3, 46.0, 22.0, 16.0, 0.0, 0.0, 1.0], [16.1, 4.8, 36.0, 22.0, 18.0, 0.0, 0.0, 1.0], [16.0, 4.1, 46.0, 22.0, 17.0, 0.0, 0.0, 1.0], [16.3, 4.0, 35.0, 22.0, 23.0, 0.0, 0.0, 1.0], [16.0, 3.7, 44.0, 22.0, 16.0, 0.0, 0.0, 1.0], [18.3, 4.3, 46.0, 22.0, 23.0, 0.0, 0.0, 1.0], [4.5, 5.2, 23.0, 22.0, 23.0, 0.0, 0.0, 1.0], [17.0, 4.2, 48.0, 22.0, 16.0, 0.0, 0.0, 1.0], [6.1, 5.0, 35.0, 24.5, 18.0, 0.0, 0.0, 1.0], [6.1, 5.0, 33.0, 22.0, 24.0, 0.0, 0.0, 1.0], [17.3, 4.2, 36.0, 22.0, 22.0, 0.0, 0.0, 1.0], [6.0, 4.8, 27.0, 22.0, 17.0, 0.0, 0.0, 1.0], [16.0, 4.1, 45.0, 22.0, 15.0, 0.0, 0.0, 1.0], [15.4, 4.9, 55.0, 22.0, 18.0, 0.0, 0.0, 1.0], [15.4, 4.3, 39.0, 22.0, 23.0, 0.0, 0.0, 1.0], [16.0, 3.9, 35.0, 22.0, 18.0, 0.0, 0.0, 1.0], [15.4, 4.5, 52.0, 22.0, 26.0, 0.0, 0.0, 1.0], [16.6, 4.1, 48.0, 25.5, 30.0, 1.0, 0.0, 1.0], [15.4, 5.0, 48.0, 25.5, 31.0, 1.0, 0.0, 1.0], [16.0, 4.0, 43.0, 22.0, 21.0, 1.0, 0.0, 1.0], [15.4, 4.5, 42.0, 22.0, 30.0, 0.0, 0.0, 1.0], [16.0, 3.6, 43.0, 22.0, 19.0, 0.0, 0.0, 1.0], [20.9, 4.1, 33.0, 22.0, 21.0, 0.0, 0.0, 1.0], [32.1, 3.9, 47.0, 22.0, 26.0, 0.0, 0.0, 1.0], [15.3, 6.6, 16.0, 24.0, 27.0, 1.0, 0.0, 1.0], [28.5, 4.0, 44.0, 25.0, 23.0, 1.0, 0.0, 1.0], [11.9, 3.7, 33.0, 25.0, 19.0, 0.0, 0.0, 1.0], [14.5, 4.3, 36.0, 25.0, 22.0, 0.0, 0.0, 1.0], [16.6, 4.1, 49.0, 22.0, 26.0, 0.0, 0.0, 1.0], [16.2, 4.4, 39.0, 24.5, 17.0, 1.0, 0.0, 1.0], [16.7, 3.8, 44.0, 24.5, 23.0, 0.0, 0.0, 1.0], [8.3, 5.0, 52.0, 24.5, 27.0, 0.0, 0.0, 1.0], [5.5, 3.7, 33.0, 24.5, 28.0, 0.0, 0.0, 1.0], [13.6, 3.7, 33.0, 24.5, 28.0, 0.0, 0.0, 1.0], [16.0, 3.7, 39.0, 24.5, 18.0, 0.0, 0.0, 1.0], [16.1, 4.3, 38.0, 25.0, 31.0, 1.0, 0.0, 1.0], [16.0, 3.8, 45.0, 25.0, 19.0, 0.0, 0.0, 1.0], [15.4, 4.6, 42.0, 25.0, 31.0, 1.0, 0.0, 1.0], [14.7, 5.0, 25.0, 25.0, 30.0, 1.0, 0.0, 1.0]]}],                        {\"coloraxis\": {\"colorscale\": [[0.0, \"#0d0887\"], [0.1111111111111111, \"#46039f\"], [0.2222222222222222, \"#7201a8\"], [0.3333333333333333, \"#9c179e\"], [0.4444444444444444, \"#bd3786\"], [0.5555555555555556, \"#d8576b\"], [0.6666666666666666, \"#ed7953\"], [0.7777777777777778, \"#fb9f3a\"], [0.8888888888888888, \"#fdca26\"], [1.0, \"#f0f921\"]]}, \"margin\": {\"t\": 60}, \"template\": {\"data\": {\"bar\": [{\"error_x\": {\"color\": \"#2a3f5f\"}, \"error_y\": {\"color\": \"#2a3f5f\"}, \"marker\": {\"line\": {\"color\": \"#E5ECF6\", \"width\": 0.5}}, \"type\": \"bar\"}], \"barpolar\": [{\"marker\": {\"line\": {\"color\": \"#E5ECF6\", \"width\": 0.5}}, \"type\": \"barpolar\"}], \"carpet\": [{\"aaxis\": {\"endlinecolor\": \"#2a3f5f\", \"gridcolor\": \"white\", \"linecolor\": \"white\", \"minorgridcolor\": \"white\", \"startlinecolor\": \"#2a3f5f\"}, \"baxis\": {\"endlinecolor\": \"#2a3f5f\", \"gridcolor\": \"white\", \"linecolor\": \"white\", \"minorgridcolor\": \"white\", \"startlinecolor\": \"#2a3f5f\"}, \"type\": \"carpet\"}], \"choropleth\": [{\"colorbar\": {\"outlinewidth\": 0, \"ticks\": \"\"}, \"type\": \"choropleth\"}], \"contour\": [{\"colorbar\": {\"outlinewidth\": 0, \"ticks\": \"\"}, \"colorscale\": [[0.0, \"#0d0887\"], [0.1111111111111111, \"#46039f\"], [0.2222222222222222, \"#7201a8\"], [0.3333333333333333, \"#9c179e\"], [0.4444444444444444, \"#bd3786\"], [0.5555555555555556, \"#d8576b\"], [0.6666666666666666, \"#ed7953\"], [0.7777777777777778, \"#fb9f3a\"], [0.8888888888888888, \"#fdca26\"], [1.0, \"#f0f921\"]], \"type\": \"contour\"}], \"contourcarpet\": [{\"colorbar\": {\"outlinewidth\": 0, \"ticks\": \"\"}, \"type\": \"contourcarpet\"}], \"heatmap\": [{\"colorbar\": {\"outlinewidth\": 0, \"ticks\": \"\"}, \"colorscale\": [[0.0, \"#0d0887\"], [0.1111111111111111, \"#46039f\"], [0.2222222222222222, \"#7201a8\"], [0.3333333333333333, \"#9c179e\"], [0.4444444444444444, \"#bd3786\"], [0.5555555555555556, \"#d8576b\"], [0.6666666666666666, \"#ed7953\"], [0.7777777777777778, \"#fb9f3a\"], [0.8888888888888888, \"#fdca26\"], [1.0, \"#f0f921\"]], \"type\": \"heatmap\"}], \"heatmapgl\": [{\"colorbar\": {\"outlinewidth\": 0, \"ticks\": \"\"}, \"colorscale\": [[0.0, \"#0d0887\"], [0.1111111111111111, \"#46039f\"], [0.2222222222222222, \"#7201a8\"], [0.3333333333333333, \"#9c179e\"], [0.4444444444444444, \"#bd3786\"], [0.5555555555555556, \"#d8576b\"], [0.6666666666666666, \"#ed7953\"], [0.7777777777777778, \"#fb9f3a\"], [0.8888888888888888, \"#fdca26\"], [1.0, \"#f0f921\"]], \"type\": \"heatmapgl\"}], \"histogram\": [{\"marker\": {\"colorbar\": {\"outlinewidth\": 0, \"ticks\": \"\"}}, \"type\": \"histogram\"}], \"histogram2d\": [{\"colorbar\": {\"outlinewidth\": 0, \"ticks\": \"\"}, \"colorscale\": [[0.0, \"#0d0887\"], [0.1111111111111111, \"#46039f\"], [0.2222222222222222, \"#7201a8\"], [0.3333333333333333, \"#9c179e\"], [0.4444444444444444, \"#bd3786\"], [0.5555555555555556, \"#d8576b\"], [0.6666666666666666, \"#ed7953\"], [0.7777777777777778, \"#fb9f3a\"], [0.8888888888888888, \"#fdca26\"], [1.0, \"#f0f921\"]], \"type\": \"histogram2d\"}], \"histogram2dcontour\": [{\"colorbar\": {\"outlinewidth\": 0, \"ticks\": \"\"}, \"colorscale\": [[0.0, \"#0d0887\"], [0.1111111111111111, \"#46039f\"], [0.2222222222222222, \"#7201a8\"], [0.3333333333333333, \"#9c179e\"], [0.4444444444444444, \"#bd3786\"], [0.5555555555555556, \"#d8576b\"], [0.6666666666666666, \"#ed7953\"], [0.7777777777777778, \"#fb9f3a\"], [0.8888888888888888, \"#fdca26\"], [1.0, \"#f0f921\"]], \"type\": \"histogram2dcontour\"}], \"mesh3d\": [{\"colorbar\": {\"outlinewidth\": 0, \"ticks\": \"\"}, \"type\": \"mesh3d\"}], \"parcoords\": [{\"line\": {\"colorbar\": {\"outlinewidth\": 0, \"ticks\": \"\"}}, \"type\": \"parcoords\"}], \"pie\": [{\"automargin\": true, \"type\": \"pie\"}], \"scatter\": [{\"marker\": {\"colorbar\": {\"outlinewidth\": 0, \"ticks\": \"\"}}, \"type\": \"scatter\"}], \"scatter3d\": [{\"line\": {\"colorbar\": {\"outlinewidth\": 0, \"ticks\": \"\"}}, \"marker\": {\"colorbar\": {\"outlinewidth\": 0, \"ticks\": \"\"}}, \"type\": \"scatter3d\"}], \"scattercarpet\": [{\"marker\": {\"colorbar\": {\"outlinewidth\": 0, \"ticks\": \"\"}}, \"type\": \"scattercarpet\"}], \"scattergeo\": [{\"marker\": {\"colorbar\": {\"outlinewidth\": 0, \"ticks\": \"\"}}, \"type\": \"scattergeo\"}], \"scattergl\": [{\"marker\": {\"colorbar\": {\"outlinewidth\": 0, \"ticks\": \"\"}}, \"type\": \"scattergl\"}], \"scattermapbox\": [{\"marker\": {\"colorbar\": {\"outlinewidth\": 0, \"ticks\": \"\"}}, \"type\": \"scattermapbox\"}], \"scatterpolar\": [{\"marker\": {\"colorbar\": {\"outlinewidth\": 0, \"ticks\": \"\"}}, \"type\": \"scatterpolar\"}], \"scatterpolargl\": [{\"marker\": {\"colorbar\": {\"outlinewidth\": 0, \"ticks\": \"\"}}, \"type\": \"scatterpolargl\"}], \"scatterternary\": [{\"marker\": {\"colorbar\": {\"outlinewidth\": 0, \"ticks\": \"\"}}, \"type\": \"scatterternary\"}], \"surface\": [{\"colorbar\": {\"outlinewidth\": 0, \"ticks\": \"\"}, \"colorscale\": [[0.0, \"#0d0887\"], [0.1111111111111111, \"#46039f\"], [0.2222222222222222, \"#7201a8\"], [0.3333333333333333, \"#9c179e\"], [0.4444444444444444, \"#bd3786\"], [0.5555555555555556, \"#d8576b\"], [0.6666666666666666, \"#ed7953\"], [0.7777777777777778, \"#fb9f3a\"], [0.8888888888888888, \"#fdca26\"], [1.0, \"#f0f921\"]], \"type\": \"surface\"}], \"table\": [{\"cells\": {\"fill\": {\"color\": \"#EBF0F8\"}, \"line\": {\"color\": \"white\"}}, \"header\": {\"fill\": {\"color\": \"#C8D4E3\"}, \"line\": {\"color\": \"white\"}}, \"type\": \"table\"}]}, \"layout\": {\"annotationdefaults\": {\"arrowcolor\": \"#2a3f5f\", \"arrowhead\": 0, \"arrowwidth\": 1}, \"autotypenumbers\": \"strict\", \"coloraxis\": {\"colorbar\": {\"outlinewidth\": 0, \"ticks\": \"\"}}, \"colorscale\": {\"diverging\": [[0, \"#8e0152\"], [0.1, \"#c51b7d\"], [0.2, \"#de77ae\"], [0.3, \"#f1b6da\"], [0.4, \"#fde0ef\"], [0.5, \"#f7f7f7\"], [0.6, \"#e6f5d0\"], [0.7, \"#b8e186\"], [0.8, \"#7fbc41\"], [0.9, \"#4d9221\"], [1, \"#276419\"]], \"sequential\": [[0.0, \"#0d0887\"], [0.1111111111111111, \"#46039f\"], [0.2222222222222222, \"#7201a8\"], [0.3333333333333333, \"#9c179e\"], [0.4444444444444444, \"#bd3786\"], [0.5555555555555556, \"#d8576b\"], [0.6666666666666666, \"#ed7953\"], [0.7777777777777778, \"#fb9f3a\"], [0.8888888888888888, \"#fdca26\"], [1.0, \"#f0f921\"]], \"sequentialminus\": [[0.0, \"#0d0887\"], [0.1111111111111111, \"#46039f\"], [0.2222222222222222, \"#7201a8\"], [0.3333333333333333, \"#9c179e\"], [0.4444444444444444, \"#bd3786\"], [0.5555555555555556, \"#d8576b\"], [0.6666666666666666, \"#ed7953\"], [0.7777777777777778, \"#fb9f3a\"], [0.8888888888888888, \"#fdca26\"], [1.0, \"#f0f921\"]]}, \"colorway\": [\"#636efa\", \"#EF553B\", \"#00cc96\", \"#ab63fa\", \"#FFA15A\", \"#19d3f3\", \"#FF6692\", \"#B6E880\", \"#FF97FF\", \"#FECB52\"], \"font\": {\"color\": \"#2a3f5f\"}, \"geo\": {\"bgcolor\": \"white\", \"lakecolor\": \"white\", \"landcolor\": \"#E5ECF6\", \"showlakes\": true, \"showland\": true, \"subunitcolor\": \"white\"}, \"hoverlabel\": {\"align\": \"left\"}, \"hovermode\": \"closest\", \"mapbox\": {\"style\": \"light\"}, \"paper_bgcolor\": \"white\", \"plot_bgcolor\": \"#E5ECF6\", \"polar\": {\"angularaxis\": {\"gridcolor\": \"white\", \"linecolor\": \"white\", \"ticks\": \"\"}, \"bgcolor\": \"#E5ECF6\", \"radialaxis\": {\"gridcolor\": \"white\", \"linecolor\": \"white\", \"ticks\": \"\"}}, \"scene\": {\"xaxis\": {\"backgroundcolor\": \"#E5ECF6\", \"gridcolor\": \"white\", \"gridwidth\": 2, \"linecolor\": \"white\", \"showbackground\": true, \"ticks\": \"\", \"zerolinecolor\": \"white\"}, \"yaxis\": {\"backgroundcolor\": \"#E5ECF6\", \"gridcolor\": \"white\", \"gridwidth\": 2, \"linecolor\": \"white\", \"showbackground\": true, \"ticks\": \"\", \"zerolinecolor\": \"white\"}, \"zaxis\": {\"backgroundcolor\": \"#E5ECF6\", \"gridcolor\": \"white\", \"gridwidth\": 2, \"linecolor\": \"white\", \"showbackground\": true, \"ticks\": \"\", \"zerolinecolor\": \"white\"}}, \"shapedefaults\": {\"line\": {\"color\": \"#2a3f5f\"}}, \"ternary\": {\"aaxis\": {\"gridcolor\": \"white\", \"linecolor\": \"white\", \"ticks\": \"\"}, \"baxis\": {\"gridcolor\": \"white\", \"linecolor\": \"white\", \"ticks\": \"\"}, \"bgcolor\": \"#E5ECF6\", \"caxis\": {\"gridcolor\": \"white\", \"linecolor\": \"white\", \"ticks\": \"\"}}, \"title\": {\"x\": 0.05}, \"xaxis\": {\"automargin\": true, \"gridcolor\": \"white\", \"linecolor\": \"white\", \"ticks\": \"\", \"title\": {\"standoff\": 15}, \"zerolinecolor\": \"white\", \"zerolinewidth\": 2}, \"yaxis\": {\"automargin\": true, \"gridcolor\": \"white\", \"linecolor\": \"white\", \"ticks\": \"\", \"title\": {\"standoff\": 15}, \"zerolinecolor\": \"white\", \"zerolinewidth\": 2}}}, \"xaxis\": {\"anchor\": \"y\", \"constrain\": \"domain\", \"domain\": [0.0, 1.0], \"scaleanchor\": \"y\"}, \"yaxis\": {\"anchor\": \"x\", \"autorange\": \"reversed\", \"constrain\": \"domain\", \"domain\": [0.0, 1.0]}},                        {\"responsive\": true}                    ).then(function(){\n",
       "                            \n",
       "var gd = document.getElementById('37f00a1c-7e26-491a-890d-fa73749aec7f');\n",
       "var x = new MutationObserver(function (mutations, observer) {{\n",
       "        var display = window.getComputedStyle(gd).display;\n",
       "        if (!display || display === 'none') {{\n",
       "            console.log([gd, 'removed!']);\n",
       "            Plotly.purge(gd);\n",
       "            observer.disconnect();\n",
       "        }}\n",
       "}});\n",
       "\n",
       "// Listen for the removal of the full notebook cells\n",
       "var notebookContainer = gd.closest('#notebook-container');\n",
       "if (notebookContainer) {{\n",
       "    x.observe(notebookContainer, {childList: true});\n",
       "}}\n",
       "\n",
       "// Listen for the clearing of the current output cell\n",
       "var outputEl = gd.closest('.output');\n",
       "if (outputEl) {{\n",
       "    x.observe(outputEl, {childList: true});\n",
       "}}\n",
       "\n",
       "                        })                };                });            </script>        </div>"
      ]
     },
     "metadata": {},
     "output_type": "display_data"
    }
   ],
   "source": [
    "# UNSURE why I am not getting my the results I want\n",
    "px.imshow(df)"
   ]
  },
  {
   "cell_type": "markdown",
   "metadata": {},
   "source": [
    "Ah....silly rabbit! The benefit of talking to yourself out loud is an underrated habit to help you realize what you are looking for. My mistake was not considering my purpose for the heatmap. I am looking for any strong correlation. How do I get correlation? with `corr()` that was easy. And there doesn't seem to be any strong correlations."
   ]
  },
  {
   "cell_type": "code",
   "execution_count": 15,
   "metadata": {},
   "outputs": [
    {
     "data": {
      "text/plain": [
       "<AxesSubplot:>"
      ]
     },
     "execution_count": 15,
     "metadata": {},
     "output_type": "execute_result"
    },
    {
     "data": {
      "image/png": "[encoded data removed]",
      "text/plain": [
       "<Figure size 432x288 with 2 Axes>"
      ]
     },
     "metadata": {
      "needs_background": "light"
     },
     "output_type": "display_data"
    }
   ],
   "source": [
    "sns.heatmap(df.corr())"
   ]
  },
  {
   "cell_type": "markdown",
   "metadata": {},
   "source": [
    "Directions I would like to take from here: there is an immediate question about the relationship of AC and speed and distance with comsumption. The question is if consumption under these circumstances can predict what type of fuel was used.  "
   ]
  },
  {
   "cell_type": "code",
   "execution_count": 16,
   "metadata": {},
   "outputs": [
    {
     "data": {
      "text/html": [
       "<div>\n",
       "<style scoped>\n",
       "    .dataframe tbody tr th:only-of-type {\n",
       "        vertical-align: middle;\n",
       "    }\n",
       "\n",
       "    .dataframe tbody tr th {\n",
       "        vertical-align: top;\n",
       "    }\n",
       "\n",
       "    .dataframe thead th {\n",
       "        text-align: right;\n",
       "    }\n",
       "</style>\n",
       "<table border=\"1\" class=\"dataframe\">\n",
       "  <thead>\n",
       "    <tr style=\"text-align: right;\">\n",
       "      <th></th>\n",
       "      <th>distance</th>\n",
       "      <th>consume</th>\n",
       "      <th>speed</th>\n",
       "      <th>temp_inside</th>\n",
       "      <th>temp_outside</th>\n",
       "      <th>AC</th>\n",
       "      <th>E10</th>\n",
       "      <th>SP98</th>\n",
       "    </tr>\n",
       "  </thead>\n",
       "  <tbody>\n",
       "    <tr>\n",
       "      <th>mean</th>\n",
       "      <td>19.652835</td>\n",
       "      <td>4.912371</td>\n",
       "      <td>41.927835</td>\n",
       "      <td>21.929521</td>\n",
       "      <td>11.358247</td>\n",
       "      <td>0.07732</td>\n",
       "      <td>0.412371</td>\n",
       "      <td>0.587629</td>\n",
       "    </tr>\n",
       "    <tr>\n",
       "      <th>min</th>\n",
       "      <td>1.300000</td>\n",
       "      <td>3.300000</td>\n",
       "      <td>14.000000</td>\n",
       "      <td>19.000000</td>\n",
       "      <td>-5.000000</td>\n",
       "      <td>0.00000</td>\n",
       "      <td>0.000000</td>\n",
       "      <td>0.000000</td>\n",
       "    </tr>\n",
       "    <tr>\n",
       "      <th>max</th>\n",
       "      <td>216.100000</td>\n",
       "      <td>12.200000</td>\n",
       "      <td>90.000000</td>\n",
       "      <td>25.500000</td>\n",
       "      <td>31.000000</td>\n",
       "      <td>1.00000</td>\n",
       "      <td>1.000000</td>\n",
       "      <td>1.000000</td>\n",
       "    </tr>\n",
       "    <tr>\n",
       "      <th>sum</th>\n",
       "      <td>7625.300000</td>\n",
       "      <td>1906.000000</td>\n",
       "      <td>16268.000000</td>\n",
       "      <td>8245.500000</td>\n",
       "      <td>4407.000000</td>\n",
       "      <td>30.00000</td>\n",
       "      <td>160.000000</td>\n",
       "      <td>228.000000</td>\n",
       "    </tr>\n",
       "  </tbody>\n",
       "</table>\n",
       "</div>"
      ],
      "text/plain": [
       "         distance      consume         speed  temp_inside  temp_outside  \\\n",
       "mean    19.652835     4.912371     41.927835    21.929521     11.358247   \n",
       "min      1.300000     3.300000     14.000000    19.000000     -5.000000   \n",
       "max    216.100000    12.200000     90.000000    25.500000     31.000000   \n",
       "sum   7625.300000  1906.000000  16268.000000  8245.500000   4407.000000   \n",
       "\n",
       "            AC         E10        SP98  \n",
       "mean   0.07732    0.412371    0.587629  \n",
       "min    0.00000    0.000000    0.000000  \n",
       "max    1.00000    1.000000    1.000000  \n",
       "sum   30.00000  160.000000  228.000000  "
      ]
     },
     "execution_count": 16,
     "metadata": {},
     "output_type": "execute_result"
    }
   ],
   "source": [
    "# Just taking a look at some aggregate calculations\n",
    "df.agg(['mean', 'min', 'max', 'sum'])"
   ]
  },
  {
   "cell_type": "code",
   "execution_count": 17,
   "metadata": {},
   "outputs": [
    {
     "data": {
      "text/html": [
       "<div>\n",
       "<style scoped>\n",
       "    .dataframe tbody tr th:only-of-type {\n",
       "        vertical-align: middle;\n",
       "    }\n",
       "\n",
       "    .dataframe tbody tr th {\n",
       "        vertical-align: top;\n",
       "    }\n",
       "\n",
       "    .dataframe thead th {\n",
       "        text-align: right;\n",
       "    }\n",
       "</style>\n",
       "<table border=\"1\" class=\"dataframe\">\n",
       "  <thead>\n",
       "    <tr style=\"text-align: right;\">\n",
       "      <th></th>\n",
       "      <th>distance</th>\n",
       "      <th>consume</th>\n",
       "      <th>speed</th>\n",
       "      <th>temp_inside</th>\n",
       "      <th>temp_outside</th>\n",
       "      <th>AC</th>\n",
       "      <th>E10</th>\n",
       "      <th>SP98</th>\n",
       "    </tr>\n",
       "  </thead>\n",
       "  <tbody>\n",
       "    <tr>\n",
       "      <th>0</th>\n",
       "      <td>28.0</td>\n",
       "      <td>5.0</td>\n",
       "      <td>26</td>\n",
       "      <td>21.5</td>\n",
       "      <td>12</td>\n",
       "      <td>0</td>\n",
       "      <td>1</td>\n",
       "      <td>0</td>\n",
       "    </tr>\n",
       "    <tr>\n",
       "      <th>1</th>\n",
       "      <td>12.0</td>\n",
       "      <td>4.2</td>\n",
       "      <td>30</td>\n",
       "      <td>21.5</td>\n",
       "      <td>13</td>\n",
       "      <td>0</td>\n",
       "      <td>1</td>\n",
       "      <td>0</td>\n",
       "    </tr>\n",
       "    <tr>\n",
       "      <th>2</th>\n",
       "      <td>11.2</td>\n",
       "      <td>5.5</td>\n",
       "      <td>38</td>\n",
       "      <td>21.5</td>\n",
       "      <td>15</td>\n",
       "      <td>0</td>\n",
       "      <td>1</td>\n",
       "      <td>0</td>\n",
       "    </tr>\n",
       "    <tr>\n",
       "      <th>3</th>\n",
       "      <td>12.9</td>\n",
       "      <td>3.9</td>\n",
       "      <td>36</td>\n",
       "      <td>21.5</td>\n",
       "      <td>14</td>\n",
       "      <td>0</td>\n",
       "      <td>1</td>\n",
       "      <td>0</td>\n",
       "    </tr>\n",
       "    <tr>\n",
       "      <th>4</th>\n",
       "      <td>18.5</td>\n",
       "      <td>4.5</td>\n",
       "      <td>46</td>\n",
       "      <td>21.5</td>\n",
       "      <td>15</td>\n",
       "      <td>0</td>\n",
       "      <td>1</td>\n",
       "      <td>0</td>\n",
       "    </tr>\n",
       "    <tr>\n",
       "      <th>...</th>\n",
       "      <td>...</td>\n",
       "      <td>...</td>\n",
       "      <td>...</td>\n",
       "      <td>...</td>\n",
       "      <td>...</td>\n",
       "      <td>...</td>\n",
       "      <td>...</td>\n",
       "      <td>...</td>\n",
       "    </tr>\n",
       "    <tr>\n",
       "      <th>344</th>\n",
       "      <td>16.1</td>\n",
       "      <td>5.1</td>\n",
       "      <td>30</td>\n",
       "      <td>25.0</td>\n",
       "      <td>16</td>\n",
       "      <td>1</td>\n",
       "      <td>1</td>\n",
       "      <td>0</td>\n",
       "    </tr>\n",
       "    <tr>\n",
       "      <th>345</th>\n",
       "      <td>16.0</td>\n",
       "      <td>4.0</td>\n",
       "      <td>42</td>\n",
       "      <td>22.0</td>\n",
       "      <td>15</td>\n",
       "      <td>0</td>\n",
       "      <td>1</td>\n",
       "      <td>0</td>\n",
       "    </tr>\n",
       "    <tr>\n",
       "      <th>346</th>\n",
       "      <td>15.4</td>\n",
       "      <td>4.8</td>\n",
       "      <td>40</td>\n",
       "      <td>22.0</td>\n",
       "      <td>18</td>\n",
       "      <td>0</td>\n",
       "      <td>1</td>\n",
       "      <td>0</td>\n",
       "    </tr>\n",
       "    <tr>\n",
       "      <th>347</th>\n",
       "      <td>17.2</td>\n",
       "      <td>3.9</td>\n",
       "      <td>35</td>\n",
       "      <td>22.0</td>\n",
       "      <td>16</td>\n",
       "      <td>0</td>\n",
       "      <td>1</td>\n",
       "      <td>0</td>\n",
       "    </tr>\n",
       "    <tr>\n",
       "      <th>348</th>\n",
       "      <td>16.6</td>\n",
       "      <td>4.6</td>\n",
       "      <td>50</td>\n",
       "      <td>22.0</td>\n",
       "      <td>25</td>\n",
       "      <td>0</td>\n",
       "      <td>1</td>\n",
       "      <td>0</td>\n",
       "    </tr>\n",
       "  </tbody>\n",
       "</table>\n",
       "<p>160 rows × 8 columns</p>\n",
       "</div>"
      ],
      "text/plain": [
       "     distance  consume  speed  temp_inside  temp_outside  AC  E10  SP98\n",
       "0        28.0      5.0     26         21.5            12   0    1     0\n",
       "1        12.0      4.2     30         21.5            13   0    1     0\n",
       "2        11.2      5.5     38         21.5            15   0    1     0\n",
       "3        12.9      3.9     36         21.5            14   0    1     0\n",
       "4        18.5      4.5     46         21.5            15   0    1     0\n",
       "..        ...      ...    ...          ...           ...  ..  ...   ...\n",
       "344      16.1      5.1     30         25.0            16   1    1     0\n",
       "345      16.0      4.0     42         22.0            15   0    1     0\n",
       "346      15.4      4.8     40         22.0            18   0    1     0\n",
       "347      17.2      3.9     35         22.0            16   0    1     0\n",
       "348      16.6      4.6     50         22.0            25   0    1     0\n",
       "\n",
       "[160 rows x 8 columns]"
      ]
     },
     "execution_count": 17,
     "metadata": {},
     "output_type": "execute_result"
    }
   ],
   "source": [
    "# separate e10 sp98 into different dataframes to do some side by side comparisons \n",
    "df_E = df[df['E10']==1]\n",
    "df_E"
   ]
  },
  {
   "cell_type": "code",
   "execution_count": 18,
   "metadata": {},
   "outputs": [
    {
     "data": {
      "text/html": [
       "<div>\n",
       "<style scoped>\n",
       "    .dataframe tbody tr th:only-of-type {\n",
       "        vertical-align: middle;\n",
       "    }\n",
       "\n",
       "    .dataframe tbody tr th {\n",
       "        vertical-align: top;\n",
       "    }\n",
       "\n",
       "    .dataframe thead th {\n",
       "        text-align: right;\n",
       "    }\n",
       "</style>\n",
       "<table border=\"1\" class=\"dataframe\">\n",
       "  <thead>\n",
       "    <tr style=\"text-align: right;\">\n",
       "      <th></th>\n",
       "      <th>distance</th>\n",
       "      <th>consume</th>\n",
       "      <th>speed</th>\n",
       "      <th>temp_inside</th>\n",
       "      <th>temp_outside</th>\n",
       "      <th>AC</th>\n",
       "      <th>E10</th>\n",
       "      <th>SP98</th>\n",
       "    </tr>\n",
       "  </thead>\n",
       "  <tbody>\n",
       "    <tr>\n",
       "      <th>44</th>\n",
       "      <td>5.4</td>\n",
       "      <td>3.3</td>\n",
       "      <td>32</td>\n",
       "      <td>21.5</td>\n",
       "      <td>7</td>\n",
       "      <td>0</td>\n",
       "      <td>0</td>\n",
       "      <td>1</td>\n",
       "    </tr>\n",
       "    <tr>\n",
       "      <th>45</th>\n",
       "      <td>2.0</td>\n",
       "      <td>9.9</td>\n",
       "      <td>21</td>\n",
       "      <td>21.5</td>\n",
       "      <td>4</td>\n",
       "      <td>0</td>\n",
       "      <td>0</td>\n",
       "      <td>1</td>\n",
       "    </tr>\n",
       "    <tr>\n",
       "      <th>46</th>\n",
       "      <td>14.2</td>\n",
       "      <td>5.1</td>\n",
       "      <td>32</td>\n",
       "      <td>21.5</td>\n",
       "      <td>7</td>\n",
       "      <td>0</td>\n",
       "      <td>0</td>\n",
       "      <td>1</td>\n",
       "    </tr>\n",
       "    <tr>\n",
       "      <th>47</th>\n",
       "      <td>16.0</td>\n",
       "      <td>4.9</td>\n",
       "      <td>25</td>\n",
       "      <td>21.5</td>\n",
       "      <td>8</td>\n",
       "      <td>0</td>\n",
       "      <td>0</td>\n",
       "      <td>1</td>\n",
       "    </tr>\n",
       "    <tr>\n",
       "      <th>48</th>\n",
       "      <td>11.8</td>\n",
       "      <td>4.9</td>\n",
       "      <td>25</td>\n",
       "      <td>21.5</td>\n",
       "      <td>11</td>\n",
       "      <td>0</td>\n",
       "      <td>0</td>\n",
       "      <td>1</td>\n",
       "    </tr>\n",
       "    <tr>\n",
       "      <th>...</th>\n",
       "      <td>...</td>\n",
       "      <td>...</td>\n",
       "      <td>...</td>\n",
       "      <td>...</td>\n",
       "      <td>...</td>\n",
       "      <td>...</td>\n",
       "      <td>...</td>\n",
       "      <td>...</td>\n",
       "    </tr>\n",
       "    <tr>\n",
       "      <th>383</th>\n",
       "      <td>16.0</td>\n",
       "      <td>3.7</td>\n",
       "      <td>39</td>\n",
       "      <td>24.5</td>\n",
       "      <td>18</td>\n",
       "      <td>0</td>\n",
       "      <td>0</td>\n",
       "      <td>1</td>\n",
       "    </tr>\n",
       "    <tr>\n",
       "      <th>384</th>\n",
       "      <td>16.1</td>\n",
       "      <td>4.3</td>\n",
       "      <td>38</td>\n",
       "      <td>25.0</td>\n",
       "      <td>31</td>\n",
       "      <td>1</td>\n",
       "      <td>0</td>\n",
       "      <td>1</td>\n",
       "    </tr>\n",
       "    <tr>\n",
       "      <th>385</th>\n",
       "      <td>16.0</td>\n",
       "      <td>3.8</td>\n",
       "      <td>45</td>\n",
       "      <td>25.0</td>\n",
       "      <td>19</td>\n",
       "      <td>0</td>\n",
       "      <td>0</td>\n",
       "      <td>1</td>\n",
       "    </tr>\n",
       "    <tr>\n",
       "      <th>386</th>\n",
       "      <td>15.4</td>\n",
       "      <td>4.6</td>\n",
       "      <td>42</td>\n",
       "      <td>25.0</td>\n",
       "      <td>31</td>\n",
       "      <td>1</td>\n",
       "      <td>0</td>\n",
       "      <td>1</td>\n",
       "    </tr>\n",
       "    <tr>\n",
       "      <th>387</th>\n",
       "      <td>14.7</td>\n",
       "      <td>5.0</td>\n",
       "      <td>25</td>\n",
       "      <td>25.0</td>\n",
       "      <td>30</td>\n",
       "      <td>1</td>\n",
       "      <td>0</td>\n",
       "      <td>1</td>\n",
       "    </tr>\n",
       "  </tbody>\n",
       "</table>\n",
       "<p>228 rows × 8 columns</p>\n",
       "</div>"
      ],
      "text/plain": [
       "     distance  consume  speed  temp_inside  temp_outside  AC  E10  SP98\n",
       "44        5.4      3.3     32         21.5             7   0    0     1\n",
       "45        2.0      9.9     21         21.5             4   0    0     1\n",
       "46       14.2      5.1     32         21.5             7   0    0     1\n",
       "47       16.0      4.9     25         21.5             8   0    0     1\n",
       "48       11.8      4.9     25         21.5            11   0    0     1\n",
       "..        ...      ...    ...          ...           ...  ..  ...   ...\n",
       "383      16.0      3.7     39         24.5            18   0    0     1\n",
       "384      16.1      4.3     38         25.0            31   1    0     1\n",
       "385      16.0      3.8     45         25.0            19   0    0     1\n",
       "386      15.4      4.6     42         25.0            31   1    0     1\n",
       "387      14.7      5.0     25         25.0            30   1    0     1\n",
       "\n",
       "[228 rows x 8 columns]"
      ]
     },
     "execution_count": 18,
     "metadata": {},
     "output_type": "execute_result"
    }
   ],
   "source": [
    "df_SP = df[df['SP98']==1]\n",
    "df_SP"
   ]
  },
  {
   "cell_type": "code",
   "execution_count": 19,
   "metadata": {},
   "outputs": [
    {
     "data": {
      "text/plain": [
       "mean    4.008745\n",
       "dtype: float64"
      ]
     },
     "execution_count": 19,
     "metadata": {},
     "output_type": "execute_result"
    }
   ],
   "source": [
    "# Lets get the mileage of SP98 and E10\n",
    "df_mileage_SP = df_SP['distance']/ df_SP['consume']\n",
    "sp_mileage_tot = df_mileage_SP.agg(['mean'])\n",
    "sp_mileage_tot"
   ]
  },
  {
   "cell_type": "code",
   "execution_count": 20,
   "metadata": {},
   "outputs": [
    {
     "data": {
      "text/plain": [
       "mean    4.471731\n",
       "dtype: float64"
      ]
     },
     "execution_count": 20,
     "metadata": {},
     "output_type": "execute_result"
    }
   ],
   "source": [
    "df_mileage_E = df_E['distance']/df_E['consume']\n",
    "e_mileage_tot = df_mileage_E.agg(['mean'])\n",
    "e_mileage_tot "
   ]
  },
  {
   "cell_type": "code",
   "execution_count": 21,
   "metadata": {},
   "outputs": [
    {
     "name": "stdout",
     "output_type": "stream",
     "text": [
      "------------------------------\n",
      "Kilometers per liter E10:\n",
      "4.471730619659065\n",
      "------------------------------\n",
      "Kilometers per liter SP98:\n",
      "4.008745071879544\n",
      "------------------------------\n"
     ]
    }
   ],
   "source": [
    "print('-'*30)\n",
    "print('Kilometers per liter E10:')\n",
    "print(e_mileage_tot[0])\n",
    "print('-'*30)\n",
    "print('Kilometers per liter SP98:')\n",
    "print(sp_mileage_tot[0])\n",
    "print('-'*30)"
   ]
  },
  {
   "cell_type": "markdown",
   "metadata": {},
   "source": [
    "We can immediately see that E10 is more efficient fuel.\n",
    "<br> We found a reference to price:\n",
    "<br>`E10 is sold for 1,38€; SP98 is sold for 1,46€; per liter.`\n",
    "<br> If we use this as an orientative measure we could tell you how much you could have saved using E10 \n",
    "- first we need adjust the consumption of SP98 dataset for the consumption rate of E10. \n",
    "- Then we get the amount spent on E10 consumption for that distance travelled."
   ]
  },
  {
   "cell_type": "code",
   "execution_count": 22,
   "metadata": {},
   "outputs": [
    {
     "name": "stdout",
     "output_type": "stream",
     "text": [
      "Distance travelled with SP98:                 4249.9 km\n",
      "--------------------------------------------------\n",
      "Total fuel consuption with SP98:              1117.0 ltr\n",
      "Total cost of using SP98:                     1630.82€\n",
      "--------------------------------------------------\n",
      "--------------------------------------------------\n",
      "Total fuel consumption if E10 were used:      950.39 ltr\n",
      "Total cost if E10 were used:                  1311.54\n",
      "Total we could have saved:                    319.28€\n",
      "--------------------------------------------------\n",
      "That is 14.92% less fuel consumed.\n",
      "And a 19.58% savings by using E10 fuel.\n"
     ]
    }
   ],
   "source": [
    "# We are going to work directly on the SP dataframe \n",
    "# in order to show the hypothetical difference if E10 fuels was used instead.  \n",
    "sp_dist_tot = df_SP.distance.sum()\n",
    "sp_liters_tot = df_SP.consume.sum()\n",
    "sp_cost_tot = sp_liters_tot * 1.46\n",
    "\n",
    "# We will take the total distance travelled with SP98 fuel\n",
    "# and divide it my the mileage of E10 fuel \n",
    "# to get the total liters required by E10 to travel the same distance\n",
    "liters_with_e = sp_dist_tot/e_mileage_tot[0]\n",
    "e_cost_tot = liters_with_e * 1.38\n",
    "\n",
    "print(f\"Distance travelled with SP98:                 {sp_dist_tot} km\")\n",
    "print('-'*50)\n",
    "print(f\"Total fuel consuption with SP98:              {sp_liters_tot} ltr\")\n",
    "print(f\"Total cost of using SP98:                     {sp_cost_tot}€\")\n",
    "print('-'*50)\n",
    "print('-'*50)\n",
    "print(f\"Total fuel consumption if E10 were used:      {liters_with_e:.2f} ltr\")\n",
    "print(f\"Total cost if E10 were used:                  {e_cost_tot:.2f}\")\n",
    "print(f\"Total we could have saved:                    {sp_cost_tot-e_cost_tot:.2f}€\")\n",
    "print('-'*50)\n",
    "print(f\"That is {((sp_liters_tot-liters_with_e)/sp_liters_tot)*100:.2f}% less fuel consumed.\")\n",
    "print(f\"And a {((sp_cost_tot-e_cost_tot)/sp_cost_tot)*100:.2f}% savings by using E10 fuel.\")"
   ]
  },
  {
   "cell_type": "code",
   "execution_count": 23,
   "metadata": {},
   "outputs": [],
   "source": [
    "# Now we will turn this data into a DataFrame so that wwe can visualize it\n",
    "df_hypothetical= pd.DataFrame({\"Fuel\": [\"SP98\", \"E10\"], \n",
    "                              \"Consume(L)\": [float(\"{:.2f}\".format(sp_liters_tot)),float(\"{:.2f}\".format(liters_with_e))],\n",
    "                              \"Cost(€)\": [float(\"{:.2f}\".format(sp_cost_tot)), float(\"{:.2f}\".format(e_cost_tot))],\n",
    "                              \"Mileage(km/L)\": [sp_mileage_tot[0],e_mileage_tot[0]]})\n",
    "\n"
   ]
  },
  {
   "cell_type": "code",
   "execution_count": 24,
   "metadata": {},
   "outputs": [
    {
     "data": {
      "text/html": [
       "<div>\n",
       "<style scoped>\n",
       "    .dataframe tbody tr th:only-of-type {\n",
       "        vertical-align: middle;\n",
       "    }\n",
       "\n",
       "    .dataframe tbody tr th {\n",
       "        vertical-align: top;\n",
       "    }\n",
       "\n",
       "    .dataframe thead th {\n",
       "        text-align: right;\n",
       "    }\n",
       "</style>\n",
       "<table border=\"1\" class=\"dataframe\">\n",
       "  <thead>\n",
       "    <tr style=\"text-align: right;\">\n",
       "      <th></th>\n",
       "      <th>Fuel</th>\n",
       "      <th>Consume(L)</th>\n",
       "      <th>Cost(€)</th>\n",
       "      <th>Mileage(km/L)</th>\n",
       "    </tr>\n",
       "  </thead>\n",
       "  <tbody>\n",
       "    <tr>\n",
       "      <th>0</th>\n",
       "      <td>SP98</td>\n",
       "      <td>1117.00</td>\n",
       "      <td>1630.82</td>\n",
       "      <td>4.008745</td>\n",
       "    </tr>\n",
       "    <tr>\n",
       "      <th>1</th>\n",
       "      <td>E10</td>\n",
       "      <td>950.39</td>\n",
       "      <td>1311.54</td>\n",
       "      <td>4.471731</td>\n",
       "    </tr>\n",
       "  </tbody>\n",
       "</table>\n",
       "</div>"
      ],
      "text/plain": [
       "   Fuel  Consume(L)  Cost(€)  Mileage(km/L)\n",
       "0  SP98     1117.00  1630.82       4.008745\n",
       "1   E10      950.39  1311.54       4.471731"
      ]
     },
     "execution_count": 24,
     "metadata": {},
     "output_type": "execute_result"
    }
   ],
   "source": [
    "df_hypothetical"
   ]
  },
  {
   "cell_type": "code",
   "execution_count": 25,
   "metadata": {},
   "outputs": [
    {
     "data": {
      "image/png": "[encoded data removed]",
      "text/plain": [
       "<Figure size 432x360 with 2 Axes>"
      ]
     },
     "metadata": {
      "needs_background": "light"
     },
     "output_type": "display_data"
    },
    {
     "data": {
      "image/png": "[encoded data removed]",
      "text/plain": [
       "<Figure size 252x360 with 2 Axes>"
      ]
     },
     "metadata": {
      "needs_background": "light"
     },
     "output_type": "display_data"
    }
   ],
   "source": [
    "\n",
    "comparison = sns.catplot(col = \"Fuel\",data=df_hypothetical[[\"Fuel\",\"Consume(L)\",\"Cost(€)\"]], saturation=.5,\n",
    "                kind=\"bar\", ci=None, aspect=.6);\n",
    "plt.ylabel(\"4249.9 km travelled with SP98 and the calculated difference if E10 were used\");\n",
    "mileage = sns.catplot(col = \"Fuel\",data=df_hypothetical[[\"Fuel\", \"Mileage(km/L)\"]], saturation=.5,\n",
    "                kind=\"bar\", ci=None, aspect=.35, color='g');\n",
    "plt.ylabel(\"Kilometers per Liter\");\n",
    "# 4249.9 km travelled with SP98 and the calculated difference if E10 were used"
   ]
  },
  {
   "cell_type": "markdown",
   "metadata": {},
   "source": [
    "Lets go back to the \"E10\" dataframe"
   ]
  },
  {
   "cell_type": "code",
   "execution_count": 26,
   "metadata": {},
   "outputs": [
    {
     "data": {
      "text/plain": [
       "0    153\n",
       "1      7\n",
       "Name: AC, dtype: int64"
      ]
     },
     "execution_count": 26,
     "metadata": {},
     "output_type": "execute_result"
    }
   ],
   "source": [
    "df_E[\"AC\"].value_counts()"
   ]
  },
  {
   "cell_type": "code",
   "execution_count": 27,
   "metadata": {},
   "outputs": [
    {
     "data": {
      "text/plain": [
       "0    205\n",
       "1     23\n",
       "Name: AC, dtype: int64"
      ]
     },
     "execution_count": 27,
     "metadata": {},
     "output_type": "execute_result"
    }
   ],
   "source": [
    "df_SP[\"AC\"].value_counts()"
   ]
  }
 ],
 "metadata": {
  "kernelspec": {
   "display_name": "Python 3",
   "language": "python",
   "name": "python3"
  },
  "language_info": {
   "codemirror_mode": {
    "name": "ipython",
    "version": 3
   },
   "file_extension": ".py",
   "mimetype": "text/x-python",
   "name": "python",
   "nbconvert_exporter": "python",
   "pygments_lexer": "ipython3",
   "version": "3.8.5"
  }
 },
 "nbformat": 4,
 "nbformat_minor": 4
}
