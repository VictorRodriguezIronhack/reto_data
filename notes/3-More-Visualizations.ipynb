{
 "cells": [
  {
   "cell_type": "code",
   "execution_count": 22,
   "metadata": {},
   "outputs": [],
   "source": [
    "import pandas as pd\n",
    "import"
   ]
  },
  {
   "cell_type": "code",
   "execution_count": 54,
   "metadata": {},
   "outputs": [],
   "source": [
    "df = pd.read_csv(\"/Users/claytonlouden/reto-data/data/clean.csv\")"
   ]
  },
  {
   "cell_type": "code",
   "execution_count": 55,
   "metadata": {},
   "outputs": [
    {
     "data": {
      "text/html": [
       "<div>\n",
       "<style scoped>\n",
       "    .dataframe tbody tr th:only-of-type {\n",
       "        vertical-align: middle;\n",
       "    }\n",
       "\n",
       "    .dataframe tbody tr th {\n",
       "        vertical-align: top;\n",
       "    }\n",
       "\n",
       "    .dataframe thead th {\n",
       "        text-align: right;\n",
       "    }\n",
       "</style>\n",
       "<table border=\"1\" class=\"dataframe\">\n",
       "  <thead>\n",
       "    <tr style=\"text-align: right;\">\n",
       "      <th></th>\n",
       "      <th>distance</th>\n",
       "      <th>consume</th>\n",
       "      <th>speed</th>\n",
       "      <th>temp_inside</th>\n",
       "      <th>temp_outside</th>\n",
       "      <th>AC</th>\n",
       "      <th>E10</th>\n",
       "      <th>SP98</th>\n",
       "    </tr>\n",
       "  </thead>\n",
       "  <tbody>\n",
       "    <tr>\n",
       "      <th>0</th>\n",
       "      <td>28.0</td>\n",
       "      <td>5.0</td>\n",
       "      <td>26</td>\n",
       "      <td>21.5</td>\n",
       "      <td>12</td>\n",
       "      <td>0</td>\n",
       "      <td>1</td>\n",
       "      <td>0</td>\n",
       "    </tr>\n",
       "    <tr>\n",
       "      <th>1</th>\n",
       "      <td>12.0</td>\n",
       "      <td>4.2</td>\n",
       "      <td>30</td>\n",
       "      <td>21.5</td>\n",
       "      <td>13</td>\n",
       "      <td>0</td>\n",
       "      <td>1</td>\n",
       "      <td>0</td>\n",
       "    </tr>\n",
       "    <tr>\n",
       "      <th>2</th>\n",
       "      <td>11.2</td>\n",
       "      <td>5.5</td>\n",
       "      <td>38</td>\n",
       "      <td>21.5</td>\n",
       "      <td>15</td>\n",
       "      <td>0</td>\n",
       "      <td>1</td>\n",
       "      <td>0</td>\n",
       "    </tr>\n",
       "    <tr>\n",
       "      <th>3</th>\n",
       "      <td>12.9</td>\n",
       "      <td>3.9</td>\n",
       "      <td>36</td>\n",
       "      <td>21.5</td>\n",
       "      <td>14</td>\n",
       "      <td>0</td>\n",
       "      <td>1</td>\n",
       "      <td>0</td>\n",
       "    </tr>\n",
       "    <tr>\n",
       "      <th>4</th>\n",
       "      <td>18.5</td>\n",
       "      <td>4.5</td>\n",
       "      <td>46</td>\n",
       "      <td>21.5</td>\n",
       "      <td>15</td>\n",
       "      <td>0</td>\n",
       "      <td>1</td>\n",
       "      <td>0</td>\n",
       "    </tr>\n",
       "    <tr>\n",
       "      <th>...</th>\n",
       "      <td>...</td>\n",
       "      <td>...</td>\n",
       "      <td>...</td>\n",
       "      <td>...</td>\n",
       "      <td>...</td>\n",
       "      <td>...</td>\n",
       "      <td>...</td>\n",
       "      <td>...</td>\n",
       "    </tr>\n",
       "    <tr>\n",
       "      <th>383</th>\n",
       "      <td>16.0</td>\n",
       "      <td>3.7</td>\n",
       "      <td>39</td>\n",
       "      <td>24.5</td>\n",
       "      <td>18</td>\n",
       "      <td>0</td>\n",
       "      <td>0</td>\n",
       "      <td>1</td>\n",
       "    </tr>\n",
       "    <tr>\n",
       "      <th>384</th>\n",
       "      <td>16.1</td>\n",
       "      <td>4.3</td>\n",
       "      <td>38</td>\n",
       "      <td>25.0</td>\n",
       "      <td>31</td>\n",
       "      <td>1</td>\n",
       "      <td>0</td>\n",
       "      <td>1</td>\n",
       "    </tr>\n",
       "    <tr>\n",
       "      <th>385</th>\n",
       "      <td>16.0</td>\n",
       "      <td>3.8</td>\n",
       "      <td>45</td>\n",
       "      <td>25.0</td>\n",
       "      <td>19</td>\n",
       "      <td>0</td>\n",
       "      <td>0</td>\n",
       "      <td>1</td>\n",
       "    </tr>\n",
       "    <tr>\n",
       "      <th>386</th>\n",
       "      <td>15.4</td>\n",
       "      <td>4.6</td>\n",
       "      <td>42</td>\n",
       "      <td>25.0</td>\n",
       "      <td>31</td>\n",
       "      <td>1</td>\n",
       "      <td>0</td>\n",
       "      <td>1</td>\n",
       "    </tr>\n",
       "    <tr>\n",
       "      <th>387</th>\n",
       "      <td>14.7</td>\n",
       "      <td>5.0</td>\n",
       "      <td>25</td>\n",
       "      <td>25.0</td>\n",
       "      <td>30</td>\n",
       "      <td>1</td>\n",
       "      <td>0</td>\n",
       "      <td>1</td>\n",
       "    </tr>\n",
       "  </tbody>\n",
       "</table>\n",
       "<p>388 rows × 8 columns</p>\n",
       "</div>"
      ],
      "text/plain": [
       "     distance  consume  speed  temp_inside  temp_outside  AC  E10  SP98\n",
       "0        28.0      5.0     26         21.5            12   0    1     0\n",
       "1        12.0      4.2     30         21.5            13   0    1     0\n",
       "2        11.2      5.5     38         21.5            15   0    1     0\n",
       "3        12.9      3.9     36         21.5            14   0    1     0\n",
       "4        18.5      4.5     46         21.5            15   0    1     0\n",
       "..        ...      ...    ...          ...           ...  ..  ...   ...\n",
       "383      16.0      3.7     39         24.5            18   0    0     1\n",
       "384      16.1      4.3     38         25.0            31   1    0     1\n",
       "385      16.0      3.8     45         25.0            19   0    0     1\n",
       "386      15.4      4.6     42         25.0            31   1    0     1\n",
       "387      14.7      5.0     25         25.0            30   1    0     1\n",
       "\n",
       "[388 rows x 8 columns]"
      ]
     },
     "execution_count": 55,
     "metadata": {},
     "output_type": "execute_result"
    }
   ],
   "source": [
    "df"
   ]
  },
  {
   "cell_type": "markdown",
   "metadata": {},
   "source": [
    "We have to drop the `unnamed:0` again. Let's fix that for good."
   ]
  },
  {
   "cell_type": "markdown",
   "metadata": {},
   "source": [
    "-----------------"
   ]
  },
  {
   "cell_type": "markdown",
   "metadata": {},
   "source": [
    "# Skip if you are not interested"
   ]
  },
  {
   "cell_type": "code",
   "execution_count": null,
   "metadata": {},
   "outputs": [],
   "source": [
    "df = df.drop([\"Unnamed: 0\"], axis=1)"
   ]
  },
  {
   "cell_type": "code",
   "execution_count": 52,
   "metadata": {},
   "outputs": [
    {
     "data": {
      "text/html": [
       "<div>\n",
       "<style scoped>\n",
       "    .dataframe tbody tr th:only-of-type {\n",
       "        vertical-align: middle;\n",
       "    }\n",
       "\n",
       "    .dataframe tbody tr th {\n",
       "        vertical-align: top;\n",
       "    }\n",
       "\n",
       "    .dataframe thead th {\n",
       "        text-align: right;\n",
       "    }\n",
       "</style>\n",
       "<table border=\"1\" class=\"dataframe\">\n",
       "  <thead>\n",
       "    <tr style=\"text-align: right;\">\n",
       "      <th></th>\n",
       "      <th>distance</th>\n",
       "      <th>consume</th>\n",
       "      <th>speed</th>\n",
       "      <th>temp_inside</th>\n",
       "      <th>temp_outside</th>\n",
       "      <th>AC</th>\n",
       "      <th>E10</th>\n",
       "      <th>SP98</th>\n",
       "    </tr>\n",
       "  </thead>\n",
       "  <tbody>\n",
       "    <tr>\n",
       "      <th>0</th>\n",
       "      <td>28.0</td>\n",
       "      <td>5.0</td>\n",
       "      <td>26</td>\n",
       "      <td>21.5</td>\n",
       "      <td>12</td>\n",
       "      <td>0</td>\n",
       "      <td>1</td>\n",
       "      <td>0</td>\n",
       "    </tr>\n",
       "    <tr>\n",
       "      <th>1</th>\n",
       "      <td>12.0</td>\n",
       "      <td>4.2</td>\n",
       "      <td>30</td>\n",
       "      <td>21.5</td>\n",
       "      <td>13</td>\n",
       "      <td>0</td>\n",
       "      <td>1</td>\n",
       "      <td>0</td>\n",
       "    </tr>\n",
       "    <tr>\n",
       "      <th>2</th>\n",
       "      <td>11.2</td>\n",
       "      <td>5.5</td>\n",
       "      <td>38</td>\n",
       "      <td>21.5</td>\n",
       "      <td>15</td>\n",
       "      <td>0</td>\n",
       "      <td>1</td>\n",
       "      <td>0</td>\n",
       "    </tr>\n",
       "    <tr>\n",
       "      <th>3</th>\n",
       "      <td>12.9</td>\n",
       "      <td>3.9</td>\n",
       "      <td>36</td>\n",
       "      <td>21.5</td>\n",
       "      <td>14</td>\n",
       "      <td>0</td>\n",
       "      <td>1</td>\n",
       "      <td>0</td>\n",
       "    </tr>\n",
       "    <tr>\n",
       "      <th>4</th>\n",
       "      <td>18.5</td>\n",
       "      <td>4.5</td>\n",
       "      <td>46</td>\n",
       "      <td>21.5</td>\n",
       "      <td>15</td>\n",
       "      <td>0</td>\n",
       "      <td>1</td>\n",
       "      <td>0</td>\n",
       "    </tr>\n",
       "    <tr>\n",
       "      <th>...</th>\n",
       "      <td>...</td>\n",
       "      <td>...</td>\n",
       "      <td>...</td>\n",
       "      <td>...</td>\n",
       "      <td>...</td>\n",
       "      <td>...</td>\n",
       "      <td>...</td>\n",
       "      <td>...</td>\n",
       "    </tr>\n",
       "    <tr>\n",
       "      <th>383</th>\n",
       "      <td>16.0</td>\n",
       "      <td>3.7</td>\n",
       "      <td>39</td>\n",
       "      <td>24.5</td>\n",
       "      <td>18</td>\n",
       "      <td>0</td>\n",
       "      <td>0</td>\n",
       "      <td>1</td>\n",
       "    </tr>\n",
       "    <tr>\n",
       "      <th>384</th>\n",
       "      <td>16.1</td>\n",
       "      <td>4.3</td>\n",
       "      <td>38</td>\n",
       "      <td>25.0</td>\n",
       "      <td>31</td>\n",
       "      <td>1</td>\n",
       "      <td>0</td>\n",
       "      <td>1</td>\n",
       "    </tr>\n",
       "    <tr>\n",
       "      <th>385</th>\n",
       "      <td>16.0</td>\n",
       "      <td>3.8</td>\n",
       "      <td>45</td>\n",
       "      <td>25.0</td>\n",
       "      <td>19</td>\n",
       "      <td>0</td>\n",
       "      <td>0</td>\n",
       "      <td>1</td>\n",
       "    </tr>\n",
       "    <tr>\n",
       "      <th>386</th>\n",
       "      <td>15.4</td>\n",
       "      <td>4.6</td>\n",
       "      <td>42</td>\n",
       "      <td>25.0</td>\n",
       "      <td>31</td>\n",
       "      <td>1</td>\n",
       "      <td>0</td>\n",
       "      <td>1</td>\n",
       "    </tr>\n",
       "    <tr>\n",
       "      <th>387</th>\n",
       "      <td>14.7</td>\n",
       "      <td>5.0</td>\n",
       "      <td>25</td>\n",
       "      <td>25.0</td>\n",
       "      <td>30</td>\n",
       "      <td>1</td>\n",
       "      <td>0</td>\n",
       "      <td>1</td>\n",
       "    </tr>\n",
       "  </tbody>\n",
       "</table>\n",
       "<p>388 rows × 8 columns</p>\n",
       "</div>"
      ],
      "text/plain": [
       "     distance  consume  speed  temp_inside  temp_outside  AC  E10  SP98\n",
       "0        28.0      5.0     26         21.5            12   0    1     0\n",
       "1        12.0      4.2     30         21.5            13   0    1     0\n",
       "2        11.2      5.5     38         21.5            15   0    1     0\n",
       "3        12.9      3.9     36         21.5            14   0    1     0\n",
       "4        18.5      4.5     46         21.5            15   0    1     0\n",
       "..        ...      ...    ...          ...           ...  ..  ...   ...\n",
       "383      16.0      3.7     39         24.5            18   0    0     1\n",
       "384      16.1      4.3     38         25.0            31   1    0     1\n",
       "385      16.0      3.8     45         25.0            19   0    0     1\n",
       "386      15.4      4.6     42         25.0            31   1    0     1\n",
       "387      14.7      5.0     25         25.0            30   1    0     1\n",
       "\n",
       "[388 rows x 8 columns]"
      ]
     },
     "execution_count": 52,
     "metadata": {},
     "output_type": "execute_result"
    }
   ],
   "source": [
    "df"
   ]
  },
  {
   "cell_type": "code",
   "execution_count": 53,
   "metadata": {},
   "outputs": [],
   "source": [
    "df.to_csv('/Users/claytonlouden/reto-data/data/clean.csv',index=False) "
   ]
  },
  {
   "cell_type": "code",
   "execution_count": 50,
   "metadata": {},
   "outputs": [
    {
     "data": {
      "text/html": [
       "<div>\n",
       "<style scoped>\n",
       "    .dataframe tbody tr th:only-of-type {\n",
       "        vertical-align: middle;\n",
       "    }\n",
       "\n",
       "    .dataframe tbody tr th {\n",
       "        vertical-align: top;\n",
       "    }\n",
       "\n",
       "    .dataframe thead th {\n",
       "        text-align: right;\n",
       "    }\n",
       "</style>\n",
       "<table border=\"1\" class=\"dataframe\">\n",
       "  <thead>\n",
       "    <tr style=\"text-align: right;\">\n",
       "      <th></th>\n",
       "      <th>distance</th>\n",
       "      <th>consume</th>\n",
       "      <th>speed</th>\n",
       "      <th>temp_inside</th>\n",
       "      <th>temp_outside</th>\n",
       "      <th>AC</th>\n",
       "      <th>E10</th>\n",
       "      <th>SP98</th>\n",
       "    </tr>\n",
       "  </thead>\n",
       "  <tbody>\n",
       "    <tr>\n",
       "      <th>0</th>\n",
       "      <td>28.0</td>\n",
       "      <td>5.0</td>\n",
       "      <td>26</td>\n",
       "      <td>21.5</td>\n",
       "      <td>12</td>\n",
       "      <td>0</td>\n",
       "      <td>1</td>\n",
       "      <td>0</td>\n",
       "    </tr>\n",
       "    <tr>\n",
       "      <th>1</th>\n",
       "      <td>12.0</td>\n",
       "      <td>4.2</td>\n",
       "      <td>30</td>\n",
       "      <td>21.5</td>\n",
       "      <td>13</td>\n",
       "      <td>0</td>\n",
       "      <td>1</td>\n",
       "      <td>0</td>\n",
       "    </tr>\n",
       "    <tr>\n",
       "      <th>2</th>\n",
       "      <td>11.2</td>\n",
       "      <td>5.5</td>\n",
       "      <td>38</td>\n",
       "      <td>21.5</td>\n",
       "      <td>15</td>\n",
       "      <td>0</td>\n",
       "      <td>1</td>\n",
       "      <td>0</td>\n",
       "    </tr>\n",
       "    <tr>\n",
       "      <th>3</th>\n",
       "      <td>12.9</td>\n",
       "      <td>3.9</td>\n",
       "      <td>36</td>\n",
       "      <td>21.5</td>\n",
       "      <td>14</td>\n",
       "      <td>0</td>\n",
       "      <td>1</td>\n",
       "      <td>0</td>\n",
       "    </tr>\n",
       "    <tr>\n",
       "      <th>4</th>\n",
       "      <td>18.5</td>\n",
       "      <td>4.5</td>\n",
       "      <td>46</td>\n",
       "      <td>21.5</td>\n",
       "      <td>15</td>\n",
       "      <td>0</td>\n",
       "      <td>1</td>\n",
       "      <td>0</td>\n",
       "    </tr>\n",
       "    <tr>\n",
       "      <th>...</th>\n",
       "      <td>...</td>\n",
       "      <td>...</td>\n",
       "      <td>...</td>\n",
       "      <td>...</td>\n",
       "      <td>...</td>\n",
       "      <td>...</td>\n",
       "      <td>...</td>\n",
       "      <td>...</td>\n",
       "    </tr>\n",
       "    <tr>\n",
       "      <th>383</th>\n",
       "      <td>16.0</td>\n",
       "      <td>3.7</td>\n",
       "      <td>39</td>\n",
       "      <td>24.5</td>\n",
       "      <td>18</td>\n",
       "      <td>0</td>\n",
       "      <td>0</td>\n",
       "      <td>1</td>\n",
       "    </tr>\n",
       "    <tr>\n",
       "      <th>384</th>\n",
       "      <td>16.1</td>\n",
       "      <td>4.3</td>\n",
       "      <td>38</td>\n",
       "      <td>25.0</td>\n",
       "      <td>31</td>\n",
       "      <td>1</td>\n",
       "      <td>0</td>\n",
       "      <td>1</td>\n",
       "    </tr>\n",
       "    <tr>\n",
       "      <th>385</th>\n",
       "      <td>16.0</td>\n",
       "      <td>3.8</td>\n",
       "      <td>45</td>\n",
       "      <td>25.0</td>\n",
       "      <td>19</td>\n",
       "      <td>0</td>\n",
       "      <td>0</td>\n",
       "      <td>1</td>\n",
       "    </tr>\n",
       "    <tr>\n",
       "      <th>386</th>\n",
       "      <td>15.4</td>\n",
       "      <td>4.6</td>\n",
       "      <td>42</td>\n",
       "      <td>25.0</td>\n",
       "      <td>31</td>\n",
       "      <td>1</td>\n",
       "      <td>0</td>\n",
       "      <td>1</td>\n",
       "    </tr>\n",
       "    <tr>\n",
       "      <th>387</th>\n",
       "      <td>14.7</td>\n",
       "      <td>5.0</td>\n",
       "      <td>25</td>\n",
       "      <td>25.0</td>\n",
       "      <td>30</td>\n",
       "      <td>1</td>\n",
       "      <td>0</td>\n",
       "      <td>1</td>\n",
       "    </tr>\n",
       "  </tbody>\n",
       "</table>\n",
       "<p>388 rows × 8 columns</p>\n",
       "</div>"
      ],
      "text/plain": [
       "     distance  consume  speed  temp_inside  temp_outside  AC  E10  SP98\n",
       "0        28.0      5.0     26         21.5            12   0    1     0\n",
       "1        12.0      4.2     30         21.5            13   0    1     0\n",
       "2        11.2      5.5     38         21.5            15   0    1     0\n",
       "3        12.9      3.9     36         21.5            14   0    1     0\n",
       "4        18.5      4.5     46         21.5            15   0    1     0\n",
       "..        ...      ...    ...          ...           ...  ..  ...   ...\n",
       "383      16.0      3.7     39         24.5            18   0    0     1\n",
       "384      16.1      4.3     38         25.0            31   1    0     1\n",
       "385      16.0      3.8     45         25.0            19   0    0     1\n",
       "386      15.4      4.6     42         25.0            31   1    0     1\n",
       "387      14.7      5.0     25         25.0            30   1    0     1\n",
       "\n",
       "[388 rows x 8 columns]"
      ]
     },
     "execution_count": 50,
     "metadata": {},
     "output_type": "execute_result"
    }
   ],
   "source": [
    "df"
   ]
  },
  {
   "cell_type": "markdown",
   "metadata": {},
   "source": [
    "--------------\n",
    "# Continue here"
   ]
  },
  {
   "cell_type": "markdown",
   "metadata": {},
   "source": [
    "Okay we need to change tac before moving on. In the previous Jupyter, we discovered that the \"AC\" was on at least three times as much with SP98 than with E10 which considering the about of time driven could mean a lot for the efficiency."
   ]
  },
  {
   "cell_type": "markdown",
   "metadata": {},
   "source": [
    "Steps:\n",
    "- we are going to divide speed with distance because the AC is something that we need to calculate in hours.\n",
    "- we will apply this to the main df and we'll probably add the other calulations(\"mileage\", \"price\")"
   ]
  },
  {
   "cell_type": "code",
   "execution_count": 99,
   "metadata": {},
   "outputs": [],
   "source": [
    "# Calculate Fuel Efficiency kilometer per liter\n",
    "df[\"mileage(km/L)\"] = round(df[\"distance\"]/df[\"consume\"], 2)"
   ]
  },
  {
   "cell_type": "code",
   "execution_count": 104,
   "metadata": {},
   "outputs": [],
   "source": [
    "df = df.drop([\"mileage(km)\"], axis=1)"
   ]
  },
  {
   "cell_type": "code",
   "execution_count": 107,
   "metadata": {},
   "outputs": [
    {
     "data": {
      "text/html": [
       "<div>\n",
       "<style scoped>\n",
       "    .dataframe tbody tr th:only-of-type {\n",
       "        vertical-align: middle;\n",
       "    }\n",
       "\n",
       "    .dataframe tbody tr th {\n",
       "        vertical-align: top;\n",
       "    }\n",
       "\n",
       "    .dataframe thead th {\n",
       "        text-align: right;\n",
       "    }\n",
       "</style>\n",
       "<table border=\"1\" class=\"dataframe\">\n",
       "  <thead>\n",
       "    <tr style=\"text-align: right;\">\n",
       "      <th></th>\n",
       "      <th>distance</th>\n",
       "      <th>consume</th>\n",
       "      <th>speed</th>\n",
       "      <th>temp_inside</th>\n",
       "      <th>temp_outside</th>\n",
       "      <th>AC</th>\n",
       "      <th>E10</th>\n",
       "      <th>SP98</th>\n",
       "      <th>mileage(km/L)</th>\n",
       "    </tr>\n",
       "  </thead>\n",
       "  <tbody>\n",
       "    <tr>\n",
       "      <th>0</th>\n",
       "      <td>28.0</td>\n",
       "      <td>5.0</td>\n",
       "      <td>26</td>\n",
       "      <td>21.5</td>\n",
       "      <td>12</td>\n",
       "      <td>0</td>\n",
       "      <td>1</td>\n",
       "      <td>0</td>\n",
       "      <td>5.60</td>\n",
       "    </tr>\n",
       "    <tr>\n",
       "      <th>1</th>\n",
       "      <td>12.0</td>\n",
       "      <td>4.2</td>\n",
       "      <td>30</td>\n",
       "      <td>21.5</td>\n",
       "      <td>13</td>\n",
       "      <td>0</td>\n",
       "      <td>1</td>\n",
       "      <td>0</td>\n",
       "      <td>2.86</td>\n",
       "    </tr>\n",
       "    <tr>\n",
       "      <th>2</th>\n",
       "      <td>11.2</td>\n",
       "      <td>5.5</td>\n",
       "      <td>38</td>\n",
       "      <td>21.5</td>\n",
       "      <td>15</td>\n",
       "      <td>0</td>\n",
       "      <td>1</td>\n",
       "      <td>0</td>\n",
       "      <td>2.04</td>\n",
       "    </tr>\n",
       "    <tr>\n",
       "      <th>3</th>\n",
       "      <td>12.9</td>\n",
       "      <td>3.9</td>\n",
       "      <td>36</td>\n",
       "      <td>21.5</td>\n",
       "      <td>14</td>\n",
       "      <td>0</td>\n",
       "      <td>1</td>\n",
       "      <td>0</td>\n",
       "      <td>3.31</td>\n",
       "    </tr>\n",
       "    <tr>\n",
       "      <th>4</th>\n",
       "      <td>18.5</td>\n",
       "      <td>4.5</td>\n",
       "      <td>46</td>\n",
       "      <td>21.5</td>\n",
       "      <td>15</td>\n",
       "      <td>0</td>\n",
       "      <td>1</td>\n",
       "      <td>0</td>\n",
       "      <td>4.11</td>\n",
       "    </tr>\n",
       "    <tr>\n",
       "      <th>...</th>\n",
       "      <td>...</td>\n",
       "      <td>...</td>\n",
       "      <td>...</td>\n",
       "      <td>...</td>\n",
       "      <td>...</td>\n",
       "      <td>...</td>\n",
       "      <td>...</td>\n",
       "      <td>...</td>\n",
       "      <td>...</td>\n",
       "    </tr>\n",
       "    <tr>\n",
       "      <th>383</th>\n",
       "      <td>16.0</td>\n",
       "      <td>3.7</td>\n",
       "      <td>39</td>\n",
       "      <td>24.5</td>\n",
       "      <td>18</td>\n",
       "      <td>0</td>\n",
       "      <td>0</td>\n",
       "      <td>1</td>\n",
       "      <td>4.32</td>\n",
       "    </tr>\n",
       "    <tr>\n",
       "      <th>384</th>\n",
       "      <td>16.1</td>\n",
       "      <td>4.3</td>\n",
       "      <td>38</td>\n",
       "      <td>25.0</td>\n",
       "      <td>31</td>\n",
       "      <td>1</td>\n",
       "      <td>0</td>\n",
       "      <td>1</td>\n",
       "      <td>3.74</td>\n",
       "    </tr>\n",
       "    <tr>\n",
       "      <th>385</th>\n",
       "      <td>16.0</td>\n",
       "      <td>3.8</td>\n",
       "      <td>45</td>\n",
       "      <td>25.0</td>\n",
       "      <td>19</td>\n",
       "      <td>0</td>\n",
       "      <td>0</td>\n",
       "      <td>1</td>\n",
       "      <td>4.21</td>\n",
       "    </tr>\n",
       "    <tr>\n",
       "      <th>386</th>\n",
       "      <td>15.4</td>\n",
       "      <td>4.6</td>\n",
       "      <td>42</td>\n",
       "      <td>25.0</td>\n",
       "      <td>31</td>\n",
       "      <td>1</td>\n",
       "      <td>0</td>\n",
       "      <td>1</td>\n",
       "      <td>3.35</td>\n",
       "    </tr>\n",
       "    <tr>\n",
       "      <th>387</th>\n",
       "      <td>14.7</td>\n",
       "      <td>5.0</td>\n",
       "      <td>25</td>\n",
       "      <td>25.0</td>\n",
       "      <td>30</td>\n",
       "      <td>1</td>\n",
       "      <td>0</td>\n",
       "      <td>1</td>\n",
       "      <td>2.94</td>\n",
       "    </tr>\n",
       "  </tbody>\n",
       "</table>\n",
       "<p>388 rows × 9 columns</p>\n",
       "</div>"
      ],
      "text/plain": [
       "     distance  consume  speed  temp_inside  temp_outside  AC  E10  SP98  \\\n",
       "0        28.0      5.0     26         21.5            12   0    1     0   \n",
       "1        12.0      4.2     30         21.5            13   0    1     0   \n",
       "2        11.2      5.5     38         21.5            15   0    1     0   \n",
       "3        12.9      3.9     36         21.5            14   0    1     0   \n",
       "4        18.5      4.5     46         21.5            15   0    1     0   \n",
       "..        ...      ...    ...          ...           ...  ..  ...   ...   \n",
       "383      16.0      3.7     39         24.5            18   0    0     1   \n",
       "384      16.1      4.3     38         25.0            31   1    0     1   \n",
       "385      16.0      3.8     45         25.0            19   0    0     1   \n",
       "386      15.4      4.6     42         25.0            31   1    0     1   \n",
       "387      14.7      5.0     25         25.0            30   1    0     1   \n",
       "\n",
       "     mileage(km/L)  \n",
       "0             5.60  \n",
       "1             2.86  \n",
       "2             2.04  \n",
       "3             3.31  \n",
       "4             4.11  \n",
       "..             ...  \n",
       "383           4.32  \n",
       "384           3.74  \n",
       "385           4.21  \n",
       "386           3.35  \n",
       "387           2.94  \n",
       "\n",
       "[388 rows x 9 columns]"
      ]
     },
     "execution_count": 107,
     "metadata": {},
     "output_type": "execute_result"
    }
   ],
   "source": [
    "df"
   ]
  },
  {
   "cell_type": "code",
   "execution_count": 108,
   "metadata": {},
   "outputs": [],
   "source": [
    "# Calculate expense based on 1.46€ for SP98 \n",
    "df[\"expense(€)\"] = round((df.loc[df['SP98'] == 1][\"consume\"] * 1.46),2) "
   ]
  },
  {
   "cell_type": "code",
   "execution_count": 109,
   "metadata": {},
   "outputs": [
    {
     "data": {
      "text/html": [
       "<div>\n",
       "<style scoped>\n",
       "    .dataframe tbody tr th:only-of-type {\n",
       "        vertical-align: middle;\n",
       "    }\n",
       "\n",
       "    .dataframe tbody tr th {\n",
       "        vertical-align: top;\n",
       "    }\n",
       "\n",
       "    .dataframe thead th {\n",
       "        text-align: right;\n",
       "    }\n",
       "</style>\n",
       "<table border=\"1\" class=\"dataframe\">\n",
       "  <thead>\n",
       "    <tr style=\"text-align: right;\">\n",
       "      <th></th>\n",
       "      <th>distance</th>\n",
       "      <th>consume</th>\n",
       "      <th>speed</th>\n",
       "      <th>temp_inside</th>\n",
       "      <th>temp_outside</th>\n",
       "      <th>AC</th>\n",
       "      <th>E10</th>\n",
       "      <th>SP98</th>\n",
       "      <th>mileage(km/L)</th>\n",
       "      <th>expense(€)</th>\n",
       "    </tr>\n",
       "  </thead>\n",
       "  <tbody>\n",
       "    <tr>\n",
       "      <th>0</th>\n",
       "      <td>28.0</td>\n",
       "      <td>5.0</td>\n",
       "      <td>26</td>\n",
       "      <td>21.5</td>\n",
       "      <td>12</td>\n",
       "      <td>0</td>\n",
       "      <td>1</td>\n",
       "      <td>0</td>\n",
       "      <td>5.60</td>\n",
       "      <td>NaN</td>\n",
       "    </tr>\n",
       "    <tr>\n",
       "      <th>1</th>\n",
       "      <td>12.0</td>\n",
       "      <td>4.2</td>\n",
       "      <td>30</td>\n",
       "      <td>21.5</td>\n",
       "      <td>13</td>\n",
       "      <td>0</td>\n",
       "      <td>1</td>\n",
       "      <td>0</td>\n",
       "      <td>2.86</td>\n",
       "      <td>NaN</td>\n",
       "    </tr>\n",
       "    <tr>\n",
       "      <th>2</th>\n",
       "      <td>11.2</td>\n",
       "      <td>5.5</td>\n",
       "      <td>38</td>\n",
       "      <td>21.5</td>\n",
       "      <td>15</td>\n",
       "      <td>0</td>\n",
       "      <td>1</td>\n",
       "      <td>0</td>\n",
       "      <td>2.04</td>\n",
       "      <td>NaN</td>\n",
       "    </tr>\n",
       "    <tr>\n",
       "      <th>3</th>\n",
       "      <td>12.9</td>\n",
       "      <td>3.9</td>\n",
       "      <td>36</td>\n",
       "      <td>21.5</td>\n",
       "      <td>14</td>\n",
       "      <td>0</td>\n",
       "      <td>1</td>\n",
       "      <td>0</td>\n",
       "      <td>3.31</td>\n",
       "      <td>NaN</td>\n",
       "    </tr>\n",
       "    <tr>\n",
       "      <th>4</th>\n",
       "      <td>18.5</td>\n",
       "      <td>4.5</td>\n",
       "      <td>46</td>\n",
       "      <td>21.5</td>\n",
       "      <td>15</td>\n",
       "      <td>0</td>\n",
       "      <td>1</td>\n",
       "      <td>0</td>\n",
       "      <td>4.11</td>\n",
       "      <td>NaN</td>\n",
       "    </tr>\n",
       "    <tr>\n",
       "      <th>...</th>\n",
       "      <td>...</td>\n",
       "      <td>...</td>\n",
       "      <td>...</td>\n",
       "      <td>...</td>\n",
       "      <td>...</td>\n",
       "      <td>...</td>\n",
       "      <td>...</td>\n",
       "      <td>...</td>\n",
       "      <td>...</td>\n",
       "      <td>...</td>\n",
       "    </tr>\n",
       "    <tr>\n",
       "      <th>383</th>\n",
       "      <td>16.0</td>\n",
       "      <td>3.7</td>\n",
       "      <td>39</td>\n",
       "      <td>24.5</td>\n",
       "      <td>18</td>\n",
       "      <td>0</td>\n",
       "      <td>0</td>\n",
       "      <td>1</td>\n",
       "      <td>4.32</td>\n",
       "      <td>5.40</td>\n",
       "    </tr>\n",
       "    <tr>\n",
       "      <th>384</th>\n",
       "      <td>16.1</td>\n",
       "      <td>4.3</td>\n",
       "      <td>38</td>\n",
       "      <td>25.0</td>\n",
       "      <td>31</td>\n",
       "      <td>1</td>\n",
       "      <td>0</td>\n",
       "      <td>1</td>\n",
       "      <td>3.74</td>\n",
       "      <td>6.28</td>\n",
       "    </tr>\n",
       "    <tr>\n",
       "      <th>385</th>\n",
       "      <td>16.0</td>\n",
       "      <td>3.8</td>\n",
       "      <td>45</td>\n",
       "      <td>25.0</td>\n",
       "      <td>19</td>\n",
       "      <td>0</td>\n",
       "      <td>0</td>\n",
       "      <td>1</td>\n",
       "      <td>4.21</td>\n",
       "      <td>5.55</td>\n",
       "    </tr>\n",
       "    <tr>\n",
       "      <th>386</th>\n",
       "      <td>15.4</td>\n",
       "      <td>4.6</td>\n",
       "      <td>42</td>\n",
       "      <td>25.0</td>\n",
       "      <td>31</td>\n",
       "      <td>1</td>\n",
       "      <td>0</td>\n",
       "      <td>1</td>\n",
       "      <td>3.35</td>\n",
       "      <td>6.72</td>\n",
       "    </tr>\n",
       "    <tr>\n",
       "      <th>387</th>\n",
       "      <td>14.7</td>\n",
       "      <td>5.0</td>\n",
       "      <td>25</td>\n",
       "      <td>25.0</td>\n",
       "      <td>30</td>\n",
       "      <td>1</td>\n",
       "      <td>0</td>\n",
       "      <td>1</td>\n",
       "      <td>2.94</td>\n",
       "      <td>7.30</td>\n",
       "    </tr>\n",
       "  </tbody>\n",
       "</table>\n",
       "<p>388 rows × 10 columns</p>\n",
       "</div>"
      ],
      "text/plain": [
       "     distance  consume  speed  temp_inside  temp_outside  AC  E10  SP98  \\\n",
       "0        28.0      5.0     26         21.5            12   0    1     0   \n",
       "1        12.0      4.2     30         21.5            13   0    1     0   \n",
       "2        11.2      5.5     38         21.5            15   0    1     0   \n",
       "3        12.9      3.9     36         21.5            14   0    1     0   \n",
       "4        18.5      4.5     46         21.5            15   0    1     0   \n",
       "..        ...      ...    ...          ...           ...  ..  ...   ...   \n",
       "383      16.0      3.7     39         24.5            18   0    0     1   \n",
       "384      16.1      4.3     38         25.0            31   1    0     1   \n",
       "385      16.0      3.8     45         25.0            19   0    0     1   \n",
       "386      15.4      4.6     42         25.0            31   1    0     1   \n",
       "387      14.7      5.0     25         25.0            30   1    0     1   \n",
       "\n",
       "     mileage(km/L)  expense(€)  \n",
       "0             5.60         NaN  \n",
       "1             2.86         NaN  \n",
       "2             2.04         NaN  \n",
       "3             3.31         NaN  \n",
       "4             4.11         NaN  \n",
       "..             ...         ...  \n",
       "383           4.32        5.40  \n",
       "384           3.74        6.28  \n",
       "385           4.21        5.55  \n",
       "386           3.35        6.72  \n",
       "387           2.94        7.30  \n",
       "\n",
       "[388 rows x 10 columns]"
      ]
     },
     "execution_count": 109,
     "metadata": {},
     "output_type": "execute_result"
    }
   ],
   "source": [
    "df"
   ]
  },
  {
   "cell_type": "code",
   "execution_count": 110,
   "metadata": {},
   "outputs": [],
   "source": [
    "# Calculate expense based on 1.38€ for E10\n",
    "df.loc[(df.E10 == 1), ['expense(€)']] = round((df[\"consume\"]*1.38), 2)"
   ]
  },
  {
   "cell_type": "code",
   "execution_count": 111,
   "metadata": {},
   "outputs": [
    {
     "data": {
      "text/html": [
       "<div>\n",
       "<style scoped>\n",
       "    .dataframe tbody tr th:only-of-type {\n",
       "        vertical-align: middle;\n",
       "    }\n",
       "\n",
       "    .dataframe tbody tr th {\n",
       "        vertical-align: top;\n",
       "    }\n",
       "\n",
       "    .dataframe thead th {\n",
       "        text-align: right;\n",
       "    }\n",
       "</style>\n",
       "<table border=\"1\" class=\"dataframe\">\n",
       "  <thead>\n",
       "    <tr style=\"text-align: right;\">\n",
       "      <th></th>\n",
       "      <th>distance</th>\n",
       "      <th>consume</th>\n",
       "      <th>speed</th>\n",
       "      <th>temp_inside</th>\n",
       "      <th>temp_outside</th>\n",
       "      <th>AC</th>\n",
       "      <th>E10</th>\n",
       "      <th>SP98</th>\n",
       "      <th>mileage(km/L)</th>\n",
       "      <th>expense(€)</th>\n",
       "    </tr>\n",
       "  </thead>\n",
       "  <tbody>\n",
       "    <tr>\n",
       "      <th>0</th>\n",
       "      <td>28.0</td>\n",
       "      <td>5.0</td>\n",
       "      <td>26</td>\n",
       "      <td>21.5</td>\n",
       "      <td>12</td>\n",
       "      <td>0</td>\n",
       "      <td>1</td>\n",
       "      <td>0</td>\n",
       "      <td>5.60</td>\n",
       "      <td>6.90</td>\n",
       "    </tr>\n",
       "    <tr>\n",
       "      <th>1</th>\n",
       "      <td>12.0</td>\n",
       "      <td>4.2</td>\n",
       "      <td>30</td>\n",
       "      <td>21.5</td>\n",
       "      <td>13</td>\n",
       "      <td>0</td>\n",
       "      <td>1</td>\n",
       "      <td>0</td>\n",
       "      <td>2.86</td>\n",
       "      <td>5.80</td>\n",
       "    </tr>\n",
       "    <tr>\n",
       "      <th>2</th>\n",
       "      <td>11.2</td>\n",
       "      <td>5.5</td>\n",
       "      <td>38</td>\n",
       "      <td>21.5</td>\n",
       "      <td>15</td>\n",
       "      <td>0</td>\n",
       "      <td>1</td>\n",
       "      <td>0</td>\n",
       "      <td>2.04</td>\n",
       "      <td>7.59</td>\n",
       "    </tr>\n",
       "    <tr>\n",
       "      <th>3</th>\n",
       "      <td>12.9</td>\n",
       "      <td>3.9</td>\n",
       "      <td>36</td>\n",
       "      <td>21.5</td>\n",
       "      <td>14</td>\n",
       "      <td>0</td>\n",
       "      <td>1</td>\n",
       "      <td>0</td>\n",
       "      <td>3.31</td>\n",
       "      <td>5.38</td>\n",
       "    </tr>\n",
       "    <tr>\n",
       "      <th>4</th>\n",
       "      <td>18.5</td>\n",
       "      <td>4.5</td>\n",
       "      <td>46</td>\n",
       "      <td>21.5</td>\n",
       "      <td>15</td>\n",
       "      <td>0</td>\n",
       "      <td>1</td>\n",
       "      <td>0</td>\n",
       "      <td>4.11</td>\n",
       "      <td>6.21</td>\n",
       "    </tr>\n",
       "    <tr>\n",
       "      <th>...</th>\n",
       "      <td>...</td>\n",
       "      <td>...</td>\n",
       "      <td>...</td>\n",
       "      <td>...</td>\n",
       "      <td>...</td>\n",
       "      <td>...</td>\n",
       "      <td>...</td>\n",
       "      <td>...</td>\n",
       "      <td>...</td>\n",
       "      <td>...</td>\n",
       "    </tr>\n",
       "    <tr>\n",
       "      <th>383</th>\n",
       "      <td>16.0</td>\n",
       "      <td>3.7</td>\n",
       "      <td>39</td>\n",
       "      <td>24.5</td>\n",
       "      <td>18</td>\n",
       "      <td>0</td>\n",
       "      <td>0</td>\n",
       "      <td>1</td>\n",
       "      <td>4.32</td>\n",
       "      <td>5.40</td>\n",
       "    </tr>\n",
       "    <tr>\n",
       "      <th>384</th>\n",
       "      <td>16.1</td>\n",
       "      <td>4.3</td>\n",
       "      <td>38</td>\n",
       "      <td>25.0</td>\n",
       "      <td>31</td>\n",
       "      <td>1</td>\n",
       "      <td>0</td>\n",
       "      <td>1</td>\n",
       "      <td>3.74</td>\n",
       "      <td>6.28</td>\n",
       "    </tr>\n",
       "    <tr>\n",
       "      <th>385</th>\n",
       "      <td>16.0</td>\n",
       "      <td>3.8</td>\n",
       "      <td>45</td>\n",
       "      <td>25.0</td>\n",
       "      <td>19</td>\n",
       "      <td>0</td>\n",
       "      <td>0</td>\n",
       "      <td>1</td>\n",
       "      <td>4.21</td>\n",
       "      <td>5.55</td>\n",
       "    </tr>\n",
       "    <tr>\n",
       "      <th>386</th>\n",
       "      <td>15.4</td>\n",
       "      <td>4.6</td>\n",
       "      <td>42</td>\n",
       "      <td>25.0</td>\n",
       "      <td>31</td>\n",
       "      <td>1</td>\n",
       "      <td>0</td>\n",
       "      <td>1</td>\n",
       "      <td>3.35</td>\n",
       "      <td>6.72</td>\n",
       "    </tr>\n",
       "    <tr>\n",
       "      <th>387</th>\n",
       "      <td>14.7</td>\n",
       "      <td>5.0</td>\n",
       "      <td>25</td>\n",
       "      <td>25.0</td>\n",
       "      <td>30</td>\n",
       "      <td>1</td>\n",
       "      <td>0</td>\n",
       "      <td>1</td>\n",
       "      <td>2.94</td>\n",
       "      <td>7.30</td>\n",
       "    </tr>\n",
       "  </tbody>\n",
       "</table>\n",
       "<p>388 rows × 10 columns</p>\n",
       "</div>"
      ],
      "text/plain": [
       "     distance  consume  speed  temp_inside  temp_outside  AC  E10  SP98  \\\n",
       "0        28.0      5.0     26         21.5            12   0    1     0   \n",
       "1        12.0      4.2     30         21.5            13   0    1     0   \n",
       "2        11.2      5.5     38         21.5            15   0    1     0   \n",
       "3        12.9      3.9     36         21.5            14   0    1     0   \n",
       "4        18.5      4.5     46         21.5            15   0    1     0   \n",
       "..        ...      ...    ...          ...           ...  ..  ...   ...   \n",
       "383      16.0      3.7     39         24.5            18   0    0     1   \n",
       "384      16.1      4.3     38         25.0            31   1    0     1   \n",
       "385      16.0      3.8     45         25.0            19   0    0     1   \n",
       "386      15.4      4.6     42         25.0            31   1    0     1   \n",
       "387      14.7      5.0     25         25.0            30   1    0     1   \n",
       "\n",
       "     mileage(km/L)  expense(€)  \n",
       "0             5.60        6.90  \n",
       "1             2.86        5.80  \n",
       "2             2.04        7.59  \n",
       "3             3.31        5.38  \n",
       "4             4.11        6.21  \n",
       "..             ...         ...  \n",
       "383           4.32        5.40  \n",
       "384           3.74        6.28  \n",
       "385           4.21        5.55  \n",
       "386           3.35        6.72  \n",
       "387           2.94        7.30  \n",
       "\n",
       "[388 rows x 10 columns]"
      ]
     },
     "execution_count": 111,
     "metadata": {},
     "output_type": "execute_result"
    }
   ],
   "source": [
    "df"
   ]
  },
  {
   "cell_type": "code",
   "execution_count": 112,
   "metadata": {},
   "outputs": [],
   "source": [
    "# Estimate travel time based on speed and distance reported\n",
    "df[\"estimate(hrs)\"] = round((df['distance']/df['speed']),2)"
   ]
  },
  {
   "cell_type": "code",
   "execution_count": 113,
   "metadata": {},
   "outputs": [
    {
     "data": {
      "text/html": [
       "<div>\n",
       "<style scoped>\n",
       "    .dataframe tbody tr th:only-of-type {\n",
       "        vertical-align: middle;\n",
       "    }\n",
       "\n",
       "    .dataframe tbody tr th {\n",
       "        vertical-align: top;\n",
       "    }\n",
       "\n",
       "    .dataframe thead th {\n",
       "        text-align: right;\n",
       "    }\n",
       "</style>\n",
       "<table border=\"1\" class=\"dataframe\">\n",
       "  <thead>\n",
       "    <tr style=\"text-align: right;\">\n",
       "      <th></th>\n",
       "      <th>distance</th>\n",
       "      <th>consume</th>\n",
       "      <th>speed</th>\n",
       "      <th>temp_inside</th>\n",
       "      <th>temp_outside</th>\n",
       "      <th>AC</th>\n",
       "      <th>E10</th>\n",
       "      <th>SP98</th>\n",
       "      <th>mileage(km/L)</th>\n",
       "      <th>expense(€)</th>\n",
       "      <th>estimate(hrs)</th>\n",
       "    </tr>\n",
       "  </thead>\n",
       "  <tbody>\n",
       "    <tr>\n",
       "      <th>0</th>\n",
       "      <td>28.0</td>\n",
       "      <td>5.0</td>\n",
       "      <td>26</td>\n",
       "      <td>21.5</td>\n",
       "      <td>12</td>\n",
       "      <td>0</td>\n",
       "      <td>1</td>\n",
       "      <td>0</td>\n",
       "      <td>5.60</td>\n",
       "      <td>6.90</td>\n",
       "      <td>1.08</td>\n",
       "    </tr>\n",
       "    <tr>\n",
       "      <th>1</th>\n",
       "      <td>12.0</td>\n",
       "      <td>4.2</td>\n",
       "      <td>30</td>\n",
       "      <td>21.5</td>\n",
       "      <td>13</td>\n",
       "      <td>0</td>\n",
       "      <td>1</td>\n",
       "      <td>0</td>\n",
       "      <td>2.86</td>\n",
       "      <td>5.80</td>\n",
       "      <td>0.40</td>\n",
       "    </tr>\n",
       "    <tr>\n",
       "      <th>2</th>\n",
       "      <td>11.2</td>\n",
       "      <td>5.5</td>\n",
       "      <td>38</td>\n",
       "      <td>21.5</td>\n",
       "      <td>15</td>\n",
       "      <td>0</td>\n",
       "      <td>1</td>\n",
       "      <td>0</td>\n",
       "      <td>2.04</td>\n",
       "      <td>7.59</td>\n",
       "      <td>0.29</td>\n",
       "    </tr>\n",
       "    <tr>\n",
       "      <th>3</th>\n",
       "      <td>12.9</td>\n",
       "      <td>3.9</td>\n",
       "      <td>36</td>\n",
       "      <td>21.5</td>\n",
       "      <td>14</td>\n",
       "      <td>0</td>\n",
       "      <td>1</td>\n",
       "      <td>0</td>\n",
       "      <td>3.31</td>\n",
       "      <td>5.38</td>\n",
       "      <td>0.36</td>\n",
       "    </tr>\n",
       "    <tr>\n",
       "      <th>4</th>\n",
       "      <td>18.5</td>\n",
       "      <td>4.5</td>\n",
       "      <td>46</td>\n",
       "      <td>21.5</td>\n",
       "      <td>15</td>\n",
       "      <td>0</td>\n",
       "      <td>1</td>\n",
       "      <td>0</td>\n",
       "      <td>4.11</td>\n",
       "      <td>6.21</td>\n",
       "      <td>0.40</td>\n",
       "    </tr>\n",
       "    <tr>\n",
       "      <th>...</th>\n",
       "      <td>...</td>\n",
       "      <td>...</td>\n",
       "      <td>...</td>\n",
       "      <td>...</td>\n",
       "      <td>...</td>\n",
       "      <td>...</td>\n",
       "      <td>...</td>\n",
       "      <td>...</td>\n",
       "      <td>...</td>\n",
       "      <td>...</td>\n",
       "      <td>...</td>\n",
       "    </tr>\n",
       "    <tr>\n",
       "      <th>383</th>\n",
       "      <td>16.0</td>\n",
       "      <td>3.7</td>\n",
       "      <td>39</td>\n",
       "      <td>24.5</td>\n",
       "      <td>18</td>\n",
       "      <td>0</td>\n",
       "      <td>0</td>\n",
       "      <td>1</td>\n",
       "      <td>4.32</td>\n",
       "      <td>5.40</td>\n",
       "      <td>0.41</td>\n",
       "    </tr>\n",
       "    <tr>\n",
       "      <th>384</th>\n",
       "      <td>16.1</td>\n",
       "      <td>4.3</td>\n",
       "      <td>38</td>\n",
       "      <td>25.0</td>\n",
       "      <td>31</td>\n",
       "      <td>1</td>\n",
       "      <td>0</td>\n",
       "      <td>1</td>\n",
       "      <td>3.74</td>\n",
       "      <td>6.28</td>\n",
       "      <td>0.42</td>\n",
       "    </tr>\n",
       "    <tr>\n",
       "      <th>385</th>\n",
       "      <td>16.0</td>\n",
       "      <td>3.8</td>\n",
       "      <td>45</td>\n",
       "      <td>25.0</td>\n",
       "      <td>19</td>\n",
       "      <td>0</td>\n",
       "      <td>0</td>\n",
       "      <td>1</td>\n",
       "      <td>4.21</td>\n",
       "      <td>5.55</td>\n",
       "      <td>0.36</td>\n",
       "    </tr>\n",
       "    <tr>\n",
       "      <th>386</th>\n",
       "      <td>15.4</td>\n",
       "      <td>4.6</td>\n",
       "      <td>42</td>\n",
       "      <td>25.0</td>\n",
       "      <td>31</td>\n",
       "      <td>1</td>\n",
       "      <td>0</td>\n",
       "      <td>1</td>\n",
       "      <td>3.35</td>\n",
       "      <td>6.72</td>\n",
       "      <td>0.37</td>\n",
       "    </tr>\n",
       "    <tr>\n",
       "      <th>387</th>\n",
       "      <td>14.7</td>\n",
       "      <td>5.0</td>\n",
       "      <td>25</td>\n",
       "      <td>25.0</td>\n",
       "      <td>30</td>\n",
       "      <td>1</td>\n",
       "      <td>0</td>\n",
       "      <td>1</td>\n",
       "      <td>2.94</td>\n",
       "      <td>7.30</td>\n",
       "      <td>0.59</td>\n",
       "    </tr>\n",
       "  </tbody>\n",
       "</table>\n",
       "<p>388 rows × 11 columns</p>\n",
       "</div>"
      ],
      "text/plain": [
       "     distance  consume  speed  temp_inside  temp_outside  AC  E10  SP98  \\\n",
       "0        28.0      5.0     26         21.5            12   0    1     0   \n",
       "1        12.0      4.2     30         21.5            13   0    1     0   \n",
       "2        11.2      5.5     38         21.5            15   0    1     0   \n",
       "3        12.9      3.9     36         21.5            14   0    1     0   \n",
       "4        18.5      4.5     46         21.5            15   0    1     0   \n",
       "..        ...      ...    ...          ...           ...  ..  ...   ...   \n",
       "383      16.0      3.7     39         24.5            18   0    0     1   \n",
       "384      16.1      4.3     38         25.0            31   1    0     1   \n",
       "385      16.0      3.8     45         25.0            19   0    0     1   \n",
       "386      15.4      4.6     42         25.0            31   1    0     1   \n",
       "387      14.7      5.0     25         25.0            30   1    0     1   \n",
       "\n",
       "     mileage(km/L)  expense(€)  estimate(hrs)  \n",
       "0             5.60        6.90           1.08  \n",
       "1             2.86        5.80           0.40  \n",
       "2             2.04        7.59           0.29  \n",
       "3             3.31        5.38           0.36  \n",
       "4             4.11        6.21           0.40  \n",
       "..             ...         ...            ...  \n",
       "383           4.32        5.40           0.41  \n",
       "384           3.74        6.28           0.42  \n",
       "385           4.21        5.55           0.36  \n",
       "386           3.35        6.72           0.37  \n",
       "387           2.94        7.30           0.59  \n",
       "\n",
       "[388 rows x 11 columns]"
      ]
     },
     "execution_count": 113,
     "metadata": {},
     "output_type": "execute_result"
    }
   ],
   "source": [
    "df"
   ]
  },
  {
   "cell_type": "markdown",
   "metadata": {},
   "source": [
    "Okay, so we can now get the ratio of relative time spent with AC and mileage for each type of fuel.\n",
    "- create new dataframe with info about the meta data of averages and ratios.\n",
    "\n",
    "<br>ratio of time spent and mileage of:\n",
    "- E10 with AC\n",
    "- E10 without AC\n",
    "- SP98 with AC \n",
    "- SP98 without AC\n",
    "\n"
   ]
  },
  {
   "cell_type": "code",
   "execution_count": 121,
   "metadata": {},
   "outputs": [
    {
     "name": "stderr",
     "output_type": "stream",
     "text": [
      "<ipython-input-121-36a7a3b2e8cc>:1: UserWarning: Boolean Series key will be reindexed to match DataFrame index.\n",
      "  df.loc[df['E10'] == 1][df[\"AC\"]==1]\n"
     ]
    },
    {
     "data": {
      "text/html": [
       "<div>\n",
       "<style scoped>\n",
       "    .dataframe tbody tr th:only-of-type {\n",
       "        vertical-align: middle;\n",
       "    }\n",
       "\n",
       "    .dataframe tbody tr th {\n",
       "        vertical-align: top;\n",
       "    }\n",
       "\n",
       "    .dataframe thead th {\n",
       "        text-align: right;\n",
       "    }\n",
       "</style>\n",
       "<table border=\"1\" class=\"dataframe\">\n",
       "  <thead>\n",
       "    <tr style=\"text-align: right;\">\n",
       "      <th></th>\n",
       "      <th>distance</th>\n",
       "      <th>consume</th>\n",
       "      <th>speed</th>\n",
       "      <th>temp_inside</th>\n",
       "      <th>temp_outside</th>\n",
       "      <th>AC</th>\n",
       "      <th>E10</th>\n",
       "      <th>SP98</th>\n",
       "      <th>mileage(km/L)</th>\n",
       "      <th>expense(€)</th>\n",
       "      <th>estimate(hrs)</th>\n",
       "    </tr>\n",
       "  </thead>\n",
       "  <tbody>\n",
       "    <tr>\n",
       "      <th>40</th>\n",
       "      <td>12.4</td>\n",
       "      <td>4.0</td>\n",
       "      <td>55</td>\n",
       "      <td>21.5</td>\n",
       "      <td>7</td>\n",
       "      <td>1</td>\n",
       "      <td>1</td>\n",
       "      <td>0</td>\n",
       "      <td>3.10</td>\n",
       "      <td>5.52</td>\n",
       "      <td>0.23</td>\n",
       "    </tr>\n",
       "    <tr>\n",
       "      <th>41</th>\n",
       "      <td>4.5</td>\n",
       "      <td>5.0</td>\n",
       "      <td>29</td>\n",
       "      <td>21.5</td>\n",
       "      <td>7</td>\n",
       "      <td>1</td>\n",
       "      <td>1</td>\n",
       "      <td>0</td>\n",
       "      <td>0.90</td>\n",
       "      <td>6.90</td>\n",
       "      <td>0.16</td>\n",
       "    </tr>\n",
       "    <tr>\n",
       "      <th>153</th>\n",
       "      <td>17.3</td>\n",
       "      <td>5.0</td>\n",
       "      <td>61</td>\n",
       "      <td>21.5</td>\n",
       "      <td>6</td>\n",
       "      <td>1</td>\n",
       "      <td>1</td>\n",
       "      <td>0</td>\n",
       "      <td>3.46</td>\n",
       "      <td>6.90</td>\n",
       "      <td>0.28</td>\n",
       "    </tr>\n",
       "    <tr>\n",
       "      <th>181</th>\n",
       "      <td>12.3</td>\n",
       "      <td>7.1</td>\n",
       "      <td>52</td>\n",
       "      <td>22.5</td>\n",
       "      <td>0</td>\n",
       "      <td>1</td>\n",
       "      <td>1</td>\n",
       "      <td>0</td>\n",
       "      <td>1.73</td>\n",
       "      <td>9.80</td>\n",
       "      <td>0.24</td>\n",
       "    </tr>\n",
       "    <tr>\n",
       "      <th>273</th>\n",
       "      <td>93.9</td>\n",
       "      <td>4.8</td>\n",
       "      <td>88</td>\n",
       "      <td>23.0</td>\n",
       "      <td>18</td>\n",
       "      <td>1</td>\n",
       "      <td>1</td>\n",
       "      <td>0</td>\n",
       "      <td>19.56</td>\n",
       "      <td>6.62</td>\n",
       "      <td>1.07</td>\n",
       "    </tr>\n",
       "    <tr>\n",
       "      <th>331</th>\n",
       "      <td>21.5</td>\n",
       "      <td>4.8</td>\n",
       "      <td>47</td>\n",
       "      <td>25.0</td>\n",
       "      <td>27</td>\n",
       "      <td>1</td>\n",
       "      <td>1</td>\n",
       "      <td>0</td>\n",
       "      <td>4.48</td>\n",
       "      <td>6.62</td>\n",
       "      <td>0.46</td>\n",
       "    </tr>\n",
       "    <tr>\n",
       "      <th>344</th>\n",
       "      <td>16.1</td>\n",
       "      <td>5.1</td>\n",
       "      <td>30</td>\n",
       "      <td>25.0</td>\n",
       "      <td>16</td>\n",
       "      <td>1</td>\n",
       "      <td>1</td>\n",
       "      <td>0</td>\n",
       "      <td>3.16</td>\n",
       "      <td>7.04</td>\n",
       "      <td>0.54</td>\n",
       "    </tr>\n",
       "  </tbody>\n",
       "</table>\n",
       "</div>"
      ],
      "text/plain": [
       "     distance  consume  speed  temp_inside  temp_outside  AC  E10  SP98  \\\n",
       "40       12.4      4.0     55         21.5             7   1    1     0   \n",
       "41        4.5      5.0     29         21.5             7   1    1     0   \n",
       "153      17.3      5.0     61         21.5             6   1    1     0   \n",
       "181      12.3      7.1     52         22.5             0   1    1     0   \n",
       "273      93.9      4.8     88         23.0            18   1    1     0   \n",
       "331      21.5      4.8     47         25.0            27   1    1     0   \n",
       "344      16.1      5.1     30         25.0            16   1    1     0   \n",
       "\n",
       "     mileage(km/L)  expense(€)  estimate(hrs)  \n",
       "40            3.10        5.52           0.23  \n",
       "41            0.90        6.90           0.16  \n",
       "153           3.46        6.90           0.28  \n",
       "181           1.73        9.80           0.24  \n",
       "273          19.56        6.62           1.07  \n",
       "331           4.48        6.62           0.46  \n",
       "344           3.16        7.04           0.54  "
      ]
     },
     "execution_count": 121,
     "metadata": {},
     "output_type": "execute_result"
    }
   ],
   "source": [
    "df.loc[df['E10'] == 1][df[\"AC\"]==1]"
   ]
  },
  {
   "cell_type": "code",
   "execution_count": 124,
   "metadata": {},
   "outputs": [
    {
     "name": "stderr",
     "output_type": "stream",
     "text": [
      "<ipython-input-124-e10a02e0b627>:1: UserWarning: Boolean Series key will be reindexed to match DataFrame index.\n",
      "  e_ac_hr = df.loc[df['E10'] == 1][df[\"AC\"]==1][\"estimate(hrs)\"].sum()\n"
     ]
    },
    {
     "data": {
      "text/plain": [
       "2.98"
      ]
     },
     "execution_count": 124,
     "metadata": {},
     "output_type": "execute_result"
    }
   ],
   "source": [
    "e_ac_hr = df.loc[df['E10'] == 1][df[\"AC\"]==1][\"estimate(hrs)\"].sum()\n",
    "e_ac_hr"
   ]
  },
  {
   "cell_type": "code",
   "execution_count": 126,
   "metadata": {},
   "outputs": [
    {
     "name": "stderr",
     "output_type": "stream",
     "text": [
      "<ipython-input-126-cb20affe693b>:1: UserWarning: Boolean Series key will be reindexed to match DataFrame index.\n",
      "  e_no_ac_hr = df.loc[df['E10'] == 1][df[\"AC\"]==0][\"estimate(hrs)\"].sum()\n"
     ]
    },
    {
     "data": {
      "text/plain": [
       "70.53999999999999"
      ]
     },
     "execution_count": 126,
     "metadata": {},
     "output_type": "execute_result"
    }
   ],
   "source": [
    "e_no_ac_hr = df.loc[df['E10'] == 1][df[\"AC\"]==0][\"estimate(hrs)\"].sum()\n",
    "e_no_ac_hr"
   ]
  },
  {
   "cell_type": "code",
   "execution_count": 128,
   "metadata": {},
   "outputs": [
    {
     "data": {
      "text/plain": [
       "73.52000000000001"
      ]
     },
     "execution_count": 128,
     "metadata": {},
     "output_type": "execute_result"
    }
   ],
   "source": [
    "e_tot_hr = df.loc[df['E10'] == 1][\"estimate(hrs)\"].sum()\n",
    "e_tot_hr"
   ]
  },
  {
   "cell_type": "code",
   "execution_count": 134,
   "metadata": {},
   "outputs": [
    {
     "data": {
      "text/plain": [
       "0.04053318824809575"
      ]
     },
     "execution_count": 134,
     "metadata": {},
     "output_type": "execute_result"
    }
   ],
   "source": [
    "e_ac_ratio = e_ac_hr/e_tot_hr\n",
    "e_ac_ratio"
   ]
  },
  {
   "cell_type": "code",
   "execution_count": 129,
   "metadata": {},
   "outputs": [
    {
     "name": "stderr",
     "output_type": "stream",
     "text": [
      "<ipython-input-129-f43c06962e1c>:1: UserWarning: Boolean Series key will be reindexed to match DataFrame index.\n",
      "  sp_ac_hr = df.loc[df['SP98'] == 1][df[\"AC\"]==1][\"estimate(hrs)\"].sum()\n"
     ]
    },
    {
     "data": {
      "text/plain": [
       "10.059999999999999"
      ]
     },
     "execution_count": 129,
     "metadata": {},
     "output_type": "execute_result"
    }
   ],
   "source": [
    "sp_ac_hr = df.loc[df['SP98'] == 1][df[\"AC\"]==1][\"estimate(hrs)\"].sum()\n",
    "sp_ac_hr"
   ]
  },
  {
   "cell_type": "code",
   "execution_count": 132,
   "metadata": {},
   "outputs": [
    {
     "name": "stderr",
     "output_type": "stream",
     "text": [
      "<ipython-input-132-708c8c0e6cba>:1: UserWarning: Boolean Series key will be reindexed to match DataFrame index.\n",
      "  sp_no_ac_hr = df.loc[df['SP98'] == 1][df[\"AC\"]==0][\"estimate(hrs)\"].sum()\n"
     ]
    },
    {
     "data": {
      "text/plain": [
       "88.74"
      ]
     },
     "execution_count": 132,
     "metadata": {},
     "output_type": "execute_result"
    }
   ],
   "source": [
    "sp_no_ac_hr = df.loc[df['SP98'] == 1][df[\"AC\"]==0][\"estimate(hrs)\"].sum()\n",
    "sp_no_ac_hr"
   ]
  },
  {
   "cell_type": "code",
   "execution_count": 133,
   "metadata": {},
   "outputs": [
    {
     "data": {
      "text/plain": [
       "98.8"
      ]
     },
     "execution_count": 133,
     "metadata": {},
     "output_type": "execute_result"
    }
   ],
   "source": [
    "sp_tot_hr = df.loc[df['SP98'] == 1][\"estimate(hrs)\"].sum()\n",
    "sp_tot_hr"
   ]
  },
  {
   "cell_type": "code",
   "execution_count": 136,
   "metadata": {},
   "outputs": [
    {
     "data": {
      "text/plain": [
       "0.10182186234817812"
      ]
     },
     "execution_count": 136,
     "metadata": {},
     "output_type": "execute_result"
    }
   ],
   "source": [
    "sp_ac_ratio = sp_ac_hr/sp_tot_hr\n",
    "sp_ac_ratio"
   ]
  },
  {
   "cell_type": "markdown",
   "metadata": {},
   "source": [
    "***Now we will calculate the mileage with and without AC for each fuel type***"
   ]
  },
  {
   "cell_type": "code",
   "execution_count": 143,
   "metadata": {},
   "outputs": [
    {
     "name": "stderr",
     "output_type": "stream",
     "text": [
      "<ipython-input-143-79ddc6897403>:1: UserWarning: Boolean Series key will be reindexed to match DataFrame index.\n",
      "  e_ac_mileage = df.loc[df['E10']==1][df[\"AC\"]==1]['mileage(km/L)'].mean()\n"
     ]
    },
    {
     "data": {
      "text/plain": [
       "5.198571428571428"
      ]
     },
     "execution_count": 143,
     "metadata": {},
     "output_type": "execute_result"
    }
   ],
   "source": [
    "e_ac_mileage = df.loc[df['E10']==1][df[\"AC\"]==1]['mileage(km/L)'].mean()\n",
    "e_ac_mileage"
   ]
  },
  {
   "cell_type": "code",
   "execution_count": 144,
   "metadata": {},
   "outputs": [
    {
     "name": "stderr",
     "output_type": "stream",
     "text": [
      "<ipython-input-144-7acd8f2299d5>:1: UserWarning: Boolean Series key will be reindexed to match DataFrame index.\n",
      "  e_no_ac_mileage = df.loc[df['E10']==1][df[\"AC\"]==0]['mileage(km/L)'].mean()\n"
     ]
    },
    {
     "data": {
      "text/plain": [
       "4.438627450980393"
      ]
     },
     "execution_count": 144,
     "metadata": {},
     "output_type": "execute_result"
    }
   ],
   "source": [
    "e_no_ac_mileage = df.loc[df['E10']==1][df[\"AC\"]==0]['mileage(km/L)'].mean()\n",
    "e_no_ac_mileage"
   ]
  },
  {
   "cell_type": "code",
   "execution_count": 146,
   "metadata": {},
   "outputs": [
    {
     "name": "stderr",
     "output_type": "stream",
     "text": [
      "<ipython-input-146-a6ae021e29c7>:1: UserWarning: Boolean Series key will be reindexed to match DataFrame index.\n",
      "  sp_ac_mileage = df.loc[df['SP98']==1][df[\"AC\"]==1]['mileage(km/L)'].mean()\n"
     ]
    },
    {
     "data": {
      "text/plain": [
       "3.2243478260869556"
      ]
     },
     "execution_count": 146,
     "metadata": {},
     "output_type": "execute_result"
    }
   ],
   "source": [
    "sp_ac_mileage = df.loc[df['SP98']==1][df[\"AC\"]==1]['mileage(km/L)'].mean()\n",
    "sp_ac_mileage"
   ]
  },
  {
   "cell_type": "code",
   "execution_count": 147,
   "metadata": {},
   "outputs": [
    {
     "name": "stderr",
     "output_type": "stream",
     "text": [
      "<ipython-input-147-86690bfb21b8>:1: UserWarning: Boolean Series key will be reindexed to match DataFrame index.\n",
      "  sp_no_ac_mileage = df.loc[df['SP98']==1][df[\"AC\"]==0]['mileage(km/L)'].mean()\n"
     ]
    },
    {
     "data": {
      "text/plain": [
       "4.096682926829268"
      ]
     },
     "execution_count": 147,
     "metadata": {},
     "output_type": "execute_result"
    }
   ],
   "source": [
    "sp_no_ac_mileage = df.loc[df['SP98']==1][df[\"AC\"]==0]['mileage(km/L)'].mean()\n",
    "sp_no_ac_mileage"
   ]
  },
  {
   "cell_type": "markdown",
   "metadata": {},
   "source": [
    "**Immediate observations....mileage should be lower with AC but `e_ac_mileage` is higher.... than `e_no_ac_mileage`**\n",
    "\n",
    "This is enough of an anomly that we have decide to throw out this calculation for lack of information. If it had fit with the general expectation we could have used it as orientative but because we only have 7 samples of E10 with AC and somehow we have recieved better gas-mileage using AC.... we can't take this information with good faith. "
   ]
  },
  {
   "cell_type": "markdown",
   "metadata": {},
   "source": [
    "**We want to show mileage according to temperature.**\n",
    "- plot y-axis as temp and x-axis as consumption\n",
    "- use different colored lines for the types\n",
    "- create drop down menu to toggle between y-axis:\n",
    "    - inside temp\n",
    "    - outside temp\n",
    "    - speed\n",
    "    - distance\n",
    "    - price"
   ]
  },
  {
   "cell_type": "code",
   "execution_count": 156,
   "metadata": {},
   "outputs": [
    {
     "ename": "TypeError",
     "evalue": "sort_values() got multiple values for argument 'axis'",
     "output_type": "error",
     "traceback": [
      "\u001b[0;31m---------------------------------------------------------------------------\u001b[0m",
      "\u001b[0;31mTypeError\u001b[0m                                 Traceback (most recent call last)",
      "\u001b[0;32m<ipython-input-156-b9da88509015>\u001b[0m in \u001b[0;36m<module>\u001b[0;34m\u001b[0m\n\u001b[0;32m----> 1\u001b[0;31m \u001b[0mdf\u001b[0m\u001b[0;34m[\u001b[0m\u001b[0;34m'mileage(km/L)'\u001b[0m\u001b[0;34m]\u001b[0m\u001b[0;34m.\u001b[0m\u001b[0msort_values\u001b[0m\u001b[0;34m(\u001b[0m\u001b[0;34m'temp_outside'\u001b[0m\u001b[0;34m,\u001b[0m \u001b[0maxis\u001b[0m\u001b[0;34m=\u001b[0m \u001b[0;36m1\u001b[0m\u001b[0;34m)\u001b[0m\u001b[0;34m\u001b[0m\u001b[0;34m\u001b[0m\u001b[0m\n\u001b[0m",
      "\u001b[0;31mTypeError\u001b[0m: sort_values() got multiple values for argument 'axis'"
     ]
    }
   ],
   "source": [
    "df['mileage(km/L)'].sort_values('temp_outside', axis= 1)"
   ]
  },
  {
   "cell_type": "code",
   "execution_count": 161,
   "metadata": {},
   "outputs": [
    {
     "data": {
      "text/html": [
       "<div>\n",
       "<style scoped>\n",
       "    .dataframe tbody tr th:only-of-type {\n",
       "        vertical-align: middle;\n",
       "    }\n",
       "\n",
       "    .dataframe tbody tr th {\n",
       "        vertical-align: top;\n",
       "    }\n",
       "\n",
       "    .dataframe thead th {\n",
       "        text-align: right;\n",
       "    }\n",
       "</style>\n",
       "<table border=\"1\" class=\"dataframe\">\n",
       "  <thead>\n",
       "    <tr style=\"text-align: right;\">\n",
       "      <th></th>\n",
       "      <th>distance</th>\n",
       "      <th>consume</th>\n",
       "      <th>speed</th>\n",
       "      <th>temp_inside</th>\n",
       "      <th>temp_outside</th>\n",
       "      <th>AC</th>\n",
       "      <th>E10</th>\n",
       "      <th>SP98</th>\n",
       "      <th>mileage(km/L)</th>\n",
       "      <th>expense(€)</th>\n",
       "      <th>estimate(hrs)</th>\n",
       "    </tr>\n",
       "  </thead>\n",
       "  <tbody>\n",
       "    <tr>\n",
       "      <th>147</th>\n",
       "      <td>1.7</td>\n",
       "      <td>10.8</td>\n",
       "      <td>14</td>\n",
       "      <td>21.5</td>\n",
       "      <td>10</td>\n",
       "      <td>0</td>\n",
       "      <td>1</td>\n",
       "      <td>0</td>\n",
       "      <td>0.16</td>\n",
       "      <td>14.90</td>\n",
       "      <td>0.12</td>\n",
       "    </tr>\n",
       "    <tr>\n",
       "      <th>254</th>\n",
       "      <td>2.0</td>\n",
       "      <td>8.1</td>\n",
       "      <td>20</td>\n",
       "      <td>22.5</td>\n",
       "      <td>14</td>\n",
       "      <td>0</td>\n",
       "      <td>1</td>\n",
       "      <td>0</td>\n",
       "      <td>0.25</td>\n",
       "      <td>11.18</td>\n",
       "      <td>0.10</td>\n",
       "    </tr>\n",
       "    <tr>\n",
       "      <th>258</th>\n",
       "      <td>2.0</td>\n",
       "      <td>6.0</td>\n",
       "      <td>22</td>\n",
       "      <td>22.5</td>\n",
       "      <td>14</td>\n",
       "      <td>0</td>\n",
       "      <td>1</td>\n",
       "      <td>0</td>\n",
       "      <td>0.33</td>\n",
       "      <td>8.28</td>\n",
       "      <td>0.09</td>\n",
       "    </tr>\n",
       "    <tr>\n",
       "      <th>160</th>\n",
       "      <td>5.1</td>\n",
       "      <td>8.1</td>\n",
       "      <td>39</td>\n",
       "      <td>21.5</td>\n",
       "      <td>4</td>\n",
       "      <td>0</td>\n",
       "      <td>1</td>\n",
       "      <td>0</td>\n",
       "      <td>0.63</td>\n",
       "      <td>11.18</td>\n",
       "      <td>0.13</td>\n",
       "    </tr>\n",
       "    <tr>\n",
       "      <th>37</th>\n",
       "      <td>4.9</td>\n",
       "      <td>7.4</td>\n",
       "      <td>26</td>\n",
       "      <td>21.5</td>\n",
       "      <td>6</td>\n",
       "      <td>0</td>\n",
       "      <td>1</td>\n",
       "      <td>0</td>\n",
       "      <td>0.66</td>\n",
       "      <td>10.21</td>\n",
       "      <td>0.19</td>\n",
       "    </tr>\n",
       "    <tr>\n",
       "      <th>...</th>\n",
       "      <td>...</td>\n",
       "      <td>...</td>\n",
       "      <td>...</td>\n",
       "      <td>...</td>\n",
       "      <td>...</td>\n",
       "      <td>...</td>\n",
       "      <td>...</td>\n",
       "      <td>...</td>\n",
       "      <td>...</td>\n",
       "      <td>...</td>\n",
       "      <td>...</td>\n",
       "    </tr>\n",
       "    <tr>\n",
       "      <th>273</th>\n",
       "      <td>93.9</td>\n",
       "      <td>4.8</td>\n",
       "      <td>88</td>\n",
       "      <td>23.0</td>\n",
       "      <td>18</td>\n",
       "      <td>1</td>\n",
       "      <td>1</td>\n",
       "      <td>0</td>\n",
       "      <td>19.56</td>\n",
       "      <td>6.62</td>\n",
       "      <td>1.07</td>\n",
       "    </tr>\n",
       "    <tr>\n",
       "      <th>272</th>\n",
       "      <td>101.9</td>\n",
       "      <td>5.2</td>\n",
       "      <td>75</td>\n",
       "      <td>22.0</td>\n",
       "      <td>18</td>\n",
       "      <td>0</td>\n",
       "      <td>1</td>\n",
       "      <td>0</td>\n",
       "      <td>19.60</td>\n",
       "      <td>7.18</td>\n",
       "      <td>1.36</td>\n",
       "    </tr>\n",
       "    <tr>\n",
       "      <th>333</th>\n",
       "      <td>100.9</td>\n",
       "      <td>4.7</td>\n",
       "      <td>87</td>\n",
       "      <td>23.5</td>\n",
       "      <td>22</td>\n",
       "      <td>0</td>\n",
       "      <td>1</td>\n",
       "      <td>0</td>\n",
       "      <td>21.47</td>\n",
       "      <td>6.49</td>\n",
       "      <td>1.16</td>\n",
       "    </tr>\n",
       "    <tr>\n",
       "      <th>334</th>\n",
       "      <td>129.7</td>\n",
       "      <td>4.6</td>\n",
       "      <td>58</td>\n",
       "      <td>24.0</td>\n",
       "      <td>21</td>\n",
       "      <td>0</td>\n",
       "      <td>1</td>\n",
       "      <td>0</td>\n",
       "      <td>28.20</td>\n",
       "      <td>6.35</td>\n",
       "      <td>2.24</td>\n",
       "    </tr>\n",
       "    <tr>\n",
       "      <th>189</th>\n",
       "      <td>130.3</td>\n",
       "      <td>4.6</td>\n",
       "      <td>85</td>\n",
       "      <td>22.0</td>\n",
       "      <td>12</td>\n",
       "      <td>0</td>\n",
       "      <td>1</td>\n",
       "      <td>0</td>\n",
       "      <td>28.33</td>\n",
       "      <td>6.35</td>\n",
       "      <td>1.53</td>\n",
       "    </tr>\n",
       "  </tbody>\n",
       "</table>\n",
       "<p>160 rows × 11 columns</p>\n",
       "</div>"
      ],
      "text/plain": [
       "     distance  consume  speed  temp_inside  temp_outside  AC  E10  SP98  \\\n",
       "147       1.7     10.8     14         21.5            10   0    1     0   \n",
       "254       2.0      8.1     20         22.5            14   0    1     0   \n",
       "258       2.0      6.0     22         22.5            14   0    1     0   \n",
       "160       5.1      8.1     39         21.5             4   0    1     0   \n",
       "37        4.9      7.4     26         21.5             6   0    1     0   \n",
       "..        ...      ...    ...          ...           ...  ..  ...   ...   \n",
       "273      93.9      4.8     88         23.0            18   1    1     0   \n",
       "272     101.9      5.2     75         22.0            18   0    1     0   \n",
       "333     100.9      4.7     87         23.5            22   0    1     0   \n",
       "334     129.7      4.6     58         24.0            21   0    1     0   \n",
       "189     130.3      4.6     85         22.0            12   0    1     0   \n",
       "\n",
       "     mileage(km/L)  expense(€)  estimate(hrs)  \n",
       "147           0.16       14.90           0.12  \n",
       "254           0.25       11.18           0.10  \n",
       "258           0.33        8.28           0.09  \n",
       "160           0.63       11.18           0.13  \n",
       "37            0.66       10.21           0.19  \n",
       "..             ...         ...            ...  \n",
       "273          19.56        6.62           1.07  \n",
       "272          19.60        7.18           1.36  \n",
       "333          21.47        6.49           1.16  \n",
       "334          28.20        6.35           2.24  \n",
       "189          28.33        6.35           1.53  \n",
       "\n",
       "[160 rows x 11 columns]"
      ]
     },
     "execution_count": 161,
     "metadata": {},
     "output_type": "execute_result"
    }
   ],
   "source": [
    "df.loc[df['E10']==1].sort_values(by=['mileage(km/L)'])"
   ]
  },
  {
   "cell_type": "code",
   "execution_count": 201,
   "metadata": {},
   "outputs": [
    {
     "data": {
      "text/html": [
       "<div>\n",
       "<style scoped>\n",
       "    .dataframe tbody tr th:only-of-type {\n",
       "        vertical-align: middle;\n",
       "    }\n",
       "\n",
       "    .dataframe tbody tr th {\n",
       "        vertical-align: top;\n",
       "    }\n",
       "\n",
       "    .dataframe thead th {\n",
       "        text-align: right;\n",
       "    }\n",
       "</style>\n",
       "<table border=\"1\" class=\"dataframe\">\n",
       "  <thead>\n",
       "    <tr style=\"text-align: right;\">\n",
       "      <th></th>\n",
       "      <th>distance</th>\n",
       "      <th>consume</th>\n",
       "      <th>speed</th>\n",
       "      <th>temp_inside</th>\n",
       "      <th>temp_outside</th>\n",
       "      <th>AC</th>\n",
       "      <th>E10</th>\n",
       "      <th>SP98</th>\n",
       "      <th>mileage(km/L)</th>\n",
       "      <th>expense(€)</th>\n",
       "      <th>estimate(hrs)</th>\n",
       "    </tr>\n",
       "  </thead>\n",
       "  <tbody>\n",
       "    <tr>\n",
       "      <th>0</th>\n",
       "      <td>28.0</td>\n",
       "      <td>5.0</td>\n",
       "      <td>26</td>\n",
       "      <td>21.5</td>\n",
       "      <td>12</td>\n",
       "      <td>0</td>\n",
       "      <td>1</td>\n",
       "      <td>0</td>\n",
       "      <td>5.60</td>\n",
       "      <td>6.90</td>\n",
       "      <td>1.08</td>\n",
       "    </tr>\n",
       "    <tr>\n",
       "      <th>1</th>\n",
       "      <td>12.0</td>\n",
       "      <td>4.2</td>\n",
       "      <td>30</td>\n",
       "      <td>21.5</td>\n",
       "      <td>13</td>\n",
       "      <td>0</td>\n",
       "      <td>1</td>\n",
       "      <td>0</td>\n",
       "      <td>2.86</td>\n",
       "      <td>5.80</td>\n",
       "      <td>0.40</td>\n",
       "    </tr>\n",
       "    <tr>\n",
       "      <th>2</th>\n",
       "      <td>11.2</td>\n",
       "      <td>5.5</td>\n",
       "      <td>38</td>\n",
       "      <td>21.5</td>\n",
       "      <td>15</td>\n",
       "      <td>0</td>\n",
       "      <td>1</td>\n",
       "      <td>0</td>\n",
       "      <td>2.04</td>\n",
       "      <td>7.59</td>\n",
       "      <td>0.29</td>\n",
       "    </tr>\n",
       "    <tr>\n",
       "      <th>3</th>\n",
       "      <td>12.9</td>\n",
       "      <td>3.9</td>\n",
       "      <td>36</td>\n",
       "      <td>21.5</td>\n",
       "      <td>14</td>\n",
       "      <td>0</td>\n",
       "      <td>1</td>\n",
       "      <td>0</td>\n",
       "      <td>3.31</td>\n",
       "      <td>5.38</td>\n",
       "      <td>0.36</td>\n",
       "    </tr>\n",
       "    <tr>\n",
       "      <th>4</th>\n",
       "      <td>18.5</td>\n",
       "      <td>4.5</td>\n",
       "      <td>46</td>\n",
       "      <td>21.5</td>\n",
       "      <td>15</td>\n",
       "      <td>0</td>\n",
       "      <td>1</td>\n",
       "      <td>0</td>\n",
       "      <td>4.11</td>\n",
       "      <td>6.21</td>\n",
       "      <td>0.40</td>\n",
       "    </tr>\n",
       "    <tr>\n",
       "      <th>...</th>\n",
       "      <td>...</td>\n",
       "      <td>...</td>\n",
       "      <td>...</td>\n",
       "      <td>...</td>\n",
       "      <td>...</td>\n",
       "      <td>...</td>\n",
       "      <td>...</td>\n",
       "      <td>...</td>\n",
       "      <td>...</td>\n",
       "      <td>...</td>\n",
       "      <td>...</td>\n",
       "    </tr>\n",
       "    <tr>\n",
       "      <th>344</th>\n",
       "      <td>16.1</td>\n",
       "      <td>5.1</td>\n",
       "      <td>30</td>\n",
       "      <td>25.0</td>\n",
       "      <td>16</td>\n",
       "      <td>1</td>\n",
       "      <td>1</td>\n",
       "      <td>0</td>\n",
       "      <td>3.16</td>\n",
       "      <td>7.04</td>\n",
       "      <td>0.54</td>\n",
       "    </tr>\n",
       "    <tr>\n",
       "      <th>345</th>\n",
       "      <td>16.0</td>\n",
       "      <td>4.0</td>\n",
       "      <td>42</td>\n",
       "      <td>22.0</td>\n",
       "      <td>15</td>\n",
       "      <td>0</td>\n",
       "      <td>1</td>\n",
       "      <td>0</td>\n",
       "      <td>4.00</td>\n",
       "      <td>5.52</td>\n",
       "      <td>0.38</td>\n",
       "    </tr>\n",
       "    <tr>\n",
       "      <th>346</th>\n",
       "      <td>15.4</td>\n",
       "      <td>4.8</td>\n",
       "      <td>40</td>\n",
       "      <td>22.0</td>\n",
       "      <td>18</td>\n",
       "      <td>0</td>\n",
       "      <td>1</td>\n",
       "      <td>0</td>\n",
       "      <td>3.21</td>\n",
       "      <td>6.62</td>\n",
       "      <td>0.38</td>\n",
       "    </tr>\n",
       "    <tr>\n",
       "      <th>347</th>\n",
       "      <td>17.2</td>\n",
       "      <td>3.9</td>\n",
       "      <td>35</td>\n",
       "      <td>22.0</td>\n",
       "      <td>16</td>\n",
       "      <td>0</td>\n",
       "      <td>1</td>\n",
       "      <td>0</td>\n",
       "      <td>4.41</td>\n",
       "      <td>5.38</td>\n",
       "      <td>0.49</td>\n",
       "    </tr>\n",
       "    <tr>\n",
       "      <th>348</th>\n",
       "      <td>16.6</td>\n",
       "      <td>4.6</td>\n",
       "      <td>50</td>\n",
       "      <td>22.0</td>\n",
       "      <td>25</td>\n",
       "      <td>0</td>\n",
       "      <td>1</td>\n",
       "      <td>0</td>\n",
       "      <td>3.61</td>\n",
       "      <td>6.35</td>\n",
       "      <td>0.33</td>\n",
       "    </tr>\n",
       "  </tbody>\n",
       "</table>\n",
       "<p>160 rows × 11 columns</p>\n",
       "</div>"
      ],
      "text/plain": [
       "     distance  consume  speed  temp_inside  temp_outside  AC  E10  SP98  \\\n",
       "0        28.0      5.0     26         21.5            12   0    1     0   \n",
       "1        12.0      4.2     30         21.5            13   0    1     0   \n",
       "2        11.2      5.5     38         21.5            15   0    1     0   \n",
       "3        12.9      3.9     36         21.5            14   0    1     0   \n",
       "4        18.5      4.5     46         21.5            15   0    1     0   \n",
       "..        ...      ...    ...          ...           ...  ..  ...   ...   \n",
       "344      16.1      5.1     30         25.0            16   1    1     0   \n",
       "345      16.0      4.0     42         22.0            15   0    1     0   \n",
       "346      15.4      4.8     40         22.0            18   0    1     0   \n",
       "347      17.2      3.9     35         22.0            16   0    1     0   \n",
       "348      16.6      4.6     50         22.0            25   0    1     0   \n",
       "\n",
       "     mileage(km/L)  expense(€)  estimate(hrs)  \n",
       "0             5.60        6.90           1.08  \n",
       "1             2.86        5.80           0.40  \n",
       "2             2.04        7.59           0.29  \n",
       "3             3.31        5.38           0.36  \n",
       "4             4.11        6.21           0.40  \n",
       "..             ...         ...            ...  \n",
       "344           3.16        7.04           0.54  \n",
       "345           4.00        5.52           0.38  \n",
       "346           3.21        6.62           0.38  \n",
       "347           4.41        5.38           0.49  \n",
       "348           3.61        6.35           0.33  \n",
       "\n",
       "[160 rows x 11 columns]"
      ]
     },
     "execution_count": 201,
     "metadata": {},
     "output_type": "execute_result"
    }
   ],
   "source": [
    "df_e = df[df['E10']==1]\n",
    "df_e"
   ]
  },
  {
   "cell_type": "code",
   "execution_count": 202,
   "metadata": {},
   "outputs": [
    {
     "data": {
      "text/html": [
       "<div>\n",
       "<style scoped>\n",
       "    .dataframe tbody tr th:only-of-type {\n",
       "        vertical-align: middle;\n",
       "    }\n",
       "\n",
       "    .dataframe tbody tr th {\n",
       "        vertical-align: top;\n",
       "    }\n",
       "\n",
       "    .dataframe thead th {\n",
       "        text-align: right;\n",
       "    }\n",
       "</style>\n",
       "<table border=\"1\" class=\"dataframe\">\n",
       "  <thead>\n",
       "    <tr style=\"text-align: right;\">\n",
       "      <th></th>\n",
       "      <th>distance</th>\n",
       "      <th>consume</th>\n",
       "      <th>speed</th>\n",
       "      <th>temp_inside</th>\n",
       "      <th>temp_outside</th>\n",
       "      <th>AC</th>\n",
       "      <th>E10</th>\n",
       "      <th>SP98</th>\n",
       "      <th>mileage(km/L)</th>\n",
       "      <th>expense(€)</th>\n",
       "      <th>estimate(hrs)</th>\n",
       "    </tr>\n",
       "  </thead>\n",
       "  <tbody>\n",
       "    <tr>\n",
       "      <th>44</th>\n",
       "      <td>5.4</td>\n",
       "      <td>3.3</td>\n",
       "      <td>32</td>\n",
       "      <td>21.5</td>\n",
       "      <td>7</td>\n",
       "      <td>0</td>\n",
       "      <td>0</td>\n",
       "      <td>1</td>\n",
       "      <td>1.64</td>\n",
       "      <td>4.82</td>\n",
       "      <td>0.17</td>\n",
       "    </tr>\n",
       "    <tr>\n",
       "      <th>45</th>\n",
       "      <td>2.0</td>\n",
       "      <td>9.9</td>\n",
       "      <td>21</td>\n",
       "      <td>21.5</td>\n",
       "      <td>4</td>\n",
       "      <td>0</td>\n",
       "      <td>0</td>\n",
       "      <td>1</td>\n",
       "      <td>0.20</td>\n",
       "      <td>14.45</td>\n",
       "      <td>0.10</td>\n",
       "    </tr>\n",
       "    <tr>\n",
       "      <th>46</th>\n",
       "      <td>14.2</td>\n",
       "      <td>5.1</td>\n",
       "      <td>32</td>\n",
       "      <td>21.5</td>\n",
       "      <td>7</td>\n",
       "      <td>0</td>\n",
       "      <td>0</td>\n",
       "      <td>1</td>\n",
       "      <td>2.78</td>\n",
       "      <td>7.45</td>\n",
       "      <td>0.44</td>\n",
       "    </tr>\n",
       "    <tr>\n",
       "      <th>47</th>\n",
       "      <td>16.0</td>\n",
       "      <td>4.9</td>\n",
       "      <td>25</td>\n",
       "      <td>21.5</td>\n",
       "      <td>8</td>\n",
       "      <td>0</td>\n",
       "      <td>0</td>\n",
       "      <td>1</td>\n",
       "      <td>3.27</td>\n",
       "      <td>7.15</td>\n",
       "      <td>0.64</td>\n",
       "    </tr>\n",
       "    <tr>\n",
       "      <th>48</th>\n",
       "      <td>11.8</td>\n",
       "      <td>4.9</td>\n",
       "      <td>25</td>\n",
       "      <td>21.5</td>\n",
       "      <td>11</td>\n",
       "      <td>0</td>\n",
       "      <td>0</td>\n",
       "      <td>1</td>\n",
       "      <td>2.41</td>\n",
       "      <td>7.15</td>\n",
       "      <td>0.47</td>\n",
       "    </tr>\n",
       "    <tr>\n",
       "      <th>...</th>\n",
       "      <td>...</td>\n",
       "      <td>...</td>\n",
       "      <td>...</td>\n",
       "      <td>...</td>\n",
       "      <td>...</td>\n",
       "      <td>...</td>\n",
       "      <td>...</td>\n",
       "      <td>...</td>\n",
       "      <td>...</td>\n",
       "      <td>...</td>\n",
       "      <td>...</td>\n",
       "    </tr>\n",
       "    <tr>\n",
       "      <th>383</th>\n",
       "      <td>16.0</td>\n",
       "      <td>3.7</td>\n",
       "      <td>39</td>\n",
       "      <td>24.5</td>\n",
       "      <td>18</td>\n",
       "      <td>0</td>\n",
       "      <td>0</td>\n",
       "      <td>1</td>\n",
       "      <td>4.32</td>\n",
       "      <td>5.40</td>\n",
       "      <td>0.41</td>\n",
       "    </tr>\n",
       "    <tr>\n",
       "      <th>384</th>\n",
       "      <td>16.1</td>\n",
       "      <td>4.3</td>\n",
       "      <td>38</td>\n",
       "      <td>25.0</td>\n",
       "      <td>31</td>\n",
       "      <td>1</td>\n",
       "      <td>0</td>\n",
       "      <td>1</td>\n",
       "      <td>3.74</td>\n",
       "      <td>6.28</td>\n",
       "      <td>0.42</td>\n",
       "    </tr>\n",
       "    <tr>\n",
       "      <th>385</th>\n",
       "      <td>16.0</td>\n",
       "      <td>3.8</td>\n",
       "      <td>45</td>\n",
       "      <td>25.0</td>\n",
       "      <td>19</td>\n",
       "      <td>0</td>\n",
       "      <td>0</td>\n",
       "      <td>1</td>\n",
       "      <td>4.21</td>\n",
       "      <td>5.55</td>\n",
       "      <td>0.36</td>\n",
       "    </tr>\n",
       "    <tr>\n",
       "      <th>386</th>\n",
       "      <td>15.4</td>\n",
       "      <td>4.6</td>\n",
       "      <td>42</td>\n",
       "      <td>25.0</td>\n",
       "      <td>31</td>\n",
       "      <td>1</td>\n",
       "      <td>0</td>\n",
       "      <td>1</td>\n",
       "      <td>3.35</td>\n",
       "      <td>6.72</td>\n",
       "      <td>0.37</td>\n",
       "    </tr>\n",
       "    <tr>\n",
       "      <th>387</th>\n",
       "      <td>14.7</td>\n",
       "      <td>5.0</td>\n",
       "      <td>25</td>\n",
       "      <td>25.0</td>\n",
       "      <td>30</td>\n",
       "      <td>1</td>\n",
       "      <td>0</td>\n",
       "      <td>1</td>\n",
       "      <td>2.94</td>\n",
       "      <td>7.30</td>\n",
       "      <td>0.59</td>\n",
       "    </tr>\n",
       "  </tbody>\n",
       "</table>\n",
       "<p>228 rows × 11 columns</p>\n",
       "</div>"
      ],
      "text/plain": [
       "     distance  consume  speed  temp_inside  temp_outside  AC  E10  SP98  \\\n",
       "44        5.4      3.3     32         21.5             7   0    0     1   \n",
       "45        2.0      9.9     21         21.5             4   0    0     1   \n",
       "46       14.2      5.1     32         21.5             7   0    0     1   \n",
       "47       16.0      4.9     25         21.5             8   0    0     1   \n",
       "48       11.8      4.9     25         21.5            11   0    0     1   \n",
       "..        ...      ...    ...          ...           ...  ..  ...   ...   \n",
       "383      16.0      3.7     39         24.5            18   0    0     1   \n",
       "384      16.1      4.3     38         25.0            31   1    0     1   \n",
       "385      16.0      3.8     45         25.0            19   0    0     1   \n",
       "386      15.4      4.6     42         25.0            31   1    0     1   \n",
       "387      14.7      5.0     25         25.0            30   1    0     1   \n",
       "\n",
       "     mileage(km/L)  expense(€)  estimate(hrs)  \n",
       "44            1.64        4.82           0.17  \n",
       "45            0.20       14.45           0.10  \n",
       "46            2.78        7.45           0.44  \n",
       "47            3.27        7.15           0.64  \n",
       "48            2.41        7.15           0.47  \n",
       "..             ...         ...            ...  \n",
       "383           4.32        5.40           0.41  \n",
       "384           3.74        6.28           0.42  \n",
       "385           4.21        5.55           0.36  \n",
       "386           3.35        6.72           0.37  \n",
       "387           2.94        7.30           0.59  \n",
       "\n",
       "[228 rows x 11 columns]"
      ]
     },
     "execution_count": 202,
     "metadata": {},
     "output_type": "execute_result"
    }
   ],
   "source": [
    "df_sp = df[df['SP98']==1]\n",
    "df_sp"
   ]
  },
  {
   "cell_type": "code",
   "execution_count": 190,
   "metadata": {},
   "outputs": [
    {
     "data": {
      "application/vnd.plotly.v1+json": {
       "config": {
        "plotlyServerURL": "https://plot.ly"
       },
       "data": [
        {
         "name": "E10",
         "type": "scatter",
         "x": [
          5.6,
          2.86,
          2.04,
          3.31,
          4.11,
          1.3,
          1.77,
          2.46,
          0.77,
          2.25,
          2.21,
          2.57,
          2.08,
          4.84,
          2.64,
          3.39,
          5.96,
          2.31,
          5.29,
          2.51,
          4.6,
          2.41,
          3.14,
          2.51,
          2.08,
          3.02,
          3.23,
          3.17,
          3.33,
          3.23,
          2.32,
          2.36,
          2.2,
          6.79,
          4.42,
          2.12,
          3.85,
          0.66,
          2.46,
          1.89,
          3.1,
          0.9,
          2.54,
          2.37,
          2.98,
          2.74,
          2.28,
          2.88,
          1.35,
          2.88,
          4.57,
          4.62,
          0.16,
          7.64,
          7.69,
          4.2,
          1.98,
          4.98,
          3.46,
          2.74,
          7.04,
          9.55,
          2.81,
          4.08,
          7.43,
          0.63,
          5.54,
          10.43,
          4.3,
          8.7,
          0.97,
          3.42,
          2.02,
          4.59,
          4.4,
          4.83,
          9.25,
          8.14,
          2.41,
          5.35,
          9.23,
          2.34,
          2.66,
          12.23,
          3.12,
          2.51,
          1.73,
          2.38,
          6.77,
          2.41,
          10.32,
          8.39,
          2.56,
          18.45,
          28.33,
          15.63,
          4.22,
          2.58,
          5.04,
          2.98,
          2.57,
          3.76,
          2.7,
          3.95,
          1.61,
          2.12,
          2.2,
          1.93,
          2.28,
          2.46,
          2.37,
          2.91,
          7.68,
          2.68,
          5.53,
          4.36,
          0.25,
          2.68,
          1.48,
          2.64,
          0.33,
          2.8,
          5.14,
          6.28,
          2.62,
          0.76,
          0.75,
          1.08,
          4,
          5.72,
          4.21,
          3.42,
          4.21,
          0.75,
          19.6,
          19.56,
          4.49,
          3.42,
          4.23,
          3.02,
          4.38,
          9.4,
          4.48,
          1.02,
          21.47,
          28.2,
          4.37,
          3.67,
          4.32,
          3.81,
          3.76,
          4,
          5.53,
          4.05,
          4.21,
          3.16,
          4,
          3.21,
          4.41,
          3.61
         ],
         "y": [
          12,
          13,
          15,
          14,
          15,
          10,
          11,
          6,
          4,
          9,
          4,
          0,
          10,
          12,
          11,
          5,
          3,
          3,
          8,
          4,
          3,
          1,
          1,
          1,
          6,
          9,
          2,
          3,
          1,
          4,
          11,
          10,
          8,
          7,
          7,
          8,
          4,
          6,
          9,
          7,
          7,
          7,
          6,
          7,
          7,
          4,
          7,
          8,
          11,
          10,
          5,
          6,
          7,
          6,
          8,
          3,
          7,
          8,
          8,
          8,
          9,
          9,
          6,
          6,
          7,
          8,
          6,
          8,
          8,
          4,
          12,
          10,
          6,
          8,
          6,
          7,
          6,
          9,
          7,
          4,
          6,
          10,
          10,
          10,
          11,
          11,
          11,
          11,
          11,
          8,
          6,
          11,
          13,
          10,
          9,
          11,
          11,
          9,
          9,
          10,
          9,
          8,
          9,
          12,
          11,
          7,
          1,
          1,
          4,
          7,
          7,
          7,
          5,
          7,
          7,
          3,
          4,
          4,
          1,
          4,
          0,
          2,
          3,
          8,
          0,
          0,
          1,
          2,
          1,
          -3,
          5,
          4,
          6,
          3,
          5,
          5,
          5,
          5,
          10,
          7,
          10,
          13,
          17,
          17,
          10,
          18,
          10,
          10,
          12,
          5,
          8,
          9,
          7,
          6,
          7,
          7,
          8,
          9,
          9,
          9,
          4,
          7,
          2,
          2,
          3,
          5,
          5,
          6,
          8,
          7,
          6,
          8,
          6,
          0,
          6,
          3,
          -5,
          -3,
          0,
          0,
          0,
          0,
          1,
          3,
          8,
          12,
          10,
          7,
          13,
          12,
          18,
          9,
          4,
          13,
          16,
          13,
          14,
          14,
          14,
          13,
          13,
          15,
          18,
          17,
          12,
          12,
          10,
          10,
          19,
          21,
          10,
          12,
          9,
          8,
          13,
          5,
          13,
          11,
          12,
          17,
          12,
          9,
          10,
          11,
          8,
          3,
          11,
          4,
          3,
          2,
          4,
          1,
          8,
          8,
          10,
          1,
          9,
          10,
          2,
          9,
          11,
          12,
          8,
          10,
          10,
          6,
          11,
          10,
          15,
          16,
          16,
          8,
          14,
          14,
          14,
          8,
          12,
          14,
          14,
          8,
          7,
          15,
          12,
          13,
          17,
          18,
          10,
          21,
          8,
          14,
          12,
          18,
          18,
          18,
          10,
          10,
          19,
          7,
          11,
          10,
          8,
          16,
          8,
          16,
          14,
          12,
          20,
          15,
          17,
          18,
          25,
          16,
          20,
          18,
          23,
          27,
          14,
          21,
          16,
          18,
          18,
          15,
          5,
          18,
          11,
          10,
          10,
          13,
          16,
          16,
          13,
          17,
          17,
          17,
          15,
          13,
          15,
          14,
          20,
          21,
          27,
          15,
          24,
          15,
          26,
          17,
          24,
          17,
          24,
          24,
          25,
          27,
          18,
          22,
          21,
          16,
          21,
          17,
          15,
          24,
          16,
          21,
          24,
          17,
          16,
          15,
          18,
          16,
          25,
          16,
          18,
          17,
          23,
          16,
          23,
          23,
          16,
          18,
          24,
          22,
          17,
          15,
          18,
          23,
          18,
          26,
          30,
          31,
          21,
          30,
          19,
          21,
          26,
          27,
          23,
          19,
          22,
          26,
          17,
          23,
          27,
          28,
          28,
          18,
          31,
          19,
          31,
          30
         ]
        }
       ],
       "layout": {
        "template": {
         "data": {
          "bar": [
           {
            "error_x": {
             "color": "#2a3f5f"
            },
            "error_y": {
             "color": "#2a3f5f"
            },
            "marker": {
             "line": {
              "color": "#E5ECF6",
              "width": 0.5
             }
            },
            "type": "bar"
           }
          ],
          "barpolar": [
           {
            "marker": {
             "line": {
              "color": "#E5ECF6",
              "width": 0.5
             }
            },
            "type": "barpolar"
           }
          ],
          "carpet": [
           {
            "aaxis": {
             "endlinecolor": "#2a3f5f",
             "gridcolor": "white",
             "linecolor": "white",
             "minorgridcolor": "white",
             "startlinecolor": "#2a3f5f"
            },
            "baxis": {
             "endlinecolor": "#2a3f5f",
             "gridcolor": "white",
             "linecolor": "white",
             "minorgridcolor": "white",
             "startlinecolor": "#2a3f5f"
            },
            "type": "carpet"
           }
          ],
          "choropleth": [
           {
            "colorbar": {
             "outlinewidth": 0,
             "ticks": ""
            },
            "type": "choropleth"
           }
          ],
          "contour": [
           {
            "colorbar": {
             "outlinewidth": 0,
             "ticks": ""
            },
            "colorscale": [
             [
              0,
              "#0d0887"
             ],
             [
              0.1111111111111111,
              "#46039f"
             ],
             [
              0.2222222222222222,
              "#7201a8"
             ],
             [
              0.3333333333333333,
              "#9c179e"
             ],
             [
              0.4444444444444444,
              "#bd3786"
             ],
             [
              0.5555555555555556,
              "#d8576b"
             ],
             [
              0.6666666666666666,
              "#ed7953"
             ],
             [
              0.7777777777777778,
              "#fb9f3a"
             ],
             [
              0.8888888888888888,
              "#fdca26"
             ],
             [
              1,
              "#f0f921"
             ]
            ],
            "type": "contour"
           }
          ],
          "contourcarpet": [
           {
            "colorbar": {
             "outlinewidth": 0,
             "ticks": ""
            },
            "type": "contourcarpet"
           }
          ],
          "heatmap": [
           {
            "colorbar": {
             "outlinewidth": 0,
             "ticks": ""
            },
            "colorscale": [
             [
              0,
              "#0d0887"
             ],
             [
              0.1111111111111111,
              "#46039f"
             ],
             [
              0.2222222222222222,
              "#7201a8"
             ],
             [
              0.3333333333333333,
              "#9c179e"
             ],
             [
              0.4444444444444444,
              "#bd3786"
             ],
             [
              0.5555555555555556,
              "#d8576b"
             ],
             [
              0.6666666666666666,
              "#ed7953"
             ],
             [
              0.7777777777777778,
              "#fb9f3a"
             ],
             [
              0.8888888888888888,
              "#fdca26"
             ],
             [
              1,
              "#f0f921"
             ]
            ],
            "type": "heatmap"
           }
          ],
          "heatmapgl": [
           {
            "colorbar": {
             "outlinewidth": 0,
             "ticks": ""
            },
            "colorscale": [
             [
              0,
              "#0d0887"
             ],
             [
              0.1111111111111111,
              "#46039f"
             ],
             [
              0.2222222222222222,
              "#7201a8"
             ],
             [
              0.3333333333333333,
              "#9c179e"
             ],
             [
              0.4444444444444444,
              "#bd3786"
             ],
             [
              0.5555555555555556,
              "#d8576b"
             ],
             [
              0.6666666666666666,
              "#ed7953"
             ],
             [
              0.7777777777777778,
              "#fb9f3a"
             ],
             [
              0.8888888888888888,
              "#fdca26"
             ],
             [
              1,
              "#f0f921"
             ]
            ],
            "type": "heatmapgl"
           }
          ],
          "histogram": [
           {
            "marker": {
             "colorbar": {
              "outlinewidth": 0,
              "ticks": ""
             }
            },
            "type": "histogram"
           }
          ],
          "histogram2d": [
           {
            "colorbar": {
             "outlinewidth": 0,
             "ticks": ""
            },
            "colorscale": [
             [
              0,
              "#0d0887"
             ],
             [
              0.1111111111111111,
              "#46039f"
             ],
             [
              0.2222222222222222,
              "#7201a8"
             ],
             [
              0.3333333333333333,
              "#9c179e"
             ],
             [
              0.4444444444444444,
              "#bd3786"
             ],
             [
              0.5555555555555556,
              "#d8576b"
             ],
             [
              0.6666666666666666,
              "#ed7953"
             ],
             [
              0.7777777777777778,
              "#fb9f3a"
             ],
             [
              0.8888888888888888,
              "#fdca26"
             ],
             [
              1,
              "#f0f921"
             ]
            ],
            "type": "histogram2d"
           }
          ],
          "histogram2dcontour": [
           {
            "colorbar": {
             "outlinewidth": 0,
             "ticks": ""
            },
            "colorscale": [
             [
              0,
              "#0d0887"
             ],
             [
              0.1111111111111111,
              "#46039f"
             ],
             [
              0.2222222222222222,
              "#7201a8"
             ],
             [
              0.3333333333333333,
              "#9c179e"
             ],
             [
              0.4444444444444444,
              "#bd3786"
             ],
             [
              0.5555555555555556,
              "#d8576b"
             ],
             [
              0.6666666666666666,
              "#ed7953"
             ],
             [
              0.7777777777777778,
              "#fb9f3a"
             ],
             [
              0.8888888888888888,
              "#fdca26"
             ],
             [
              1,
              "#f0f921"
             ]
            ],
            "type": "histogram2dcontour"
           }
          ],
          "mesh3d": [
           {
            "colorbar": {
             "outlinewidth": 0,
             "ticks": ""
            },
            "type": "mesh3d"
           }
          ],
          "parcoords": [
           {
            "line": {
             "colorbar": {
              "outlinewidth": 0,
              "ticks": ""
             }
            },
            "type": "parcoords"
           }
          ],
          "pie": [
           {
            "automargin": true,
            "type": "pie"
           }
          ],
          "scatter": [
           {
            "marker": {
             "colorbar": {
              "outlinewidth": 0,
              "ticks": ""
             }
            },
            "type": "scatter"
           }
          ],
          "scatter3d": [
           {
            "line": {
             "colorbar": {
              "outlinewidth": 0,
              "ticks": ""
             }
            },
            "marker": {
             "colorbar": {
              "outlinewidth": 0,
              "ticks": ""
             }
            },
            "type": "scatter3d"
           }
          ],
          "scattercarpet": [
           {
            "marker": {
             "colorbar": {
              "outlinewidth": 0,
              "ticks": ""
             }
            },
            "type": "scattercarpet"
           }
          ],
          "scattergeo": [
           {
            "marker": {
             "colorbar": {
              "outlinewidth": 0,
              "ticks": ""
             }
            },
            "type": "scattergeo"
           }
          ],
          "scattergl": [
           {
            "marker": {
             "colorbar": {
              "outlinewidth": 0,
              "ticks": ""
             }
            },
            "type": "scattergl"
           }
          ],
          "scattermapbox": [
           {
            "marker": {
             "colorbar": {
              "outlinewidth": 0,
              "ticks": ""
             }
            },
            "type": "scattermapbox"
           }
          ],
          "scatterpolar": [
           {
            "marker": {
             "colorbar": {
              "outlinewidth": 0,
              "ticks": ""
             }
            },
            "type": "scatterpolar"
           }
          ],
          "scatterpolargl": [
           {
            "marker": {
             "colorbar": {
              "outlinewidth": 0,
              "ticks": ""
             }
            },
            "type": "scatterpolargl"
           }
          ],
          "scatterternary": [
           {
            "marker": {
             "colorbar": {
              "outlinewidth": 0,
              "ticks": ""
             }
            },
            "type": "scatterternary"
           }
          ],
          "surface": [
           {
            "colorbar": {
             "outlinewidth": 0,
             "ticks": ""
            },
            "colorscale": [
             [
              0,
              "#0d0887"
             ],
             [
              0.1111111111111111,
              "#46039f"
             ],
             [
              0.2222222222222222,
              "#7201a8"
             ],
             [
              0.3333333333333333,
              "#9c179e"
             ],
             [
              0.4444444444444444,
              "#bd3786"
             ],
             [
              0.5555555555555556,
              "#d8576b"
             ],
             [
              0.6666666666666666,
              "#ed7953"
             ],
             [
              0.7777777777777778,
              "#fb9f3a"
             ],
             [
              0.8888888888888888,
              "#fdca26"
             ],
             [
              1,
              "#f0f921"
             ]
            ],
            "type": "surface"
           }
          ],
          "table": [
           {
            "cells": {
             "fill": {
              "color": "#EBF0F8"
             },
             "line": {
              "color": "white"
             }
            },
            "header": {
             "fill": {
              "color": "#C8D4E3"
             },
             "line": {
              "color": "white"
             }
            },
            "type": "table"
           }
          ]
         },
         "layout": {
          "annotationdefaults": {
           "arrowcolor": "#2a3f5f",
           "arrowhead": 0,
           "arrowwidth": 1
          },
          "autotypenumbers": "strict",
          "coloraxis": {
           "colorbar": {
            "outlinewidth": 0,
            "ticks": ""
           }
          },
          "colorscale": {
           "diverging": [
            [
             0,
             "#8e0152"
            ],
            [
             0.1,
             "#c51b7d"
            ],
            [
             0.2,
             "#de77ae"
            ],
            [
             0.3,
             "#f1b6da"
            ],
            [
             0.4,
             "#fde0ef"
            ],
            [
             0.5,
             "#f7f7f7"
            ],
            [
             0.6,
             "#e6f5d0"
            ],
            [
             0.7,
             "#b8e186"
            ],
            [
             0.8,
             "#7fbc41"
            ],
            [
             0.9,
             "#4d9221"
            ],
            [
             1,
             "#276419"
            ]
           ],
           "sequential": [
            [
             0,
             "#0d0887"
            ],
            [
             0.1111111111111111,
             "#46039f"
            ],
            [
             0.2222222222222222,
             "#7201a8"
            ],
            [
             0.3333333333333333,
             "#9c179e"
            ],
            [
             0.4444444444444444,
             "#bd3786"
            ],
            [
             0.5555555555555556,
             "#d8576b"
            ],
            [
             0.6666666666666666,
             "#ed7953"
            ],
            [
             0.7777777777777778,
             "#fb9f3a"
            ],
            [
             0.8888888888888888,
             "#fdca26"
            ],
            [
             1,
             "#f0f921"
            ]
           ],
           "sequentialminus": [
            [
             0,
             "#0d0887"
            ],
            [
             0.1111111111111111,
             "#46039f"
            ],
            [
             0.2222222222222222,
             "#7201a8"
            ],
            [
             0.3333333333333333,
             "#9c179e"
            ],
            [
             0.4444444444444444,
             "#bd3786"
            ],
            [
             0.5555555555555556,
             "#d8576b"
            ],
            [
             0.6666666666666666,
             "#ed7953"
            ],
            [
             0.7777777777777778,
             "#fb9f3a"
            ],
            [
             0.8888888888888888,
             "#fdca26"
            ],
            [
             1,
             "#f0f921"
            ]
           ]
          },
          "colorway": [
           "#636efa",
           "#EF553B",
           "#00cc96",
           "#ab63fa",
           "#FFA15A",
           "#19d3f3",
           "#FF6692",
           "#B6E880",
           "#FF97FF",
           "#FECB52"
          ],
          "font": {
           "color": "#2a3f5f"
          },
          "geo": {
           "bgcolor": "white",
           "lakecolor": "white",
           "landcolor": "#E5ECF6",
           "showlakes": true,
           "showland": true,
           "subunitcolor": "white"
          },
          "hoverlabel": {
           "align": "left"
          },
          "hovermode": "closest",
          "mapbox": {
           "style": "light"
          },
          "paper_bgcolor": "white",
          "plot_bgcolor": "#E5ECF6",
          "polar": {
           "angularaxis": {
            "gridcolor": "white",
            "linecolor": "white",
            "ticks": ""
           },
           "bgcolor": "#E5ECF6",
           "radialaxis": {
            "gridcolor": "white",
            "linecolor": "white",
            "ticks": ""
           }
          },
          "scene": {
           "xaxis": {
            "backgroundcolor": "#E5ECF6",
            "gridcolor": "white",
            "gridwidth": 2,
            "linecolor": "white",
            "showbackground": true,
            "ticks": "",
            "zerolinecolor": "white"
           },
           "yaxis": {
            "backgroundcolor": "#E5ECF6",
            "gridcolor": "white",
            "gridwidth": 2,
            "linecolor": "white",
            "showbackground": true,
            "ticks": "",
            "zerolinecolor": "white"
           },
           "zaxis": {
            "backgroundcolor": "#E5ECF6",
            "gridcolor": "white",
            "gridwidth": 2,
            "linecolor": "white",
            "showbackground": true,
            "ticks": "",
            "zerolinecolor": "white"
           }
          },
          "shapedefaults": {
           "line": {
            "color": "#2a3f5f"
           }
          },
          "ternary": {
           "aaxis": {
            "gridcolor": "white",
            "linecolor": "white",
            "ticks": ""
           },
           "baxis": {
            "gridcolor": "white",
            "linecolor": "white",
            "ticks": ""
           },
           "bgcolor": "#E5ECF6",
           "caxis": {
            "gridcolor": "white",
            "linecolor": "white",
            "ticks": ""
           }
          },
          "title": {
           "x": 0.05
          },
          "xaxis": {
           "automargin": true,
           "gridcolor": "white",
           "linecolor": "white",
           "ticks": "",
           "title": {
            "standoff": 15
           },
           "zerolinecolor": "white",
           "zerolinewidth": 2
          },
          "yaxis": {
           "automargin": true,
           "gridcolor": "white",
           "linecolor": "white",
           "ticks": "",
           "title": {
            "standoff": 15
           },
           "zerolinecolor": "white",
           "zerolinewidth": 2
          }
         }
        }
       }
      },
      "text/html": [
       "<div>                            <div id=\"31b34314-c0b4-481f-bc23-51b1eb76977e\" class=\"plotly-graph-div\" style=\"height:525px; width:100%;\"></div>            <script type=\"text/javascript\">                require([\"plotly\"], function(Plotly) {                    window.PLOTLYENV=window.PLOTLYENV || {};                                    if (document.getElementById(\"31b34314-c0b4-481f-bc23-51b1eb76977e\")) {                    Plotly.newPlot(                        \"31b34314-c0b4-481f-bc23-51b1eb76977e\",                        [{\"name\": \"E10\", \"type\": \"scatter\", \"x\": [5.6, 2.86, 2.04, 3.31, 4.11, 1.3, 1.77, 2.46, 0.77, 2.25, 2.21, 2.57, 2.08, 4.84, 2.64, 3.39, 5.96, 2.31, 5.29, 2.51, 4.6, 2.41, 3.14, 2.51, 2.08, 3.02, 3.23, 3.17, 3.33, 3.23, 2.32, 2.36, 2.2, 6.79, 4.42, 2.12, 3.85, 0.66, 2.46, 1.89, 3.1, 0.9, 2.54, 2.37, 2.98, 2.74, 2.28, 2.88, 1.35, 2.88, 4.57, 4.62, 0.16, 7.64, 7.69, 4.2, 1.98, 4.98, 3.46, 2.74, 7.04, 9.55, 2.81, 4.08, 7.43, 0.63, 5.54, 10.43, 4.3, 8.7, 0.97, 3.42, 2.02, 4.59, 4.4, 4.83, 9.25, 8.14, 2.41, 5.35, 9.23, 2.34, 2.66, 12.23, 3.12, 2.51, 1.73, 2.38, 6.77, 2.41, 10.32, 8.39, 2.56, 18.45, 28.33, 15.63, 4.22, 2.58, 5.04, 2.98, 2.57, 3.76, 2.7, 3.95, 1.61, 2.12, 2.2, 1.93, 2.28, 2.46, 2.37, 2.91, 7.68, 2.68, 5.53, 4.36, 0.25, 2.68, 1.48, 2.64, 0.33, 2.8, 5.14, 6.28, 2.62, 0.76, 0.75, 1.08, 4.0, 5.72, 4.21, 3.42, 4.21, 0.75, 19.6, 19.56, 4.49, 3.42, 4.23, 3.02, 4.38, 9.4, 4.48, 1.02, 21.47, 28.2, 4.37, 3.67, 4.32, 3.81, 3.76, 4.0, 5.53, 4.05, 4.21, 3.16, 4.0, 3.21, 4.41, 3.61], \"y\": [12, 13, 15, 14, 15, 10, 11, 6, 4, 9, 4, 0, 10, 12, 11, 5, 3, 3, 8, 4, 3, 1, 1, 1, 6, 9, 2, 3, 1, 4, 11, 10, 8, 7, 7, 8, 4, 6, 9, 7, 7, 7, 6, 7, 7, 4, 7, 8, 11, 10, 5, 6, 7, 6, 8, 3, 7, 8, 8, 8, 9, 9, 6, 6, 7, 8, 6, 8, 8, 4, 12, 10, 6, 8, 6, 7, 6, 9, 7, 4, 6, 10, 10, 10, 11, 11, 11, 11, 11, 8, 6, 11, 13, 10, 9, 11, 11, 9, 9, 10, 9, 8, 9, 12, 11, 7, 1, 1, 4, 7, 7, 7, 5, 7, 7, 3, 4, 4, 1, 4, 0, 2, 3, 8, 0, 0, 1, 2, 1, -3, 5, 4, 6, 3, 5, 5, 5, 5, 10, 7, 10, 13, 17, 17, 10, 18, 10, 10, 12, 5, 8, 9, 7, 6, 7, 7, 8, 9, 9, 9, 4, 7, 2, 2, 3, 5, 5, 6, 8, 7, 6, 8, 6, 0, 6, 3, -5, -3, 0, 0, 0, 0, 1, 3, 8, 12, 10, 7, 13, 12, 18, 9, 4, 13, 16, 13, 14, 14, 14, 13, 13, 15, 18, 17, 12, 12, 10, 10, 19, 21, 10, 12, 9, 8, 13, 5, 13, 11, 12, 17, 12, 9, 10, 11, 8, 3, 11, 4, 3, 2, 4, 1, 8, 8, 10, 1, 9, 10, 2, 9, 11, 12, 8, 10, 10, 6, 11, 10, 15, 16, 16, 8, 14, 14, 14, 8, 12, 14, 14, 8, 7, 15, 12, 13, 17, 18, 10, 21, 8, 14, 12, 18, 18, 18, 10, 10, 19, 7, 11, 10, 8, 16, 8, 16, 14, 12, 20, 15, 17, 18, 25, 16, 20, 18, 23, 27, 14, 21, 16, 18, 18, 15, 5, 18, 11, 10, 10, 13, 16, 16, 13, 17, 17, 17, 15, 13, 15, 14, 20, 21, 27, 15, 24, 15, 26, 17, 24, 17, 24, 24, 25, 27, 18, 22, 21, 16, 21, 17, 15, 24, 16, 21, 24, 17, 16, 15, 18, 16, 25, 16, 18, 17, 23, 16, 23, 23, 16, 18, 24, 22, 17, 15, 18, 23, 18, 26, 30, 31, 21, 30, 19, 21, 26, 27, 23, 19, 22, 26, 17, 23, 27, 28, 28, 18, 31, 19, 31, 30]}],                        {\"template\": {\"data\": {\"bar\": [{\"error_x\": {\"color\": \"#2a3f5f\"}, \"error_y\": {\"color\": \"#2a3f5f\"}, \"marker\": {\"line\": {\"color\": \"#E5ECF6\", \"width\": 0.5}}, \"type\": \"bar\"}], \"barpolar\": [{\"marker\": {\"line\": {\"color\": \"#E5ECF6\", \"width\": 0.5}}, \"type\": \"barpolar\"}], \"carpet\": [{\"aaxis\": {\"endlinecolor\": \"#2a3f5f\", \"gridcolor\": \"white\", \"linecolor\": \"white\", \"minorgridcolor\": \"white\", \"startlinecolor\": \"#2a3f5f\"}, \"baxis\": {\"endlinecolor\": \"#2a3f5f\", \"gridcolor\": \"white\", \"linecolor\": \"white\", \"minorgridcolor\": \"white\", \"startlinecolor\": \"#2a3f5f\"}, \"type\": \"carpet\"}], \"choropleth\": [{\"colorbar\": {\"outlinewidth\": 0, \"ticks\": \"\"}, \"type\": \"choropleth\"}], \"contour\": [{\"colorbar\": {\"outlinewidth\": 0, \"ticks\": \"\"}, \"colorscale\": [[0.0, \"#0d0887\"], [0.1111111111111111, \"#46039f\"], [0.2222222222222222, \"#7201a8\"], [0.3333333333333333, \"#9c179e\"], [0.4444444444444444, \"#bd3786\"], [0.5555555555555556, \"#d8576b\"], [0.6666666666666666, \"#ed7953\"], [0.7777777777777778, \"#fb9f3a\"], [0.8888888888888888, \"#fdca26\"], [1.0, \"#f0f921\"]], \"type\": \"contour\"}], \"contourcarpet\": [{\"colorbar\": {\"outlinewidth\": 0, \"ticks\": \"\"}, \"type\": \"contourcarpet\"}], \"heatmap\": [{\"colorbar\": {\"outlinewidth\": 0, \"ticks\": \"\"}, \"colorscale\": [[0.0, \"#0d0887\"], [0.1111111111111111, \"#46039f\"], [0.2222222222222222, \"#7201a8\"], [0.3333333333333333, \"#9c179e\"], [0.4444444444444444, \"#bd3786\"], [0.5555555555555556, \"#d8576b\"], [0.6666666666666666, \"#ed7953\"], [0.7777777777777778, \"#fb9f3a\"], [0.8888888888888888, \"#fdca26\"], [1.0, \"#f0f921\"]], \"type\": \"heatmap\"}], \"heatmapgl\": [{\"colorbar\": {\"outlinewidth\": 0, \"ticks\": \"\"}, \"colorscale\": [[0.0, \"#0d0887\"], [0.1111111111111111, \"#46039f\"], [0.2222222222222222, \"#7201a8\"], [0.3333333333333333, \"#9c179e\"], [0.4444444444444444, \"#bd3786\"], [0.5555555555555556, \"#d8576b\"], [0.6666666666666666, \"#ed7953\"], [0.7777777777777778, \"#fb9f3a\"], [0.8888888888888888, \"#fdca26\"], [1.0, \"#f0f921\"]], \"type\": \"heatmapgl\"}], \"histogram\": [{\"marker\": {\"colorbar\": {\"outlinewidth\": 0, \"ticks\": \"\"}}, \"type\": \"histogram\"}], \"histogram2d\": [{\"colorbar\": {\"outlinewidth\": 0, \"ticks\": \"\"}, \"colorscale\": [[0.0, \"#0d0887\"], [0.1111111111111111, \"#46039f\"], [0.2222222222222222, \"#7201a8\"], [0.3333333333333333, \"#9c179e\"], [0.4444444444444444, \"#bd3786\"], [0.5555555555555556, \"#d8576b\"], [0.6666666666666666, \"#ed7953\"], [0.7777777777777778, \"#fb9f3a\"], [0.8888888888888888, \"#fdca26\"], [1.0, \"#f0f921\"]], \"type\": \"histogram2d\"}], \"histogram2dcontour\": [{\"colorbar\": {\"outlinewidth\": 0, \"ticks\": \"\"}, \"colorscale\": [[0.0, \"#0d0887\"], [0.1111111111111111, \"#46039f\"], [0.2222222222222222, \"#7201a8\"], [0.3333333333333333, \"#9c179e\"], [0.4444444444444444, \"#bd3786\"], [0.5555555555555556, \"#d8576b\"], [0.6666666666666666, \"#ed7953\"], [0.7777777777777778, \"#fb9f3a\"], [0.8888888888888888, \"#fdca26\"], [1.0, \"#f0f921\"]], \"type\": \"histogram2dcontour\"}], \"mesh3d\": [{\"colorbar\": {\"outlinewidth\": 0, \"ticks\": \"\"}, \"type\": \"mesh3d\"}], \"parcoords\": [{\"line\": {\"colorbar\": {\"outlinewidth\": 0, \"ticks\": \"\"}}, \"type\": \"parcoords\"}], \"pie\": [{\"automargin\": true, \"type\": \"pie\"}], \"scatter\": [{\"marker\": {\"colorbar\": {\"outlinewidth\": 0, \"ticks\": \"\"}}, \"type\": \"scatter\"}], \"scatter3d\": [{\"line\": {\"colorbar\": {\"outlinewidth\": 0, \"ticks\": \"\"}}, \"marker\": {\"colorbar\": {\"outlinewidth\": 0, \"ticks\": \"\"}}, \"type\": \"scatter3d\"}], \"scattercarpet\": [{\"marker\": {\"colorbar\": {\"outlinewidth\": 0, \"ticks\": \"\"}}, \"type\": \"scattercarpet\"}], \"scattergeo\": [{\"marker\": {\"colorbar\": {\"outlinewidth\": 0, \"ticks\": \"\"}}, \"type\": \"scattergeo\"}], \"scattergl\": [{\"marker\": {\"colorbar\": {\"outlinewidth\": 0, \"ticks\": \"\"}}, \"type\": \"scattergl\"}], \"scattermapbox\": [{\"marker\": {\"colorbar\": {\"outlinewidth\": 0, \"ticks\": \"\"}}, \"type\": \"scattermapbox\"}], \"scatterpolar\": [{\"marker\": {\"colorbar\": {\"outlinewidth\": 0, \"ticks\": \"\"}}, \"type\": \"scatterpolar\"}], \"scatterpolargl\": [{\"marker\": {\"colorbar\": {\"outlinewidth\": 0, \"ticks\": \"\"}}, \"type\": \"scatterpolargl\"}], \"scatterternary\": [{\"marker\": {\"colorbar\": {\"outlinewidth\": 0, \"ticks\": \"\"}}, \"type\": \"scatterternary\"}], \"surface\": [{\"colorbar\": {\"outlinewidth\": 0, \"ticks\": \"\"}, \"colorscale\": [[0.0, \"#0d0887\"], [0.1111111111111111, \"#46039f\"], [0.2222222222222222, \"#7201a8\"], [0.3333333333333333, \"#9c179e\"], [0.4444444444444444, \"#bd3786\"], [0.5555555555555556, \"#d8576b\"], [0.6666666666666666, \"#ed7953\"], [0.7777777777777778, \"#fb9f3a\"], [0.8888888888888888, \"#fdca26\"], [1.0, \"#f0f921\"]], \"type\": \"surface\"}], \"table\": [{\"cells\": {\"fill\": {\"color\": \"#EBF0F8\"}, \"line\": {\"color\": \"white\"}}, \"header\": {\"fill\": {\"color\": \"#C8D4E3\"}, \"line\": {\"color\": \"white\"}}, \"type\": \"table\"}]}, \"layout\": {\"annotationdefaults\": {\"arrowcolor\": \"#2a3f5f\", \"arrowhead\": 0, \"arrowwidth\": 1}, \"autotypenumbers\": \"strict\", \"coloraxis\": {\"colorbar\": {\"outlinewidth\": 0, \"ticks\": \"\"}}, \"colorscale\": {\"diverging\": [[0, \"#8e0152\"], [0.1, \"#c51b7d\"], [0.2, \"#de77ae\"], [0.3, \"#f1b6da\"], [0.4, \"#fde0ef\"], [0.5, \"#f7f7f7\"], [0.6, \"#e6f5d0\"], [0.7, \"#b8e186\"], [0.8, \"#7fbc41\"], [0.9, \"#4d9221\"], [1, \"#276419\"]], \"sequential\": [[0.0, \"#0d0887\"], [0.1111111111111111, \"#46039f\"], [0.2222222222222222, \"#7201a8\"], [0.3333333333333333, \"#9c179e\"], [0.4444444444444444, \"#bd3786\"], [0.5555555555555556, \"#d8576b\"], [0.6666666666666666, \"#ed7953\"], [0.7777777777777778, \"#fb9f3a\"], [0.8888888888888888, \"#fdca26\"], [1.0, \"#f0f921\"]], \"sequentialminus\": [[0.0, \"#0d0887\"], [0.1111111111111111, \"#46039f\"], [0.2222222222222222, \"#7201a8\"], [0.3333333333333333, \"#9c179e\"], [0.4444444444444444, \"#bd3786\"], [0.5555555555555556, \"#d8576b\"], [0.6666666666666666, \"#ed7953\"], [0.7777777777777778, \"#fb9f3a\"], [0.8888888888888888, \"#fdca26\"], [1.0, \"#f0f921\"]]}, \"colorway\": [\"#636efa\", \"#EF553B\", \"#00cc96\", \"#ab63fa\", \"#FFA15A\", \"#19d3f3\", \"#FF6692\", \"#B6E880\", \"#FF97FF\", \"#FECB52\"], \"font\": {\"color\": \"#2a3f5f\"}, \"geo\": {\"bgcolor\": \"white\", \"lakecolor\": \"white\", \"landcolor\": \"#E5ECF6\", \"showlakes\": true, \"showland\": true, \"subunitcolor\": \"white\"}, \"hoverlabel\": {\"align\": \"left\"}, \"hovermode\": \"closest\", \"mapbox\": {\"style\": \"light\"}, \"paper_bgcolor\": \"white\", \"plot_bgcolor\": \"#E5ECF6\", \"polar\": {\"angularaxis\": {\"gridcolor\": \"white\", \"linecolor\": \"white\", \"ticks\": \"\"}, \"bgcolor\": \"#E5ECF6\", \"radialaxis\": {\"gridcolor\": \"white\", \"linecolor\": \"white\", \"ticks\": \"\"}}, \"scene\": {\"xaxis\": {\"backgroundcolor\": \"#E5ECF6\", \"gridcolor\": \"white\", \"gridwidth\": 2, \"linecolor\": \"white\", \"showbackground\": true, \"ticks\": \"\", \"zerolinecolor\": \"white\"}, \"yaxis\": {\"backgroundcolor\": \"#E5ECF6\", \"gridcolor\": \"white\", \"gridwidth\": 2, \"linecolor\": \"white\", \"showbackground\": true, \"ticks\": \"\", \"zerolinecolor\": \"white\"}, \"zaxis\": {\"backgroundcolor\": \"#E5ECF6\", \"gridcolor\": \"white\", \"gridwidth\": 2, \"linecolor\": \"white\", \"showbackground\": true, \"ticks\": \"\", \"zerolinecolor\": \"white\"}}, \"shapedefaults\": {\"line\": {\"color\": \"#2a3f5f\"}}, \"ternary\": {\"aaxis\": {\"gridcolor\": \"white\", \"linecolor\": \"white\", \"ticks\": \"\"}, \"baxis\": {\"gridcolor\": \"white\", \"linecolor\": \"white\", \"ticks\": \"\"}, \"bgcolor\": \"#E5ECF6\", \"caxis\": {\"gridcolor\": \"white\", \"linecolor\": \"white\", \"ticks\": \"\"}}, \"title\": {\"x\": 0.05}, \"xaxis\": {\"automargin\": true, \"gridcolor\": \"white\", \"linecolor\": \"white\", \"ticks\": \"\", \"title\": {\"standoff\": 15}, \"zerolinecolor\": \"white\", \"zerolinewidth\": 2}, \"yaxis\": {\"automargin\": true, \"gridcolor\": \"white\", \"linecolor\": \"white\", \"ticks\": \"\", \"title\": {\"standoff\": 15}, \"zerolinecolor\": \"white\", \"zerolinewidth\": 2}}}},                        {\"responsive\": true}                    ).then(function(){\n",
       "                            \n",
       "var gd = document.getElementById('31b34314-c0b4-481f-bc23-51b1eb76977e');\n",
       "var x = new MutationObserver(function (mutations, observer) {{\n",
       "        var display = window.getComputedStyle(gd).display;\n",
       "        if (!display || display === 'none') {{\n",
       "            console.log([gd, 'removed!']);\n",
       "            Plotly.purge(gd);\n",
       "            observer.disconnect();\n",
       "        }}\n",
       "}});\n",
       "\n",
       "// Listen for the removal of the full notebook cells\n",
       "var notebookContainer = gd.closest('#notebook-container');\n",
       "if (notebookContainer) {{\n",
       "    x.observe(notebookContainer, {childList: true});\n",
       "}}\n",
       "\n",
       "// Listen for the clearing of the current output cell\n",
       "var outputEl = gd.closest('.output');\n",
       "if (outputEl) {{\n",
       "    x.observe(outputEl, {childList: true});\n",
       "}}\n",
       "\n",
       "                        })                };                });            </script>        </div>"
      ]
     },
     "metadata": {},
     "output_type": "display_data"
    }
   ],
   "source": [
    "import plotly as pt\n",
    "import plotly.graph_objs as go\n",
    "e_mileage_sort = df.loc[df['E10']==1].sort_values(by=['mileage(km/L)'])\n",
    "e_mileage = df.loc[df['E10']==1]['mileage(km/L)']\n",
    "sp_mileage_sort = df.loc[df['SP98']==1].sort_values(by=['mileage(km/L)'])\n",
    "sp_mileage = df.loc[df['SP98']==1]['mileage(km/L)']\n",
    "mileage = df['mileage(km/L)']\n",
    "\n",
    "\n",
    "\n",
    "fig = go.Figure(data=[\n",
    "    go.Scatter(name='E10', x=e_mileage, y=df['temp_outside'])\n",
    "    \n",
    "])\n",
    "\n",
    "# Change the bar mode\n",
    "#fig.layout.update(barmode='relative')\n",
    "fig.show()"
   ]
  },
  {
   "cell_type": "markdown",
   "metadata": {},
   "source": [
    "Not ideal..this visual..."
   ]
  },
  {
   "cell_type": "code",
   "execution_count": 184,
   "metadata": {},
   "outputs": [
    {
     "data": {
      "application/vnd.plotly.v1+json": {
       "config": {
        "plotlyServerURL": "https://plot.ly"
       },
       "data": [
        {
         "hovertemplate": "mileage(km/L)=%{x}<br>temp_outside=%{y}<extra></extra>",
         "legendgroup": "",
         "marker": {
          "color": "#636efa",
          "symbol": "circle"
         },
         "mode": "markers",
         "name": "",
         "orientation": "v",
         "showlegend": false,
         "type": "scatter",
         "x": [
          5.6,
          2.86,
          2.04,
          3.31,
          4.11,
          1.3,
          1.77,
          2.46,
          0.77,
          2.25,
          2.21,
          2.57,
          2.08,
          4.84,
          2.64,
          3.39,
          5.96,
          2.31,
          5.29,
          2.51,
          4.6,
          2.41,
          3.14,
          2.51,
          2.08,
          3.02,
          3.23,
          3.17,
          3.33,
          3.23,
          2.32,
          2.36,
          2.2,
          6.79,
          4.42,
          2.12,
          3.85,
          0.66,
          2.46,
          1.89,
          3.1,
          0.9,
          2.54,
          2.37,
          2.98,
          2.74,
          2.28,
          2.88,
          1.35,
          2.88,
          4.57,
          4.62,
          0.16,
          7.64,
          7.69,
          4.2,
          1.98,
          4.98,
          3.46,
          2.74,
          7.04,
          9.55,
          2.81,
          4.08,
          7.43,
          0.63,
          5.54,
          10.43,
          4.3,
          8.7,
          0.97,
          3.42,
          2.02,
          4.59,
          4.4,
          4.83,
          9.25,
          8.14,
          2.41,
          5.35,
          9.23,
          2.34,
          2.66,
          12.23,
          3.12,
          2.51,
          1.73,
          2.38,
          6.77,
          2.41,
          10.32,
          8.39,
          2.56,
          18.45,
          28.33,
          15.63,
          4.22,
          2.58,
          5.04,
          2.98,
          2.57,
          3.76,
          2.7,
          3.95,
          1.61,
          2.12,
          2.2,
          1.93,
          2.28,
          2.46,
          2.37,
          2.91,
          7.68,
          2.68,
          5.53,
          4.36,
          0.25,
          2.68,
          1.48,
          2.64,
          0.33,
          2.8,
          5.14,
          6.28,
          2.62,
          0.76,
          0.75,
          1.08,
          4,
          5.72,
          4.21,
          3.42,
          4.21,
          0.75,
          19.6,
          19.56,
          4.49,
          3.42,
          4.23,
          3.02,
          4.38,
          9.4,
          4.48,
          1.02,
          21.47,
          28.2,
          4.37,
          3.67,
          4.32,
          3.81,
          3.76,
          4,
          5.53,
          4.05,
          4.21,
          3.16,
          4,
          3.21,
          4.41,
          3.61
         ],
         "xaxis": "x",
         "y": [
          12,
          13,
          15,
          14,
          15,
          10,
          11,
          6,
          4,
          9,
          4,
          0,
          10,
          12,
          11,
          5,
          3,
          3,
          8,
          4,
          3,
          1,
          1,
          1,
          6,
          9,
          2,
          3,
          1,
          4,
          11,
          10,
          8,
          7,
          7,
          8,
          4,
          6,
          9,
          7,
          7,
          7,
          6,
          7,
          7,
          10,
          13,
          17,
          17,
          10,
          18,
          10,
          10,
          12,
          5,
          8,
          9,
          7,
          6,
          7,
          7,
          8,
          9,
          9,
          9,
          4,
          7,
          2,
          2,
          3,
          5,
          5,
          6,
          8,
          7,
          6,
          8,
          6,
          0,
          6,
          3,
          -5,
          -3,
          0,
          0,
          0,
          0,
          1,
          3,
          8,
          12,
          10,
          7,
          13,
          12,
          18,
          10,
          1,
          9,
          10,
          2,
          9,
          11,
          12,
          8,
          10,
          10,
          6,
          11,
          10,
          15,
          16,
          16,
          8,
          14,
          14,
          14,
          8,
          12,
          14,
          14,
          8,
          7,
          15,
          12,
          13,
          17,
          18,
          10,
          21,
          8,
          14,
          12,
          18,
          18,
          18,
          17,
          24,
          17,
          24,
          24,
          25,
          27,
          18,
          22,
          21,
          16,
          21,
          17,
          15,
          24,
          16,
          21,
          24,
          17,
          16,
          15,
          18,
          16,
          25
         ],
         "yaxis": "y"
        }
       ],
       "layout": {
        "legend": {
         "tracegroupgap": 0
        },
        "template": {
         "data": {
          "bar": [
           {
            "error_x": {
             "color": "#2a3f5f"
            },
            "error_y": {
             "color": "#2a3f5f"
            },
            "marker": {
             "line": {
              "color": "#E5ECF6",
              "width": 0.5
             }
            },
            "type": "bar"
           }
          ],
          "barpolar": [
           {
            "marker": {
             "line": {
              "color": "#E5ECF6",
              "width": 0.5
             }
            },
            "type": "barpolar"
           }
          ],
          "carpet": [
           {
            "aaxis": {
             "endlinecolor": "#2a3f5f",
             "gridcolor": "white",
             "linecolor": "white",
             "minorgridcolor": "white",
             "startlinecolor": "#2a3f5f"
            },
            "baxis": {
             "endlinecolor": "#2a3f5f",
             "gridcolor": "white",
             "linecolor": "white",
             "minorgridcolor": "white",
             "startlinecolor": "#2a3f5f"
            },
            "type": "carpet"
           }
          ],
          "choropleth": [
           {
            "colorbar": {
             "outlinewidth": 0,
             "ticks": ""
            },
            "type": "choropleth"
           }
          ],
          "contour": [
           {
            "colorbar": {
             "outlinewidth": 0,
             "ticks": ""
            },
            "colorscale": [
             [
              0,
              "#0d0887"
             ],
             [
              0.1111111111111111,
              "#46039f"
             ],
             [
              0.2222222222222222,
              "#7201a8"
             ],
             [
              0.3333333333333333,
              "#9c179e"
             ],
             [
              0.4444444444444444,
              "#bd3786"
             ],
             [
              0.5555555555555556,
              "#d8576b"
             ],
             [
              0.6666666666666666,
              "#ed7953"
             ],
             [
              0.7777777777777778,
              "#fb9f3a"
             ],
             [
              0.8888888888888888,
              "#fdca26"
             ],
             [
              1,
              "#f0f921"
             ]
            ],
            "type": "contour"
           }
          ],
          "contourcarpet": [
           {
            "colorbar": {
             "outlinewidth": 0,
             "ticks": ""
            },
            "type": "contourcarpet"
           }
          ],
          "heatmap": [
           {
            "colorbar": {
             "outlinewidth": 0,
             "ticks": ""
            },
            "colorscale": [
             [
              0,
              "#0d0887"
             ],
             [
              0.1111111111111111,
              "#46039f"
             ],
             [
              0.2222222222222222,
              "#7201a8"
             ],
             [
              0.3333333333333333,
              "#9c179e"
             ],
             [
              0.4444444444444444,
              "#bd3786"
             ],
             [
              0.5555555555555556,
              "#d8576b"
             ],
             [
              0.6666666666666666,
              "#ed7953"
             ],
             [
              0.7777777777777778,
              "#fb9f3a"
             ],
             [
              0.8888888888888888,
              "#fdca26"
             ],
             [
              1,
              "#f0f921"
             ]
            ],
            "type": "heatmap"
           }
          ],
          "heatmapgl": [
           {
            "colorbar": {
             "outlinewidth": 0,
             "ticks": ""
            },
            "colorscale": [
             [
              0,
              "#0d0887"
             ],
             [
              0.1111111111111111,
              "#46039f"
             ],
             [
              0.2222222222222222,
              "#7201a8"
             ],
             [
              0.3333333333333333,
              "#9c179e"
             ],
             [
              0.4444444444444444,
              "#bd3786"
             ],
             [
              0.5555555555555556,
              "#d8576b"
             ],
             [
              0.6666666666666666,
              "#ed7953"
             ],
             [
              0.7777777777777778,
              "#fb9f3a"
             ],
             [
              0.8888888888888888,
              "#fdca26"
             ],
             [
              1,
              "#f0f921"
             ]
            ],
            "type": "heatmapgl"
           }
          ],
          "histogram": [
           {
            "marker": {
             "colorbar": {
              "outlinewidth": 0,
              "ticks": ""
             }
            },
            "type": "histogram"
           }
          ],
          "histogram2d": [
           {
            "colorbar": {
             "outlinewidth": 0,
             "ticks": ""
            },
            "colorscale": [
             [
              0,
              "#0d0887"
             ],
             [
              0.1111111111111111,
              "#46039f"
             ],
             [
              0.2222222222222222,
              "#7201a8"
             ],
             [
              0.3333333333333333,
              "#9c179e"
             ],
             [
              0.4444444444444444,
              "#bd3786"
             ],
             [
              0.5555555555555556,
              "#d8576b"
             ],
             [
              0.6666666666666666,
              "#ed7953"
             ],
             [
              0.7777777777777778,
              "#fb9f3a"
             ],
             [
              0.8888888888888888,
              "#fdca26"
             ],
             [
              1,
              "#f0f921"
             ]
            ],
            "type": "histogram2d"
           }
          ],
          "histogram2dcontour": [
           {
            "colorbar": {
             "outlinewidth": 0,
             "ticks": ""
            },
            "colorscale": [
             [
              0,
              "#0d0887"
             ],
             [
              0.1111111111111111,
              "#46039f"
             ],
             [
              0.2222222222222222,
              "#7201a8"
             ],
             [
              0.3333333333333333,
              "#9c179e"
             ],
             [
              0.4444444444444444,
              "#bd3786"
             ],
             [
              0.5555555555555556,
              "#d8576b"
             ],
             [
              0.6666666666666666,
              "#ed7953"
             ],
             [
              0.7777777777777778,
              "#fb9f3a"
             ],
             [
              0.8888888888888888,
              "#fdca26"
             ],
             [
              1,
              "#f0f921"
             ]
            ],
            "type": "histogram2dcontour"
           }
          ],
          "mesh3d": [
           {
            "colorbar": {
             "outlinewidth": 0,
             "ticks": ""
            },
            "type": "mesh3d"
           }
          ],
          "parcoords": [
           {
            "line": {
             "colorbar": {
              "outlinewidth": 0,
              "ticks": ""
             }
            },
            "type": "parcoords"
           }
          ],
          "pie": [
           {
            "automargin": true,
            "type": "pie"
           }
          ],
          "scatter": [
           {
            "marker": {
             "colorbar": {
              "outlinewidth": 0,
              "ticks": ""
             }
            },
            "type": "scatter"
           }
          ],
          "scatter3d": [
           {
            "line": {
             "colorbar": {
              "outlinewidth": 0,
              "ticks": ""
             }
            },
            "marker": {
             "colorbar": {
              "outlinewidth": 0,
              "ticks": ""
             }
            },
            "type": "scatter3d"
           }
          ],
          "scattercarpet": [
           {
            "marker": {
             "colorbar": {
              "outlinewidth": 0,
              "ticks": ""
             }
            },
            "type": "scattercarpet"
           }
          ],
          "scattergeo": [
           {
            "marker": {
             "colorbar": {
              "outlinewidth": 0,
              "ticks": ""
             }
            },
            "type": "scattergeo"
           }
          ],
          "scattergl": [
           {
            "marker": {
             "colorbar": {
              "outlinewidth": 0,
              "ticks": ""
             }
            },
            "type": "scattergl"
           }
          ],
          "scattermapbox": [
           {
            "marker": {
             "colorbar": {
              "outlinewidth": 0,
              "ticks": ""
             }
            },
            "type": "scattermapbox"
           }
          ],
          "scatterpolar": [
           {
            "marker": {
             "colorbar": {
              "outlinewidth": 0,
              "ticks": ""
             }
            },
            "type": "scatterpolar"
           }
          ],
          "scatterpolargl": [
           {
            "marker": {
             "colorbar": {
              "outlinewidth": 0,
              "ticks": ""
             }
            },
            "type": "scatterpolargl"
           }
          ],
          "scatterternary": [
           {
            "marker": {
             "colorbar": {
              "outlinewidth": 0,
              "ticks": ""
             }
            },
            "type": "scatterternary"
           }
          ],
          "surface": [
           {
            "colorbar": {
             "outlinewidth": 0,
             "ticks": ""
            },
            "colorscale": [
             [
              0,
              "#0d0887"
             ],
             [
              0.1111111111111111,
              "#46039f"
             ],
             [
              0.2222222222222222,
              "#7201a8"
             ],
             [
              0.3333333333333333,
              "#9c179e"
             ],
             [
              0.4444444444444444,
              "#bd3786"
             ],
             [
              0.5555555555555556,
              "#d8576b"
             ],
             [
              0.6666666666666666,
              "#ed7953"
             ],
             [
              0.7777777777777778,
              "#fb9f3a"
             ],
             [
              0.8888888888888888,
              "#fdca26"
             ],
             [
              1,
              "#f0f921"
             ]
            ],
            "type": "surface"
           }
          ],
          "table": [
           {
            "cells": {
             "fill": {
              "color": "#EBF0F8"
             },
             "line": {
              "color": "white"
             }
            },
            "header": {
             "fill": {
              "color": "#C8D4E3"
             },
             "line": {
              "color": "white"
             }
            },
            "type": "table"
           }
          ]
         },
         "layout": {
          "annotationdefaults": {
           "arrowcolor": "#2a3f5f",
           "arrowhead": 0,
           "arrowwidth": 1
          },
          "autotypenumbers": "strict",
          "coloraxis": {
           "colorbar": {
            "outlinewidth": 0,
            "ticks": ""
           }
          },
          "colorscale": {
           "diverging": [
            [
             0,
             "#8e0152"
            ],
            [
             0.1,
             "#c51b7d"
            ],
            [
             0.2,
             "#de77ae"
            ],
            [
             0.3,
             "#f1b6da"
            ],
            [
             0.4,
             "#fde0ef"
            ],
            [
             0.5,
             "#f7f7f7"
            ],
            [
             0.6,
             "#e6f5d0"
            ],
            [
             0.7,
             "#b8e186"
            ],
            [
             0.8,
             "#7fbc41"
            ],
            [
             0.9,
             "#4d9221"
            ],
            [
             1,
             "#276419"
            ]
           ],
           "sequential": [
            [
             0,
             "#0d0887"
            ],
            [
             0.1111111111111111,
             "#46039f"
            ],
            [
             0.2222222222222222,
             "#7201a8"
            ],
            [
             0.3333333333333333,
             "#9c179e"
            ],
            [
             0.4444444444444444,
             "#bd3786"
            ],
            [
             0.5555555555555556,
             "#d8576b"
            ],
            [
             0.6666666666666666,
             "#ed7953"
            ],
            [
             0.7777777777777778,
             "#fb9f3a"
            ],
            [
             0.8888888888888888,
             "#fdca26"
            ],
            [
             1,
             "#f0f921"
            ]
           ],
           "sequentialminus": [
            [
             0,
             "#0d0887"
            ],
            [
             0.1111111111111111,
             "#46039f"
            ],
            [
             0.2222222222222222,
             "#7201a8"
            ],
            [
             0.3333333333333333,
             "#9c179e"
            ],
            [
             0.4444444444444444,
             "#bd3786"
            ],
            [
             0.5555555555555556,
             "#d8576b"
            ],
            [
             0.6666666666666666,
             "#ed7953"
            ],
            [
             0.7777777777777778,
             "#fb9f3a"
            ],
            [
             0.8888888888888888,
             "#fdca26"
            ],
            [
             1,
             "#f0f921"
            ]
           ]
          },
          "colorway": [
           "#636efa",
           "#EF553B",
           "#00cc96",
           "#ab63fa",
           "#FFA15A",
           "#19d3f3",
           "#FF6692",
           "#B6E880",
           "#FF97FF",
           "#FECB52"
          ],
          "font": {
           "color": "#2a3f5f"
          },
          "geo": {
           "bgcolor": "white",
           "lakecolor": "white",
           "landcolor": "#E5ECF6",
           "showlakes": true,
           "showland": true,
           "subunitcolor": "white"
          },
          "hoverlabel": {
           "align": "left"
          },
          "hovermode": "closest",
          "mapbox": {
           "style": "light"
          },
          "paper_bgcolor": "white",
          "plot_bgcolor": "#E5ECF6",
          "polar": {
           "angularaxis": {
            "gridcolor": "white",
            "linecolor": "white",
            "ticks": ""
           },
           "bgcolor": "#E5ECF6",
           "radialaxis": {
            "gridcolor": "white",
            "linecolor": "white",
            "ticks": ""
           }
          },
          "scene": {
           "xaxis": {
            "backgroundcolor": "#E5ECF6",
            "gridcolor": "white",
            "gridwidth": 2,
            "linecolor": "white",
            "showbackground": true,
            "ticks": "",
            "zerolinecolor": "white"
           },
           "yaxis": {
            "backgroundcolor": "#E5ECF6",
            "gridcolor": "white",
            "gridwidth": 2,
            "linecolor": "white",
            "showbackground": true,
            "ticks": "",
            "zerolinecolor": "white"
           },
           "zaxis": {
            "backgroundcolor": "#E5ECF6",
            "gridcolor": "white",
            "gridwidth": 2,
            "linecolor": "white",
            "showbackground": true,
            "ticks": "",
            "zerolinecolor": "white"
           }
          },
          "shapedefaults": {
           "line": {
            "color": "#2a3f5f"
           }
          },
          "ternary": {
           "aaxis": {
            "gridcolor": "white",
            "linecolor": "white",
            "ticks": ""
           },
           "baxis": {
            "gridcolor": "white",
            "linecolor": "white",
            "ticks": ""
           },
           "bgcolor": "#E5ECF6",
           "caxis": {
            "gridcolor": "white",
            "linecolor": "white",
            "ticks": ""
           }
          },
          "title": {
           "x": 0.05
          },
          "xaxis": {
           "automargin": true,
           "gridcolor": "white",
           "linecolor": "white",
           "ticks": "",
           "title": {
            "standoff": 15
           },
           "zerolinecolor": "white",
           "zerolinewidth": 2
          },
          "yaxis": {
           "automargin": true,
           "gridcolor": "white",
           "linecolor": "white",
           "ticks": "",
           "title": {
            "standoff": 15
           },
           "zerolinecolor": "white",
           "zerolinewidth": 2
          }
         }
        },
        "title": {
         "text": "Life expectancy in Canada"
        },
        "xaxis": {
         "anchor": "y",
         "domain": [
          0,
          1
         ],
         "title": {
          "text": "mileage(km/L)"
         }
        },
        "yaxis": {
         "anchor": "x",
         "domain": [
          0,
          1
         ],
         "title": {
          "text": "temp_outside"
         }
        }
       }
      },
      "text/html": [
       "<div>                            <div id=\"3636bddd-8337-4f92-a526-cc2ab359e917\" class=\"plotly-graph-div\" style=\"height:525px; width:100%;\"></div>            <script type=\"text/javascript\">                require([\"plotly\"], function(Plotly) {                    window.PLOTLYENV=window.PLOTLYENV || {};                                    if (document.getElementById(\"3636bddd-8337-4f92-a526-cc2ab359e917\")) {                    Plotly.newPlot(                        \"3636bddd-8337-4f92-a526-cc2ab359e917\",                        [{\"hovertemplate\": \"mileage(km/L)=%{x}<br>temp_outside=%{y}<extra></extra>\", \"legendgroup\": \"\", \"marker\": {\"color\": \"#636efa\", \"symbol\": \"circle\"}, \"mode\": \"markers\", \"name\": \"\", \"orientation\": \"v\", \"showlegend\": false, \"type\": \"scatter\", \"x\": [5.6, 2.86, 2.04, 3.31, 4.11, 1.3, 1.77, 2.46, 0.77, 2.25, 2.21, 2.57, 2.08, 4.84, 2.64, 3.39, 5.96, 2.31, 5.29, 2.51, 4.6, 2.41, 3.14, 2.51, 2.08, 3.02, 3.23, 3.17, 3.33, 3.23, 2.32, 2.36, 2.2, 6.79, 4.42, 2.12, 3.85, 0.66, 2.46, 1.89, 3.1, 0.9, 2.54, 2.37, 2.98, 2.74, 2.28, 2.88, 1.35, 2.88, 4.57, 4.62, 0.16, 7.64, 7.69, 4.2, 1.98, 4.98, 3.46, 2.74, 7.04, 9.55, 2.81, 4.08, 7.43, 0.63, 5.54, 10.43, 4.3, 8.7, 0.97, 3.42, 2.02, 4.59, 4.4, 4.83, 9.25, 8.14, 2.41, 5.35, 9.23, 2.34, 2.66, 12.23, 3.12, 2.51, 1.73, 2.38, 6.77, 2.41, 10.32, 8.39, 2.56, 18.45, 28.33, 15.63, 4.22, 2.58, 5.04, 2.98, 2.57, 3.76, 2.7, 3.95, 1.61, 2.12, 2.2, 1.93, 2.28, 2.46, 2.37, 2.91, 7.68, 2.68, 5.53, 4.36, 0.25, 2.68, 1.48, 2.64, 0.33, 2.8, 5.14, 6.28, 2.62, 0.76, 0.75, 1.08, 4.0, 5.72, 4.21, 3.42, 4.21, 0.75, 19.6, 19.56, 4.49, 3.42, 4.23, 3.02, 4.38, 9.4, 4.48, 1.02, 21.47, 28.2, 4.37, 3.67, 4.32, 3.81, 3.76, 4.0, 5.53, 4.05, 4.21, 3.16, 4.0, 3.21, 4.41, 3.61], \"xaxis\": \"x\", \"y\": [12, 13, 15, 14, 15, 10, 11, 6, 4, 9, 4, 0, 10, 12, 11, 5, 3, 3, 8, 4, 3, 1, 1, 1, 6, 9, 2, 3, 1, 4, 11, 10, 8, 7, 7, 8, 4, 6, 9, 7, 7, 7, 6, 7, 7, 10, 13, 17, 17, 10, 18, 10, 10, 12, 5, 8, 9, 7, 6, 7, 7, 8, 9, 9, 9, 4, 7, 2, 2, 3, 5, 5, 6, 8, 7, 6, 8, 6, 0, 6, 3, -5, -3, 0, 0, 0, 0, 1, 3, 8, 12, 10, 7, 13, 12, 18, 10, 1, 9, 10, 2, 9, 11, 12, 8, 10, 10, 6, 11, 10, 15, 16, 16, 8, 14, 14, 14, 8, 12, 14, 14, 8, 7, 15, 12, 13, 17, 18, 10, 21, 8, 14, 12, 18, 18, 18, 17, 24, 17, 24, 24, 25, 27, 18, 22, 21, 16, 21, 17, 15, 24, 16, 21, 24, 17, 16, 15, 18, 16, 25], \"yaxis\": \"y\"}],                        {\"legend\": {\"tracegroupgap\": 0}, \"template\": {\"data\": {\"bar\": [{\"error_x\": {\"color\": \"#2a3f5f\"}, \"error_y\": {\"color\": \"#2a3f5f\"}, \"marker\": {\"line\": {\"color\": \"#E5ECF6\", \"width\": 0.5}}, \"type\": \"bar\"}], \"barpolar\": [{\"marker\": {\"line\": {\"color\": \"#E5ECF6\", \"width\": 0.5}}, \"type\": \"barpolar\"}], \"carpet\": [{\"aaxis\": {\"endlinecolor\": \"#2a3f5f\", \"gridcolor\": \"white\", \"linecolor\": \"white\", \"minorgridcolor\": \"white\", \"startlinecolor\": \"#2a3f5f\"}, \"baxis\": {\"endlinecolor\": \"#2a3f5f\", \"gridcolor\": \"white\", \"linecolor\": \"white\", \"minorgridcolor\": \"white\", \"startlinecolor\": \"#2a3f5f\"}, \"type\": \"carpet\"}], \"choropleth\": [{\"colorbar\": {\"outlinewidth\": 0, \"ticks\": \"\"}, \"type\": \"choropleth\"}], \"contour\": [{\"colorbar\": {\"outlinewidth\": 0, \"ticks\": \"\"}, \"colorscale\": [[0.0, \"#0d0887\"], [0.1111111111111111, \"#46039f\"], [0.2222222222222222, \"#7201a8\"], [0.3333333333333333, \"#9c179e\"], [0.4444444444444444, \"#bd3786\"], [0.5555555555555556, \"#d8576b\"], [0.6666666666666666, \"#ed7953\"], [0.7777777777777778, \"#fb9f3a\"], [0.8888888888888888, \"#fdca26\"], [1.0, \"#f0f921\"]], \"type\": \"contour\"}], \"contourcarpet\": [{\"colorbar\": {\"outlinewidth\": 0, \"ticks\": \"\"}, \"type\": \"contourcarpet\"}], \"heatmap\": [{\"colorbar\": {\"outlinewidth\": 0, \"ticks\": \"\"}, \"colorscale\": [[0.0, \"#0d0887\"], [0.1111111111111111, \"#46039f\"], [0.2222222222222222, \"#7201a8\"], [0.3333333333333333, \"#9c179e\"], [0.4444444444444444, \"#bd3786\"], [0.5555555555555556, \"#d8576b\"], [0.6666666666666666, \"#ed7953\"], [0.7777777777777778, \"#fb9f3a\"], [0.8888888888888888, \"#fdca26\"], [1.0, \"#f0f921\"]], \"type\": \"heatmap\"}], \"heatmapgl\": [{\"colorbar\": {\"outlinewidth\": 0, \"ticks\": \"\"}, \"colorscale\": [[0.0, \"#0d0887\"], [0.1111111111111111, \"#46039f\"], [0.2222222222222222, \"#7201a8\"], [0.3333333333333333, \"#9c179e\"], [0.4444444444444444, \"#bd3786\"], [0.5555555555555556, \"#d8576b\"], [0.6666666666666666, \"#ed7953\"], [0.7777777777777778, \"#fb9f3a\"], [0.8888888888888888, \"#fdca26\"], [1.0, \"#f0f921\"]], \"type\": \"heatmapgl\"}], \"histogram\": [{\"marker\": {\"colorbar\": {\"outlinewidth\": 0, \"ticks\": \"\"}}, \"type\": \"histogram\"}], \"histogram2d\": [{\"colorbar\": {\"outlinewidth\": 0, \"ticks\": \"\"}, \"colorscale\": [[0.0, \"#0d0887\"], [0.1111111111111111, \"#46039f\"], [0.2222222222222222, \"#7201a8\"], [0.3333333333333333, \"#9c179e\"], [0.4444444444444444, \"#bd3786\"], [0.5555555555555556, \"#d8576b\"], [0.6666666666666666, \"#ed7953\"], [0.7777777777777778, \"#fb9f3a\"], [0.8888888888888888, \"#fdca26\"], [1.0, \"#f0f921\"]], \"type\": \"histogram2d\"}], \"histogram2dcontour\": [{\"colorbar\": {\"outlinewidth\": 0, \"ticks\": \"\"}, \"colorscale\": [[0.0, \"#0d0887\"], [0.1111111111111111, \"#46039f\"], [0.2222222222222222, \"#7201a8\"], [0.3333333333333333, \"#9c179e\"], [0.4444444444444444, \"#bd3786\"], [0.5555555555555556, \"#d8576b\"], [0.6666666666666666, \"#ed7953\"], [0.7777777777777778, \"#fb9f3a\"], [0.8888888888888888, \"#fdca26\"], [1.0, \"#f0f921\"]], \"type\": \"histogram2dcontour\"}], \"mesh3d\": [{\"colorbar\": {\"outlinewidth\": 0, \"ticks\": \"\"}, \"type\": \"mesh3d\"}], \"parcoords\": [{\"line\": {\"colorbar\": {\"outlinewidth\": 0, \"ticks\": \"\"}}, \"type\": \"parcoords\"}], \"pie\": [{\"automargin\": true, \"type\": \"pie\"}], \"scatter\": [{\"marker\": {\"colorbar\": {\"outlinewidth\": 0, \"ticks\": \"\"}}, \"type\": \"scatter\"}], \"scatter3d\": [{\"line\": {\"colorbar\": {\"outlinewidth\": 0, \"ticks\": \"\"}}, \"marker\": {\"colorbar\": {\"outlinewidth\": 0, \"ticks\": \"\"}}, \"type\": \"scatter3d\"}], \"scattercarpet\": [{\"marker\": {\"colorbar\": {\"outlinewidth\": 0, \"ticks\": \"\"}}, \"type\": \"scattercarpet\"}], \"scattergeo\": [{\"marker\": {\"colorbar\": {\"outlinewidth\": 0, \"ticks\": \"\"}}, \"type\": \"scattergeo\"}], \"scattergl\": [{\"marker\": {\"colorbar\": {\"outlinewidth\": 0, \"ticks\": \"\"}}, \"type\": \"scattergl\"}], \"scattermapbox\": [{\"marker\": {\"colorbar\": {\"outlinewidth\": 0, \"ticks\": \"\"}}, \"type\": \"scattermapbox\"}], \"scatterpolar\": [{\"marker\": {\"colorbar\": {\"outlinewidth\": 0, \"ticks\": \"\"}}, \"type\": \"scatterpolar\"}], \"scatterpolargl\": [{\"marker\": {\"colorbar\": {\"outlinewidth\": 0, \"ticks\": \"\"}}, \"type\": \"scatterpolargl\"}], \"scatterternary\": [{\"marker\": {\"colorbar\": {\"outlinewidth\": 0, \"ticks\": \"\"}}, \"type\": \"scatterternary\"}], \"surface\": [{\"colorbar\": {\"outlinewidth\": 0, \"ticks\": \"\"}, \"colorscale\": [[0.0, \"#0d0887\"], [0.1111111111111111, \"#46039f\"], [0.2222222222222222, \"#7201a8\"], [0.3333333333333333, \"#9c179e\"], [0.4444444444444444, \"#bd3786\"], [0.5555555555555556, \"#d8576b\"], [0.6666666666666666, \"#ed7953\"], [0.7777777777777778, \"#fb9f3a\"], [0.8888888888888888, \"#fdca26\"], [1.0, \"#f0f921\"]], \"type\": \"surface\"}], \"table\": [{\"cells\": {\"fill\": {\"color\": \"#EBF0F8\"}, \"line\": {\"color\": \"white\"}}, \"header\": {\"fill\": {\"color\": \"#C8D4E3\"}, \"line\": {\"color\": \"white\"}}, \"type\": \"table\"}]}, \"layout\": {\"annotationdefaults\": {\"arrowcolor\": \"#2a3f5f\", \"arrowhead\": 0, \"arrowwidth\": 1}, \"autotypenumbers\": \"strict\", \"coloraxis\": {\"colorbar\": {\"outlinewidth\": 0, \"ticks\": \"\"}}, \"colorscale\": {\"diverging\": [[0, \"#8e0152\"], [0.1, \"#c51b7d\"], [0.2, \"#de77ae\"], [0.3, \"#f1b6da\"], [0.4, \"#fde0ef\"], [0.5, \"#f7f7f7\"], [0.6, \"#e6f5d0\"], [0.7, \"#b8e186\"], [0.8, \"#7fbc41\"], [0.9, \"#4d9221\"], [1, \"#276419\"]], \"sequential\": [[0.0, \"#0d0887\"], [0.1111111111111111, \"#46039f\"], [0.2222222222222222, \"#7201a8\"], [0.3333333333333333, \"#9c179e\"], [0.4444444444444444, \"#bd3786\"], [0.5555555555555556, \"#d8576b\"], [0.6666666666666666, \"#ed7953\"], [0.7777777777777778, \"#fb9f3a\"], [0.8888888888888888, \"#fdca26\"], [1.0, \"#f0f921\"]], \"sequentialminus\": [[0.0, \"#0d0887\"], [0.1111111111111111, \"#46039f\"], [0.2222222222222222, \"#7201a8\"], [0.3333333333333333, \"#9c179e\"], [0.4444444444444444, \"#bd3786\"], [0.5555555555555556, \"#d8576b\"], [0.6666666666666666, \"#ed7953\"], [0.7777777777777778, \"#fb9f3a\"], [0.8888888888888888, \"#fdca26\"], [1.0, \"#f0f921\"]]}, \"colorway\": [\"#636efa\", \"#EF553B\", \"#00cc96\", \"#ab63fa\", \"#FFA15A\", \"#19d3f3\", \"#FF6692\", \"#B6E880\", \"#FF97FF\", \"#FECB52\"], \"font\": {\"color\": \"#2a3f5f\"}, \"geo\": {\"bgcolor\": \"white\", \"lakecolor\": \"white\", \"landcolor\": \"#E5ECF6\", \"showlakes\": true, \"showland\": true, \"subunitcolor\": \"white\"}, \"hoverlabel\": {\"align\": \"left\"}, \"hovermode\": \"closest\", \"mapbox\": {\"style\": \"light\"}, \"paper_bgcolor\": \"white\", \"plot_bgcolor\": \"#E5ECF6\", \"polar\": {\"angularaxis\": {\"gridcolor\": \"white\", \"linecolor\": \"white\", \"ticks\": \"\"}, \"bgcolor\": \"#E5ECF6\", \"radialaxis\": {\"gridcolor\": \"white\", \"linecolor\": \"white\", \"ticks\": \"\"}}, \"scene\": {\"xaxis\": {\"backgroundcolor\": \"#E5ECF6\", \"gridcolor\": \"white\", \"gridwidth\": 2, \"linecolor\": \"white\", \"showbackground\": true, \"ticks\": \"\", \"zerolinecolor\": \"white\"}, \"yaxis\": {\"backgroundcolor\": \"#E5ECF6\", \"gridcolor\": \"white\", \"gridwidth\": 2, \"linecolor\": \"white\", \"showbackground\": true, \"ticks\": \"\", \"zerolinecolor\": \"white\"}, \"zaxis\": {\"backgroundcolor\": \"#E5ECF6\", \"gridcolor\": \"white\", \"gridwidth\": 2, \"linecolor\": \"white\", \"showbackground\": true, \"ticks\": \"\", \"zerolinecolor\": \"white\"}}, \"shapedefaults\": {\"line\": {\"color\": \"#2a3f5f\"}}, \"ternary\": {\"aaxis\": {\"gridcolor\": \"white\", \"linecolor\": \"white\", \"ticks\": \"\"}, \"baxis\": {\"gridcolor\": \"white\", \"linecolor\": \"white\", \"ticks\": \"\"}, \"bgcolor\": \"#E5ECF6\", \"caxis\": {\"gridcolor\": \"white\", \"linecolor\": \"white\", \"ticks\": \"\"}}, \"title\": {\"x\": 0.05}, \"xaxis\": {\"automargin\": true, \"gridcolor\": \"white\", \"linecolor\": \"white\", \"ticks\": \"\", \"title\": {\"standoff\": 15}, \"zerolinecolor\": \"white\", \"zerolinewidth\": 2}, \"yaxis\": {\"automargin\": true, \"gridcolor\": \"white\", \"linecolor\": \"white\", \"ticks\": \"\", \"title\": {\"standoff\": 15}, \"zerolinecolor\": \"white\", \"zerolinewidth\": 2}}}, \"title\": {\"text\": \"Life expectancy in Canada\"}, \"xaxis\": {\"anchor\": \"y\", \"domain\": [0.0, 1.0], \"title\": {\"text\": \"mileage(km/L)\"}}, \"yaxis\": {\"anchor\": \"x\", \"domain\": [0.0, 1.0], \"title\": {\"text\": \"temp_outside\"}}},                        {\"responsive\": true}                    ).then(function(){\n",
       "                            \n",
       "var gd = document.getElementById('3636bddd-8337-4f92-a526-cc2ab359e917');\n",
       "var x = new MutationObserver(function (mutations, observer) {{\n",
       "        var display = window.getComputedStyle(gd).display;\n",
       "        if (!display || display === 'none') {{\n",
       "            console.log([gd, 'removed!']);\n",
       "            Plotly.purge(gd);\n",
       "            observer.disconnect();\n",
       "        }}\n",
       "}});\n",
       "\n",
       "// Listen for the removal of the full notebook cells\n",
       "var notebookContainer = gd.closest('#notebook-container');\n",
       "if (notebookContainer) {{\n",
       "    x.observe(notebookContainer, {childList: true});\n",
       "}}\n",
       "\n",
       "// Listen for the clearing of the current output cell\n",
       "var outputEl = gd.closest('.output');\n",
       "if (outputEl) {{\n",
       "    x.observe(outputEl, {childList: true});\n",
       "}}\n",
       "\n",
       "                        })                };                });            </script>        </div>"
      ]
     },
     "metadata": {},
     "output_type": "display_data"
    }
   ],
   "source": [
    "import plotly.express as px\n",
    "\n",
    "#df = px.data.gapminder().query(\"E10 == 1\")\n",
    "fig = px.scatter(df.loc[df['E10']==1], x=\"mileage(km/L)\", y=\"temp_outside\", title='Life expectancy in Canada')\n",
    "fig.show()\n"
   ]
  },
  {
   "cell_type": "code",
   "execution_count": 217,
   "metadata": {},
   "outputs": [
    {
     "data": {
      "application/vnd.plotly.v1+json": {
       "config": {
        "plotlyServerURL": "https://plot.ly"
       },
       "data": [
        {
         "mode": "markers",
         "name": "E10",
         "type": "scatter",
         "x": [
          5.6,
          2.86,
          2.04,
          3.31,
          4.11,
          1.3,
          1.77,
          2.46,
          0.77,
          2.25,
          2.21,
          2.57,
          2.08,
          4.84,
          2.64,
          3.39,
          5.96,
          2.31,
          5.29,
          2.51,
          4.6,
          2.41,
          3.14,
          2.51,
          2.08,
          3.02,
          3.23,
          3.17,
          3.33,
          3.23,
          2.32,
          2.36,
          2.2,
          6.79,
          4.42,
          2.12,
          3.85,
          0.66,
          2.46,
          1.89,
          3.1,
          0.9,
          2.54,
          2.37,
          2.98,
          2.74,
          2.28,
          2.88,
          1.35,
          2.88,
          4.57,
          4.62,
          0.16,
          7.64,
          7.69,
          4.2,
          1.98,
          4.98,
          3.46,
          2.74,
          7.04,
          9.55,
          2.81,
          4.08,
          7.43,
          0.63,
          5.54,
          10.43,
          4.3,
          8.7,
          0.97,
          3.42,
          2.02,
          4.59,
          4.4,
          4.83,
          9.25,
          8.14,
          2.41,
          5.35,
          9.23,
          2.34,
          2.66,
          12.23,
          3.12,
          2.51,
          1.73,
          2.38,
          6.77,
          2.41,
          10.32,
          8.39,
          2.56,
          18.45,
          28.33,
          15.63,
          4.22,
          2.58,
          5.04,
          2.98,
          2.57,
          3.76,
          2.7,
          3.95,
          1.61,
          2.12,
          2.2,
          1.93,
          2.28,
          2.46,
          2.37,
          2.91,
          7.68,
          2.68,
          5.53,
          4.36,
          0.25,
          2.68,
          1.48,
          2.64,
          0.33,
          2.8,
          5.14,
          6.28,
          2.62,
          0.76,
          0.75,
          1.08,
          4,
          5.72,
          4.21,
          3.42,
          4.21,
          0.75,
          19.6,
          19.56,
          4.49,
          3.42,
          4.23,
          3.02,
          4.38,
          9.4,
          4.48,
          1.02,
          21.47,
          28.2,
          4.37,
          3.67,
          4.32,
          3.81,
          3.76,
          4,
          5.53,
          4.05,
          4.21,
          3.16,
          4,
          3.21,
          4.41,
          3.61
         ],
         "y": [
          12,
          13,
          15,
          14,
          15,
          10,
          11,
          6,
          4,
          9,
          4,
          0,
          10,
          12,
          11,
          5,
          3,
          3,
          8,
          4,
          3,
          1,
          1,
          1,
          6,
          9,
          2,
          3,
          1,
          4,
          11,
          10,
          8,
          7,
          7,
          8,
          4,
          6,
          9,
          7,
          7,
          7,
          6,
          7,
          7,
          4,
          7,
          8,
          11,
          10,
          5,
          6,
          7,
          6,
          8,
          3,
          7,
          8,
          8,
          8,
          9,
          9,
          6,
          6,
          7,
          8,
          6,
          8,
          8,
          4,
          12,
          10,
          6,
          8,
          6,
          7,
          6,
          9,
          7,
          4,
          6,
          10,
          10,
          10,
          11,
          11,
          11,
          11,
          11,
          8,
          6,
          11,
          13,
          10,
          9,
          11,
          11,
          9,
          9,
          10,
          9,
          8,
          9,
          12,
          11,
          7,
          1,
          1,
          4,
          7,
          7,
          7,
          5,
          7,
          7,
          3,
          4,
          4,
          1,
          4,
          0,
          2,
          3,
          8,
          0,
          0,
          1,
          2,
          1,
          -3,
          5,
          4,
          6,
          3,
          5,
          5,
          5,
          5,
          10,
          7,
          10,
          13,
          17,
          17,
          10,
          18,
          10,
          10,
          12,
          5,
          8,
          9,
          7,
          6,
          7,
          7,
          8,
          9,
          9,
          9,
          4,
          7,
          2,
          2,
          3,
          5,
          5,
          6,
          8,
          7,
          6,
          8,
          6,
          0,
          6,
          3,
          -5,
          -3,
          0,
          0,
          0,
          0,
          1,
          3,
          8,
          12,
          10,
          7,
          13,
          12,
          18,
          9,
          4,
          13,
          16,
          13,
          14,
          14,
          14,
          13,
          13,
          15,
          18,
          17,
          12,
          12,
          10,
          10,
          19,
          21,
          10,
          12,
          9,
          8,
          13,
          5,
          13,
          11,
          12,
          17,
          12,
          9,
          10,
          11,
          8,
          3,
          11,
          4,
          3,
          2,
          4,
          1,
          8,
          8,
          10,
          1,
          9,
          10,
          2,
          9,
          11,
          12,
          8,
          10,
          10,
          6,
          11,
          10,
          15,
          16,
          16,
          8,
          14,
          14,
          14,
          8,
          12,
          14,
          14,
          8,
          7,
          15,
          12,
          13,
          17,
          18,
          10,
          21,
          8,
          14,
          12,
          18,
          18,
          18,
          10,
          10,
          19,
          7,
          11,
          10,
          8,
          16,
          8,
          16,
          14,
          12,
          20,
          15,
          17,
          18,
          25,
          16,
          20,
          18,
          23,
          27,
          14,
          21,
          16,
          18,
          18,
          15,
          5,
          18,
          11,
          10,
          10,
          13,
          16,
          16,
          13,
          17,
          17,
          17,
          15,
          13,
          15,
          14,
          20,
          21,
          27,
          15,
          24,
          15,
          26,
          17,
          24,
          17,
          24,
          24,
          25,
          27,
          18,
          22,
          21,
          16,
          21,
          17,
          15,
          24,
          16,
          21,
          24,
          17,
          16,
          15,
          18,
          16,
          25,
          16,
          18,
          17,
          23,
          16,
          23,
          23,
          16,
          18,
          24,
          22,
          17,
          15,
          18,
          23,
          18,
          26,
          30,
          31,
          21,
          30,
          19,
          21,
          26,
          27,
          23,
          19,
          22,
          26,
          17,
          23,
          27,
          28,
          28,
          18,
          31,
          19,
          31,
          30
         ]
        },
        {
         "mode": "markers",
         "name": "SP98",
         "type": "scatter",
         "x": [
          1.64,
          0.2,
          2.78,
          3.27,
          2.41,
          5.81,
          2.31,
          2.16,
          2.76,
          2.15,
          0.95,
          31.33,
          2.41,
          1.98,
          2.95,
          2.16,
          0.37,
          0.17,
          1.69,
          1.28,
          2.3,
          2.64,
          2.57,
          2.28,
          3.26,
          2.62,
          2.37,
          0.32,
          2.73,
          2.49,
          2.32,
          2.63,
          2.62,
          4.86,
          2.64,
          8.7,
          2.63,
          1.16,
          2.92,
          2.37,
          2.41,
          1.98,
          3.07,
          2.6,
          2.53,
          2.48,
          2.74,
          2.1,
          3.12,
          2.64,
          2,
          2.23,
          2.98,
          2.96,
          2.26,
          1.45,
          1.29,
          4.52,
          3.76,
          0.71,
          2.3,
          4.32,
          29.58,
          0.75,
          2.51,
          3.25,
          2.18,
          2.94,
          0.59,
          4.57,
          6.62,
          0.78,
          2.31,
          3.82,
          2.7,
          2.22,
          2.31,
          2.1,
          5.39,
          2.54,
          2.57,
          1.94,
          4.49,
          1.58,
          3.09,
          2.74,
          2.79,
          0.8,
          3.58,
          2.62,
          0.7,
          3.41,
          3.92,
          2.62,
          2.02,
          9.3,
          2.88,
          11.69,
          9.51,
          2.62,
          8.02,
          6.13,
          0.39,
          1.09,
          4,
          5.84,
          3.02,
          3.07,
          1.64,
          1.68,
          0.27,
          0.78,
          5.03,
          7,
          0.11,
          2.82,
          2.44,
          1.36,
          2.87,
          2.75,
          3.83,
          3.68,
          2.78,
          4.32,
          7.25,
          2.42,
          2.37,
          6.2,
          2.53,
          2.62,
          6.83,
          3.73,
          2.28,
          2.46,
          2.1,
          2.36,
          5.42,
          1.13,
          5.24,
          3.9,
          3.58,
          3.64,
          3.56,
          5.49,
          4.1,
          3.35,
          4.21,
          7.13,
          5.89,
          11.3,
          9.3,
          7.38,
          1.34,
          1.8,
          4.22,
          1.18,
          3.49,
          2.89,
          1.69,
          2.82,
          4.02,
          5.02,
          3.62,
          4.45,
          9.36,
          3.8,
          3.77,
          6.64,
          4.21,
          4.14,
          4.1,
          2.25,
          2.4,
          7.42,
          4.68,
          2.3,
          4.95,
          2.63,
          2.17,
          4.12,
          6.53,
          8.91,
          45.87,
          40.77,
          7.08,
          3.95,
          6.32,
          4.12,
          5.67,
          4.26,
          3.35,
          3.9,
          4.08,
          4.32,
          4.26,
          0.87,
          4.05,
          1.22,
          1.22,
          4.12,
          1.25,
          3.9,
          3.14,
          3.58,
          4.1,
          3.42,
          4.05,
          3.08,
          4,
          3.42,
          4.44,
          5.1,
          8.23,
          2.32,
          7.12,
          3.22,
          3.37,
          4.05,
          3.68,
          4.39,
          1.66,
          1.49,
          3.68,
          4.32,
          3.74,
          4.21,
          3.35,
          2.94
         ],
         "y": [
          12,
          13,
          15,
          14,
          15,
          10,
          11,
          6,
          4,
          9,
          4,
          0,
          10,
          12,
          11,
          5,
          3,
          3,
          8,
          4,
          3,
          1,
          1,
          1,
          6,
          9,
          2,
          3,
          1,
          4,
          11,
          10,
          8,
          7,
          7,
          8,
          4,
          6,
          9,
          7,
          7,
          7,
          6,
          7,
          7,
          4,
          7,
          8,
          11,
          10,
          5,
          6,
          7,
          6,
          8,
          3,
          7,
          8,
          8,
          8,
          9,
          9,
          6,
          6,
          7,
          8,
          6,
          8,
          8,
          4,
          12,
          10,
          6,
          8,
          6,
          7,
          6,
          9,
          7,
          4,
          6,
          10,
          10,
          10,
          11,
          11,
          11,
          11,
          11,
          8,
          6,
          11,
          13,
          10,
          9,
          11,
          11,
          9,
          9,
          10,
          9,
          8,
          9,
          12,
          11,
          7,
          1,
          1,
          4,
          7,
          7,
          7,
          5,
          7,
          7,
          3,
          4,
          4,
          1,
          4,
          0,
          2,
          3,
          8,
          0,
          0,
          1,
          2,
          1,
          -3,
          5,
          4,
          6,
          3,
          5,
          5,
          5,
          5,
          10,
          7,
          10,
          13,
          17,
          17,
          10,
          18,
          10,
          10,
          12,
          5,
          8,
          9,
          7,
          6,
          7,
          7,
          8,
          9,
          9,
          9,
          4,
          7,
          2,
          2,
          3,
          5,
          5,
          6,
          8,
          7,
          6,
          8,
          6,
          0,
          6,
          3,
          -5,
          -3,
          0,
          0,
          0,
          0,
          1,
          3,
          8,
          12,
          10,
          7,
          13,
          12,
          18,
          9,
          4,
          13,
          16,
          13,
          14,
          14,
          14,
          13,
          13,
          15,
          18,
          17,
          12,
          12,
          10,
          10,
          19,
          21,
          10,
          12,
          9,
          8,
          13,
          5,
          13,
          11,
          12,
          17,
          12,
          9,
          10,
          11,
          8,
          3,
          11,
          4,
          3,
          2,
          4,
          1,
          8,
          8,
          10,
          1,
          9,
          10,
          2,
          9,
          11,
          12,
          8,
          10,
          10,
          6,
          11,
          10,
          15,
          16,
          16,
          8,
          14,
          14,
          14,
          8,
          12,
          14,
          14,
          8,
          7,
          15,
          12,
          13,
          17,
          18,
          10,
          21,
          8,
          14,
          12,
          18,
          18,
          18,
          10,
          10,
          19,
          7,
          11,
          10,
          8,
          16,
          8,
          16,
          14,
          12,
          20,
          15,
          17,
          18,
          25,
          16,
          20,
          18,
          23,
          27,
          14,
          21,
          16,
          18,
          18,
          15,
          5,
          18,
          11,
          10,
          10,
          13,
          16,
          16,
          13,
          17,
          17,
          17,
          15,
          13,
          15,
          14,
          20,
          21,
          27,
          15,
          24,
          15,
          26,
          17,
          24,
          17,
          24,
          24,
          25,
          27,
          18,
          22,
          21,
          16,
          21,
          17,
          15,
          24,
          16,
          21,
          24,
          17,
          16,
          15,
          18,
          16,
          25,
          16,
          18,
          17,
          23,
          16,
          23,
          23,
          16,
          18,
          24,
          22,
          17,
          15,
          18,
          23,
          18,
          26,
          30,
          31,
          21,
          30,
          19,
          21,
          26,
          27,
          23,
          19,
          22,
          26,
          17,
          23,
          27,
          28,
          28,
          18,
          31,
          19,
          31,
          30
         ]
        }
       ],
       "layout": {
        "template": {
         "data": {
          "bar": [
           {
            "error_x": {
             "color": "#2a3f5f"
            },
            "error_y": {
             "color": "#2a3f5f"
            },
            "marker": {
             "line": {
              "color": "#E5ECF6",
              "width": 0.5
             }
            },
            "type": "bar"
           }
          ],
          "barpolar": [
           {
            "marker": {
             "line": {
              "color": "#E5ECF6",
              "width": 0.5
             }
            },
            "type": "barpolar"
           }
          ],
          "carpet": [
           {
            "aaxis": {
             "endlinecolor": "#2a3f5f",
             "gridcolor": "white",
             "linecolor": "white",
             "minorgridcolor": "white",
             "startlinecolor": "#2a3f5f"
            },
            "baxis": {
             "endlinecolor": "#2a3f5f",
             "gridcolor": "white",
             "linecolor": "white",
             "minorgridcolor": "white",
             "startlinecolor": "#2a3f5f"
            },
            "type": "carpet"
           }
          ],
          "choropleth": [
           {
            "colorbar": {
             "outlinewidth": 0,
             "ticks": ""
            },
            "type": "choropleth"
           }
          ],
          "contour": [
           {
            "colorbar": {
             "outlinewidth": 0,
             "ticks": ""
            },
            "colorscale": [
             [
              0,
              "#0d0887"
             ],
             [
              0.1111111111111111,
              "#46039f"
             ],
             [
              0.2222222222222222,
              "#7201a8"
             ],
             [
              0.3333333333333333,
              "#9c179e"
             ],
             [
              0.4444444444444444,
              "#bd3786"
             ],
             [
              0.5555555555555556,
              "#d8576b"
             ],
             [
              0.6666666666666666,
              "#ed7953"
             ],
             [
              0.7777777777777778,
              "#fb9f3a"
             ],
             [
              0.8888888888888888,
              "#fdca26"
             ],
             [
              1,
              "#f0f921"
             ]
            ],
            "type": "contour"
           }
          ],
          "contourcarpet": [
           {
            "colorbar": {
             "outlinewidth": 0,
             "ticks": ""
            },
            "type": "contourcarpet"
           }
          ],
          "heatmap": [
           {
            "colorbar": {
             "outlinewidth": 0,
             "ticks": ""
            },
            "colorscale": [
             [
              0,
              "#0d0887"
             ],
             [
              0.1111111111111111,
              "#46039f"
             ],
             [
              0.2222222222222222,
              "#7201a8"
             ],
             [
              0.3333333333333333,
              "#9c179e"
             ],
             [
              0.4444444444444444,
              "#bd3786"
             ],
             [
              0.5555555555555556,
              "#d8576b"
             ],
             [
              0.6666666666666666,
              "#ed7953"
             ],
             [
              0.7777777777777778,
              "#fb9f3a"
             ],
             [
              0.8888888888888888,
              "#fdca26"
             ],
             [
              1,
              "#f0f921"
             ]
            ],
            "type": "heatmap"
           }
          ],
          "heatmapgl": [
           {
            "colorbar": {
             "outlinewidth": 0,
             "ticks": ""
            },
            "colorscale": [
             [
              0,
              "#0d0887"
             ],
             [
              0.1111111111111111,
              "#46039f"
             ],
             [
              0.2222222222222222,
              "#7201a8"
             ],
             [
              0.3333333333333333,
              "#9c179e"
             ],
             [
              0.4444444444444444,
              "#bd3786"
             ],
             [
              0.5555555555555556,
              "#d8576b"
             ],
             [
              0.6666666666666666,
              "#ed7953"
             ],
             [
              0.7777777777777778,
              "#fb9f3a"
             ],
             [
              0.8888888888888888,
              "#fdca26"
             ],
             [
              1,
              "#f0f921"
             ]
            ],
            "type": "heatmapgl"
           }
          ],
          "histogram": [
           {
            "marker": {
             "colorbar": {
              "outlinewidth": 0,
              "ticks": ""
             }
            },
            "type": "histogram"
           }
          ],
          "histogram2d": [
           {
            "colorbar": {
             "outlinewidth": 0,
             "ticks": ""
            },
            "colorscale": [
             [
              0,
              "#0d0887"
             ],
             [
              0.1111111111111111,
              "#46039f"
             ],
             [
              0.2222222222222222,
              "#7201a8"
             ],
             [
              0.3333333333333333,
              "#9c179e"
             ],
             [
              0.4444444444444444,
              "#bd3786"
             ],
             [
              0.5555555555555556,
              "#d8576b"
             ],
             [
              0.6666666666666666,
              "#ed7953"
             ],
             [
              0.7777777777777778,
              "#fb9f3a"
             ],
             [
              0.8888888888888888,
              "#fdca26"
             ],
             [
              1,
              "#f0f921"
             ]
            ],
            "type": "histogram2d"
           }
          ],
          "histogram2dcontour": [
           {
            "colorbar": {
             "outlinewidth": 0,
             "ticks": ""
            },
            "colorscale": [
             [
              0,
              "#0d0887"
             ],
             [
              0.1111111111111111,
              "#46039f"
             ],
             [
              0.2222222222222222,
              "#7201a8"
             ],
             [
              0.3333333333333333,
              "#9c179e"
             ],
             [
              0.4444444444444444,
              "#bd3786"
             ],
             [
              0.5555555555555556,
              "#d8576b"
             ],
             [
              0.6666666666666666,
              "#ed7953"
             ],
             [
              0.7777777777777778,
              "#fb9f3a"
             ],
             [
              0.8888888888888888,
              "#fdca26"
             ],
             [
              1,
              "#f0f921"
             ]
            ],
            "type": "histogram2dcontour"
           }
          ],
          "mesh3d": [
           {
            "colorbar": {
             "outlinewidth": 0,
             "ticks": ""
            },
            "type": "mesh3d"
           }
          ],
          "parcoords": [
           {
            "line": {
             "colorbar": {
              "outlinewidth": 0,
              "ticks": ""
             }
            },
            "type": "parcoords"
           }
          ],
          "pie": [
           {
            "automargin": true,
            "type": "pie"
           }
          ],
          "scatter": [
           {
            "marker": {
             "colorbar": {
              "outlinewidth": 0,
              "ticks": ""
             }
            },
            "type": "scatter"
           }
          ],
          "scatter3d": [
           {
            "line": {
             "colorbar": {
              "outlinewidth": 0,
              "ticks": ""
             }
            },
            "marker": {
             "colorbar": {
              "outlinewidth": 0,
              "ticks": ""
             }
            },
            "type": "scatter3d"
           }
          ],
          "scattercarpet": [
           {
            "marker": {
             "colorbar": {
              "outlinewidth": 0,
              "ticks": ""
             }
            },
            "type": "scattercarpet"
           }
          ],
          "scattergeo": [
           {
            "marker": {
             "colorbar": {
              "outlinewidth": 0,
              "ticks": ""
             }
            },
            "type": "scattergeo"
           }
          ],
          "scattergl": [
           {
            "marker": {
             "colorbar": {
              "outlinewidth": 0,
              "ticks": ""
             }
            },
            "type": "scattergl"
           }
          ],
          "scattermapbox": [
           {
            "marker": {
             "colorbar": {
              "outlinewidth": 0,
              "ticks": ""
             }
            },
            "type": "scattermapbox"
           }
          ],
          "scatterpolar": [
           {
            "marker": {
             "colorbar": {
              "outlinewidth": 0,
              "ticks": ""
             }
            },
            "type": "scatterpolar"
           }
          ],
          "scatterpolargl": [
           {
            "marker": {
             "colorbar": {
              "outlinewidth": 0,
              "ticks": ""
             }
            },
            "type": "scatterpolargl"
           }
          ],
          "scatterternary": [
           {
            "marker": {
             "colorbar": {
              "outlinewidth": 0,
              "ticks": ""
             }
            },
            "type": "scatterternary"
           }
          ],
          "surface": [
           {
            "colorbar": {
             "outlinewidth": 0,
             "ticks": ""
            },
            "colorscale": [
             [
              0,
              "#0d0887"
             ],
             [
              0.1111111111111111,
              "#46039f"
             ],
             [
              0.2222222222222222,
              "#7201a8"
             ],
             [
              0.3333333333333333,
              "#9c179e"
             ],
             [
              0.4444444444444444,
              "#bd3786"
             ],
             [
              0.5555555555555556,
              "#d8576b"
             ],
             [
              0.6666666666666666,
              "#ed7953"
             ],
             [
              0.7777777777777778,
              "#fb9f3a"
             ],
             [
              0.8888888888888888,
              "#fdca26"
             ],
             [
              1,
              "#f0f921"
             ]
            ],
            "type": "surface"
           }
          ],
          "table": [
           {
            "cells": {
             "fill": {
              "color": "#EBF0F8"
             },
             "line": {
              "color": "white"
             }
            },
            "header": {
             "fill": {
              "color": "#C8D4E3"
             },
             "line": {
              "color": "white"
             }
            },
            "type": "table"
           }
          ]
         },
         "layout": {
          "annotationdefaults": {
           "arrowcolor": "#2a3f5f",
           "arrowhead": 0,
           "arrowwidth": 1
          },
          "autotypenumbers": "strict",
          "coloraxis": {
           "colorbar": {
            "outlinewidth": 0,
            "ticks": ""
           }
          },
          "colorscale": {
           "diverging": [
            [
             0,
             "#8e0152"
            ],
            [
             0.1,
             "#c51b7d"
            ],
            [
             0.2,
             "#de77ae"
            ],
            [
             0.3,
             "#f1b6da"
            ],
            [
             0.4,
             "#fde0ef"
            ],
            [
             0.5,
             "#f7f7f7"
            ],
            [
             0.6,
             "#e6f5d0"
            ],
            [
             0.7,
             "#b8e186"
            ],
            [
             0.8,
             "#7fbc41"
            ],
            [
             0.9,
             "#4d9221"
            ],
            [
             1,
             "#276419"
            ]
           ],
           "sequential": [
            [
             0,
             "#0d0887"
            ],
            [
             0.1111111111111111,
             "#46039f"
            ],
            [
             0.2222222222222222,
             "#7201a8"
            ],
            [
             0.3333333333333333,
             "#9c179e"
            ],
            [
             0.4444444444444444,
             "#bd3786"
            ],
            [
             0.5555555555555556,
             "#d8576b"
            ],
            [
             0.6666666666666666,
             "#ed7953"
            ],
            [
             0.7777777777777778,
             "#fb9f3a"
            ],
            [
             0.8888888888888888,
             "#fdca26"
            ],
            [
             1,
             "#f0f921"
            ]
           ],
           "sequentialminus": [
            [
             0,
             "#0d0887"
            ],
            [
             0.1111111111111111,
             "#46039f"
            ],
            [
             0.2222222222222222,
             "#7201a8"
            ],
            [
             0.3333333333333333,
             "#9c179e"
            ],
            [
             0.4444444444444444,
             "#bd3786"
            ],
            [
             0.5555555555555556,
             "#d8576b"
            ],
            [
             0.6666666666666666,
             "#ed7953"
            ],
            [
             0.7777777777777778,
             "#fb9f3a"
            ],
            [
             0.8888888888888888,
             "#fdca26"
            ],
            [
             1,
             "#f0f921"
            ]
           ]
          },
          "colorway": [
           "#636efa",
           "#EF553B",
           "#00cc96",
           "#ab63fa",
           "#FFA15A",
           "#19d3f3",
           "#FF6692",
           "#B6E880",
           "#FF97FF",
           "#FECB52"
          ],
          "font": {
           "color": "#2a3f5f"
          },
          "geo": {
           "bgcolor": "white",
           "lakecolor": "white",
           "landcolor": "#E5ECF6",
           "showlakes": true,
           "showland": true,
           "subunitcolor": "white"
          },
          "hoverlabel": {
           "align": "left"
          },
          "hovermode": "closest",
          "mapbox": {
           "style": "light"
          },
          "paper_bgcolor": "white",
          "plot_bgcolor": "#E5ECF6",
          "polar": {
           "angularaxis": {
            "gridcolor": "white",
            "linecolor": "white",
            "ticks": ""
           },
           "bgcolor": "#E5ECF6",
           "radialaxis": {
            "gridcolor": "white",
            "linecolor": "white",
            "ticks": ""
           }
          },
          "scene": {
           "xaxis": {
            "backgroundcolor": "#E5ECF6",
            "gridcolor": "white",
            "gridwidth": 2,
            "linecolor": "white",
            "showbackground": true,
            "ticks": "",
            "zerolinecolor": "white"
           },
           "yaxis": {
            "backgroundcolor": "#E5ECF6",
            "gridcolor": "white",
            "gridwidth": 2,
            "linecolor": "white",
            "showbackground": true,
            "ticks": "",
            "zerolinecolor": "white"
           },
           "zaxis": {
            "backgroundcolor": "#E5ECF6",
            "gridcolor": "white",
            "gridwidth": 2,
            "linecolor": "white",
            "showbackground": true,
            "ticks": "",
            "zerolinecolor": "white"
           }
          },
          "shapedefaults": {
           "line": {
            "color": "#2a3f5f"
           }
          },
          "ternary": {
           "aaxis": {
            "gridcolor": "white",
            "linecolor": "white",
            "ticks": ""
           },
           "baxis": {
            "gridcolor": "white",
            "linecolor": "white",
            "ticks": ""
           },
           "bgcolor": "#E5ECF6",
           "caxis": {
            "gridcolor": "white",
            "linecolor": "white",
            "ticks": ""
           }
          },
          "title": {
           "x": 0.05
          },
          "xaxis": {
           "automargin": true,
           "gridcolor": "white",
           "linecolor": "white",
           "ticks": "",
           "title": {
            "standoff": 15
           },
           "zerolinecolor": "white",
           "zerolinewidth": 2
          },
          "yaxis": {
           "automargin": true,
           "gridcolor": "white",
           "linecolor": "white",
           "ticks": "",
           "title": {
            "standoff": 15
           },
           "zerolinecolor": "white",
           "zerolinewidth": 2
          }
         }
        },
        "title": {
         "text": "Does Outside Temperature affect Mileage differently between the Two Fuel Types?"
        },
        "xaxis": {
         "title": {
          "text": "Mileage (km/L)"
         }
        },
        "yaxis": {
         "title": {
          "text": "Temperature (degrees C)"
         }
        }
       }
      },
      "text/html": [
       "<div>                            <div id=\"228228c1-cfba-4f97-b6cd-97a029c6d325\" class=\"plotly-graph-div\" style=\"height:525px; width:100%;\"></div>            <script type=\"text/javascript\">                require([\"plotly\"], function(Plotly) {                    window.PLOTLYENV=window.PLOTLYENV || {};                                    if (document.getElementById(\"228228c1-cfba-4f97-b6cd-97a029c6d325\")) {                    Plotly.newPlot(                        \"228228c1-cfba-4f97-b6cd-97a029c6d325\",                        [{\"mode\": \"markers\", \"name\": \"E10\", \"type\": \"scatter\", \"x\": [5.6, 2.86, 2.04, 3.31, 4.11, 1.3, 1.77, 2.46, 0.77, 2.25, 2.21, 2.57, 2.08, 4.84, 2.64, 3.39, 5.96, 2.31, 5.29, 2.51, 4.6, 2.41, 3.14, 2.51, 2.08, 3.02, 3.23, 3.17, 3.33, 3.23, 2.32, 2.36, 2.2, 6.79, 4.42, 2.12, 3.85, 0.66, 2.46, 1.89, 3.1, 0.9, 2.54, 2.37, 2.98, 2.74, 2.28, 2.88, 1.35, 2.88, 4.57, 4.62, 0.16, 7.64, 7.69, 4.2, 1.98, 4.98, 3.46, 2.74, 7.04, 9.55, 2.81, 4.08, 7.43, 0.63, 5.54, 10.43, 4.3, 8.7, 0.97, 3.42, 2.02, 4.59, 4.4, 4.83, 9.25, 8.14, 2.41, 5.35, 9.23, 2.34, 2.66, 12.23, 3.12, 2.51, 1.73, 2.38, 6.77, 2.41, 10.32, 8.39, 2.56, 18.45, 28.33, 15.63, 4.22, 2.58, 5.04, 2.98, 2.57, 3.76, 2.7, 3.95, 1.61, 2.12, 2.2, 1.93, 2.28, 2.46, 2.37, 2.91, 7.68, 2.68, 5.53, 4.36, 0.25, 2.68, 1.48, 2.64, 0.33, 2.8, 5.14, 6.28, 2.62, 0.76, 0.75, 1.08, 4.0, 5.72, 4.21, 3.42, 4.21, 0.75, 19.6, 19.56, 4.49, 3.42, 4.23, 3.02, 4.38, 9.4, 4.48, 1.02, 21.47, 28.2, 4.37, 3.67, 4.32, 3.81, 3.76, 4.0, 5.53, 4.05, 4.21, 3.16, 4.0, 3.21, 4.41, 3.61], \"y\": [12, 13, 15, 14, 15, 10, 11, 6, 4, 9, 4, 0, 10, 12, 11, 5, 3, 3, 8, 4, 3, 1, 1, 1, 6, 9, 2, 3, 1, 4, 11, 10, 8, 7, 7, 8, 4, 6, 9, 7, 7, 7, 6, 7, 7, 4, 7, 8, 11, 10, 5, 6, 7, 6, 8, 3, 7, 8, 8, 8, 9, 9, 6, 6, 7, 8, 6, 8, 8, 4, 12, 10, 6, 8, 6, 7, 6, 9, 7, 4, 6, 10, 10, 10, 11, 11, 11, 11, 11, 8, 6, 11, 13, 10, 9, 11, 11, 9, 9, 10, 9, 8, 9, 12, 11, 7, 1, 1, 4, 7, 7, 7, 5, 7, 7, 3, 4, 4, 1, 4, 0, 2, 3, 8, 0, 0, 1, 2, 1, -3, 5, 4, 6, 3, 5, 5, 5, 5, 10, 7, 10, 13, 17, 17, 10, 18, 10, 10, 12, 5, 8, 9, 7, 6, 7, 7, 8, 9, 9, 9, 4, 7, 2, 2, 3, 5, 5, 6, 8, 7, 6, 8, 6, 0, 6, 3, -5, -3, 0, 0, 0, 0, 1, 3, 8, 12, 10, 7, 13, 12, 18, 9, 4, 13, 16, 13, 14, 14, 14, 13, 13, 15, 18, 17, 12, 12, 10, 10, 19, 21, 10, 12, 9, 8, 13, 5, 13, 11, 12, 17, 12, 9, 10, 11, 8, 3, 11, 4, 3, 2, 4, 1, 8, 8, 10, 1, 9, 10, 2, 9, 11, 12, 8, 10, 10, 6, 11, 10, 15, 16, 16, 8, 14, 14, 14, 8, 12, 14, 14, 8, 7, 15, 12, 13, 17, 18, 10, 21, 8, 14, 12, 18, 18, 18, 10, 10, 19, 7, 11, 10, 8, 16, 8, 16, 14, 12, 20, 15, 17, 18, 25, 16, 20, 18, 23, 27, 14, 21, 16, 18, 18, 15, 5, 18, 11, 10, 10, 13, 16, 16, 13, 17, 17, 17, 15, 13, 15, 14, 20, 21, 27, 15, 24, 15, 26, 17, 24, 17, 24, 24, 25, 27, 18, 22, 21, 16, 21, 17, 15, 24, 16, 21, 24, 17, 16, 15, 18, 16, 25, 16, 18, 17, 23, 16, 23, 23, 16, 18, 24, 22, 17, 15, 18, 23, 18, 26, 30, 31, 21, 30, 19, 21, 26, 27, 23, 19, 22, 26, 17, 23, 27, 28, 28, 18, 31, 19, 31, 30]}, {\"mode\": \"markers\", \"name\": \"SP98\", \"type\": \"scatter\", \"x\": [1.64, 0.2, 2.78, 3.27, 2.41, 5.81, 2.31, 2.16, 2.76, 2.15, 0.95, 31.33, 2.41, 1.98, 2.95, 2.16, 0.37, 0.17, 1.69, 1.28, 2.3, 2.64, 2.57, 2.28, 3.26, 2.62, 2.37, 0.32, 2.73, 2.49, 2.32, 2.63, 2.62, 4.86, 2.64, 8.7, 2.63, 1.16, 2.92, 2.37, 2.41, 1.98, 3.07, 2.6, 2.53, 2.48, 2.74, 2.1, 3.12, 2.64, 2.0, 2.23, 2.98, 2.96, 2.26, 1.45, 1.29, 4.52, 3.76, 0.71, 2.3, 4.32, 29.58, 0.75, 2.51, 3.25, 2.18, 2.94, 0.59, 4.57, 6.62, 0.78, 2.31, 3.82, 2.7, 2.22, 2.31, 2.1, 5.39, 2.54, 2.57, 1.94, 4.49, 1.58, 3.09, 2.74, 2.79, 0.8, 3.58, 2.62, 0.7, 3.41, 3.92, 2.62, 2.02, 9.3, 2.88, 11.69, 9.51, 2.62, 8.02, 6.13, 0.39, 1.09, 4.0, 5.84, 3.02, 3.07, 1.64, 1.68, 0.27, 0.78, 5.03, 7.0, 0.11, 2.82, 2.44, 1.36, 2.87, 2.75, 3.83, 3.68, 2.78, 4.32, 7.25, 2.42, 2.37, 6.2, 2.53, 2.62, 6.83, 3.73, 2.28, 2.46, 2.1, 2.36, 5.42, 1.13, 5.24, 3.9, 3.58, 3.64, 3.56, 5.49, 4.1, 3.35, 4.21, 7.13, 5.89, 11.3, 9.3, 7.38, 1.34, 1.8, 4.22, 1.18, 3.49, 2.89, 1.69, 2.82, 4.02, 5.02, 3.62, 4.45, 9.36, 3.8, 3.77, 6.64, 4.21, 4.14, 4.1, 2.25, 2.4, 7.42, 4.68, 2.3, 4.95, 2.63, 2.17, 4.12, 6.53, 8.91, 45.87, 40.77, 7.08, 3.95, 6.32, 4.12, 5.67, 4.26, 3.35, 3.9, 4.08, 4.32, 4.26, 0.87, 4.05, 1.22, 1.22, 4.12, 1.25, 3.9, 3.14, 3.58, 4.1, 3.42, 4.05, 3.08, 4.0, 3.42, 4.44, 5.1, 8.23, 2.32, 7.12, 3.22, 3.37, 4.05, 3.68, 4.39, 1.66, 1.49, 3.68, 4.32, 3.74, 4.21, 3.35, 2.94], \"y\": [12, 13, 15, 14, 15, 10, 11, 6, 4, 9, 4, 0, 10, 12, 11, 5, 3, 3, 8, 4, 3, 1, 1, 1, 6, 9, 2, 3, 1, 4, 11, 10, 8, 7, 7, 8, 4, 6, 9, 7, 7, 7, 6, 7, 7, 4, 7, 8, 11, 10, 5, 6, 7, 6, 8, 3, 7, 8, 8, 8, 9, 9, 6, 6, 7, 8, 6, 8, 8, 4, 12, 10, 6, 8, 6, 7, 6, 9, 7, 4, 6, 10, 10, 10, 11, 11, 11, 11, 11, 8, 6, 11, 13, 10, 9, 11, 11, 9, 9, 10, 9, 8, 9, 12, 11, 7, 1, 1, 4, 7, 7, 7, 5, 7, 7, 3, 4, 4, 1, 4, 0, 2, 3, 8, 0, 0, 1, 2, 1, -3, 5, 4, 6, 3, 5, 5, 5, 5, 10, 7, 10, 13, 17, 17, 10, 18, 10, 10, 12, 5, 8, 9, 7, 6, 7, 7, 8, 9, 9, 9, 4, 7, 2, 2, 3, 5, 5, 6, 8, 7, 6, 8, 6, 0, 6, 3, -5, -3, 0, 0, 0, 0, 1, 3, 8, 12, 10, 7, 13, 12, 18, 9, 4, 13, 16, 13, 14, 14, 14, 13, 13, 15, 18, 17, 12, 12, 10, 10, 19, 21, 10, 12, 9, 8, 13, 5, 13, 11, 12, 17, 12, 9, 10, 11, 8, 3, 11, 4, 3, 2, 4, 1, 8, 8, 10, 1, 9, 10, 2, 9, 11, 12, 8, 10, 10, 6, 11, 10, 15, 16, 16, 8, 14, 14, 14, 8, 12, 14, 14, 8, 7, 15, 12, 13, 17, 18, 10, 21, 8, 14, 12, 18, 18, 18, 10, 10, 19, 7, 11, 10, 8, 16, 8, 16, 14, 12, 20, 15, 17, 18, 25, 16, 20, 18, 23, 27, 14, 21, 16, 18, 18, 15, 5, 18, 11, 10, 10, 13, 16, 16, 13, 17, 17, 17, 15, 13, 15, 14, 20, 21, 27, 15, 24, 15, 26, 17, 24, 17, 24, 24, 25, 27, 18, 22, 21, 16, 21, 17, 15, 24, 16, 21, 24, 17, 16, 15, 18, 16, 25, 16, 18, 17, 23, 16, 23, 23, 16, 18, 24, 22, 17, 15, 18, 23, 18, 26, 30, 31, 21, 30, 19, 21, 26, 27, 23, 19, 22, 26, 17, 23, 27, 28, 28, 18, 31, 19, 31, 30]}],                        {\"template\": {\"data\": {\"bar\": [{\"error_x\": {\"color\": \"#2a3f5f\"}, \"error_y\": {\"color\": \"#2a3f5f\"}, \"marker\": {\"line\": {\"color\": \"#E5ECF6\", \"width\": 0.5}}, \"type\": \"bar\"}], \"barpolar\": [{\"marker\": {\"line\": {\"color\": \"#E5ECF6\", \"width\": 0.5}}, \"type\": \"barpolar\"}], \"carpet\": [{\"aaxis\": {\"endlinecolor\": \"#2a3f5f\", \"gridcolor\": \"white\", \"linecolor\": \"white\", \"minorgridcolor\": \"white\", \"startlinecolor\": \"#2a3f5f\"}, \"baxis\": {\"endlinecolor\": \"#2a3f5f\", \"gridcolor\": \"white\", \"linecolor\": \"white\", \"minorgridcolor\": \"white\", \"startlinecolor\": \"#2a3f5f\"}, \"type\": \"carpet\"}], \"choropleth\": [{\"colorbar\": {\"outlinewidth\": 0, \"ticks\": \"\"}, \"type\": \"choropleth\"}], \"contour\": [{\"colorbar\": {\"outlinewidth\": 0, \"ticks\": \"\"}, \"colorscale\": [[0.0, \"#0d0887\"], [0.1111111111111111, \"#46039f\"], [0.2222222222222222, \"#7201a8\"], [0.3333333333333333, \"#9c179e\"], [0.4444444444444444, \"#bd3786\"], [0.5555555555555556, \"#d8576b\"], [0.6666666666666666, \"#ed7953\"], [0.7777777777777778, \"#fb9f3a\"], [0.8888888888888888, \"#fdca26\"], [1.0, \"#f0f921\"]], \"type\": \"contour\"}], \"contourcarpet\": [{\"colorbar\": {\"outlinewidth\": 0, \"ticks\": \"\"}, \"type\": \"contourcarpet\"}], \"heatmap\": [{\"colorbar\": {\"outlinewidth\": 0, \"ticks\": \"\"}, \"colorscale\": [[0.0, \"#0d0887\"], [0.1111111111111111, \"#46039f\"], [0.2222222222222222, \"#7201a8\"], [0.3333333333333333, \"#9c179e\"], [0.4444444444444444, \"#bd3786\"], [0.5555555555555556, \"#d8576b\"], [0.6666666666666666, \"#ed7953\"], [0.7777777777777778, \"#fb9f3a\"], [0.8888888888888888, \"#fdca26\"], [1.0, \"#f0f921\"]], \"type\": \"heatmap\"}], \"heatmapgl\": [{\"colorbar\": {\"outlinewidth\": 0, \"ticks\": \"\"}, \"colorscale\": [[0.0, \"#0d0887\"], [0.1111111111111111, \"#46039f\"], [0.2222222222222222, \"#7201a8\"], [0.3333333333333333, \"#9c179e\"], [0.4444444444444444, \"#bd3786\"], [0.5555555555555556, \"#d8576b\"], [0.6666666666666666, \"#ed7953\"], [0.7777777777777778, \"#fb9f3a\"], [0.8888888888888888, \"#fdca26\"], [1.0, \"#f0f921\"]], \"type\": \"heatmapgl\"}], \"histogram\": [{\"marker\": {\"colorbar\": {\"outlinewidth\": 0, \"ticks\": \"\"}}, \"type\": \"histogram\"}], \"histogram2d\": [{\"colorbar\": {\"outlinewidth\": 0, \"ticks\": \"\"}, \"colorscale\": [[0.0, \"#0d0887\"], [0.1111111111111111, \"#46039f\"], [0.2222222222222222, \"#7201a8\"], [0.3333333333333333, \"#9c179e\"], [0.4444444444444444, \"#bd3786\"], [0.5555555555555556, \"#d8576b\"], [0.6666666666666666, \"#ed7953\"], [0.7777777777777778, \"#fb9f3a\"], [0.8888888888888888, \"#fdca26\"], [1.0, \"#f0f921\"]], \"type\": \"histogram2d\"}], \"histogram2dcontour\": [{\"colorbar\": {\"outlinewidth\": 0, \"ticks\": \"\"}, \"colorscale\": [[0.0, \"#0d0887\"], [0.1111111111111111, \"#46039f\"], [0.2222222222222222, \"#7201a8\"], [0.3333333333333333, \"#9c179e\"], [0.4444444444444444, \"#bd3786\"], [0.5555555555555556, \"#d8576b\"], [0.6666666666666666, \"#ed7953\"], [0.7777777777777778, \"#fb9f3a\"], [0.8888888888888888, \"#fdca26\"], [1.0, \"#f0f921\"]], \"type\": \"histogram2dcontour\"}], \"mesh3d\": [{\"colorbar\": {\"outlinewidth\": 0, \"ticks\": \"\"}, \"type\": \"mesh3d\"}], \"parcoords\": [{\"line\": {\"colorbar\": {\"outlinewidth\": 0, \"ticks\": \"\"}}, \"type\": \"parcoords\"}], \"pie\": [{\"automargin\": true, \"type\": \"pie\"}], \"scatter\": [{\"marker\": {\"colorbar\": {\"outlinewidth\": 0, \"ticks\": \"\"}}, \"type\": \"scatter\"}], \"scatter3d\": [{\"line\": {\"colorbar\": {\"outlinewidth\": 0, \"ticks\": \"\"}}, \"marker\": {\"colorbar\": {\"outlinewidth\": 0, \"ticks\": \"\"}}, \"type\": \"scatter3d\"}], \"scattercarpet\": [{\"marker\": {\"colorbar\": {\"outlinewidth\": 0, \"ticks\": \"\"}}, \"type\": \"scattercarpet\"}], \"scattergeo\": [{\"marker\": {\"colorbar\": {\"outlinewidth\": 0, \"ticks\": \"\"}}, \"type\": \"scattergeo\"}], \"scattergl\": [{\"marker\": {\"colorbar\": {\"outlinewidth\": 0, \"ticks\": \"\"}}, \"type\": \"scattergl\"}], \"scattermapbox\": [{\"marker\": {\"colorbar\": {\"outlinewidth\": 0, \"ticks\": \"\"}}, \"type\": \"scattermapbox\"}], \"scatterpolar\": [{\"marker\": {\"colorbar\": {\"outlinewidth\": 0, \"ticks\": \"\"}}, \"type\": \"scatterpolar\"}], \"scatterpolargl\": [{\"marker\": {\"colorbar\": {\"outlinewidth\": 0, \"ticks\": \"\"}}, \"type\": \"scatterpolargl\"}], \"scatterternary\": [{\"marker\": {\"colorbar\": {\"outlinewidth\": 0, \"ticks\": \"\"}}, \"type\": \"scatterternary\"}], \"surface\": [{\"colorbar\": {\"outlinewidth\": 0, \"ticks\": \"\"}, \"colorscale\": [[0.0, \"#0d0887\"], [0.1111111111111111, \"#46039f\"], [0.2222222222222222, \"#7201a8\"], [0.3333333333333333, \"#9c179e\"], [0.4444444444444444, \"#bd3786\"], [0.5555555555555556, \"#d8576b\"], [0.6666666666666666, \"#ed7953\"], [0.7777777777777778, \"#fb9f3a\"], [0.8888888888888888, \"#fdca26\"], [1.0, \"#f0f921\"]], \"type\": \"surface\"}], \"table\": [{\"cells\": {\"fill\": {\"color\": \"#EBF0F8\"}, \"line\": {\"color\": \"white\"}}, \"header\": {\"fill\": {\"color\": \"#C8D4E3\"}, \"line\": {\"color\": \"white\"}}, \"type\": \"table\"}]}, \"layout\": {\"annotationdefaults\": {\"arrowcolor\": \"#2a3f5f\", \"arrowhead\": 0, \"arrowwidth\": 1}, \"autotypenumbers\": \"strict\", \"coloraxis\": {\"colorbar\": {\"outlinewidth\": 0, \"ticks\": \"\"}}, \"colorscale\": {\"diverging\": [[0, \"#8e0152\"], [0.1, \"#c51b7d\"], [0.2, \"#de77ae\"], [0.3, \"#f1b6da\"], [0.4, \"#fde0ef\"], [0.5, \"#f7f7f7\"], [0.6, \"#e6f5d0\"], [0.7, \"#b8e186\"], [0.8, \"#7fbc41\"], [0.9, \"#4d9221\"], [1, \"#276419\"]], \"sequential\": [[0.0, \"#0d0887\"], [0.1111111111111111, \"#46039f\"], [0.2222222222222222, \"#7201a8\"], [0.3333333333333333, \"#9c179e\"], [0.4444444444444444, \"#bd3786\"], [0.5555555555555556, \"#d8576b\"], [0.6666666666666666, \"#ed7953\"], [0.7777777777777778, \"#fb9f3a\"], [0.8888888888888888, \"#fdca26\"], [1.0, \"#f0f921\"]], \"sequentialminus\": [[0.0, \"#0d0887\"], [0.1111111111111111, \"#46039f\"], [0.2222222222222222, \"#7201a8\"], [0.3333333333333333, \"#9c179e\"], [0.4444444444444444, \"#bd3786\"], [0.5555555555555556, \"#d8576b\"], [0.6666666666666666, \"#ed7953\"], [0.7777777777777778, \"#fb9f3a\"], [0.8888888888888888, \"#fdca26\"], [1.0, \"#f0f921\"]]}, \"colorway\": [\"#636efa\", \"#EF553B\", \"#00cc96\", \"#ab63fa\", \"#FFA15A\", \"#19d3f3\", \"#FF6692\", \"#B6E880\", \"#FF97FF\", \"#FECB52\"], \"font\": {\"color\": \"#2a3f5f\"}, \"geo\": {\"bgcolor\": \"white\", \"lakecolor\": \"white\", \"landcolor\": \"#E5ECF6\", \"showlakes\": true, \"showland\": true, \"subunitcolor\": \"white\"}, \"hoverlabel\": {\"align\": \"left\"}, \"hovermode\": \"closest\", \"mapbox\": {\"style\": \"light\"}, \"paper_bgcolor\": \"white\", \"plot_bgcolor\": \"#E5ECF6\", \"polar\": {\"angularaxis\": {\"gridcolor\": \"white\", \"linecolor\": \"white\", \"ticks\": \"\"}, \"bgcolor\": \"#E5ECF6\", \"radialaxis\": {\"gridcolor\": \"white\", \"linecolor\": \"white\", \"ticks\": \"\"}}, \"scene\": {\"xaxis\": {\"backgroundcolor\": \"#E5ECF6\", \"gridcolor\": \"white\", \"gridwidth\": 2, \"linecolor\": \"white\", \"showbackground\": true, \"ticks\": \"\", \"zerolinecolor\": \"white\"}, \"yaxis\": {\"backgroundcolor\": \"#E5ECF6\", \"gridcolor\": \"white\", \"gridwidth\": 2, \"linecolor\": \"white\", \"showbackground\": true, \"ticks\": \"\", \"zerolinecolor\": \"white\"}, \"zaxis\": {\"backgroundcolor\": \"#E5ECF6\", \"gridcolor\": \"white\", \"gridwidth\": 2, \"linecolor\": \"white\", \"showbackground\": true, \"ticks\": \"\", \"zerolinecolor\": \"white\"}}, \"shapedefaults\": {\"line\": {\"color\": \"#2a3f5f\"}}, \"ternary\": {\"aaxis\": {\"gridcolor\": \"white\", \"linecolor\": \"white\", \"ticks\": \"\"}, \"baxis\": {\"gridcolor\": \"white\", \"linecolor\": \"white\", \"ticks\": \"\"}, \"bgcolor\": \"#E5ECF6\", \"caxis\": {\"gridcolor\": \"white\", \"linecolor\": \"white\", \"ticks\": \"\"}}, \"title\": {\"x\": 0.05}, \"xaxis\": {\"automargin\": true, \"gridcolor\": \"white\", \"linecolor\": \"white\", \"ticks\": \"\", \"title\": {\"standoff\": 15}, \"zerolinecolor\": \"white\", \"zerolinewidth\": 2}, \"yaxis\": {\"automargin\": true, \"gridcolor\": \"white\", \"linecolor\": \"white\", \"ticks\": \"\", \"title\": {\"standoff\": 15}, \"zerolinecolor\": \"white\", \"zerolinewidth\": 2}}}, \"title\": {\"text\": \"Does Outside Temperature affect Mileage differently between the Two Fuel Types?\"}, \"xaxis\": {\"title\": {\"text\": \"Mileage (km/L)\"}}, \"yaxis\": {\"title\": {\"text\": \"Temperature (degrees C)\"}}},                        {\"responsive\": true}                    ).then(function(){\n",
       "                            \n",
       "var gd = document.getElementById('228228c1-cfba-4f97-b6cd-97a029c6d325');\n",
       "var x = new MutationObserver(function (mutations, observer) {{\n",
       "        var display = window.getComputedStyle(gd).display;\n",
       "        if (!display || display === 'none') {{\n",
       "            console.log([gd, 'removed!']);\n",
       "            Plotly.purge(gd);\n",
       "            observer.disconnect();\n",
       "        }}\n",
       "}});\n",
       "\n",
       "// Listen for the removal of the full notebook cells\n",
       "var notebookContainer = gd.closest('#notebook-container');\n",
       "if (notebookContainer) {{\n",
       "    x.observe(notebookContainer, {childList: true});\n",
       "}}\n",
       "\n",
       "// Listen for the clearing of the current output cell\n",
       "var outputEl = gd.closest('.output');\n",
       "if (outputEl) {{\n",
       "    x.observe(outputEl, {childList: true});\n",
       "}}\n",
       "\n",
       "                        })                };                });            </script>        </div>"
      ]
     },
     "metadata": {},
     "output_type": "display_data"
    }
   ],
   "source": [
    "import plotly.graph_objects as go\n",
    "\n",
    "# Create traces\n",
    "fig = go.Figure()\n",
    "fig.add_trace(go.Scatter(x=e_mileage, y=df['temp_outside'],\n",
    "                    mode='markers', name='E10'))\n",
    "fig.add_trace(go.Scatter(x=sp_mileage, y=df['temp_outside'],\n",
    "                    mode='markers', name='SP98'))\n",
    "fig.update_layout(title='Does Outside Temperature affect Mileage differently between the Two Fuel Types?',\n",
    "                   xaxis_title='Mileage (km/L)',\n",
    "                   yaxis_title='Temperature (degrees C)')\n",
    "fig.show()"
   ]
  },
  {
   "cell_type": "markdown",
   "metadata": {},
   "source": [
    "Now we will look for a relationship with travel time and mileage."
   ]
  },
  {
   "cell_type": "code",
   "execution_count": 218,
   "metadata": {},
   "outputs": [
    {
     "data": {
      "application/vnd.plotly.v1+json": {
       "config": {
        "plotlyServerURL": "https://plot.ly"
       },
       "data": [
        {
         "mode": "markers",
         "name": "E10",
         "type": "scatter",
         "x": [
          5.6,
          2.86,
          2.04,
          3.31,
          4.11,
          1.3,
          1.77,
          2.46,
          0.77,
          2.25,
          2.21,
          2.57,
          2.08,
          4.84,
          2.64,
          3.39,
          5.96,
          2.31,
          5.29,
          2.51,
          4.6,
          2.41,
          3.14,
          2.51,
          2.08,
          3.02,
          3.23,
          3.17,
          3.33,
          3.23,
          2.32,
          2.36,
          2.2,
          6.79,
          4.42,
          2.12,
          3.85,
          0.66,
          2.46,
          1.89,
          3.1,
          0.9,
          2.54,
          2.37,
          2.98,
          2.74,
          2.28,
          2.88,
          1.35,
          2.88,
          4.57,
          4.62,
          0.16,
          7.64,
          7.69,
          4.2,
          1.98,
          4.98,
          3.46,
          2.74,
          7.04,
          9.55,
          2.81,
          4.08,
          7.43,
          0.63,
          5.54,
          10.43,
          4.3,
          8.7,
          0.97,
          3.42,
          2.02,
          4.59,
          4.4,
          4.83,
          9.25,
          8.14,
          2.41,
          5.35,
          9.23,
          2.34,
          2.66,
          12.23,
          3.12,
          2.51,
          1.73,
          2.38,
          6.77,
          2.41,
          10.32,
          8.39,
          2.56,
          18.45,
          28.33,
          15.63,
          4.22,
          2.58,
          5.04,
          2.98,
          2.57,
          3.76,
          2.7,
          3.95,
          1.61,
          2.12,
          2.2,
          1.93,
          2.28,
          2.46,
          2.37,
          2.91,
          7.68,
          2.68,
          5.53,
          4.36,
          0.25,
          2.68,
          1.48,
          2.64,
          0.33,
          2.8,
          5.14,
          6.28,
          2.62,
          0.76,
          0.75,
          1.08,
          4,
          5.72,
          4.21,
          3.42,
          4.21,
          0.75,
          19.6,
          19.56,
          4.49,
          3.42,
          4.23,
          3.02,
          4.38,
          9.4,
          4.48,
          1.02,
          21.47,
          28.2,
          4.37,
          3.67,
          4.32,
          3.81,
          3.76,
          4,
          5.53,
          4.05,
          4.21,
          3.16,
          4,
          3.21,
          4.41,
          3.61
         ],
         "y": [
          1.08,
          0.4,
          0.29,
          0.36,
          0.4,
          0.17,
          0.18,
          0.31,
          0.19,
          0.4,
          0.3,
          0.31,
          0.21,
          0.43,
          0.27,
          0.72,
          0.93,
          0.37,
          0.66,
          0.3,
          0.79,
          0.37,
          0.48,
          0.33,
          0.2,
          0.22,
          0.88,
          0.66,
          0.63,
          0.53,
          0.24,
          0.41,
          0.21,
          0.82,
          0.53,
          0.34,
          0.54,
          0.19,
          0.51,
          0.21,
          0.23,
          0.16,
          0.32,
          0.23,
          0.17,
          0.1,
          0.44,
          0.64,
          0.47,
          0.76,
          0.41,
          0.17,
          0.19,
          0.28,
          0.22,
          1.87,
          0.49,
          0.2,
          0.22,
          0.24,
          0.16,
          0.09,
          0.41,
          0.26,
          0.52,
          0.22,
          0.29,
          0.22,
          0.35,
          0.32,
          0.22,
          0.1,
          0.48,
          0.23,
          0.46,
          0.37,
          0.3,
          0.5,
          0.22,
          1.24,
          0.39,
          0.13,
          0.25,
          0.22,
          0.47,
          0.21,
          0.26,
          0.29,
          0.4,
          0.63,
          0.32,
          0.2,
          0.25,
          0.29,
          0.56,
          0.23,
          0.22,
          0.48,
          0.37,
          0.17,
          0.16,
          0.37,
          0.3,
          0.2,
          0.69,
          0.51,
          2.17,
          0.19,
          0.33,
          0.3,
          0.34,
          0.64,
          0.24,
          0.34,
          0.74,
          0.18,
          0.45,
          0.55,
          0.33,
          0.32,
          0.27,
          0.21,
          0.45,
          0.59,
          0.31,
          0.21,
          0.44,
          0.15,
          0.47,
          0.27,
          0.35,
          0.13,
          0.49,
          0.27,
          0.16,
          0.58,
          0.94,
          0.31,
          0.2,
          0.67,
          0.3,
          0.21,
          0.25,
          0.28,
          0.32,
          0.49,
          0.46,
          0.12,
          0.8,
          0.71,
          0.37,
          0.35,
          0.38,
          0.28,
          0.32,
          0.46,
          0.72,
          0.35,
          0.49,
          0.66,
          0.13,
          0.7,
          0.75,
          0.36,
          0.54,
          0.23,
          0.33,
          0.31,
          0.59,
          0.49,
          0.41,
          1.17,
          0.7,
          0.27,
          0.62,
          0.92,
          0.33,
          0.3,
          0.78,
          0.56,
          0.25,
          0.24,
          0.24,
          0.54,
          0.22,
          0.71,
          0.88,
          0.3,
          1.18,
          1.53,
          1,
          0.99,
          0.28,
          0.68,
          0.64,
          0.29,
          0.61,
          0.52,
          0.12,
          0.25,
          0.46,
          0.53,
          0.31,
          0.38,
          0.31,
          0.25,
          0.09,
          0.19,
          0.5,
          0.66,
          0.06,
          0.64,
          0.43,
          0.19,
          0.31,
          0.37,
          0.49,
          0.62,
          0.58,
          0.33,
          1.07,
          0.38,
          0.22,
          0.44,
          0.38,
          0.3,
          0.51,
          0.36,
          0.34,
          0.28,
          0.41,
          0.27,
          0.39,
          0.14,
          0.66,
          0.33,
          0.46,
          0.4,
          0.3,
          0.35,
          0.23,
          0.48,
          0.28,
          0.23,
          0.41,
          0.74,
          0.35,
          0.29,
          0.22,
          0.22,
          1.05,
          0.28,
          0.47,
          0.37,
          0.1,
          0.36,
          0.24,
          0.23,
          0.09,
          0.34,
          0.57,
          0.49,
          0.42,
          0.17,
          0.14,
          0.14,
          0.4,
          0.79,
          0.38,
          0.31,
          0.39,
          0.13,
          1.36,
          1.07,
          0.51,
          0.4,
          0.5,
          0.4,
          0.39,
          0.95,
          0.38,
          0.36,
          0.4,
          0.64,
          0.65,
          1.1,
          0.83,
          0.82,
          0.22,
          0.3,
          0.79,
          0.15,
          0.55,
          0.4,
          0.32,
          0.33,
          0.35,
          0.54,
          0.28,
          0.29,
          0.68,
          0.54,
          0.36,
          0.93,
          0.38,
          0.64,
          0.4,
          0.35,
          0.29,
          0.97,
          0.31,
          0.22,
          0.35,
          0.3,
          0.22,
          0.42,
          0.6,
          0.79,
          2.64,
          2.4,
          0.94,
          0.32,
          0.6,
          0.34,
          0.76,
          0.34,
          0.36,
          0.38,
          0.73,
          0.31,
          0.68,
          0.46,
          0.18,
          1.16,
          2.24,
          0.39,
          0.31,
          0.36,
          0.39,
          0.34,
          0.37,
          0.57,
          0.33,
          0.38,
          0.54,
          0.38,
          0.38,
          0.49,
          0.33,
          0.4,
          0.45,
          0.35,
          0.47,
          0.36,
          0.4,
          0.2,
          0.35,
          0.17,
          0.18,
          0.48,
          0.22,
          0.36,
          0.28,
          0.39,
          0.46,
          0.3,
          0.35,
          0.32,
          0.37,
          0.37,
          0.37,
          0.63,
          0.68,
          0.96,
          0.65,
          0.36,
          0.4,
          0.34,
          0.42,
          0.38,
          0.16,
          0.17,
          0.41,
          0.41,
          0.42,
          0.36,
          0.37,
          0.59
         ]
        },
        {
         "mode": "markers",
         "name": "SP98",
         "type": "scatter",
         "x": [
          1.64,
          0.2,
          2.78,
          3.27,
          2.41,
          5.81,
          2.31,
          2.16,
          2.76,
          2.15,
          0.95,
          31.33,
          2.41,
          1.98,
          2.95,
          2.16,
          0.37,
          0.17,
          1.69,
          1.28,
          2.3,
          2.64,
          2.57,
          2.28,
          3.26,
          2.62,
          2.37,
          0.32,
          2.73,
          2.49,
          2.32,
          2.63,
          2.62,
          4.86,
          2.64,
          8.7,
          2.63,
          1.16,
          2.92,
          2.37,
          2.41,
          1.98,
          3.07,
          2.6,
          2.53,
          2.48,
          2.74,
          2.1,
          3.12,
          2.64,
          2,
          2.23,
          2.98,
          2.96,
          2.26,
          1.45,
          1.29,
          4.52,
          3.76,
          0.71,
          2.3,
          4.32,
          29.58,
          0.75,
          2.51,
          3.25,
          2.18,
          2.94,
          0.59,
          4.57,
          6.62,
          0.78,
          2.31,
          3.82,
          2.7,
          2.22,
          2.31,
          2.1,
          5.39,
          2.54,
          2.57,
          1.94,
          4.49,
          1.58,
          3.09,
          2.74,
          2.79,
          0.8,
          3.58,
          2.62,
          0.7,
          3.41,
          3.92,
          2.62,
          2.02,
          9.3,
          2.88,
          11.69,
          9.51,
          2.62,
          8.02,
          6.13,
          0.39,
          1.09,
          4,
          5.84,
          3.02,
          3.07,
          1.64,
          1.68,
          0.27,
          0.78,
          5.03,
          7,
          0.11,
          2.82,
          2.44,
          1.36,
          2.87,
          2.75,
          3.83,
          3.68,
          2.78,
          4.32,
          7.25,
          2.42,
          2.37,
          6.2,
          2.53,
          2.62,
          6.83,
          3.73,
          2.28,
          2.46,
          2.1,
          2.36,
          5.42,
          1.13,
          5.24,
          3.9,
          3.58,
          3.64,
          3.56,
          5.49,
          4.1,
          3.35,
          4.21,
          7.13,
          5.89,
          11.3,
          9.3,
          7.38,
          1.34,
          1.8,
          4.22,
          1.18,
          3.49,
          2.89,
          1.69,
          2.82,
          4.02,
          5.02,
          3.62,
          4.45,
          9.36,
          3.8,
          3.77,
          6.64,
          4.21,
          4.14,
          4.1,
          2.25,
          2.4,
          7.42,
          4.68,
          2.3,
          4.95,
          2.63,
          2.17,
          4.12,
          6.53,
          8.91,
          45.87,
          40.77,
          7.08,
          3.95,
          6.32,
          4.12,
          5.67,
          4.26,
          3.35,
          3.9,
          4.08,
          4.32,
          4.26,
          0.87,
          4.05,
          1.22,
          1.22,
          4.12,
          1.25,
          3.9,
          3.14,
          3.58,
          4.1,
          3.42,
          4.05,
          3.08,
          4,
          3.42,
          4.44,
          5.1,
          8.23,
          2.32,
          7.12,
          3.22,
          3.37,
          4.05,
          3.68,
          4.39,
          1.66,
          1.49,
          3.68,
          4.32,
          3.74,
          4.21,
          3.35,
          2.94
         ],
         "y": [
          1.08,
          0.4,
          0.29,
          0.36,
          0.4,
          0.17,
          0.18,
          0.31,
          0.19,
          0.4,
          0.3,
          0.31,
          0.21,
          0.43,
          0.27,
          0.72,
          0.93,
          0.37,
          0.66,
          0.3,
          0.79,
          0.37,
          0.48,
          0.33,
          0.2,
          0.22,
          0.88,
          0.66,
          0.63,
          0.53,
          0.24,
          0.41,
          0.21,
          0.82,
          0.53,
          0.34,
          0.54,
          0.19,
          0.51,
          0.21,
          0.23,
          0.16,
          0.32,
          0.23,
          0.17,
          0.1,
          0.44,
          0.64,
          0.47,
          0.76,
          0.41,
          0.17,
          0.19,
          0.28,
          0.22,
          1.87,
          0.49,
          0.2,
          0.22,
          0.24,
          0.16,
          0.09,
          0.41,
          0.26,
          0.52,
          0.22,
          0.29,
          0.22,
          0.35,
          0.32,
          0.22,
          0.1,
          0.48,
          0.23,
          0.46,
          0.37,
          0.3,
          0.5,
          0.22,
          1.24,
          0.39,
          0.13,
          0.25,
          0.22,
          0.47,
          0.21,
          0.26,
          0.29,
          0.4,
          0.63,
          0.32,
          0.2,
          0.25,
          0.29,
          0.56,
          0.23,
          0.22,
          0.48,
          0.37,
          0.17,
          0.16,
          0.37,
          0.3,
          0.2,
          0.69,
          0.51,
          2.17,
          0.19,
          0.33,
          0.3,
          0.34,
          0.64,
          0.24,
          0.34,
          0.74,
          0.18,
          0.45,
          0.55,
          0.33,
          0.32,
          0.27,
          0.21,
          0.45,
          0.59,
          0.31,
          0.21,
          0.44,
          0.15,
          0.47,
          0.27,
          0.35,
          0.13,
          0.49,
          0.27,
          0.16,
          0.58,
          0.94,
          0.31,
          0.2,
          0.67,
          0.3,
          0.21,
          0.25,
          0.28,
          0.32,
          0.49,
          0.46,
          0.12,
          0.8,
          0.71,
          0.37,
          0.35,
          0.38,
          0.28,
          0.32,
          0.46,
          0.72,
          0.35,
          0.49,
          0.66,
          0.13,
          0.7,
          0.75,
          0.36,
          0.54,
          0.23,
          0.33,
          0.31,
          0.59,
          0.49,
          0.41,
          1.17,
          0.7,
          0.27,
          0.62,
          0.92,
          0.33,
          0.3,
          0.78,
          0.56,
          0.25,
          0.24,
          0.24,
          0.54,
          0.22,
          0.71,
          0.88,
          0.3,
          1.18,
          1.53,
          1,
          0.99,
          0.28,
          0.68,
          0.64,
          0.29,
          0.61,
          0.52,
          0.12,
          0.25,
          0.46,
          0.53,
          0.31,
          0.38,
          0.31,
          0.25,
          0.09,
          0.19,
          0.5,
          0.66,
          0.06,
          0.64,
          0.43,
          0.19,
          0.31,
          0.37,
          0.49,
          0.62,
          0.58,
          0.33,
          1.07,
          0.38,
          0.22,
          0.44,
          0.38,
          0.3,
          0.51,
          0.36,
          0.34,
          0.28,
          0.41,
          0.27,
          0.39,
          0.14,
          0.66,
          0.33,
          0.46,
          0.4,
          0.3,
          0.35,
          0.23,
          0.48,
          0.28,
          0.23,
          0.41,
          0.74,
          0.35,
          0.29,
          0.22,
          0.22,
          1.05,
          0.28,
          0.47,
          0.37,
          0.1,
          0.36,
          0.24,
          0.23,
          0.09,
          0.34,
          0.57,
          0.49,
          0.42,
          0.17,
          0.14,
          0.14,
          0.4,
          0.79,
          0.38,
          0.31,
          0.39,
          0.13,
          1.36,
          1.07,
          0.51,
          0.4,
          0.5,
          0.4,
          0.39,
          0.95,
          0.38,
          0.36,
          0.4,
          0.64,
          0.65,
          1.1,
          0.83,
          0.82,
          0.22,
          0.3,
          0.79,
          0.15,
          0.55,
          0.4,
          0.32,
          0.33,
          0.35,
          0.54,
          0.28,
          0.29,
          0.68,
          0.54,
          0.36,
          0.93,
          0.38,
          0.64,
          0.4,
          0.35,
          0.29,
          0.97,
          0.31,
          0.22,
          0.35,
          0.3,
          0.22,
          0.42,
          0.6,
          0.79,
          2.64,
          2.4,
          0.94,
          0.32,
          0.6,
          0.34,
          0.76,
          0.34,
          0.36,
          0.38,
          0.73,
          0.31,
          0.68,
          0.46,
          0.18,
          1.16,
          2.24,
          0.39,
          0.31,
          0.36,
          0.39,
          0.34,
          0.37,
          0.57,
          0.33,
          0.38,
          0.54,
          0.38,
          0.38,
          0.49,
          0.33,
          0.4,
          0.45,
          0.35,
          0.47,
          0.36,
          0.4,
          0.2,
          0.35,
          0.17,
          0.18,
          0.48,
          0.22,
          0.36,
          0.28,
          0.39,
          0.46,
          0.3,
          0.35,
          0.32,
          0.37,
          0.37,
          0.37,
          0.63,
          0.68,
          0.96,
          0.65,
          0.36,
          0.4,
          0.34,
          0.42,
          0.38,
          0.16,
          0.17,
          0.41,
          0.41,
          0.42,
          0.36,
          0.37,
          0.59
         ]
        }
       ],
       "layout": {
        "template": {
         "data": {
          "bar": [
           {
            "error_x": {
             "color": "#2a3f5f"
            },
            "error_y": {
             "color": "#2a3f5f"
            },
            "marker": {
             "line": {
              "color": "#E5ECF6",
              "width": 0.5
             }
            },
            "type": "bar"
           }
          ],
          "barpolar": [
           {
            "marker": {
             "line": {
              "color": "#E5ECF6",
              "width": 0.5
             }
            },
            "type": "barpolar"
           }
          ],
          "carpet": [
           {
            "aaxis": {
             "endlinecolor": "#2a3f5f",
             "gridcolor": "white",
             "linecolor": "white",
             "minorgridcolor": "white",
             "startlinecolor": "#2a3f5f"
            },
            "baxis": {
             "endlinecolor": "#2a3f5f",
             "gridcolor": "white",
             "linecolor": "white",
             "minorgridcolor": "white",
             "startlinecolor": "#2a3f5f"
            },
            "type": "carpet"
           }
          ],
          "choropleth": [
           {
            "colorbar": {
             "outlinewidth": 0,
             "ticks": ""
            },
            "type": "choropleth"
           }
          ],
          "contour": [
           {
            "colorbar": {
             "outlinewidth": 0,
             "ticks": ""
            },
            "colorscale": [
             [
              0,
              "#0d0887"
             ],
             [
              0.1111111111111111,
              "#46039f"
             ],
             [
              0.2222222222222222,
              "#7201a8"
             ],
             [
              0.3333333333333333,
              "#9c179e"
             ],
             [
              0.4444444444444444,
              "#bd3786"
             ],
             [
              0.5555555555555556,
              "#d8576b"
             ],
             [
              0.6666666666666666,
              "#ed7953"
             ],
             [
              0.7777777777777778,
              "#fb9f3a"
             ],
             [
              0.8888888888888888,
              "#fdca26"
             ],
             [
              1,
              "#f0f921"
             ]
            ],
            "type": "contour"
           }
          ],
          "contourcarpet": [
           {
            "colorbar": {
             "outlinewidth": 0,
             "ticks": ""
            },
            "type": "contourcarpet"
           }
          ],
          "heatmap": [
           {
            "colorbar": {
             "outlinewidth": 0,
             "ticks": ""
            },
            "colorscale": [
             [
              0,
              "#0d0887"
             ],
             [
              0.1111111111111111,
              "#46039f"
             ],
             [
              0.2222222222222222,
              "#7201a8"
             ],
             [
              0.3333333333333333,
              "#9c179e"
             ],
             [
              0.4444444444444444,
              "#bd3786"
             ],
             [
              0.5555555555555556,
              "#d8576b"
             ],
             [
              0.6666666666666666,
              "#ed7953"
             ],
             [
              0.7777777777777778,
              "#fb9f3a"
             ],
             [
              0.8888888888888888,
              "#fdca26"
             ],
             [
              1,
              "#f0f921"
             ]
            ],
            "type": "heatmap"
           }
          ],
          "heatmapgl": [
           {
            "colorbar": {
             "outlinewidth": 0,
             "ticks": ""
            },
            "colorscale": [
             [
              0,
              "#0d0887"
             ],
             [
              0.1111111111111111,
              "#46039f"
             ],
             [
              0.2222222222222222,
              "#7201a8"
             ],
             [
              0.3333333333333333,
              "#9c179e"
             ],
             [
              0.4444444444444444,
              "#bd3786"
             ],
             [
              0.5555555555555556,
              "#d8576b"
             ],
             [
              0.6666666666666666,
              "#ed7953"
             ],
             [
              0.7777777777777778,
              "#fb9f3a"
             ],
             [
              0.8888888888888888,
              "#fdca26"
             ],
             [
              1,
              "#f0f921"
             ]
            ],
            "type": "heatmapgl"
           }
          ],
          "histogram": [
           {
            "marker": {
             "colorbar": {
              "outlinewidth": 0,
              "ticks": ""
             }
            },
            "type": "histogram"
           }
          ],
          "histogram2d": [
           {
            "colorbar": {
             "outlinewidth": 0,
             "ticks": ""
            },
            "colorscale": [
             [
              0,
              "#0d0887"
             ],
             [
              0.1111111111111111,
              "#46039f"
             ],
             [
              0.2222222222222222,
              "#7201a8"
             ],
             [
              0.3333333333333333,
              "#9c179e"
             ],
             [
              0.4444444444444444,
              "#bd3786"
             ],
             [
              0.5555555555555556,
              "#d8576b"
             ],
             [
              0.6666666666666666,
              "#ed7953"
             ],
             [
              0.7777777777777778,
              "#fb9f3a"
             ],
             [
              0.8888888888888888,
              "#fdca26"
             ],
             [
              1,
              "#f0f921"
             ]
            ],
            "type": "histogram2d"
           }
          ],
          "histogram2dcontour": [
           {
            "colorbar": {
             "outlinewidth": 0,
             "ticks": ""
            },
            "colorscale": [
             [
              0,
              "#0d0887"
             ],
             [
              0.1111111111111111,
              "#46039f"
             ],
             [
              0.2222222222222222,
              "#7201a8"
             ],
             [
              0.3333333333333333,
              "#9c179e"
             ],
             [
              0.4444444444444444,
              "#bd3786"
             ],
             [
              0.5555555555555556,
              "#d8576b"
             ],
             [
              0.6666666666666666,
              "#ed7953"
             ],
             [
              0.7777777777777778,
              "#fb9f3a"
             ],
             [
              0.8888888888888888,
              "#fdca26"
             ],
             [
              1,
              "#f0f921"
             ]
            ],
            "type": "histogram2dcontour"
           }
          ],
          "mesh3d": [
           {
            "colorbar": {
             "outlinewidth": 0,
             "ticks": ""
            },
            "type": "mesh3d"
           }
          ],
          "parcoords": [
           {
            "line": {
             "colorbar": {
              "outlinewidth": 0,
              "ticks": ""
             }
            },
            "type": "parcoords"
           }
          ],
          "pie": [
           {
            "automargin": true,
            "type": "pie"
           }
          ],
          "scatter": [
           {
            "marker": {
             "colorbar": {
              "outlinewidth": 0,
              "ticks": ""
             }
            },
            "type": "scatter"
           }
          ],
          "scatter3d": [
           {
            "line": {
             "colorbar": {
              "outlinewidth": 0,
              "ticks": ""
             }
            },
            "marker": {
             "colorbar": {
              "outlinewidth": 0,
              "ticks": ""
             }
            },
            "type": "scatter3d"
           }
          ],
          "scattercarpet": [
           {
            "marker": {
             "colorbar": {
              "outlinewidth": 0,
              "ticks": ""
             }
            },
            "type": "scattercarpet"
           }
          ],
          "scattergeo": [
           {
            "marker": {
             "colorbar": {
              "outlinewidth": 0,
              "ticks": ""
             }
            },
            "type": "scattergeo"
           }
          ],
          "scattergl": [
           {
            "marker": {
             "colorbar": {
              "outlinewidth": 0,
              "ticks": ""
             }
            },
            "type": "scattergl"
           }
          ],
          "scattermapbox": [
           {
            "marker": {
             "colorbar": {
              "outlinewidth": 0,
              "ticks": ""
             }
            },
            "type": "scattermapbox"
           }
          ],
          "scatterpolar": [
           {
            "marker": {
             "colorbar": {
              "outlinewidth": 0,
              "ticks": ""
             }
            },
            "type": "scatterpolar"
           }
          ],
          "scatterpolargl": [
           {
            "marker": {
             "colorbar": {
              "outlinewidth": 0,
              "ticks": ""
             }
            },
            "type": "scatterpolargl"
           }
          ],
          "scatterternary": [
           {
            "marker": {
             "colorbar": {
              "outlinewidth": 0,
              "ticks": ""
             }
            },
            "type": "scatterternary"
           }
          ],
          "surface": [
           {
            "colorbar": {
             "outlinewidth": 0,
             "ticks": ""
            },
            "colorscale": [
             [
              0,
              "#0d0887"
             ],
             [
              0.1111111111111111,
              "#46039f"
             ],
             [
              0.2222222222222222,
              "#7201a8"
             ],
             [
              0.3333333333333333,
              "#9c179e"
             ],
             [
              0.4444444444444444,
              "#bd3786"
             ],
             [
              0.5555555555555556,
              "#d8576b"
             ],
             [
              0.6666666666666666,
              "#ed7953"
             ],
             [
              0.7777777777777778,
              "#fb9f3a"
             ],
             [
              0.8888888888888888,
              "#fdca26"
             ],
             [
              1,
              "#f0f921"
             ]
            ],
            "type": "surface"
           }
          ],
          "table": [
           {
            "cells": {
             "fill": {
              "color": "#EBF0F8"
             },
             "line": {
              "color": "white"
             }
            },
            "header": {
             "fill": {
              "color": "#C8D4E3"
             },
             "line": {
              "color": "white"
             }
            },
            "type": "table"
           }
          ]
         },
         "layout": {
          "annotationdefaults": {
           "arrowcolor": "#2a3f5f",
           "arrowhead": 0,
           "arrowwidth": 1
          },
          "autotypenumbers": "strict",
          "coloraxis": {
           "colorbar": {
            "outlinewidth": 0,
            "ticks": ""
           }
          },
          "colorscale": {
           "diverging": [
            [
             0,
             "#8e0152"
            ],
            [
             0.1,
             "#c51b7d"
            ],
            [
             0.2,
             "#de77ae"
            ],
            [
             0.3,
             "#f1b6da"
            ],
            [
             0.4,
             "#fde0ef"
            ],
            [
             0.5,
             "#f7f7f7"
            ],
            [
             0.6,
             "#e6f5d0"
            ],
            [
             0.7,
             "#b8e186"
            ],
            [
             0.8,
             "#7fbc41"
            ],
            [
             0.9,
             "#4d9221"
            ],
            [
             1,
             "#276419"
            ]
           ],
           "sequential": [
            [
             0,
             "#0d0887"
            ],
            [
             0.1111111111111111,
             "#46039f"
            ],
            [
             0.2222222222222222,
             "#7201a8"
            ],
            [
             0.3333333333333333,
             "#9c179e"
            ],
            [
             0.4444444444444444,
             "#bd3786"
            ],
            [
             0.5555555555555556,
             "#d8576b"
            ],
            [
             0.6666666666666666,
             "#ed7953"
            ],
            [
             0.7777777777777778,
             "#fb9f3a"
            ],
            [
             0.8888888888888888,
             "#fdca26"
            ],
            [
             1,
             "#f0f921"
            ]
           ],
           "sequentialminus": [
            [
             0,
             "#0d0887"
            ],
            [
             0.1111111111111111,
             "#46039f"
            ],
            [
             0.2222222222222222,
             "#7201a8"
            ],
            [
             0.3333333333333333,
             "#9c179e"
            ],
            [
             0.4444444444444444,
             "#bd3786"
            ],
            [
             0.5555555555555556,
             "#d8576b"
            ],
            [
             0.6666666666666666,
             "#ed7953"
            ],
            [
             0.7777777777777778,
             "#fb9f3a"
            ],
            [
             0.8888888888888888,
             "#fdca26"
            ],
            [
             1,
             "#f0f921"
            ]
           ]
          },
          "colorway": [
           "#636efa",
           "#EF553B",
           "#00cc96",
           "#ab63fa",
           "#FFA15A",
           "#19d3f3",
           "#FF6692",
           "#B6E880",
           "#FF97FF",
           "#FECB52"
          ],
          "font": {
           "color": "#2a3f5f"
          },
          "geo": {
           "bgcolor": "white",
           "lakecolor": "white",
           "landcolor": "#E5ECF6",
           "showlakes": true,
           "showland": true,
           "subunitcolor": "white"
          },
          "hoverlabel": {
           "align": "left"
          },
          "hovermode": "closest",
          "mapbox": {
           "style": "light"
          },
          "paper_bgcolor": "white",
          "plot_bgcolor": "#E5ECF6",
          "polar": {
           "angularaxis": {
            "gridcolor": "white",
            "linecolor": "white",
            "ticks": ""
           },
           "bgcolor": "#E5ECF6",
           "radialaxis": {
            "gridcolor": "white",
            "linecolor": "white",
            "ticks": ""
           }
          },
          "scene": {
           "xaxis": {
            "backgroundcolor": "#E5ECF6",
            "gridcolor": "white",
            "gridwidth": 2,
            "linecolor": "white",
            "showbackground": true,
            "ticks": "",
            "zerolinecolor": "white"
           },
           "yaxis": {
            "backgroundcolor": "#E5ECF6",
            "gridcolor": "white",
            "gridwidth": 2,
            "linecolor": "white",
            "showbackground": true,
            "ticks": "",
            "zerolinecolor": "white"
           },
           "zaxis": {
            "backgroundcolor": "#E5ECF6",
            "gridcolor": "white",
            "gridwidth": 2,
            "linecolor": "white",
            "showbackground": true,
            "ticks": "",
            "zerolinecolor": "white"
           }
          },
          "shapedefaults": {
           "line": {
            "color": "#2a3f5f"
           }
          },
          "ternary": {
           "aaxis": {
            "gridcolor": "white",
            "linecolor": "white",
            "ticks": ""
           },
           "baxis": {
            "gridcolor": "white",
            "linecolor": "white",
            "ticks": ""
           },
           "bgcolor": "#E5ECF6",
           "caxis": {
            "gridcolor": "white",
            "linecolor": "white",
            "ticks": ""
           }
          },
          "title": {
           "x": 0.05
          },
          "xaxis": {
           "automargin": true,
           "gridcolor": "white",
           "linecolor": "white",
           "ticks": "",
           "title": {
            "standoff": 15
           },
           "zerolinecolor": "white",
           "zerolinewidth": 2
          },
          "yaxis": {
           "automargin": true,
           "gridcolor": "white",
           "linecolor": "white",
           "ticks": "",
           "title": {
            "standoff": 15
           },
           "zerolinecolor": "white",
           "zerolinewidth": 2
          }
         }
        },
        "title": {
         "text": "Does Travel Time affect Mileage differently between the Two Fuel Types?"
        },
        "xaxis": {
         "title": {
          "text": "Mileage (km/L)"
         }
        },
        "yaxis": {
         "title": {
          "text": "Estimate Time (hrs)"
         }
        }
       }
      },
      "text/html": [
       "<div>                            <div id=\"da6cd3cb-7051-4e32-ba79-8f592a39d240\" class=\"plotly-graph-div\" style=\"height:525px; width:100%;\"></div>            <script type=\"text/javascript\">                require([\"plotly\"], function(Plotly) {                    window.PLOTLYENV=window.PLOTLYENV || {};                                    if (document.getElementById(\"da6cd3cb-7051-4e32-ba79-8f592a39d240\")) {                    Plotly.newPlot(                        \"da6cd3cb-7051-4e32-ba79-8f592a39d240\",                        [{\"mode\": \"markers\", \"name\": \"E10\", \"type\": \"scatter\", \"x\": [5.6, 2.86, 2.04, 3.31, 4.11, 1.3, 1.77, 2.46, 0.77, 2.25, 2.21, 2.57, 2.08, 4.84, 2.64, 3.39, 5.96, 2.31, 5.29, 2.51, 4.6, 2.41, 3.14, 2.51, 2.08, 3.02, 3.23, 3.17, 3.33, 3.23, 2.32, 2.36, 2.2, 6.79, 4.42, 2.12, 3.85, 0.66, 2.46, 1.89, 3.1, 0.9, 2.54, 2.37, 2.98, 2.74, 2.28, 2.88, 1.35, 2.88, 4.57, 4.62, 0.16, 7.64, 7.69, 4.2, 1.98, 4.98, 3.46, 2.74, 7.04, 9.55, 2.81, 4.08, 7.43, 0.63, 5.54, 10.43, 4.3, 8.7, 0.97, 3.42, 2.02, 4.59, 4.4, 4.83, 9.25, 8.14, 2.41, 5.35, 9.23, 2.34, 2.66, 12.23, 3.12, 2.51, 1.73, 2.38, 6.77, 2.41, 10.32, 8.39, 2.56, 18.45, 28.33, 15.63, 4.22, 2.58, 5.04, 2.98, 2.57, 3.76, 2.7, 3.95, 1.61, 2.12, 2.2, 1.93, 2.28, 2.46, 2.37, 2.91, 7.68, 2.68, 5.53, 4.36, 0.25, 2.68, 1.48, 2.64, 0.33, 2.8, 5.14, 6.28, 2.62, 0.76, 0.75, 1.08, 4.0, 5.72, 4.21, 3.42, 4.21, 0.75, 19.6, 19.56, 4.49, 3.42, 4.23, 3.02, 4.38, 9.4, 4.48, 1.02, 21.47, 28.2, 4.37, 3.67, 4.32, 3.81, 3.76, 4.0, 5.53, 4.05, 4.21, 3.16, 4.0, 3.21, 4.41, 3.61], \"y\": [1.08, 0.4, 0.29, 0.36, 0.4, 0.17, 0.18, 0.31, 0.19, 0.4, 0.3, 0.31, 0.21, 0.43, 0.27, 0.72, 0.93, 0.37, 0.66, 0.3, 0.79, 0.37, 0.48, 0.33, 0.2, 0.22, 0.88, 0.66, 0.63, 0.53, 0.24, 0.41, 0.21, 0.82, 0.53, 0.34, 0.54, 0.19, 0.51, 0.21, 0.23, 0.16, 0.32, 0.23, 0.17, 0.1, 0.44, 0.64, 0.47, 0.76, 0.41, 0.17, 0.19, 0.28, 0.22, 1.87, 0.49, 0.2, 0.22, 0.24, 0.16, 0.09, 0.41, 0.26, 0.52, 0.22, 0.29, 0.22, 0.35, 0.32, 0.22, 0.1, 0.48, 0.23, 0.46, 0.37, 0.3, 0.5, 0.22, 1.24, 0.39, 0.13, 0.25, 0.22, 0.47, 0.21, 0.26, 0.29, 0.4, 0.63, 0.32, 0.2, 0.25, 0.29, 0.56, 0.23, 0.22, 0.48, 0.37, 0.17, 0.16, 0.37, 0.3, 0.2, 0.69, 0.51, 2.17, 0.19, 0.33, 0.3, 0.34, 0.64, 0.24, 0.34, 0.74, 0.18, 0.45, 0.55, 0.33, 0.32, 0.27, 0.21, 0.45, 0.59, 0.31, 0.21, 0.44, 0.15, 0.47, 0.27, 0.35, 0.13, 0.49, 0.27, 0.16, 0.58, 0.94, 0.31, 0.2, 0.67, 0.3, 0.21, 0.25, 0.28, 0.32, 0.49, 0.46, 0.12, 0.8, 0.71, 0.37, 0.35, 0.38, 0.28, 0.32, 0.46, 0.72, 0.35, 0.49, 0.66, 0.13, 0.7, 0.75, 0.36, 0.54, 0.23, 0.33, 0.31, 0.59, 0.49, 0.41, 1.17, 0.7, 0.27, 0.62, 0.92, 0.33, 0.3, 0.78, 0.56, 0.25, 0.24, 0.24, 0.54, 0.22, 0.71, 0.88, 0.3, 1.18, 1.53, 1.0, 0.99, 0.28, 0.68, 0.64, 0.29, 0.61, 0.52, 0.12, 0.25, 0.46, 0.53, 0.31, 0.38, 0.31, 0.25, 0.09, 0.19, 0.5, 0.66, 0.06, 0.64, 0.43, 0.19, 0.31, 0.37, 0.49, 0.62, 0.58, 0.33, 1.07, 0.38, 0.22, 0.44, 0.38, 0.3, 0.51, 0.36, 0.34, 0.28, 0.41, 0.27, 0.39, 0.14, 0.66, 0.33, 0.46, 0.4, 0.3, 0.35, 0.23, 0.48, 0.28, 0.23, 0.41, 0.74, 0.35, 0.29, 0.22, 0.22, 1.05, 0.28, 0.47, 0.37, 0.1, 0.36, 0.24, 0.23, 0.09, 0.34, 0.57, 0.49, 0.42, 0.17, 0.14, 0.14, 0.4, 0.79, 0.38, 0.31, 0.39, 0.13, 1.36, 1.07, 0.51, 0.4, 0.5, 0.4, 0.39, 0.95, 0.38, 0.36, 0.4, 0.64, 0.65, 1.1, 0.83, 0.82, 0.22, 0.3, 0.79, 0.15, 0.55, 0.4, 0.32, 0.33, 0.35, 0.54, 0.28, 0.29, 0.68, 0.54, 0.36, 0.93, 0.38, 0.64, 0.4, 0.35, 0.29, 0.97, 0.31, 0.22, 0.35, 0.3, 0.22, 0.42, 0.6, 0.79, 2.64, 2.4, 0.94, 0.32, 0.6, 0.34, 0.76, 0.34, 0.36, 0.38, 0.73, 0.31, 0.68, 0.46, 0.18, 1.16, 2.24, 0.39, 0.31, 0.36, 0.39, 0.34, 0.37, 0.57, 0.33, 0.38, 0.54, 0.38, 0.38, 0.49, 0.33, 0.4, 0.45, 0.35, 0.47, 0.36, 0.4, 0.2, 0.35, 0.17, 0.18, 0.48, 0.22, 0.36, 0.28, 0.39, 0.46, 0.3, 0.35, 0.32, 0.37, 0.37, 0.37, 0.63, 0.68, 0.96, 0.65, 0.36, 0.4, 0.34, 0.42, 0.38, 0.16, 0.17, 0.41, 0.41, 0.42, 0.36, 0.37, 0.59]}, {\"mode\": \"markers\", \"name\": \"SP98\", \"type\": \"scatter\", \"x\": [1.64, 0.2, 2.78, 3.27, 2.41, 5.81, 2.31, 2.16, 2.76, 2.15, 0.95, 31.33, 2.41, 1.98, 2.95, 2.16, 0.37, 0.17, 1.69, 1.28, 2.3, 2.64, 2.57, 2.28, 3.26, 2.62, 2.37, 0.32, 2.73, 2.49, 2.32, 2.63, 2.62, 4.86, 2.64, 8.7, 2.63, 1.16, 2.92, 2.37, 2.41, 1.98, 3.07, 2.6, 2.53, 2.48, 2.74, 2.1, 3.12, 2.64, 2.0, 2.23, 2.98, 2.96, 2.26, 1.45, 1.29, 4.52, 3.76, 0.71, 2.3, 4.32, 29.58, 0.75, 2.51, 3.25, 2.18, 2.94, 0.59, 4.57, 6.62, 0.78, 2.31, 3.82, 2.7, 2.22, 2.31, 2.1, 5.39, 2.54, 2.57, 1.94, 4.49, 1.58, 3.09, 2.74, 2.79, 0.8, 3.58, 2.62, 0.7, 3.41, 3.92, 2.62, 2.02, 9.3, 2.88, 11.69, 9.51, 2.62, 8.02, 6.13, 0.39, 1.09, 4.0, 5.84, 3.02, 3.07, 1.64, 1.68, 0.27, 0.78, 5.03, 7.0, 0.11, 2.82, 2.44, 1.36, 2.87, 2.75, 3.83, 3.68, 2.78, 4.32, 7.25, 2.42, 2.37, 6.2, 2.53, 2.62, 6.83, 3.73, 2.28, 2.46, 2.1, 2.36, 5.42, 1.13, 5.24, 3.9, 3.58, 3.64, 3.56, 5.49, 4.1, 3.35, 4.21, 7.13, 5.89, 11.3, 9.3, 7.38, 1.34, 1.8, 4.22, 1.18, 3.49, 2.89, 1.69, 2.82, 4.02, 5.02, 3.62, 4.45, 9.36, 3.8, 3.77, 6.64, 4.21, 4.14, 4.1, 2.25, 2.4, 7.42, 4.68, 2.3, 4.95, 2.63, 2.17, 4.12, 6.53, 8.91, 45.87, 40.77, 7.08, 3.95, 6.32, 4.12, 5.67, 4.26, 3.35, 3.9, 4.08, 4.32, 4.26, 0.87, 4.05, 1.22, 1.22, 4.12, 1.25, 3.9, 3.14, 3.58, 4.1, 3.42, 4.05, 3.08, 4.0, 3.42, 4.44, 5.1, 8.23, 2.32, 7.12, 3.22, 3.37, 4.05, 3.68, 4.39, 1.66, 1.49, 3.68, 4.32, 3.74, 4.21, 3.35, 2.94], \"y\": [1.08, 0.4, 0.29, 0.36, 0.4, 0.17, 0.18, 0.31, 0.19, 0.4, 0.3, 0.31, 0.21, 0.43, 0.27, 0.72, 0.93, 0.37, 0.66, 0.3, 0.79, 0.37, 0.48, 0.33, 0.2, 0.22, 0.88, 0.66, 0.63, 0.53, 0.24, 0.41, 0.21, 0.82, 0.53, 0.34, 0.54, 0.19, 0.51, 0.21, 0.23, 0.16, 0.32, 0.23, 0.17, 0.1, 0.44, 0.64, 0.47, 0.76, 0.41, 0.17, 0.19, 0.28, 0.22, 1.87, 0.49, 0.2, 0.22, 0.24, 0.16, 0.09, 0.41, 0.26, 0.52, 0.22, 0.29, 0.22, 0.35, 0.32, 0.22, 0.1, 0.48, 0.23, 0.46, 0.37, 0.3, 0.5, 0.22, 1.24, 0.39, 0.13, 0.25, 0.22, 0.47, 0.21, 0.26, 0.29, 0.4, 0.63, 0.32, 0.2, 0.25, 0.29, 0.56, 0.23, 0.22, 0.48, 0.37, 0.17, 0.16, 0.37, 0.3, 0.2, 0.69, 0.51, 2.17, 0.19, 0.33, 0.3, 0.34, 0.64, 0.24, 0.34, 0.74, 0.18, 0.45, 0.55, 0.33, 0.32, 0.27, 0.21, 0.45, 0.59, 0.31, 0.21, 0.44, 0.15, 0.47, 0.27, 0.35, 0.13, 0.49, 0.27, 0.16, 0.58, 0.94, 0.31, 0.2, 0.67, 0.3, 0.21, 0.25, 0.28, 0.32, 0.49, 0.46, 0.12, 0.8, 0.71, 0.37, 0.35, 0.38, 0.28, 0.32, 0.46, 0.72, 0.35, 0.49, 0.66, 0.13, 0.7, 0.75, 0.36, 0.54, 0.23, 0.33, 0.31, 0.59, 0.49, 0.41, 1.17, 0.7, 0.27, 0.62, 0.92, 0.33, 0.3, 0.78, 0.56, 0.25, 0.24, 0.24, 0.54, 0.22, 0.71, 0.88, 0.3, 1.18, 1.53, 1.0, 0.99, 0.28, 0.68, 0.64, 0.29, 0.61, 0.52, 0.12, 0.25, 0.46, 0.53, 0.31, 0.38, 0.31, 0.25, 0.09, 0.19, 0.5, 0.66, 0.06, 0.64, 0.43, 0.19, 0.31, 0.37, 0.49, 0.62, 0.58, 0.33, 1.07, 0.38, 0.22, 0.44, 0.38, 0.3, 0.51, 0.36, 0.34, 0.28, 0.41, 0.27, 0.39, 0.14, 0.66, 0.33, 0.46, 0.4, 0.3, 0.35, 0.23, 0.48, 0.28, 0.23, 0.41, 0.74, 0.35, 0.29, 0.22, 0.22, 1.05, 0.28, 0.47, 0.37, 0.1, 0.36, 0.24, 0.23, 0.09, 0.34, 0.57, 0.49, 0.42, 0.17, 0.14, 0.14, 0.4, 0.79, 0.38, 0.31, 0.39, 0.13, 1.36, 1.07, 0.51, 0.4, 0.5, 0.4, 0.39, 0.95, 0.38, 0.36, 0.4, 0.64, 0.65, 1.1, 0.83, 0.82, 0.22, 0.3, 0.79, 0.15, 0.55, 0.4, 0.32, 0.33, 0.35, 0.54, 0.28, 0.29, 0.68, 0.54, 0.36, 0.93, 0.38, 0.64, 0.4, 0.35, 0.29, 0.97, 0.31, 0.22, 0.35, 0.3, 0.22, 0.42, 0.6, 0.79, 2.64, 2.4, 0.94, 0.32, 0.6, 0.34, 0.76, 0.34, 0.36, 0.38, 0.73, 0.31, 0.68, 0.46, 0.18, 1.16, 2.24, 0.39, 0.31, 0.36, 0.39, 0.34, 0.37, 0.57, 0.33, 0.38, 0.54, 0.38, 0.38, 0.49, 0.33, 0.4, 0.45, 0.35, 0.47, 0.36, 0.4, 0.2, 0.35, 0.17, 0.18, 0.48, 0.22, 0.36, 0.28, 0.39, 0.46, 0.3, 0.35, 0.32, 0.37, 0.37, 0.37, 0.63, 0.68, 0.96, 0.65, 0.36, 0.4, 0.34, 0.42, 0.38, 0.16, 0.17, 0.41, 0.41, 0.42, 0.36, 0.37, 0.59]}],                        {\"template\": {\"data\": {\"bar\": [{\"error_x\": {\"color\": \"#2a3f5f\"}, \"error_y\": {\"color\": \"#2a3f5f\"}, \"marker\": {\"line\": {\"color\": \"#E5ECF6\", \"width\": 0.5}}, \"type\": \"bar\"}], \"barpolar\": [{\"marker\": {\"line\": {\"color\": \"#E5ECF6\", \"width\": 0.5}}, \"type\": \"barpolar\"}], \"carpet\": [{\"aaxis\": {\"endlinecolor\": \"#2a3f5f\", \"gridcolor\": \"white\", \"linecolor\": \"white\", \"minorgridcolor\": \"white\", \"startlinecolor\": \"#2a3f5f\"}, \"baxis\": {\"endlinecolor\": \"#2a3f5f\", \"gridcolor\": \"white\", \"linecolor\": \"white\", \"minorgridcolor\": \"white\", \"startlinecolor\": \"#2a3f5f\"}, \"type\": \"carpet\"}], \"choropleth\": [{\"colorbar\": {\"outlinewidth\": 0, \"ticks\": \"\"}, \"type\": \"choropleth\"}], \"contour\": [{\"colorbar\": {\"outlinewidth\": 0, \"ticks\": \"\"}, \"colorscale\": [[0.0, \"#0d0887\"], [0.1111111111111111, \"#46039f\"], [0.2222222222222222, \"#7201a8\"], [0.3333333333333333, \"#9c179e\"], [0.4444444444444444, \"#bd3786\"], [0.5555555555555556, \"#d8576b\"], [0.6666666666666666, \"#ed7953\"], [0.7777777777777778, \"#fb9f3a\"], [0.8888888888888888, \"#fdca26\"], [1.0, \"#f0f921\"]], \"type\": \"contour\"}], \"contourcarpet\": [{\"colorbar\": {\"outlinewidth\": 0, \"ticks\": \"\"}, \"type\": \"contourcarpet\"}], \"heatmap\": [{\"colorbar\": {\"outlinewidth\": 0, \"ticks\": \"\"}, \"colorscale\": [[0.0, \"#0d0887\"], [0.1111111111111111, \"#46039f\"], [0.2222222222222222, \"#7201a8\"], [0.3333333333333333, \"#9c179e\"], [0.4444444444444444, \"#bd3786\"], [0.5555555555555556, \"#d8576b\"], [0.6666666666666666, \"#ed7953\"], [0.7777777777777778, \"#fb9f3a\"], [0.8888888888888888, \"#fdca26\"], [1.0, \"#f0f921\"]], \"type\": \"heatmap\"}], \"heatmapgl\": [{\"colorbar\": {\"outlinewidth\": 0, \"ticks\": \"\"}, \"colorscale\": [[0.0, \"#0d0887\"], [0.1111111111111111, \"#46039f\"], [0.2222222222222222, \"#7201a8\"], [0.3333333333333333, \"#9c179e\"], [0.4444444444444444, \"#bd3786\"], [0.5555555555555556, \"#d8576b\"], [0.6666666666666666, \"#ed7953\"], [0.7777777777777778, \"#fb9f3a\"], [0.8888888888888888, \"#fdca26\"], [1.0, \"#f0f921\"]], \"type\": \"heatmapgl\"}], \"histogram\": [{\"marker\": {\"colorbar\": {\"outlinewidth\": 0, \"ticks\": \"\"}}, \"type\": \"histogram\"}], \"histogram2d\": [{\"colorbar\": {\"outlinewidth\": 0, \"ticks\": \"\"}, \"colorscale\": [[0.0, \"#0d0887\"], [0.1111111111111111, \"#46039f\"], [0.2222222222222222, \"#7201a8\"], [0.3333333333333333, \"#9c179e\"], [0.4444444444444444, \"#bd3786\"], [0.5555555555555556, \"#d8576b\"], [0.6666666666666666, \"#ed7953\"], [0.7777777777777778, \"#fb9f3a\"], [0.8888888888888888, \"#fdca26\"], [1.0, \"#f0f921\"]], \"type\": \"histogram2d\"}], \"histogram2dcontour\": [{\"colorbar\": {\"outlinewidth\": 0, \"ticks\": \"\"}, \"colorscale\": [[0.0, \"#0d0887\"], [0.1111111111111111, \"#46039f\"], [0.2222222222222222, \"#7201a8\"], [0.3333333333333333, \"#9c179e\"], [0.4444444444444444, \"#bd3786\"], [0.5555555555555556, \"#d8576b\"], [0.6666666666666666, \"#ed7953\"], [0.7777777777777778, \"#fb9f3a\"], [0.8888888888888888, \"#fdca26\"], [1.0, \"#f0f921\"]], \"type\": \"histogram2dcontour\"}], \"mesh3d\": [{\"colorbar\": {\"outlinewidth\": 0, \"ticks\": \"\"}, \"type\": \"mesh3d\"}], \"parcoords\": [{\"line\": {\"colorbar\": {\"outlinewidth\": 0, \"ticks\": \"\"}}, \"type\": \"parcoords\"}], \"pie\": [{\"automargin\": true, \"type\": \"pie\"}], \"scatter\": [{\"marker\": {\"colorbar\": {\"outlinewidth\": 0, \"ticks\": \"\"}}, \"type\": \"scatter\"}], \"scatter3d\": [{\"line\": {\"colorbar\": {\"outlinewidth\": 0, \"ticks\": \"\"}}, \"marker\": {\"colorbar\": {\"outlinewidth\": 0, \"ticks\": \"\"}}, \"type\": \"scatter3d\"}], \"scattercarpet\": [{\"marker\": {\"colorbar\": {\"outlinewidth\": 0, \"ticks\": \"\"}}, \"type\": \"scattercarpet\"}], \"scattergeo\": [{\"marker\": {\"colorbar\": {\"outlinewidth\": 0, \"ticks\": \"\"}}, \"type\": \"scattergeo\"}], \"scattergl\": [{\"marker\": {\"colorbar\": {\"outlinewidth\": 0, \"ticks\": \"\"}}, \"type\": \"scattergl\"}], \"scattermapbox\": [{\"marker\": {\"colorbar\": {\"outlinewidth\": 0, \"ticks\": \"\"}}, \"type\": \"scattermapbox\"}], \"scatterpolar\": [{\"marker\": {\"colorbar\": {\"outlinewidth\": 0, \"ticks\": \"\"}}, \"type\": \"scatterpolar\"}], \"scatterpolargl\": [{\"marker\": {\"colorbar\": {\"outlinewidth\": 0, \"ticks\": \"\"}}, \"type\": \"scatterpolargl\"}], \"scatterternary\": [{\"marker\": {\"colorbar\": {\"outlinewidth\": 0, \"ticks\": \"\"}}, \"type\": \"scatterternary\"}], \"surface\": [{\"colorbar\": {\"outlinewidth\": 0, \"ticks\": \"\"}, \"colorscale\": [[0.0, \"#0d0887\"], [0.1111111111111111, \"#46039f\"], [0.2222222222222222, \"#7201a8\"], [0.3333333333333333, \"#9c179e\"], [0.4444444444444444, \"#bd3786\"], [0.5555555555555556, \"#d8576b\"], [0.6666666666666666, \"#ed7953\"], [0.7777777777777778, \"#fb9f3a\"], [0.8888888888888888, \"#fdca26\"], [1.0, \"#f0f921\"]], \"type\": \"surface\"}], \"table\": [{\"cells\": {\"fill\": {\"color\": \"#EBF0F8\"}, \"line\": {\"color\": \"white\"}}, \"header\": {\"fill\": {\"color\": \"#C8D4E3\"}, \"line\": {\"color\": \"white\"}}, \"type\": \"table\"}]}, \"layout\": {\"annotationdefaults\": {\"arrowcolor\": \"#2a3f5f\", \"arrowhead\": 0, \"arrowwidth\": 1}, \"autotypenumbers\": \"strict\", \"coloraxis\": {\"colorbar\": {\"outlinewidth\": 0, \"ticks\": \"\"}}, \"colorscale\": {\"diverging\": [[0, \"#8e0152\"], [0.1, \"#c51b7d\"], [0.2, \"#de77ae\"], [0.3, \"#f1b6da\"], [0.4, \"#fde0ef\"], [0.5, \"#f7f7f7\"], [0.6, \"#e6f5d0\"], [0.7, \"#b8e186\"], [0.8, \"#7fbc41\"], [0.9, \"#4d9221\"], [1, \"#276419\"]], \"sequential\": [[0.0, \"#0d0887\"], [0.1111111111111111, \"#46039f\"], [0.2222222222222222, \"#7201a8\"], [0.3333333333333333, \"#9c179e\"], [0.4444444444444444, \"#bd3786\"], [0.5555555555555556, \"#d8576b\"], [0.6666666666666666, \"#ed7953\"], [0.7777777777777778, \"#fb9f3a\"], [0.8888888888888888, \"#fdca26\"], [1.0, \"#f0f921\"]], \"sequentialminus\": [[0.0, \"#0d0887\"], [0.1111111111111111, \"#46039f\"], [0.2222222222222222, \"#7201a8\"], [0.3333333333333333, \"#9c179e\"], [0.4444444444444444, \"#bd3786\"], [0.5555555555555556, \"#d8576b\"], [0.6666666666666666, \"#ed7953\"], [0.7777777777777778, \"#fb9f3a\"], [0.8888888888888888, \"#fdca26\"], [1.0, \"#f0f921\"]]}, \"colorway\": [\"#636efa\", \"#EF553B\", \"#00cc96\", \"#ab63fa\", \"#FFA15A\", \"#19d3f3\", \"#FF6692\", \"#B6E880\", \"#FF97FF\", \"#FECB52\"], \"font\": {\"color\": \"#2a3f5f\"}, \"geo\": {\"bgcolor\": \"white\", \"lakecolor\": \"white\", \"landcolor\": \"#E5ECF6\", \"showlakes\": true, \"showland\": true, \"subunitcolor\": \"white\"}, \"hoverlabel\": {\"align\": \"left\"}, \"hovermode\": \"closest\", \"mapbox\": {\"style\": \"light\"}, \"paper_bgcolor\": \"white\", \"plot_bgcolor\": \"#E5ECF6\", \"polar\": {\"angularaxis\": {\"gridcolor\": \"white\", \"linecolor\": \"white\", \"ticks\": \"\"}, \"bgcolor\": \"#E5ECF6\", \"radialaxis\": {\"gridcolor\": \"white\", \"linecolor\": \"white\", \"ticks\": \"\"}}, \"scene\": {\"xaxis\": {\"backgroundcolor\": \"#E5ECF6\", \"gridcolor\": \"white\", \"gridwidth\": 2, \"linecolor\": \"white\", \"showbackground\": true, \"ticks\": \"\", \"zerolinecolor\": \"white\"}, \"yaxis\": {\"backgroundcolor\": \"#E5ECF6\", \"gridcolor\": \"white\", \"gridwidth\": 2, \"linecolor\": \"white\", \"showbackground\": true, \"ticks\": \"\", \"zerolinecolor\": \"white\"}, \"zaxis\": {\"backgroundcolor\": \"#E5ECF6\", \"gridcolor\": \"white\", \"gridwidth\": 2, \"linecolor\": \"white\", \"showbackground\": true, \"ticks\": \"\", \"zerolinecolor\": \"white\"}}, \"shapedefaults\": {\"line\": {\"color\": \"#2a3f5f\"}}, \"ternary\": {\"aaxis\": {\"gridcolor\": \"white\", \"linecolor\": \"white\", \"ticks\": \"\"}, \"baxis\": {\"gridcolor\": \"white\", \"linecolor\": \"white\", \"ticks\": \"\"}, \"bgcolor\": \"#E5ECF6\", \"caxis\": {\"gridcolor\": \"white\", \"linecolor\": \"white\", \"ticks\": \"\"}}, \"title\": {\"x\": 0.05}, \"xaxis\": {\"automargin\": true, \"gridcolor\": \"white\", \"linecolor\": \"white\", \"ticks\": \"\", \"title\": {\"standoff\": 15}, \"zerolinecolor\": \"white\", \"zerolinewidth\": 2}, \"yaxis\": {\"automargin\": true, \"gridcolor\": \"white\", \"linecolor\": \"white\", \"ticks\": \"\", \"title\": {\"standoff\": 15}, \"zerolinecolor\": \"white\", \"zerolinewidth\": 2}}}, \"title\": {\"text\": \"Does Travel Time affect Mileage differently between the Two Fuel Types?\"}, \"xaxis\": {\"title\": {\"text\": \"Mileage (km/L)\"}}, \"yaxis\": {\"title\": {\"text\": \"Estimate Time (hrs)\"}}},                        {\"responsive\": true}                    ).then(function(){\n",
       "                            \n",
       "var gd = document.getElementById('da6cd3cb-7051-4e32-ba79-8f592a39d240');\n",
       "var x = new MutationObserver(function (mutations, observer) {{\n",
       "        var display = window.getComputedStyle(gd).display;\n",
       "        if (!display || display === 'none') {{\n",
       "            console.log([gd, 'removed!']);\n",
       "            Plotly.purge(gd);\n",
       "            observer.disconnect();\n",
       "        }}\n",
       "}});\n",
       "\n",
       "// Listen for the removal of the full notebook cells\n",
       "var notebookContainer = gd.closest('#notebook-container');\n",
       "if (notebookContainer) {{\n",
       "    x.observe(notebookContainer, {childList: true});\n",
       "}}\n",
       "\n",
       "// Listen for the clearing of the current output cell\n",
       "var outputEl = gd.closest('.output');\n",
       "if (outputEl) {{\n",
       "    x.observe(outputEl, {childList: true});\n",
       "}}\n",
       "\n",
       "                        })                };                });            </script>        </div>"
      ]
     },
     "metadata": {},
     "output_type": "display_data"
    }
   ],
   "source": [
    "fig = go.Figure()\n",
    "fig.add_trace(go.Scatter(x=e_mileage, y=df['estimate(hrs)'],\n",
    "                    mode='markers', name='E10'))\n",
    "fig.add_trace(go.Scatter(x=sp_mileage, y=df['estimate(hrs)'],\n",
    "                    mode='markers', name='SP98'))\n",
    "fig.update_layout(title='Does Travel Time affect Mileage differently between the Two Fuel Types?',\n",
    "                   xaxis_title='Mileage (km/L)',\n",
    "                   yaxis_title='Estimate Time (hrs)')\n",
    "fig.show()"
   ]
  },
  {
   "cell_type": "code",
   "execution_count": 207,
   "metadata": {},
   "outputs": [
    {
     "data": {
      "text/plain": [
       "4.471875"
      ]
     },
     "execution_count": 207,
     "metadata": {},
     "output_type": "execute_result"
    }
   ],
   "source": [
    "df_e['mileage(km/L)'].mean()"
   ]
  },
  {
   "cell_type": "code",
   "execution_count": 208,
   "metadata": {},
   "outputs": [
    {
     "data": {
      "text/plain": [
       "4.008684210526316"
      ]
     },
     "execution_count": 208,
     "metadata": {},
     "output_type": "execute_result"
    }
   ],
   "source": [
    "df_sp['mileage(km/L)'].mean()"
   ]
  },
  {
   "cell_type": "code",
   "execution_count": 219,
   "metadata": {},
   "outputs": [
    {
     "data": {
      "application/vnd.plotly.v1+json": {
       "config": {
        "plotlyServerURL": "https://plot.ly"
       },
       "data": [
        {
         "mode": "markers",
         "name": "E10",
         "type": "scatter",
         "x": [
          5.6,
          2.86,
          2.04,
          3.31,
          4.11,
          1.3,
          1.77,
          2.46,
          0.77,
          2.25,
          2.21,
          2.57,
          2.08,
          4.84,
          2.64,
          3.39,
          5.96,
          2.31,
          5.29,
          2.51,
          4.6,
          2.41,
          3.14,
          2.51,
          2.08,
          3.02,
          3.23,
          3.17,
          3.33,
          3.23,
          2.32,
          2.36,
          2.2,
          6.79,
          4.42,
          2.12,
          3.85,
          0.66,
          2.46,
          1.89,
          3.1,
          0.9,
          2.54,
          2.37,
          2.98,
          2.74,
          2.28,
          2.88,
          1.35,
          2.88,
          4.57,
          4.62,
          0.16,
          7.64,
          7.69,
          4.2,
          1.98,
          4.98,
          3.46,
          2.74,
          7.04,
          9.55,
          2.81,
          4.08,
          7.43,
          0.63,
          5.54,
          10.43,
          4.3,
          8.7,
          0.97,
          3.42,
          2.02,
          4.59,
          4.4,
          4.83,
          9.25,
          8.14,
          2.41,
          5.35,
          9.23,
          2.34,
          2.66,
          12.23,
          3.12,
          2.51,
          1.73,
          2.38,
          6.77,
          2.41,
          10.32,
          8.39,
          2.56,
          18.45,
          28.33,
          15.63,
          4.22,
          2.58,
          5.04,
          2.98,
          2.57,
          3.76,
          2.7,
          3.95,
          1.61,
          2.12,
          2.2,
          1.93,
          2.28,
          2.46,
          2.37,
          2.91,
          7.68,
          2.68,
          5.53,
          4.36,
          0.25,
          2.68,
          1.48,
          2.64,
          0.33,
          2.8,
          5.14,
          6.28,
          2.62,
          0.76,
          0.75,
          1.08,
          4,
          5.72,
          4.21,
          3.42,
          4.21,
          0.75,
          19.6,
          19.56,
          4.49,
          3.42,
          4.23,
          3.02,
          4.38,
          9.4,
          4.48,
          1.02,
          21.47,
          28.2,
          4.37,
          3.67,
          4.32,
          3.81,
          3.76,
          4,
          5.53,
          4.05,
          4.21,
          3.16,
          4,
          3.21,
          4.41,
          3.61
         ],
         "y": [
          28,
          12,
          11.2,
          12.9,
          18.5,
          8.3,
          7.8,
          12.3,
          4.9,
          11.9,
          12.4,
          11.8,
          12.3,
          24.7,
          12.4,
          17.3,
          33.4,
          11.8,
          25.9,
          11.8,
          25.3,
          14.2,
          17.9,
          11.8,
          12.3,
          12.4,
          18.4,
          18.4,
          18.3,
          18.4,
          12.3,
          11.8,
          12.3,
          32.6,
          19,
          12.1,
          20,
          4.9,
          11.8,
          12.3,
          12.4,
          4.5,
          11.7,
          10.2,
          5.4,
          2,
          14.2,
          16,
          11.8,
          27.3,
          11.8,
          10.6,
          11.6,
          13.1,
          6.1,
          153.5,
          11.8,
          12.3,
          12.4,
          12.3,
          2.9,
          2.1,
          9.8,
          6.8,
          12.4,
          12.4,
          11.8,
          12.3,
          14,
          11.8,
          12.3,
          2,
          13.9,
          9.7,
          11.6,
          14.2,
          11.8,
          24.8,
          12.4,
          34.8,
          14.2,
          5.2,
          10.5,
          12.3,
          11.8,
          12.3,
          13.2,
          13,
          12.9,
          13.9,
          11.8,
          12.2,
          12.5,
          12.4,
          11.8,
          11.8,
          12.5,
          15.7,
          12.9,
          6.4,
          5.3,
          26.2,
          18.8,
          4.9,
          12.4,
          22.9,
          162.7,
          4.9,
          11.8,
          16.6,
          12.4,
          15.9,
          5.1,
          22.4,
          31.1,
          4.9,
          11.8,
          22.9,
          12.4,
          12.9,
          11.8,
          12.2,
          24.8,
          14.2,
          11.8,
          12.2,
          24.7,
          6.8,
          17.3,
          11.8,
          15.9,
          5.1,
          16.1,
          11.8,
          4.2,
          17.4,
          23.5,
          11.8,
          12.3,
          16.1,
          11.8,
          12.3,
          12.4,
          7,
          11.8,
          20.1,
          20.8,
          1.7,
          35.9,
          36.9,
          16.8,
          9.9,
          22.9,
          17.3,
          11.8,
          36.6,
          44.9,
          11.8,
          21.6,
          39.4,
          5.1,
          26.6,
          53.2,
          18.9,
          43.5,
          6.1,
          16.4,
          12.3,
          21.1,
          21.1,
          22.7,
          44.4,
          35.8,
          11.8,
          26.2,
          40.6,
          12.4,
          14.1,
          58.7,
          16.2,
          12.3,
          12.3,
          12.4,
          31.8,
          12.3,
          51.6,
          38.6,
          12.3,
          81.2,
          130.3,
          67.2,
          43.7,
          12.1,
          56.1,
          39,
          11.8,
          38.5,
          28.2,
          2.9,
          6.1,
          19.6,
          22.2,
          13.6,
          12.6,
          8.7,
          7.9,
          2.4,
          4.9,
          18.1,
          25.9,
          1.3,
          14.1,
          13.4,
          6.4,
          12.9,
          12.1,
          15.7,
          16.2,
          12.8,
          19,
          29,
          12.1,
          12.3,
          24.8,
          12.9,
          11.8,
          31.4,
          19,
          13,
          11.8,
          13,
          11.8,
          27.1,
          5.2,
          19,
          12.4,
          25.2,
          14.3,
          11.8,
          16.9,
          12.4,
          17.4,
          9.2,
          12.3,
          13,
          11.8,
          13,
          12.3,
          12.3,
          12.5,
          31.5,
          11.8,
          24.9,
          17,
          2,
          11.8,
          7.4,
          12.4,
          2,
          14,
          25.7,
          24.5,
          11.8,
          4.1,
          4.2,
          4.2,
          16,
          22.9,
          16,
          15.4,
          16,
          4.2,
          101.9,
          93.9,
          25.7,
          16,
          16.1,
          16,
          16,
          24.7,
          16,
          15.4,
          16,
          32.1,
          25.9,
          48.6,
          37.2,
          28.8,
          6.7,
          7.4,
          17.3,
          6.6,
          14.3,
          13.3,
          8.3,
          12.7,
          16.5,
          20.6,
          16.3,
          18.7,
          36.5,
          19,
          16.6,
          29.9,
          16,
          21.1,
          16,
          11.9,
          10.1,
          31.9,
          18.7,
          10.8,
          19.8,
          11.3,
          11.5,
          21.4,
          32,
          41.9,
          211,
          216.1,
          25.5,
          16.6,
          25.9,
          16.5,
          22.1,
          16.6,
          15.4,
          16.5,
          15.4,
          18.4,
          39.5,
          21.5,
          4.8,
          100.9,
          129.7,
          16.6,
          15.4,
          16,
          16,
          15.4,
          16,
          21,
          15.4,
          16,
          16.1,
          16,
          15.4,
          17.2,
          16.6,
          18.3,
          16.1,
          16,
          16.3,
          16,
          18.3,
          4.5,
          17,
          6.1,
          6.1,
          17.3,
          6,
          16,
          15.4,
          15.4,
          16,
          15.4,
          16.6,
          15.4,
          16,
          15.4,
          16,
          20.9,
          32.1,
          15.3,
          28.5,
          11.9,
          14.5,
          16.6,
          16.2,
          16.7,
          8.3,
          5.5,
          13.6,
          16,
          16.1,
          16,
          15.4,
          14.7
         ]
        },
        {
         "mode": "markers",
         "name": "SP98",
         "type": "scatter",
         "x": [
          1.64,
          0.2,
          2.78,
          3.27,
          2.41,
          5.81,
          2.31,
          2.16,
          2.76,
          2.15,
          0.95,
          31.33,
          2.41,
          1.98,
          2.95,
          2.16,
          0.37,
          0.17,
          1.69,
          1.28,
          2.3,
          2.64,
          2.57,
          2.28,
          3.26,
          2.62,
          2.37,
          0.32,
          2.73,
          2.49,
          2.32,
          2.63,
          2.62,
          4.86,
          2.64,
          8.7,
          2.63,
          1.16,
          2.92,
          2.37,
          2.41,
          1.98,
          3.07,
          2.6,
          2.53,
          2.48,
          2.74,
          2.1,
          3.12,
          2.64,
          2,
          2.23,
          2.98,
          2.96,
          2.26,
          1.45,
          1.29,
          4.52,
          3.76,
          0.71,
          2.3,
          4.32,
          29.58,
          0.75,
          2.51,
          3.25,
          2.18,
          2.94,
          0.59,
          4.57,
          6.62,
          0.78,
          2.31,
          3.82,
          2.7,
          2.22,
          2.31,
          2.1,
          5.39,
          2.54,
          2.57,
          1.94,
          4.49,
          1.58,
          3.09,
          2.74,
          2.79,
          0.8,
          3.58,
          2.62,
          0.7,
          3.41,
          3.92,
          2.62,
          2.02,
          9.3,
          2.88,
          11.69,
          9.51,
          2.62,
          8.02,
          6.13,
          0.39,
          1.09,
          4,
          5.84,
          3.02,
          3.07,
          1.64,
          1.68,
          0.27,
          0.78,
          5.03,
          7,
          0.11,
          2.82,
          2.44,
          1.36,
          2.87,
          2.75,
          3.83,
          3.68,
          2.78,
          4.32,
          7.25,
          2.42,
          2.37,
          6.2,
          2.53,
          2.62,
          6.83,
          3.73,
          2.28,
          2.46,
          2.1,
          2.36,
          5.42,
          1.13,
          5.24,
          3.9,
          3.58,
          3.64,
          3.56,
          5.49,
          4.1,
          3.35,
          4.21,
          7.13,
          5.89,
          11.3,
          9.3,
          7.38,
          1.34,
          1.8,
          4.22,
          1.18,
          3.49,
          2.89,
          1.69,
          2.82,
          4.02,
          5.02,
          3.62,
          4.45,
          9.36,
          3.8,
          3.77,
          6.64,
          4.21,
          4.14,
          4.1,
          2.25,
          2.4,
          7.42,
          4.68,
          2.3,
          4.95,
          2.63,
          2.17,
          4.12,
          6.53,
          8.91,
          45.87,
          40.77,
          7.08,
          3.95,
          6.32,
          4.12,
          5.67,
          4.26,
          3.35,
          3.9,
          4.08,
          4.32,
          4.26,
          0.87,
          4.05,
          1.22,
          1.22,
          4.12,
          1.25,
          3.9,
          3.14,
          3.58,
          4.1,
          3.42,
          4.05,
          3.08,
          4,
          3.42,
          4.44,
          5.1,
          8.23,
          2.32,
          7.12,
          3.22,
          3.37,
          4.05,
          3.68,
          4.39,
          1.66,
          1.49,
          3.68,
          4.32,
          3.74,
          4.21,
          3.35,
          2.94
         ],
         "y": [
          28,
          12,
          11.2,
          12.9,
          18.5,
          8.3,
          7.8,
          12.3,
          4.9,
          11.9,
          12.4,
          11.8,
          12.3,
          24.7,
          12.4,
          17.3,
          33.4,
          11.8,
          25.9,
          11.8,
          25.3,
          14.2,
          17.9,
          11.8,
          12.3,
          12.4,
          18.4,
          18.4,
          18.3,
          18.4,
          12.3,
          11.8,
          12.3,
          32.6,
          19,
          12.1,
          20,
          4.9,
          11.8,
          12.3,
          12.4,
          4.5,
          11.7,
          10.2,
          5.4,
          2,
          14.2,
          16,
          11.8,
          27.3,
          11.8,
          10.6,
          11.6,
          13.1,
          6.1,
          153.5,
          11.8,
          12.3,
          12.4,
          12.3,
          2.9,
          2.1,
          9.8,
          6.8,
          12.4,
          12.4,
          11.8,
          12.3,
          14,
          11.8,
          12.3,
          2,
          13.9,
          9.7,
          11.6,
          14.2,
          11.8,
          24.8,
          12.4,
          34.8,
          14.2,
          5.2,
          10.5,
          12.3,
          11.8,
          12.3,
          13.2,
          13,
          12.9,
          13.9,
          11.8,
          12.2,
          12.5,
          12.4,
          11.8,
          11.8,
          12.5,
          15.7,
          12.9,
          6.4,
          5.3,
          26.2,
          18.8,
          4.9,
          12.4,
          22.9,
          162.7,
          4.9,
          11.8,
          16.6,
          12.4,
          15.9,
          5.1,
          22.4,
          31.1,
          4.9,
          11.8,
          22.9,
          12.4,
          12.9,
          11.8,
          12.2,
          24.8,
          14.2,
          11.8,
          12.2,
          24.7,
          6.8,
          17.3,
          11.8,
          15.9,
          5.1,
          16.1,
          11.8,
          4.2,
          17.4,
          23.5,
          11.8,
          12.3,
          16.1,
          11.8,
          12.3,
          12.4,
          7,
          11.8,
          20.1,
          20.8,
          1.7,
          35.9,
          36.9,
          16.8,
          9.9,
          22.9,
          17.3,
          11.8,
          36.6,
          44.9,
          11.8,
          21.6,
          39.4,
          5.1,
          26.6,
          53.2,
          18.9,
          43.5,
          6.1,
          16.4,
          12.3,
          21.1,
          21.1,
          22.7,
          44.4,
          35.8,
          11.8,
          26.2,
          40.6,
          12.4,
          14.1,
          58.7,
          16.2,
          12.3,
          12.3,
          12.4,
          31.8,
          12.3,
          51.6,
          38.6,
          12.3,
          81.2,
          130.3,
          67.2,
          43.7,
          12.1,
          56.1,
          39,
          11.8,
          38.5,
          28.2,
          2.9,
          6.1,
          19.6,
          22.2,
          13.6,
          12.6,
          8.7,
          7.9,
          2.4,
          4.9,
          18.1,
          25.9,
          1.3,
          14.1,
          13.4,
          6.4,
          12.9,
          12.1,
          15.7,
          16.2,
          12.8,
          19,
          29,
          12.1,
          12.3,
          24.8,
          12.9,
          11.8,
          31.4,
          19,
          13,
          11.8,
          13,
          11.8,
          27.1,
          5.2,
          19,
          12.4,
          25.2,
          14.3,
          11.8,
          16.9,
          12.4,
          17.4,
          9.2,
          12.3,
          13,
          11.8,
          13,
          12.3,
          12.3,
          12.5,
          31.5,
          11.8,
          24.9,
          17,
          2,
          11.8,
          7.4,
          12.4,
          2,
          14,
          25.7,
          24.5,
          11.8,
          4.1,
          4.2,
          4.2,
          16,
          22.9,
          16,
          15.4,
          16,
          4.2,
          101.9,
          93.9,
          25.7,
          16,
          16.1,
          16,
          16,
          24.7,
          16,
          15.4,
          16,
          32.1,
          25.9,
          48.6,
          37.2,
          28.8,
          6.7,
          7.4,
          17.3,
          6.6,
          14.3,
          13.3,
          8.3,
          12.7,
          16.5,
          20.6,
          16.3,
          18.7,
          36.5,
          19,
          16.6,
          29.9,
          16,
          21.1,
          16,
          11.9,
          10.1,
          31.9,
          18.7,
          10.8,
          19.8,
          11.3,
          11.5,
          21.4,
          32,
          41.9,
          211,
          216.1,
          25.5,
          16.6,
          25.9,
          16.5,
          22.1,
          16.6,
          15.4,
          16.5,
          15.4,
          18.4,
          39.5,
          21.5,
          4.8,
          100.9,
          129.7,
          16.6,
          15.4,
          16,
          16,
          15.4,
          16,
          21,
          15.4,
          16,
          16.1,
          16,
          15.4,
          17.2,
          16.6,
          18.3,
          16.1,
          16,
          16.3,
          16,
          18.3,
          4.5,
          17,
          6.1,
          6.1,
          17.3,
          6,
          16,
          15.4,
          15.4,
          16,
          15.4,
          16.6,
          15.4,
          16,
          15.4,
          16,
          20.9,
          32.1,
          15.3,
          28.5,
          11.9,
          14.5,
          16.6,
          16.2,
          16.7,
          8.3,
          5.5,
          13.6,
          16,
          16.1,
          16,
          15.4,
          14.7
         ]
        }
       ],
       "layout": {
        "template": {
         "data": {
          "bar": [
           {
            "error_x": {
             "color": "#2a3f5f"
            },
            "error_y": {
             "color": "#2a3f5f"
            },
            "marker": {
             "line": {
              "color": "#E5ECF6",
              "width": 0.5
             }
            },
            "type": "bar"
           }
          ],
          "barpolar": [
           {
            "marker": {
             "line": {
              "color": "#E5ECF6",
              "width": 0.5
             }
            },
            "type": "barpolar"
           }
          ],
          "carpet": [
           {
            "aaxis": {
             "endlinecolor": "#2a3f5f",
             "gridcolor": "white",
             "linecolor": "white",
             "minorgridcolor": "white",
             "startlinecolor": "#2a3f5f"
            },
            "baxis": {
             "endlinecolor": "#2a3f5f",
             "gridcolor": "white",
             "linecolor": "white",
             "minorgridcolor": "white",
             "startlinecolor": "#2a3f5f"
            },
            "type": "carpet"
           }
          ],
          "choropleth": [
           {
            "colorbar": {
             "outlinewidth": 0,
             "ticks": ""
            },
            "type": "choropleth"
           }
          ],
          "contour": [
           {
            "colorbar": {
             "outlinewidth": 0,
             "ticks": ""
            },
            "colorscale": [
             [
              0,
              "#0d0887"
             ],
             [
              0.1111111111111111,
              "#46039f"
             ],
             [
              0.2222222222222222,
              "#7201a8"
             ],
             [
              0.3333333333333333,
              "#9c179e"
             ],
             [
              0.4444444444444444,
              "#bd3786"
             ],
             [
              0.5555555555555556,
              "#d8576b"
             ],
             [
              0.6666666666666666,
              "#ed7953"
             ],
             [
              0.7777777777777778,
              "#fb9f3a"
             ],
             [
              0.8888888888888888,
              "#fdca26"
             ],
             [
              1,
              "#f0f921"
             ]
            ],
            "type": "contour"
           }
          ],
          "contourcarpet": [
           {
            "colorbar": {
             "outlinewidth": 0,
             "ticks": ""
            },
            "type": "contourcarpet"
           }
          ],
          "heatmap": [
           {
            "colorbar": {
             "outlinewidth": 0,
             "ticks": ""
            },
            "colorscale": [
             [
              0,
              "#0d0887"
             ],
             [
              0.1111111111111111,
              "#46039f"
             ],
             [
              0.2222222222222222,
              "#7201a8"
             ],
             [
              0.3333333333333333,
              "#9c179e"
             ],
             [
              0.4444444444444444,
              "#bd3786"
             ],
             [
              0.5555555555555556,
              "#d8576b"
             ],
             [
              0.6666666666666666,
              "#ed7953"
             ],
             [
              0.7777777777777778,
              "#fb9f3a"
             ],
             [
              0.8888888888888888,
              "#fdca26"
             ],
             [
              1,
              "#f0f921"
             ]
            ],
            "type": "heatmap"
           }
          ],
          "heatmapgl": [
           {
            "colorbar": {
             "outlinewidth": 0,
             "ticks": ""
            },
            "colorscale": [
             [
              0,
              "#0d0887"
             ],
             [
              0.1111111111111111,
              "#46039f"
             ],
             [
              0.2222222222222222,
              "#7201a8"
             ],
             [
              0.3333333333333333,
              "#9c179e"
             ],
             [
              0.4444444444444444,
              "#bd3786"
             ],
             [
              0.5555555555555556,
              "#d8576b"
             ],
             [
              0.6666666666666666,
              "#ed7953"
             ],
             [
              0.7777777777777778,
              "#fb9f3a"
             ],
             [
              0.8888888888888888,
              "#fdca26"
             ],
             [
              1,
              "#f0f921"
             ]
            ],
            "type": "heatmapgl"
           }
          ],
          "histogram": [
           {
            "marker": {
             "colorbar": {
              "outlinewidth": 0,
              "ticks": ""
             }
            },
            "type": "histogram"
           }
          ],
          "histogram2d": [
           {
            "colorbar": {
             "outlinewidth": 0,
             "ticks": ""
            },
            "colorscale": [
             [
              0,
              "#0d0887"
             ],
             [
              0.1111111111111111,
              "#46039f"
             ],
             [
              0.2222222222222222,
              "#7201a8"
             ],
             [
              0.3333333333333333,
              "#9c179e"
             ],
             [
              0.4444444444444444,
              "#bd3786"
             ],
             [
              0.5555555555555556,
              "#d8576b"
             ],
             [
              0.6666666666666666,
              "#ed7953"
             ],
             [
              0.7777777777777778,
              "#fb9f3a"
             ],
             [
              0.8888888888888888,
              "#fdca26"
             ],
             [
              1,
              "#f0f921"
             ]
            ],
            "type": "histogram2d"
           }
          ],
          "histogram2dcontour": [
           {
            "colorbar": {
             "outlinewidth": 0,
             "ticks": ""
            },
            "colorscale": [
             [
              0,
              "#0d0887"
             ],
             [
              0.1111111111111111,
              "#46039f"
             ],
             [
              0.2222222222222222,
              "#7201a8"
             ],
             [
              0.3333333333333333,
              "#9c179e"
             ],
             [
              0.4444444444444444,
              "#bd3786"
             ],
             [
              0.5555555555555556,
              "#d8576b"
             ],
             [
              0.6666666666666666,
              "#ed7953"
             ],
             [
              0.7777777777777778,
              "#fb9f3a"
             ],
             [
              0.8888888888888888,
              "#fdca26"
             ],
             [
              1,
              "#f0f921"
             ]
            ],
            "type": "histogram2dcontour"
           }
          ],
          "mesh3d": [
           {
            "colorbar": {
             "outlinewidth": 0,
             "ticks": ""
            },
            "type": "mesh3d"
           }
          ],
          "parcoords": [
           {
            "line": {
             "colorbar": {
              "outlinewidth": 0,
              "ticks": ""
             }
            },
            "type": "parcoords"
           }
          ],
          "pie": [
           {
            "automargin": true,
            "type": "pie"
           }
          ],
          "scatter": [
           {
            "marker": {
             "colorbar": {
              "outlinewidth": 0,
              "ticks": ""
             }
            },
            "type": "scatter"
           }
          ],
          "scatter3d": [
           {
            "line": {
             "colorbar": {
              "outlinewidth": 0,
              "ticks": ""
             }
            },
            "marker": {
             "colorbar": {
              "outlinewidth": 0,
              "ticks": ""
             }
            },
            "type": "scatter3d"
           }
          ],
          "scattercarpet": [
           {
            "marker": {
             "colorbar": {
              "outlinewidth": 0,
              "ticks": ""
             }
            },
            "type": "scattercarpet"
           }
          ],
          "scattergeo": [
           {
            "marker": {
             "colorbar": {
              "outlinewidth": 0,
              "ticks": ""
             }
            },
            "type": "scattergeo"
           }
          ],
          "scattergl": [
           {
            "marker": {
             "colorbar": {
              "outlinewidth": 0,
              "ticks": ""
             }
            },
            "type": "scattergl"
           }
          ],
          "scattermapbox": [
           {
            "marker": {
             "colorbar": {
              "outlinewidth": 0,
              "ticks": ""
             }
            },
            "type": "scattermapbox"
           }
          ],
          "scatterpolar": [
           {
            "marker": {
             "colorbar": {
              "outlinewidth": 0,
              "ticks": ""
             }
            },
            "type": "scatterpolar"
           }
          ],
          "scatterpolargl": [
           {
            "marker": {
             "colorbar": {
              "outlinewidth": 0,
              "ticks": ""
             }
            },
            "type": "scatterpolargl"
           }
          ],
          "scatterternary": [
           {
            "marker": {
             "colorbar": {
              "outlinewidth": 0,
              "ticks": ""
             }
            },
            "type": "scatterternary"
           }
          ],
          "surface": [
           {
            "colorbar": {
             "outlinewidth": 0,
             "ticks": ""
            },
            "colorscale": [
             [
              0,
              "#0d0887"
             ],
             [
              0.1111111111111111,
              "#46039f"
             ],
             [
              0.2222222222222222,
              "#7201a8"
             ],
             [
              0.3333333333333333,
              "#9c179e"
             ],
             [
              0.4444444444444444,
              "#bd3786"
             ],
             [
              0.5555555555555556,
              "#d8576b"
             ],
             [
              0.6666666666666666,
              "#ed7953"
             ],
             [
              0.7777777777777778,
              "#fb9f3a"
             ],
             [
              0.8888888888888888,
              "#fdca26"
             ],
             [
              1,
              "#f0f921"
             ]
            ],
            "type": "surface"
           }
          ],
          "table": [
           {
            "cells": {
             "fill": {
              "color": "#EBF0F8"
             },
             "line": {
              "color": "white"
             }
            },
            "header": {
             "fill": {
              "color": "#C8D4E3"
             },
             "line": {
              "color": "white"
             }
            },
            "type": "table"
           }
          ]
         },
         "layout": {
          "annotationdefaults": {
           "arrowcolor": "#2a3f5f",
           "arrowhead": 0,
           "arrowwidth": 1
          },
          "autotypenumbers": "strict",
          "coloraxis": {
           "colorbar": {
            "outlinewidth": 0,
            "ticks": ""
           }
          },
          "colorscale": {
           "diverging": [
            [
             0,
             "#8e0152"
            ],
            [
             0.1,
             "#c51b7d"
            ],
            [
             0.2,
             "#de77ae"
            ],
            [
             0.3,
             "#f1b6da"
            ],
            [
             0.4,
             "#fde0ef"
            ],
            [
             0.5,
             "#f7f7f7"
            ],
            [
             0.6,
             "#e6f5d0"
            ],
            [
             0.7,
             "#b8e186"
            ],
            [
             0.8,
             "#7fbc41"
            ],
            [
             0.9,
             "#4d9221"
            ],
            [
             1,
             "#276419"
            ]
           ],
           "sequential": [
            [
             0,
             "#0d0887"
            ],
            [
             0.1111111111111111,
             "#46039f"
            ],
            [
             0.2222222222222222,
             "#7201a8"
            ],
            [
             0.3333333333333333,
             "#9c179e"
            ],
            [
             0.4444444444444444,
             "#bd3786"
            ],
            [
             0.5555555555555556,
             "#d8576b"
            ],
            [
             0.6666666666666666,
             "#ed7953"
            ],
            [
             0.7777777777777778,
             "#fb9f3a"
            ],
            [
             0.8888888888888888,
             "#fdca26"
            ],
            [
             1,
             "#f0f921"
            ]
           ],
           "sequentialminus": [
            [
             0,
             "#0d0887"
            ],
            [
             0.1111111111111111,
             "#46039f"
            ],
            [
             0.2222222222222222,
             "#7201a8"
            ],
            [
             0.3333333333333333,
             "#9c179e"
            ],
            [
             0.4444444444444444,
             "#bd3786"
            ],
            [
             0.5555555555555556,
             "#d8576b"
            ],
            [
             0.6666666666666666,
             "#ed7953"
            ],
            [
             0.7777777777777778,
             "#fb9f3a"
            ],
            [
             0.8888888888888888,
             "#fdca26"
            ],
            [
             1,
             "#f0f921"
            ]
           ]
          },
          "colorway": [
           "#636efa",
           "#EF553B",
           "#00cc96",
           "#ab63fa",
           "#FFA15A",
           "#19d3f3",
           "#FF6692",
           "#B6E880",
           "#FF97FF",
           "#FECB52"
          ],
          "font": {
           "color": "#2a3f5f"
          },
          "geo": {
           "bgcolor": "white",
           "lakecolor": "white",
           "landcolor": "#E5ECF6",
           "showlakes": true,
           "showland": true,
           "subunitcolor": "white"
          },
          "hoverlabel": {
           "align": "left"
          },
          "hovermode": "closest",
          "mapbox": {
           "style": "light"
          },
          "paper_bgcolor": "white",
          "plot_bgcolor": "#E5ECF6",
          "polar": {
           "angularaxis": {
            "gridcolor": "white",
            "linecolor": "white",
            "ticks": ""
           },
           "bgcolor": "#E5ECF6",
           "radialaxis": {
            "gridcolor": "white",
            "linecolor": "white",
            "ticks": ""
           }
          },
          "scene": {
           "xaxis": {
            "backgroundcolor": "#E5ECF6",
            "gridcolor": "white",
            "gridwidth": 2,
            "linecolor": "white",
            "showbackground": true,
            "ticks": "",
            "zerolinecolor": "white"
           },
           "yaxis": {
            "backgroundcolor": "#E5ECF6",
            "gridcolor": "white",
            "gridwidth": 2,
            "linecolor": "white",
            "showbackground": true,
            "ticks": "",
            "zerolinecolor": "white"
           },
           "zaxis": {
            "backgroundcolor": "#E5ECF6",
            "gridcolor": "white",
            "gridwidth": 2,
            "linecolor": "white",
            "showbackground": true,
            "ticks": "",
            "zerolinecolor": "white"
           }
          },
          "shapedefaults": {
           "line": {
            "color": "#2a3f5f"
           }
          },
          "ternary": {
           "aaxis": {
            "gridcolor": "white",
            "linecolor": "white",
            "ticks": ""
           },
           "baxis": {
            "gridcolor": "white",
            "linecolor": "white",
            "ticks": ""
           },
           "bgcolor": "#E5ECF6",
           "caxis": {
            "gridcolor": "white",
            "linecolor": "white",
            "ticks": ""
           }
          },
          "title": {
           "x": 0.05
          },
          "xaxis": {
           "automargin": true,
           "gridcolor": "white",
           "linecolor": "white",
           "ticks": "",
           "title": {
            "standoff": 15
           },
           "zerolinecolor": "white",
           "zerolinewidth": 2
          },
          "yaxis": {
           "automargin": true,
           "gridcolor": "white",
           "linecolor": "white",
           "ticks": "",
           "title": {
            "standoff": 15
           },
           "zerolinecolor": "white",
           "zerolinewidth": 2
          }
         }
        },
        "title": {
         "text": "Does Distance Travelled affect Mileage differently between the Two Fuel Types?"
        },
        "xaxis": {
         "title": {
          "text": "Mileage (km/L)"
         }
        },
        "yaxis": {
         "title": {
          "text": "Estimate Time (hrs)"
         }
        }
       }
      },
      "text/html": [
       "<div>                            <div id=\"3691975a-826d-4079-b12b-2b63f9c5d794\" class=\"plotly-graph-div\" style=\"height:525px; width:100%;\"></div>            <script type=\"text/javascript\">                require([\"plotly\"], function(Plotly) {                    window.PLOTLYENV=window.PLOTLYENV || {};                                    if (document.getElementById(\"3691975a-826d-4079-b12b-2b63f9c5d794\")) {                    Plotly.newPlot(                        \"3691975a-826d-4079-b12b-2b63f9c5d794\",                        [{\"mode\": \"markers\", \"name\": \"E10\", \"type\": \"scatter\", \"x\": [5.6, 2.86, 2.04, 3.31, 4.11, 1.3, 1.77, 2.46, 0.77, 2.25, 2.21, 2.57, 2.08, 4.84, 2.64, 3.39, 5.96, 2.31, 5.29, 2.51, 4.6, 2.41, 3.14, 2.51, 2.08, 3.02, 3.23, 3.17, 3.33, 3.23, 2.32, 2.36, 2.2, 6.79, 4.42, 2.12, 3.85, 0.66, 2.46, 1.89, 3.1, 0.9, 2.54, 2.37, 2.98, 2.74, 2.28, 2.88, 1.35, 2.88, 4.57, 4.62, 0.16, 7.64, 7.69, 4.2, 1.98, 4.98, 3.46, 2.74, 7.04, 9.55, 2.81, 4.08, 7.43, 0.63, 5.54, 10.43, 4.3, 8.7, 0.97, 3.42, 2.02, 4.59, 4.4, 4.83, 9.25, 8.14, 2.41, 5.35, 9.23, 2.34, 2.66, 12.23, 3.12, 2.51, 1.73, 2.38, 6.77, 2.41, 10.32, 8.39, 2.56, 18.45, 28.33, 15.63, 4.22, 2.58, 5.04, 2.98, 2.57, 3.76, 2.7, 3.95, 1.61, 2.12, 2.2, 1.93, 2.28, 2.46, 2.37, 2.91, 7.68, 2.68, 5.53, 4.36, 0.25, 2.68, 1.48, 2.64, 0.33, 2.8, 5.14, 6.28, 2.62, 0.76, 0.75, 1.08, 4.0, 5.72, 4.21, 3.42, 4.21, 0.75, 19.6, 19.56, 4.49, 3.42, 4.23, 3.02, 4.38, 9.4, 4.48, 1.02, 21.47, 28.2, 4.37, 3.67, 4.32, 3.81, 3.76, 4.0, 5.53, 4.05, 4.21, 3.16, 4.0, 3.21, 4.41, 3.61], \"y\": [28.0, 12.0, 11.2, 12.9, 18.5, 8.3, 7.8, 12.3, 4.9, 11.9, 12.4, 11.8, 12.3, 24.7, 12.4, 17.3, 33.4, 11.8, 25.9, 11.8, 25.3, 14.2, 17.9, 11.8, 12.3, 12.4, 18.4, 18.4, 18.3, 18.4, 12.3, 11.8, 12.3, 32.6, 19.0, 12.1, 20.0, 4.9, 11.8, 12.3, 12.4, 4.5, 11.7, 10.2, 5.4, 2.0, 14.2, 16.0, 11.8, 27.3, 11.8, 10.6, 11.6, 13.1, 6.1, 153.5, 11.8, 12.3, 12.4, 12.3, 2.9, 2.1, 9.8, 6.8, 12.4, 12.4, 11.8, 12.3, 14.0, 11.8, 12.3, 2.0, 13.9, 9.7, 11.6, 14.2, 11.8, 24.8, 12.4, 34.8, 14.2, 5.2, 10.5, 12.3, 11.8, 12.3, 13.2, 13.0, 12.9, 13.9, 11.8, 12.2, 12.5, 12.4, 11.8, 11.8, 12.5, 15.7, 12.9, 6.4, 5.3, 26.2, 18.8, 4.9, 12.4, 22.9, 162.7, 4.9, 11.8, 16.6, 12.4, 15.9, 5.1, 22.4, 31.1, 4.9, 11.8, 22.9, 12.4, 12.9, 11.8, 12.2, 24.8, 14.2, 11.8, 12.2, 24.7, 6.8, 17.3, 11.8, 15.9, 5.1, 16.1, 11.8, 4.2, 17.4, 23.5, 11.8, 12.3, 16.1, 11.8, 12.3, 12.4, 7.0, 11.8, 20.1, 20.8, 1.7, 35.9, 36.9, 16.8, 9.9, 22.9, 17.3, 11.8, 36.6, 44.9, 11.8, 21.6, 39.4, 5.1, 26.6, 53.2, 18.9, 43.5, 6.1, 16.4, 12.3, 21.1, 21.1, 22.7, 44.4, 35.8, 11.8, 26.2, 40.6, 12.4, 14.1, 58.7, 16.2, 12.3, 12.3, 12.4, 31.8, 12.3, 51.6, 38.6, 12.3, 81.2, 130.3, 67.2, 43.7, 12.1, 56.1, 39.0, 11.8, 38.5, 28.2, 2.9, 6.1, 19.6, 22.2, 13.6, 12.6, 8.7, 7.9, 2.4, 4.9, 18.1, 25.9, 1.3, 14.1, 13.4, 6.4, 12.9, 12.1, 15.7, 16.2, 12.8, 19.0, 29.0, 12.1, 12.3, 24.8, 12.9, 11.8, 31.4, 19.0, 13.0, 11.8, 13.0, 11.8, 27.1, 5.2, 19.0, 12.4, 25.2, 14.3, 11.8, 16.9, 12.4, 17.4, 9.2, 12.3, 13.0, 11.8, 13.0, 12.3, 12.3, 12.5, 31.5, 11.8, 24.9, 17.0, 2.0, 11.8, 7.4, 12.4, 2.0, 14.0, 25.7, 24.5, 11.8, 4.1, 4.2, 4.2, 16.0, 22.9, 16.0, 15.4, 16.0, 4.2, 101.9, 93.9, 25.7, 16.0, 16.1, 16.0, 16.0, 24.7, 16.0, 15.4, 16.0, 32.1, 25.9, 48.6, 37.2, 28.8, 6.7, 7.4, 17.3, 6.6, 14.3, 13.3, 8.3, 12.7, 16.5, 20.6, 16.3, 18.7, 36.5, 19.0, 16.6, 29.9, 16.0, 21.1, 16.0, 11.9, 10.1, 31.9, 18.7, 10.8, 19.8, 11.3, 11.5, 21.4, 32.0, 41.9, 211.0, 216.1, 25.5, 16.6, 25.9, 16.5, 22.1, 16.6, 15.4, 16.5, 15.4, 18.4, 39.5, 21.5, 4.8, 100.9, 129.7, 16.6, 15.4, 16.0, 16.0, 15.4, 16.0, 21.0, 15.4, 16.0, 16.1, 16.0, 15.4, 17.2, 16.6, 18.3, 16.1, 16.0, 16.3, 16.0, 18.3, 4.5, 17.0, 6.1, 6.1, 17.3, 6.0, 16.0, 15.4, 15.4, 16.0, 15.4, 16.6, 15.4, 16.0, 15.4, 16.0, 20.9, 32.1, 15.3, 28.5, 11.9, 14.5, 16.6, 16.2, 16.7, 8.3, 5.5, 13.6, 16.0, 16.1, 16.0, 15.4, 14.7]}, {\"mode\": \"markers\", \"name\": \"SP98\", \"type\": \"scatter\", \"x\": [1.64, 0.2, 2.78, 3.27, 2.41, 5.81, 2.31, 2.16, 2.76, 2.15, 0.95, 31.33, 2.41, 1.98, 2.95, 2.16, 0.37, 0.17, 1.69, 1.28, 2.3, 2.64, 2.57, 2.28, 3.26, 2.62, 2.37, 0.32, 2.73, 2.49, 2.32, 2.63, 2.62, 4.86, 2.64, 8.7, 2.63, 1.16, 2.92, 2.37, 2.41, 1.98, 3.07, 2.6, 2.53, 2.48, 2.74, 2.1, 3.12, 2.64, 2.0, 2.23, 2.98, 2.96, 2.26, 1.45, 1.29, 4.52, 3.76, 0.71, 2.3, 4.32, 29.58, 0.75, 2.51, 3.25, 2.18, 2.94, 0.59, 4.57, 6.62, 0.78, 2.31, 3.82, 2.7, 2.22, 2.31, 2.1, 5.39, 2.54, 2.57, 1.94, 4.49, 1.58, 3.09, 2.74, 2.79, 0.8, 3.58, 2.62, 0.7, 3.41, 3.92, 2.62, 2.02, 9.3, 2.88, 11.69, 9.51, 2.62, 8.02, 6.13, 0.39, 1.09, 4.0, 5.84, 3.02, 3.07, 1.64, 1.68, 0.27, 0.78, 5.03, 7.0, 0.11, 2.82, 2.44, 1.36, 2.87, 2.75, 3.83, 3.68, 2.78, 4.32, 7.25, 2.42, 2.37, 6.2, 2.53, 2.62, 6.83, 3.73, 2.28, 2.46, 2.1, 2.36, 5.42, 1.13, 5.24, 3.9, 3.58, 3.64, 3.56, 5.49, 4.1, 3.35, 4.21, 7.13, 5.89, 11.3, 9.3, 7.38, 1.34, 1.8, 4.22, 1.18, 3.49, 2.89, 1.69, 2.82, 4.02, 5.02, 3.62, 4.45, 9.36, 3.8, 3.77, 6.64, 4.21, 4.14, 4.1, 2.25, 2.4, 7.42, 4.68, 2.3, 4.95, 2.63, 2.17, 4.12, 6.53, 8.91, 45.87, 40.77, 7.08, 3.95, 6.32, 4.12, 5.67, 4.26, 3.35, 3.9, 4.08, 4.32, 4.26, 0.87, 4.05, 1.22, 1.22, 4.12, 1.25, 3.9, 3.14, 3.58, 4.1, 3.42, 4.05, 3.08, 4.0, 3.42, 4.44, 5.1, 8.23, 2.32, 7.12, 3.22, 3.37, 4.05, 3.68, 4.39, 1.66, 1.49, 3.68, 4.32, 3.74, 4.21, 3.35, 2.94], \"y\": [28.0, 12.0, 11.2, 12.9, 18.5, 8.3, 7.8, 12.3, 4.9, 11.9, 12.4, 11.8, 12.3, 24.7, 12.4, 17.3, 33.4, 11.8, 25.9, 11.8, 25.3, 14.2, 17.9, 11.8, 12.3, 12.4, 18.4, 18.4, 18.3, 18.4, 12.3, 11.8, 12.3, 32.6, 19.0, 12.1, 20.0, 4.9, 11.8, 12.3, 12.4, 4.5, 11.7, 10.2, 5.4, 2.0, 14.2, 16.0, 11.8, 27.3, 11.8, 10.6, 11.6, 13.1, 6.1, 153.5, 11.8, 12.3, 12.4, 12.3, 2.9, 2.1, 9.8, 6.8, 12.4, 12.4, 11.8, 12.3, 14.0, 11.8, 12.3, 2.0, 13.9, 9.7, 11.6, 14.2, 11.8, 24.8, 12.4, 34.8, 14.2, 5.2, 10.5, 12.3, 11.8, 12.3, 13.2, 13.0, 12.9, 13.9, 11.8, 12.2, 12.5, 12.4, 11.8, 11.8, 12.5, 15.7, 12.9, 6.4, 5.3, 26.2, 18.8, 4.9, 12.4, 22.9, 162.7, 4.9, 11.8, 16.6, 12.4, 15.9, 5.1, 22.4, 31.1, 4.9, 11.8, 22.9, 12.4, 12.9, 11.8, 12.2, 24.8, 14.2, 11.8, 12.2, 24.7, 6.8, 17.3, 11.8, 15.9, 5.1, 16.1, 11.8, 4.2, 17.4, 23.5, 11.8, 12.3, 16.1, 11.8, 12.3, 12.4, 7.0, 11.8, 20.1, 20.8, 1.7, 35.9, 36.9, 16.8, 9.9, 22.9, 17.3, 11.8, 36.6, 44.9, 11.8, 21.6, 39.4, 5.1, 26.6, 53.2, 18.9, 43.5, 6.1, 16.4, 12.3, 21.1, 21.1, 22.7, 44.4, 35.8, 11.8, 26.2, 40.6, 12.4, 14.1, 58.7, 16.2, 12.3, 12.3, 12.4, 31.8, 12.3, 51.6, 38.6, 12.3, 81.2, 130.3, 67.2, 43.7, 12.1, 56.1, 39.0, 11.8, 38.5, 28.2, 2.9, 6.1, 19.6, 22.2, 13.6, 12.6, 8.7, 7.9, 2.4, 4.9, 18.1, 25.9, 1.3, 14.1, 13.4, 6.4, 12.9, 12.1, 15.7, 16.2, 12.8, 19.0, 29.0, 12.1, 12.3, 24.8, 12.9, 11.8, 31.4, 19.0, 13.0, 11.8, 13.0, 11.8, 27.1, 5.2, 19.0, 12.4, 25.2, 14.3, 11.8, 16.9, 12.4, 17.4, 9.2, 12.3, 13.0, 11.8, 13.0, 12.3, 12.3, 12.5, 31.5, 11.8, 24.9, 17.0, 2.0, 11.8, 7.4, 12.4, 2.0, 14.0, 25.7, 24.5, 11.8, 4.1, 4.2, 4.2, 16.0, 22.9, 16.0, 15.4, 16.0, 4.2, 101.9, 93.9, 25.7, 16.0, 16.1, 16.0, 16.0, 24.7, 16.0, 15.4, 16.0, 32.1, 25.9, 48.6, 37.2, 28.8, 6.7, 7.4, 17.3, 6.6, 14.3, 13.3, 8.3, 12.7, 16.5, 20.6, 16.3, 18.7, 36.5, 19.0, 16.6, 29.9, 16.0, 21.1, 16.0, 11.9, 10.1, 31.9, 18.7, 10.8, 19.8, 11.3, 11.5, 21.4, 32.0, 41.9, 211.0, 216.1, 25.5, 16.6, 25.9, 16.5, 22.1, 16.6, 15.4, 16.5, 15.4, 18.4, 39.5, 21.5, 4.8, 100.9, 129.7, 16.6, 15.4, 16.0, 16.0, 15.4, 16.0, 21.0, 15.4, 16.0, 16.1, 16.0, 15.4, 17.2, 16.6, 18.3, 16.1, 16.0, 16.3, 16.0, 18.3, 4.5, 17.0, 6.1, 6.1, 17.3, 6.0, 16.0, 15.4, 15.4, 16.0, 15.4, 16.6, 15.4, 16.0, 15.4, 16.0, 20.9, 32.1, 15.3, 28.5, 11.9, 14.5, 16.6, 16.2, 16.7, 8.3, 5.5, 13.6, 16.0, 16.1, 16.0, 15.4, 14.7]}],                        {\"template\": {\"data\": {\"bar\": [{\"error_x\": {\"color\": \"#2a3f5f\"}, \"error_y\": {\"color\": \"#2a3f5f\"}, \"marker\": {\"line\": {\"color\": \"#E5ECF6\", \"width\": 0.5}}, \"type\": \"bar\"}], \"barpolar\": [{\"marker\": {\"line\": {\"color\": \"#E5ECF6\", \"width\": 0.5}}, \"type\": \"barpolar\"}], \"carpet\": [{\"aaxis\": {\"endlinecolor\": \"#2a3f5f\", \"gridcolor\": \"white\", \"linecolor\": \"white\", \"minorgridcolor\": \"white\", \"startlinecolor\": \"#2a3f5f\"}, \"baxis\": {\"endlinecolor\": \"#2a3f5f\", \"gridcolor\": \"white\", \"linecolor\": \"white\", \"minorgridcolor\": \"white\", \"startlinecolor\": \"#2a3f5f\"}, \"type\": \"carpet\"}], \"choropleth\": [{\"colorbar\": {\"outlinewidth\": 0, \"ticks\": \"\"}, \"type\": \"choropleth\"}], \"contour\": [{\"colorbar\": {\"outlinewidth\": 0, \"ticks\": \"\"}, \"colorscale\": [[0.0, \"#0d0887\"], [0.1111111111111111, \"#46039f\"], [0.2222222222222222, \"#7201a8\"], [0.3333333333333333, \"#9c179e\"], [0.4444444444444444, \"#bd3786\"], [0.5555555555555556, \"#d8576b\"], [0.6666666666666666, \"#ed7953\"], [0.7777777777777778, \"#fb9f3a\"], [0.8888888888888888, \"#fdca26\"], [1.0, \"#f0f921\"]], \"type\": \"contour\"}], \"contourcarpet\": [{\"colorbar\": {\"outlinewidth\": 0, \"ticks\": \"\"}, \"type\": \"contourcarpet\"}], \"heatmap\": [{\"colorbar\": {\"outlinewidth\": 0, \"ticks\": \"\"}, \"colorscale\": [[0.0, \"#0d0887\"], [0.1111111111111111, \"#46039f\"], [0.2222222222222222, \"#7201a8\"], [0.3333333333333333, \"#9c179e\"], [0.4444444444444444, \"#bd3786\"], [0.5555555555555556, \"#d8576b\"], [0.6666666666666666, \"#ed7953\"], [0.7777777777777778, \"#fb9f3a\"], [0.8888888888888888, \"#fdca26\"], [1.0, \"#f0f921\"]], \"type\": \"heatmap\"}], \"heatmapgl\": [{\"colorbar\": {\"outlinewidth\": 0, \"ticks\": \"\"}, \"colorscale\": [[0.0, \"#0d0887\"], [0.1111111111111111, \"#46039f\"], [0.2222222222222222, \"#7201a8\"], [0.3333333333333333, \"#9c179e\"], [0.4444444444444444, \"#bd3786\"], [0.5555555555555556, \"#d8576b\"], [0.6666666666666666, \"#ed7953\"], [0.7777777777777778, \"#fb9f3a\"], [0.8888888888888888, \"#fdca26\"], [1.0, \"#f0f921\"]], \"type\": \"heatmapgl\"}], \"histogram\": [{\"marker\": {\"colorbar\": {\"outlinewidth\": 0, \"ticks\": \"\"}}, \"type\": \"histogram\"}], \"histogram2d\": [{\"colorbar\": {\"outlinewidth\": 0, \"ticks\": \"\"}, \"colorscale\": [[0.0, \"#0d0887\"], [0.1111111111111111, \"#46039f\"], [0.2222222222222222, \"#7201a8\"], [0.3333333333333333, \"#9c179e\"], [0.4444444444444444, \"#bd3786\"], [0.5555555555555556, \"#d8576b\"], [0.6666666666666666, \"#ed7953\"], [0.7777777777777778, \"#fb9f3a\"], [0.8888888888888888, \"#fdca26\"], [1.0, \"#f0f921\"]], \"type\": \"histogram2d\"}], \"histogram2dcontour\": [{\"colorbar\": {\"outlinewidth\": 0, \"ticks\": \"\"}, \"colorscale\": [[0.0, \"#0d0887\"], [0.1111111111111111, \"#46039f\"], [0.2222222222222222, \"#7201a8\"], [0.3333333333333333, \"#9c179e\"], [0.4444444444444444, \"#bd3786\"], [0.5555555555555556, \"#d8576b\"], [0.6666666666666666, \"#ed7953\"], [0.7777777777777778, \"#fb9f3a\"], [0.8888888888888888, \"#fdca26\"], [1.0, \"#f0f921\"]], \"type\": \"histogram2dcontour\"}], \"mesh3d\": [{\"colorbar\": {\"outlinewidth\": 0, \"ticks\": \"\"}, \"type\": \"mesh3d\"}], \"parcoords\": [{\"line\": {\"colorbar\": {\"outlinewidth\": 0, \"ticks\": \"\"}}, \"type\": \"parcoords\"}], \"pie\": [{\"automargin\": true, \"type\": \"pie\"}], \"scatter\": [{\"marker\": {\"colorbar\": {\"outlinewidth\": 0, \"ticks\": \"\"}}, \"type\": \"scatter\"}], \"scatter3d\": [{\"line\": {\"colorbar\": {\"outlinewidth\": 0, \"ticks\": \"\"}}, \"marker\": {\"colorbar\": {\"outlinewidth\": 0, \"ticks\": \"\"}}, \"type\": \"scatter3d\"}], \"scattercarpet\": [{\"marker\": {\"colorbar\": {\"outlinewidth\": 0, \"ticks\": \"\"}}, \"type\": \"scattercarpet\"}], \"scattergeo\": [{\"marker\": {\"colorbar\": {\"outlinewidth\": 0, \"ticks\": \"\"}}, \"type\": \"scattergeo\"}], \"scattergl\": [{\"marker\": {\"colorbar\": {\"outlinewidth\": 0, \"ticks\": \"\"}}, \"type\": \"scattergl\"}], \"scattermapbox\": [{\"marker\": {\"colorbar\": {\"outlinewidth\": 0, \"ticks\": \"\"}}, \"type\": \"scattermapbox\"}], \"scatterpolar\": [{\"marker\": {\"colorbar\": {\"outlinewidth\": 0, \"ticks\": \"\"}}, \"type\": \"scatterpolar\"}], \"scatterpolargl\": [{\"marker\": {\"colorbar\": {\"outlinewidth\": 0, \"ticks\": \"\"}}, \"type\": \"scatterpolargl\"}], \"scatterternary\": [{\"marker\": {\"colorbar\": {\"outlinewidth\": 0, \"ticks\": \"\"}}, \"type\": \"scatterternary\"}], \"surface\": [{\"colorbar\": {\"outlinewidth\": 0, \"ticks\": \"\"}, \"colorscale\": [[0.0, \"#0d0887\"], [0.1111111111111111, \"#46039f\"], [0.2222222222222222, \"#7201a8\"], [0.3333333333333333, \"#9c179e\"], [0.4444444444444444, \"#bd3786\"], [0.5555555555555556, \"#d8576b\"], [0.6666666666666666, \"#ed7953\"], [0.7777777777777778, \"#fb9f3a\"], [0.8888888888888888, \"#fdca26\"], [1.0, \"#f0f921\"]], \"type\": \"surface\"}], \"table\": [{\"cells\": {\"fill\": {\"color\": \"#EBF0F8\"}, \"line\": {\"color\": \"white\"}}, \"header\": {\"fill\": {\"color\": \"#C8D4E3\"}, \"line\": {\"color\": \"white\"}}, \"type\": \"table\"}]}, \"layout\": {\"annotationdefaults\": {\"arrowcolor\": \"#2a3f5f\", \"arrowhead\": 0, \"arrowwidth\": 1}, \"autotypenumbers\": \"strict\", \"coloraxis\": {\"colorbar\": {\"outlinewidth\": 0, \"ticks\": \"\"}}, \"colorscale\": {\"diverging\": [[0, \"#8e0152\"], [0.1, \"#c51b7d\"], [0.2, \"#de77ae\"], [0.3, \"#f1b6da\"], [0.4, \"#fde0ef\"], [0.5, \"#f7f7f7\"], [0.6, \"#e6f5d0\"], [0.7, \"#b8e186\"], [0.8, \"#7fbc41\"], [0.9, \"#4d9221\"], [1, \"#276419\"]], \"sequential\": [[0.0, \"#0d0887\"], [0.1111111111111111, \"#46039f\"], [0.2222222222222222, \"#7201a8\"], [0.3333333333333333, \"#9c179e\"], [0.4444444444444444, \"#bd3786\"], [0.5555555555555556, \"#d8576b\"], [0.6666666666666666, \"#ed7953\"], [0.7777777777777778, \"#fb9f3a\"], [0.8888888888888888, \"#fdca26\"], [1.0, \"#f0f921\"]], \"sequentialminus\": [[0.0, \"#0d0887\"], [0.1111111111111111, \"#46039f\"], [0.2222222222222222, \"#7201a8\"], [0.3333333333333333, \"#9c179e\"], [0.4444444444444444, \"#bd3786\"], [0.5555555555555556, \"#d8576b\"], [0.6666666666666666, \"#ed7953\"], [0.7777777777777778, \"#fb9f3a\"], [0.8888888888888888, \"#fdca26\"], [1.0, \"#f0f921\"]]}, \"colorway\": [\"#636efa\", \"#EF553B\", \"#00cc96\", \"#ab63fa\", \"#FFA15A\", \"#19d3f3\", \"#FF6692\", \"#B6E880\", \"#FF97FF\", \"#FECB52\"], \"font\": {\"color\": \"#2a3f5f\"}, \"geo\": {\"bgcolor\": \"white\", \"lakecolor\": \"white\", \"landcolor\": \"#E5ECF6\", \"showlakes\": true, \"showland\": true, \"subunitcolor\": \"white\"}, \"hoverlabel\": {\"align\": \"left\"}, \"hovermode\": \"closest\", \"mapbox\": {\"style\": \"light\"}, \"paper_bgcolor\": \"white\", \"plot_bgcolor\": \"#E5ECF6\", \"polar\": {\"angularaxis\": {\"gridcolor\": \"white\", \"linecolor\": \"white\", \"ticks\": \"\"}, \"bgcolor\": \"#E5ECF6\", \"radialaxis\": {\"gridcolor\": \"white\", \"linecolor\": \"white\", \"ticks\": \"\"}}, \"scene\": {\"xaxis\": {\"backgroundcolor\": \"#E5ECF6\", \"gridcolor\": \"white\", \"gridwidth\": 2, \"linecolor\": \"white\", \"showbackground\": true, \"ticks\": \"\", \"zerolinecolor\": \"white\"}, \"yaxis\": {\"backgroundcolor\": \"#E5ECF6\", \"gridcolor\": \"white\", \"gridwidth\": 2, \"linecolor\": \"white\", \"showbackground\": true, \"ticks\": \"\", \"zerolinecolor\": \"white\"}, \"zaxis\": {\"backgroundcolor\": \"#E5ECF6\", \"gridcolor\": \"white\", \"gridwidth\": 2, \"linecolor\": \"white\", \"showbackground\": true, \"ticks\": \"\", \"zerolinecolor\": \"white\"}}, \"shapedefaults\": {\"line\": {\"color\": \"#2a3f5f\"}}, \"ternary\": {\"aaxis\": {\"gridcolor\": \"white\", \"linecolor\": \"white\", \"ticks\": \"\"}, \"baxis\": {\"gridcolor\": \"white\", \"linecolor\": \"white\", \"ticks\": \"\"}, \"bgcolor\": \"#E5ECF6\", \"caxis\": {\"gridcolor\": \"white\", \"linecolor\": \"white\", \"ticks\": \"\"}}, \"title\": {\"x\": 0.05}, \"xaxis\": {\"automargin\": true, \"gridcolor\": \"white\", \"linecolor\": \"white\", \"ticks\": \"\", \"title\": {\"standoff\": 15}, \"zerolinecolor\": \"white\", \"zerolinewidth\": 2}, \"yaxis\": {\"automargin\": true, \"gridcolor\": \"white\", \"linecolor\": \"white\", \"ticks\": \"\", \"title\": {\"standoff\": 15}, \"zerolinecolor\": \"white\", \"zerolinewidth\": 2}}}, \"title\": {\"text\": \"Does Distance Travelled affect Mileage differently between the Two Fuel Types?\"}, \"xaxis\": {\"title\": {\"text\": \"Mileage (km/L)\"}}, \"yaxis\": {\"title\": {\"text\": \"Estimate Time (hrs)\"}}},                        {\"responsive\": true}                    ).then(function(){\n",
       "                            \n",
       "var gd = document.getElementById('3691975a-826d-4079-b12b-2b63f9c5d794');\n",
       "var x = new MutationObserver(function (mutations, observer) {{\n",
       "        var display = window.getComputedStyle(gd).display;\n",
       "        if (!display || display === 'none') {{\n",
       "            console.log([gd, 'removed!']);\n",
       "            Plotly.purge(gd);\n",
       "            observer.disconnect();\n",
       "        }}\n",
       "}});\n",
       "\n",
       "// Listen for the removal of the full notebook cells\n",
       "var notebookContainer = gd.closest('#notebook-container');\n",
       "if (notebookContainer) {{\n",
       "    x.observe(notebookContainer, {childList: true});\n",
       "}}\n",
       "\n",
       "// Listen for the clearing of the current output cell\n",
       "var outputEl = gd.closest('.output');\n",
       "if (outputEl) {{\n",
       "    x.observe(outputEl, {childList: true});\n",
       "}}\n",
       "\n",
       "                        })                };                });            </script>        </div>"
      ]
     },
     "metadata": {},
     "output_type": "display_data"
    }
   ],
   "source": [
    "fig = go.Figure()\n",
    "fig.add_trace(go.Scatter(x=e_mileage, y=df['distance'],\n",
    "                    mode='markers', name='E10'))\n",
    "fig.add_trace(go.Scatter(x=sp_mileage, y=df['distance'],\n",
    "                    mode='markers', name='SP98'))\n",
    "fig.update_layout(title='Does Distance Travelled affect Mileage differently between the Two Fuel Types?',\n",
    "                   xaxis_title='Mileage (km/L)',\n",
    "                   yaxis_title='Estimate Time (hrs)')\n",
    "fig.show()"
   ]
  },
  {
   "cell_type": "code",
   "execution_count": 216,
   "metadata": {},
   "outputs": [
    {
     "data": {
      "application/vnd.plotly.v1+json": {
       "config": {
        "plotlyServerURL": "https://plot.ly"
       },
       "data": [
        {
         "mode": "markers",
         "name": "E10",
         "type": "scatter",
         "x": [
          5.6,
          2.86,
          2.04,
          3.31,
          4.11,
          1.3,
          1.77,
          2.46,
          0.77,
          2.25,
          2.21,
          2.57,
          2.08,
          4.84,
          2.64,
          3.39,
          5.96,
          2.31,
          5.29,
          2.51,
          4.6,
          2.41,
          3.14,
          2.51,
          2.08,
          3.02,
          3.23,
          3.17,
          3.33,
          3.23,
          2.32,
          2.36,
          2.2,
          6.79,
          4.42,
          2.12,
          3.85,
          0.66,
          2.46,
          1.89,
          3.1,
          0.9,
          2.54,
          2.37,
          2.98,
          2.74,
          2.28,
          2.88,
          1.35,
          2.88,
          4.57,
          4.62,
          0.16,
          7.64,
          7.69,
          4.2,
          1.98,
          4.98,
          3.46,
          2.74,
          7.04,
          9.55,
          2.81,
          4.08,
          7.43,
          0.63,
          5.54,
          10.43,
          4.3,
          8.7,
          0.97,
          3.42,
          2.02,
          4.59,
          4.4,
          4.83,
          9.25,
          8.14,
          2.41,
          5.35,
          9.23,
          2.34,
          2.66,
          12.23,
          3.12,
          2.51,
          1.73,
          2.38,
          6.77,
          2.41,
          10.32,
          8.39,
          2.56,
          18.45,
          28.33,
          15.63,
          4.22,
          2.58,
          5.04,
          2.98,
          2.57,
          3.76,
          2.7,
          3.95,
          1.61,
          2.12,
          2.2,
          1.93,
          2.28,
          2.46,
          2.37,
          2.91,
          7.68,
          2.68,
          5.53,
          4.36,
          0.25,
          2.68,
          1.48,
          2.64,
          0.33,
          2.8,
          5.14,
          6.28,
          2.62,
          0.76,
          0.75,
          1.08,
          4,
          5.72,
          4.21,
          3.42,
          4.21,
          0.75,
          19.6,
          19.56,
          4.49,
          3.42,
          4.23,
          3.02,
          4.38,
          9.4,
          4.48,
          1.02,
          21.47,
          28.2,
          4.37,
          3.67,
          4.32,
          3.81,
          3.76,
          4,
          5.53,
          4.05,
          4.21,
          3.16,
          4,
          3.21,
          4.41,
          3.61
         ],
         "y": [
          26,
          30,
          38,
          36,
          46,
          50,
          43,
          40,
          26,
          30,
          42,
          38,
          59,
          58,
          46,
          24,
          36,
          32,
          39,
          40,
          32,
          38,
          37,
          36,
          62,
          57,
          21,
          28,
          29,
          35,
          51,
          29,
          58,
          40,
          36,
          36,
          37,
          26,
          23,
          58,
          55,
          29,
          37,
          44,
          32,
          21,
          32,
          25,
          25,
          36,
          29,
          63,
          61,
          46,
          28,
          82,
          24,
          61,
          57,
          52,
          18,
          23,
          24,
          26,
          24,
          57,
          41,
          55,
          40,
          37,
          55,
          20,
          29,
          42,
          25,
          38,
          39,
          50,
          56,
          28,
          36,
          39,
          42,
          57,
          25,
          58,
          51,
          45,
          32,
          22,
          37,
          60,
          51,
          43,
          21,
          52,
          57,
          33,
          35,
          37,
          34,
          71,
          62,
          25,
          18,
          45,
          75,
          26,
          36,
          56,
          37,
          25,
          21,
          66,
          42,
          27,
          26,
          42,
          38,
          40,
          43,
          58,
          55,
          24,
          38,
          57,
          56,
          46,
          37,
          44,
          46,
          39,
          33,
          43,
          26,
          30,
          25,
          38,
          61,
          24,
          40,
          58,
          49,
          25,
          37,
          41,
          45,
          14,
          45,
          52,
          46,
          28,
          61,
          61,
          37,
          80,
          62,
          34,
          44,
          60,
          39,
          38,
          71,
          53,
          80,
          26,
          49,
          40,
          36,
          43,
          55,
          38,
          51,
          44,
          42,
          44,
          38,
          47,
          75,
          29,
          50,
          52,
          51,
          59,
          55,
          73,
          44,
          41,
          69,
          85,
          67,
          44,
          43,
          82,
          61,
          41,
          63,
          54,
          24,
          24,
          43,
          42,
          44,
          33,
          28,
          31,
          26,
          26,
          36,
          39,
          21,
          22,
          31,
          33,
          42,
          33,
          32,
          26,
          22,
          58,
          27,
          32,
          55,
          56,
          34,
          39,
          62,
          53,
          38,
          42,
          32,
          43,
          69,
          38,
          29,
          38,
          55,
          36,
          40,
          48,
          55,
          36,
          33,
          54,
          32,
          16,
          37,
          42,
          57,
          57,
          30,
          42,
          53,
          46,
          20,
          33,
          31,
          55,
          22,
          41,
          45,
          50,
          28,
          24,
          29,
          29,
          40,
          29,
          42,
          50,
          41,
          32,
          75,
          88,
          50,
          40,
          32,
          40,
          41,
          26,
          42,
          43,
          40,
          50,
          40,
          44,
          45,
          35,
          30,
          25,
          22,
          43,
          26,
          33,
          26,
          39,
          47,
          38,
          58,
          65,
          54,
          35,
          46,
          32,
          42,
          33,
          40,
          34,
          35,
          33,
          60,
          48,
          56,
          38,
          53,
          51,
          53,
          53,
          80,
          90,
          27,
          52,
          43,
          48,
          29,
          49,
          43,
          43,
          21,
          59,
          58,
          47,
          26,
          87,
          58,
          43,
          50,
          45,
          41,
          45,
          43,
          37,
          47,
          42,
          30,
          42,
          40,
          35,
          50,
          46,
          36,
          46,
          35,
          44,
          46,
          23,
          48,
          35,
          33,
          36,
          27,
          45,
          55,
          39,
          35,
          52,
          48,
          48,
          43,
          42,
          43,
          33,
          47,
          16,
          44,
          33,
          36,
          49,
          39,
          44,
          52,
          33,
          33,
          39,
          38,
          45,
          42,
          25
         ]
        },
        {
         "mode": "markers",
         "name": "SP98",
         "type": "scatter",
         "x": [
          1.64,
          0.2,
          2.78,
          3.27,
          2.41,
          5.81,
          2.31,
          2.16,
          2.76,
          2.15,
          0.95,
          31.33,
          2.41,
          1.98,
          2.95,
          2.16,
          0.37,
          0.17,
          1.69,
          1.28,
          2.3,
          2.64,
          2.57,
          2.28,
          3.26,
          2.62,
          2.37,
          0.32,
          2.73,
          2.49,
          2.32,
          2.63,
          2.62,
          4.86,
          2.64,
          8.7,
          2.63,
          1.16,
          2.92,
          2.37,
          2.41,
          1.98,
          3.07,
          2.6,
          2.53,
          2.48,
          2.74,
          2.1,
          3.12,
          2.64,
          2,
          2.23,
          2.98,
          2.96,
          2.26,
          1.45,
          1.29,
          4.52,
          3.76,
          0.71,
          2.3,
          4.32,
          29.58,
          0.75,
          2.51,
          3.25,
          2.18,
          2.94,
          0.59,
          4.57,
          6.62,
          0.78,
          2.31,
          3.82,
          2.7,
          2.22,
          2.31,
          2.1,
          5.39,
          2.54,
          2.57,
          1.94,
          4.49,
          1.58,
          3.09,
          2.74,
          2.79,
          0.8,
          3.58,
          2.62,
          0.7,
          3.41,
          3.92,
          2.62,
          2.02,
          9.3,
          2.88,
          11.69,
          9.51,
          2.62,
          8.02,
          6.13,
          0.39,
          1.09,
          4,
          5.84,
          3.02,
          3.07,
          1.64,
          1.68,
          0.27,
          0.78,
          5.03,
          7,
          0.11,
          2.82,
          2.44,
          1.36,
          2.87,
          2.75,
          3.83,
          3.68,
          2.78,
          4.32,
          7.25,
          2.42,
          2.37,
          6.2,
          2.53,
          2.62,
          6.83,
          3.73,
          2.28,
          2.46,
          2.1,
          2.36,
          5.42,
          1.13,
          5.24,
          3.9,
          3.58,
          3.64,
          3.56,
          5.49,
          4.1,
          3.35,
          4.21,
          7.13,
          5.89,
          11.3,
          9.3,
          7.38,
          1.34,
          1.8,
          4.22,
          1.18,
          3.49,
          2.89,
          1.69,
          2.82,
          4.02,
          5.02,
          3.62,
          4.45,
          9.36,
          3.8,
          3.77,
          6.64,
          4.21,
          4.14,
          4.1,
          2.25,
          2.4,
          7.42,
          4.68,
          2.3,
          4.95,
          2.63,
          2.17,
          4.12,
          6.53,
          8.91,
          45.87,
          40.77,
          7.08,
          3.95,
          6.32,
          4.12,
          5.67,
          4.26,
          3.35,
          3.9,
          4.08,
          4.32,
          4.26,
          0.87,
          4.05,
          1.22,
          1.22,
          4.12,
          1.25,
          3.9,
          3.14,
          3.58,
          4.1,
          3.42,
          4.05,
          3.08,
          4,
          3.42,
          4.44,
          5.1,
          8.23,
          2.32,
          7.12,
          3.22,
          3.37,
          4.05,
          3.68,
          4.39,
          1.66,
          1.49,
          3.68,
          4.32,
          3.74,
          4.21,
          3.35,
          2.94
         ],
         "y": [
          26,
          30,
          38,
          36,
          46,
          50,
          43,
          40,
          26,
          30,
          42,
          38,
          59,
          58,
          46,
          24,
          36,
          32,
          39,
          40,
          32,
          38,
          37,
          36,
          62,
          57,
          21,
          28,
          29,
          35,
          51,
          29,
          58,
          40,
          36,
          36,
          37,
          26,
          23,
          58,
          55,
          29,
          37,
          44,
          32,
          21,
          32,
          25,
          25,
          36,
          29,
          63,
          61,
          46,
          28,
          82,
          24,
          61,
          57,
          52,
          18,
          23,
          24,
          26,
          24,
          57,
          41,
          55,
          40,
          37,
          55,
          20,
          29,
          42,
          25,
          38,
          39,
          50,
          56,
          28,
          36,
          39,
          42,
          57,
          25,
          58,
          51,
          45,
          32,
          22,
          37,
          60,
          51,
          43,
          21,
          52,
          57,
          33,
          35,
          37,
          34,
          71,
          62,
          25,
          18,
          45,
          75,
          26,
          36,
          56,
          37,
          25,
          21,
          66,
          42,
          27,
          26,
          42,
          38,
          40,
          43,
          58,
          55,
          24,
          38,
          57,
          56,
          46,
          37,
          44,
          46,
          39,
          33,
          43,
          26,
          30,
          25,
          38,
          61,
          24,
          40,
          58,
          49,
          25,
          37,
          41,
          45,
          14,
          45,
          52,
          46,
          28,
          61,
          61,
          37,
          80,
          62,
          34,
          44,
          60,
          39,
          38,
          71,
          53,
          80,
          26,
          49,
          40,
          36,
          43,
          55,
          38,
          51,
          44,
          42,
          44,
          38,
          47,
          75,
          29,
          50,
          52,
          51,
          59,
          55,
          73,
          44,
          41,
          69,
          85,
          67,
          44,
          43,
          82,
          61,
          41,
          63,
          54,
          24,
          24,
          43,
          42,
          44,
          33,
          28,
          31,
          26,
          26,
          36,
          39,
          21,
          22,
          31,
          33,
          42,
          33,
          32,
          26,
          22,
          58,
          27,
          32,
          55,
          56,
          34,
          39,
          62,
          53,
          38,
          42,
          32,
          43,
          69,
          38,
          29,
          38,
          55,
          36,
          40,
          48,
          55,
          36,
          33,
          54,
          32,
          16,
          37,
          42,
          57,
          57,
          30,
          42,
          53,
          46,
          20,
          33,
          31,
          55,
          22,
          41,
          45,
          50,
          28,
          24,
          29,
          29,
          40,
          29,
          42,
          50,
          41,
          32,
          75,
          88,
          50,
          40,
          32,
          40,
          41,
          26,
          42,
          43,
          40,
          50,
          40,
          44,
          45,
          35,
          30,
          25,
          22,
          43,
          26,
          33,
          26,
          39,
          47,
          38,
          58,
          65,
          54,
          35,
          46,
          32,
          42,
          33,
          40,
          34,
          35,
          33,
          60,
          48,
          56,
          38,
          53,
          51,
          53,
          53,
          80,
          90,
          27,
          52,
          43,
          48,
          29,
          49,
          43,
          43,
          21,
          59,
          58,
          47,
          26,
          87,
          58,
          43,
          50,
          45,
          41,
          45,
          43,
          37,
          47,
          42,
          30,
          42,
          40,
          35,
          50,
          46,
          36,
          46,
          35,
          44,
          46,
          23,
          48,
          35,
          33,
          36,
          27,
          45,
          55,
          39,
          35,
          52,
          48,
          48,
          43,
          42,
          43,
          33,
          47,
          16,
          44,
          33,
          36,
          49,
          39,
          44,
          52,
          33,
          33,
          39,
          38,
          45,
          42,
          25
         ]
        }
       ],
       "layout": {
        "template": {
         "data": {
          "bar": [
           {
            "error_x": {
             "color": "#2a3f5f"
            },
            "error_y": {
             "color": "#2a3f5f"
            },
            "marker": {
             "line": {
              "color": "#E5ECF6",
              "width": 0.5
             }
            },
            "type": "bar"
           }
          ],
          "barpolar": [
           {
            "marker": {
             "line": {
              "color": "#E5ECF6",
              "width": 0.5
             }
            },
            "type": "barpolar"
           }
          ],
          "carpet": [
           {
            "aaxis": {
             "endlinecolor": "#2a3f5f",
             "gridcolor": "white",
             "linecolor": "white",
             "minorgridcolor": "white",
             "startlinecolor": "#2a3f5f"
            },
            "baxis": {
             "endlinecolor": "#2a3f5f",
             "gridcolor": "white",
             "linecolor": "white",
             "minorgridcolor": "white",
             "startlinecolor": "#2a3f5f"
            },
            "type": "carpet"
           }
          ],
          "choropleth": [
           {
            "colorbar": {
             "outlinewidth": 0,
             "ticks": ""
            },
            "type": "choropleth"
           }
          ],
          "contour": [
           {
            "colorbar": {
             "outlinewidth": 0,
             "ticks": ""
            },
            "colorscale": [
             [
              0,
              "#0d0887"
             ],
             [
              0.1111111111111111,
              "#46039f"
             ],
             [
              0.2222222222222222,
              "#7201a8"
             ],
             [
              0.3333333333333333,
              "#9c179e"
             ],
             [
              0.4444444444444444,
              "#bd3786"
             ],
             [
              0.5555555555555556,
              "#d8576b"
             ],
             [
              0.6666666666666666,
              "#ed7953"
             ],
             [
              0.7777777777777778,
              "#fb9f3a"
             ],
             [
              0.8888888888888888,
              "#fdca26"
             ],
             [
              1,
              "#f0f921"
             ]
            ],
            "type": "contour"
           }
          ],
          "contourcarpet": [
           {
            "colorbar": {
             "outlinewidth": 0,
             "ticks": ""
            },
            "type": "contourcarpet"
           }
          ],
          "heatmap": [
           {
            "colorbar": {
             "outlinewidth": 0,
             "ticks": ""
            },
            "colorscale": [
             [
              0,
              "#0d0887"
             ],
             [
              0.1111111111111111,
              "#46039f"
             ],
             [
              0.2222222222222222,
              "#7201a8"
             ],
             [
              0.3333333333333333,
              "#9c179e"
             ],
             [
              0.4444444444444444,
              "#bd3786"
             ],
             [
              0.5555555555555556,
              "#d8576b"
             ],
             [
              0.6666666666666666,
              "#ed7953"
             ],
             [
              0.7777777777777778,
              "#fb9f3a"
             ],
             [
              0.8888888888888888,
              "#fdca26"
             ],
             [
              1,
              "#f0f921"
             ]
            ],
            "type": "heatmap"
           }
          ],
          "heatmapgl": [
           {
            "colorbar": {
             "outlinewidth": 0,
             "ticks": ""
            },
            "colorscale": [
             [
              0,
              "#0d0887"
             ],
             [
              0.1111111111111111,
              "#46039f"
             ],
             [
              0.2222222222222222,
              "#7201a8"
             ],
             [
              0.3333333333333333,
              "#9c179e"
             ],
             [
              0.4444444444444444,
              "#bd3786"
             ],
             [
              0.5555555555555556,
              "#d8576b"
             ],
             [
              0.6666666666666666,
              "#ed7953"
             ],
             [
              0.7777777777777778,
              "#fb9f3a"
             ],
             [
              0.8888888888888888,
              "#fdca26"
             ],
             [
              1,
              "#f0f921"
             ]
            ],
            "type": "heatmapgl"
           }
          ],
          "histogram": [
           {
            "marker": {
             "colorbar": {
              "outlinewidth": 0,
              "ticks": ""
             }
            },
            "type": "histogram"
           }
          ],
          "histogram2d": [
           {
            "colorbar": {
             "outlinewidth": 0,
             "ticks": ""
            },
            "colorscale": [
             [
              0,
              "#0d0887"
             ],
             [
              0.1111111111111111,
              "#46039f"
             ],
             [
              0.2222222222222222,
              "#7201a8"
             ],
             [
              0.3333333333333333,
              "#9c179e"
             ],
             [
              0.4444444444444444,
              "#bd3786"
             ],
             [
              0.5555555555555556,
              "#d8576b"
             ],
             [
              0.6666666666666666,
              "#ed7953"
             ],
             [
              0.7777777777777778,
              "#fb9f3a"
             ],
             [
              0.8888888888888888,
              "#fdca26"
             ],
             [
              1,
              "#f0f921"
             ]
            ],
            "type": "histogram2d"
           }
          ],
          "histogram2dcontour": [
           {
            "colorbar": {
             "outlinewidth": 0,
             "ticks": ""
            },
            "colorscale": [
             [
              0,
              "#0d0887"
             ],
             [
              0.1111111111111111,
              "#46039f"
             ],
             [
              0.2222222222222222,
              "#7201a8"
             ],
             [
              0.3333333333333333,
              "#9c179e"
             ],
             [
              0.4444444444444444,
              "#bd3786"
             ],
             [
              0.5555555555555556,
              "#d8576b"
             ],
             [
              0.6666666666666666,
              "#ed7953"
             ],
             [
              0.7777777777777778,
              "#fb9f3a"
             ],
             [
              0.8888888888888888,
              "#fdca26"
             ],
             [
              1,
              "#f0f921"
             ]
            ],
            "type": "histogram2dcontour"
           }
          ],
          "mesh3d": [
           {
            "colorbar": {
             "outlinewidth": 0,
             "ticks": ""
            },
            "type": "mesh3d"
           }
          ],
          "parcoords": [
           {
            "line": {
             "colorbar": {
              "outlinewidth": 0,
              "ticks": ""
             }
            },
            "type": "parcoords"
           }
          ],
          "pie": [
           {
            "automargin": true,
            "type": "pie"
           }
          ],
          "scatter": [
           {
            "marker": {
             "colorbar": {
              "outlinewidth": 0,
              "ticks": ""
             }
            },
            "type": "scatter"
           }
          ],
          "scatter3d": [
           {
            "line": {
             "colorbar": {
              "outlinewidth": 0,
              "ticks": ""
             }
            },
            "marker": {
             "colorbar": {
              "outlinewidth": 0,
              "ticks": ""
             }
            },
            "type": "scatter3d"
           }
          ],
          "scattercarpet": [
           {
            "marker": {
             "colorbar": {
              "outlinewidth": 0,
              "ticks": ""
             }
            },
            "type": "scattercarpet"
           }
          ],
          "scattergeo": [
           {
            "marker": {
             "colorbar": {
              "outlinewidth": 0,
              "ticks": ""
             }
            },
            "type": "scattergeo"
           }
          ],
          "scattergl": [
           {
            "marker": {
             "colorbar": {
              "outlinewidth": 0,
              "ticks": ""
             }
            },
            "type": "scattergl"
           }
          ],
          "scattermapbox": [
           {
            "marker": {
             "colorbar": {
              "outlinewidth": 0,
              "ticks": ""
             }
            },
            "type": "scattermapbox"
           }
          ],
          "scatterpolar": [
           {
            "marker": {
             "colorbar": {
              "outlinewidth": 0,
              "ticks": ""
             }
            },
            "type": "scatterpolar"
           }
          ],
          "scatterpolargl": [
           {
            "marker": {
             "colorbar": {
              "outlinewidth": 0,
              "ticks": ""
             }
            },
            "type": "scatterpolargl"
           }
          ],
          "scatterternary": [
           {
            "marker": {
             "colorbar": {
              "outlinewidth": 0,
              "ticks": ""
             }
            },
            "type": "scatterternary"
           }
          ],
          "surface": [
           {
            "colorbar": {
             "outlinewidth": 0,
             "ticks": ""
            },
            "colorscale": [
             [
              0,
              "#0d0887"
             ],
             [
              0.1111111111111111,
              "#46039f"
             ],
             [
              0.2222222222222222,
              "#7201a8"
             ],
             [
              0.3333333333333333,
              "#9c179e"
             ],
             [
              0.4444444444444444,
              "#bd3786"
             ],
             [
              0.5555555555555556,
              "#d8576b"
             ],
             [
              0.6666666666666666,
              "#ed7953"
             ],
             [
              0.7777777777777778,
              "#fb9f3a"
             ],
             [
              0.8888888888888888,
              "#fdca26"
             ],
             [
              1,
              "#f0f921"
             ]
            ],
            "type": "surface"
           }
          ],
          "table": [
           {
            "cells": {
             "fill": {
              "color": "#EBF0F8"
             },
             "line": {
              "color": "white"
             }
            },
            "header": {
             "fill": {
              "color": "#C8D4E3"
             },
             "line": {
              "color": "white"
             }
            },
            "type": "table"
           }
          ]
         },
         "layout": {
          "annotationdefaults": {
           "arrowcolor": "#2a3f5f",
           "arrowhead": 0,
           "arrowwidth": 1
          },
          "autotypenumbers": "strict",
          "coloraxis": {
           "colorbar": {
            "outlinewidth": 0,
            "ticks": ""
           }
          },
          "colorscale": {
           "diverging": [
            [
             0,
             "#8e0152"
            ],
            [
             0.1,
             "#c51b7d"
            ],
            [
             0.2,
             "#de77ae"
            ],
            [
             0.3,
             "#f1b6da"
            ],
            [
             0.4,
             "#fde0ef"
            ],
            [
             0.5,
             "#f7f7f7"
            ],
            [
             0.6,
             "#e6f5d0"
            ],
            [
             0.7,
             "#b8e186"
            ],
            [
             0.8,
             "#7fbc41"
            ],
            [
             0.9,
             "#4d9221"
            ],
            [
             1,
             "#276419"
            ]
           ],
           "sequential": [
            [
             0,
             "#0d0887"
            ],
            [
             0.1111111111111111,
             "#46039f"
            ],
            [
             0.2222222222222222,
             "#7201a8"
            ],
            [
             0.3333333333333333,
             "#9c179e"
            ],
            [
             0.4444444444444444,
             "#bd3786"
            ],
            [
             0.5555555555555556,
             "#d8576b"
            ],
            [
             0.6666666666666666,
             "#ed7953"
            ],
            [
             0.7777777777777778,
             "#fb9f3a"
            ],
            [
             0.8888888888888888,
             "#fdca26"
            ],
            [
             1,
             "#f0f921"
            ]
           ],
           "sequentialminus": [
            [
             0,
             "#0d0887"
            ],
            [
             0.1111111111111111,
             "#46039f"
            ],
            [
             0.2222222222222222,
             "#7201a8"
            ],
            [
             0.3333333333333333,
             "#9c179e"
            ],
            [
             0.4444444444444444,
             "#bd3786"
            ],
            [
             0.5555555555555556,
             "#d8576b"
            ],
            [
             0.6666666666666666,
             "#ed7953"
            ],
            [
             0.7777777777777778,
             "#fb9f3a"
            ],
            [
             0.8888888888888888,
             "#fdca26"
            ],
            [
             1,
             "#f0f921"
            ]
           ]
          },
          "colorway": [
           "#636efa",
           "#EF553B",
           "#00cc96",
           "#ab63fa",
           "#FFA15A",
           "#19d3f3",
           "#FF6692",
           "#B6E880",
           "#FF97FF",
           "#FECB52"
          ],
          "font": {
           "color": "#2a3f5f"
          },
          "geo": {
           "bgcolor": "white",
           "lakecolor": "white",
           "landcolor": "#E5ECF6",
           "showlakes": true,
           "showland": true,
           "subunitcolor": "white"
          },
          "hoverlabel": {
           "align": "left"
          },
          "hovermode": "closest",
          "mapbox": {
           "style": "light"
          },
          "paper_bgcolor": "white",
          "plot_bgcolor": "#E5ECF6",
          "polar": {
           "angularaxis": {
            "gridcolor": "white",
            "linecolor": "white",
            "ticks": ""
           },
           "bgcolor": "#E5ECF6",
           "radialaxis": {
            "gridcolor": "white",
            "linecolor": "white",
            "ticks": ""
           }
          },
          "scene": {
           "xaxis": {
            "backgroundcolor": "#E5ECF6",
            "gridcolor": "white",
            "gridwidth": 2,
            "linecolor": "white",
            "showbackground": true,
            "ticks": "",
            "zerolinecolor": "white"
           },
           "yaxis": {
            "backgroundcolor": "#E5ECF6",
            "gridcolor": "white",
            "gridwidth": 2,
            "linecolor": "white",
            "showbackground": true,
            "ticks": "",
            "zerolinecolor": "white"
           },
           "zaxis": {
            "backgroundcolor": "#E5ECF6",
            "gridcolor": "white",
            "gridwidth": 2,
            "linecolor": "white",
            "showbackground": true,
            "ticks": "",
            "zerolinecolor": "white"
           }
          },
          "shapedefaults": {
           "line": {
            "color": "#2a3f5f"
           }
          },
          "ternary": {
           "aaxis": {
            "gridcolor": "white",
            "linecolor": "white",
            "ticks": ""
           },
           "baxis": {
            "gridcolor": "white",
            "linecolor": "white",
            "ticks": ""
           },
           "bgcolor": "#E5ECF6",
           "caxis": {
            "gridcolor": "white",
            "linecolor": "white",
            "ticks": ""
           }
          },
          "title": {
           "x": 0.05
          },
          "xaxis": {
           "automargin": true,
           "gridcolor": "white",
           "linecolor": "white",
           "ticks": "",
           "title": {
            "standoff": 15
           },
           "zerolinecolor": "white",
           "zerolinewidth": 2
          },
          "yaxis": {
           "automargin": true,
           "gridcolor": "white",
           "linecolor": "white",
           "ticks": "",
           "title": {
            "standoff": 15
           },
           "zerolinecolor": "white",
           "zerolinewidth": 2
          }
         }
        },
        "title": {
         "text": "Does Speed affect Mileage differently between the Two Fuel Types?"
        },
        "xaxis": {
         "title": {
          "text": "Mileage (km/L)"
         }
        },
        "yaxis": {
         "title": {
          "text": "Speed (km/hr)"
         }
        }
       }
      },
      "text/html": [
       "<div>                            <div id=\"0ca3f3c4-a1de-408a-8f0b-df37800dd69a\" class=\"plotly-graph-div\" style=\"height:525px; width:100%;\"></div>            <script type=\"text/javascript\">                require([\"plotly\"], function(Plotly) {                    window.PLOTLYENV=window.PLOTLYENV || {};                                    if (document.getElementById(\"0ca3f3c4-a1de-408a-8f0b-df37800dd69a\")) {                    Plotly.newPlot(                        \"0ca3f3c4-a1de-408a-8f0b-df37800dd69a\",                        [{\"mode\": \"markers\", \"name\": \"E10\", \"type\": \"scatter\", \"x\": [5.6, 2.86, 2.04, 3.31, 4.11, 1.3, 1.77, 2.46, 0.77, 2.25, 2.21, 2.57, 2.08, 4.84, 2.64, 3.39, 5.96, 2.31, 5.29, 2.51, 4.6, 2.41, 3.14, 2.51, 2.08, 3.02, 3.23, 3.17, 3.33, 3.23, 2.32, 2.36, 2.2, 6.79, 4.42, 2.12, 3.85, 0.66, 2.46, 1.89, 3.1, 0.9, 2.54, 2.37, 2.98, 2.74, 2.28, 2.88, 1.35, 2.88, 4.57, 4.62, 0.16, 7.64, 7.69, 4.2, 1.98, 4.98, 3.46, 2.74, 7.04, 9.55, 2.81, 4.08, 7.43, 0.63, 5.54, 10.43, 4.3, 8.7, 0.97, 3.42, 2.02, 4.59, 4.4, 4.83, 9.25, 8.14, 2.41, 5.35, 9.23, 2.34, 2.66, 12.23, 3.12, 2.51, 1.73, 2.38, 6.77, 2.41, 10.32, 8.39, 2.56, 18.45, 28.33, 15.63, 4.22, 2.58, 5.04, 2.98, 2.57, 3.76, 2.7, 3.95, 1.61, 2.12, 2.2, 1.93, 2.28, 2.46, 2.37, 2.91, 7.68, 2.68, 5.53, 4.36, 0.25, 2.68, 1.48, 2.64, 0.33, 2.8, 5.14, 6.28, 2.62, 0.76, 0.75, 1.08, 4.0, 5.72, 4.21, 3.42, 4.21, 0.75, 19.6, 19.56, 4.49, 3.42, 4.23, 3.02, 4.38, 9.4, 4.48, 1.02, 21.47, 28.2, 4.37, 3.67, 4.32, 3.81, 3.76, 4.0, 5.53, 4.05, 4.21, 3.16, 4.0, 3.21, 4.41, 3.61], \"y\": [26, 30, 38, 36, 46, 50, 43, 40, 26, 30, 42, 38, 59, 58, 46, 24, 36, 32, 39, 40, 32, 38, 37, 36, 62, 57, 21, 28, 29, 35, 51, 29, 58, 40, 36, 36, 37, 26, 23, 58, 55, 29, 37, 44, 32, 21, 32, 25, 25, 36, 29, 63, 61, 46, 28, 82, 24, 61, 57, 52, 18, 23, 24, 26, 24, 57, 41, 55, 40, 37, 55, 20, 29, 42, 25, 38, 39, 50, 56, 28, 36, 39, 42, 57, 25, 58, 51, 45, 32, 22, 37, 60, 51, 43, 21, 52, 57, 33, 35, 37, 34, 71, 62, 25, 18, 45, 75, 26, 36, 56, 37, 25, 21, 66, 42, 27, 26, 42, 38, 40, 43, 58, 55, 24, 38, 57, 56, 46, 37, 44, 46, 39, 33, 43, 26, 30, 25, 38, 61, 24, 40, 58, 49, 25, 37, 41, 45, 14, 45, 52, 46, 28, 61, 61, 37, 80, 62, 34, 44, 60, 39, 38, 71, 53, 80, 26, 49, 40, 36, 43, 55, 38, 51, 44, 42, 44, 38, 47, 75, 29, 50, 52, 51, 59, 55, 73, 44, 41, 69, 85, 67, 44, 43, 82, 61, 41, 63, 54, 24, 24, 43, 42, 44, 33, 28, 31, 26, 26, 36, 39, 21, 22, 31, 33, 42, 33, 32, 26, 22, 58, 27, 32, 55, 56, 34, 39, 62, 53, 38, 42, 32, 43, 69, 38, 29, 38, 55, 36, 40, 48, 55, 36, 33, 54, 32, 16, 37, 42, 57, 57, 30, 42, 53, 46, 20, 33, 31, 55, 22, 41, 45, 50, 28, 24, 29, 29, 40, 29, 42, 50, 41, 32, 75, 88, 50, 40, 32, 40, 41, 26, 42, 43, 40, 50, 40, 44, 45, 35, 30, 25, 22, 43, 26, 33, 26, 39, 47, 38, 58, 65, 54, 35, 46, 32, 42, 33, 40, 34, 35, 33, 60, 48, 56, 38, 53, 51, 53, 53, 80, 90, 27, 52, 43, 48, 29, 49, 43, 43, 21, 59, 58, 47, 26, 87, 58, 43, 50, 45, 41, 45, 43, 37, 47, 42, 30, 42, 40, 35, 50, 46, 36, 46, 35, 44, 46, 23, 48, 35, 33, 36, 27, 45, 55, 39, 35, 52, 48, 48, 43, 42, 43, 33, 47, 16, 44, 33, 36, 49, 39, 44, 52, 33, 33, 39, 38, 45, 42, 25]}, {\"mode\": \"markers\", \"name\": \"SP98\", \"type\": \"scatter\", \"x\": [1.64, 0.2, 2.78, 3.27, 2.41, 5.81, 2.31, 2.16, 2.76, 2.15, 0.95, 31.33, 2.41, 1.98, 2.95, 2.16, 0.37, 0.17, 1.69, 1.28, 2.3, 2.64, 2.57, 2.28, 3.26, 2.62, 2.37, 0.32, 2.73, 2.49, 2.32, 2.63, 2.62, 4.86, 2.64, 8.7, 2.63, 1.16, 2.92, 2.37, 2.41, 1.98, 3.07, 2.6, 2.53, 2.48, 2.74, 2.1, 3.12, 2.64, 2.0, 2.23, 2.98, 2.96, 2.26, 1.45, 1.29, 4.52, 3.76, 0.71, 2.3, 4.32, 29.58, 0.75, 2.51, 3.25, 2.18, 2.94, 0.59, 4.57, 6.62, 0.78, 2.31, 3.82, 2.7, 2.22, 2.31, 2.1, 5.39, 2.54, 2.57, 1.94, 4.49, 1.58, 3.09, 2.74, 2.79, 0.8, 3.58, 2.62, 0.7, 3.41, 3.92, 2.62, 2.02, 9.3, 2.88, 11.69, 9.51, 2.62, 8.02, 6.13, 0.39, 1.09, 4.0, 5.84, 3.02, 3.07, 1.64, 1.68, 0.27, 0.78, 5.03, 7.0, 0.11, 2.82, 2.44, 1.36, 2.87, 2.75, 3.83, 3.68, 2.78, 4.32, 7.25, 2.42, 2.37, 6.2, 2.53, 2.62, 6.83, 3.73, 2.28, 2.46, 2.1, 2.36, 5.42, 1.13, 5.24, 3.9, 3.58, 3.64, 3.56, 5.49, 4.1, 3.35, 4.21, 7.13, 5.89, 11.3, 9.3, 7.38, 1.34, 1.8, 4.22, 1.18, 3.49, 2.89, 1.69, 2.82, 4.02, 5.02, 3.62, 4.45, 9.36, 3.8, 3.77, 6.64, 4.21, 4.14, 4.1, 2.25, 2.4, 7.42, 4.68, 2.3, 4.95, 2.63, 2.17, 4.12, 6.53, 8.91, 45.87, 40.77, 7.08, 3.95, 6.32, 4.12, 5.67, 4.26, 3.35, 3.9, 4.08, 4.32, 4.26, 0.87, 4.05, 1.22, 1.22, 4.12, 1.25, 3.9, 3.14, 3.58, 4.1, 3.42, 4.05, 3.08, 4.0, 3.42, 4.44, 5.1, 8.23, 2.32, 7.12, 3.22, 3.37, 4.05, 3.68, 4.39, 1.66, 1.49, 3.68, 4.32, 3.74, 4.21, 3.35, 2.94], \"y\": [26, 30, 38, 36, 46, 50, 43, 40, 26, 30, 42, 38, 59, 58, 46, 24, 36, 32, 39, 40, 32, 38, 37, 36, 62, 57, 21, 28, 29, 35, 51, 29, 58, 40, 36, 36, 37, 26, 23, 58, 55, 29, 37, 44, 32, 21, 32, 25, 25, 36, 29, 63, 61, 46, 28, 82, 24, 61, 57, 52, 18, 23, 24, 26, 24, 57, 41, 55, 40, 37, 55, 20, 29, 42, 25, 38, 39, 50, 56, 28, 36, 39, 42, 57, 25, 58, 51, 45, 32, 22, 37, 60, 51, 43, 21, 52, 57, 33, 35, 37, 34, 71, 62, 25, 18, 45, 75, 26, 36, 56, 37, 25, 21, 66, 42, 27, 26, 42, 38, 40, 43, 58, 55, 24, 38, 57, 56, 46, 37, 44, 46, 39, 33, 43, 26, 30, 25, 38, 61, 24, 40, 58, 49, 25, 37, 41, 45, 14, 45, 52, 46, 28, 61, 61, 37, 80, 62, 34, 44, 60, 39, 38, 71, 53, 80, 26, 49, 40, 36, 43, 55, 38, 51, 44, 42, 44, 38, 47, 75, 29, 50, 52, 51, 59, 55, 73, 44, 41, 69, 85, 67, 44, 43, 82, 61, 41, 63, 54, 24, 24, 43, 42, 44, 33, 28, 31, 26, 26, 36, 39, 21, 22, 31, 33, 42, 33, 32, 26, 22, 58, 27, 32, 55, 56, 34, 39, 62, 53, 38, 42, 32, 43, 69, 38, 29, 38, 55, 36, 40, 48, 55, 36, 33, 54, 32, 16, 37, 42, 57, 57, 30, 42, 53, 46, 20, 33, 31, 55, 22, 41, 45, 50, 28, 24, 29, 29, 40, 29, 42, 50, 41, 32, 75, 88, 50, 40, 32, 40, 41, 26, 42, 43, 40, 50, 40, 44, 45, 35, 30, 25, 22, 43, 26, 33, 26, 39, 47, 38, 58, 65, 54, 35, 46, 32, 42, 33, 40, 34, 35, 33, 60, 48, 56, 38, 53, 51, 53, 53, 80, 90, 27, 52, 43, 48, 29, 49, 43, 43, 21, 59, 58, 47, 26, 87, 58, 43, 50, 45, 41, 45, 43, 37, 47, 42, 30, 42, 40, 35, 50, 46, 36, 46, 35, 44, 46, 23, 48, 35, 33, 36, 27, 45, 55, 39, 35, 52, 48, 48, 43, 42, 43, 33, 47, 16, 44, 33, 36, 49, 39, 44, 52, 33, 33, 39, 38, 45, 42, 25]}],                        {\"template\": {\"data\": {\"bar\": [{\"error_x\": {\"color\": \"#2a3f5f\"}, \"error_y\": {\"color\": \"#2a3f5f\"}, \"marker\": {\"line\": {\"color\": \"#E5ECF6\", \"width\": 0.5}}, \"type\": \"bar\"}], \"barpolar\": [{\"marker\": {\"line\": {\"color\": \"#E5ECF6\", \"width\": 0.5}}, \"type\": \"barpolar\"}], \"carpet\": [{\"aaxis\": {\"endlinecolor\": \"#2a3f5f\", \"gridcolor\": \"white\", \"linecolor\": \"white\", \"minorgridcolor\": \"white\", \"startlinecolor\": \"#2a3f5f\"}, \"baxis\": {\"endlinecolor\": \"#2a3f5f\", \"gridcolor\": \"white\", \"linecolor\": \"white\", \"minorgridcolor\": \"white\", \"startlinecolor\": \"#2a3f5f\"}, \"type\": \"carpet\"}], \"choropleth\": [{\"colorbar\": {\"outlinewidth\": 0, \"ticks\": \"\"}, \"type\": \"choropleth\"}], \"contour\": [{\"colorbar\": {\"outlinewidth\": 0, \"ticks\": \"\"}, \"colorscale\": [[0.0, \"#0d0887\"], [0.1111111111111111, \"#46039f\"], [0.2222222222222222, \"#7201a8\"], [0.3333333333333333, \"#9c179e\"], [0.4444444444444444, \"#bd3786\"], [0.5555555555555556, \"#d8576b\"], [0.6666666666666666, \"#ed7953\"], [0.7777777777777778, \"#fb9f3a\"], [0.8888888888888888, \"#fdca26\"], [1.0, \"#f0f921\"]], \"type\": \"contour\"}], \"contourcarpet\": [{\"colorbar\": {\"outlinewidth\": 0, \"ticks\": \"\"}, \"type\": \"contourcarpet\"}], \"heatmap\": [{\"colorbar\": {\"outlinewidth\": 0, \"ticks\": \"\"}, \"colorscale\": [[0.0, \"#0d0887\"], [0.1111111111111111, \"#46039f\"], [0.2222222222222222, \"#7201a8\"], [0.3333333333333333, \"#9c179e\"], [0.4444444444444444, \"#bd3786\"], [0.5555555555555556, \"#d8576b\"], [0.6666666666666666, \"#ed7953\"], [0.7777777777777778, \"#fb9f3a\"], [0.8888888888888888, \"#fdca26\"], [1.0, \"#f0f921\"]], \"type\": \"heatmap\"}], \"heatmapgl\": [{\"colorbar\": {\"outlinewidth\": 0, \"ticks\": \"\"}, \"colorscale\": [[0.0, \"#0d0887\"], [0.1111111111111111, \"#46039f\"], [0.2222222222222222, \"#7201a8\"], [0.3333333333333333, \"#9c179e\"], [0.4444444444444444, \"#bd3786\"], [0.5555555555555556, \"#d8576b\"], [0.6666666666666666, \"#ed7953\"], [0.7777777777777778, \"#fb9f3a\"], [0.8888888888888888, \"#fdca26\"], [1.0, \"#f0f921\"]], \"type\": \"heatmapgl\"}], \"histogram\": [{\"marker\": {\"colorbar\": {\"outlinewidth\": 0, \"ticks\": \"\"}}, \"type\": \"histogram\"}], \"histogram2d\": [{\"colorbar\": {\"outlinewidth\": 0, \"ticks\": \"\"}, \"colorscale\": [[0.0, \"#0d0887\"], [0.1111111111111111, \"#46039f\"], [0.2222222222222222, \"#7201a8\"], [0.3333333333333333, \"#9c179e\"], [0.4444444444444444, \"#bd3786\"], [0.5555555555555556, \"#d8576b\"], [0.6666666666666666, \"#ed7953\"], [0.7777777777777778, \"#fb9f3a\"], [0.8888888888888888, \"#fdca26\"], [1.0, \"#f0f921\"]], \"type\": \"histogram2d\"}], \"histogram2dcontour\": [{\"colorbar\": {\"outlinewidth\": 0, \"ticks\": \"\"}, \"colorscale\": [[0.0, \"#0d0887\"], [0.1111111111111111, \"#46039f\"], [0.2222222222222222, \"#7201a8\"], [0.3333333333333333, \"#9c179e\"], [0.4444444444444444, \"#bd3786\"], [0.5555555555555556, \"#d8576b\"], [0.6666666666666666, \"#ed7953\"], [0.7777777777777778, \"#fb9f3a\"], [0.8888888888888888, \"#fdca26\"], [1.0, \"#f0f921\"]], \"type\": \"histogram2dcontour\"}], \"mesh3d\": [{\"colorbar\": {\"outlinewidth\": 0, \"ticks\": \"\"}, \"type\": \"mesh3d\"}], \"parcoords\": [{\"line\": {\"colorbar\": {\"outlinewidth\": 0, \"ticks\": \"\"}}, \"type\": \"parcoords\"}], \"pie\": [{\"automargin\": true, \"type\": \"pie\"}], \"scatter\": [{\"marker\": {\"colorbar\": {\"outlinewidth\": 0, \"ticks\": \"\"}}, \"type\": \"scatter\"}], \"scatter3d\": [{\"line\": {\"colorbar\": {\"outlinewidth\": 0, \"ticks\": \"\"}}, \"marker\": {\"colorbar\": {\"outlinewidth\": 0, \"ticks\": \"\"}}, \"type\": \"scatter3d\"}], \"scattercarpet\": [{\"marker\": {\"colorbar\": {\"outlinewidth\": 0, \"ticks\": \"\"}}, \"type\": \"scattercarpet\"}], \"scattergeo\": [{\"marker\": {\"colorbar\": {\"outlinewidth\": 0, \"ticks\": \"\"}}, \"type\": \"scattergeo\"}], \"scattergl\": [{\"marker\": {\"colorbar\": {\"outlinewidth\": 0, \"ticks\": \"\"}}, \"type\": \"scattergl\"}], \"scattermapbox\": [{\"marker\": {\"colorbar\": {\"outlinewidth\": 0, \"ticks\": \"\"}}, \"type\": \"scattermapbox\"}], \"scatterpolar\": [{\"marker\": {\"colorbar\": {\"outlinewidth\": 0, \"ticks\": \"\"}}, \"type\": \"scatterpolar\"}], \"scatterpolargl\": [{\"marker\": {\"colorbar\": {\"outlinewidth\": 0, \"ticks\": \"\"}}, \"type\": \"scatterpolargl\"}], \"scatterternary\": [{\"marker\": {\"colorbar\": {\"outlinewidth\": 0, \"ticks\": \"\"}}, \"type\": \"scatterternary\"}], \"surface\": [{\"colorbar\": {\"outlinewidth\": 0, \"ticks\": \"\"}, \"colorscale\": [[0.0, \"#0d0887\"], [0.1111111111111111, \"#46039f\"], [0.2222222222222222, \"#7201a8\"], [0.3333333333333333, \"#9c179e\"], [0.4444444444444444, \"#bd3786\"], [0.5555555555555556, \"#d8576b\"], [0.6666666666666666, \"#ed7953\"], [0.7777777777777778, \"#fb9f3a\"], [0.8888888888888888, \"#fdca26\"], [1.0, \"#f0f921\"]], \"type\": \"surface\"}], \"table\": [{\"cells\": {\"fill\": {\"color\": \"#EBF0F8\"}, \"line\": {\"color\": \"white\"}}, \"header\": {\"fill\": {\"color\": \"#C8D4E3\"}, \"line\": {\"color\": \"white\"}}, \"type\": \"table\"}]}, \"layout\": {\"annotationdefaults\": {\"arrowcolor\": \"#2a3f5f\", \"arrowhead\": 0, \"arrowwidth\": 1}, \"autotypenumbers\": \"strict\", \"coloraxis\": {\"colorbar\": {\"outlinewidth\": 0, \"ticks\": \"\"}}, \"colorscale\": {\"diverging\": [[0, \"#8e0152\"], [0.1, \"#c51b7d\"], [0.2, \"#de77ae\"], [0.3, \"#f1b6da\"], [0.4, \"#fde0ef\"], [0.5, \"#f7f7f7\"], [0.6, \"#e6f5d0\"], [0.7, \"#b8e186\"], [0.8, \"#7fbc41\"], [0.9, \"#4d9221\"], [1, \"#276419\"]], \"sequential\": [[0.0, \"#0d0887\"], [0.1111111111111111, \"#46039f\"], [0.2222222222222222, \"#7201a8\"], [0.3333333333333333, \"#9c179e\"], [0.4444444444444444, \"#bd3786\"], [0.5555555555555556, \"#d8576b\"], [0.6666666666666666, \"#ed7953\"], [0.7777777777777778, \"#fb9f3a\"], [0.8888888888888888, \"#fdca26\"], [1.0, \"#f0f921\"]], \"sequentialminus\": [[0.0, \"#0d0887\"], [0.1111111111111111, \"#46039f\"], [0.2222222222222222, \"#7201a8\"], [0.3333333333333333, \"#9c179e\"], [0.4444444444444444, \"#bd3786\"], [0.5555555555555556, \"#d8576b\"], [0.6666666666666666, \"#ed7953\"], [0.7777777777777778, \"#fb9f3a\"], [0.8888888888888888, \"#fdca26\"], [1.0, \"#f0f921\"]]}, \"colorway\": [\"#636efa\", \"#EF553B\", \"#00cc96\", \"#ab63fa\", \"#FFA15A\", \"#19d3f3\", \"#FF6692\", \"#B6E880\", \"#FF97FF\", \"#FECB52\"], \"font\": {\"color\": \"#2a3f5f\"}, \"geo\": {\"bgcolor\": \"white\", \"lakecolor\": \"white\", \"landcolor\": \"#E5ECF6\", \"showlakes\": true, \"showland\": true, \"subunitcolor\": \"white\"}, \"hoverlabel\": {\"align\": \"left\"}, \"hovermode\": \"closest\", \"mapbox\": {\"style\": \"light\"}, \"paper_bgcolor\": \"white\", \"plot_bgcolor\": \"#E5ECF6\", \"polar\": {\"angularaxis\": {\"gridcolor\": \"white\", \"linecolor\": \"white\", \"ticks\": \"\"}, \"bgcolor\": \"#E5ECF6\", \"radialaxis\": {\"gridcolor\": \"white\", \"linecolor\": \"white\", \"ticks\": \"\"}}, \"scene\": {\"xaxis\": {\"backgroundcolor\": \"#E5ECF6\", \"gridcolor\": \"white\", \"gridwidth\": 2, \"linecolor\": \"white\", \"showbackground\": true, \"ticks\": \"\", \"zerolinecolor\": \"white\"}, \"yaxis\": {\"backgroundcolor\": \"#E5ECF6\", \"gridcolor\": \"white\", \"gridwidth\": 2, \"linecolor\": \"white\", \"showbackground\": true, \"ticks\": \"\", \"zerolinecolor\": \"white\"}, \"zaxis\": {\"backgroundcolor\": \"#E5ECF6\", \"gridcolor\": \"white\", \"gridwidth\": 2, \"linecolor\": \"white\", \"showbackground\": true, \"ticks\": \"\", \"zerolinecolor\": \"white\"}}, \"shapedefaults\": {\"line\": {\"color\": \"#2a3f5f\"}}, \"ternary\": {\"aaxis\": {\"gridcolor\": \"white\", \"linecolor\": \"white\", \"ticks\": \"\"}, \"baxis\": {\"gridcolor\": \"white\", \"linecolor\": \"white\", \"ticks\": \"\"}, \"bgcolor\": \"#E5ECF6\", \"caxis\": {\"gridcolor\": \"white\", \"linecolor\": \"white\", \"ticks\": \"\"}}, \"title\": {\"x\": 0.05}, \"xaxis\": {\"automargin\": true, \"gridcolor\": \"white\", \"linecolor\": \"white\", \"ticks\": \"\", \"title\": {\"standoff\": 15}, \"zerolinecolor\": \"white\", \"zerolinewidth\": 2}, \"yaxis\": {\"automargin\": true, \"gridcolor\": \"white\", \"linecolor\": \"white\", \"ticks\": \"\", \"title\": {\"standoff\": 15}, \"zerolinecolor\": \"white\", \"zerolinewidth\": 2}}}, \"title\": {\"text\": \"Does Speed affect Mileage differently between the Two Fuel Types?\"}, \"xaxis\": {\"title\": {\"text\": \"Mileage (km/L)\"}}, \"yaxis\": {\"title\": {\"text\": \"Speed (km/hr)\"}}},                        {\"responsive\": true}                    ).then(function(){\n",
       "                            \n",
       "var gd = document.getElementById('0ca3f3c4-a1de-408a-8f0b-df37800dd69a');\n",
       "var x = new MutationObserver(function (mutations, observer) {{\n",
       "        var display = window.getComputedStyle(gd).display;\n",
       "        if (!display || display === 'none') {{\n",
       "            console.log([gd, 'removed!']);\n",
       "            Plotly.purge(gd);\n",
       "            observer.disconnect();\n",
       "        }}\n",
       "}});\n",
       "\n",
       "// Listen for the removal of the full notebook cells\n",
       "var notebookContainer = gd.closest('#notebook-container');\n",
       "if (notebookContainer) {{\n",
       "    x.observe(notebookContainer, {childList: true});\n",
       "}}\n",
       "\n",
       "// Listen for the clearing of the current output cell\n",
       "var outputEl = gd.closest('.output');\n",
       "if (outputEl) {{\n",
       "    x.observe(outputEl, {childList: true});\n",
       "}}\n",
       "\n",
       "                        })                };                });            </script>        </div>"
      ]
     },
     "metadata": {},
     "output_type": "display_data"
    }
   ],
   "source": [
    "fig = go.Figure()\n",
    "fig.add_trace(go.Scatter(x=e_mileage, y=df['speed'],\n",
    "                    mode='markers', name='E10'))\n",
    "fig.add_trace(go.Scatter(x=sp_mileage, y=df['speed'],\n",
    "                    mode='markers', name='SP98'))\n",
    "fig.update_layout(title='Does Speed affect Mileage differently between the Two Fuel Types?',\n",
    "                   xaxis_title='Mileage (km/L)',\n",
    "                   yaxis_title='Speed (km/hr)')\n",
    "fig.show()"
   ]
  },
  {
   "cell_type": "code",
   "execution_count": 223,
   "metadata": {},
   "outputs": [],
   "source": [
    "e_hourly=df_e['expense(€)'].sum()/df_e['estimate(hrs)'].sum()"
   ]
  },
  {
   "cell_type": "code",
   "execution_count": 224,
   "metadata": {},
   "outputs": [],
   "source": [
    "sp_hourly=df_sp['expense(€)'].sum()/df_sp['estimate(hrs)'].sum()"
   ]
  },
  {
   "cell_type": "code",
   "execution_count": 230,
   "metadata": {},
   "outputs": [
    {
     "name": "stdout",
     "output_type": "stream",
     "text": [
      "Hourly expense dirving with E10:  14.81\n",
      "Hourly expense dirving with SP98:  16.51\n",
      "--------------------------------------------------\n",
      "Savings in hourly wage for driver:  1.70\n"
     ]
    }
   ],
   "source": [
    "print(f'Hourly expense dirving with E10: {e_hourly: .2f}')\n",
    "print(f'Hourly expense dirving with SP98: {sp_hourly: .2f}')  \n",
    "print('-'*50)\n",
    "print(f'Savings in hourly wage for driver: {sp_hourly - e_hourly: .2f}')"
   ]
  },
  {
   "cell_type": "code",
   "execution_count": 231,
   "metadata": {},
   "outputs": [
    {
     "data": {
      "text/plain": [
       "51.0"
      ]
     },
     "execution_count": 231,
     "metadata": {},
     "output_type": "execute_result"
    }
   ],
   "source": [
    "1.70*30"
   ]
  },
  {
   "cell_type": "code",
   "execution_count": null,
   "metadata": {},
   "outputs": [],
   "source": []
  }
 ],
 "metadata": {
  "kernelspec": {
   "display_name": "Python 3",
   "language": "python",
   "name": "python3"
  },
  "language_info": {
   "codemirror_mode": {
    "name": "ipython",
    "version": 3
   },
   "file_extension": ".py",
   "mimetype": "text/x-python",
   "name": "python",
   "nbconvert_exporter": "python",
   "pygments_lexer": "ipython3",
   "version": "3.8.5"
  }
 },
 "nbformat": 4,
 "nbformat_minor": 4
}
