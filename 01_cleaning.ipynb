{
 "cells": [
  {
   "cell_type": "markdown",
   "id": "a13d5301",
   "metadata": {},
   "source": [
    "# Exploración y limpieza de datos"
   ]
  },
  {
   "cell_type": "code",
   "execution_count": 20,
   "id": "5b4bcfad",
   "metadata": {},
   "outputs": [],
   "source": [
    "import pandas as pd"
   ]
  },
  {
   "cell_type": "code",
   "execution_count": 2,
   "id": "d7196744",
   "metadata": {},
   "outputs": [],
   "source": [
    "mesur = pd.read_csv('measurements.csv')"
   ]
  },
  {
   "cell_type": "code",
   "execution_count": 3,
   "id": "e1c20dee",
   "metadata": {},
   "outputs": [
    {
     "data": {
      "text/html": [
       "<div>\n",
       "<style scoped>\n",
       "    .dataframe tbody tr th:only-of-type {\n",
       "        vertical-align: middle;\n",
       "    }\n",
       "\n",
       "    .dataframe tbody tr th {\n",
       "        vertical-align: top;\n",
       "    }\n",
       "\n",
       "    .dataframe thead th {\n",
       "        text-align: right;\n",
       "    }\n",
       "</style>\n",
       "<table border=\"1\" class=\"dataframe\">\n",
       "  <thead>\n",
       "    <tr style=\"text-align: right;\">\n",
       "      <th></th>\n",
       "      <th>distance</th>\n",
       "      <th>consume</th>\n",
       "      <th>speed</th>\n",
       "      <th>temp_inside</th>\n",
       "      <th>temp_outside</th>\n",
       "      <th>specials</th>\n",
       "      <th>gas_type</th>\n",
       "      <th>AC</th>\n",
       "      <th>rain</th>\n",
       "      <th>sun</th>\n",
       "      <th>refill liters</th>\n",
       "      <th>refill gas</th>\n",
       "    </tr>\n",
       "  </thead>\n",
       "  <tbody>\n",
       "    <tr>\n",
       "      <th>317</th>\n",
       "      <td>41,9</td>\n",
       "      <td>4,7</td>\n",
       "      <td>53</td>\n",
       "      <td>22</td>\n",
       "      <td>14</td>\n",
       "      <td>NaN</td>\n",
       "      <td>SP98</td>\n",
       "      <td>0</td>\n",
       "      <td>0</td>\n",
       "      <td>0</td>\n",
       "      <td>NaN</td>\n",
       "      <td>NaN</td>\n",
       "    </tr>\n",
       "    <tr>\n",
       "      <th>48</th>\n",
       "      <td>11,8</td>\n",
       "      <td>4,9</td>\n",
       "      <td>25</td>\n",
       "      <td>21,5</td>\n",
       "      <td>11</td>\n",
       "      <td>NaN</td>\n",
       "      <td>SP98</td>\n",
       "      <td>0</td>\n",
       "      <td>0</td>\n",
       "      <td>0</td>\n",
       "      <td>NaN</td>\n",
       "      <td>NaN</td>\n",
       "    </tr>\n",
       "    <tr>\n",
       "      <th>73</th>\n",
       "      <td>9,7</td>\n",
       "      <td>3,9</td>\n",
       "      <td>42</td>\n",
       "      <td>21,5</td>\n",
       "      <td>8</td>\n",
       "      <td>NaN</td>\n",
       "      <td>SP98</td>\n",
       "      <td>0</td>\n",
       "      <td>0</td>\n",
       "      <td>0</td>\n",
       "      <td>NaN</td>\n",
       "      <td>NaN</td>\n",
       "    </tr>\n",
       "    <tr>\n",
       "      <th>170</th>\n",
       "      <td>22,7</td>\n",
       "      <td>4,7</td>\n",
       "      <td>55</td>\n",
       "      <td>21,5</td>\n",
       "      <td>6</td>\n",
       "      <td>NaN</td>\n",
       "      <td>E10</td>\n",
       "      <td>0</td>\n",
       "      <td>0</td>\n",
       "      <td>0</td>\n",
       "      <td>NaN</td>\n",
       "      <td>NaN</td>\n",
       "    </tr>\n",
       "    <tr>\n",
       "      <th>86</th>\n",
       "      <td>13,2</td>\n",
       "      <td>4,3</td>\n",
       "      <td>51</td>\n",
       "      <td>20</td>\n",
       "      <td>11</td>\n",
       "      <td>rain</td>\n",
       "      <td>SP98</td>\n",
       "      <td>0</td>\n",
       "      <td>1</td>\n",
       "      <td>0</td>\n",
       "      <td>NaN</td>\n",
       "      <td>NaN</td>\n",
       "    </tr>\n",
       "  </tbody>\n",
       "</table>\n",
       "</div>"
      ],
      "text/plain": [
       "    distance consume  speed temp_inside  temp_outside specials gas_type  AC  \\\n",
       "317     41,9     4,7     53          22            14      NaN     SP98   0   \n",
       "48      11,8     4,9     25        21,5            11      NaN     SP98   0   \n",
       "73       9,7     3,9     42        21,5             8      NaN     SP98   0   \n",
       "170     22,7     4,7     55        21,5             6      NaN      E10   0   \n",
       "86      13,2     4,3     51          20            11     rain     SP98   0   \n",
       "\n",
       "     rain  sun refill liters refill gas  \n",
       "317     0    0           NaN        NaN  \n",
       "48      0    0           NaN        NaN  \n",
       "73      0    0           NaN        NaN  \n",
       "170     0    0           NaN        NaN  \n",
       "86      1    0           NaN        NaN  "
      ]
     },
     "execution_count": 3,
     "metadata": {},
     "output_type": "execute_result"
    }
   ],
   "source": [
    "mesur.sample(5)"
   ]
  },
  {
   "cell_type": "code",
   "execution_count": 4,
   "id": "6eeebf67",
   "metadata": {
    "scrolled": true
   },
   "outputs": [
    {
     "name": "stdout",
     "output_type": "stream",
     "text": [
      "<class 'pandas.core.frame.DataFrame'>\n",
      "RangeIndex: 388 entries, 0 to 387\n",
      "Data columns (total 12 columns):\n",
      " #   Column         Non-Null Count  Dtype \n",
      "---  ------         --------------  ----- \n",
      " 0   distance       388 non-null    object\n",
      " 1   consume        388 non-null    object\n",
      " 2   speed          388 non-null    int64 \n",
      " 3   temp_inside    376 non-null    object\n",
      " 4   temp_outside   388 non-null    int64 \n",
      " 5   specials       93 non-null     object\n",
      " 6   gas_type       388 non-null    object\n",
      " 7   AC             388 non-null    int64 \n",
      " 8   rain           388 non-null    int64 \n",
      " 9   sun            388 non-null    int64 \n",
      " 10  refill liters  13 non-null     object\n",
      " 11  refill gas     13 non-null     object\n",
      "dtypes: int64(5), object(7)\n",
      "memory usage: 36.5+ KB\n"
     ]
    }
   ],
   "source": [
    "mesur.info()"
   ]
  },
  {
   "cell_type": "code",
   "execution_count": 5,
   "id": "167f2aef",
   "metadata": {},
   "outputs": [
    {
     "data": {
      "text/plain": [
       "(388, 12)"
      ]
     },
     "execution_count": 5,
     "metadata": {},
     "output_type": "execute_result"
    }
   ],
   "source": [
    "mesur.shape"
   ]
  },
  {
   "cell_type": "code",
   "execution_count": 6,
   "id": "9a8ff33d",
   "metadata": {},
   "outputs": [
    {
     "data": {
      "text/plain": [
       "distance           0\n",
       "consume            0\n",
       "speed              0\n",
       "temp_inside       12\n",
       "temp_outside       0\n",
       "specials         295\n",
       "gas_type           0\n",
       "AC                 0\n",
       "rain               0\n",
       "sun                0\n",
       "refill liters    375\n",
       "refill gas       375\n",
       "dtype: int64"
      ]
     },
     "execution_count": 6,
     "metadata": {},
     "output_type": "execute_result"
    }
   ],
   "source": [
    "mesur.isna().sum() #temp_inside 12 // specials 295 //refill liters + refill gas 375"
   ]
  },
  {
   "cell_type": "code",
   "execution_count": 7,
   "id": "0e0aa6cb",
   "metadata": {},
   "outputs": [],
   "source": [
    "#como refill liters y refill gas tienen 375 de 388 nulls, prescindimos de ellas\n",
    "mesur.drop(['refill liters','refill gas'],axis=1,inplace=True)"
   ]
  },
  {
   "cell_type": "code",
   "execution_count": 8,
   "id": "3ca42ae8",
   "metadata": {},
   "outputs": [
    {
     "data": {
      "text/plain": [
       "rain                  32\n",
       "sun                   27\n",
       "AC rain                9\n",
       "ac                     8\n",
       "AC                     6\n",
       "snow                   3\n",
       "sun ac                 3\n",
       "AC snow                1\n",
       "half rain half sun     1\n",
       "AC sun                 1\n",
       "AC Sun                 1\n",
       "ac rain                1\n",
       "Name: specials, dtype: int64"
      ]
     },
     "execution_count": 8,
     "metadata": {},
     "output_type": "execute_result"
    }
   ],
   "source": [
    "mesur.specials.value_counts()\n",
    "#specials tiene más del 75% de datos nulos y la mayoría de loss datos aparencen ya en columnas (rain, ac...)\n",
    "# también prescindimos de esta columna"
   ]
  },
  {
   "cell_type": "code",
   "execution_count": 9,
   "id": "487ddae5",
   "metadata": {},
   "outputs": [],
   "source": [
    "mesur.drop('specials',axis=1,inplace=True)"
   ]
  },
  {
   "cell_type": "code",
   "execution_count": 10,
   "id": "0f6d350e",
   "metadata": {},
   "outputs": [
    {
     "data": {
      "text/html": [
       "<div>\n",
       "<style scoped>\n",
       "    .dataframe tbody tr th:only-of-type {\n",
       "        vertical-align: middle;\n",
       "    }\n",
       "\n",
       "    .dataframe tbody tr th {\n",
       "        vertical-align: top;\n",
       "    }\n",
       "\n",
       "    .dataframe thead th {\n",
       "        text-align: right;\n",
       "    }\n",
       "</style>\n",
       "<table border=\"1\" class=\"dataframe\">\n",
       "  <thead>\n",
       "    <tr style=\"text-align: right;\">\n",
       "      <th></th>\n",
       "      <th>distance</th>\n",
       "      <th>consume</th>\n",
       "      <th>speed</th>\n",
       "      <th>temp_inside</th>\n",
       "      <th>temp_outside</th>\n",
       "      <th>gas_type</th>\n",
       "      <th>AC</th>\n",
       "      <th>rain</th>\n",
       "      <th>sun</th>\n",
       "    </tr>\n",
       "  </thead>\n",
       "  <tbody>\n",
       "    <tr>\n",
       "      <th>60</th>\n",
       "      <td>2,9</td>\n",
       "      <td>7,9</td>\n",
       "      <td>18</td>\n",
       "      <td>21,5</td>\n",
       "      <td>9</td>\n",
       "      <td>SP98</td>\n",
       "      <td>1</td>\n",
       "      <td>1</td>\n",
       "      <td>0</td>\n",
       "    </tr>\n",
       "    <tr>\n",
       "      <th>349</th>\n",
       "      <td>18,3</td>\n",
       "      <td>4,3</td>\n",
       "      <td>46</td>\n",
       "      <td>22</td>\n",
       "      <td>16</td>\n",
       "      <td>SP98</td>\n",
       "      <td>0</td>\n",
       "      <td>0</td>\n",
       "      <td>0</td>\n",
       "    </tr>\n",
       "    <tr>\n",
       "      <th>77</th>\n",
       "      <td>24,8</td>\n",
       "      <td>5,1</td>\n",
       "      <td>50</td>\n",
       "      <td>21,5</td>\n",
       "      <td>9</td>\n",
       "      <td>SP98</td>\n",
       "      <td>0</td>\n",
       "      <td>0</td>\n",
       "      <td>0</td>\n",
       "    </tr>\n",
       "  </tbody>\n",
       "</table>\n",
       "</div>"
      ],
      "text/plain": [
       "    distance consume  speed temp_inside  temp_outside gas_type  AC  rain  sun\n",
       "60       2,9     7,9     18        21,5             9     SP98   1     1    0\n",
       "349     18,3     4,3     46          22            16     SP98   0     0    0\n",
       "77      24,8     5,1     50        21,5             9     SP98   0     0    0"
      ]
     },
     "execution_count": 10,
     "metadata": {},
     "output_type": "execute_result"
    }
   ],
   "source": [
    "mesur.sample(3)"
   ]
  },
  {
   "cell_type": "markdown",
   "id": "014224a9",
   "metadata": {},
   "source": [
    "todos los datos son numéricos menos gas_type, por lo que, estas variables, si son tipo objet, las convertiremos a tipo float o int,dependiendo del caso..."
   ]
  },
  {
   "cell_type": "code",
   "execution_count": 11,
   "id": "07d93c75",
   "metadata": {},
   "outputs": [
    {
     "data": {
      "text/plain": [
       "Index(['distance', 'consume', 'temp_inside', 'gas_type'], dtype='object')"
      ]
     },
     "execution_count": 11,
     "metadata": {},
     "output_type": "execute_result"
    }
   ],
   "source": [
    "mesur.select_dtypes(include=['object']).columns"
   ]
  },
  {
   "cell_type": "code",
   "execution_count": 12,
   "id": "b5c6bf63",
   "metadata": {},
   "outputs": [],
   "source": [
    "mesur.distance = mesur.distance.str.replace(',','.')\n",
    "mesur.consume = mesur.consume.str.replace(',','.')\n",
    "mesur.temp_inside = mesur.temp_inside.str.replace(',','.')"
   ]
  },
  {
   "cell_type": "code",
   "execution_count": 13,
   "id": "0713be6b",
   "metadata": {},
   "outputs": [],
   "source": [
    "mesur.distance = mesur.distance.astype('float')\n",
    "mesur.consume = mesur.consume.astype('float')\n",
    "mesur.temp_inside = mesur.temp_inside.astype('float')"
   ]
  },
  {
   "cell_type": "code",
   "execution_count": 14,
   "id": "c2b206b2",
   "metadata": {},
   "outputs": [
    {
     "name": "stdout",
     "output_type": "stream",
     "text": [
      "<class 'pandas.core.frame.DataFrame'>\n",
      "RangeIndex: 388 entries, 0 to 387\n",
      "Data columns (total 9 columns):\n",
      " #   Column        Non-Null Count  Dtype  \n",
      "---  ------        --------------  -----  \n",
      " 0   distance      388 non-null    float64\n",
      " 1   consume       388 non-null    float64\n",
      " 2   speed         388 non-null    int64  \n",
      " 3   temp_inside   376 non-null    float64\n",
      " 4   temp_outside  388 non-null    int64  \n",
      " 5   gas_type      388 non-null    object \n",
      " 6   AC            388 non-null    int64  \n",
      " 7   rain          388 non-null    int64  \n",
      " 8   sun           388 non-null    int64  \n",
      "dtypes: float64(3), int64(5), object(1)\n",
      "memory usage: 27.4+ KB\n"
     ]
    }
   ],
   "source": [
    "mesur.info()"
   ]
  },
  {
   "cell_type": "code",
   "execution_count": 15,
   "id": "357bba00",
   "metadata": {},
   "outputs": [
    {
     "data": {
      "text/plain": [
       "distance         0\n",
       "consume          0\n",
       "speed            0\n",
       "temp_inside     12\n",
       "temp_outside     0\n",
       "gas_type         0\n",
       "AC               0\n",
       "rain             0\n",
       "sun              0\n",
       "dtype: int64"
      ]
     },
     "execution_count": 15,
     "metadata": {},
     "output_type": "execute_result"
    }
   ],
   "source": [
    "mesur.isna().sum() #sigue habiendo nulos en temp_inside, como son pocos los rellenaremos"
   ]
  },
  {
   "cell_type": "code",
   "execution_count": 16,
   "id": "fe2b03ee",
   "metadata": {},
   "outputs": [
    {
     "data": {
      "text/plain": [
       "(21.929521276595743,\n",
       " 0    21.5\n",
       " dtype: float64,\n",
       " 22.0)"
      ]
     },
     "execution_count": 16,
     "metadata": {},
     "output_type": "execute_result"
    }
   ],
   "source": [
    "mesur.temp_inside.mean(),mesur.temp_inside.mode(),mesur.temp_inside.median()"
   ]
  },
  {
   "cell_type": "code",
   "execution_count": 17,
   "id": "689f40e4",
   "metadata": {},
   "outputs": [
    {
     "data": {
      "text/plain": [
       "21.92952127659574"
      ]
     },
     "execution_count": 17,
     "metadata": {},
     "output_type": "execute_result"
    }
   ],
   "source": [
    "mesur.temp_inside.fillna(mesur.temp_inside.mean(),inplace = True)\n",
    "#rellenamos los nulos de temp_inside con la media y comprobamos que no hay práctiamente cambio en la propia media\n",
    "mesur.temp_inside.mean()"
   ]
  },
  {
   "cell_type": "code",
   "execution_count": 28,
   "id": "9ee6f9f1",
   "metadata": {},
   "outputs": [],
   "source": [
    "mesur.to_csv('export/mesur_clean.csv', index=False)"
   ]
  },
  {
   "cell_type": "code",
   "execution_count": null,
   "id": "f52a87a0",
   "metadata": {},
   "outputs": [],
   "source": []
  }
 ],
 "metadata": {
  "kernelspec": {
   "display_name": "ironhack",
   "language": "python",
   "name": "ironhack"
  },
  "language_info": {
   "codemirror_mode": {
    "name": "ipython",
    "version": 3
   },
   "file_extension": ".py",
   "mimetype": "text/x-python",
   "name": "python",
   "nbconvert_exporter": "python",
   "pygments_lexer": "ipython3",
   "version": "3.8.5"
  }
 },
 "nbformat": 4,
 "nbformat_minor": 5
}
