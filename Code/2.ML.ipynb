{
 "cells": [
  {
   "cell_type": "code",
   "execution_count": 60,
   "metadata": {},
   "outputs": [],
   "source": [
    "# import libraries\n",
    "import pandas as pd\n",
    "import numpy as np\n",
    "import h2o\n",
    "import pickle"
   ]
  },
  {
   "cell_type": "code",
   "execution_count": 33,
   "metadata": {},
   "outputs": [],
   "source": [
    "df = pd.read_csv('../Data/cleaned_mes.csv')"
   ]
  },
  {
   "cell_type": "code",
   "execution_count": 34,
   "metadata": {},
   "outputs": [
    {
     "data": {
      "text/html": [
       "<div>\n",
       "<style scoped>\n",
       "    .dataframe tbody tr th:only-of-type {\n",
       "        vertical-align: middle;\n",
       "    }\n",
       "\n",
       "    .dataframe tbody tr th {\n",
       "        vertical-align: top;\n",
       "    }\n",
       "\n",
       "    .dataframe thead th {\n",
       "        text-align: right;\n",
       "    }\n",
       "</style>\n",
       "<table border=\"1\" class=\"dataframe\">\n",
       "  <thead>\n",
       "    <tr style=\"text-align: right;\">\n",
       "      <th></th>\n",
       "      <th>distance</th>\n",
       "      <th>consume</th>\n",
       "      <th>speed</th>\n",
       "      <th>temp_inside</th>\n",
       "      <th>temp_outside</th>\n",
       "      <th>gas_type</th>\n",
       "      <th>AC</th>\n",
       "      <th>rain</th>\n",
       "      <th>sun</th>\n",
       "      <th>snow</th>\n",
       "      <th>temp_gradient</th>\n",
       "      <th>gas_price</th>\n",
       "      <th>con_dis</th>\n",
       "      <th>price_dis</th>\n",
       "    </tr>\n",
       "  </thead>\n",
       "  <tbody>\n",
       "    <tr>\n",
       "      <th>0</th>\n",
       "      <td>28.0</td>\n",
       "      <td>5.0</td>\n",
       "      <td>26</td>\n",
       "      <td>21.5</td>\n",
       "      <td>12</td>\n",
       "      <td>E10</td>\n",
       "      <td>False</td>\n",
       "      <td>False</td>\n",
       "      <td>False</td>\n",
       "      <td>False</td>\n",
       "      <td>-9.5</td>\n",
       "      <td>1.824</td>\n",
       "      <td>0.178571</td>\n",
       "      <td>0.325714</td>\n",
       "    </tr>\n",
       "    <tr>\n",
       "      <th>1</th>\n",
       "      <td>12.0</td>\n",
       "      <td>4.2</td>\n",
       "      <td>30</td>\n",
       "      <td>21.5</td>\n",
       "      <td>13</td>\n",
       "      <td>E10</td>\n",
       "      <td>False</td>\n",
       "      <td>False</td>\n",
       "      <td>False</td>\n",
       "      <td>False</td>\n",
       "      <td>-8.5</td>\n",
       "      <td>1.824</td>\n",
       "      <td>0.350000</td>\n",
       "      <td>0.638400</td>\n",
       "    </tr>\n",
       "    <tr>\n",
       "      <th>2</th>\n",
       "      <td>11.2</td>\n",
       "      <td>5.5</td>\n",
       "      <td>38</td>\n",
       "      <td>21.5</td>\n",
       "      <td>15</td>\n",
       "      <td>E10</td>\n",
       "      <td>False</td>\n",
       "      <td>False</td>\n",
       "      <td>False</td>\n",
       "      <td>False</td>\n",
       "      <td>-6.5</td>\n",
       "      <td>1.824</td>\n",
       "      <td>0.491071</td>\n",
       "      <td>0.895714</td>\n",
       "    </tr>\n",
       "    <tr>\n",
       "      <th>3</th>\n",
       "      <td>12.9</td>\n",
       "      <td>3.9</td>\n",
       "      <td>36</td>\n",
       "      <td>21.5</td>\n",
       "      <td>14</td>\n",
       "      <td>E10</td>\n",
       "      <td>False</td>\n",
       "      <td>False</td>\n",
       "      <td>False</td>\n",
       "      <td>False</td>\n",
       "      <td>-7.5</td>\n",
       "      <td>1.824</td>\n",
       "      <td>0.302326</td>\n",
       "      <td>0.551442</td>\n",
       "    </tr>\n",
       "    <tr>\n",
       "      <th>4</th>\n",
       "      <td>18.5</td>\n",
       "      <td>4.5</td>\n",
       "      <td>46</td>\n",
       "      <td>21.5</td>\n",
       "      <td>15</td>\n",
       "      <td>E10</td>\n",
       "      <td>False</td>\n",
       "      <td>False</td>\n",
       "      <td>False</td>\n",
       "      <td>False</td>\n",
       "      <td>-6.5</td>\n",
       "      <td>1.824</td>\n",
       "      <td>0.243243</td>\n",
       "      <td>0.443676</td>\n",
       "    </tr>\n",
       "  </tbody>\n",
       "</table>\n",
       "</div>"
      ],
      "text/plain": [
       "   distance  consume  speed  temp_inside  temp_outside gas_type     AC   rain  \\\n",
       "0      28.0      5.0     26         21.5            12      E10  False  False   \n",
       "1      12.0      4.2     30         21.5            13      E10  False  False   \n",
       "2      11.2      5.5     38         21.5            15      E10  False  False   \n",
       "3      12.9      3.9     36         21.5            14      E10  False  False   \n",
       "4      18.5      4.5     46         21.5            15      E10  False  False   \n",
       "\n",
       "     sun   snow  temp_gradient  gas_price   con_dis  price_dis  \n",
       "0  False  False           -9.5      1.824  0.178571   0.325714  \n",
       "1  False  False           -8.5      1.824  0.350000   0.638400  \n",
       "2  False  False           -6.5      1.824  0.491071   0.895714  \n",
       "3  False  False           -7.5      1.824  0.302326   0.551442  \n",
       "4  False  False           -6.5      1.824  0.243243   0.443676  "
      ]
     },
     "execution_count": 34,
     "metadata": {},
     "output_type": "execute_result"
    }
   ],
   "source": [
    "df.head()"
   ]
  },
  {
   "cell_type": "code",
   "execution_count": 46,
   "metadata": {},
   "outputs": [
    {
     "name": "stdout",
     "output_type": "stream",
     "text": [
      "Parse progress: |████████████████████████████████████████████████████████████████| (done) 100%\n"
     ]
    }
   ],
   "source": [
    "# import the prostate data\n",
    "datos_h2o = h2o.import_file('../Data/cleaned_mes.csv')\n"
   ]
  },
  {
   "cell_type": "code",
   "execution_count": 52,
   "metadata": {},
   "outputs": [
    {
     "name": "stdout",
     "output_type": "stream",
     "text": [
      "Parse progress: |████████████████████████████████████████████████████████████████| (done) 100%\n"
     ]
    }
   ],
   "source": [
    "# datos_h2o.describe()\n",
    "from h2o.automl import H2OAutoML\n",
    "train_as_df = h2o.as_list(datos_h2o,use_pandas=True)\n",
    "\n",
    "train = h2o.H2OFrame(train_as_df)\n",
    "\n",
    "x = train.columns\n",
    "y = \"price_dis\"\n",
    "x.remove(y)"
   ]
  },
  {
   "cell_type": "code",
   "execution_count": 13,
   "metadata": {},
   "outputs": [
    {
     "data": {
      "text/plain": [
       "Index(['distance', 'consume', 'speed', 'temp_inside', 'temp_outside',\n",
       "       'gas_type', 'AC', 'rain', 'sun', 'snow', 'temp_gradient', 'con_dis',\n",
       "       'price_dis', 'gas_price'],\n",
       "      dtype='object')"
      ]
     },
     "execution_count": 13,
     "metadata": {},
     "output_type": "execute_result"
    }
   ],
   "source": [
    "df.columns"
   ]
  },
  {
   "cell_type": "code",
   "execution_count": 53,
   "metadata": {},
   "outputs": [
    {
     "name": "stdout",
     "output_type": "stream",
     "text": [
      "AutoML progress: |███████████████████████████████████████████████████████████████| (done) 100%\n",
      "Model Details\n",
      "=============\n",
      "H2OStackedEnsembleEstimator :  Stacked Ensemble\n",
      "Model Key:  StackedEnsemble_BestOfFamily_1_AutoML_1_20220317_124457\n",
      "\n",
      "No model summary for this model\n",
      "\n",
      "ModelMetricsRegressionGLM: stackedensemble\n",
      "** Reported on train data. **\n",
      "\n",
      "MSE: 0.002027113384374124\n",
      "RMSE: 0.0450234759250563\n",
      "MAE: 0.01938249020739133\n",
      "RMSLE: 0.012270042052598252\n",
      "R^2: 0.9990698519911392\n",
      "Mean Residual Deviance: 0.002027113384374124\n",
      "Null degrees of freedom: 387\n",
      "Residual degrees of freedom: 386\n",
      "Null deviance: 845.5858483215557\n",
      "Residual deviance: 0.7865199931371603\n",
      "AIC: -1298.9469789365503\n",
      "\n",
      "ModelMetricsRegressionGLM: stackedensemble\n",
      "** Reported on cross-validation data. **\n",
      "\n",
      "MSE: 0.003350737858061228\n",
      "RMSE: 0.05788555828582141\n",
      "MAE: 0.021938003328787183\n",
      "RMSLE: 0.012846360808887762\n",
      "R^2: 0.9984625023094836\n",
      "Mean Residual Deviance: 0.003350737858061228\n",
      "Null degrees of freedom: 387\n",
      "Residual degrees of freedom: 386\n",
      "Null deviance: 847.4103524123551\n",
      "Residual deviance: 1.3000862889277565\n",
      "AIC: -1103.9506823221718\n"
     ]
    },
    {
     "data": {
      "text/plain": []
     },
     "execution_count": 53,
     "metadata": {},
     "output_type": "execute_result"
    }
   ],
   "source": [
    "# We can already train some models to then do some predictions and see how it works. As I don't have a lot of time to work with the dataframe I am going\n",
    "# to use H2O and use the AutoML function, as it follows,\n",
    "\n",
    "aml = H2OAutoML(max_models=10, seed=1)\n",
    "aml.train(x=x, y=y, training_frame=train)"
   ]
  },
  {
   "cell_type": "code",
   "execution_count": 62,
   "metadata": {},
   "outputs": [],
   "source": [
    "# create an iterator object with write permission - model.pkl\n",
    "with open('model_pkl', 'wb') as files:\n",
    "    pickle.dump(aml, files)"
   ]
  },
  {
   "cell_type": "code",
   "execution_count": null,
   "metadata": {},
   "outputs": [],
   "source": [
    "# We could use that to make predictions on the prices of the services of cobify and therefore ajust the prices and be better competidors\n",
    "# preds = aml.leader.predict(#new data), This would be teh way to make predictions on new data"
   ]
  }
 ],
 "metadata": {
  "interpreter": {
   "hash": "4034f9195f5552b4454ef60198efa491d941068725cfe9b8182a5b0158f58c43"
  },
  "kernelspec": {
   "display_name": "Python 3.8.12 ('ironhack')",
   "language": "python",
   "name": "python3"
  },
  "language_info": {
   "codemirror_mode": {
    "name": "ipython",
    "version": 3
   },
   "file_extension": ".py",
   "mimetype": "text/x-python",
   "name": "python",
   "nbconvert_exporter": "python",
   "pygments_lexer": "ipython3",
   "version": "3.8.12"
  },
  "orig_nbformat": 4
 },
 "nbformat": 4,
 "nbformat_minor": 2
}
