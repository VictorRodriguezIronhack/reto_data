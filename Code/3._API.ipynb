{
 "cells": [
  {
   "cell_type": "code",
   "execution_count": null,
   "metadata": {},
   "outputs": [],
   "source": [
    "from flask import Flask, request, Markup\n",
    "import fun_4api\n",
    "import pymongo\n",
    "import pandas as pd\n",
    "\n",
    "app = Flask(__name__)\n",
    "# The idea in this jupyter would be to create an API to interact with the users, where by adding the distance we want \n",
    "# to travel it returns the price of the gas, it should scrap the price of the gas and the weather in the place we are at\n",
    "\n",
    "# @app.route('/')\n",
    "# ..."
   ]
  }
 ],
 "metadata": {
  "language_info": {
   "name": "python"
  },
  "orig_nbformat": 4
 },
 "nbformat": 4,
 "nbformat_minor": 2
}
